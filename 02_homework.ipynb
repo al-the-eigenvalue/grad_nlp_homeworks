{
  "cells": [
    {
      "cell_type": "code",
      "source": [
        "%%capture\n",
        "!mkdir data\n",
        "!wget https://github.com/mannefedov/compling_nlp_hse_course/raw/master/data/lenta.txt.zip -P data\n",
        "!unzip -o data/lenta.txt.zip -d data/\n",
        "!pip install -U nltk"
      ],
      "metadata": {
        "id": "nlr9b8Al_QCi"
      },
      "id": "nlr9b8Al_QCi",
      "execution_count": 1,
      "outputs": []
    },
    {
      "cell_type": "code",
      "source": [
        "import gensim\n",
        "import numpy as np\n",
        "import re\n",
        "from collections import Counter\n",
        "\n",
        "import nltk\n",
        "nltk.download('punkt_tab')\n",
        "nltk.download('stopwords')\n",
        "from nltk import sent_tokenize\n",
        "from nltk.tokenize import word_tokenize\n",
        "from nltk.corpus import stopwords"
      ],
      "metadata": {
        "colab": {
          "base_uri": "https://localhost:8080/"
        },
        "id": "89COHFwF_kef",
        "outputId": "6d8ff049-292f-4abe-ffe9-432bc1a8e96e"
      },
      "id": "89COHFwF_kef",
      "execution_count": 2,
      "outputs": [
        {
          "output_type": "stream",
          "name": "stderr",
          "text": [
            "[nltk_data] Downloading package punkt_tab to /root/nltk_data...\n",
            "[nltk_data]   Unzipping tokenizers/punkt_tab.zip.\n",
            "[nltk_data] Downloading package stopwords to /root/nltk_data...\n",
            "[nltk_data]   Unzipping corpora/stopwords.zip.\n"
          ]
        }
      ]
    },
    {
      "cell_type": "code",
      "source": [
        "russian_stopwords = set(stopwords.words('russian'))\n",
        "corpus = open('data/lenta.txt').read()"
      ],
      "metadata": {
        "id": "BTrpzqPCQJlf"
      },
      "id": "BTrpzqPCQJlf",
      "execution_count": 3,
      "outputs": []
    },
    {
      "cell_type": "markdown",
      "id": "43fc8290",
      "metadata": {
        "id": "43fc8290"
      },
      "source": [
        "## Задание 1."
      ]
    },
    {
      "cell_type": "markdown",
      "id": "b06a5ace",
      "metadata": {
        "id": "b06a5ace"
      },
      "source": [
        "Посчитайте частоты для 5-грамм в корпусе lenta.txt. двумя способами:  \n",
        "1) lenta.txt -> sent_tokenize (russian) -> word_tokenize -> ngrammer  \n",
        "2) lenta.txt -> word_tokene(preserve_line=True) - ngrammer  \n",
        "    \n",
        "Проанализируйте топ-20 самых частотных нграмм и проверьте есть ли различия?"
      ]
    },
    {
      "cell_type": "code",
      "source": [
        "# удаляет знаки пунктуации и приводит к нижнему регистру\n",
        "def clean_tokenized_sentences(tokenized_sentences):\n",
        "    return [[token.lower() for token in sentence if not re.match('\\W+', token)]\n",
        "            for sentence in tokenized_sentences]"
      ],
      "metadata": {
        "id": "6SEiHrjxSVVL"
      },
      "id": "6SEiHrjxSVVL",
      "execution_count": 4,
      "outputs": []
    },
    {
      "cell_type": "code",
      "source": [
        "def ngrammer(tokens, n=2, stops=set()):\n",
        "    ngrams = []\n",
        "    tokens = [token for token in tokens if token not in stops]\n",
        "    for i in range(0,len(tokens)-n+1):\n",
        "        ngrams.append(' '.join(tokens[i:i+n]))\n",
        "    return ngrams"
      ],
      "metadata": {
        "id": "XjLw1eMZJUwb"
      },
      "id": "XjLw1eMZJUwb",
      "execution_count": 5,
      "outputs": []
    },
    {
      "cell_type": "code",
      "source": [
        "def get_ngram_counts(tokenized_sentences, n=2, stops=set()):\n",
        "    ngram_counts = Counter()\n",
        "    for sentence in tokenized_sentences:\n",
        "        ngram_counts.update(ngrammer(sentence, n, stops))\n",
        "    return ngram_counts"
      ],
      "metadata": {
        "id": "4ciOPtmGLi7S"
      },
      "id": "4ciOPtmGLi7S",
      "execution_count": 6,
      "outputs": []
    },
    {
      "cell_type": "code",
      "execution_count": 7,
      "id": "957f5656",
      "metadata": {
        "colab": {
          "base_uri": "https://localhost:8080/"
        },
        "id": "957f5656",
        "outputId": "99765cd2-fbf8-4851-8b79-94ddf6f7f00b"
      },
      "outputs": [
        {
          "output_type": "execute_result",
          "data": {
            "text/plain": [
              "[('риа новости со ссылкой на', 400),\n",
              " ('сообщает риа новости со ссылкой', 320),\n",
              " ('как сообщили риа новости в', 196),\n",
              " ('как сообщает риа новости со', 149),\n",
              " ('сообщает интерфакс со ссылкой на', 142),\n",
              " ('сообщает итар-тасс со ссылкой на', 118),\n",
              " ('об этом риа новости сообщили', 113),\n",
              " ('об этом сообщает риа новости', 104),\n",
              " ('этом риа новости сообщили в', 99),\n",
              " ('со ссылкой на источники в', 93),\n",
              " ('сообщили риа новости в пресс-службе', 88),\n",
              " ('группировки войск на северном кавказе', 84),\n",
              " ('как сообщает интерфакс со ссылкой', 83),\n",
              " ('объединенной группировки войск на северном', 83),\n",
              " ('новости со ссылкой на пресс-службу', 76),\n",
              " ('эхо москвы со ссылкой на', 76),\n",
              " ('этом сообщает риа новости со', 75),\n",
              " ('в связи с тем что', 70),\n",
              " ('по борьбе с организованной преступностью', 66),\n",
              " ('как сообщает итар-тасс со ссылкой', 58)]"
            ]
          },
          "metadata": {},
          "execution_count": 7
        }
      ],
      "source": [
        "## method 1\n",
        "sentences = sent_tokenize(corpus, language='russian')\n",
        "tokenized_sentences = [word_tokenize(sentence) for sentence in sentences]\n",
        "tokenized_sentences = clean_tokenized_sentences(tokenized_sentences)\n",
        "get_ngram_counts(tokenized_sentences, n=5).most_common(20)"
      ]
    },
    {
      "cell_type": "code",
      "source": [
        "## method 2\n",
        "tokenized_corpus = [word_tokenize(corpus, preserve_line=True)]\n",
        "tokenized_corpus = clean_tokenized_sentences(tokenized_corpus)\n",
        "get_ngram_counts(tokenized_corpus, n=5).most_common(20)"
      ],
      "metadata": {
        "colab": {
          "base_uri": "https://localhost:8080/"
        },
        "id": "pPi1xx6hNvjM",
        "outputId": "908f4016-4343-406a-9ef0-17f3b8a615f8"
      },
      "id": "pPi1xx6hNvjM",
      "execution_count": 8,
      "outputs": [
        {
          "output_type": "execute_result",
          "data": {
            "text/plain": [
              "[('риа новости со ссылкой на', 400),\n",
              " ('сообщает риа новости со ссылкой', 320),\n",
              " ('как сообщили риа новости в', 196),\n",
              " ('как сообщает риа новости со', 149),\n",
              " ('сообщает интерфакс со ссылкой на', 142),\n",
              " ('сообщает итар-тасс со ссылкой на', 118),\n",
              " ('об этом риа новости сообщили', 113),\n",
              " ('об этом сообщает риа новости', 104),\n",
              " ('этом риа новости сообщили в', 99),\n",
              " ('со ссылкой на источники в', 93),\n",
              " ('сообщили риа новости в пресс-службе', 88),\n",
              " ('как сообщает интерфакс со ссылкой', 83),\n",
              " ('объединенной группировки войск на северном', 83),\n",
              " ('эхо москвы со ссылкой на', 77),\n",
              " ('новости со ссылкой на пресс-службу', 76),\n",
              " ('этом сообщает риа новости со', 75),\n",
              " ('в связи с тем что', 70),\n",
              " ('как сообщает итар-тасс со ссылкой', 58),\n",
              " ('группировки войск на северном кавказе', 57),\n",
              " ('по борьбе с организованной преступностью', 55)]"
            ]
          },
          "metadata": {},
          "execution_count": 8
        }
      ]
    },
    {
      "cell_type": "markdown",
      "source": [
        "В результате способа 2 уменьшилось количество 5-грамм \"группировки войск на северном кавказе\" и \"по борьбе с организованной преступностью\"; количество 5-граммы \"эхо москвы со ссылкой на\" увеличилось на 1.\n",
        "\n",
        "Уменьшение количества 5-грамм вызвано тем, что word_tokenize отделяет точку только от слова, находящегося в списке последним ([документация](https://www.nltk.org/api/nltk.tokenize.destructive.html#nltk.tokenize.destructive.NLTKWordTokenizer)). Следовательно, если word_tokenize подается на вход весь корпус сразу, в список попадают новые токены с точками на конце и идут в учет разных 5-грамм.\n",
        "\n",
        "Увеличение вхождений одной из 5-грамм на 1 объяснимо тем, что первая часть \"нового\" вхождения находится в одном предложении, а вторая - в следующем, и между ними нет точки (или до точки еще какой-то знак препинания).\n",
        "\n",
        "Гипотеза подтвердилась:"
      ],
      "metadata": {
        "id": "kOcFWDYuZTdX"
      },
      "id": "kOcFWDYuZTdX"
    },
    {
      "cell_type": "code",
      "source": [
        "for i in range(len(sentences) - 1):\n",
        "    cleaned_sent1 = re.sub('[^а-яА-ЯЁё ]+', '', sentences[i].lower())\n",
        "    cleaned_sent2 = re.sub('[^а-яА-ЯЁё ]+', '', sentences[i+1].lower())\n",
        "    if cleaned_sent1.endswith('эхо москвы') and cleaned_sent2.startswith('со ссылкой'):\n",
        "        print(f'Предложение {i}: {sentences[i]}')\n",
        "        print(f'Предложение {i+1}: {sentences[i+1]}')"
      ],
      "metadata": {
        "colab": {
          "base_uri": "https://localhost:8080/"
        },
        "id": "cILlB4UhegtX",
        "outputId": "b5718b71-3a89-488c-8ebf-871527de137b"
      },
      "id": "cILlB4UhegtX",
      "execution_count": 9,
      "outputs": [
        {
          "output_type": "stream",
          "name": "stdout",
          "text": [
            "Предложение 64063: Видимо, \"Манчестеру\", который после отъезда в Португалию Петера Шмейхеля никак не определится с основным вратарем, придется поискать стража ворот в другом месте.Пресс-служба Министерства обороны России опровергает информацию, распространенную в среду газетой \"Аргументы и факты\", о возможной дате начала бомбардировок талибских баз в Афганистане, сообщает \"Эхо Москвы\".\n",
            "Предложение 64064: Со ссылкой на источники в Минобороны России газета сообщала о том, что бомбежки могут начаться уже 8 июня - по окончании визита Клинтона в Москву.\n"
          ]
        }
      ]
    },
    {
      "cell_type": "code",
      "source": [
        "test = 'Видимо, \"Манчестеру\", который после отъезда в Португалию Петера Шмейхеля никак не определится с основным вратарем, придется поискать стража ворот в другом месте. Пресс-служба Министерства обороны России опровергает информацию, распространенную в среду газетой \"Аргументы и факты\", о возможной дате начала бомбардировок талибских баз в Афганистане, сообщает \"Эхо Москвы\".\\nСо ссылкой на источники в Минобороны России газета сообщала о том, что бомбежки могут начаться уже 8 июня - по окончании визита Клинтона в Москву.'\n",
        "print(word_tokenize(test, preserve_line=True))"
      ],
      "metadata": {
        "colab": {
          "base_uri": "https://localhost:8080/"
        },
        "id": "KFrt7t9jemgC",
        "outputId": "2ef7fbb3-a8ea-4c7d-eec0-b471ab23af97"
      },
      "id": "KFrt7t9jemgC",
      "execution_count": 10,
      "outputs": [
        {
          "output_type": "stream",
          "name": "stdout",
          "text": [
            "['Видимо', ',', '``', 'Манчестеру', \"''\", ',', 'который', 'после', 'отъезда', 'в', 'Португалию', 'Петера', 'Шмейхеля', 'никак', 'не', 'определится', 'с', 'основным', 'вратарем', ',', 'придется', 'поискать', 'стража', 'ворот', 'в', 'другом', 'месте.', 'Пресс-служба', 'Министерства', 'обороны', 'России', 'опровергает', 'информацию', ',', 'распространенную', 'в', 'среду', 'газетой', '``', 'Аргументы', 'и', 'факты', \"''\", ',', 'о', 'возможной', 'дате', 'начала', 'бомбардировок', 'талибских', 'баз', 'в', 'Афганистане', ',', 'сообщает', '``', 'Эхо', 'Москвы', \"''\", '.', 'Со', 'ссылкой', 'на', 'источники', 'в', 'Минобороны', 'России', 'газета', 'сообщала', 'о', 'том', ',', 'что', 'бомбежки', 'могут', 'начаться', 'уже', '8', 'июня', '-', 'по', 'окончании', 'визита', 'Клинтона', 'в', 'Москву', '.']\n"
          ]
        }
      ]
    },
    {
      "cell_type": "markdown",
      "id": "b5781f34",
      "metadata": {
        "id": "b5781f34"
      },
      "source": [
        "## Задание 2."
      ]
    },
    {
      "cell_type": "markdown",
      "id": "4292716e",
      "metadata": {
        "id": "4292716e"
      },
      "source": [
        "Найдите какую-то инетересную (по вашему мнению) закономерность на https://books.google.com/ngrams/ для русского языка (с 1990 по 2022)\n",
        "\n",
        "Вставьте сюда скриншот"
      ]
    },
    {
      "cell_type": "markdown",
      "source": [
        "![ngrams.png](data:image/png;base64,iVBORw0KGgoAAAANSUhEUgAACPgAAAL5CAIAAACos5+VAAAAAXNSR0IArs4c6QAAAARnQU1BAACxjwv8YQUAAAAJcEhZcwAAFiUAABYlAUlSJPAAAP+lSURBVHhe7P37f9XVnS/wf/+C7y/n8TiPx9dpO3Nm5kzPOTNzpjen7UxnpiNWa2tvdnof26b3nFIHW1rQCoiUm4iICF64RQXCXURQQLzLRcQLEEISoiEJhEACCSTZeyc7e+e75PNxEzegKAlkJ8/nYz14fPZa788lGxSyX1lr/X96AAAAAAAAoAAJugAAAAAAAChIgi4AAAAAAAAKkqALAAAAAACAgiToAgAAAAAAoCAJugAAAAAAAChIgi4AAAAAAAAKkqALAAAAAACAgiToAgAAAAAAoCAJugAAAAAAAChIgi4AAAAAAAAKkqALAAAAAACAgiToAgAAAAAAoCAJugAAAAAAAChIgi4AAAAAAAAKkqALAAAAAACAgiToAgAAAAAAoCAJugAAAAAAAChIgi4AAAAAAAAKkqALAAAAAACAgiToAgAAAAAAoCAJugAAAAAAAChIgi4AAAAAAAAKkqALAAAAAACAgnQxgq6mpqaSkpLhw4cXFxfPmjWroqIim83GY2cTRg8cODBnzpxQH86aP39+fX19PHbKhRe0tbVNnz696J1CT+iPCi78FmH0zjvvDJcNX3JjY2PcCwAAAAAAQB/p96CrsbFxwoQJxcXFkydPnjp16vDhw0eOHFlRUREPn01VVVWoCZWhPpwVzg1XaGhoiIf7oqC5uXnixImhZtq0aXe8beHChe3t7VHBBd6itbU1XHnVqlV1dXULFiyYN29eKpUK/TU1NWvWrEkkElEZAAAAAAAAH1j/Bl3ZbHbDhg1FRUUbN24Mx6GnvLx8xIgRueDnTOl0evHixcXFxTt37gynBFu3bg1XWL16dSaT6ZOCoKGhYcyYMaWlpaE46untwm9RXV09bty4KPeqrKwcO3bs4cOHw5dcUlKyadOmUP/WbQAAAAAAALgA/Rt0JZPJuXPnjh49uq6uLuppb2+fMWPG+PHjjxw5EvXkaWlpmXpKOIh6QmWoD2dF060uvCCoqqoqKipat25d9DLPhd/irEHX9u3bZ86c2draeuoMAAAAAAAALkj/Bl3RVli9A6HOzs4HH3ywuLi4uro66slz+PDhsWPHzp07N5lMRj3RRca/nY1deEHw2muvFRUVzZ49e/LkyeFgwoQJ27dvz833uvBb5C1deO+99zY0NISesrKyqB4AAAAAAIALdDGCriAcRD1R0FVUVFRVVRX15IkypFATKqOe6CKhMwz1SUGwZcuW8AzRHl3RDlvBtm3bokUF++QWtbW1s2bNCncJvzY0NKxdu3bRokW5egAAAAAAAC7QEA26EolEdXX1sWPHwnE2m927d++IESOmTZsWrSvYJ7foraamZtKkSdFKhu9iwbllAAAAAAAYYOLPdoFLZ4gGXXmSp/YSyy2o2Le3SCQS4eKbNm1qbm6eP39+uMvkyZPPunJjHGqdTUdHRzsAAAAAAANGbmsb4BK6GEHXxIkTm5ubo57O89uja/bs2YlEIuqJLpK3P9aFFJwpeqpc/Na3t9i2bdvMmTOPHj06b968BQsW1NXVrVq1asqUKbn3JCfKtM4qDQAAAADAABN/tgtcOv0bdEUzpUaPHl1XVxf1tLe3z5gx410yp5aWlqmnhIOoJ1SG+nBWOLdPCsKvCxcuvP/++6OlC4O8GV0XfoucpqamKVOmlJWVRQWVlZWhs6GhYcyYMeea0wYAAAAAAMD56N+gK9i4cWNRUdH69euj5UrLy8tHjBgxb968VCoVFYSD2tra3BqA6XS6tLS0uLh427Zt2VO2bt0arrB69eroCn1SsHz58tAT+sNo6KmoqBg5cmRuj64Lv0UkHK9du3bp0qWhXtAFAAAAAADQt/o96Gpqapo0aVLxqY2ppk6dOnz48JEjR1ZUVESjucxp48aNUU9QU1MTakJlqA9nhXMnTJjQ0NAQD/dFQTgOPb2fKhxHqVVUcOG3CNrb25cuXRp1plKpaOnC8HLNmjVnXboQAAAAAACA89fvQVdw7NixkpKSkSNHFhcXz5o1q6KiIpcnhYPNmzePGDFix44dUU+ktrb2vvvuG37K/Pnz6+vr44G3XXhBU1NTaWnpWZ8qcuG3yBPeh1AWbjd58uRzbVEGAAAAAADAeboYQRcAAAAAAAD0OUEXAAAAAAAABUnQBQAAAAAAQEESdAEAAAAAAFCQBF0AAAAAAAAUJEEXAAAAAAAABUnQBQAAAAAAQEESdAEAAAAAAFCQBF0AAAAAAAAUJEEXAAAAAAAABUnQBQAAAAAAQEESdAEAAAAAAFCQBF0AAAAAAAAUJEEXAAAAAAAABUnQBQAAAAAAQEESdAEAAAAAAFCQBF0AAAAAAAAUJEEXAAAAAAAABUnQBQAAAAAAQEESdAEAAAAAAFCQBF0AAAAAAAAUJEEXAAAAAAAABUnQBQAAAAAAQEESdAEAAAAAAFCQBF0AAAAAAAAUJEEXAAAAAAAABUnQBQAAAAAAQEESdAEAAAAAAFCQBF0AAAAAAAAUJEEXAAAAAAAABUnQBQAAAAAAQEESdAEAAAAAAFCQBF0AAAAAAAAUJEEXAAAAAAAABUnQBQAAAAAAQEESdAEAAAAAAFCQBF0AAAAAAAAUJEEXAAAAAAAABUnQBQAAAAAAQEESdAEAAAAAAFCQBF0AAAAAAAAUJEEXAAAAAAAABUnQBQAAAAAAQEESdAEAAAAAAFCQBF0AAAAAAAAUJEEXAAAAAAAABUnQBQAAAAAAQEESdAEAAAAAAFCQBF0AAAAAAAAUJEEXAAAAAAAABUnQBQAAAAAAQEESdAEAAAAAAFCQBF0AAAAAAAAUJEEXAAAAAAAABUnQBQAAAAAAQEESdAEAAAAAAFCQLkbQ1dTUVFJSMnz48OLi4lmzZlVUVGSz2XjsbMLogQMH5syZE+rDWfPnz6+vr4/HTrnwgpxQuW3btlA2ffr0tra2uLenJxyHnqJ36l3znrcIo3feeWc4K3zJjY2NcS8AAAAAAAB9pN+DrsbGxgkTJhQXF0+ePHnq1KnDhw8fOXJkRUVFPHw2VVVVoSZUhvpwVjg3XKGhoSEe7ouCnNAZhvJCrKC5uXnixInhItOmTbvjbQsXLmxvb48K3v0Wra2t4cRVq1bV1dUtWLBg3rx5qVQq9NfU1KxZsyaRSERlAAAAAAAMJjdsSl6xuGPy1s74dS8nUtmfP/7WaKiJu95/PZCnf4OubDa7YcOGoqKijRs3huPQU15ePmLEiFzwc6Z0Or148eLi4uKdO3eGU4KtW7eGK6xevTqTyfRJQU54hocffjgMBXlBV0NDw5gxY0pLS8PV4q5e3vMW1dXV48aNi3KvysrKsWPHHj58ONyupKRk06ZNof7UZQAAAAAAGFTeJbi6/7WuYYs7zj/oOms9kKd/g65kMjl37tzRo0fX1dVFPe3t7TNmzBg/fvyRI0einjwtLS1TTwkHUU+oDPXhrGg21YUX5Gzfvr24uHjp0qVjxozJC7qqqqqKiorWrVsXv36n97zFWYOucLuZM2e2traeOgMAAAAAgMHmXMHV3qbMdasSYeg8g65z1QN5+jfoina66h0IdXZ2Pvjgg8XFxdXV1VFPnsOHD48dO3bu3LnJZPyfbnSRXDZ24QWRaE3FkpKSmpqaUJ8XdL322mtFRUWzZ8+ePHlyOAiV27dvz00Ie89b5C1deO+99zY0NISesrKyqB4AAAAAgMHnrMFVNtsz6ulUlFrlBVfvtx7IczGCrt4ZUhR0FRUVVVVVRT15ogwp1ITKqCe6SOgMQ31SEIShRYsWhZ6GhoaovvdDBlu2bAkPGe3RFW3BFWzbti1adfB8blFbWztr1qxwkfBruMvatWvDHXP1AAAAAAAMPmcNrh7bn766tOOapR0/Xf/W6HsGXe9SD+QZokHXq6++WlxcvHXr1mw2G9X3fsggkUhUV1cfO3YsHIeavXv3jhgxYtq0adHCg+dzi95qamomTZoUrWT4LhacWwYAAAAAgAEm/my3lzODq8Pt2evXvrUI4bjnU5O2dL5n0PXu9UCeoRh0NTU1TZo0qaSkJJVKhZdRfe+HPFO02Vjx2ysuvuctekskEuHcTZs2NTc3z58/P1xk8uTJZ125MQ61zqajo6MdAAAAAIABI7e1TW9nBlczX+4ctrjjW6sTb7ZkQv97Bl3vXg/kuRhB18SJE5ubm6OeKOjKJUZnijKk2bNnJxKJqCe6SN4WXBdSsG7duqJzWLt2bXRKnuixQ0GUz73nLXrbtm3bzJkzjx49Om/evAULFtTV1a1atWrKlCm59yQnyrTOqhsAAAAAgAEm/my3l7zg6pXD3V9dkfjCko7FZV3h5XsGXe9ZD+Tp36Armgg1evTourq6qKe9vX3GjBlnDYQiLS0tU08JB1FPqAz14axwbp8UPPnkk3f0Em3BNXz48HBKGAoFoWzhwoX3339/tHRhkDej6z1vkdPU1DRlypSysrKooLKyMnQ2NDSMGTPmXHPaAAAAAAAoUL2Dq0Q6fln8RDIcB+8edJ1PPZCnf4OuYOPGjUVFRevXr4+WKy0vLx8xYsS8efOiZQODcFBbW5tbAzCdTpeWlhYXF2/bti17ytatW8MVVq9eHV3hwgvyRNOzpvdaujBcYfny5eGUaBOv0FNRUTFy5MjcHl3neYtwvHbt2qVLl4Z6QRcAAAAAwKDXO7haXNb1hSUd1y5PbD0Yz/1696DrfOqBPP0edEUbYhWf2phq6tSpw4cPHzlyZEVFRTSai5Q2btwY9QQ1NTWhJppiFU23mjBhQkNDQzzcFwW9nRl0BaE4nNL7scNxFGtFBedzi/b29qVLl0adqVQqWrowvFyzZs1Zly4EAAAAAKCg5YKr+pPZ769JDFvccfu2eJpH8C5B13nWA3n6PegKjh07VlJSMnLkyOLi4lmzZlVUVOTionCwefPmESNG7NixI+qJ1NbW3nfffcNPmT9/fn19fTzwtgsvyDlr0BU0NTWVlpae9bEj53+LSHgfQlkUnp1rizIAAAAAAApXFFxN2tI5cctbGdX1axOH209/sHyuoOv864E8FyPoAgAAAACAoSAKrn7xePJLyzq+sKRjVcWpvbbedq6g6/zrgTyCLgAAAAAAeH/aOt+xAFhOFFxF7XebU6l35FbnDLrOvx7II+gCAAAAAID3oaY187UViZX73plKnZILrq5bmdh9JBP3vu1dgq7zrAfyCLoAAAAAAOB87T/+VsoVpVN5Kw0GUXA1bHHH/a91xV29nCvoOv96II+gCwAAAAAAzsv+45lrl8cp13+sShxuz1/AMAqufvxYsjlxlrUNzxV0nX89kEfQBQAAAAAA762i+R0p18GTZ9+mC7iYBF0AAAAAAPAeKpozX172VsQl5YIBRdAFAAAAAADvpqzpdMp13UopFwwggi4AAAAAADinsqbMNUtPp1y1JzLxADAACLoAAAAAAODsXm/slnLBQCboAgAAAACAs3i9sfvq0jjl+toKKRcMRIIuAAAAAADI98rh7i++PZfraysSb7ZIuWAgEnQBAAAAAMA75M3lknLBgCXoAgAAAACA03Y0dEcRV2jXLk/sPy7lgoFL0AUAAAAAALGdh7uv6jWXS8oFA5ygCwAAAAAA3pKXctW0SrlgoBN0AQAAAACAlAsKkqALAAAAAIChTsoFBUrQBQAAAADAkLbtkJQLCpWgCwAAAACAoWvboe4vLIlTrm+slHJBgRF0AQAAAAAwROWlXHUnpFxQYARdAAAAAAAMRVIuGAQEXQAAAAAADDlSLhgcBF0AAAAAAAwtL9RJuWCQEHQBAAAAADCEvFDXfeXbKdc3V0m5oLAJugAAAAAAGCryUq6Gtmw8ABQmQRcAAAAAAEOClAsGH0EXAAAAAACDn5QLBiVBFwAAAAAAg9zTB6RcMDgJugAAAAAAGMyePtA97FTEFdq3H5FywaAi6AIAAAAAYNDKS7ka26VcMKgIugAAAAAAGJykXDDoCboAAAAAABiEpFwwFAi6AAAAAAAYbKRcMEQIugAAAAAAGFQ2vpmWcsEQIegCAAAAAGDw6J1yfW+NlAsGOUEXAAAAAACDRF7K1dQh5YJBTtAFAAAAAMBgIOWCIUjQBQAAAABAwZNywdAk6AIAAAAAoLCt2y/lgiFK0AUAAAAAQAFbtz8dRVyh/eBRKRcMLYIuAAAAAAAKVV7KdTwp5YKhRdAFAAAAAEBBknIBgi4AAAAAAAqPlAsIBF0AAAAAABSYRyqlXMBbBF0AAAAAABSS3inXjx5LSrlgKBN0AQAAAABQMPJSrtaUlAuGNEEXAAAAAACFQcoF5BF0AQAAAABQAKRcwJkEXQAAAAAADHTLyrukXMCZBF0AAAAAAAxovVOun6yTcgGnCboAAAAAABi48lKuk51SLuA0QRcAAAAAAAOUlAt4d4IuAAAAAAAGIikX8J4EXQAAAAAADDhSLuB8CLoAAAAAABhYSnZLuYDzcjGCrqamppKSkuHDhxcXF8+aNauioiKbfbf/K4XRAwcOzJkzJ9SHs+bPn19fXx+PnXLhBTmhctu2baFs+vTpbW1tcW9f3CKM3nnnnUVFReFLbmxsjHsBAAAAAHhX9716OuX6xeNSLuDd9HvQ1djYOGHChOLi4smTJ0+dOnX48OEjR46sqKiIh8+mqqoq1ITKUB/OCueGKzQ0NMTDfVGQEzrDUFFRUV7QdYG3aG1tnTZt2qpVq+rq6hYsWDBv3rxUKhX6a2pq1qxZk0gkojIAAAAAAHrLS7k6uqRcwLvp36Arm81u2LChqKho48aN4Tj0lJeXjxgxIhf8nCmdTi9evLi4uHjnzp3hlGDr1q3hCqtXr85kMn1SkBOe4eGHHw5DQe+g68JvUV1dPW7cuCj3qqysHDt27OHDh8PtSkpKNm3aFOrfug0AAAAAAL3Me/10yvXLJ6RcwHvr36ArmUzOnTt39OjRdXV1UU97e/uMGTPGjx9/5MiRqCdPS0vL1FPCQdQTKkN9OCuc2ycFOdu3by8uLl66dOmYMWN6B10XfouzBl3hdjNnzmxtbT11BgAAAAAAp83vlXL96olku5QLOA/9G3S1tbVNnz69dyDU2dn54IMPFhcXV1dXRz15Dh8+PHbs2Llz5yaTyagnusj4t7OxCy+IRGsqlpSU1NTUhPreQdeF3yJv6cJ77723oaEh9JSVlUX1AAAAAADkzH3tHXO5pFzAeboYQVeQy5CioKuoqKiqqirqyRNlSKEmVEY90UVCZxjqk4IgDC1atCj0NDQ0RPW9H7JPblFbWztr1qzwlYZfw13Wrl0b7pirBwAAAAAgMueVzlzKVSzlAt6PIRp0vfrqq8XFxVu3bs1ms1F974fsk1v0VlNTM2nSpGglw3ex4NwyAAAAAACD0cwdqdMp14Zke2fcXxDiz3aBS2coBl1NTU2TJk0qKSlJpVLhZVTf+yEv/Ba9JRKJuXPnbtq0qbm5ef78+cXFxZMnTz7ryo1xqHU2HR0d7QAAAAAAg0hbe/vULXHEFdqvn+hoPlFIH4TmtrYBLqGLEXRNnDixubk56uk8vz26Zs+enUgkop7oInn7Y11Iwbp164rOYe3ataHgwm/R27Zt22bOnHn06NF58+YtWLCgrq5u1apVU6ZMyb0nOVGmdVbdAAAAAACDSLq7e/KW03O5btycSnRl4rHCEX+2C1w6/Rt0JZPJuXPnjh49uq6uLuppb2+fMWPGWQOhSEtLy9RTwkHUEypDfTgrnNsnBU8++eQdvUyePLm4uHj48OHhlDAUCi78FjlNTU1TpkwpKyuLCiorK0NnQ0PDmDFjzjWnDQAAAABgcMtkeya8+I6Uq8sqgMAH0r9BV7Bx48aioqL169dHy5WWl5ePGDFi3rx50bKBQTiora3NrQGYTqdLS0uLi4u3bduWPWXr1q3hCqtXr46ucOEFeaLpWdN7LV3YV7cIx2vXrl26dGmoF3QBAAAAAASZbM/Y50+nXKOfkXIBH1y/B13RhljFpzammjp16vDhw0eOHFlRURGNptPp5cuXFxUVbdy4MeoJampqQk00xSqabjVhwoSGhoZ4uC8Kejsz6Ar65Bbt7e1Lly6NOlOpVLR0YXi5Zs2asy5dCAAAAAAwuHW/M+Ua81wq9AB8YP0edAXHjh0rKSkZOXJkcXHxrFmzKioqstn4f13hYPPmzSNGjNixY0fUE6mtrb3vvvuGnzJ//vz6+vp44G0XXpBz1qAr6MNbRML7EMrCmzB58uRzbVEGAAAAADBYpTM9Nz9zOuWauKXz7Y+KAT6gixF0AQAAAAAwxHVlen7/1OmUa9r2TiEXcOEEXQAAAAAA9K9kumf4xmQu5XprLlc8AnBBBF0AAAAAAPSjjq7sr544nXLdtUPKBfQZQRcAAAAAAP3lRCr7s/WnU67Zr3TGAwB9QdAFAAAAAEC/aElmr1+byKVcC3d1xQMAfUTQBQAAAABA32tOZL//6OmUa+W+dDwA0HcEXQAAAAAA9LEj7dnvrolTrmGLOx6tknIB/ULQBQAAAABAXzp4Mvut1adTrs01Ui6gvwi6AAAAAADoM2+0ZL6+8u2Ua0nHs7Xd8QBAPxB0FYa2VGbPoUT8AgAAAABgQNrblLl2eZxyfWFJx4v1Ui6gfwm6CkBXd/Zrc974q1vKdtR0xF0AAAAAAAPMK4e7r1n6VsQV2tWlHS8dknIB/U7QVQBGLK////1hd2h/cfOeZypPxr0AAAAAAAPGi/XdV5XGKdeXlnXsPpKJBwD6k6CrAJQfTv6fW/dGWdeHR+9Zv+dEPAAAAAAAMABsrkkPWxKnXF9dkag8JuUCLhJBV2Goae785KR9UdZ12ajdi146Fg8AAAAAAFxSj1alh52KuEK7blXiQKuUC7h4BF0Fo/Fk+rNTK6KsK7SZTx2JBwAAAAAALpFFZV1RxBXad9ckDrdl4wGAi0LQVUiOd3RfcWdVLuu6ec2heAAAAAAA4OLK9vTc/XJnLuW6fm2iOSHlAi42QVeBaUtlvjSrOpd1/dey+qy/OwAAAACAiyub7Zmy7XTK9bP1yRMpn1QCl4Cgq/AkuzLfnfdmLuv66UMHurr9FQIAAAAAXCRdmZ6bn03lUq4bNiU7unxECVwagq5C9ctFtbms6ztz3+zotMEjAAAAANDvkumeGzYlcynXH55OdflsErh0BF2FKpvt+a9l9bms6wt37T/e0R2PAQAAAAD0gxOp7C8eP51yTXgxZbUp4NISdBW2iY8fzmVd/3R75aGWrngAAAAAAKBPHe3IXr82kUu57n65U8gFXHKCroK3YEvzZaPirOtjE8r3H03FAwAAAAAAfeTgyey3Vp9OuR7e42fugQFB0DUYrHm95cOj90RZ10fH7X21riMeAAAAAAC4YBXHMl9bEadcwxZ3rNufjgcALjVB1yDxbGXbX91SFmVd/+OPZeFlPAAAAAAAcAFeOtT9xaXxRK6rSjuer+uOBwAGAEHX4LHnUOL/3Lo3yro+PHrPmtdb4gEAAAAAgA9kc0162JI45bpmWcfrRzLxAMDAIOgaVGqaOz85aV+UdV02avfsZ4/GAwAAAAAA79NDe7qiiCu061Ym9h+XcgEDjqBrsGk8mf6XaZVR1hXa6NWHstl4CAAAAADgfGSzPdO2d+ZSru+tSTS2+5wRGIgEXYPQiWT3tbOrc1nXj0sOdKb9JQQAAAAAnJeuTM/oZ1K5lOsXjydbUj5gBAYoQdfg1JnO/mB+TS7runZ2dVvKtGIAAAAA4D2c7Mz+ekMyl3Ld+GQylY6HAAYgQdeglcn23LiiPpd1fX561ZGT/kYCAAAAAM7pSHv2B48mcinX+BdSaT8/Dwxsgq5BbsbmI7ms6xMT91UfTcUDAAAAAAC9VB7LfGPl6ZTr/le74gGAAUzQNfiterXlz0bFWddHx+7deaAjHgAAAAAAOGXbwe4vLo0jrmFLOja+aXUooDAIuoaEpypO/sXNe6Ks689v3rN2V2s8AAAAAAAMeev2p4e9PZHrmmUdOxq64wGAAU/QNVS8Xp/437fujbKuy0btvu/5pngAAAAAABiqsj099+zsjCKu0L6xMvFGi125gEIi6BpCapo7Pzu1Isq6Qhu9+lA2/D0GAAAAAAxJqXTPTc+kcinXD9cmjrT7xBAoMIKuoaWlo/uLd+/PZV0/LjmQSvurCwAAAACGnOZE9qfrk7mU69cbku1dPioECo+ga8hJpbM/LjmQy7q+ePf+lg5L7gIAAADAELL/eOa6VYlcyjX+hVTagoVAYRJ0DUXZbM/o1YdyWddnplQcONYZjwEAAAAAg9qztd1fXBpHXMMWdywq64oHAAqQoGvouv/5pstGxVnX/xq396Wa9ngAAAAAABikFu7qyk3kumZZx4v1VnsCCpuga0hbv+fEX9y8J8q6PnLTnjWvt8QDAAAAAMDgkkz33PxsKpdyfWt14s0W6xUCBU/QNdTtOpj42/HlUdYV2h2bGuMBAAAAAGCwONSW/dFjyVzK9YvHky3JbDwGUMgEXfQcbOn659src1nXrxbXdXX7Sw4AAAAABokdDd3XLk/kUq5xz6e6TOUCBgtBF285kez+2pw3clnXl++pPtaejscAAAAAgIL10J6uYW9HXFcu6Vha3hUPAAwKgi5iXd3ZXy2uy2Vdn5q0r7IxFY8BAAAAAIXmZGf2D0+f3pTrqysSrzZ2x2MAg4Wgi3eY/uSRy0bFWddf31L2TOXJeAAAAAAAKBx7jma+tfr0coU/eizZ2G6/EmAQEnSRb8PeE39x854o6/rQ6D0LtjbHAwAAAABAIViwqysXcYU27vlU0kYlwCAl6OIs9hxK/P1t5VHWFdrIlQe7M37cAwAAAAAGuuZE9oZNyVzE9cWlHY9WybiAwUzQxdk1nuj69zurclnXdfe90ZqwgC8AAAAADFwvN3R/bcU7liusac3EYwCDlKCLc0p0Zf5zQU0u6/rHyRX7j6biMQAAAABgwEhneua80jns7YgrtNu3dXb6wXVgCBB08W6y2Z5JTxzOZV1/fUvZ5n0n4zEAAAAAYAA43J79+eOnlyu8ZlnHM7UyLmCoEHTx3tbuav2Lm/dEWdefjdp9zzNH4wEAAAAA4JJ6prb7y8tOT+T6+ePJQ2222weGEEEX52XPocTH/rQvN7Xrpw8dSHZZ3hcAAAAALpnO7p5p2ztzEVdo9+zsTPvQDhhiBF2cr6a29DV3789lXZ+fXlV/vCseAwAAAAAuoroTmR89dnq5wq+tSGw7ZLlCYCgSdPE+dHVnf11al8u6Pjpu7wvVbfEYAAAAAND/MtmexWVdX1x6eiLX8I3J5oTlCoEhStDF+7ZgS/OHR9uyCwAAAAAutjdbMj9df3oi17AlHQt3dWWEXMAQJujig9hZ2/F348tzU7ts2QUAAAAA/Sqd6Zn3etcXlpyeyPXNVYk9R30oBwx1FyPoampqKikpGT58eHFx8axZsyoqKrLZd/sZgzB64MCBOXPmhPpw1vz58+vr6+OxUy68IJPJ7Ny5c9q0aUVFRVFBXV1d76dqa2ubPn16GO0t9IT+qOA9bxFG77zzznBW+JIbGxvj3kGk8WT66pmnt+z61zsq32xKxWMAAAAAQN+pOJa5fm0iF3GFNmVr58lOM7kA+j/oamxsnDBhQnFx8eTJk6dOnTp8+PCRI0dWVFTEw2dTVVUVakJlqA9nhXPDFRoaGuLhCy7IZDLr168vKioKNdOmTYsKwnE4KyoImpubJ06cGBXc8baFCxe2t7dHBe9+i9bW1nDiqlWr6urqFixYMG/evFTqrRCopqZmzZo1iUQiKit0Xd3Z3yw9vWXXX91S9tju1ngMAAAAALhgyXTPrJc7h/WayPWdRxKvNXbHwwBDXv8GXdlsdsOGDUVFRRs3bozmS5WXl48YMSIX/JwpnU4vXry4uLh4586d4ZRg69at4QqrV6/OZN6ah3vhBYcPHx47dmwul8oVlJaWhnNDTxCGxowZ07unt/e8RXV19bhx46LrV1ZWhtuFm4YvuaSkZNOmTaH+1GUGieU7j//VLWW5uOuWRw+lrQoMAAAAABfstcbu7zxyeiLXsCUdd7/cmTzLB5YAQ1f/Bl3JZHLu3LmjR4+uq6uLetrb22fMmDF+/PgjR45EPXlaWlqmnhIOop5QGerDWdFsqgsvaGxsXL9+/fbt23MhVlVVVVFR0YMPPtjZ2dm7Z926ddHLPO95i7MGXeGOM2fObG0dhHOeapo7r5hRlcu6vnxPdd3x+J0EAAAAAN6v9q7s1G2duYgrtOvXJiqO2ZELIF//Bl3RTle9A6HOzs4HH3ywuLi4uro66skTTbeaO3duMpmMeqKL5LKxCy/I097e/tBDD4VH2r59e9zV0/Paa68VFRXNnj178uTJ4WDChAlhNJqtFbznLfKWLrz33nsbGhpCT1lZWVQ/+HSmszc/ciiXdX107N5Hd1nGEAAAAADet22Huq9bdXoi11WlHfNf70oLuQDO5mIEXUE4iHqioKuoqKj3hli9RRlS78lV0UVCZxjqk4KctWvXhicJRowYsXXr1lyOFWzZsiX0997EK9i2bVu06uD53KK2tnbWrFnhIuHXhoaGcK9Fixbl6gerx/ec+Oi4vbm464Zl9W0pfwMDAAAAwHlpTWVvfSGVi7hC+8XjyTdbfMIGcE5DOujatWvXqlWrpkyZEp5nzpw5J06ciAd6ehKJRHV19bFjx8JxNpvdu3fviBEjpk2bFi08eP63iNTU1EyaNClayfBdLDi3t/YBKxCHT3R9bc4buazrHydXvHygPR4DAAAAAM5hQ3XX11acnsh1zdKO0r2dmUw8ysAUf7YLXDpDOuiKhP8Zbd26NTzS6tWre0/q6i3abKz47RUX39ctEolEOHfTpk3Nzc3z588PF5k8efJZV26MQ62z6ejoaC8cJ9vap288+JGb9kRZ14dH75nyeP2J0AsAAAAAnGH3ofZfrW/PRVyhDd/QXn0kHmXAym1tA1xCFyPomjhxYnNzc9QTBV25xOhMUYY0e/bsRCIR9UQXyduC60IKzhSdEmpCZdz1TtFj5/K593WLbdu2zZw58+jRo/PmzVuwYEFdXV00jSz3nuREmdZZpQvQq7Vtn51akZva9eVZ+2ubEvEYAAAAAJBON5zomvBCcliviOva5Yk1Fal4mAEv/mwXuHT6N+iKJkKNHj26rq4u6mlvb58xY8a7ZE4tLS1TTwkHUU+oDPXhrHBunxRUV1evX79+165d0WiQF3SFsoULF95///3R0oVB3oyu97xFTlNT05QpU8rKyqKCysrK0NnQ0DBmzJhzzWkbTBJdmRtX1Oeyro+O3fvorrfWfgQAAACAIa6jK3v/q11Xl56OuK5c0jH9pc6WlNXwAN6H/g26go0bNxYVFa1fvz5aFbC8vHzEiBHz5s1LpVJRQTiora3NrQGYTqdLS0uLi4u3bdsWLXKat67ghRfU1NSEZ5gxY0a04VauIJwVJfDh1+XLl4ee0B9GQ09FRcXIkSNze3S95y0i4Xjt2rVLly4N9UMz6Io8UXbio2P35uKuG5bVt3eefpcAAAAAYEjpzvasqkh/Y+Xp7bhCu/HJZO0JH5oBvG/9HnQ1NTVNmjSp+NTGVFOnTh0+fPjIkSMrKiqi0VyktHHjxqgnqKmpCTWhMtSHs8K5EyZMaGhoiIcvuKCzs3PJkiXhpjfddNMdd9xx1iuE49DT+7HDcRRrRQXv+QxBe3v70qVLo85UKhUtXRherlmz5qxLFw5ih1q6vjbnjVzW9Y+TK3bWdsRjAAAAADBkvFDXff3ad0RcReuSLx3qjocBeJ/6PegKjh07VlJSMnLkyOLi4lmzZlVUVOTionCwefPmESNG7NixI+qJ1NbW3nfffcNPmT9/fn19fTzwtgssSKfT27dvnzJlSlFRUXiw0tLSpqameOxtoSf0n/WxI+/5DHnC+xDKovDsXFuUDWKZbM+sZ45+5KY9Udb14dF77nrqSOgEAAAAgKFg//HMrzcke0dc161MPFqV9hEZwIW4GEEX5Ow6mPjs1Irc1K4v3r2/6ki8iCUAAAAADEpHO7J/ejE1rFfEdXVpxwOvdXV0ybgALpSgi4st0ZW5cUV9Luv6yE17pj95pKvbX+oAAAAADDYdXdn7X+26uvR0xBXabS+mjnb4NAygbwi6uDSerWz72ITyXNz1r3dUvl6fiMcAAAAAoMCd7Mwu3NX1tRXv2I6r+IlkxbFMXAFAXxB0ccm0pTK/X3XwslFx1vVno3aPe6wh2eVvegAAAAAKWHMiO/uVzmuWnc63Qvv+msQzB7rjCgD6jqCLS2z7m+2XT96Xm9oVjl+sbo/HAAAAAKBwHDyZnba986p3LlR47fJE6d6utJ/uBugfgi4uvWRXZvy6hg+N3pOLu25cUX8i6SdcAAAAACgMb7Zkxr+QGrbkHRHXdasSD+/pau+yHRdAPxJ0MVCUHUr+6x2VuazrHyaUP77nRDwGAAAAAAPSriOZUU+neudbof3no4lHq9L26AC4CARdDCBd3dnpTx75yE2np3Zdv6CmqS0dDwMAAADAgLHtUPcNm5J5EVfxE8lnaruzJnEBXCyCLgacqiOpK++qymVdHx23d+nLx+MxAAAAALjUnj7Q/bP1+RHXqKdTrzbajAPgYhN0MRBlsj33P9/0l38sy8VdX76nuqIxGQ8DAAAAwEVXeyIz55XO61Yl8iKuCS+m3myxTCHApSHoYuCqP9719XvfyGVdHxq95+ZHDp1I+rkYAAAAAC6edKZnc016xJP5U7iuWdYx6+XOox2WKQS4lARdDHQrX2352ITyXNz1t+PLF710zDLHAAAAAPS3hrbsnFc6v7I8fwrXdx5JPLyn62Snj6gALj1BFwWgozNz27qGj9y0Jxd3DZtRtetgIh4GAAAAgD711IHuG8+YwhXaxC2dOw9bcAhgABF0UTDebEpdd9/plQwvG7X7v5bVH2tPx8MAAAAAcGEa27PzXu/65hm7cP3oseSy8q7WlClcAAOOoIsCs37Picsn78vFXX8ztuz+55vSGf/IAAAAAOCDe66u+6ZnUnn5VmgTt3TuOpKJiwAYeARdFJ5UOjttU+Nf3Hx6JcN/ur1y6xvt8TAAAAAAnJ/G9uwDr3V9a3X+FK7vrkks3WsKF0ABEHRRqOqPd/2o5EAu6wrtZw/XNrR2xcMAAAAAcA7pTM/mmvRvN6eGvTPf+sKSjlufT71yuFvABVAoBF0Uthf2t31mSkUu6/offyy7c/ORzrR/igAAAABwFg1t2fte7fr6yvwpXP/5aGJxWVdL0sdKAAVG0EXB6+rOznrm6F/dUpaLuz41ad/yncez/lkCAAAAwCmZbM+L9d2jns6fwnV1aceEF03hAihggi4GicaT6V8trstlXaFdMaPqqYqT8TAAAAAAQ1JbZ3bp3q7vrsmfwlW0LrlyXzqMxnUAFCZBF4PKK7UdX76nunfc9dU51a/XJ+JhAAAAAIaMuhOZO1/qvGbZO/Ktq05N4dp1JBMXAVDgBF0MQhv3nvjXOypzWddlo3b/clFtTXNnPAwAAADA4JXt6dlS3z3yqVTvfCu07615axeu1pQpXACDiqCLwak7k1380rGP/WlfLu76yE17bn7kUHN7Oq4AAAAAYHBJpXseqUxfvzZ/lcIbN6deqOu2oTvAoCToYjBLdmVmPnXkb8aW5eKuv76l7I4nj3R0mpwOAAAAMHh0dGXnvd517fL8iOuO7Z0HWn0QBDCYCboY/I53dI9Z2/CRm/bk4q6/v6184dbmdMaP8QAAAAAUtu5sz6qK9NdXviPi+tqKxIJdXSesUggwBAi6GCrqjncWL6m7bFScdYX22akVa3e1xsMAAAAAFJrn67rzFir87prEyn3plM0rAIYMQRdDy55DiW/d/2Yu6wrtqpn71+0WdwEAAAAUkopjmRs2JXtHXNetSjxeLeACGHIEXQxFm8pPfn56Ve+461/vqDS7CwAAAGDgO9qRnfBialiviOtLyzpKdneluuMCAIYUQRdD16pXW/5xckXvuOsrs6tfq0/EwwAAAAAMJB1d2Xtf7bq69HTENWxJx7TtnceT9uICGLoEXQx1y3ce/+zUd8RdP33owJ5D4i4AAACAgSKd6Vm5L/31le/YjmvU06naE5m4AoChStAFPZlsz9KXj3984r7ecdd/3P/Gs5VtcQUAAAAAl8ihtuxP1r1jO64fP5Z8/YiIC4C3CLogluzKzNh85H+OKesdd33x7v3iLgAAAIBL5fHq9JeWnY64vrU6EXqylioE4G2CLniH9s7MnOeaPvand8zu+tqcN3bWdsQVAAAAAPS/RLrnthdSuYjry8s6HtzdleqORwEgIuiCs1v80rFPTnpH3PWfC2per7d3FwAAAEC/qzyW+f6a0ztyDd+YPNphGhcAZyHognPq6s6WbGvOm931w4U1ew6JuwAAAAD6RbanZ8neri8siSOuYUs65r3elRFyAXAOgi54b/c/3/R348vz4q7yhmQ8DAAAAEBfOJ7M/nbz6eUKv7U6sedoJh4DgLMRdMF5SXRl7nnm6P+5dW8u67ps1O6fPnSg/LC4CwAAAKAPvNzQ/Y2Vp5crvPmZ1MlOM7kAeA+CLngf2jszM5868r/GvSPu+tXiuprmzrgCAAAAgPdvziuduYgrtEcq0/EAALwrQRe8byeTmelPHvlor7jrQ6P3/HZF/eHWrrgCAAAAgPPT3vWO5Qp/9FiyptVyhQCcL0EXfEAnEt1TNjT+9S1lubjrz2/ec8ujh461+4EjAAAAgPNypD37w7Wnlyuc/lJnZ3c8BADnQ9AFF+RYe/rWxxr+4uY9ubjrr24pm7Kh8WTSTx4BAAAAvJvKY5ncplxXLunY+KafHgbgfRN0QR9oPJketfrgR246HXf971v3znmuKZW2YyoAAADAWWw72P3FpfFEri8v63it0UwuAD4IQRf0mYMtXf+1rP5Do0/HXR+fuG/xS8e6M+IuAAAAgNOWlXcNWxKnXN9+JHHAplwAfFCCLuhjVUdSP3noQC7rCu2fb698bHdrVtoFAAAADHmZbM/0lzqjiCu0n61PHk/60ASAD07QBf3ildqOr86p7h13XXlX1Y6ajngYAAAAYOjpzvbc/Ewql3Ld/GwqZVsuAC6MoAv60TOVJ6+8q6p33PXDhQfeaErFwwAAAABDRl7Kdc/OTjO5ALhwgi7oX9lsz6pXWy6fvC+XdX1o9J7frzp4tM0PLAEAAABDRTrzjpRrWXlXPAAAF0bQBRdDV3d2znNNHx23Nxd3/dUtZXc9dSSV9qNLAAAAwCCXzvT8/ikpFwD9QtAFF09ronv8uoY/v3lPLu761KR9a15viYcBAAAABp2ud6Zcj1Ra5AaAviTogout/njXLxbV5rKu0L58T/Wug4l4GAAAAGCw6Mr03Lj5dMq1br+UC4A+JuiCS2NHTcfVM/fnsq7LRu3+r2X1x9r9aw8AAAAYJLqzPX94Ok65hkm5AOgfgi64ZLLZnlWvtnxi4r5c3PU3Y8vuf74pnbFxFwAAAFDYstmeW58/nXJtfFPKBUC/EHTBJZZKZ6dtavyLXht3/dPtlVvfaI+HAQAAAArQ1G2dUcoV2toqKRcA/UXQBQNC/fGunzx0IJd1hfarxXXNVjIEAAAACtA9O0+nXIvLuuJeAOgHgi4YQLa+0f5Pt1fmsq6Pjt27cGtz1kKGAAAAQOFYXNaVS7nu2dkZ9wJA/xB0wcCSzmTveeboX/6xLBd3XTVz/+6DiXgYAAAAYABbW5XOpVxTt0m5AOh3FyPoampqKikpGT58eHFx8axZsyoqKrLvOkUljB44cGDOnDmhPpw1f/78+vr6eOyUCy/IZDI7d+6cNm1aUVFRVFBXV9f7qS78FmH0zjvvDNcPX3JjY2PcC+fnUEvX9+bV5LKuPxu1e/TqQycS3fEwAAAAwMDzXF33sLdTrlufT1mlBoCLoN+DrsbGxgkTJhQXF0+ePHnq1KnDhw8fOXJkRUVFPHw2VVVVoSZUhvpwVjg3XKGhoSEevuCCTCazfv36oqKiUDNt2rSoIByHs6KC4AJv0draGq68atWqurq6BQsWzJs3L5VKhf6ampo1a9YkEmbncF6eKDvxiYn7cnHX344vX77zeDwGAAAAMJC83ND9hSVxyvWHp1PdUi4ALor+Dbqy2eyGDRuKioo2btwYzZcqLy8fMWJELvg5UzqdXrx4cXFx8c6dO8MpwdatW8MVVq9enclk+qTg8OHDY8eOzeVSuYLS0tJwbp/corq6ety4cdH1Kysrw+3CTcOXXFJSsmnTplAf+uF8dHRm/vjooctGxVlXaN+fX3Pk5Ft/UAEAAAAGiLKmzBeXxilX8YZkp1VpALhY+jfoSiaTc+fOHT16dF1dXdTT3t4+Y8aM8ePHHzlyJOrJ09LSMvWUcBD1hMpQH84K5/ZJQWNj4/r167dv3x7FWkFVVVVRUdGDDz7Y2fnWwsEXfouzBl3hjjNnzmxtbT11BrwPO2o6Pju1Ipd1fXTc3vV7TsRjAAAAAJdU7YnMtcsTUcr1k3XJtk4/5A3AxdO/QVdbW9v06dN7B0KdnZ0PPvhgcXFxdXV11JMnmm41d+7cZDIZ9UQXGf92NnbhBXna29sfeuih8Ejbt2+Pei78FnlLF957770NDQ2hp6ysLKqH9yuVzt62riGXdYU2vLTuZPKtGYQAAAAAl8rxZPbbj8QpVzgIL+MBALgoLkbQFYSDqCcKuoqKinpviNVblCHlJlcF0UVCZxjqk4KctWvXhicJRowYsXXr1mjVwaBPblFbWztr1qxw8fBrQ0NDuNeiRYty9fDBbHuz/eO9du0Kx6EnHgMAAAC4uJLpnp+uT0Yp15eWddSe8CO5AFxsQzro2rVr16pVq6ZMmRKeZ86cOSdOxGvB9eEtIjU1NZMmTYpWMnwXC84tA29r7Uj/ZmldLuu6bNTuP61v6Ex3x8MAAAAAF0W6OzPyqVSUcl25pOPlQ13xAAwl8We7wKUzpIOuSDab3bp1a3ik1atXR/9j6ttbJBKJuXPnbtq0qbm5ef78+cXFxZMnTz7ryo1xqHU2HR0d7dDLqpePfHTc3lzc9YUZlfsPtcZjAAAAAP3vTy+8FXFFbW153AlDSm5rG+ASuhhB18SJE5ubm6OezvPbo2v27NmJRCLqiS6Stz/WhRScKTol1ITK3Mu+usW2bdtmzpx59OjRefPmLViwoK6uLppGlntPcqJM66zScIZDLamvzq7OZV0fHbt3Q1lLPAYAAADQnx7aHc/lCu3+VzvjXhh64s92gUunf4OuZDI5d+7c0aNH19XVRT3t7e0zZsx4l8yppaVl6inhIOoJlaE+nBXO7ZOC6urq9evX79q1KxoN8oKuC79FTlNT05QpU8rKyqKCysrK0NnQ0DBmzJhzzWmD85fJ9tzx5JEPjd6Ti7tuefRQV7dNXwEAAIB+9MyB7lzKNfb5lE8iALiE+jfoCjZu3FhUVLR+/fpoVcDy8vIRI0bMmzcvlUpFBeGgtrY2twZgOp0uLS0tLi7etm1b9pS8dQUvvKCmpiY8w4wZM1pbW8PLXEE4K0rgL/wWkXC8du3apUuXhnpBF/3npZr2j00oz2Vdw2ZU1R2P/4MCAAAA6Fu7jmSuKo1Trl8+kUyf/jAMAC6Bfg+6mpqaJk2aVHxqY6qpU6cOHz585MiRFRUV0Wg6nV6+fHlRUdHGjRujnqCmpibUhMpQH84K506YMKGhoSEevuCCzs7OJUuWhJvedNNNd9xxR3/cItLe3r506dKoM5VKRUsXhpdr1qw569KF8IG1Jrq/O+/NXNb1N2PLNpWfjMcAAAAA+kj9yey1yxNRyvWDRxOtZnMBcKn1e9AVHDt2rKSkZOTIkcXFxbNmzaqoqMhm478Cw8HmzZtHjBixY8eOqCdSW1t73333DT9l/vz59fX18cDbLrAgnU5v3759ypQpRUVF4cFKS0ubmprisbdd+DPkCe9DKAtvwuTJk8+1RRlciLkvNH3kpngZw8tG7Z68oTHjX5sAAABAH+noyv5wbZxyXbs8cfCkzx0AuPQuRtAFXDS7DiY+MXFfbmrXt+5/83hHdzwGAAAAcAF+/1QqSrlCe/2IJQsBGBAEXTDYHO/o/tb9p5cx/MTEfbsOJuIxAAAAgA9kziuduZRrffVb+9wDwEAg6IJBKJPtmbyh8bJRcdb15zfvWbLjeDwGAAAA8D5trknnUq6ZOzrjXgAYAARdMGhtKj/5N2PLclO7RiyvT9uzCwAAAHif3mzJXF0ap1w3bEr6dAGAAUXQBYNZTXPn56dX5bKur8yutmUXAAAAcP5Odma/uyYRpVzfeSQRXsYDADAwCLpgkEt0ZX5cciCXdX1y0r59h5PxGAAAAMC5ZbM9I55MRinX1aUdb7Zk4gEAGDAEXTAkTH/ySG7Lrr/8Y9mGvSfiAQAAAIBzmPd6V5RyhfbMAYvEADAQCbpgqNiw98Rf/jHesuuyUbunP3kkHgAAAAA4w7ZD3bmU656dnXEvAAwwgi4YQvYdTv7j5Ioo6wrtxyUHEl3WHAAAAADyHWrLfnlZnHIN35jM2JkLgIFK0AVDS2ui+7r73shlXVfMqDralo7HAAAAAHp6UumeHz8Wb8113apES1LMBcDAJeiCIac7k715zaFc1vXxifvKG5LxGAAAADDkjXs+FaVcVy7p2NtkMRgABjRBFwxRi1469qHRe6Ks6y//WPZM5cl4AAAAABjC1lSmo5QrtJX7LAMDwEAn6IKh68Xq9r++pSzKuj40es+Crc3xAAAAADAkVR3LXFUap1zjnk/FvQAwgAm6YEirbEx9atK+KOsKbeTKg3aXBQAAgKHpZGf2W6sTUcr1n48mUmZzAVAIBF0w1B1rT189c38u6/revJpEl9W3AQAAYGjJ9vSMeDIZpVzXLOuoPeHDAQAKg6AL6Emlsz996EAu67ryrqojJ/3UFgAAAAwhJbu7opQrtOfruuNeABjwBF1AbNITh3NZ1ycm7qs+aiVuAAAAGBJ2HckMezvlmvlyZ9wLAIVA0AWcVrrj+IdG74myro+O3bvzQEc8AAAAAAxSzYns11bEW3P98olk2pqFABQUQRfwDs9Xtf3lH8uirOvPb96zYe+JeAAAAAAYdDLZnl8+EW/N9ZXlieZENh4AgAIh6ALylR1K/t348ijrumzU7pJtzfEAAAAAMLjcs7MzSrmGLe545bCtuQAoPIIu4Czqj3d9dmpFlHWFNn5dQzwAAAAADBZbD3ZHKVdoC3Z1xb0AUFAEXcDZtXR0f/Hu/bms6xeLajvTli8AAACAQaKxPfvlZXHKdePmVNY3/QAUJkEXcE6pdPbHJQdyWddX51S3pexICwAAAAUvnen52fp4a65vrkqcSIm5AChUgi7g3WSzPaNXH8plXVfcWdXUlo7HAAAAgMJ01463t+Za0rG3yU+1AlDABF3Ae5v1zNFc1vWPkyvqjnfGAwAAAECh6b011+IyW3MBUNgEXcB5Wbbz+J+NirOuv7+tvPxwMh4AAAAACkfvrbn+8LQlCwEoeIIu4HxtKj/55zfvibKu/zmmbEdNRzwAAAAAFILeW3N9+5FEW6ecC4CCJ+gC3ocdNR3/c0xZlHX9+c17NpWfjAcAAACAAW/G21tzfWFJR+UxW3MBMBgIuoD3p/xw8u9vK4+yrj8btXvZzuPxAAAAADCAPVd7emuu0r225gJgkBB0Ae9b3fHOf5xcEWVdoT3wQlM8AAAAAAxIB09mr+m1NVfcCwCFT9AFfBBNbekr7qzKZV13bGqMBwAAAIABJp3pKVpnay4ABidBF/ABtaUyX51Tncu6xq5tiAcAAACAgWSmrbkAGLwEXcAH15nOXr+gJpd13biiPutnwgAAAGAgebH+9NZcS8ttzQXAYCPoAi5IOpP9yUMHclnXr0vrMrIuAAAAGBgOt2evXZ6IUi5bcwEwKAm6gAvVncn+anFdLuv6ccmBtLALAAAALrXubM/PH7c1FwCDnKAL6APZbM8Ny+pzWdcP5td0pv3rGQAAAC6lOa/YmguAwU/QBfSNbLZn5MqDuazr6/e+0dHp39AAAABwabx06PTWXKsq0nEvAAw6gi6gL/3x0UO5rOva2dUnk7IuAAAAuNiOJ7NfXRFvzfXHZ23NBcBgJugC+tht6xpyWdeVd1W1JrrjAQAAAKD/vbW/wKbTW3N1dNlcAIDBTNAF9L07njySy7r+9Y7Ko21WSAAAAICLZMGurijl+sKSjopmS60AMMgJuoB+sWBLcy7r+syUisOtXfEAAAAA0G9ea+we9vbWXMvLfTMOwOAn6AL6y6KXjl02Ks66Lp+8r/64f14DAABAPzqRyn59Zbw116inbc0FwJAg6AL60fKdxz80ek+UdX184r7qo/6RDQAAAP0i29Pz282pKOX69iOJtk5bcwEwJAi6gP71+J4TH3476/rb8eUVjcl4AAAAAOg7i8rirbmG2ZoLgKFE0AX0uyf3nfzITXHW9b/G7S07JOsCAACAvrTnaGbYknhrrsVl9g4AYAgRdAEXw3NVbX9+c5x1/c3YstfqE/EAAAAAcGHaOrPfXBVvzfXbzSlLFgIwpAi6gItkyxvt/+OPZVHW9de3lL18oCMeAAAAAC7AqKfjrbm+uSpxQs4FwBAj6AIunpcPdPz1LXHW9T/+WLbljfZ4AAAAAPhAlpW/vTXX4o49R23NBcCQI+gCLqrX6hN/MzbOuv785j3PVbXFAwAAAMD7VNGc+cLbW3Mt3GVrLgCGIkEXcLGVHUr+r3F7o6zrIzfteXLfyXgAAAAAOG8dXdlvPxJvzXXDpmTWmoUADEmCLuASqGhM/u348ijr+vBoWRcAAAC8b2Oei7fm+vrKxPGkmAuAIUrQBVwa1UdT//e201nX43tOxAMAAADAe1lTmY5SrtBea+yOewFg6BF0AZfMgWOdH5+4L8q6PjR6z5rXW+IBAAAA4NwOtGauKo1TrvtftTUXAEOaoAu4lOqPd10+Oc66Lhu1W9YFAAAA7y6V7rl+bbw1V/GGZLc1CwEY2gRdwCV2uPUdWdfyncfjAQAAAOAMt70Qb8117fJEU4eYC4ChTtAFXHqHW7s+M6Uil3UteulYPAAAAAD08sQbp7fmerHe1lwAcFGCrqamppKSkuHDhxcXF8+aNauioiKbfbcfNgmjBw4cmDNnTqgPZ82fP7++vj4eO6VPCvbt2xceJldQV1fX+6na2tqmT59e9E6hJ/RHBe95izB65513hrPCXRobG+Ne4ByOtqU/N60yyrpCk3UBAABAnoMns19cGqdcM1/ujHsBYGjr96CrsbFxwoQJxcXFkydPnjp16vDhw0eOHFlRUREPn01VVVWoCZWhPpwVzg1XaGhoiIcvuCCbzW7evDl0hppp06b96U9/KioqCsfhrKggaG5unjhxYlRwx9sWLlzY3t4eFbz7LVpbW8OJq1atqqurW7Bgwbx581KpVOivqalZs2ZNIpGIyoDejrWnPz+9Kpd1LdjSHA8AAADAkNfZ3VO0LhmlXOEgnYn7AWCI69+gK5vNbtiwoaioaOPGjdF8qfLy8hEjRuSCnzOl0+nFixcXFxfv3LkznBJs3bo1XGH16tWZzFt/gV94QVNT04RTolwqFITHCwWlpaXh3NAThKExY8b07untPW9RXV09bty46PqVlZVjx449fPhw+JJLSko2bdoU6k9dBsjXmui+8q7TWdec55riAQAAABjapr/UGaVc1yzrOHjSh0sAEOvfoCuZTM6dO3f06NF1dXVRT3t7+4wZM8aPH3/kyJGoJ09LS8vUU8JB1BMqQ304K5pNdeEFZWVlRUVFK1eujEKpoKamZsSIEQ8++GBnZzzpu6qqKtSsW7cuepnnPW9x1qBr+/btM2fObG1tPXUGcHYnk5neWdedm8/+/woAAAAYOl6s745SrtCeqbU1FwCc1r9BV7TTVe9AqLOz88EHHywuLq6uro568hw+fHjs2LFz585NJpNRT3SRXDZ24QVniqKv3vO3XnvttdAze/bsyZMnh4MJEyZs3749F4y95y3yli689957GxoaQk+4UVQPvIuTycw1d+/PZV23rYsXBQUAAIAh6HB79trliSjlmrrN1lwA8A4XI+gKwkHUEwVdRUVFvTfE6i3KkHpProouEjrDUJ8U5IlWFCwuLt67d2/c1dOzZcuW8JDRHl3RFlzBtm3bolUHz+cWtbW1s2bNChcJvzY0NKxdu3bRokW5euDdtXfKugAAAKAnnen5+ePx1lzXr02kzrLJBgAMaUM96MpkMuvXrw/Ps3Tp0t7bcSUSierq6mPHjoXjbDa7d+/eESNGTJs2LVp48H3dIqipqZk0aVK0kuG7WHBu4TlhqDmZTH9ldnUu67rpkYPxAAAAAAwZ9+xMRSnXF5d2vHk8HfcCA0b82S5w6QzpoCubzW7btq24uPjuu+8+ceJE3Hs20WZjoTJacfH8bxEkEolw7qZNm5qbm+fPnx8uMnny5LOu3BiHWmfT0dHRDkNPc8vJL886vV/XiKUH4gEAAAAYAp5/sz1KuUJbsSfuBAaO3NY2wCV0MYKuiRMnNjc3Rz1R0JVLjM4UZUizZ89OJBJRT3SRvC24LqQgks1mt2/fPnz48Lvvvvv48eNx7zlEj53L587zFpFt27bNnDnz6NGj8+bNW7BgQV1d3apVq6ZMmZJ7T3KiTOus0jBUtSe7rrv39Lyu362o7+qKhwAAAGAQa2pPf3VFvDXXH59JxL3AABN/tgtcOv0bdEUToUaPHl1XVxf1tLe3z5gx46yBUKSlpWXqKeEg6gmVoT6cFc7tk4JIRUXFyJEjJ0yYcOaKgqFs4cKF999/f7R0YZA3o+s8bxE0NTVNmTKlrKwsKqisrAyd4Y5jxow515w2IE9nOvvN+97IZV03LKs/tVkeAAAADFrhO98bNsVbc337kURHl++EAeDs+jfoCjZu3FhUVLR+/fpoudLy8vIRI0bMmzcvlUpFBeGgtrY2twZgOp0uLS0tLi7etm1b9pStW7eGK6xevTq6woUXBJWVlTfddNNZU64gXGH58uXhlHBiOD30RKlYbo+u87lFEI7Xrl0b7f4l6IIL0ZnOfmfum7ms61eL67oz/okPAADAoLVwV1eUcn1hSUdF8+mPmwCAPP0edDU1NU2aNKn41MZUU6dOHT58+MiRIysqKqLRXKS0cePGqCeoqakJNaEy1Iezwrl5idQFFjQ3N0+ZMiXc9KabbrrjncKJUU0oDqf0fuxwHMVaUcF7PkPQ3t6+dOnSqDOVSkVLF4aXa9asOevShcC76Op+R9b1k4cOpGVdAAAADEZ7jmaGvb0119LyrrgXADibfg+6gmPHjpWUlIwcObK4uHjWrFkVFRW5uCgcbN68ecSIETt27Ih6IrW1tffdd9/wU+bPn19fXx8PvO1CCqIdtorOpvcsq6amptLS0rM+duQ9nyFPeB9CWRSenWuLMuDd/ezh2lzWVfTggbgXAAAABosTqew3V8Vbc/12c7wkEgBwLhcj6ALoK+lM9icPHchlXdcvqOnqNq8LAACAweO3m1NRyvXNVYkTKd/zAsB7EHQBBaY7k/3V4rpc1vWduW/KugAAABgclpbHW3MNW9yx56ituQDgvQm6gMKTzfbkZV2daVkXAAAAha2iOfOFJfHWXAt32ZoLAM6LoAsoSNlszw3L6nNZ1zfve0PWBQAAQOHq6Mp++5F4a64bNiXfuVM8AHBOgi6gUJ2ZdSW7rOoAAABAQRrzXLw111dXJI4nxVwAcL4EXUABy2Z7Rq48mMu6vjK7WtYFAABAwXlsfzpKuULb0dAd9wIA50HQBRS8vKyrvVPWBQAAQME40Jr54tI45bpnZ2fcCwCcH0FXYRj7yPifL/zVvOcW7K7fk8n4EB/y3bzmUC7ruubu/SeT/jMBAACgAHR291y/Nt6a6+ePJ9O+nQWA90nQVRiumPqF/zvmE1H77J/+5TeLRjy8dXFlY1XWzqTwttvWNeSyrivvqmpNWOoBAACAge6O7Z1RynXNso7D7T7nAYD3TdBVAGqP1eVSrrz2r5OvGLn0D8t3rHizqSauhiFs2qbGXNb1+emyLgAAAAa0F+u7o5QrtGdqfQ8LAB+EoKsAZLKZ8oZ9C194sPih4Z+e8M95WVeuXTH1C39YftOKHStrmg7EZ8LQM+e5pt5Z17H2dDwAAAAAA8nh9uy1y+NFC6duszUXAHxAgq4Ck+5Ov3rgtfueeaBo/s8+eeun87KuXLvi9qveCr1eXnWgWejFkNM76/rctMqjbbIuAAAABpbubM/PH09GKdf1axMp37kCwAcl6Cpgqa7U1v3b7tp09w/u/2Fe0NW7menFELRgS3Mu6/rMlIrDrV3xAAAAAAwA977aFaVcV5V2HGjNxL0AwPsn6BokOjo7tuzfGoVeHx93eV7WlWtX3H7VyGWjSrcvq2ysymZtcMpgtuilY5eNirOuyyfvqz8u6wIAAGBAeOXw6a251lSazAUAF0TQNQh1dHa8WLVlxsaZ37//+o+N+1Re1pVr/zzx33798A0LXijZVbc73e0fVQxCy3cez2VdH5+478AxK54DAABwiR1LZr+xMt6a66ZnUnEvAPBBCboGufZUx/OVL9658a7v3fef7xJ6XX7bZ3+64Bezn7p3+xsvpbr8G4vBo3fW9X9vK68+6o83AAAAl0y2p+eGTfHWXN95JNHWabkdALhQgq4hJFrecNbm2T+e99NPjf9MXtaVax8fd/l35nx/0rop63Y9Xn/8YHwyFKw1r7d8aPSeKOv62/HlFY3JeAAAAAAursVl8dZcw5Z07Gu2NRcA9AFB1xDV1d316oHX5j234P899JvP/ulf8rKu3u3fp145YslvF7xQ8sqBV1NpK79RkB7fc+LDb2dd/2vc3rJDsi4AAAAutn3NmS8sibfmeniPnaQBoG8IuujJZDMVhysWbyv93dI//PvUK/OCrt7t4+Mu/959/zl5/e2P737iUMuh+HwoBE/uO/mRm+Ks62/Glr1Wn4gHAAAAoP91dGW/80i8NdcNm5KWLASAviLoIl/dsfp1r6+f+Njkb8/53rts6xXav0+98obFN859bv72N15qT3XE58NA9VxV25/fHGddf31L2csH/KEFAADgIhn7fCpKub66InFMzgUAfUfQxbtJdiV3vPnyA8/O+/XDN3xu0ufzgq68dt2sb/1x1dilLy3fXb8nPh8GmC1vtP+PP5ZFWVc42P5mezwAAAAA/eax/eko5Qpt+6HuuBcA6AuCLt6H2ubata89dtvaif9xz3c+NvbdJnuF0a/O/MbIZaPmPjf/+coXGk80xpeAS+3lAx1/fUucdf35zXueqjgZDwAAAEA/qGnNfHFpnHLNfsX25wDQxwRdfECpdGfZwbLVrzwyZf3tP1nw8395r/len5v0+Z/M//nk9bev2vnI7vo9qa5UdB24+HYdTHx03N4o6/rw6D1rd7XGAwAAANCnOrt7rl8bb831i8eT6UzcDwD0FUEXfebIiSMvVL244IWS0Stu/sasb+UFXWe2L8/46oglv5vz9H2P735i76Fy0RcXU2Vj6u9vK4+yrstG7S7dcTweAAAAgL4zY0dnlHJds6zjcLutuQCg7wm66Ed7D5WveXXt7Y/f8fOFv3rPLb5CG3b71T9b+MsJayc9vHXxlv1b647VxxeCflB7rPPyyfuirCu02c8ejQcAAACgL2w/1B2lXKE9fcDWXADQLwRdXDzNbce2Vm9/8MWH/7hq7LfnfO9T4z+TF3Sd2ULNN2Z967elv7/7yXvWvvbY7vo97amO+HJwwRpPdP3T7ZW5rGvSE4fjAQAAALgwRzuyX10RL1o4eautuQCgvwi6uJQqG6s2lj35wLPzbl455voHfvyZCZ/LC7rO2j4/5cqfzP/5rWtuK3nxoReqXjzQfCC+HLx/xzu6r5hRlcu6blxRn7WSBAAAABcmfGv5/zYko5Tr+2sSqXTcDwD0OUEXA8ux9mOvHnht1c5H7tx41w2Lb7x2xtfyUq5zta/c9Y3fLBpxx4Y7V7y8amfNKyeTJ+Mrwnvp6Mx8/d43clnXLxbVpjPCLgAAAD64hbu6opTrC0s69h/PxL0AQD8QdDHQpdKdZQfLHnn10WlPTP9lSfG/T70yL+I6V7ti6hdCfTjrkVfWvF63q6PTmoecU2c6+4P5NbmsKxyHnngMAAAA3o89RzPDlsRbcy0v74p7AYD+Ieii8JxInNjx5suLt5WOXzPhh3OL/nXyv+dFXOdq/z71yqL5PwtnLXzhwY1lT5YdLDvefjy6JqQz2V8sqs1lXV+/942OTj9zBwAAwPvT1pn9j1Xx1lwjn0rFvQBAvxF0MRi0Jdteq319zatr79p0942lI795z7fzIq53aZ/90+eK5v9s4mOTl+9YES6S6EzEF2XoyWZ7Rq8+lMu6rp65/3hHdzwGAAAA5+GmZ1JRyvWNlYnWlMVCAKDfCboYtPY1VKzb9fhdm+4evui/vnTnV/LyrXdpX5x+7Q2Lb5y1efbmvU+9cfTN+HIMGZM3NOayrn+6vbLxhFUmAAAAOC9rKtNRyjVscccrh/3oJABcDIIuhpDqI9VP7t0877kFt6657RclxdfO+FpexHWu9u0537tl1diHtjy8tXp7c9ux+HIMXg+80JTLuj41aV/tsc54AAAAAM6hpjVzVWm8NdcDr/mhSQC4SARdDGnZbLa2ufbJvZvnPH3fjaUjr53xtY+N/VReynVmu+L2q25YfOP9z859sWpLa+JEfC0Gl9Idxy8bFWddf39beWWjddUBAAA4p87unuvXxltz/eLxZLc1CwHgYhF0wTukulJlB8tWv/LI1Men/WzhL/918hV5KdeZ7YvTrx259A8LXijZ8ebL7amO6DoMAmt3tX7kpj1R1vXRcXt31vrNBQAA4Oxm7OiMUq5rlnUcbhdzAcDFI+iC99DU1ry1evuDLz58y6qx35nz/cvHfyYv6Ord/mHsJ7868xs3rfjjoq1LXqt9PdVlGlBhe2F/2//4Y1mUdYWD8DIeAAAAgLdtP9QdpVyhPX3A1lwAcFEJuuD9yWQylY1Vq1955La1E78z5/ufuPUf87Ku3u3j4y7/3n3/efvjdzy5d/Px9uPxJSgoO2s7/mZsnHV95KY9G/ZarBIAAIDTjiWzX10RL1o4Zas9ngHgYhN0wQXp6u7aXb9nyfalf1w19ut3f/Pdt/j68oyv3rJq7Kqdj7zZVBOfTyEob0j+n1v3RlnXn43averVlngAAACAoS2b7blhUzJKub6/JpFKx/0AwEUj6IK+lOhMvFyzs+TFh0YuG3XNnV/JC7p6t3+dfMV/Lf5tqNxVtzvd7R/CA92bTalPTdoXZV2Xjdpdsq05HgAAAGAIe3hPV5RyfWFJx/7jmbgXALiIBF3Qj1o6WjfvfWraE9O/d9/1Hx93eV7WlWv/eNs/FT80/KEti/YfqY7PZOBpPNH1T7dXRllXaFM2NMYDAAAADElVxzLDlsRbcy0r74p7AYCLS9AFF0mqK/XSGzvue+aBX5YUf2bC5/Kyrly74var/rhq7LrX19vTawA63tF9xYyqXNb169K67kw2HgMAAGAoSaZ7fvBovDXXyKdScS8AcNEJuuASyGQy5Q37Fm8r/d3SP1wx9Qt5WVeuffOeb9+x4c4t+7emuvyLeaA4mcxce091Luv69tw3E13WpgAAABhypr/UGaVcX1uRaEn5IUgAuGQEXXDpVR+pfmjLouKHhucFXb3bzxf+av7zC/c1VMTncOmk0tkfzK/JZV1X3lXV0tEdjwEAADAEbD3YHaVcoYXjuBcAuBQEXTCAdKY7t1Vvn75hxjfv+XZe0JVrV91xzcTHJm/ZvzXdnY5P46LLZHtuXFGfy7o+O7Wi/rjV2AEAAIaEllT2ayviRQunbOuMewGAS0TQBQPUsfZjj7722KjlN//r5Cvysq6ofWbC535b+vu1rz3WmjgRn8PFdddTR3JZ19+NLy87lIwHAAAAGLz+8HQqSrm+80gi6WdQAeBSE3RBAdhTX3b/s3N/PO+neVlXrv1o3k8WvFCy/0h1fAIXy6pXWz40ek+Udf3lH8uer2qLBwAAABiMHq1KRynXsMUde5vs2QwAl56gCwrJicSJda+vH7n0D5/90+fysq6oXXvX1+/YcOfOmlcyGf/avkier2r7yz+WRVnXh0bvWfVqSzwAAADA4HLwZDZKuUJ74DUr2APAgCDogoKU7k5v3b9t0ropV9/xpbysK2r/OvmK29ZOfPnNndlsNj6HflN2KPl348ujrOuyUbvveeZoPAAAAMBgkc70/OLxZJRy/XR9MrwEAAYCQRcUvIrDFfc988B37/3BP4z9ZF7cFdoVt181Zf3tr9W+HlfTP+qPd10+eV+UdYU2evUhCSMAAMBgMueVztx0rgOtYi4AGCgEXTB4NLcdW7Fj5a8f/s2nxn8mL+4K7eo7vjR9w4y9h8rjavpac3v6yruqclnXj0sOdKaFXQAAAIPBK4e7cynX6sp03AsADACCLhiEEp2J9bue+M2iEZ+89dN5cVdoX57x1VmbZ1c17o+r6TuJrsy3576Zy7qunV19ItkdjwEAAFCYjrRnv7I8EaVcNz2TinsBgIFB0AWDWXuqfc2ra3/14K8/Pu7yvLgrtK/f/c37nnmg7lh9XE1f6M5kf11al8u6Pjet8shJP+sHAABQwH7+9tZc33kkcbLT0h0AMLAIumBIOJE4seLlVT9b+MuPjf1UXtwV2vfuu37ZSytOJk/G1Vyw2zc25rKuT0zcV33UT/wBAAAUpHt2xltzXVXaUXXM1lwAMOAIumBoaeloKd2+7EfzfvIPYz+ZF3d9avxnfr9s9Jb9WzMZ/3DvA6U7jv/ZqDjr+ujYvS9Wt8cDAAAAFIgdDae35nq0ynIdADAQCbpgiGpqa35oy6Lv3399XtwV2rDbr75r0901TQfiUj6opypO/sXNe6Ks60Oj9yx66Vg8AAAAwIDXmsp+Y6WtuQBgoBN0wVBXe6xu1ubZV91xTV7cFdr1D/x4xcur2pJtcSnv366Dib8dXx5lXaHd+lhDxnLuAAAAhWDkU6ko5fqPVYk2W3MBwEB1MYKupqamkpKS4cOHFxcXz5o1q6KiIpt9t38chNEDBw7MmTMn1Iez5s+fX19fH4+d0icF+/btCw+TK6irq+v9VBd+izB65513FhUVhbs0NjbGvTBQZbKZrdXbRy2/+fLxn8mLuy6/7bOjV9y8rXp7qImreT8OtnT92/TKXNb1vXk1iS7vJAAAwIC2cl86SrmGLe7Yc9Q3cQAwcPV70NXY2DhhwoTi4uLJkydPnTp1+PDhI0eOrKioiIfPpqqqKtSEylAfzgrnhis0NDTEwxdckM1mN2/eHDpDzbRp0/70pz8VFRWF43BWVBBc4C1aW1vDlVetWlVXV7dgwYJ58+alUm/NcK+pqVmzZk0ikYjKYABqS7ateHnVfz7wo7y4K7Srp3/5/mfnHmu3/t771t6Z+d68mlzWdcWMqsOtXfEYAAAAA0xNa+aq0nhrrgde8+0bAAxo/Rt0ZbPZDRs2FBUVbdy4MZovVV5ePmLEiFzwc6Z0Or148eLi4uKdO3eGU4KtW7eGK6xevTqTeevHZy68oKmpacIpUS4VCsLjhYLS0tJwbp/corq6ety4cdH1Kysrx44de/jw4fAll5SUbNq0KdSHfhjgapoO3LXp7ituvyov7vr4uMtHLPndlv1b/Ul+XzLZnpErD+ayrv97W/mugzJvAACAAaezu+f6tfHWXL94PNnte18AGNj6N+hKJpNz584dPXp0XV1d1NPe3j5jxozx48cfOXIk6snT0tIy9ZRwEPWEylAfzgrn9klBWVlZUVHRypUro1AqqKmpGTFixIMPPtjZ2RleXvgtzhp0bd++febMma2trafOgMIQ/jN5oerFkUv/8KkzljS85s6vzHtuQUtH/F8B52PB1uYPjd4TZV1/cfOe9XtOxAMAAAAMDNNf6oxSrmuWdRxuF3MBwEDXv0FXW1vb9OnTewdCnZ2dDz74YHFxcXV1ddST5/Dhw2PHjp07d24ymYx6oouMfzsbu/CCM0XRV25G14XfIm/pwnvvvbehoSH0hBtF9VBwTiZPPrx18dfv/o+8uOsTt/7jb0t/v7V6uwle5+mZypN/fUtZlHVdNmr3zKfO/v8lAAAALr4X6rqjlCu0jW+89TERADDAXYygKwgHUU8UdBUVFfXeEKu3KEPKTa4KoouEzjDUJwV5ohUFi4uL9+7dG/X0yS1qa2tnzZoVvtLwa0NDw9q1axctWpSrh8L1Wu3rt6wa+4+3/VNe4vXlGV+d//xCE7zOR2Vj6lOT9kVZV2i/WlzXZS0MAACAS+1oR/ba5fGihWOfP/umGwDAQDPUg65MJrN+/frwPEuXLo2mcwV9e4ugpqZm0qRJ0UqG72LBuYXnhAHlZKKtdPuy/7jnu3lx1ydu/cffLf3Dtv3b4zrOoelk51V3VeWyri/fU93SkY7HAAAAuOi6uzPFT8Qp1/fXJNpS3fEAwLuKP9sFLp0hHXRls9lt27YVFxfffffdJ06c3imnD28RJBKJuXPnbtq0qbm5ef78+eF2kydPPuvKjXGodTYdHR3tMCC9vP/lMatu/fSEf85LvL44/dr7nnqgoflwXMcZjp9o//HCN3JZ16cn7yura4nHAAAAuLge2NkepVxfWNKx+1DcCfDuclvbAJfQxQi6Jk6c2NzcHPV0nt8eXbNnz04kElFPdJG8/bEupCCSzWa3b98+fPjwu++++/jx43HvKX11i8i2bdtmzpx59OjRefPmLViwoK6ubtWqVVOmTMm9JzlRpnVW3TCwtSfbV7686vv3XZ8Xd33y1k+PXDpq2/7t6XQ6LuWdJj/RkMu6Pjp27/NVJ+MBAAAALpbXD3cNWxJvzbVoT2fcC3Ae4s92gUunf4OuZDI5d+7c0aNH19XVRT3t7e0zZsw4ayAUaWlpmXpKOIh6QmWoD2eFc/ukIFJRUTFy5MgJEyacuaJgX90iaGpqmjJlSllZWVRQWVkZOsMdx4wZc645bVDQ3jj6xuR1U/954r/lJV5fv/s/Hnt9ndncZ7Xm9ZaP3LQnyro+PHrPvBfzU3AAAAD6T1tn9j9WxYsW3rApaQtlACgs/Rt0BRs3biwqKlq/fn30AXd5efmIESPmzZuXSsVbeoaD2tra3BqA6XS6tLS0uLh427Zt2VO2bt0arrB69eroChdeEFRWVt50001nTbmCPrlFEI7Xrl0b7f4l6GKoWff6+h/N+0le3HX19C8v2b40lY7/eyfnpZr2/zVub25q1y8X13Z1+94KAADgYrjpmVSUcn1jZeKYnAsACk2/B11NTU2TJk0qPrUx1dSpU4cPHz5y5MiKiopoNJ1OL1++vKioaOPGjVFPUFNTE2pCZagPZ4Vz8xKpCyxobm6eMmVKuOlNN910xzuFE6OaC3+GoL29fenSpVFnKpWKli4ML9esWXPWpQth8HmzqWbyuqmf/dO/9I67/nXyFbM2z25q85/AO9Qf7xo2oyqXdV09c3/jyXQ8BgAAQP9YU5WOUq7QXjlsCTIAKDz9HnQFx44dKykpGTlyZHFx8axZsyoqKrLZ+KdjwsHmzZtHjBixY8eOqCdSW1t73333DT9l/vz59fX18cDbLqQg2mGr6Gx6z7K68GfIE96HUBbehMmTJ59rizIYlNpTHfOfX/jvU6/sHXd98tZP37xyzL6GOPYm6Exnf7m4Npd1/d348p21HfEYAAAAfa2mNfPFpXHKNecVq48AQEG6GEEXQJBKdy59afkXp1/bO+4K7cfzfvpcxfNxET09819s/vDoeMuuj9y05+Htx+IBAAAA+k5nd8/1a+OtuX7xeDJ9ejMKAKCQCLqAiyqTzTxV/nTR/J/lxV1fnfmNFS+v6rR91ynb32z/u/Hlualdv1lal85YJh4AAKAv3b6tM0q5rlnWcbjd91wAUKgEXcClsa+h4pZVYz9566d7x13/NmXYfc880NLRGhcNYY0n01fP3J/Luq69p7q53ZZdAAAAfeOZ2u4o5QotHMe9AEABEnQBl9Lx9uOzNs/+l0mf7x13XX7bZ//02KT64wfjoqGqqzv7h1UHc1nXxyaU7zqYiMcAAAD4oA6ezF6zLE65pm6zsggAFDZBF3DpJbuSS7Yv/dKdX+kdd31s7KdGLPndrrrdcdFQteKVlo/cdHrLrkdfN90NAADgg0tneorWJaOU6/q1iZS1MwCgwAm6gIEik81sKnvyB/f/sHfcFdoP5xY9ve+ZbHboLpi+62DiExP35aZ2jVnb0G3LLgAAgA/krh3x1lxfXNpxoDUT9wIABUvQBQw4rx547YbFN/7D2E/2jru+OvMbq3Y+0tXdFRcNMcfa09fd90Yu6/rGvW80nvRjhwAAAO/Pi/Wnt+ZaW+W7KgAYDARdwABVe6zutkf/dPn4z/SOu66Y+oV5zy1oS7bFRUNJdyZ762MNuazrf43b++S+k/EYAAAA7+Vwe/ba5Yko5RrzXCruBQAKnKALGNBaOlrv2TznXyZ9vnfc9ZkJn7tjw51HTx6Ni4aSR3e1/tUtZbm4a9xjDfEAAAAA55bO9Pz88Xhrru+vSXR0WRAeAAYJQRdQAJJdycXbSq+e/uXecdcnbv3HMavH1TQdiIuGjLrjncNmVOWyrnBc09wZjwEAAHA2d78cb811VWlH9XFbcwHA4CHoAgpGJpNZv+uJ/7jnO73jrn8Y+8kbFt/4Wu3rcdHQ0NX91jKGl42Ks66/vqVsxSst8RgAAADv9Fzt6a25Hqm0NRcADCqCLqDwbNm/9ScLft477grtJ/N//vKbO+OKoeHZyra/HV+em9r1y0W1iS4/lggAAPAOB09mr1kWp1x/fNbWXAAw2Ai6gEK1r6Hit6W//9jYT/WOu34876cvvbEjrhgCjralvzbnjVzW9dmpFXsbkvEYAADAkNeV6fnxY/HWXN9bk0iYzQUAg46gCyhs9ccP3vbonz41/jO9464fzi3aVr09rhjsMtmemU8d+fDoPVHW9ZGb9sx7sTkeAwAAGNombom35rq6tOONFmtgAMAgJOgCBoPj7cfvfvKef574b73jru/d959P7t2czWbjokFtZ23HJyfty03t+u68N1sT3fEYAADAkPTY/nSUcoW2ucZkLgAYnARdwOCR7Eo+tGXRVXdc0zvuuvaur6/cubqruysuGrxOJLuLHjyQy7o+NqH8pZr2eAwAAGCIqTqWuao0Trmmbe+MewGAQUfQBQxCj7722Ffu+kbvuOvzU6588MWHU+nB/73Ng9uO/cXN8TKGfzZq9x2bGrszQ2JOGwAAQE5HV/bbjySilOun65Nd1iwEgMFL0AUMWs9XvvDjeT/Ni7sWvFCS6EzEFYNURWPyc9Mqc1O7rp65v/poKh4DAAAYAsY8l4pSrq8sTxxp98N/ADCYCbqAQW5X3e4bS0f2jrv+ZdLn737ynqa25rhiMEqls79beTCXdf35zXtmP3vUzC4AAGAoWF0Zb801bHHHK4ftXgwAg5ygCxgS3jj6xm9Lf9877got9LxW+3pcMRg9UXbir28py8VdpnYBAACDXnlzJkq5Qluwa/Dv1gwACLqAIeSNo2/+ftnovLjru/f+YMOejXHFoHOopevbc9/MZV0fuWnP3U8fTZvbBQAADEZHO7LfWBlvzTXiyWTWtz4AMAQIuoAh5+jJozOfnPWvk6/oHXcNu/3qBS+UtKfa46LBpXTH8Y+O3ZuLu4bNqKpoTMZjAAAAg0Kqu+fHjyWjlOv7axInO8VcADAkCLqAoWvZSyuumPqF3nHXpyf889THpzWeaIwrBpHGE10/mF+Ty7o+ctOeGZuPmNoFAAAMDuF7m5ufTUUp15eWdRw86ZsdABgqBF3AUPfQlkX/NmVY77grtD8sv6nicEVcMYiseKXlf99qahcAADDYzH2tK0q5hi3p2Hm4O+4FAIYAQRdAT2e6c8XLq7468xt5cdfPF/5qy/6tcdFgcbQt/aOSA7ms6yM37bnjySNd3X7aEQAAKFTP1XVHKVdoqyrScS8AMDQIugBi2Wz2mX3P/njeT/PirutmfevR1x5Ldw+qb5Yefb31b8eX5+Kuz0+v2ttgahcAAFB4Ko5lri6NU67bt3XGvQDAkCHoAshXdnDv75b+4WPjPtU77hp2+9ULXihpT7XHRYWvuT39y0W1uazrw6P33L6x0dQuAACggBztyH5jZSJKuYZvTNqGGACGIEEXwNk1tDRMXjf10xP+uXfc9dk/fW7aE9MbTzTGRYVv494Tf9dratc/3V75wv62eAwAAGAAS6Z7fvxYMkq5vr8mcbJTzAUAQ5GgC+DdnEiceODZef8+9crecdfHx10+ctmo1+t2xUUFrqWj+9eldbmsK7QflxyoP94VDwMAAAw83dmeGzenopTr2uWJgyelXAAwRAm6AN5bV3fX6lce+frd3+wdd4X2/fuvf3z3E92Z7riukG19o/2fbq/MZV1/cfNbKxmm0r5XBAAABpzwjcqtz8cp15VLOl4/kokHAIChR9AF8D48V/H8T+b/PC/uunLaF+c9t+BE4kRcVLDSmex9zzf9zdiyXNz1yUn71u5qjYcBAAAGhhk7OqOUK7SnDgyGHz0EAD4wQRfA+7avoeKPq8Z+8tZP9467Lr/ts7c9+qeapgNxUcFqakv/17L6y0bFWVdoX51Tvf9oKh4GAAC4pJbs7cqlXOE47gUAhipBF8AH1NTWPPupez8/5R3bd4X2ywf/34tVW+KigrXrYGLYjKpc1vWh0XtuefTQiaSflAQAAC6lpw5051KuGTs6414AYAgTdAFckK7urkdeffRbs7+bF3d9beZ1y3esSHUV8ESobLZn8UvH/nZ8eS7u+rvx5aEn9AMAAFx8Lzd0X7kkTrlufT7lWxMAIBB0AfSNl9/c+V+Lf/uxsZ/qHXd9btLn79p0d+OJxrioAJ1Idt+85tCHRu/JxV3DZlTtOpiIhwEAAC6KsqbMF5fGKdcfnk51i7kAgFMEXQB9qf74wamPT/vsnz7XO+76+LjLbywd+dIbO+KiAlTRmPzqnOpc1nXZqN0/eehA+eFkPAwAANCfaloz1y5PRClX8YZkp1XVAYC3CboA+l57qn3R1iVfuvMrveOu0L4287rF20rDaFxXaB59vfUTE/f1jrt+/nBtZWMBL88IAAAMfHUnMt9YGadcP1ybaOs0mQsAOE3QBdBfstns0/ue+cmCn+fFXZ+e8M/j10yoatwf1xWURFdm8obGP7/59EqGl43a/ctF4i4AAKBf1LSeTrm+tTrRnJByAQDvIOgC6HdvHH1jwtpJn5nwjvUMQ/vh3KJ1ux7v6u6K6wrHwZau366o/3Cvjbv+bNTu4iV11UfFXQAAQJ/ZfzzztRVxyvXtRxINbVIuACCfoAvgImlPdSzZvvTrd38zL+76tynDZj4563BrY1xXOGqPdf5mad2fjYqzriju+nVpXU1zZ1wBAADwQVU0n96X63trEo3tUi4A4CwEXQAX2443X/7d0j98fNzlveOuj4391G8Wjdiyf2s2W2DfvFUfTf1yUe1lveKuD43ec8OyenEXAADwgZU1Zb687K2IK0q5mjqkXADA2Qm6AC6NprbmOU/fN+z2q3vHXaF96c6vzHtuwbH2Y3FdgahsTBU9eCCXdUVx14jl9bXHxF0AAMD7U9aUuWZpnHL94FEpFwDwbgRdAJdSd6Z7U9mTP1nw87y46+PjLh+x5HcvVm0prAleuw8mrl9Q0zvuCu03S+sqG+3dBQAAnJdna7u/+HbK9aPHkseTUi4A4N0IugAGhJqmA5PWTfnsn/4lL/G6evqX739mblNbc1xXCHbWdnzrgTfz4q7vznvzuaq2uAIAAOBs5r3eFUVcof1kXbI1JeUCAN6DoAtgAEl2JR959dEfzi3Ki7s+Nu5TNyy+8fnKFzLZTFw64L1U037tPdV5cdfnp1c9tP1YsqtgvgoAAODiSKV7xjyXyqVcv96QbO+ScgEA703QBTAQvXH0zWlP3PlvU4blJV5fmHbN7KfubWg9HNcNeNvfbP/hwgOXjXpH3PXRcXtvfayh/nhXXAQAAAxtRzuyP12fzKVc455Ppf10HABwfgRdAANXujv95N7NxQ8N/9jYT/WOu/5h7CeL5v9s1c5H2lMdcenAVtPc+ftVB//i5j29464/G7X7+/Nrnig70Z3xc5oAADB0VTRnvr4ykUu57nvVj8QBAO+DoAugABw5ceS+Zx64evqXe8ddoV0+/jMjl/7h2YrnujPdcekA1tLRPeuZo5+atK933BXax/60b+rGxsOtvpsFAIAhZ8W+9FWlccQ1bEnHuv3peAAA4PwIugAKyZb9W29a8ce8uCu0z036/JT1t++u3xPXDWDdmewTZSe+df+beXHXn43a/Z8LajbuNcELAACGhOPJ7B+ePr0p1xeXduxoKIAf4ANgKKh7oWzK//drB57dFb2sWLPlzsu+e+jlyuglA42gC6DwdHR2rHl17c8W/jJvScPQvnLXN+5/dm5DS0NcOoDVNHeOe6zhf9+6Ny/x+tiE8gnrD1cfTcV1AADAoLOjobv3coXfeSRRccyuXAAMFB1HW0uvHfPgv4+seHRraOFg2dfHJY+3xcMMMIIugAJ29OTRBS+UXDfrW3lx1z+M/eSP5v1kxcur2pID/S/gru7sqldbvn7vG3lxV2hfmlX94LZjJ5J+qBMAAAaPdKZnziudw96OuEIb81yqvcu6DgAMLCfqjj5adMcd//1boT0+fFZ4GQ8w8Ai6AAaDisOVd2y484rbr8pLvD5566eHL/qvx15f155qj0sHqprmzgnrD//DhPK8uOvPb97zi0W1m8pPpC1pCAAABW7XkcyPHkvmIq5rltmUCwC4UIIugMEjk81s3b/tppW3fHrCP+clXp8a/5nfLBqx7vX1HZ0dcfWA1J3Jbio/UfTggY/ctCcv8frb8eU3rzn0Wn0iLgUAAArHsWT2Ty+e3pErtJ8/nqw7YblCAOBCCboABqFkV3Ljnk03lo68fPxnzky8blh848BPvI61p+99runfplfmxV2h/dPtlXdsanyjySZeAABQALLZnlUV6WuXn96Ra9jijtmvdKaFXMBglGg+8dAVv5/ztz9rrqiPu4Jsdud966b8f7+29qfTuxKnP9Do6kjuuOfR+Z/9rzB010d+sOZHtze+Xv3W/zdPqXuh7MxTmsprH/hEcSh+c/OrDTsr7/6rHz585R86mk7Ew6dUrNkSTnz817O6U11vvc5mw2XDxcNZoT/cLtw03PpUbSxU7l3xfLjU7f/tujv++7eWfX3cm0+9lj21uE74QsKXE048awtfbPiSz6wJF1n0xZt2P7w570ZBS03jE7+ZnXuY1xZuTCc647Genl0PPRn6nx37YPz6baEn9If3JHp5nmXRe3hmWW95l3pfv4O9nfWRThxsWvi5G3s/0vk8eXR8rhauEJ3y7u9kcK7fu+h3LS4677Lw5yH8qVjy5VuiPyQrvjWhfsve3B/X8LaENyeclftKg0y6+4WJS0LnYz+/M3Wy4zy/rg9A0AUwmCU6E+t3PXHD4hs/eeunz5547Xp8gCdeuw4mxq5tOHNJw9Cumrn/3ueaGk+c+kcbAAAw8Oxrzvxs/em1CkMrWpcsa5JxAYPWWWOSo3troyChd0zSeqBx0VWjQ+e9f/+LB/995PzP3hDlB3uWPB2FB1FI0/uUtsPHF3/p5lC2++HNoaazPbn6B1PCy97RQndn+onfzA4nVqzZEl5m0t2vzn08uvLCz90YbjTrf/44jC77+rhwteiUxLGTjxbdETrDUCgIZaE4nPLilKXh9LaGY9umr3hh4pLQNv72vjsv++68T//m2Vsfjnpenr22sy0RJSW5/mfHPrj4mpujAKb02jEdR1ujG4VnLl/5fOjPe5h1v7wrfC1RyfnkQMF5lkXv4ZllveVd6vx/B/Oc+Ujh3QtvSOgM7X09eeXabdHbG9rDXxgV+tcXz8z11G8tP593Mmgqr53zv38aykr+7XehJvebm5dgnU9ZuOyTf5gbbpH3hyT6oxgKzhJ0ZbNhNNSEP7TRH7b3/ro+KEEXwJDQnmpf+9pjv374N5+49R/PTLxC/8qdq4+1H4urB55MtufZyrbfLK3761vK8uKuy0bt/sa9bzy0/VhLR3dcDQAAXGpvtmTGPJca1iviunZ5YlWFvXeBQe7MmKSzPbnul3dNOZV25GKS8Ov64pm3/7frXnlgfTzvqqfn0MuVD3yiOLSWNw+Hl1FIkzsld50XJi7JpOPPQF6d+3joeermBbmek4eaF/zziNDCQXgZLnLXR36w6KrRx6sPRQXpROczY0rCWVunLe/JZsOJL05ZGl4+fcvC3OyrKIS787LvHty+L+qJRIHWmWHPWftTJzse/fG0cOUocgsaX6++56NF4Qs8WlYT9YSax35+Z6gJX0jUMwCDrrP+Dp7pzEc68Oyu8OZHJ77fJ885a//5vJNB9OWHh08n45le0VeXF3S9d9nbE9qiiVmnSnrCrcMDhMeIniG8LeHN6f2o0ZcfaprKa6Oe3s719X4wFyPoampqKikpGT58eHFx8axZsyoqKrJvT2c7qzB64MCBOXPmhPpw1vz58+vre00S7IuCSCg7ePDgkiVLtm/fHne9ra2tbfr06UXvFHpCf1TwnrcIo3feeWc4K3zJjY2NcS/ApdaWbHvklTW/LCn+2LhP5SVeHxv7qR/OLSp58aG6Y2f5f+YAkezKrHm95YcLz7KJV+j5/vya0h3HTyQlXgAAcMnsP57547Pv2I4rtElbOltSMi5g8DszJtmz5Onb/9t1K7/zpzn/+6e5mOTQy5V3XvbdVd+flDrxjoV2ouCqrPSZcBzFD/Epb0+OWffOKTstbx5+4BPFJf/2u7aG+MeXqze8HM6Koq9odlc4K3RGo5FQHE5ZdNXo5PG21gONcy//9cLP3XjiYFM8fMobT74STnx+wuL49SnvK+gKtkxdFh5m16kl6cLzhKcKL8tXPh+NRqJzV31vUmfbW/uyn2cOdJ5l0Xt4ZllveZc6z9/BM+Vdp+Noa+m1Y+Z9+jfh196PdJ5PnnNm/3m+k8GZX35+gnXKe5ZFf2DCn7Qogs2JvpaX56wNx+FtCW9O7lGj2Yd3feQHB57ddao237m+3g+m34OuxsbGCRMmFBcXT548eerUqcOHDx85cmRFRUU8fDZVVVWhJlSG+nBWODdcoaGhIR7ui4JEIrFt27YwFCVY4TgeeFtzc/PEiRPDRaZNm3bH2xYuXNje3h4VvPstWltbw4mrVq2qq6tbsGDBvHnzUqm3/vTX1NSsWbMm3D0qA7iEWhMnVuxY+dMFv/jY2PzEK7TrZn3rns1z9h764FOG+1trovvh7ceuu++Ny0a9I+6KEq8fzK9Z+rLECwAALqqKY5nRz+RHXNYqBIaUvJik5c3DUdRR+/zu3lFQ74Sgt46mEzXPvH5071szYKL4ITolmhyTWwIupzvV9fivZ93+365748lXwssoAsm9jB4mN7srJ5QdfnV/7Qt7Uic7ors8+fsHQmc8fEoYCgWhrHf/uQKtM/vDWfVb9j5waoJac+Vbb0XyeNuiq0bPvfzXrQfeMS0k1dq+9Gvjcv3nmQOdZ1n01fVud/z3bz3yn1Pqt721+l9Uk3ep8/wdPNM7rpPNbrtzZfiN2LPk6Q/25Dln9p/nOxlEX37ve+UlWJH3LKvfWh6+lid+M7u7Mx0VRKK8NuoPb0t4c6JHjebAhVNyCxue6Vxf7wfTv0FXNpvdsGFDUVHRxo0bw3HoKS8vHzFiRC74OVM6nV68eHFxcfHOnTvDKcHWrVvDFVavXp3JvPWvogsvCNauXRt6Ro4cOXXq1HBwZtDV0NAwZsyY0tLScLW4q5f3vEV1dfW4ceOi3KuysnLs2LGHDx8OX3JJScmmTZtC/anLAAwILR0tq195ZPii/7p8/Gfy4q7Qrrrjmsnrb3/pjR25/4UONEdOph94oenae6rz4q7QPnLTnh8uPLDm9ZZk1wB9eAAAGATSmZ7NNenfbHzHXlxRxBX6fQoCDCm9Y5JMunvzqHnRpJa8KCj6lH/XqalO5xLFD7k253//NLdOXW8Va7aE0WgKV0fTiYev/ENugld007xUI8+5cpezOjPQikT9uUfNtUVfvCm3ZOKx/Yfu+4df5hXkWvSOhbLoec7VcrnIeZZF72G0rVTUor3Qemcwee/Aef4Onqn3daKlBaPpd3mJznk+eU7e6cF5vpNB9Gej97S8vAQr8p5lZaXP5K5/Zovek1zQlWvPjCnpnZLmOfPruhD9G3Qlk8m5c+eOHj26rq4u6mlvb58xY8b48eOPHDkS9eRpaWmZeko4iHpCZagPZ0WzqS68INi+fXtVVVU6nd62bdtZg64wGvrXrVsXv36n97zFWYOucNOZM2e2tr698x7AAJPoTDy5d/NNK2/53KTP58Vdof3LpM//cdXYp8qfTnadniA/oDS0ds1+9ujVM/fnxV2h/dUtZf9vSd2m8pNd3b7JBgCAPnO0Izv3ta7rVibyIq5fPJ58rtY/voGhqHdMUr3h5dv/23XP3vpwJt2dF5NEn/LvOo+g666P/KDk335379//Ihz33p0rJ9qUKwq3winRHaMIJ7ppXqqRJy/meXfnCnui/nmf/k24dXjI0MIFH77yD+Fhln19XDQLLaq5479/a+HnbszFTrm27Bu3Hn/jrY/To+fpHU1FLfSE/lwucp5l0XuY99VF0+NycWDeO3Cev4Nnyl0ndaJj1fcnheJoZl7o6f1I5/nkOXmnB+f5TgbRvcKv0csgL8GKvGfZuZ45ak/dND+d7MwFXXM/9dZKmOHxzrU7V+TMr+tC9G/QFe101TsQ6uzsfPDBB4uLi6urq6OePIcP///Z+w/oKK58bfj90rprfevedc6cOe975pzJ4wme4JnxOOOEDdgYDJhggQETbYxFBssgBAgkoZwjyjnnnHPOObSkllqt0Gqpu9UKnRN3l6oti0KAAAFCen7rv7Sk6l3V1dXV8dHee9TU1NTPz08u13+RSm9kLht7/Abz3SvoampqIss9PT3p4Q0tLCyqq6vnejM88CoYQxfeunWLx+ORJe3tS3O3AQA8URqtprqvxjrd9iP7TYy4i9TrZm+dCD0dWR3NE+tfNZebYbHKrXB8vXMPI+4i9ZcbHd8nDFf0STADNgAAAADAIyPvpqtHNCbFivWRd+RbpE5kyyuHMYQ4AKxeczEJp7Ap/GPjubmvGDEJnRzcPXThfHRIQ68i6OT6vmI4vx/SHO0PwxWyc+or7WOdfv7FcHUXfRG9M3cPXTgffS13D124oHuFPQsv1+k6E8rIjuVc8NYo1YvZGYI+MnOx05wF46IHNqNvHaOZSipPOWxPdmyokpqzg7GpRd6Dd6O3U2Qa3BJC/VLvnU7fU4+253PuXr7II0lUOsSRdVnJFfq/70qwaA9sRh/G+58k5LCQg0PvKmlWZhlJfr97sM0597q9j+ZpBF0E+YVeQgddR44c6enpoZcw0BkSaUNa0kvojZCF5KIlaTDfvYKuiooKspyeo4uegosgzehRBxdzFVwu193dnWyE/OTxeKmpqeHh4XPtAQCeFx0jnR75XjvdDRhxF12fue50yHaq6atVaxYY6PWZ4wiVLgVj6xZKvF626DRJHqnql9z55hAAAAAAAO5Jrb1dy9M41yoNEplduLbFyZxqlJ1CjBkOAKsdnRC4/f5g1NZrVPiUXUcvZ8Qk9ORGCfusFFNSugGtM77U5ocAjE4X5lah+yHRw+jNtv1RX14DuS7SMmKTSdSWa/IJ/bfxGqU667Tn/N2gkQakGZ2UTA7w/V6nuuDQcc6c4eousoeMbOPhgq4fltN5yb12htBpdXPp3VMLusitI/cC+XPBoOuB9+Dd6O2Ebbjo+4rh/Hv20fZ8zt3LF3kkyX6SvZ27mTRGgkUsptm9ThJi7vSgtzO3q/Q0XeRPevxGus1897q9jwZB18JBl0wmY7PZIhHVdVGn03V0dJw7d87e3p4eePChroLgcDhWVlb0SIb3EXhv1DxgAADPFFc4GFIedtDvyMumrzHiLlJrbr57LvK7hPpEwbRQv8Jy0i9QOOePrXNaIPF6yazzSspISfe0vikAAAAAANxpRqnN56htKpWbY+4It+gyKlDk9qv0TQEAVgf5xExjQFbUlmsN/pn673Z/QCcENrNzFGWf9dIoVPRyRkxCfmYYutr9584G34y5NuPtHN9XDEkz0pj8OXhn0HVbp2sNyyer3D0iHB1c0VdaaR87F3UQZCMuv94f/rHx3FxZ5OpKLSJIS/JTq9aQKreJJn8WXg1SSfWBxNSwIGKzidPPv2CEavcPtJjLf9jhueX0zpD9H65hze0kua6EfVaVDnH0cXgKQddihi4kS0jd5x68G70dUmTjI7Us/dJH3fM5Cy4nfz7wSNI3M2zDRangx85bjASLWEyzuZMk5YiDZEw/ep9OqxsoaSGHkVPYRP4kh4UcnPm7OjM6Qc4ismTBITfvdXsfDYKuhYMuBnqysbkRFx/qKmQyGVk3NzdXKBQGBASQjVhbWy84cqM+1FqIVCqVAAAsDyOCkcTa5Isxl9farGfEXXR97rHHKculqrt6emZav86y0TEots0cWufEYsRdpP5wte1UJCehbmxiSt8YAAAAAGA16+BJQpokp7MljGSLroMpUv8GyYBA3xgAYDUQjYzV+KRGfHrF9j922MxGGtE7ruu/2/3BXEzi+4qhsJvKq2h3xySTA/zwj41Jy1t//ybkQyN6WiOXX+/vjC+lo4tBRtA1mzcsPCKcTldpH0uWM/rlEGSVRr9Mu//cOTelEz3dV8JeK+k41amDkImmU444kIX0JEzBa78ju0FWqXFNYuQT9w+65s/RlW/sH7DmLNkm2dSPaZlO1xZZSPaELPd77eSCt/pJBF3zJ5eir5FUe3Qx3eZeQdcD70GGuaCr3CZ6/nF7tD2fs/Dy+x5JuWg6YZ8VuQfJpXMjKNLmJ1jyiZnFNKOXKCXyzFPupCW5FvpEItdL/iS/iHqGSYO7gy7iPkNu3uv2PpqnEXRZWloKhfrBIumgay4xuhudIXl6espkMnoJvRHGFFyP02C+RQZd9G7P5XMPexWurq7j4+P+/v6BgYGDg4MJCQk2NjZzx2QOnWktSA0AsCw1D7R4FXjv8z7AyLroetfqA5P4a/G1CYIpoX6FZYM9JnPOG13v3M2Iu0j9/mr7N2EDyU2iaZlS3xoAAAAAYHVgCVTJLKVNpWJfCnNwQrpO58gi2xRcsb49AMBqIBFNNQZlR2+/bvdTKhKYX/b/axcj9qATArv/3NkWWahfNGvBmEQlldd6pMwFQlmnPcUcvv6yhYIu4l4jwtFjIUZ/dl0xKdEvmqPT8ZvZyYfsyFWQFYPfv9ARVzrXUYlG/iQLwzZcJHvu8F8GSV/akFUYyQRx/6CLbHx+uf/xcPYZT0HXoL4RTacb7+CSW0rvDN1m/q1+EkHX/Lr71i0YdC3yHpyP3k7UlmtzCSLt0fZ8zr2W3+dI0jeBLKnzTGXc0fMTrEU20y+aPUl6M2sjP71KZ2PkvCVn71wvQHJY7g66CLrHGKkf885Z97xdj+TJBl10RyhjY+PBQf3ZLJFInJ2dFwyEaGKx2HYW+YVeQlqS9mQtsu6SNJhvwaCLNAsKCvLx8aGHLiQYPboWfxUCgcDGxqa9vZ1u0N1Nxek8Hu/atWv36tMGAPA8mpRNZbVmX0kw/cBmAyPuIvVP01cNPPe65LrV9tctt9m8OEKlW+H4Fk82I+4i9VuTtm8jBrPaf3xFBwAAAABYYcRyXfmQxrtRdT5P/kk0M9aia0us7EapIrdfPa1kfuMJALCCSQVTDT7pMduv29yZlNDl/+bpEvNwXv1y+Y6XnlKLntwLYLV5skEXkZOTc+TIkYyMDK2Wmo+0s7Pz3Llz/v7+CoU+9iS/cLncuTEA1Wp1VFSUoaFhVVUVPeBpZWUl2UJiYiK9hcdvMN+CQRfZQmxsLFlOViSrkyUsFsvIyGhujq5FXgX5PTU1NTo6mrRH0AUAq0f7cIdPsd8B38OMuIuu183XnAg9HVYZ0cPv1a+wPIgk6sjaCQPffkbcRepPpu1nYoYKWdP6pgAAAAAAzy2V9nbrmDamU3WjVLEnaeFuW3QdTZf7NKmax7RaxFsAsJoIOrmVDnEhHxrZ/Pt2Rrhl+5Pt4Z9crnVPnhoc17deJmaHLvR48ch4O0e/BGA1eeJBl0AgsLKyMpydmMrW1vbUqVNGRkYsln4qtrlIKScnh15CcDgc0oa0JO3JWmRdCwsLHo+nv3gpGsxZMOgiSGOyyvzdJr/TsRbdYDFXIZFIoqOj6YUKhYIeupD8mZycvODQhQAAK8yUbCqvI9881XKd3ceMuIuutTbrL8WaJDUkj08vozeIYqkmum5it98Cidfvr7YfD+emtU5Klcz/nAAAAAAAWLYGJrU5fWr3OuU3mXJGmsWoA6ky11plPkctliPdAoBVRKfVDZa3F5gE+rz8LSPcIuXwM4P4Lyxbw/LlEzP6FZaZkVrW/UfVA1jZnnjQRYhEouDgYCMjI0NDQ3d3dxaLNRcXkV/y8/PPnTtXW1tLL6FxuVxvb+9TswICAoaGfpzzjfb4DWj3CroIgUAQFRW14G7TFnkVc8hxIM3o8OxeU5QBAKxU/QJOeGXkidDTb5i/zYi76PrMdad1um1hV5FEIdWv86yJJOrACuFnXn2MuIuuvf6c0GrRpOyOSVkBAAAAAJaJwSltXJf6YqFicwwzzWLU1xlypxplMVcjViDcAoDVRS1TdqdWZRi6uv7uACPcIkUWkot60qpJM/0Ky0+1c6LfayfJ3rr8ev9Irb57CcBq8zSCLgAAgDkqjaq2v841z32v95cvm77GiLtIvXz9tf0+B93zPev660lj/WrPFH9KdatEsHWhebxIHQwaSGwSy1Xo4wUAAAAAz5JOd7t3Qpvcrb5Z/oAxCQ0SZddKFBHtqka+Rr68ptAFAHgaZMKplpC8+D03HX5mMD/ZosvnX4aFV4OGKjp0z8PIreXWUWSfo7ZcG21CzwpYvRB0AQDAMzMtn85tzzNPtdzstJURd9H1uvma4yEngspCunjMbrXPhGBGHVEjOhDI+Y1JGyPu+v3V9hORg7md0yoN/g0WAAAAAJ4SheZ2w6gmtE31fYFiS+w9w61NMdIzuXKfRlURV8OX4P0qAKxS4+0DlQ5xYRsu2v6EOfmWzb9vD11/scopXsh6wKhdALAMIegCAIBlYXhiOL4+0Sjm0vvW6xhxF13vW3/4XfTF2No4rpCrX+fZkSi1SU3iQ8EDjLiL1IvXOy7EDZX2LNNhuwEAAADgeSeW60oGNR71SsOs+024dSpH7lqnzGSreycw9gAArF5alaY/vzHXyNfrb18zw61/+8zhvwziDCyag3Okgin9CgDwHELQBQAAy4tOp2ONdoeUhxmGnnrT4h1G3EXXxw6briVeT2/OEMwI9as9I1NyTVTthIFv/y8uMROvf5h3miSP1HKky6ArGgAAAAA83yQqXdmgxrVWeTD1nt22tsXJLhdRAxI2j2kxrjYArHIy4VRreEHifhun/9nDCLdIuf3+YOZJ9560apVMoV8BAJ5nCLoAAGBZq+PUexR4HfA9zMi65uoz153WGXYFnYUShVS/zrMgmFEHlAu3erJ/flfi9apVl3k6r2VYpm8KAAAAALAIau3tJr7Gv1l1Ilu+IZIZa9G1L1lmVaFM7VH3i5+HmWQAAJ4wfktfhV1M6PqFBif8t88C3jpdfCNspJZFzWoIACsIgi4AAHg+SJXS0u4y+ywnA88v/mn6KiPuIvXy9df2+xx0z/es669XaVT61Z66EbHKq0TwsWsvI+4itcaWZZfD7xnD/4sBAAAAwMJ0t2/3TmijO1UXCxWbopmxFqkNkdLjWXKPemURVyOS44taAIDbKpmiN6Mm+4yn55+PMpItUnb/uTN6m2n9rbSpYYF+BQBYcRB0AQDA80csncxpy72ZZrXF+TNG3EXX6+ZrjoecCC4PZY2y9Os8dRyh0jl/7APHHkbcRWqdU49rwRhXpNQ3BQAAAIDVbUyiS+9Vm5cpdsQvPDLhoTS5W52yfEgjU+tXAQBY5aaGBQ0+6bE7zRz+y4ARbpFy+c3+tGNOXYnlSolcvwIArFwIugAA4Pk2Pj2e0pR2Oe7KOtuPGHEXXe9ZffB9jHFCfRJpqV/n6eoaldtk89fYshhxF6lNbr0+pQL+1DPrfwYAAAAAz4pWd7tlTOvdqDqUJmfEWnTtjJdZlCsy2WqhDD23AAAoOo12sLy9yDTY/83TjGSLLmpwQtOQoYoOHcZzBVhNEHQBAMDK0c3vCa0IOxl25i2LdxlxF13b3T63ybArZpXIlM9gxqymIdmNNN6/LLsYcdfPL7XuuNUXUiUSSfAPugAAAAArnFSlKxzQWFYoP4tboPPWpmjp9wWK6E5V7wS+owUA0Jvo4zX6ZyXut3b+1T5GskXK4b8MYneZNfhmYHBCgFULQRcAAKxMDQONngW3DvodYWRdc3Uk4GufIr/mwRb9Ck+LTne7ql9yKXH4b2adjMTrV8Zt+wM48Y1iiVKrbw0AAAAAK8LojC6uS30hX/FRJDPcWh9BTbvl26RqGNWo8DYQAGCWYlLSlVSeddrz1kvHGMkWXZ5/Ppp91qs3s1Ytw7wAAKsdgi4AAFjhpEppMavEKt1mu9suRtY1V1/6HrLLdMhpz5uQTOhXe/LUWl1R9/TZmKE/mbYzEq/fXWk/Hs7N7phSafCPvAAAAADPK53uduuY1qdRdXihwQk3x0hNSxVZfepJBd7yAQBQVDJFX15D8Y2w4PcvMGKtuQrbcLHKMW6sjaNfBwAAQRcAAKwqIokov6PAIdvpgO/h18zeYsRdpP5p+qqB5xeO2c6V7GqF+in9U5hSrctsmzoezv3dFWbi9eL1ju/ih8vZEoxcAwAAAPC80Ohu1/I0DtXKHfELDE64J0nmUqusGdGo0XkLAOD2bbVM2ZfbUHQtOHjtd4xMa66cf7Uv5YhDW0SBXDyjXw0AYB4EXQAAsHo1DjQ5ZjtvsP+EEXfN1TfBhkFlIazRbv0KT5hUqY1vFO8L4PzKuI2ReP3TotM4caSsd0aDyAsAAABgWVJrb1cNa2yqFph8a32E1DBLHtpGzbylbw0AsLrxW/qqnOKjtl5jZFrzK2DNmSLT4KHKTv06AAD3gKALAADgdutQm0O20zbXHYyga67W2qy/HHclpz1vWj6tX+dJEknUgZXCLR5sRtxF6sXrHd8nDFf2SfRNAQAAAOCZUmlvlw1qLCuUW2KZ+damaOmVYkV6r1qMwQkBAGY7b/Vm1OScv+X+x8OMTGt+xey40eCTPj0i1K8GAPAgCLoAAAB+xJ/ix9cnGkVffM/qA0bWRdfLpq/t9znoWXCrebBFq3vi/5DLFSmd88fWOfUw4i5Sr1p1WWSMtg7L9E0BAAAA4ClSqG8XczXmZYpPY+4It+h860apooirUWr0jQEAVrPxdk6te3LsLjNGoDW/vP76ddoxp560apVMoV8NAGDREHQBAAAsrHWozafY76DfEUbWNVfvWK79LvpiYkOSYFqgX+eJ6Rco3ArHP3btZcRdpN6173bIG+sT4MMAAAAAwBMnU9/O56ivlyo2RTPzrU+ipaalisIBjUKtbwwAsGpJxyc7YktSjzq4vXCAkWnNVcRmk2LTkN6MGpnoaQydAgArGIIuAACAB5AqpfkdBeYpNzc6bGZkXXO1y2O3U45LbX+dWvNkv9jgipQOeWNrbFmMuIvURy69nsXjI2KVvikAAAAALBGl5nYeR21SrGCEW3RdLVHk9qvlyLcAYHWT8Cfao4szT7n7vPwtI9OaK9ffHUj7xrkrsVwxLdWvBgDw2BB0AQAAPIR+ASesMsIw9NTr5msYWRddb1m8ey7yu8SGJOGMSL/Ok9E8JLuRxvuXZRcj7vr5pdatnuzACqFgBt+1AAAAADwW3e3bDaMa26oF5t/6OEpqUkzlWzK85wKAVUzQyW0Kykk/7uL76glGpjW/wj82LreOGq7u0q8GALCkEHQBAAA8CqVaWdlbZZ/luN3tc0bWRdc/TV/d47XPs+BW21C7Tvekph8nG67sk1xMGP7rjQ5G4vWLS60Gvv0RNaJJGWaHAAAAAHg43CmtT5NqT9IC+dblIkVOn1qqelJv8AAAlrmhio5K+9i4z82df7GXEWjNr4A1Z3KNfHsza1VSuX5NAIAnA0EXAADA4xqfHk+oT7oQ9f3blu8z4i66PrDZcDXBNKc9T6KQ6NdZamqtLr9r+lTU4B+vtTMSr19fbjsQyEloFEuUWn1rAAAAAFiIWK6L6VR9kyln5FukzubJM9lqCfItAFiVZkYnmoNzE/fb3C/c+vftAW+dzjXyZSVXyCdm9GsCADx5CLoAAACWUhO32avQe7/PQUbWNVdHA44FlYX08Hv1Kyw1hVqX1jr5dRj3tyZtjMSLLCHLU1smSRt9awAAAAAg76A0t/M56kuFig2RzHzrcJo8vF01LsXbJwBYddRyJbesrehacODbZ5mZ1rwK++hS4ZXA7tQquRjhFgA8Gwi6AAAAnogZ+UxeR755ys1PHLcwsi66PrLfdCPZPL+j4Al185IotfGN4gOBnF9fZiZev7/abhg5mN0xpdLgKxsAAABYvXQ6agoum0rlpzHMfGtngsyjXskSokM8AKwuMtF0b0ZNgUlg6PqLjEBrrhz/e0/8nptVzglDlZ361QAAnikEXQAAAE8cV8iNqo45HX7uLYt3GXEXqX9df/1owLGA0iDWaLd+hSU1KdNE1IgMfPt/acxMvF407TgbM1TAmlZrkXgBAADAKiKS60LbVF8kM6fg2hQtNS9XVI1o8OYIAFYPmWi6Pbo467Sn7yuGjExrfgW8dbr4eii3tFW/GgDAsoGgCwAA4Kmq5zS45rkbeO5lxF10fWS/yTrdtqK3Ut96SYkk6sBK4fZbfT+/dEfcReovNzouxA0Vd8/gSx0AAABYwXS629UjmqslzCEK10dIL+QrMtlqmVrfEgBgZVPOyPrzG4tNQwLfOccItOaXy6/3J+63aQ7OmRmd0K8JALD8IOgCAAB4NoQzoqTGFKOYS+9afcCIu0itufmuUfTFpIbkCcnSf5wYm1b7lgm2eLDvTrz+eqPDKH64tAeJFwAAAKwo9+rCdTRdHtmhEsrwzgcAVr7Rxt4Gn/TMU+5B711gBFrzy/fVE+nfujYH5wo6ufo1AQCWNwRdAAAAz5hWp20caHLOcd3utosRd5H6p+mrBp57XXLd6vrrNVqNfp0lwptUeZUINrr2MuIuUi+ZdV5MGC5jzyDwAgAAgOfXvbpwbYqR2lUpOzEFFwCsdGq5cqC4pfh6qNdfv2YEWvPL9xXDgssBrJRKqWBKvyYAwPMDQRcAAMAywhPzwisjjwV9+8qNNxiJF6k3zN8+GnjMLc+jtLtsSraUHz+GxSr3ovGPXBZIvP5uPpt49aKPFwAAADxP7tWF66sMeVK3WqrCGxsAWMmGKjsrbGMiNpswAq355fnno6lHHRoDsmZ4Iv1qAADPJwRdAAAAy5FEIcnvKDBPtfzQdgMj7pqr3V5UT69KdrV+naUwOKF0Kxxf79zDiLtI/c2s87v4YczjBQAAAMvZPbtwRUttqpTtAnThAoAVi1ffU+WcELPjhsPPDBiZFl1OP/+CXFpsGtKVWD45wNevBgDw/EPQBQAAsNx183tCysOOh5xgBF3z63iwYWBZcCevS7/OY+MIla4FYwv28frLjY5zsUN5XdMqDRIvAAAAWC5k6tvxXep9KQvMwpXAUkvQhQsAVqKxNk6dZ2rcbgvnX+xlxFp0Of9yb/wXlnVeqaSlfh0AgBUHQRcAAMBzQ66Sl3aXW6fbfuq8jRF0zdUHNhuM40ySG1MFM0L9ao9ncELpUTS+4DxefzJtPxE5mNk2pVDjmyMAAAB4ZsalOq8G5dbYOyKuT6Kl1pXKtnF04QKAlUbUM9zon5V0wNb1dwcYsRZdjj/bHf3Z9SrnBF5Djw4DcgDAKoCgCwAA4Lk0PDEcVxt/Ier7dyzXMrKuudrutss20760u0ymlOlXewzDYpVn8fgmtwUSrxeutB8KHoisnRBK1PrWAAAAAE8eS6Q1L2OOUng4TR7fhS5cALCiTA7wW0LzUr928njxCCPWosvuP3eGf2xcZhk5WNauUeJzGQCsLgi6ng+jEp1So/8dAABgPq1O2zbU7lPsdyTg61duvMHIuugiy8mlpA1pSdrr13xUQxMq71LBNi82I+6ia4sH2zl/rJMn17cGAAAAeAJKBjWnc+Tz8y1SlwoV9aP48AwAK4SEP9EeXZx50v3WS8cYsRZdtj/ZHvTu+cKrQX25DSopPoIBwOqFoOv58F0+9R9qX2fI7auVab3qHpEWs6IAAMDdZEpZaXeZbab9drddjKxrrt62fP9U+NnQirBOXtdjhl5j0+rASuHnPn2/NG5jxF2k3rbrvpk52jgo1bcGAAAAeGwy9e24LvW+5DtGKdwYJSUflgenMEohADz3ZKLprqTynHO3fF89wYi15opclHPBm5VSqZiU6FcDAFjdEHQ9HxhDjdN1KkfuVqfM6Vf3i/FuHgAAmAQzwpSmNOM4kw9sNjCyrrl6x3Lt6fBzoRXhXTzW44ReIok6sEL4mVcfI+ui62WLzispIwWsaX1rAAAAgIc3JtF5Nii33PnpeEe8LLBFJZbjX0EB4DmmmJL2pFfnX/IPWHPG5t+3M2Iturz++nWGoWt7VJGEP6FfDQAAfoCg6zkwIdcZJC4QdM2vTTHSc3lyrwZlEVczNI23+AAA8COdTsca7Q4uDz0ebPi62VuMrGuu3rFceybifGhFOGv00UMv3qTKq0SwxXPhUQ1/a9L2ZSAnsELIFSn1KwAAAAA8SJdQa1amYHwKPpAqS+tVKzBOIQA8n1RSeV9eQ9G14OC139n+ZOFwy+2FA8mH7JoCsyf6ePrVAABgIQi6nhtiua58SBPQrLpYqPgs7gG517Y4mVGBwrdJVcLVjEqQewEAgJ5Srazj1N8q9DkacOy1+4ZeJ8NO+5UE1HMayCr6lR/GlFyT1jppFD/8unUXI+6i61377utpvNKeGRVG4wUAAIB7qB/VnMtjTsR1Pk9eMYQ3EADw/FHLldzS1lKLiLCPLtn9505GrEWX8y/2xu22qPVIGW/n3NbhqQ4AYFEQdD2vhqd1RVyNZ4OSvOnfFH3Hm/67a1uc7FKhwr9ZVT6kGZfiNRIAACgKtbKuv96r0PtIwNf3Cb1evfHml76HHLOdC7uKJmVT+pUfRjdf4Vsm+MK/n5F10fXClfZDwQPBVcIRsUq/AgAAAKx6NSOak9nMiMuiXNE7gaH7AeB5olVrhqo6K+xiIj+96vBfBoxYiy6yPGrLtUqHuJFalk6DZzkAgIeGoGsl0OluD0xqc/rUbnXKUznyTx6Ue+2Mp/p7eTeq8jjU/F5aJF8AAKueQq2s7a/zKPA67P/VqzfeZGRd82ub647rSebJjalcIVe/8qLJVdq8runLSSNv2rAYcRddHzj2WGSMVvRJ0M0LAABg1Sob1BzPuiPi+jhK6lCtxH9tAsDzQqfVjTb2Vjsnxu40c/zvPYxYiy67n+4MXX+xxDx8oKRFo8D//AEAPBYEXSvTqERHPhv4Nam+L1Awpuq9u0iD8/kKrwZlPkeNf44DAACCIxiIq0u4HHflI/tNjKBrfm2w/+S76IuhFWEtg60PNcKhVKnN6Zi6lHjPgQ1fs+oyih9Oa52ckmPmDQAAgNUip0+9L+WOD7CfxkhvNarECkRcALDcqWSK/oKm4uuhoeu+t/vpwsMS2v7HjpAPjEgbTmGTWoZ5iwEAlgyCrlVhdEZXzNX4NKm+y1dsfVDutT5CujdZ9n2Bwq1OmditruNRs3zhUwUAwKo1Ih5Ja043S7bY7raLEXTNr1dvvLnHax9pFlcb3z7codIs9n8Se8YU3qWC3X79v77cxoi7SP3SuG2LB9shl183INWgDzIAAMBKRF7hM9nq/XdGXJ/FyULbVBIVXv0BYPnSz7l1MyJ8o/G95twiFfDW6byLfr0ZNYopqX5NAABYUgi6VqPRGaq/V3Cr6lqJYl+KbP28zxL3qk+ipccy5TfLFeSTRsmgZmBSq0bXLwCA1WdSNlXYVeSQ7bTP58C/rr/OyLrm1ys33jDw3Hs9yTymJq5tqH0x/b0e2M3rRdOOr0IHwqpFvEmM7AEAALASaHS303vV+5LviLi2xcnC2lQytb4NAMByM1LXXekQF7n5CiPQml/e//gm+6xXV2K5VPAo8xwDAMBDQdAFt8nnh9YxbQJL7VCtNMyWb3rQFF9zdShNblJMzfWV0qOuH9WMzuBf7QAAVhGFWtk61BZdE3s9ydzAc+8rN95gZF3z6+Xrr33mutMo+qJ3kW9BZyFXNKi7b2/h+3fzIvWOXbdJ8khu57RMhf+8AAAAeC7dPVDh5hhpUAt6cQHAcjTRx2v0z0rcb+Py6/2MTGuuPF48knbMqTUsf3pEqF8NAACeCgRdsADejK5mRBPbqXKoVp7Jle+If8Boh/PrYKrsUqHCvloZ2KJK7VFXjWi6RVqRHB9UAABWvrah9piaONMksx3uBoyg6+563eytL27tv5pgGloRVtFbOT49rt/KnaRKbW7n/bp5/fpy2y7vPrfC8dZhGUbaBQAAeC6UDWoOp8nnf5DcFE3NxTWtxGs5ACwjMtF0Z0JZ5il3r799zci05srlN/uTvrRp9MsUdg/pVwMAgKcOQRcsCvm80TauzWCryWcPkyLFgdSHiL7m6otk2dk8uUW5wqdRlditLh+iMjAxMjAAgJVIrpLX9dcHlgWfjzL6yH4TI+VasN62fH+v94HLcVduFfpktmZ1jHRKlXcMYf/Abl5/vdFxJGTAt0zQNiLDfF4AAADLEPkMeDrnjoiLlGeDUqzAKzcALBfcsrYSs7Cg9y4wMq25cvgvg+jPrlc5J4w2sfXrAADAM4WgCx4dd0pbNaKJnu34dT5PvivhUdIvunYmyA6nyc/kyq8UK2yqlF4NyvB2akTEIq6mYVTTO6EVyvCxBwDgOTYpm6rtr4usijJLtvjS99Cam+8yUq571Ye2Gw77f2WaZBZQGlTQWdg7xlZpVHQ3L+PEkTesWYysa65eNO04GMTxKhE0Dck0SL0AAACetXGpzrJCyfgkSD5L4rMeACwHE+yRBt+M+D03nf5nDyPWosv2J9tDPjAqvhE2UNKiUWIWQQCA5QVBFywlufp2p1BbMqhJ7Fb7N6usK5VGBYrDafItsY+egc2vrbGyA6myM7nyayUK8okooFkV16XO56jpMIx8cNLvBwAALHs8Ma+EVepfEmgcZ7LLY/erN95kRFz3qn+avvqh7Ya93gfORxnZZtq75AabJiUeCMh95Wb5/1xsZsRddP3xWvu+AI570Xj9gFSN0AsAAODpIp8TA1tUjA935uWKEUzzDADPlFqmZOfU5xr5ev/zOCPWmiuffxnmnL/VnVqpmLpjtAkAAFhWEHTBU6LQ3B6Y1DaMajLZ6pBWlX218vvZDGxzzB2fdh6/tsTKvkyhwrBLhYobZQrbKqVbHTVhWFyXupir6RBoBcjDAACWH61WyxUNlnaXh1VG3Eyz+ibYcKPD5n+avspIue5fL5u+9q7lJ+9a7Xv5xqk/mFx54bLjb4yDf2Wc9ouLFXOh1wtX2g18+53yx6r6JSoNXhEAAACerJQeNWPwj2+z5ORzmf5iAICnbnKAX++dHrvLzOFnBoxYiy7nX+xN3G/dFJg9PSLUrwMAAMsbgi549uRqahQL9oS2ia8p4WrSetWRHSrvRioMu1aiOJcnP5wm3x6/NH3C5uqzOCoPM8yWmxQpnGqUoW2qTLa6lqfpE2unMDo8AMCy0cVj5bbn+ZcEXku8ftDvyPvW6xjh1uLrpasf/fXK7hdNjv3RxOj3Jla/u+zxhysRm90LLDJYZewZpRpP/gAAAEupYVRzJP2O6bj2JsuKBjT6iwGeLoVaKZKIuKJB8vayjlNfzCpJb8mMrY0LLAv2KvR2ynGxzrAzS7a4kmBqFHPpTMT54yEnjgYcIz9Ph58zir54Of7q9SRzq3Qb+ywn1zz3gNKgtOb02v46rpCrvwJY3rRqDbe0tcAk0PcVQ0aspa9/3x78/oUS8/Chig6dBmE8AMBzBkEXPE/Ech1nUtvM1xRxNcnd6uBWlWut0qxMcSFfQT5B7VzSMGx/iuxcnty8XOHVoIzrUpPPY23jWh7G1gAAeNYkCmk3v6eoqzi8MtI+y/Fc5AUDz71vW77PiLUetv5+7aPXLfZscj5hGGrmnu9NNp7alEaupWGgsYffOzrJlyoxVgkAAMCijMzoLhcp5n+82hIri+lU6S8GWGqDoqG6/vqc9ry42nj/kkDHbGfTxBtnIy4cCfh6h7vBOtuPGG/8lrzes/rgc489p8LPuuS6JdQnNQ40CWbQE2hZkE/MtEcVJR+yc/7lXmayNVuuv/0y9agDaSMTTunXAQCA5xCCLlhpxArdwKS2dUxbNawpHNCk96rjutShbSqXWqVJseJYpvyzuMfNw7bHy77OkBsXUfOEBbeq0nrVVSPUJGHkqvU7AQAAT92MfKaLxyroLAytCLfJsDsTcX6Xx+41N99lfA3xmPW+9YdbnD/b6/3lN8GG56OMriVeJ9flWXAruDw0ri4hqzW7tLu8caCpm9/DE/OmZPi0/GxIFNIJycToJH9AOEDui7ah9npOQxW7uqynvKirOLc9L7M1K7UpLbEhKbY2LrIqKrQiLKA0yKfIz6PAi9yh5G69EPX98WDDw/5fHfQ7st/n4F7vA3u89hl4frHT3WC72+fbXHeQ02CT09aNjp9+ZL9pnd3HH9hseN963btWH6y5+d6bFu+8br6GceaQesP8bXIpabPWZv0624/IimT1T523bXXZsd1tFzldDTz3klOLXB25Usa/kN9INrdOt3XIdnLP9/QvCYypiSM3gdyc5sGWvvH+8elxuUquv/EAAM+UQn3bt4k5HZd7nXISn5VgKfCn+OSNVlpzOnnVJq/XRwOPbXTYzHjBXT5F3hLs8zlgHGfiXeRL3oFwRYP6mwFP3ng7p8oxLuyjS7Y/2c5Itqj69+3Ba78rvRkxXMPSYQZfAIAVAUEXrFIiOZWHtY1rS7iaBJaafBizrFCez5MfSJVteoxpwz6Jlh5Nl18pVvg0qlJ71A2jGr4E75kAAJ6lSdlUJ6+rhFWa1JgSWBbsmO18NcH0ZNjpL30PbbDf8qrZO4yvJJ5Erbn53gc2GzY6bN7musPA84v9PgePBh4zDD11LvLCpVgT08QbN9Os7LOc3PI8bhX6+Bb7B5QGBZeHhlVGRFZHx9bGxdcnkp1Pa07PaMnKacvN7ygo6iou7S6r6K2s7qup49Q3D7Z0jHT28Hs5goHhieGxqbEJycSMfEahUuiPwjIjVUqnZFNkJ8enx3li3qBoqF/AIfvfxWO1DbU3cZvJjSI3MLM1ix5QyKPAyzrd9kqCKTliXwcdP+B7+Itb+3d57CbHc5PT1vV2G9+3XkcO8utmbzGO/KoqcvM/cdxy0O8IOUoWqVZehd5BZSHRNbHJjak57Xml3eXkwJKjrb8PAACegJw+tUHiHf9WeCFfQT526S8GWDSJQkrev+V15JN3RORt0rchJ7e4bGe88D1CvWf1AXmtJG8hDvt/dSL09PcxxmbJFg7ZTuQNGHn3Rd56kTce5HUzqzW7oLOovKeirr+e/CS/Z7flpDSlxdUlRFRFkZdXnyI/stZ30RfJe5IN9p8wruU+RV6syVvQ60nmoRXhtf110/Jp/Q2GpaDT6gbL2/ON/W+9dIyZbM2W08+/SNxv0xqWLxXg39EAAFYaBF0AC5CoqBisflST3acOb6d6g10tUXybJf88QbY+8sePbYusjVHSw2lU+uXVoEzpUZPNjs7odMi/AACWDd7kaF5ni2VmvoF3yMtmDn+4bPrHK9+9aHLiz1cO/fXK7r9d/fSlqx8yvqd4Hmu2R9G771iufd963Ye2G9bbbdzosHmT09Ytzp9tc92xw93gc489u72oTkVf+h6iOxXdp0gD0ow0Jqvs8ti93e3zrS47PnXeNtfJaa3N+vd+6OHE2BPUsy1yB5G77/sYY5dct4iqqPyOgrah9rGpMf3jAQDg4bFEWsOsO6bj+iJZVszFdFywMJFE1D7cUdBZFFsb51lwyyzZ4lT42UP+R8kbEvIW5RH+c4WsdcD38JmI89cSr9tnOfmVBJAt57Tn1fTVskZZ5J3ekx6DenSS3zzYktqU5lHg9V30RfLuiLGH96p1th99G3LyVqFPRW/ljHxGvzl4GBqlmp1dl3nK3e2FA4xkiy7vfx7Pv+TPKWzSqvCkBACwYiHoAng4Wt3tcamuU6gtHdQkdlNdwawqlBfyFQdTZZsfpivYx1FSsopJkcKjXpnUra7laUZmdBqkXwAAy8CIWJXaMnkjjbfVk/1bk7b/udg6V7+4VPbLS9m/Mk78jXHE74z9X7zm8YGdy25vh29CLM9HXf8u+uLxkBOH/I9ud9u1wf6TJR84EbXIesP87fesPlhvt/FT52073A2+uLWf3ClfBx3/NuTkqfCz5yK/M4q5dDnuyrXE6+YpN63SbewyHZxyXNzyPLyLfEMrwhMbknLacqn/4+bUNw40NXGbW4fa2oc7ungs1mh37xi7b7x/QDjAFQ0OTwzzJkfHpsYE0wKRRCSWTk7LpyUKqUwpU6iV+vNplkKlkCql5FLSRjgjorqyTY6S1blCbr+AQ7ZJttwx0kl3aGsYaKzrry/rKS/oLMpqzab+hbw2PqIqKrAsmOwh2VWzZAsjcrIFG+71PrDFZftam/Xzb/7jFDlvv/Q9dC7ygmWatV9JQFJDckVvJdm3CcmE/pYAANyJfDiyKL9jOq5N0dKgFpUS3yevYuSVjry6NQ+2lHaXpTdnRFZFkdevG8nm5G3SVpcdj9MDe83N93Z77SUv5Q7ZTpHV0aXd5X3jfYzX3OWDJ+ZVsavJzbfOsCNvRd6yePA7Q/Iekrw/ia2NIy+++q3APajlyu7UytSvHJ1/scDkW3Y/3Rm5+UqNa5Kwe0i/AgAArGgIugCWklih6xBoc/rV5KMd+bx3Ilu+JfbhpgT7MkV2qVDhWqeM71JXj2i4UxjoAwDgWVJrdU1DsoBy4YnIwbdsWPNDr7vrD1fbt9/qu57GS2gUs8cVdOddhUoxJZsSTAuGJ4b7xvs6eV1N3OaavtrS7rK8jvz05oyE+qTI6mh6GByPfC/XPHenHBf7LEebDDvLNGvzlJumSWZXE0wvx135Psb4u+iL5yIvnAo/axh66niw4VeB3xwNOLbf5+Bur7073A22uGzf6PjpOruP37f+cDnHbPRsVWQn6amqNjltnZ2n6nMDzy/o/mTkRpEbaBRz6UayuUO2EzkyYZURSY0p5IiRQ9c40NQ21M4aZfWN9w+KhkYn+cIZETnIq3yeKoVaKZaKR8QjvWPslsHWKnY1ObtCK8Lc8jzIKUTOmX0+Bx4zEtvi/Bk568id4lvsTzZOzmT+FF9/9QCw+khVuluNzOm4rpcqMHj7KjE+Pd461JbTlhtSHkbetJD3J+SF5n3rdYzXjkeuT523HQ85YZ5qGVgWnNOe1zHSOfn8z35KXqbJO0DyMkre5Ozy2M24yYx60+Kdo4HHyDvDoq5i/MfJHJVU3pVYnnzQzvG/98xPtuhy/NnuxP3W7VFFiqkn24cPAACWGwRdAE/c1Gz6lcdRh7RSM4GdyJZ/Fvdw6de+ZJlRgcK5VhnXpa7jacal+OgIAPBsiKWa3M4p62y+gW//H6+1M4IuRpEGO2713UjjJTaJ+wT63OtZoXsUzchnxNJJkUQkmBbwp/gj4pFB0dCAcKBvvL+H38saZTE6Fd2nSAPSjDQmq9D9nPoFHK6QO/RDJyfhjEgsFdM9nFZ5BLXckLuppq82qTGF/v/6E6Gnd3nsfs/qA8b3a4uvTxy3HA04djn+qnu+Z2xtXEVvJTkfcKcDrGwpPWrGh5qj6fLmMfyX3gpBnsPJG4PK3qr05oywygiPfC/zlJvno4zIs/12t88/sNnAeCF42HrT4p3tbruOh5y4mmDqkusWXhmZ05Zbz2no5vfwxLxVNYJf+3AHeekkx4EcEMZRYtRmp62XYk0iq6LIWy/9yquJRqnuSatOPmTn8DMDRrhFyuXX+9OPu5AGavky7d4HAABPGoIugGdDotJ1CbX5HHVoGzX44akc+Y74h0i/tsTKyCr21froS4DoCwDgqdPpbveOK+IbxddSeZ959f3+6gNyrz9cbd/qyb6cNBJWLWoclCrVeOqGZYcrGqzj1Ge0ZIWUhzlmO1+MvXw08NgWl+2PNtHampvv0t9jmibe8Cy4FVeXUNFb2c3vWQH/kg+wmpUNag6k3vHJZWeCLKtPrb8Ynh8Tkol+AaeJ25zbnkee9q0z7M5EnDfw/OIdy7WM5/OHLbKFTU5b93jt+ybY0Cj6onnKTdc89/DKyILOok5el1g6qd8DuNOUbKq0u9yjwOtY0Lf375r/utlbh/2/csl1K+gsHJ1cyb2rdVodp6g586S786/2McItUq6//TLrtEd/fqNOg5QdAGC1expBl0AgCA4OPnXqlKGhobu7O4vF0t33X5rJpQMDA15eXqQ9WSsgIGBo6I4RdR+/AY00Gx4ejoyMrK6u1i/6weNfBbnUycnpyJEj5Cbz+RjUBRZFOpt+FQ5oQttUNpXKM7nynYtOv7bEykh7pxplYre6ka+ZVuL7UwCAp0qru93NV8TWT1xNGdnqyX7hygNyr19can3Pvvt4BNe9aLyQNc2fxleEsKxNy6dZo6zS7rKwygjHbOezERf2en/5tuX7jK/eFllvWrxj4Ln3XOQFh2ynqOqYsp5yjmBAf00AsFyxRFryiWP+Z5BPoqXkk4sC03EtVzKlrJvfU9RVHFoRZp1uezLszBe39n/iuGXNzfcYT8uPUO9Yrv3cY8+p8LM306wCSoMyWrKauM28yVH9dcNj6+H3xtUlmCbe2O72OePgM2qtzfozEef9SwKr2NUrpj/cRB+v2DTE48UjjHCLlNsLB7LPeHIKm5BvAQDAnCcedPH5fAsLC0NDQ2tra1tb21OnThkZGbFYLP3FC+np6SFtSEvSnqxF1iVb4PF4+ouXooFMJquqqiIXHZlFftdf8IPHvIrJyUl7e/uEhITBwcHAwEB/f3+FQkGWczic5ORkcu10M4DFkKtv94i0RQOaiHZq5MNvMuXk8+T8j5f3qp3xsgv5Cs8GZVqvul2gleEbVACAp0iru901Ko+pnzBJHtniwf7dg3IvUi+Zde7x67fIGE1oFLP4cg3ZBMCyJ1PKesfYpd3lsbVx7vmel+OuHA049onjFsZ3cIusDfafHPb/6mqCqU+RX3pzRvNgi2BGqL8mAHh2RiU6i3IF4+OGc61yQo6XqmVhUjbVyesq6CwMq4xwynE5F/ndHq9971t/yHiOfaja7LT1q8Bvvou+eDPNyrPgVkRVVEZLVmVvFbmild2FaHmSKCQVvZW3Cn2Oh5x4YE65yWmrUfTFgNKgSnb1c9eLWjkjaw7ODfvoEiPcIuX8i70Zhq79Bci3AABgAU826NLpdNnZ2UeOHMnJySG/kyWdnZ3nzp2bC37uplarIyIiDA0N6+vrySpEZWUl2UJiYqJWS72SPX4DIjU1lSwxMjKytbUlvzCCrse/Cjabff36dTr36u7uNjU1HR0dJTc5ODg4NzeXtKeuBuAxDE/rKof10dexzDv+rfI+tSdJdqlQ4dekyu1X907oHw4AAPAU0P29EpvEFhmjX/j3/928k5Fy3V2/MWlb79xzMmrQvWg8r2t6aEKl3xbAc2J8erx9uD2/oyCiKsol1+1SrMmRgK83OW1lfB/3wHrD/O1dHrvPRJx3ynGJrY2rYlcPTQzTVwEAT5pYoXOrUzI+VlwrUXCn8Gni2egXcEq7ywLLgm+mWZ0MO73D3eAti/uNcXefWnPzvU8ct+zx2nci9LRFKtUrK7M1q3mwZWxqTH9lsFyxx9hJjSnW6bZ7vb9k3K1314e2G74JNrTLdIisiiKvoTzxj//DvYzodNzS1vTjLo4/283Itxx+ZpB0wLY7tVKjwJthAAC4pycbdMnlcj8/P2Nj48HBQXqJRCJxdnY2MzMbG1v4nZNYLLadRX6hl5CWpD1Zi6y7JA2I6urqnp4etVpdVVV1d9D1+FexYNBFrtTV1XVyEqNRwxMxNK0rH6LGPDQvU3ydsdjo63Ca/EaZgqxF1h2eRgQLAPD0jE2rC1nT7kXjxyO479p3/+ISM+i6u/54rX2LB/u7+GH/cmEZe0Ywg7668LwamxprHGhKaUrzLLh1Of7qQb8j62w/Ynwx98Da4vzZtyEnLdOsQ8rDSlil7DG2fusAsBSkKl1Qi2pTzB0fH77JlDfzMVLhU8Kf4tf118fWxjlmOxuGniJPeoynwcXUJqetx4K+vZFs7l8SmN2W08Rt7hdwRBKR/jpgRSB3a2hFmHGcyQMHOaTrdbO3trvtOhl2xj7LMaIqqqyn/Bl21JOJpsusorz++jUj3yLl9/rJeu905QxGRQIAgAd7skHXzMyMo6Pj/EBIqVSGhIQYGhqy2Qt/EB0dHTU1NfXz85PL5fQSeiNmP2Rjj99gvgWDrse/CsbQhbdu3eLxeGRJe3s73R7gSdPobnMmqem+AppV10oUX6bI1kfe8Rl1wSKfY0/lyJ1rlak96g6BVonPsAAAT4tCrasfkIZUia6kUEMdPnCKL7r+fL3jc58+48QR/3JhcffMiBj/6ArPMYVKwaZGQSwLr4y0y3Q4FX52u9vnr5uvYXw9d/9ab7fxSMDX1xKv+5UEZLZmtQ21P3ejNgE8c2rt7bgu9Y47ZwvemyzL56jxn3FPiFQpJc9X6c0ZngW3jGIufXFr/+tmbzGe3+5fW5w/Oxb07fUkc59iv9SmtHpOwzLtuANPGDmX6jj1IeVhl+Ov7vLYzThPHlhvWby7yWnrAd/D5yIvWGfYBZYFkxfTxoGmEfGI/gqWzkQfL+u0p8N/GTDyLcef7c444TZSe79JTwAAABieRtBFkF/oJXTQdeTIkZ6eHnoJA50hkTakJb2E3ghZSC5akgbz3Sfoesyr4HK57u7uZOPkJ4/HS01NDQ8Pn2sP8PQpNLdZQm0mW32rUWVUoNiVcMcH13vVwVSZaakiol1VNawZk+CDLQDAU6LT3eaKlLmdU26F4yejBtc79/zGpI2Rci1Yf7javtG191TUoEvBWEbbVDdfodLg2Rueb+PT440DTcmNqR75XhdjL+/1PvCu1QeML+buX2tuvrfX+0uj6ItueR4J9Um1/XWYYAbgXtJ61XuS7vik8FmcLIGFPsRLaUo2Vc9piK2Ns820/ybY8KG6tH5ou+Gw/1fXk8wDSoOyWrNbBlvJk6R+uwAL6eR1ZbZmeRf5Xoo12eO175HHuiT1tuX79HCX5Lwlr6rmqZbkhTWwLDiuLiGnPa+SXd0+3M4VDYql+n92v5f+/Mb4LywZ+Rap0HXfNwVmowsXrADCGdFnrjsZj6C5Ohl2WqakznO6GfmTK+TaZNiRhxi5dL3dxluFPhKFlN4UTafTkccyedy9Yf42afOBzQbSnvH8H1EVRS6ySLXS/z1rRDzyqfM2sryit1K/aHahZZo12QhZ/sqNN/b5HCjsKtLq9IMSs0a737deRy6aK9Jml8fuyKooxl4R5CFPNkXvOflpFHNpQDigv+wH5Krnb22uyA7TDcjRIAeBLJm/kwR9fEiRX/SLqDkLpeT40MOh373zNHJk5o7n/GIcHFhhEHQ9qaBrPg6HY2VlRY9keB+B96YFeAKmFNoGniq+S+lQrTiVLdt857AkC9aWWNnZXJlrnTK1R9U+rpEo9ZsCAIAnTa3R9o7J0lsnHfP434QNrHXs/vXlRUVfvzRue8eu+1DwgEUGL6pWVDcgEUtV+o0CPLempFOtg22ZLVm+xf7XEq4f9v9qvd1GxkfZB9Y21x2nws+65rqnNWd0jHTqNw2wWmWyVfuS74i4yAeE4BYl3vM/JsG0oLa/LqIyyjrD7qvAb+gvFhdTb5i//cWtL7+PMfYq8E5vziRPehK5RL9RgMcwPiVo4janNaXfKvQxib92xP/rz1x3vveQ/0SymHrL4t33rD7cYP/Jp87bdrgb7HPYe27vFxa/3cnIt2z+a6fdvpMuwbaeBbdIeRf5hpSHxdbGk1fn/I7Cqt5qsrddPNaAgDs2NT4tm9HfDIDlRP/d7g/ohObl669tdPyUvOGcK/InWcgIut62fJ+8NJDn/K0u+gbk4XM6/JxEoZ+CR6fTRdfEvnLjjbkN0i8l71uvq2RX022Iu4MutUZtmWZNPx7nMiTykkTnWOSxeT7KaJfHbrJl8qd9lpNGS43sRAddGx02k3VtM+3JBg08v6ADtj1e+8iLGr0dorS7jA6TyKbIXpGf5HfSMrEhieyzvtGSBl29Y2xyRaTlJqetl+Ov7vM5QB+WyKqouWskTxf05wKyP5diTchNIHU24gJZgqBrZUPQ9cSDLplM5ufnl5ubKxQKAwICDA0Nra2tFxy5UR9qLUQqlUoAnjz2mKSQLfWpk1wukOxJ+vEj7n1qd6L0+3ype400pVPSOCwVTeo3BQAAT0F930RMDd8mc+jrkP51TqzfLW7AQ1J/ud7+iWvP16H9FmlDQWWj+e3CnpEp/UYBnlsTU+K2gbac5ly/wgCzJItjgd9udqT+2XPxtdlp28mQM85Zrsl1KS2cVv12AVa6tC7J/mQJ432+Q6WEN6FvAIvHGeUUthcHFgdfi79+0PfIO5ZrGc8z96qtLttPhJy2S3eIqIgq76rg8rn6LQI8RUPjQ+SVtLSzLL464Va+D3kxJafl5x571tqsZ5yxD1Xrv15z/M0Nlj+9M9/6t89Mf75l96drXzGmvtZ/qHrtxpvvWX3wsf2mbS479njtO+R39Nvgkxciv78ab2qVakNex30K/EJLw+NrEjKbsovai2t768jtYvP6eMJR/U0FWDpzU9vMoROa963XsUa79Ytm0RkSI+gip7RZssVcZ6n24Y6NDpvJwoDSIHpJHaf+DfO319ttrO2vo+McrU4bWRX1yo03drobzA1UcHfQVcIqpQMqUnSGREdKL19/Lbwycq4XVNtQO9mrzU5b6TFvGTtJm5ZPHw85QbaT0pRGL+EIBsh+ku2nt2TSmyL7VtRV/Lbl+2T1Tl4X3Yygg64rCaZ0kEbQu/qwQZdCrfw+xpix840DTeSl9mOHTVwhl/ypVCuNoi+STbnne6o1P/ZHp/cBQdfK9jSCLktLS6FQSC9RLm6OLk9PT5lM/1iiN8KYH+txGsx3n6BrCa/C1dV1fHzc398/MDBwcHAwISHBxsZm7pjMoTOtBakBnoUpmaphRBnbobCtVBzPlG2MYn76XbA+T5Cez5M7Vctj2hWVQyquWL81AAB40lQqNWdclt8pvlXMN4ob3HGL/ZJZByPiuk/9+nLbGlvWXv/+SwlDnkVjac0TrUOSSalSv3WA59bA+EBFT2VMdaxjlvO5yO/m/il1MbXNZcfZiAvueZ45rbk9o736LQKsFOk9iv3JzPfzDlXy0SmVvgXcF3l6Ke4qCSwNvpZw/UufQ2tuLnZQuM89vvg+2ti70De3Lb+Xz9ZvDmB5G58aZ/P7GjiNxV2lqY1p4RURXgXethn2VxNMz4SfPxLw9eceezY6fjp/uLDPPn/v0u83MfItUkZ/2kQummv29Iv+Wp+8JTgacOx0+LlLsSYWKZZuuR5+xQGRVdHk1uW3F9SwazuGOweFQ5OSSf0hALgH/Xe7P3iooGury4753aSInPa8l6+/Rh5TM/IZjVZzPcmcnLSJDUn6i2epNepridfJ8rm4iBF0kW3u8dq30WEz+UmW0xmSQq2s7qsp76mYlk/TzYgp2dRBvyNze7tg0EU4ZDvNv7qA0iDyp1OOy/zOW+R3v5IAstwyzXpu+d0h06MFXRKFxLvI1yPfi/6Txlj3XkceQddq8GSDLrlc7ufnZ2xsPDg4SC+RSCTOzs4LBkI0sVhsO4v8Qi8hLUl7shZZd0kazLdg0LWEVyEQCGxsbNrb2+kG3d3UY4zH4127du1efdoAljPulLaIqwlqUZkUK/alLGqWL7oOpMouFyluNarSe9UdAq1S/z8cAADwxE3KNPUD0qjaCYuM0YNBnDW2rF8aL2rMw7n68/WOdc49BwI5lxKHXQvG4hrEFX0SjlCJ2b/guSaSiJoHWxIbkuyznI6HnFj8yIcGnl9cjL3sW+xf1FXMFek/5gA8dzLYzLm4SNlWKTEv731whVzywPcvCbwcd+WLW/tfN1/DeH5YsF43e4s0vhx/laxIPW/M/ss5wMqmlMir3BI9/nqUkW85/M/u0K9uZGcl53cUZLZmJTWmxNbGhVdGBpYF+xT5eRV6k3LNc7fOsDNNMvs+xvhU+Nmvg47v8zmww93gE8cta23WL/5fVZa83rf+8FPnbXu9v6SnKDNLtnDOcQ0uD81oyarj1JOHtkKl0N9+WPXuFbcsGHTNBTlzBNOCrS476F5K83/XX/yD8p6Kl6+/Rs5GpZoacmx+0KXT6chDiVwaXRNLlpDljAxpjlqjTmtOJ4+sub26O+gibSrZ1eTdMqkefi9ZIlVKyftn8gJXz2mg28yhV9/rfWBSNkUviamJm9sx2qMFXQtirEuulFw1ebSyRll0AxqCrtXgyQZdRE5OzpEjRzIyMujhSjs7O8+dO+fv769Q6J/9yS9cLnduDEC1Wh0VFWVoaFhVVUUek0RlZSXZQmJiIr2Fx28w34JB11JdBfk9NTU1OjqatEfQBSuSQnObJdRm96lvNaqMixSMMf3vXwdSZddLFSGtqoohzcgMPk4DADxVfQJFAWs6sFJons47FDywzqnn91cXO+zh/HrJrPNj197DwQMmySMuBWNkgwmN4ryu6VqOlMWXj06qpErmu6/lTKLUjk2rOUJlB09ObkIZe6a0Z6aoe5ocK3Kjcjqmstqn0lsnU1smU5onE5vE8Y3imPqJ6LqJyNqJsGpRSJWIHIGAcqFfmcC7VOBVIvAoGncrHCdHxjFvzCGX75A35pQ/Rv4kC8lFpAFp5lsm8C8XBlYIgyqFZAtkOxE1oqhaarOx9RPkKsgVJTeLU1om01onM9qofSB7kts5nd81XciaLu6mdpLsamWfhOxzA1faMiwj+0+OP3tcQW7L0ISK3BHjM+oJqWZKrnm+7pGnTKKQNHGb4+oS7DIdjgV9+6HtYufR+eLW/isJpkFlIaXd5fSQLwDLlkx9O65LbZDIfN9uU6nEe3IG8pxQ218XXhl5LfH6Xu8vGQ/8e9WbFu+QxuQ5IaA0iDwnDE0M6zcHsDrM8ESFV4Ocf7mXEXH5vPxtvXe6Ssoc4e3RyJQykUQ0PDHcO8ZuGWwlD9XCrqL05ozY2jjycuxV6G2f5WiWbHEx9vKp8LNHA4+RV+ptrjvW221cc/PJdiN7y+LdTU5bD/odIddrmmTmlucRURWV15FPdpI/pR9fDlaDxwy66BiJXp1eZcGwh7G1+UEXOeXesVxLT/S1YNBFBz9z9V30RfKYoi+iNzv/Urp2eezuG++j29zrBhJ33yh6x1xy3eg/iXsFXQsW47YPCAfIg4ueD2x+0TdQp9M55biQPw1DT41Pj9OrEAi6VoMnHnQJBAIrKyvD2YmpbG1tT506ZWRkxGLpM1W1Wh0bG3vkyJGcnBx6CcHhcEgb0pK0J2uRdS0sLHi8Hz8xPn6DOQsGXcSSXIVEIomOjqYXKhQKeuhC8mdycvKCQxcCrAzsCW3RgCa0TWVZoTyRLf8sblHp16Zo6bFMuXmZIqhFlcdRs4RaObPnNwAAPFmCGXU9V5rQKHbOHzsXO7T9Vt+/LLsYydaj1d/MOtfYsj5x6/3cp+/LQM5XoQMnowa/ix82SR6xyBi1z+VTIdCiyzaHfzNz1CyddzVl5HLSiFH8MNnbU1GD30YMfh3GPRQ8QK5ij18/ua7PvPo2uvaudex+y4b18s2uv9zoeGHR05ithvr91fa/3uh4xbKL3DvrnHo2u7N33Orb6885HDxADiY5qsaJI9fTeNbZfHJK3CoRBFUKo+smkpvF2R1TJT0zNRxJy7Csm6/gipRj0+op+Qrsrz0tn67nNMTUxFmmWR8NPPbu4ibqf9PinQO+h68nmYdWhFexq+d/xgZ4hsQKnW+Takss8825Uw16cen1Czj5HQWuee6nws9+ZL+J8dBesMjjfb/PwWuJ14PKQsp6ykfEI/ptAaw+/Ja+1K8c7X66kxFxRW8zZWfV3Z43uNkzJ1PKyKszeci3DbXX9NXmdeQnNaaEV0b6FPk5ZDuZJVt8H2N8IvT0Qb8j2912rbP7+HWztxiP/Ueu9XYbyZPGmYjz5ik3PQq8omtiydNOE7d5UDSk3zlYEe6VAzGiqbszIdqMfOZIwNf06vQqd7chGFubC7qmZFNHA46Ri+iJshYMushb3G2uO0htddnxhvnbr9x4I6Q8jJ7Uit7sRofN5A2wbaY9KbKF7W6fv3z9tX0+B+jI9l43kLj7Rlln2JEdIO+o6T+JewVdG+w/ofeKrk+dt5Edm9uUTqcjDxmyhOzwxdjLAaVBxaySnPa83V57599AsodkP8mSuwtB18r2xIMuQiQSBQcHGxkZGRoauru7s1gscl7SF5Ff8vPzz507V1tbSy+hcblcb2/vU7MCAgKGhphP94/fgHavoItYqquYQ44DaUYOgrW19b2mKANYkSYVug6BNqdPHdCsulKs2Lvojl+fJ8io6b5qlHFd6qoRzfA0PoEDADwDAyJldb8ksUnsWTxukjxyJGRgszv7nxadjNQEhaKLzjU/du018OknZ8uZmKErKSO2OXyvEkF4jSilebKsd6aeK+0TKESS5++/WsjH7Oq+GvKx3CzZ4qDfkUXOx/Ou1QeH/b8iH63JinWc+qkfBnIBeDoGp7TkHTXjnTYp1zrluHT1vsEeneRXsqtDK8JNk8z2en+5mC+y6RibtA+tCCvrKedNjuq3BbCa6XS9mbWRm68w8i2HnxlknfYU9aycTo2CGWHfeH/zYEtpd3l6S2ZUdYxvsb9Vus25yO++9D20yHT8/vWWxbtbXXYcDTh2KdbEKcclpDwss5UaF3FAOCBXLU1nOHg67pUDMaKpuzMh2iKHLiztLiOnDWPoQvNUy/DKSPKLX0kA/Q38gkHXfOQFcae7wTuWa9uHO8ifjJ2kkU0lNSS/fP014zgTcnX3HbqQ9b71h3NDF9KhHXnP3DrURjcg7hV0MXaScXzIyy45FJ86b5t/KBZcV6KQMpIzugcYgq6V7WkEXQAADDL17bZxbUqP2rlWeSZXvjmG+an7PnU4TX6tROHXpMruU7cLtFIV0i8AgGdmcEJZy5EmN1MZmEXGqFH88PFw7hf+/Zvd2e/Ydf/d/DkLw353pf0ls843bVgfOvVs8WDv8u4z8Onf7de/15+zP4BzMIhzKHjgSMjA12Hcb8K530YMnogcPBU1eDZm6Fzs0Hfxw98nDBsnjpgkjVxJGTFN5d1I45FjcjNz1Cpr1DaH6otml8O3yeaTP8lC83SqAWl2NWXEJJnqmnYpkdoC2c75OGqDZ2KobmrkKsgVkaN6LIz7VSh17WQfyJ58GcjZF8Ahh5rsHtnJnd5U9zWyz5+49W5w6SH7/5599xpb1hvWrFcsu/5p0fk3s84Xr3f84Wr7b00eboa2p1Bkr16+2fW+Q/enHuw9fv1HQwdORw+SI0mOntNsT7KQKlFs/UR662Qha7qGI+kalY+IVTOK5TIGI/VdeW9VcHnotcTr+3wOLHLOnvV2G0+Hn/Mu8i3tLp+QTOi3BbDUmvgakyIF4+30lljZrUaVSL663kUPTwyXdpcFlYVcTTDd73PwLYtFpdRbXXaci/zOt9ifirUwMCnAnbQqTUtInt9rJxkRl9vvD5bbRMvFM/p2q4lYOtk33l/Pachtz4uuib1V6GOWbHEi9PTnHnveW1y/8PvUmxbv0OMikrcQN5LNPfK9wisjqSSsv55c6Yx8NR7wp4Dcp1wht2WwlbyIpDSlhZSHueV5kON/LvLCkYCvt7vtWmuz/kqCqb71Dx4q6CKvNYJpAd2AVtBZ+PL118j2yd2qVCuNoi+SEyCxIUl/8Sy1Rk3efJLlAaVB9BI6Pdru9jl5n3k04Njcf1bND7rIG1eXXLfAsuD5IRYxv82CQRdBL5+Lnch2yCpOOS5zHVoI8rtfSQBZfj3JXKOlxnuo49S/Yf72/Cm7iEcLuqr7ashhYewYHbkx1i1hlZIrJe/MxVIxvYRcStog6FrZEHQBwLIwLtWRz+EpPWqvBuWlQsW+lIeY7mtnvOxsnty+WhndqSof0gxMYvYRAIBlRK7S8qfVveOKeq60rHcmt3MqtWUytp6a1MqvjJrFyoGev2rR5ZhHzXHlWTzuWyYIrBCGVosia6nprBKbxGTLmW3U/FWFrGlyXdX9kqYhWeeovF+gGBGrhBL18klHloNpuVYwox6aULHHFe0jcnIHlbMlBazpjLaphEYxOark8HqVCJzyx6yyRk1TeRcThs/EDH0Tzj0YxDHw6d/iyd7g0vOuffdrVl1/M+t8tGneHrP+cqPjLZvZ3mO+/V+FDpyPG7qRxiNniHepgJxgSU1icr6RG0VOA3IG8iZVU7KnMb7i0MQw+XTtXxJ4Oe4KPZTKA2te7lU2N0ECwCPrndD6NKn2JDHfUe9KkMV1qWWrYITwKdlUbX9dWGUE3fnyTYt3GA+6Besti3cP+39lm2kfV5fQMtiqmP0HeQC4m1Iir3ZO9HjxCCPi8nvtZHNwjkah0reDuwyKhhoGGrPbciKqotzzPU0Tb5wMO73Hax95J8B4RnqEIs91W1y2Hw2kOoQ557gGl4emNKVV9la1D3cgqp9PrpILpgX9Ak7rUBs5PhktWZFVUeRtmHWGHXnzZhh66kvfQ586b1vkmNWkToSe1m/6Bw8VdL18/TVyMsy96HCF3J3uBmSzczkQnRWRk4S8tNGpklanJS9VZCHZz7lRc+n0iBRZTlahFxLzQ6wJyQQ53143eyu9JXMuoBqeGCbXONc9a8GgizQmR2l+zsQRDGx02Eyui2yK7A/dpryngqz7juVa8jJKlkgUEnI8yVrJjanUVn7waEEXvWOkavpq6Z2XKKQO2U5k+/PX5U/xDTz3Mg4Cgq7VAEEXACxf/WJtxZAmvF1lU6U8lSPftrjpvujanyK7XER1/MrtV5OP+votAgAAwJMkV2nHptXscUXjoLSkZyatdTKydsKnVOCQN2aayjsXO/RV6ICBb/9G1943bVgvmnYwgqunU7+70v5Pi8537Lo3uekTMrJj11J59rl8t0IqQA2tpvqQpbZM5nZOl7GpxLSBK20bkbH4VGg6OKHkT6lEEvW0XKtQL6pPDEcwkN9R4FPkZxRzabvb5+Rj9v1rnd3Hp8PP3Sr0KWGVIveCxRud0YW1qY6kyxlvjEkZFSiKuStwIj1a33hfQWdRQGmQaeKNg35H3l9oCv2763Wztww8v7gUa+Jb7F/UVYzptQAWQyqYKr4e6vzLvYyIK3yjcW9Gze15HTvgEZAXfdZod1lPeWJDkk+x3800q3ORF/b5HFiScRHpes/qg42On+5wN9jvc/CbYEOyfZP4a+SKnHNcyRuVsMqIhPqkrNbs0u6yOk59J69rQDggmBZIFFL9Li4nU7Ip/hS/X8DpGOms5zSQ45bbnpfcmBpVHRNYFuxV6G2baX81wZTcxq8Cv9njte9T522LfIF42PrS95B+n37wUEHXKzfeeN18zduW78/NSkW2Sd4KShQSei3dD3NTvXz9NXL3zQ3ERzZVya6m2xBzQZd9lhPdm4o2P+gi6N5OZMkW58/IReTg0H+Sw3WvObrIy+smp62kDWlJVqe3Q5DzhOw2WU6PEEj2jewhaUNOYLLP5L6g95PsObld9BCCdH1gs4EsJz/Jedg33r/IoIvsHtkZ0oy+RvpYkR2gt0bufdKG3HBy88mfrnnudBhGQ9C1GiDoAoDniViuaxvXZrDVPk2qy0WKA6kPEX0dSpObFCkca5Qhraq0XnUNJv0CAABYBqZkmqEJVeeovJYjLWBNp7ZMRtdN+JcLXQvGbHP411J538UPn4gcPBw8sNuv/zOvvnftu/9h3rkMx2B8qPqVcdrvLrv/0eTSX6/u+fu1B8wM9NK1dS+ZHv379Zv/MIv8l2XNa1Zdb9mw3rbrft+h+0Onng0uPRtdez/1YG+91b/Nd/Az/5GdwaO7QvgGYWMGEeN7okS7qZrYHTP5OVXTu2Knv4ifPpA4dTR5+njq9JnMaaOcmWsFM1bFM+7VktBmeVq3onJQ1S/Wjkt1GCP6uSCU6eK61CeyF8i39ibL/JtVvJmVcz8q1MpOXld6S6Z7vufZiAtbXXYwHi/3qtfN1+z3OXgt8XpQWUhpd/mg6AFzbAMAw9TgePZZL4f/Mpifb9n+ZHvifuvRxl59I3iS5sZFzGnPi6qO8Sr0Nk+1PBf53UG/I584bmE86T2hetPinXetPvjQdsPHDps+dd623W2XgecXe70PkH34KvCbb0NOnok4/130ReM4E/J8a55y0zrd1j7LySXXjeztvYpcapfpYJFqRVa5GHv5XOQFw9BTZGtkm3u9v9zlsXub645NTls32H/yvvW6NTffW8yUiktYa26+Sw7vHq99x4MNL8WaWGfYeRf5RtfE5rTl1vbXsUa7x6bG9PfQPA8VdJHq4rFsMuzo0Gi93UZyFYxZ2XQ6HXn5M4q+SIdSH9hsIO3Hp8f1F8+igy6yq4yBEBlBFzEgHDCKuURf3Ss33tjnc6Cwq4julUXQO0kuml+kMVmFcXMIrmjQMs2a3hTdhmycvmgueLtP0YdokUEXodaoExuStjh/RhqTQ0EOCLk6n2I/8ic9iOLdgxbSEHStBgi6AOC5x53SVo1oojpU9tXK83nynQkPkX5tjpGeyZW71Skz2Wo2On4BAAA8V8ZnqN5jDbOjYqY0T4ZWizyKxm1z+FdTRs7FUqMs7g/g7LjV95FL7xpb1j8tOv/wLMZXXEz98lLOby/7/tHk6l+uHPj7tffI5/D71EtXP3zxytE/XrH+i0XW3+xZ/3IbfctHuDZkmvEmZwlrfdjMhtCpjWHizWET28NFuyOEX0YLjsWNn0kaN0kfs84ZI4fdv1wYVi2Ka6BGEM3tnCL3SC2H6gZH7qARMdUBTqbCG62lNKXQlQ5q3OuUX2cskG9tj5e51irbxp/vYz4iHmkZbM1szfIrCTBNvHEk4OuH6tPwucee72OMybqFXUVDE8P6jQLAwxtvH0g5bG/7HzvmR1wO/2WQfdZLzOHrG8EyIJZO9vB7K3orkxqSybOfdYbdxdjL3wQb7vLYvc72I8aT5Cqv963Xfeq87Ytb+48FfWsUfdE81dI93zOkPCy5MbWoq7hxoKlvvH8uXHly7g5yVhLG+IQM9G2/OwsEeGQIugBgBZKpb3cKtdl9ap9G1cVChUHiQ0RfO+Jlh9LkZ3LllhXKsDZV4YCGJdIqVuxALyucQn17RqkTy3UCqW50Rjc4pe0Xa3tE2g6BtmVM28zXMGtMyxJqBya1YxLdlAL/ww4AsDLNKLS8SVU3X1E/QCVkqS2TETUi71KBQy7fImP0SsrId/HDJ6MGvwod+DKQ87lP31ZP9iduveude9536F5jy3rVqusf5p1/udHx5GKzX1wq+o1xyO8vm/35ytGXrlKDsZD65/V3XrX+6k1nu3e809cGdzPewDzbWhsqeSdA/MYtwb9ceS/ZD75oxXnhRs+vrnQybteC9VuTtj9eayfHkxzVVyy73rRhvWPX/YEj1VNtszt7mxd7p3cfo3Z59xn49n/h378vgHMgkHMoeOBo6MDXYdzj4VzDyMFTUYNnYobOxQ6R+/FiwrBx4ohJ8si1VN6NNJ55Ou9m5qh1Nt8uh+9SMBZQLoypn8hs00/kxh5X8KfVUuWP4dCEZII1yirrKY+rS7hV6OOU42Kdbns9yfxy3JXzUUYnQk8fDTz2pe+h3V57t7vt2uy0db3dxvetP5w/HdTr5mvW3HyPLPzQdsNH9ps2OW3d4rJ9u9vnBp5ffHFrP1n3aMAxsp1LsSY306zc8z2DykIS6pNy2/Oq+2rahzu4Qi7ZB/3e3L49NK3L6Ve71CoXHJyQ1LY4mUO1smH0OXvnKlfJ24fbkxtTnXNcT4ad3ulu8N6ip0Wha53tR+RI3kg2DywLLu0u5wj0/0sOAI+JW9oas/36/HyLlPOv9hXfCJOJpvWN4PlBnm+FM6JB0RBrtLtxoKm8pyKnPS+pMSWyKsqvJMAj38s6w+5a4vXvoi9+G3LysP9X5NWKvLp9YLOB7kW03Iq8wq6z+3iL82dkP8neHg85cS7yu8vxV81TLe2znLwKvUPKw8irKrmNNX21bUPt5NVBMCNUqBT6w7EMIOhC0AVLCEEXAKwKEhU15mHBgCa2U+XdqLIoV5zJlW+JfYgAzCBRdiFf4VSjjOtS1/I0oxKkIE+cVKUbl+oGJqlcqmFUU8zVZLLV5PiHtql8GlWutUrbKqV5mcKkSEHumhPZ8q8y5PtSZLsSZA91zz6wPo2R7kyQ7U2WHU6TH8+Sn82TXy5SWFYoyQ4ENKuiO1XpvWqyb2QPO4Va7pRWgIGeAABgiXDF2sxelUXp9J5EEePlacFaG9j8gX/55pAag8iWwwk9J9OGL+VMm+RMmeRMXskWX8meuJolMskUXkwTnkoSfBMnOBQ9vjdSYBA+vj10fHOwYGOQ8MMAwfsBoncDJt4NnHw/ePrDsBnGVTxszQZg4/9wGv6rPfdFq/7fm/X+5hrr58bLsWvdLy6V/do4+veX7f5kcu5v1wz+YfpUR0a6V71qfehNF/v3fXPXhfEZx3autkRPXswfTe3iTcmm9KfO8iBTyniTo108VnVfTVZrdlR1DD3Vv3GcybchJ/d6f/mJ45Y1N99l3OQH1kaHzYahpxyynRIbkpoHW+amMAGAJaPTdadWhXxoxIi4PF48Uu2SqJTcMaIarCoShVQsnRRMC3hiHlfI7R1jd/K6WgZb6zkNVezq0u7ygs6inLbc9OaMpIbk2Nq4iKqo4PJQv5KA+WMVMopcGloRFl0TS1ZJb8nM68inZgjrr28caGobameNsvrG+wZFQ6OTfOGMiLzS0YP+rQwIuhB0wRJC0AUAq9rIDDXqS1CL6lKh4rO4h0tHNkVLj2dRHb9C21RkI31idPx6MKGMCq7axrWVw5qcPnV8l5ocfLc6JTmMxkVU+ng0Xb4naYmTqmdV5FaQ23IkneogeLFQcaNMYV+t9GqgTpi4LnUmW10yG491CbVD0zoxOpDBQ5pW6sgzGEtI9U2s42mqRjTlQ5qSQU3hgCaPo87uU6f3qlN61IndVDwc3aGKaFeRcy+wReXXROX9ng1K1zqlU42SnJY2ldRj0LxMcb1UcaVYQR6M3xdQ+TEp8svlIsXVEsWNUoVFucKqQmlXpXSsoYJej3rlrUZqa2SbZMtk+9Gd1Lmd1K1O7aHOcPIYz+eoi7iaskENecjX8qgTnjz8+8VavkRH9l9/SwDgTpxJbXKP2rz8wV3St0ZxNwUXv+nq+rrd2X9ZUHMVLFh7vQ9YZ9ilNKWxx9j661gcqVLLn6YGhyxhyxJaJQF1087lM2aF099nT51Mnz6SPL0nfnpr9CMmYWtDZt72m3j9luBVd/4/nIb/Zjf4olX/H8x7f3ud9asrHYwIasnr5xfrf30p+bfGfr83ufmiycm/XDV46eqP3bCeVf3LYuurNsffcLZa4x74rk/h/fvtrQ1ive0V/brDtX9ZbGdsh67Xzd563/rDjQ6bt7vt+uLWfrrr2IWo768kmN5Ms3LMdvYsuMX4qnHBcs1zd85xtc9yssmws0q3MU+1vJ5kfi3x+uX4q5diTYyiL56L/O5MxPmTYaePh5w4FvQtuaLPPfbQk88/fm112XEy7Aw5gUMrwku7y8g5rFAr9ScoADwBWrWmNbzA7/WTjIjL9xXD5uBcrQqfeAGWEoIuBF2whBB0AQD8SKa+zZfoekTaWp4mrkvtWqe8WKjYm/wQocuuBNmZXLl1JRVm5HHU7QJqEDz91lcBoUxHbnI+Rx3RriJHz6xMcT6P6mi1O0m2KZp5rJ5CfRJNpU3b42UGiVSXrAOpsqPp8m8y5Sey5WTH7q5zefJvs+SH0qgd3vaQweeS1OYY6Z4kGTliZ/PklwoVpqVU1zHHGipR8G9WhbWp4rvUGWx14YCmapgaaLFDoO2doMZaHJmhhmecVNzRmUyhpnrFTc8O3kjuGnIq8mZ0Q9NU1tg3O4Rjl1BL7q+WMW0jX1MxRAUkmWx1crc6ulMV0qoKXqjIbvg0qbwaqF1yrdXHJOSEv1muIHc32eH5Mckdh3c2MjEpotqYl1F5CVmRrO5epw9LyMbJaUNuYFqvOqefSkcqh3/sJ0f2n9yclUehoR415AaSu7KORwVC5HmDHAHy/EPubnJYyOPIpkp5o1RBnovIWbGSkmC6NsVQ/WXJg84wW25UQJ0etlXU2RXUQsVmqT1UVEbOBHKWkjN2eFo3IdfhXwpgRZKoqP+8IU+MO+Pv9wDflyy7XqqI7lA18TXkTcucTl5XQn2SdbrtQb8j80OCu2vNzXe/CTb0KPAq7S4fnVyyiVXIUxl5Hisa0JB9I68O5NmevJY95pPVlljpF4nSr9OkZ7IkJgUSyxKJa5XUr1YS3SJN6ZDkds0UsqbzuqZzO6ey2qfSWydTWiaTm8UJjeLY+onouonI2omwalFwlTCwQuhfLnTM7TROyDga5LLN7eQay8VmMH+/9tbfrm7689X9f7py6g8mpr83sXrhsv0Lxq6/u3zrt5cDfmsc+ptLMb82TvjVpdRfGWf94lLeLy4V/+Jixc8v1s5L1Oresmnc5tn0VWjz5eRW+5zWoIrWpKaOlLbeyGaOUyX3csHwsbTRHbECxs1fsN73r13jHvCa3YV/mjGniH/ea53dx1/6HjofZWSTYRdSHlbeU8EVcvWnFwA8FWqZss4r1esvXzEirpAPjFgplbd1+BclgKW3soMugKcMQRcAwKL0i7XlQ5qIdpVNlfJk9kN/d2OQKDuVI79RqvCopwY/LBmkpv56jjrxCGU6cgSax7Rkz9N61ZEdVI8Quyrl1RLqy/fDafKdCUv/zfumaCo4PJgqM8zSfwNODr57HfUNONmBBBbVZaRggEpoGvmaDoGWPUF9D052VbKkIweSrZFt8maoI8ASUrEQucacfjXZgdA2KvIhx4Hs23f5iuNZ8gOpMnIoPnkWqd4qqe3xsv0pMnKoL+RT3YwsK5TOtUqfRioFpE+JYi7Vc6h1drq1PjHVW25MQqUjS3VWSFVU97txKdWbijOpn/KNPDTqeFQyRx4g5JzMme1NlTzblYqcq+Q8IXvoWENFvxcLqWE2yVn9JB4yq6o+i5N9kaxPhU2Kqe6S/s1Uf7I8jrphVNM7oSX3kf4+A1jGOoXakFbV6ZyF51uii5zk5PQmz2yL7wfZOtQWWhF2Psporc16RpzAqDU33z3s/5VNhl1sbVwTt1mqlOo3sUTIE2bbuJY8OQe2qMjjlDxayXPgA3uqLb72JMm+zZIbF1HvEMhRiulUkRfo+tkngcr+nvTmDJdct+MhJ963fnAs9I7l2mNB395INvcvCcxqza7jtPULhMNiFXtc0cGT13Ol5WxJUpPYp1RgkTF6Onpwj1//Oueef1osMA/ZLy+3/+Za1++ud//evPfP1v0vOQz+02XkNQ/+mz7CdwMn14Y+RB+4fcky8h4julNVz5Pyp/jsMTa5m0q7y9NbMqOqY3yL/e2zHK8kmJ4KP3vQ78gmp63zpwdbJrXO7uOd7gZHA4+RE9Is2cItzyO4PDSpMaWoq5jcln4BZ/4kZADwTKik8iqneLcXDszPt2x/sj1hr9VgWbu+EQAAwPKGoAsA4BEJZbomvia5W+1epzQqeLiOX3O1KVp6OE3+fQH1fb1XgzKqQ5XVp67jUbFNv1g7KqH66Oiv74nhS3QsEfU1fU6fOqaT6rJjV0X9L/apHGrKq09jmPv8OPVZHNWt6kQ21V3pZrnCtZZKreK6qGHWyoeocII9oR2d0U2tiHH8yK0gt4XcorZxbdUIlX+k9VIjyJGbTM4Zm0rltRIqHvsmkzrOz6QD2eqsT6Kp89AgUfZlChWTGGZTPfnu6Hw227ePLCeXktN1d5KMtH8mXRLvX1tiqX6K5Pw5n68gT0HkMWVSTOXBZmXUg4ucYHSfOde6O8YYDJntOUfOQ/K4S+ymxjZM71WTp508DtVTsIRLjX9ITld6mMFmPvVL1TDV1ayYq8nnUJ3tMtnUyIRJ9IiInT+OiOjbpCLXQnf1c6yhAmCrCqVFOTXmITnVL//Qz+9MLtWr8lCa/Itk2Y542eYlfYa5u7bGUs855ErJPpC9Io+++C6qlxi5dT0ihGHwbIgVOvKCSx6q5PxknLF0kVde4yIFeXC1jGn16zyGEfFIfkeBY7bzIf+jr5uvYYQQd9d2t12XYk3CKyObuM1PdIw48vaDvO4XcTXk+YQ8NsnzFXkGO5tHPfEucb/VsIkPQ8c/DBn5IIT7QTB7bVDX2qD29wObNgS3bIvs2JfQ/20G/1LBNLlHyJsx2yrqmdOtjnpXRvc2nl9kiWeD0qWWeoojjcnzG3m/RJ6BT2TL9ifLtsdJP46SMK/9YWpt6MybvqL1fmO7w8ZMMgQx9ZNNQzKZ6hFPA6lSKpwRDU8M946xW4faavvrSlil2W05SY0pkdXRAaVBtwp9GKMU3l2kjW+xP2kcXB4aWhEeWRUVUxMXV5eQ1JCc2pSW3pJJNpjbnlfQWUQ2XtZTXsmuruuv7xjpJCeeRLHEuSkALDnFlLTcOsrl1/vnR1yOP9udc8FbzFmyXr8AAABPAYIuAIClNDytq+VR6detRtWVYsWxTPn2+45BtPgi29mXIvs6g/oK/lIh9d2xTSX1VYt3I/NbmPkV1EJ1OXKqob6OuTobq5zIlh+ZHf3sYeckW0xtjaW+dr9WoiBXGttJDd7YMKrpFlHZ1Qzm41kEcpRGJbreCWrWpaoRKlrI6adChbgfBrJzq6O+XDMro4YHPJ9HjcFIzrHDafJ9yVRyQ+Ux82KDT6Kpb0u3xVFxwucJ1IRhpNmBVBlp/1UGFTYYZslP5VBTiF3Ip76qI5u1qaJOKnL2kjOHcS7RRXYjsoP6l/n4H6ZiymBTOSW5r4sGqP5MjJhkfpGFP/Z56qdWTO6hOsZFd6rC26lr9GmiIkCHav23h5eLqFyE7CTZ5/uP5fVcF7lp5AbSA/eRJw2LcqpzEjkO5O6e66ZGjm31yA9J8Aqd3YrcKKFMR55C+8XaztmJx0oHNeQkie6gznxyVlwvpc4H8hxIzuT55/njF3mYkIcGeSyQU448r5LzP6pDRQ57xRD1PwcjM3eMCArwyMizInmWI8+9jDNwrs7nK8iTITn/9Ss8GZ28rrjaeNMks91eexkR14JFmhnHmXgX+ea05ZJ19Vt5KsalOvIWgv5HHPJUQB6b1pVK8hboaNrM9rhJxtF77uq94Kk3fUSvuvP/7jj0ohXnhRs9vzS558xk/zDv3HGr71zskFvheFrrZNuITP6o6RcAAE0mmi42DXH6nz3zIy73Px6ucoqXi2f0jQAAAJ4fCLoAAJ6G4WldM1+T209NXuVUozQuUhxJly9tZ6knWjviqUl0zuTKrxRTWYhXg5LckNQeapi4Jr6GPTtK2IqcQgmWmwm5bnCKml2skU91M8rpo/I2cjYGtlApoE0l1SHAqEBxOoeabu1ouvzLFCrhIyfwUj3cNsfoO4TtS6Eiw2OZ8pOzU76RK71cRHVdmpuBzKWW6krl06gKaKa6PSXPTjdVPaJpF1DTqglX6KxjTxM5hpxJbevskKrk6Si0jToHyPG/kK8gd/3ShqPk/DHMkpuVKeix0dJ7qWe/htnh0cRyxGBwT+QUjetSXypU3GtI268z5OQltWZE86yeEPrG+7Lbcjzyvc5EnN/ktJWRci1Y6+w+PuB72DjOxD3fM6E+qYpdPSga0m9uqQ1NDFeyq+Nq411y3c5FfrfLY/cb5m/P7ck/r7//L4vtr1gdes3uwhtO5m+5ur3tEf6Od/p7fuVrg7rWh48zjvaTrq2xsl0J1KiqB1Op/0w6QV4d8qn/THKtU4a3U/E5eQnoFmkFP/QlHZ1UVfdLousm7HL4J6MGt3qy/3itnRFx3adevtn1uU/fpcThgHJhWe8Mf0pFbxYA4P4k/Il8Y3/Hn+2eH3F5/vloo1+mvgUAAMBzCEEXAMCzNK2kuu/U8jSZbGouH88Gqi+LUYHCMJvqprMn6WmMaGeQKDuWqR8+0aOe+i4mrVddNqhpG9cOTmlXZN8RWM3k6tuTs5NsDU1TA0tSM2zd2fOMqjGqUxG5lLQhLUl7shY8j8QKKgwj9yk9PFpwq8qlVnmjTHE+n/pvgyWcKY08XZ/KofqzOtcqQ9uoZ9GKIU2XUDsmwVPoqiOUUSMTkpfUe81EtStBZlOlLBzQLMOpOqVKaU1fbWBZ8IWo7zc6bJ6LlBZTH9lvOuz/lUn8NY98r6CykJiauLTm9ILOwkp2dfNgSze/Z2hiWCQRyVVy/ZXNmpRNcQQDjQNNpGVcXYJfSYBZssWxoG8XmbrN1fvW644GHLPJsCPXW89pmJZP669gdm7FKYVOJKembBye1nGnqKd3lpAaWJg8OdTNDtBaOqgpGqD+IYm8H0uZ7W0cMzs0a8i8Ps3kdzrnJs8nDaNUj8+BSeoffZa206dgRl3DkYTXiG6k8Q4EctbYshj51n3qT6btWz3Z5+OGbpUICljTY9N46QKAOwyWtyd9aTM/3yJ16+/ftITm6VsAAAA8txB0AQA8BxSa22I59e1Mj0jbMkZN+FTE1WTN9mWJ7vjxK5i7K6RVFd2pSulR5/ZT2VUj/4fZv2Z0YoWObBYAYJWbUlBffLeNa8mTZFov1UHQo576n4OLhdQUeruTliAM+yxOdiRd/l2+fjrG2E5V0QDVt4+PGGylIGdRMVfjUqs8lHbPkQnJGUXu+j7x8zTi3KRsqrK3KrQi7Gaa1ddBxzfYf8KIl55VvWf1wWH/ryxSrcIrI2v760QSkX6PVyKVRsceV+R2TnmXCi4lDhv49r9m1fXzS8yUa8H6m1nnTu8+48SRwAphGXsG0RfAqtWf3xjyoREj4vL5l2FreIFOg6FQAQBgJUDQBQAAAABwP0KZrnVMm8lWh7RSM8nZVCqvlVDdwg6lybfEPm4S9nmC7EQ21RvMrU4Z1aHK56ib+Zp+sVaEQRGXN4lKVzms8WpQ3mfara8z5D6NqvrRFfV/Jf0CTiW7OrY2ziXX7fsY44N+R9bZfsQIopaw3jB/e4vzZ0cDj5mnWkZWRdX21wlmhPpdWd26RuWZbVNO+WPfRgyud+5hRFz3qhdNO7Z5sY3ih71LBbmdU+xxhX5zALBCsVIqwzZcZERcgW+f7Ygt0bcAAABYERB0AQAAAAA8OoX69uCUtomvKRjQxHWpfZtUNpVUh7CvMpZgqrAtsbL9KdS4iJeLFGSzXg3UALPJ3dSUb1WY8u2p40t01SMan0aVYfY9w61DaXKnmtmRCVdZVMkRDFT0VsbVxnsVettnOZolW1yKNTkTcf7roOP7fA7scDfY6Pjp+9Yfvm721vwca83N9z513rbf5+Cp8LPXEq+75LqFlIdltGTV9deTDUoUEv3WYRE4QmVu57RH0fiZmKFd3n2fefX93byTEXQtWGtsWfsDOFdTRgIrhSU9M/0CpF8AK0FrWL7faycZEVfaMaeRWpa+BQAAwAqCoAsAAAAA4AkSyqiBZ2tGqOkYI9qpecKuFCsMs5ZykjC6Po2R7oyXfZEsO5wm/yZTfiZXfqlQYV6mcKpR+jSq6IQsj6OuHKYmousQaMle9Yu1w9M6vkRHdnJaqZMhMJunT6wt4mpC21QW5dT9xTja8+tAqowOt9APD5abKZmmul8SVi26lsrb49f/L8suRsp1r3r5ZtdnXn0nowZtsvkRNaKy3hmuSKnfKAAsY4ppaZVzgseLR+bnW3Y/3Zl50n1qaFzfCAAAYMVB0AUAAAAA8MyMzujaxrUFA5roTmp6sBulijO58gOpss/iljgGe9jaHEPNLrYrQbYniepVdihN/lWG/Nss+akc+fk8KkK7VkLNOuZQrXSvU/o2UbNCRrSrYjtVid3qtF51Vh/V7ayYqykf0tSMaJpnJ4nkTi2jIRkV6tsCqa5fTE1+SXYyk60mO+/TqDIpVnyZ8uCDT+4jxxoluY1CGcIteJ7MKLT1XGls/YRNNv94OPcTt97fXWlnpFz3qTW2rL3+HOPEkVslgpyOqbYRmUiy6hJycgzHptUcobKTJ68fkJaxZ7I7phKbxOE1It8ygUvBmFXW6NWUkQtxQ99GDB4MGjDw6f/Mq2+LB5sc7Q0uPR869bxn3/22XfebNqxXrbpetuh8yazzz9c7/nitnXFfvHCl/UXTjr+ZdZI2r1t3kYP/vkP3Oueeja69ZGs7vfvIffFV6MDp6MFLicNm6Tz7XL5n8XhgpTC6biK1ZTK/a7q6X0J2clismpZjHqaVT8KfKLwa5PyLvfMjLsef7c773nd6BIO+AgDACoegCwAAAABgmRIrdNwpbds4lcRksNWRHSqfJpVTjdKsTPF9gcIwm4rEHn+AxGdSc/3PDs32PzuVI7+Qr7hUqLhaorhRRkVodlVKcks96pXejSr/ZlVw6yOWV4PSvppKEI3IEct6rCP2bZbctVaZh3ALVhz+tLqqXxJRI7LMHD0ewf3Ug/2PxQ17SNdvTdrW2LI+9+k7FTVonc33LRMkNIqLuqdbh2UjYpX+OpYHmUormFEPiKiMqm5AWtw9k9E2FVs/EVQp9Cwed8jlz5VV1uiFuKHDwQM7vfs2uPSQG/h3886HCgWXYf3lRsdbNqyNrr17/Pq/jRg0SR5xzBsLrBSmNE+W9c508OSjk8vr/oJFEvUMZxi62v+vXfMjLrcXDpTbRMvFM/pGAAAAKxqCLgAAAACAlUCiokYg5M3oOJNalpDqqFQ1osnnqJN7qCETfWcTMotyhXGR4nye/EQ2FS8dTpN/mUL12dqZINsaK9sUzYx2VnMZJMou5Cuca5XJ3WpyPPVHGWDVUKh1veOKQtZ0SBUVgH0dxt3o2vvHa4+S9JC11tiytnmxvwoduJQ47JDLv1UiCKsWJTaJczunKvokj1Bkx7Lap1KaJ2PrJ8imAsqppMo5f8w2h2+SPHImZuho6MBuv/5PPdjvO3S/Ytn1omkHY69Q96o/mba/bddN31/GiVQYFlwlTG+drOVI+wWKKblGf4rAMjBY3h6328Lm37fPj7i8/3m80S9To0BsCQAAqwiCLgAAAAAAuINSc1uq0k0pqOSML9ENT+sGJrXsCSo/axvXNvOp0QhLBjW5/dQohfFdVJAW3EplaV4NStc6pWON0qZKebNccaNUcaWY6qd1IV/fm2rHcup/RnbmYKrsVA41EqNlBbXnQS2qnH51p1Arx3RlAPcwIdU0DcmSmsSuBWMXE4a/DOSsc+75y41VFCO9cKX9JbPON6xZHzj2bHZnf+7TdzCIczyCez5u6ErKiGXmqHP+mE8pleQlNIqz2qfKemeq+iV1A9LGQWnrsKyDJ2fx5exxBUeoHJpQjU6qxmfU5KhOyTVSpVah/rHDqESpnZRpBDNq3qSKK1L2CRRkxfYROdlOLUda0SfJ75pObZmMrpsInO2RZp/LN0vnXUocPh09+FXowF5/zjYv9lrH7pctlr4vGtnmOqcectuPhXHJNdrlUD354hvFxd0z5PQYECkxWOITpdPquhLLQz40mp9vkQpe+11XUjm5VN8OAABg1UDQBQAAAAAAT5tEpRPJdaMzVITWLdLnZ9Uj1JxeRQNUhJbJpvqixXepoztUoW13jEb4UEVWT+tVk23W8qh5wsjVCaQ6GXIsgCegX6Co6JOktEwGVQod88ZMkkaOR3ANfPs/dOp5yewhxkJ8ovWXGx2vWXWtdeze7M428Ok/FDxwInLw+4ThG2nUHFdzQxe6FIyFVInSWifL2ZLmIRl7XMGfUs0onu/wZnxGTW5IPVda1D0dWz/hXSqwyeYbxQ8fDR3YcavvPfvuvy313fSGNdWT7+swrknyiHvReEKjuIYj4YqU+h2Ch6eUyOs8U2+9dIwRccXuNOOWtuobAQAArD4IugAAAAAAAADgiRufUXfy5KU9MzH1E+5F41dSRo6FcXd59+18+PrCv/9g0MA34dxTUYMX4oZMkkZupPGss/nO+WN+ZYKo2onUlsmi7um6AWnnqHxwQimWYsC9xRJK1F2j8nK2JKlJ7FtGhWHn44YOBHK2eLBfs+piRFmPXH8ybX/duusjl97dsxOGkZPBpWAsokaU3zXdMizjT2HYPaYZnqjoWrDzL/fOz7fsfroz7ZiToGtQ3wgAAGC1QtAFAAAAAAAAAACLMqPQckXK5iFZIWs6vlHsVyawz+UbJ458E8793KdvnXPPyzeXJg/7y42Od+y6t3qyDwUPnI8bssoa9SgaD6sWpbZMlvbMtAxTYyROylZ+hDnePpD6laPdT3fOj7icf7m38GrQDE+kbwQAALC6IegCAAAAAAAAAIClNCXT9Iwpytgz8Y1iz+LxqykjR0MHPvVg/8N86cexfMms80OnHgMfqnMYuSKXgrHwGlF2x1T9gLRfoHhewzCdjp1VF7n5yvx8i9Stl47VeqQoJXJ9MwAAAEDQBQAAAAAAAAAAT5NQou4TKBpmJwyLrpvwLB63yBg9GTVo4Nu/1rH7Lzc6GFHW49c/zKkw7HOfvmNhXOPEEYdcflClML11spYj5QiX17RhGoWqKSjH77WTjIgrdN33XYnlOq1O3w4AAAB+gKALAAAAAAAAAACWF/60unNUXtEnSW2ZDK4SOuePXU/jnYsdOhw8sONW3zqnnlcsu35/tZ0RaD1ykU29ZcP6zKvvYNAAuRazdJ5rwVjo7EiJ5WxJ16hcKFHr9+yJkY5PlpiHu/7uwPx8y/Yn2xP32wxVdeobAQAAwF0QdAEAAAAAAAAAwPNqRKxqGZYVd8/E1FOdw8zTeWdihvYFcDa69r5m1fXClSULw0j9w7xznXPPXn/Od/HDzvljsfUTlX0S9rhiSv5YAySOtfanfu1k9593TMTl9D978r73nRoc1zcCAACAe0DQBQAAAAAAAAAAK9mwWNU6LCvpmUloFPuWCWxz+Ofjhg4EcrZ4sF+x7GKkWY9Wv7tC9Qnb5sU+EjJgFD9sk833KRXEN4rJlXby5BPSBZIwnUbblVQe/rHx/HyLlOefj1Y5JyimpPp2AAAAcF8IugAAAAAAAAAAYFUTSzXdfEVFnyStdTK0WuRWOG6WTo2UeCh4YPutvjW2rD9ee9yeYb81aSPb2XGrzzBy0CKB43I2zOEPRxkRV8iHRh2xJVr1Y/UPAwAAWG0QdAEAAAAAAAAAADzY0ISqcVCa1T7lVyawyBg9Fsbd4sF+zeoh+oT9+duSvWssLX5qMD/fsvrJjqP/urLBMHv97LiIp6MHrbJGfUoFKS2TtRwpV6TUXz0AAAAsBEEXAAAAAAAAAADAYxFLNSy+vJwtSW4WB5QLHXL5lxKHj4Vxd3pTHcJ+d6X9zX2J3770vfW/bZ8fcZn97y8M1tr/4WQFIw+7u/5mRk0Ptj+Amh7MPpcfXCXMbJuqH5AOIAYDAIBVD0EXAAAAAAAAAADAE6GWK5uCcvzfODU/3yJl+eI3F45F7HRjLcm4iGQLb9t17/SmxkW0zBwNrBBmd0y1DsuEErV+P1YfqVI7Nq3uFyjIcajql+R2TsU3ioMqhW6F47Y5fOPEkZNRgweDOLu8+7Z6sje59X7k0rvOqec9+25yj7xu3fUvy66/m3f+5UbHn0zbf3flnnfQH662v2TW+ZpV1zt23eude7Z4sHf79ZN74WrKiEvBWFi1KKt9qm5ASnZjSoYRKQEAnhQEXQAAAAAAAAAAAEtMwp8ovhHm+tsv74i4/n17zI4bfbkN+kbzcEXKeq40u2MqrFrklD92KXH4YNDAx669/zDvZIQrD1t/udHxpg1rg0vPLu8+ss1TUYMmSSN2OXzP4vHQalFys7iANV03IGXx5bxJ1YxCq9+hZWZwQtkwe3zIPpPjY5Exejlp5Fzs0PFw7sEgzuc+fZvcet+z7/6XZdefTB83OHxy9apV16ce7EPBA98nUD3zQqqoJIzc7+TW6W8nAAA8PARdAAAAAAAAAAAAS2aklpVyxMHupzvnR1yOP9udfdZrgj2ib/SQRsSqBq40o20qoFxok80/Fzu0P4DzkUvvyxaPG4MtWC9e73jdumudc8+OW32f+/Tt9uvfF8A5EMg5FDxwNHTgWBj3eAT3ZNTgmZghsiffxQ9fTBi+nDRyJWXkehrPPJ13M3PUOpvvkHvPss3hm6XzTJJGzscNnYgc/Cp04MtAjoFP/07vvrna6Nr7tl33P8w7f2vSxti9lVovmXVu8WCTw0sOYGCFMLdzqnNULlct0+gR7mV8Rv2efTfjziVFTnKpUutfLiS/F7CmszumyEP4l8Ztv77cZuDbXz8g1en0W6Dxp1RXU0b+Pht1v3ClfY/fAm3IBslm565irsgOkN2g2xR1T5Ml9LXTS4hJmYY8yshysj/6RbPoK33RtINcRK7aImNULP2xM+KCmyLoG0Vviv79XnUpcZheBWBpIegCAAAAAAAAAAB4XFq1piOuNHTd9/PzLVKefz5a5RSvmJTo2z0BQom6a1Rexp5JaZ4MqhQ6549dTaGG5tsXwPnUg/2efffLFp0v3Hv8vZVafzPrfNOGtc65Z/utvv0BnG8jBr9PGLbIGHUpGAsoF8bWT2S1T5WzJTUcST1X2jIs6+DJu/mKPoGCK1KOiFX8abVIop6SaRjf6c83JdeMTatJ+54xaozEWo60uHsmpn7Cq0RglTV6Lnboy0DOFg/269Zd9xn/8IH15+sdm9x6j4QMmKfzfMsEOR1TZFen5QjAlik66PqlcRu539+1756r83FDMpU+6HrLhsKjJjAAAGraSURBVEUa/MuSakCnSuQRmts5rd/E7dslPTPkBCZt1jp2kxOJ/CS/M9oQjxZ06XS3/coEdMv5QdfcldJ7TmdsG1x6eJMqusFigq6y3plrqTy6yEOPLCc/55YkNIrpVQCWFoIuAAAAAAAAAACAR6eYlFQ5xnn++Sgj4gr76FJnQplWvYwmZxJLNVyRsn1EXtUvyemYimsQB1YIXQuokQAvJgx/GzG4P4Cz/VbfB449r1otrzEAX77Z9bFrL9m9c7FDNtl8t8Jx/3JhRI0osUmc3TFV1jtTPyDtGpUPTajmd0BZVmYU2n6BorpfktIySXaeTsL2BXDWO/c82gCVf77eQY7JwSBqIESHvLHQahG5T1uGZYIfEg54Juig629mnR08uX7RPHQmRM7ncraE7p6lUOuup/F+adz2jl33sJiKlEQS9WZ39gtX2sm5TbchP5ObxaTNJrfe+Wc4HXT98Vp7A1dKL6Gv/f5BV9uIjOwAfRbR6RQxOKFcY8uaf6Vkx66kjJA2F+KG1Fpq0WKCrvnutRxgySHoAgAAAAAAAAAAeBSinuGs054OPzOYn2/Z/69dacecxlr79Y2efzMK7YRUw59SDU4o+wSKrlF5y7CsfkBa2Scp6ZnJ7ZzOaJtKbhbH1E+E14gCK4U+pQL3onHHvDHGiIVz5ZQ/5lk8HlAuJO3jGsSpLZO5nVNkUxV9krlq4Ep7xhTkSiX37lC1wpDDW9UvIYeRHLpzsUOf+/S9acP6nzvDrcXXGlsW2cJXoQPfxQ9bZo7eKhEkNIrL2DPdfMWkbJlmgSvDYoIu8hjR/z1rbiDBtNZJ8ueIWEXuMvIYmZ8nLbhZOuiav/CBQRf5eTh44IUr7bv9+snyuRTKo2ic/GmRMUqnXLSxafVax+63bFhDE1QCh6ALli0EXQAAAAAAAAAAAA9Dp2Nn1UVvM52fb5Fy/8OhMstI6Tj1VTXAUhkRq6r7JfGNYpeCsQtxQwa+/W89RgA2V69YUp3k9gVwzsQMWWZSIzr6lApCq6noMb11soA1Ta6UxZfzp9E/7OEsJui6O/shB58sv5k5qv/7LgtuVihRf+jU81BBV3TdxC+N226k8bxnr5HeE5lKezBo4LcmbVX9dwyyqlTrvgnnzi1H0AXLFoIuAAAAAAAAAACARVFJ5Q0+6T7/MmREXEHvXWiLLNQoEQnA0zMsVtVwJCnNk75lgpuZo6ejB/f49b9n3/37q0s/5iTZ5qtWXRtcej73oSY8Oxo6cCJy8HzckEnSiFk6zy6H71k8HlYtSmmZLGPPNA5K2eOKuaBltXm0oCuvi8qQLiUO03/qdLfrB6RfhQ7QE2XNFWOz9HWRu6ZfoJi/5F5BFz0+IT3t1vw9oQOzuWu5u8hG5jZ1r7r7Rt3rxgIsOQRdAAAAAAAAAAAADzDBHsn73tf5F3vn51u2/7Ej6YDtUGWnvhHA8iCWajp48uLumcQmaho2x7yxy0kjX4UObPFkv2nD+q1J2/x84knXC1fa/3Kj42WLzjesWe/Zd6937tnszt7p3bfHr/9gEOfrMK5h5OC52KGLCcNXU0YsMkYdcvkuBWO3SgSBlcLI2omERnFa62Ru53Rpz0wNR9I8JOsalXOESt6kSiRRL8ORLR8t6CK3kSyngy6VRndjdtauv97oIEcmoFyY20nNqPfyzS7GZll8+T/MOz906hFK9LHWfYKuSZmGbI3c+9kdU2T5/D2h1yLX+Lp117v23XfX/B5d5A59x+6OS+k07u4bda8bC7DkEHQBAAAAAAAAAAAsTKfRdqdWRW29Nj/fIuXym/3FpiEzPJG+HcBzZVqu5QiVdQPSrPap8BqRS8HYzczRKykjF+KGDCMHDwcP7PHr3+rJftuu+683Ov7nruxqGdbvr7aTXf2XZdcaW9YHjj0bXXu3ebENfPsPBFJZGt3/7HLSyI00nnX2PWeJq+6XNA3JOkfl/QLFiFgllKhnFA8dpD1a0DV/6MLmIdmL1zt23OqbkP44m9qCm6XjsTMxQ2qtfmat+wRd8Y3i35q0nYsdUmmoxvP3RDo719cfr7U3cKWzKy1sblMYuhCWGwRdAAAAAAAAAAAATNLxyQq7GK+/fMWIuPzfONUcnKOWK/XtAFaBSZmGI1Q2DcnKemdyO6dTWybjGsRh1SL/cqFH0bhD3tj1NN652KGvQgcMfPo/du19y4b1vCRki6zfmrT9ybT9JbPOVyy7yK1736F7gwvVNc00lac/Rj9YTNDlUyrQ/z1rWq4lx40sT2ulZvgLrqLazA1jSONPq9+xu2OzCrXueASXtIypn6CXEPcKutbYst60YZGfgxP65y5GCnUzc5T86VowptNHZnpaHTWOIg1BFyxbCLoAAAAAAAAAAAB+NFzdlfqVo/3/2jU/37L76c6kA7bc0lZ9IwBYnBmFVihR8yZVHKGSxZe3DsvqB6QVfZJC1nROx1Rqy2R8oziydiKoUuhTKnCfjc2sskavp/GME0fOxVI9zI6GDuwP4Hzu07fFk/2RS+/7Dt1v2rBetuj88/WO311Z+gnJHqr2BXD0t/MHiwm63rXvbh/RX6rS6DyKxn9p3LbeuWd0UkWWkCND/iQbIYeLbsOfUn0bMUhWnL/Z7I6p35q0bXZni34Yt5C4V9BFimwzuu7HSIyRQnWOyl++2fXClfaERvEP3cNuky2fiho8ETlI9y1D0AXLFoIuAAAAAAAAAACA2yqZojEgK/Dts/PzLVIefzpcZhkp4f/4BTEALCsqjY6O00bEqn6BonNU3jwkq+FISnuo/mdprVSWFlEjCqwQepUInPPHbLL5Zuk8kyRqqMaTUYNfh3EPBHIMfPu3ebE3uvZ+4Nizxpb1iiU1IdYfrrb/yvh+U5odDh7Q78QPFhN0kc3++rJ+Qix6gqsXrrSTXaXbTMu1B4MGyEJ60ixS5Je/3Ogg26RHFxRJ1Lv9+skqpA1ZfW6uLFJkz8mWSZFfyM0kW5sLusiuzg+o7k6h8rqmXzSl+uHR23zHrptcBblquxw+Pdohgi5YthB0AQAAAAAAAADAqiboGsw5d8vp518wIq7wTy53JpRpVT9OkwMAq5NMpZ2Uacam1cOzWdpc17RuvkLf4geLCbp8ywTZHVMfufT+0pgKpQx8+xsH75gci1ydY97Yyze7SOMXTTuupoyQ6z0TM0T+jKydoK+C/H7/ogc/pNMpsqnO0Tv2Z8EUiiNUXk4aoeOuF6607/HrJ7cRQxfC8oegCwAAAAAAAAAAViONUt0WWRi24SIj33L6nz3ZZ70EXYP6dgAAS2RJsp+7xydkoK+FMcsXwAqGoAsAAAAAAAAAAFYXUc9w/iV/l9/sZ0RcAW+dbvDNUEoW6IcBAPD4EHQBPAkIugAAAAAAAAAAYFXQKFRtkYXhG40Z+Zb9//489WunocpOfTsAgCcDQRfAk4CgCwAAAAAAAAAAVjhRz3DeRT+XXzO7cPm8/G2Na5JiUqJvBwDwJCHoAngSEHQBAAAAAAAAAMDKpJTIm4NzQtczZ+Gy/1+7kg/ZDRS33Nbp9E0BAJ68JQm6AIABQRcAAAAAAAAAAKw0g+Xt6d+6Ov5sNyPi8n3FsMY1ST4xo28HAAAAzzkEXQAAAAAAAAAAsEJI+BNVjnE+/zJk5FvULFxHHbhlbfp2AAAAsFIg6AIAAAAAAAAAgOebRqHqTCiL3WVm+x87GBFX4Ntn62+lYRYuAACAlQpBFwAAAAAAAAAAPK+Gq7uyz3g6/3IvI99y+fX+3O98RpvY+nYAAACwQj2NoEsgEAQHB586dcrQ0NDd3Z3FYunuO88nuXRgYMDLy4u0J2sFBAQMDQ3pL5v1FBrMzMw4OjoeuRNZQpbTDR64BXKpk5MTWYvcZD6fr18KAAAAAAAAAACPbYYnqrCLuXuIQtufbI/+7HpHXKlGqdY3BQAAgBXtiQddfD7fwsLC0NDQ2tra1tb21KlTRkZGLBZLf/FCenp6SBvSkrQna5F1yRZ4PJ7+4qfSQCgUWlpakjb29vYOPwgKCpJI9P3c77+FyclJsmJCQsLg4GBgYKC/v79CoSDLORxOcnKyTCajmwEAAAAAAAAAwOLJxTNNgdkRm0xs/n07I+LyffVEpUPcDE+kbwoAAACrw5MNunQ6XXZ29pEjR3JycsjvZElnZ+e5c+fmgp+7qdXqiIgIQ0PD+vp6sgpRWVlJtpCYmKjVap9OA4LH4127di0qKoo0ppfM98AtsNns69ev07lXd3e3qanp6OgoucnBwcG5ubmk/exmAAAAAAAAAADgwdRyZWd8afyem3b/uZORb7n8en/OuVsjtff7p2oAAABYwZ5s0CWXy/38/IyNjQcHB+klEonE2dnZzMxsbGyMXsIgFottZ5Ff6CWkJWlP1qJ7Uz2FBkRPT8+RI0fS09PpPxkeuIUFg67q6mpXV9fJycnZNQAAAAAAAAAA4H4U09KOmOKkL20c/3sPI9+y++nOuN0WXUnlGKIQAABglXuyQRc909X8QEipVIaEhBgaGrLZC88FOjo6ampq6ufnJ5fL6SX0Rsx+yMaeQgOiqanpyJEjnp6e1tbW5BcLC4vq6uq5/l4P3AJj6MJbt27xeDyypL29nW4PAAAAAAAAAAALko5PNgVmx+y4cXf/LZt/3x7+sXGDb4ZMOKVvDQAAAKvb0wi6CPILvYQOuo4cOdLT00MvYaAzJNKGtKSX0BshC8lFT6cBUVFRQXaSnqOLnoKLqKqqokcdXMwWuFyuu7s72Qj5yePxUlNTw8PD59oDAAAAAAAAAMB8U0PjtR4p4RuNbX/CnH+LVODbZ6ucE6aGBfrWAAAAALMQdC3QgJDJZGw2WySi5i/V6XQdHR3nzp2zt7enBx5czBbm43A4VlZW9EiG9xF4b1oAAAAAAAAAgJVotKWv3CY68N3zjGSLroA1Z8usIgWsQX1rAIBlRv/dLgA8Owi6FmhwN/nsZGNzIy4+1BZkMhlZNzc3VygUBgQEkI1YW1svOHKjPtRaiFQqlQAAAAAAAAAArAgi3nhTZH7qcWePF48wki26fF87UWQeOtLG1q8AALAszU1tAwDP0NMIuiwtLYVCIb1Eubg5ujw9PWUyGb2E3ghjhq0n2uBu9G7P5XMPtYWqqipXV9fx8XF/f//AwMDBwcGEhAQbG5u5YzKHzrQWpAYAAAAAAAAAeJ7Jp6XsvPqi6yEh675nxFpzRfXfsokabe3TrwMAsOzpv9sFgGfnyQZddEcoY2PjwcFBeolEInF2dr5PpCQWi21nkV/oJaQlaU/WIus+nQbkZ1BQkI+PDz10IcHo0fXALcwRCAQ2Njbt7e10g+7ubrKQx+Ndu3btXn3aAAAAAAAAAABWDG5ZW5llZMQmE0amNb9C11+scooXc/j6dQAAAAAW7ckGXUROTs6RI0cyMjLo4Uo7OzvPnTvn7++vUCjoBuQXLpc7NwagWq2OiooyNDSsqqrSzaqsrCRbSExMpLfwdBrExsaSJWQ5uZQsYbFYRkZGc3N0PXALNPJ7ampqdHQ0aY+gCwAAAAAAAABWA/nETE9adeGVwND1F+3+cycj05orzz8fzTjh1plQppi845+GAQAAAB7KEw+6BAKBlZWV4ezEVLa2tqdOnTIyMmKxWPSlc5FSTk4OvYTgcDikDWlJ2pO1yLoWFhY8Hk9/8VNpQH4nS+bvNvmdjrXoBg/cAiGRSKKjo+mFCoWCHrqQ/JmcnLzg0IUAAAAAAAAAAM8jCX+iI7Yk+6yX3+snGYHW/HL+1b6EvVZ1XqljbRz9mgAAAACP54kHXYRIJAoODjYyMjI0NHR3d2exWHNxEfklPz//3LlztbW19BIal8v19vY+NSsgIGBoaEh/wQ+eQgOBQBAVFbXgbtMeuAUGchxIMzo8u9cUZQAAAAAAAAAAzwXp+GRXYnn2WS/fV08wAq355fjfe+L33Kx1T+Y348sQAAAAWHpPI+gCAAAAAAAAAIDnnWJKyilsqnKKTzpge+vv3zACrfll+x87wjZcLLOMHKrs1Gl+nOUBAAAAYMkh6AIAAAAAAAAAgAXMjE705TZQydaXNrdeOsZIs+6ukA+NCi4HdKdWKWdk+k0AAAAAPGEIugAAAAAAAAAA4LZOqxN2D3XGlxabhsTsuOH+h0OMHOvu8nn529Svneq903n1PVqVRr8hAAAAgKcIQRcAAAAAAAAAwKqk04l6RzpiS/KN/cM3Gjv+9x5GjnV3ef/zePJBuyrnBE5Rs2JKqt8OAADAsmE9VvJ/NF814xfSf54aTvu/W0xdBZX0n7AiIegCAAAAAAAAAFgtRL0j3amVxaYhkZ9edf7FXkaOdXe5vXAgYZ9VtUsilWxNI9kCAIDlrkY69N/tNj9tszw9nE6K/PLzDttWOV9/MaxECLoAAAAAAAAAAFYgnUYr6hnuTq2ssItJPeoQsOas/f/+nJFj3V0OPzMI32hceDWIlVwxPSLUbwsAAOD5kT3d+4cup/+r+Rqpl1ju5E/9BbBCIegCAAAAAAAAAFgJ5mKtlMP2AWvOMhKse5Xb7w9Gbb1WYBLYEprHa+jRbwsAAADgOYGgCwAAAAAAAADg+SPuH2Vn1VU5xqV+5Rj07nlGfHWvcvqfPWEbLmaecq/zSh0oaZGLZ/SbAwAAAHg+IegCAAAAAAAAAFjupobG+3Ibql0S0791DV77nePPds+Pr+5VLr/eH/6xcdZpzzrP1P6CJgxFCADwpDXKeP/ZZvV/NF9l1J+6XEZU0we48eR3C37RtdH8n7Xb/J+zY+u90OnoLazV3tbpNzGrWjq0lu3//7aakfb/T4vp7zud7m5DNkg2O3cVc0V2gOwG3cZ6rIQsoa+dXkJ0KwS/7XQgy8n+6BfNoq/0/9NynVxErvqjvqBO+bj+sntsiqBvFL0p+vd71Tu9vnNt6N/nI0vIcnIt9J/01d3dbD7GpuiDT/Y8UtxCLyHIQdvJiSTN7t7z+UgzcoTJcSZHmzT+97ab2/rDucpJ+tJ7HWq66AOeN83+tzYLxrUTroLK/7vF9L/bbVrko/SStCnWP1gec8eZHHNy5OmLiAWPzw1+Idmx/2+reaCoQb8I5kHQBQAAAAAAAACwvEywR3ozaqqcE9KPu4R8aOT433sYCdaC5fyLvWEbLmad9qj1SBkobpkZndBvDgAAnhY6a/k/m6/9W5vFT9ss5+qNHm++eobOMP697SZp8P9rNSfL6bTj/2kxvcEv1G/i9m3bsdL/t9WMtCGber3nFr1BRhvi0YIu7W3dfm4c3ZLsD72QmLtSes/J76TBz9ptyiVcusFigi778bIP2AF0/brTniwnP+eWnB3OmGv/1IKukIkm+rbcJ+ia0So/50SR2/5/NV/7SdvNufvl5x229M3//7d3H3BRnPn/wP93v+u5S7m7JCaXnlx6OWMSY0xPTDGJqcZYIxYUAUHFLiAivYMU6UgHQYpUaUpVsNCLCNJ7h2UBWf/f2Wcc16VIAkSBz/v1vHjtPPvMM8/M7sM8M9+dGWFTs09NSFSYZmEbvGewf26JA5WR3arkk0vulEl/6TVt/K01UfRRym3nf+ToerfybR66fTxbL9yRc2DoFwAECHQBAAAAAAAAANwyg/1XGvMrCo+lpBj6sWdrmd63WC6CNWwym7XE432NiE3Wp61DLp04i6u1AABuB8PGWgQshnFHzgHzxlR2eVbzQM+Hpa6/u6B5T67eye5yysnprX8w3+gP2Vr76uJYGRYdoTIP5BvJXmLFoi9/ytZ2bM5kOWzpowe6WNSEMikJIZm4rkt35x6UXSg17N2LzlRmbolDz2A/5Ywl0CVr9PzfJtBV3tf2bKEVlaE0SqBLryGJ1v3ePIPg9nyWU9vfOa/kMM214JIbbRAh0CU0j5Hb4HtqT9DH9HiBGS2XFSjta3m0wFT4jPzbcmnjy34BhBjbC0XWtM0pR26lUror2MV/qyqOsllgKAS6AAAAAAAAAAB+I/0icd350jy/pKT9nkHL9B3nbDL+53dyEaxhk+l9i93e3hK+3jzd/GhpVGb75fqrEpztAgC47QyNtchiMYxlFQH8tJRwI8GdtTE0ear78qeX3Bdf9pONygxbLYu+yGbKxV2IXHSK/j5XZPWHbK0nCswoX4hC/VDuS5MsqMNySGZPNVV1V+7BxK4ympyKgS6FyuDfXdB8pMDkL9n7Rwp0tVwRvVRkQ8V2SLe/4GR3+T25evfmGWT31rFNLds8Rm6DU8lZeYZ/zt7v1nKOFXBszvxTtrYQ+mJXd31X7iO7nektKvC3HJ3A9jyalF2prsG+90tdaJL+0mtpcRgGAl0AAAAAAAAAABNvcOBKS0l1aVTmGZuQGHV73y817Z5ba3jXN3IRrGGT+YM/eXygcXyjVYZF8MXIM62XaiWDCGsBAEwBQ2MtskaK/SyrCKB8dne7YQ1bbXZv3b15Br8o0KVcHf67C5oflrouvcwtkbWkfqDr2UKr/8vWsmpKk87EYxEgIf+WBLpkE3uemWljihAlkqtKbiuFdRT+I0d3Vp6hbn0iZY4U6GJzCfE8Qc9gv13z6YP1SSXi5jEGuqhhCy65UbEfyn1ZARZBZJOsEtkr8AQeree16+Ize6rptbBSVNuqiqP0edGnI1wiBsNCoAsAAAAAAAAAYHwkko7KxvKE8+ecIuN2Ogf+cODw/zaO8VItSlaPr/T+fE+0ml2mXRhVgpsQAgBMXXKxFjkjxX506hNYbINNDl6VODSfeaHImuqhfCHJVcuW9Y8c3eMdRbI5QtyFyEan2P0J2WO3ZFvCAmbCUoYmFt0ZGnmSTUNXaqSVZfkjJSGSxBb3p2xt4YFYd+bq/u6CJiXhJn6sqmEDXV2Dfa+V2LPnWtHkKIEu9q7sRhtqjIEuYtWU9n/ZWuwSLjaXcIGXbPNY4WHJbR+aRS4CB0Mh0AUAAAAAAAAAMFZ93b0NueXFYelnbEJitx0O+F7Hcc4mk3t/kItdjZJsn13j97V23E7n867RVan5va1dfNUAADD1jR7MGCn2s7M2hvJZwKZrsI89tesv2ftfL7FfVXFUuy5+c3XEHTkH5KoNbM/7W44Ou7ceyxkad2HhoqcLLYvFTa+V2P+f9ClclC/bEjYXLfHOXF0hqiSbZK/o+kO21j03vkutGnalRlpZli8bwWKJcihfLtAlBLGY/fUJrAHseWasqmEDXTtqY2iN3r7oRNuThbJ+m0AXeygXC27JLVe2eazwsGS3D/2VDezBSBDoAgAAAAAAAAAYRk9je3VGYa5PQrKeT6iCqccHGlaPrZCLWo2eLB9ZfuTD7eHrzVON/QuCkuvOXRwQ4QEbAADT2ejBjJFiP7K3LnRrOffn7P2PFpjm9Tawd8mw1bLw2Jxiu57BfpYzNO4iBLo2V0f8X7bWayX27FFPsi1hUZw/DXdLPVlCVXLhopFWavR8uQgWoRzKHz3QVdXf8VSh+e8uaJo0JtOkXFXCVtKqi783z+Du3INxXZcoXy7gJIfNNfTWhbLGHugiwu0KN1SF0gv6y/LHuJ1lV4oF9th1aexdGBYCXQAAAAAAAAAwQ/U0ddSdLy0OS8+0C0va73l8o1XA9zru7261e36d6X2L5aJWoyezWUtc56uHrDI+ddA71zu++nSRqGWYs2kAADC9CbGWUQJdyyoC+Gmp8r62xwvMKH9nbQxNrqkMFuIcgtM9VfdIr50Sqm0e6Hml+BCVVKkOZzlkaNyFhYvuzj14V+5BIfBDWEvoL5v85JI7TX5X7iN35VCf5IqQc/sEuoTHhslVxVb/T9naD+Qb/e6C5g7p9iSjB7rYo8hkyzPZvXWz8gxZAOwXBbpYqPI/+cb0sd6RcyCkvYB/Y4TtTB/lC0XWQgBMdqWoGHtMF9Xj2XpBWhyGgUAXAAAAAAAAAExnPY3t9RdKL0aeOeccdUrX+/hGK79FWo6vKv3SUJaQ7F9c7/PFvkhlmzTTwPyAk9Wni7rrW/mFAQDAzMYiH6MHuv6Zq+d1LWjRNdj3Q7nv7y5o3pdnkNZdSTl6DUk0SZUEtuexMhk9VSymJVvtvrq4/8vWejDfKKe3nuWQoXEXFi6iRHUqy4TEWEvoL5v0b8u9I+fAH7K11Koj+iRXWCbV/Gqx3exiW3Zt2e0Q6BrLrQsphxJtseaBHpY/eqCL0Danau/NMwhuz2c5NO+7F52pHvrbM9j/iwJdLHDFmkEvhGYQtp0pmTemslgXbe3lFYH06QjNk1sp+oa8X+pCOezhaiwT5CDQBQAAAAAAAABTW1dda0NOWVncuewjJ1KN/WO2OgQt0z/y0Q6759bKxah+UTK9b7HzGypBS/UT9rqec4m6nJTdVn79ZCIAAMBQLPIxeqDrj9nav7/2QCwqSTmy96Yr72t7ttCKMn8nLUOJXvwlez+VZBf95PTWP1FgRrNQGcpkD7hi6e7cg1QzJXqxsOwI1SYEup4rspIN87CW0F9++upVnfoEql+o855cPVoELfqLMk92t8NbEuiiJg1du7WVx1gZuaqEQNcdOQf823JZJrlpoEsIN7JNR8tin8ujBaane6qowC8KdBF200JKstfbkcGrkq01UWzDsi/A33MOUDF6EXCtwUO3j/CVoL/0ms8FGQh0AQAAAAAAAMBtrau2hcWx8nwTT1uHJO33DFe08P9G22WemvWTq+SiU78omd3/o+OcTX5fa0eq2KQY+p1zjioKTatKzW8pqe5t7eIXDwAAMGZjCXQtqwjQrIu7P8+QRVaeKDBzbsniS0jV9nd+Xe59hzQE8qds7fdKnU92l88ptqPJDVWhQjhn9MQiJSxcJBf4Iawl9JeflorqLHn7ohMLd/0hW+vJAnOH5jO39taFsoltK9kmyVXFtgxtVYXKYJbD3DTQRahOqplWmUUQ78nVU6wKES7G+qWBruMdRf/I0aVEL/gsGeEdRS8XHWLbmT6aRWVeFX3t/HsjbJ+U7gr6wlD++6UuLO4IshDoAgAAAAAAAIBbrKu2pTarpDgsLcs+PEn7SNgaU5+Fex3nbLJ8ZLlcaOpXJLNZS6gq3y81j2+wPHnA65xT5MWI0/UXSkXNHfziAQAAfhMjxX5+kZGCK4KRIknwmwlpL7gj58CcYruewX4+CyYTAl0AAAAAAAAAMLk6a5rrsy+VJ17I90/KtA07qeMZpXooaKm+58c7bJ9dIxeX+hXJ4qGljnM2+SzcG6pgGr/b5bTVMVpQxamc5uIqcef1B2MAAADcWgh0zRAbqkJ/d0FzT+0JfhomGQJdAAAAAAAAADAubWV11RmFxWFp55yjUgz9YrbYH1th6PXpLsdXlSweWioXlPoVyfLR5U6vKXsv3HNspVHMVodUI//zrtElxzNqMos7Khv5RgAAANz2EOiaCcI6CunTuS/PIK27ks+CSYZAFwAAAAAAAAAMr6exvbm4qvp0UWlMVr5/0tnDx1ON/WO3HT62wtD78z2H/7fR/IElckGpX5csH1nuMm9zwHc6UaqHUgz9sj1OlMWfb8gp66pt4ZsCAAAw9SHQNb0pV4ffmav7uwualOg1nwuTD4EuAAAAAAAAgJlF3NHTVlZXk1lcGpOV65Nwxibk5AGvaDW7kFXGvl9pus5Xt3t+3URFsFiyenyl0+vK3p/vObbCMGaLfbK+79nDxwuCkiuT81ou1vDNAgAAmO4mJNAFt631VSG/u6B5Z67uvrq4wasSPhcmHwJdAAAAAAAAAFOeuL27/XJ9/YXSiuTcixGn8wNPXXCPOXMoNNXYP26Xc9haM7+vtV3fUjv0jIJcCGpCku2za458tCNwsW7EJuuTB7xoufkBJ8sTLzTmXe5uaOObCAAAAAAwCRDoAgAAAAAAALjtiJo72i/XN+aVV6UXcLcNDDh51jEizSQgYa9rpLJN8HJDny/2ub29xf7F9RYPL5MLO01gosrtX1J0f3er3yKtkFXG0Zttk7SPnLYOyfdPupyU3VRQIWrp5FsMAAAAAHArINAFAAAAAAAAMGHEnT3dDW3tFQ3NRVX1F0qr0gvKEy9cjDxTGJyS6x1/ziXqjE1ImknAqYPeJ7Y7RihZHVth6P+NtufHO1zeVLV7YZ3lo8vlQk2TkUzvX2z77BrX+ep+i7RCFUxjtx1OMfDNsg/P90+6FHu2JrO49VJtb2sXv0oAAAAAALcxBLoAAAAAAABgvPp7enuaOjoqG5uLqurOl1al5pcnnC+NySoJzygMTsnzS8o+cuKcS1SWffhpq2NppoEpBr6ndL2T9nsmarkn7HWN2+V8YrtjzFaHaDW7KNVDEZusj2+0Cl9vHrbGNORn42MrDIOW6R9dcjDwhwP+3+73W6Tl88U+74V7fsvkuWCnx/sabm9vcXlT1XHOJoeXFe2eX3fo6dVWj6+0eGip2ayJfJzVr0vUBttn11DzvD7bHfC9TsgqY9qMtFWTtI9kWATneMaVRmfWZpW0VzTwnxkAAAAAwLSAQBcAAAAAAMCM1t/T21Xb0lRYWZ1RyN0iL/DUOeeodLPAkzqe8XtcY7bYR2yyDlUwDVqm7//tfp+Fez0+0HB5U9XhlQ2HnlGwfOS3uPxoZiaLh5fZPbfW+Q2VIx9u9/taO+Rn/raB6eZHz7tGFwQllyecr80qaS2t6Wnq4D9LAAAAAICZB4EuAAAAAACAaaK/p7e7vrXlYk3duYuXT2aXHM/I80086xiRbn70lK53zFaHsHXmR5cc9P58j+tbavYvKf42d8mbacls1hKrx1faPbfW8VUl2s5HPtrh88W+wB8OHFthGL7ePErVNm6nc5L2kVQj/zOHQi+4xxYEJZfGZFWl5jfklLWV1fU0tg+I+vhPFAAAAAAAbgaBLgAAAAAAgNuOuLOno7qpqaCiOqPwUuzZgqDk824xGZbByXo+J3Y4sQc7+X2tfeTD7U6vK9s+u8biP0vlwi2/cTK9b7Hlo8upJVx0Z76616e7fL/UDPhO5+hPesdWGoWtNaM2R2+2jd12OH63S5KWR7K+b4qhX5pJQLr5UVqvMzYhmXZhZw8fP+cUed41+oJ7bI5nXK5PQr5/UsHRU4XHUorD0kqOZ5RGZdLWKIs/fzkpuyI597dMVWkFNWeK6s6XNuaVNxdVtZbWtFc0dNY09zS297Z29XWJBnoRnQIAAADeQGNjrZFR4Qcf5L7ySv7cueUbNvRkZ1+VSNi7gyLRZWVleqsrNZXlMAPNzSXffEOJXrDXVGbYVPDee73FxawMe81XQSSSRicnKkOLoAVRxkhVsQLN3t70ujM5uSMx8eKSJXmzZ+fNmVOuqCjbYGb0lWKEVZNLbKVYGVpryhGax1zp6Chbs4byqT18lhRbaMH8+fQWLbrO3PxKezv/3ghVEbZSrCr2eqRUc/AgmwWmNAS6pgbnuar8bSvmqtIRIx3QBi83pAPFE9sdTx30TjMNPHMo9JxLFB0H0hEgHftVnMqpPl3UkFPWUlJNh8ei5o7+nl6+LgAAAAAA+K3QULzlYg0NzssTzl+MOF0YnJLrHX/eNTrTNizd/CiLWh3fYHn0Jz2fhXtd31Kze2GdxUO3IGRl/eQqx1eVPD7Q8P9GO2SVcZSqbaKme6qRf4Zl8NnDxy+4x+b7JxWFppXGZPHHGrnltF78sYZIzK8tAAAAAFy92pWeXvDee3mzZ5d8+221lhb9pdf5c+d2njzJCgjRoFECXYPd3Q0ODrXGxpSqdXQK3n6bEr1gOfVWVv11dcMGukQFBZRDlQvhH1aM2lD02WclX38tpGpt7cHeXhYHKv7iC67AggWUz6JKsg0mN10p5lcGuiSSZi8vVlI20CUslLWcxdgu/vhjf309X2AMga6ujAy20SiVKShQPv0VctoiItgsMKUh0DU12D67Ru5A9Fcni4eXHXpGweGVDS5vqnq8r0GH0wHf6QQvNwhbZx6leoh7UrGWR4qBb4ZFcJbD8WyPE/kBJ4vD0svizlWm5NWeLWkqqGgrr++qaxW3d/ONAwAAAACYLsSdPd31re2X62ncW3fuIo2B5S7roYFxUWhark/COeeo01bHUgz9ErXcYzUcI5VtQlebHF1y0PcrTRpmO7ysSANvuaH4b5OsHl9JS3edr+69cE/gYt2wNabRm20T9rmlGvtn2YfneMXT8J5WhNaOe7ZT4/XfwwIAAADA+F1paytdvjx/7tyOxET+aieJpD0qKm/27NJly9jVSGMJdPFZUqPnywa6Bru7L2/eTDXLhn+GFpPFYkKFH3/cfeYMa7BELK41MeFiWosW9dfVUc5YVophq5b/1luinByWM7TxQ6NTvYWF1ADWbCHQ1VdTU/zll7IL5RpmaEhlqvfvl1y5QjljCXTJGikfpjoEuqaGW3WQPJZkNmuJ9RMr7Z5f5zhnk9vbW9gtSuiI+toN6LngWaKme7KeT7oZf+UZHV0XBCWXHM8oiz9fmZxXlV5Qm1VSf0H+HiDd9a2ilk5xRw8uRwMAAACAYfWLxDRi7Khuaimpbsgpq84ovHwy+2LkGRpt5njGnXOKPG11LNXIP0n7yIkdTlGqtmHrzIOXGwR8p+O9cI/7e9uc56rav6Ro89/Vt/y+f0OT2f0/Hnp6NY2xPT7Q8Ptam0bXkco28btdUgz9ztiEsAc7XYo9S2NpGkXT+Lm3tYvfKAAAAABw6/TX1dVbWTW5ucmGXuRCTSwalDsJga4Wf/+82bPLFBQK3n33FwW6mj09+Wkp4UaCHbGxNDmWlWLYqslmDm28XHSK/laoqeXPnVuuqCgbhWp0daXJOnNzPrQmNdDUVPLtt8VffNFfW0uTCHQBg0DXlCFq7mi/XE8HsVVpBXRAWxicQge3Zw6FcsftWh7S4/ZD0uN2Qzpu91m4l46HXeZtdnhlw6FnFCwfmVaPmDabtcTioaVWj6+0+e9qu+fW2r+k6PiqkvNcVde31Nzf23bkox3eC/f4fLHP/xvtwMW6Qcv0uUcCrDE9vsEyUtkmWs0uVsMxfrdLoqb7SR3PZH3fUwe9Tx7wStrvSZsxYZ9b/B7XuF3OtD1jtx2O2WJP5aNUbSNVbCKUrKiG8PXmYWvNQhVMQ1YZH1thGLzcIGip/tElBwN/OECbnZbot0iLFk0N8Ppst9cnuzw/3kEfBLXK7Z2trvPVXeapUTudXld2nLPp8Gwl+nTsX1xv9/w622fX0MdEq2P9xEqrx1bQ50UraP7gT2b3/2h632K51ReS6f2LzR9YYvGfpRYPL6O5aF6qgeqh2uxeWEebheqnLeP0mrLzGyr0ZaDtQ82gxlCTqGHUPLah/L7WDviee3YCfXlCfjamb9HxjVa0ymxb0dagzZKkfYS2Vaqx/2mrY+zeNXl+SUUhqaVRmZdPZlelF9SdL+Wu9iur66xpFrV0IjYJAAAAzEBvX29bV1dtC40TGvO5a6SqUvPLE87TKKIoNC0/4CQXjnKO4u7jZxGUYuhHI7SEva40CKExGI2+Qleb0HCLG99+sY8GMDSeoUEUjXYsH10+yjDptko0VHN4WZHGYMP/Gkzf94xNSPaRE7Q1Kk7l0JiKNhSN/PnNBwAAAADTglxMiEWDcic60CUuLy/69NPSn37qTE6mzF8W6BoaE/L0pPx6S0t+eohhqx1obb34/feymUMbLxedag0NzZs9u87UtOnIEaElg729lzdvznvjje6sLOlMPElfX6WGhpCPQBcwCHTNLNwvXps7uF+8XqxpyC2vPl1Eh9Ol0ZmFx1JyfRLYowLSTANPHfRO2Osas8U+QsmK3YDFb5GW16e73N7Z6vSast0L66yfXGX+wBK5Y3gkpKHJ/MGf6NtC3xn65rjOV/f8eAd/imelUbiiRfRm2xM7nLi7ZRr6sbtl8iG0a49/qDkjffxDSXVHVWNPU0dfN+JnAAAAk+V6RKqcv2tfVWp+Wfz5kuMZ3NVRXvHnnKPO2ISkmQTwY8WtDhGbrEMVTIOW6vt/o+39+R6P9zVc3lQVfmg1VQJRckm4XQGNXmj06/XZbu+Fe2QTDYxplcPWmtFIJn63C22NdLPATLuwC+4x+f5J7KbfNMymAQziVQAAAAAzlETSk51dsXUre6aUkITwjxDoGjbJxoSYobEihuWzaiUDA9WamuyhWTRJmeMMdHWeOkX5NQcP8tM3WymGLavo00/7Kipkc2QbLxudYvcnZI/dkm0JC5gJSxmaWIyQVTVSGrpSI60sTHUIdMF4iTuuPcagsFL4ie4Nz9m2kz5nW983Ucud3TEmXNHi2EqjwB91/RZpeS/cc+SjHe7vbXOdr+48V9VxziaHVzbYPb/u0DMK1k+stHxkufmDP03RsyRIk5cs/rNUiJ+5vb3Fc8FO369uiJ/F7XRO0j4iGz+TnnhKuxR7tiI5l4+fCY9Px/VnAABwexsQ9Yk7e0Qtnd0NbZ01zTTuor1YU0FFQ05Z7dmS6tNFlSl5bAB2Q0TKNPCU7o0RqWX6/t/ul41I8ZdG3T+1x1o0YqSh4+H/bXSZt/nIh9t9vtgX+MMBGhUc32AZrWYXv9vl5AGvNJMAdg/tXJ8E7qr06EzuJzWZxY155a2Xammr9rbhvn8AAAAAMAEkAwN1pqZ5s2cXvPtutZZWs49PZ1JSW3h44ccfDw10FS1YUPL110Iq/vLLvDlzZGNCzNBYEcPyWbXtsbG00Bo9PWrAhAS6OmJjKZ8FusayUoy4tLTwww8vfv/9QGsryxnaeCHQdaWjo1pTM++NN7incN3YEjYXLbHos89kN5GQZK/oyp87t2TRItl3WTRu6EqNtLIw1SHQBVPMQG9fX5eot7Wrp7G9s6a5o7Kx9VJtc3FVY97l+uxLtVkl1RmFlcl55YkXLp04ezHyTHFYWmFwSr5/Uo5X/AX3mHPOUVn24aetQ9ItglKN/ZP1fVMMfFON/NNMAtLNAjMsgk9bHTtjE5JpG0bFzjpGUPnzrtE0Y7bHCaoh1ychzy8pP+BkQVBy4bGUotC04rD0kuMZpVGZpTFZtMSy+PO06IrkXO7ZY6n5VekFNWeKqFV15y7WXyhtyCmjdjYVVDQXVbWUVLeW1rSV17dXNHRUNdK6dNW2dDe09TR1iFo6e9u6xB09fd29/SIxrTK/8jIGRH39Pb3izh5xezeVp7loXqqB2yZVje2X69vK6qh+2jJNhZW00Ibccto+1AxqDDWJGkbNo3ZeTsouiztH7S8JzygKSc0PPJXnm5jjGcdtK6dI2gi0NWiz0PahDZW03zN+twt3qd8m67A1ptzzLb7n7yPk9vYWp9eV7V9SPPT0au4X3FPwfJnZrCW2z65xnqvq9cmugO90jq0wPL7RKmarQ6KWOx8wsw8/7xZD3wH66OmrVZ5wnv1YG49wBwCYomg/SztcNqKg3THtN2mnSXtM2l2y0BG/l4zOpH097fRp708jilzveBoV0PCAxgmZdmFsUMF2lKd0vbk7Ie91jdvpHLvtcLSaXaSKDe1NwtaZh642oT1L0FL9wMW6/t/u9/1K03vhHs8FOz3e17j+W5+XFe2eW2vz39VWj62w+M/SqR58kk20OjZP/Wz/4noaLXDXSEkf6UqjCBpLhCqY0ibiLvLe7piwz427VbKRP+12advSRqbRFw1OaDjHxaWSc2kAQwMqGt7QCJAGP/ipCgAAAADchkT5+QVvv122Zs2V9uunjORCTUKgi12WJBgaE2JGz6dqOxMTL37/ffGXX/bV1FD+hAS6ZG9dOJaVYlh4rGrfPsmVKyxnaOOFQFfb8eN5b7xRrakpGRigfNmWsE2U/9Zbopwc6UzDE6piayoYcaUQ6JqmEOgCgEkkbu/uqmvl7oBUWFl3vrQqraA88QL7vXmud/w5l6gzh0Kv3y1zq0Oksk3Ymht/bz5v8+H/bbz9f29u/sASu+fXub6l5rNwb8D3XJxM+vgN/tqyVCP/09Yh55yjaK0Lj6VwN2aUnq2rPVvSkFveXFTVVlbXUdXYXd/a29qFOzQCwPQm7ujhdg1ldY15l2syiyuT88riz/PBJOlPLnJ9ErI9TtA+Isvh+Bmb679NSdrvmbDPjf6v0v6C/sFGKHEBpJCfjYOXGwT+KI0efclFj7grxd/d6jJPzel1ZdqD2L3AXyZu8fAys1m48fJN0vWIlPSaaS4i9ZUmbd6QVcby10xbBrPHdgrXTNNHSR8orpkGAAAAgBmuxd8/V/aOf1IDTU0lixZNUqAr/623SpcuzZs9uz02luX/mkCXpyc/LTXY3V22fj3ld0jrHMtKEYlYXLljB5VsCwtjOWRo41l0qvjLL4sXLhSCc0QuClVvaUmTjU5OVyUSlsMbHBRyEOgCBoEuAJhiBnr7rsfPrj1BZJj7NQ37BJEb79fEP0Hkdo2fmc1aYvPf1Y6vKrm/u5U9FERIvl9pBnync3TJweDlhqGrTcLXm9M6Rm+2jd12OG6Xc6Km+8kDXikGvrQRMiyCaWtkORw/5xJ1wT021zs+3z+pMDilOCz9YuSZSyfO8tcgpuRVpRVUZxTe5BrEsrr2y/UdlY0d1U3cZYh1rfKXIXaJ+nt6B0TDXIYoiz5E7qpEkbivu5dm4a5N7OAuT6RKelu7qDZRc0dPYztV3l3fSkthVytyFyxWN3VUNVIDuMsWy6VXLl6qpYa1XKyhFjYXV1FTqcGN+RXU8sa88obcclqL+uxLtDp150v5ixozi2k1q08X0fpyVzemcRc40hag7SC/Kc6W0Fw0O9XDbYrCSloELYsWSkuX2w7UZmo8rQWtzlg2AsAtRN9P6m701aWuRL2GvuTUI+j7T/8TSsIzCo6e4v6XukRl2nI3H6Z/Jid1POkfC/174a5S2mxL/3Do3w7986F/QfSPiP4d8dcnfSy9F/Fbas5vqCDCNOGJtiFtSdqetFVp29IWdnpd2WXeZrd3th75cLsQkfp1d/HFbywAAAAAACZKV0pK3uzZJd98Iy4tZTkDjY2VO3fmDveMrgkJdFE9lCp37JCIxSz/VwS6Sr7+ureoiOVIBgYaXV1pLS4uXtzf0EA5Y1kp0pGYmPfGG6XLl19pa2M5ZGjjWXSKEtXZGhrKMolcFKq3pKTw44/z585ti4jggltSVHPVnj1Vu3axa8sQ6AIGgS4AAI64s6ejsrEht7wyJa80OrMgKDn7yIks+/B0M/4BJ7HbDkeq2IStMw9ebhj4wwHfLzU93tdweGWD5aPL5c5FIiGNnszu/9H8gSUW/1lq8fAy+v5YP7HS5qmfDz292vbZNXbPr7N/cb3Dy4qH/7fR8VUlp9eVneequszb7PqWmtvbW9zf2+bxgcaRj3Z4Ltjp9dluIeQZ+KNu8HKDkFXGYWtMj2+wjFS2iVazY1HPhH1uSdpHuNu0GvpxN2i1DD5zKPTsYS7wme1xggt8BpyUBj7TuMBnLB/45G67mllcd760Ma+8qbCytbSGC3BWN3XXt4qaO8QdXCSP7zlwIy582yXi7obX1NFV10objbshHrvFbj73OCXaqrRtaQtXJktvixd/vjQm62LEafoIuBvtyt4/1jmKPqlM27DTVsfSzY+mGvunGPjSRzlsog86VsMxSvVQ+HrzYyuNji456Pe1Nn1D+OtiZyvZPbeWvmnmD/4k922c4Yk6o8VDS60eX0kdkHof/Ut3eu2G0JHPwr1+i7Su/bCA72XhihYRm6yjVG1jttif2O4Yv9slUdM9ab8nfRDU0dJMuTshc78wsA8/5xRJHyV9oPSx0odbeOzajwyoryWc5/pa2vW+1lxURV8V2hN11bbQ94e+RQg+AQAAAABMRYPd3Zc3b2ZRnKLPPqNELwrefbfgvfeEG/FNeKCr8OOPe0tK+NxfFejKnzcv77XX2AOx2AOu8ufO7Tx5kpW56UpdaWsrV1SkWbjGfPCB8KwsSuzBY5ToRb2NDdUmBLoq1NRkA1RDo1Cdp04VzJ9/vc5Fi2gRtOgGW1t2t0MEuoBBoAsAYAKI27vbyuvrzpdePpldGpVZGJzC35uRXVum6x23yzl6s234evPg5QbchWXSm2u5vbPV5U3uuSz2LynaPruGv+7h/h/lTsUiId3miY8WPLbC5qmf6Zts/+L6w7O5KJ3LPDX6knt8oOH1yS76zk+txD086QMNrpPOU+Ofn/TKBrsX1tEKco9QepzrreYPLDG9b/o8Rek3S7TdrJ9cRd8T5zdU3N/b5v35GK5S1eHCSPxVqtJg7XnX6OwjJ/J8EwuOnioKTbsYcZpFarlnZKYX1GaV1GdfasyvaCmp5q6/ZGHalk5xZw+utgQAAAAAgMk22Nvb4OBQ+PHHua+8UjB/fq2RUX9dXdW+fTTZGhzMFZjQQFfe7Nkt/v58ltSvCHQ1e3l1JCZeXLKEasubM6dcUVGUm8uXkBp9pdgi6PXoid38kEWn5IJzZNgoVF9lZY2eHgt35c+dW75hQ092Nm5dCHIQ6AIAuE2JO3s6a5qbi6pqs0oqpHfVE1J5AncVyPXn2XjHX3CPPecclWUffto6hLv4w+iG59lcv9uYokWogumxlUZBS/UDfzjg/422zxf7vBfu8fp0l+eCnUc+2uHxgYb7u1vd3t7i+paay7zNznNVnV5Xdpyz6fBsJYdXNti/pGj3wjq759baPrvm0NOrbZ762fqJlVaPrbB8ZLnFQ0vNH/zJbNaSsd8K0vS+xVSYZjF/YAnNy13h9JD0IqdHlls+upyqpcqtn1xFS7H572pa3KFnFGi5lKgB7Monao/Dy4rUsMP/20gtdHxViZrq9Jqy8xsq3IVQb3LXQrnMU6N1cZ2vTivl9s5WWjuP9zW466I+3M5dGvWx9OqoT3bRFmDXSI22KV5TpkXQsmihtHTZ7WD1+EpqMzWe1oILftzGz5NDQmKJuhv1L+pK9K2mbkJfePr+0/+Eoz/phfzMPY0pStX2xHbHRE13+meSauyfbhEk3AeVuxzQJ4H++dC/IPpHRP+O+OuTEGECAAAAAACYaiYk9jNSKE7AliL3lC+AiYJAFwAAwG9nQNTX190r7pQ+k6yVu8Fdd0NbV10rewJZe0VDW3l966Xalos1zcXS543lXW7ILa/PvlR3vpR7wNgZ6aPF0rgb3wkhz4sRp4tC0wqCkvP8knK8rkU9HY6fsQnJsAhOMwlIMfA9peudpOWRsNf1xA6nmK0OwwQ+F+v6f7vf90tN78+5Jy15vK/hOl/d5U0uvMeuZOIetvTkKstHl5s/+BMieaMk7kFK165v456l9Pw6h5cVHV9Vcn5Dhbsn3ttbaNvSFvb6bLdwW7zAH3WDlukfW8FdzBS2zvz4RqtIFRv6jOiTos8rfo9rohZ/Z7xhE3dfSougTLuw867Rud7x9E0oOZ5RFneOviQ1mcUNOWX0XaKvVnd9K33rBnoRbQIAAAAAAIDrEOiCaQCBLgAAAPj1Bnq50B3/VKralo6qxrayupaS6qYC6SOpzl2sPl1UlZovXI84VRL38KQzRdR+7vqkvMvc85PYs8qqpI9Qamzvbe0Sd+JxZQAAAAAAADC1IdAF0wACXQAAAAAAAAAAAAAAMxECXTANINAFAAAAAAAAAAAAADATTUigC+DWQqALAAAAAAAAAAAAAAAmktj9U5HBvYNNRdxEX1evw1yR6aOS9krpmwATCYEuAAAAAAAAAAAAAACYSAOZjj3af+x1mDuQatEX9DO9FvsvuSqR8G8DTBwEugAAAAAAAAAAAAAAYEJJJANpliKDe3v2/b8enb/1HV0lEbXybwFMKAS6AAAAAAAAAAAAAAAAYEpCoAsAAAAAAAAAAAAAAACmJAS6AAAAAAAAAAAAAAAmgKSlVGR4f8+BO65cjOGzpGiSMnsPvSIRtbAcsfun3D39ZNOBv/cefvNKcYT8g6wGBwbSrEQmD/do/p6SyPypgbMurAyrVr6ea4laQu2hYhJxZ/8pw+s1GM7qj91NmdLaeWNvj6S7sS9Snb8nIdVm+hg1jxrJv3316kCWE70lu7JE0lHda/kM5fdFqPFZN6LCNAu/aJnE1oLV2Rex+Ure0V6r5/gVMXlYbtEctrlMH+PK0Ox6/+w7upLazL97DatwaBKaJ7SHSrIcpj/ZWLoN+W3LG/kzIiNVxb4trCr2WmiGfBryjQJZCHQBAAAAAAAAAAAAAEwAPlwx5kBXr90csdciSr22s0UH7+JCGpq/74/axsoQSXdDr/N7XP7+v4gM7hPp/5uFUvoi1a9KJIP1OWK/H/kanN7u0fqDSO8e8ZHPWQ73WKyueq4G+9e5GrT/KDK4lwtQaf+RJkWWTw82FfGLGXN7ButzuRiSXHtoRuf3aEGszDCBLomk77gqN9cYAl20XK7ma6nX5kVJWzmrk2sSNf7A3ymf/nIVXtsUfCUym4tWgRK9oEl6ITSP+XWBLtrgIqMHKVM20DX6Z8QVGEugq6uePi+28cVuC3p0/kqJXvA5fj/SovnZYAgEugAAAAAAAAAAAAAAJsAvDXTdEPmQSAZSzLhglemjkvZKltMXvIaK9dr+T9JZIy109UphmEj3zh6dv14pCmc5zNBFcCQSsf8SrgablwYbC/m8zppe+9coU3zk86sDvSxzLO2RiDt7D8/jZnRbIFwjNVhzloW++o6rsrgOiyHJtuRKcSTX5hsjSXJGigYxrM4e7T/2J+ryl3ANDvRFqnMhJZlN0R+vRTmym0vSdllk+TTN2x+vzXIYvpHO714dELMcaphs84Zpz0Cv2GsR1wzZQNcYPqORVk020MVnSY2UDyP5LQJdTU1N7u7uKioqSkpKNjY2RUVFkhsvdZRD716+fNnOzo7K01wuLi5VVVX8e1JTogC9a25urqCgQKtcX1/P5wIAAAAAAAAAAADANMVCFL8y0HX16uDlZJHunUKEY7Aum7sGS/dOymcFGD4kE7San5YaNtA1Ug1cdEr/37LtHEt7rhSF9+j8VWTyiKS1jBVgruQHcfmGsyRNxTTJx5CutYQL89jN6dH+Y6/181yzxxHoErstuCobXBjoFbu8z9V5bVP0J+qKvRZdyTvKJhm2uWgF+WkpvkKZzJsGugYyHbmr4swe/6Wf0Uirxr4tQlWCkfJhJJMe6Kqvr9fV1VVSUjIwMDAyMlJRUdHQ0Cgqun5F5FAlJSVUhkpSeZqL5qUaamtr+benQoH29nYTE5OgoKDKykpXV1dnZ2exmAsLl5eXh4SEiEQiVgwAAAAAAAAAAAAmkGiwv2ewv2uwr3NQ3H6lt/WKqOWKqGmgp2Ggu36gq7a/s6a/s6q/o6Kv/XJfW1lfa2lfy0VxS7G4qUjcVNDbmNfbkNtbn91bd15Ue05UmyWqyeypPt1Tld5TmdZdmdJdcar78snu8sSuMkpxXZdiOi9GdZZEdBSHdxSFtBcEt+cfbc8LaMv1a8vxbs32bL3g0XrereWcc0uWY3OmQ/MZu+bTh5oyrJrSLBpTzRpTTBqTDRtO6TecPFifdKA+cX99gnZd/N66E7trY3fWxmjURG+tiVKvidxcHaFSHa5UFbahKnR9VcjaymOrK4NWVRxdURG4rCLgp8v+iy/7fV/u+225z9fl3l+WeS4sO/LZJY9PLrl/fMntg1KX90qdJym9X+ryYakrLeXTS+6fXzryRZnnV2Ve1Ibvyn1+KPf98bIftY1auLLi6M+VQQqVwdRyxaqQjVWhm6rDaI1ovbbURG6ridpeG03rS2u9ry6OtoBmXRy9oO2wp/bELumm2CHdGlSSbRC16gi2TZSrw6kqqpC2DNW8rvIYLWJNZTBtH1oi20TLr22lJZf9qUnUMNpW1MJvyr2pqYvKvGiLUctpo9Eq0IrQdltwye2jUldatZtuPWoe/827hoUofl2gS9Jaxt2zbt//E3t/wy4zGjjnxl2f5DD3al8XK8MMZHv3aP1BLn/YQNfAaVuqcGgNVyUS8ZHP6S3hOqextKcvXJmb9FvMCgj4QI7WH6hhNMliSEJL2FVWVElf2CbKH1eg68ZgFRlxBWUMG+jqj9aQyxw90CVpKxeZPibSvXPgrItsFGosn9FIqzZSQGukfBjJ5Aa6JBJJdHS0goJCTEwMvaacgoICdXV1IfAz1MDAgLe3t5KSUlZWFs1C0tLSqIbg4ODBwcGpUqC0tFRbW5vFvYqLi7W0tOrq6miV3d3dY2NjqTzlAwAAAAAAAADAtNcz2N9xRdw80FM/0FXV31He11Yibi7obczurTsrqsnoqUrprkjqKo/vunSiszS682JkZ/HxjqKwjkIWNQlsz/Nvy/W9FjVxbznn2nJWNmpic2PUxGjkqMn22huiJpuqr0dNFCqDf64MEqImP8pETb4q8/qizFOImnxY6vp+qcs7F53mX3ScV3J4bonD6yX2rxbb/a/Y9uWiQy8W2TxfZP1MoeV/Cy2eLDB/vMDs0QLTh/KNH8w3mpVneF+ewb9y9e/J1bsr9+A/cnTvyDnwl+z9/+/CPiSkqZsWlh3hu/o1LEQx9kCXfNL6v75jayXiTlaGBWNGSrK1kWEDXcPGeBi5uM5Y2sPKCLPIYm+xQA4LSrGWsEvHRMYPDdbnyi1RzkjRIIbVOXRFrpRE9ej8TXatJd2NfcfWcU/Skj48TEhy87LGyAbt5Jp3Q3vY/Qmlj92SNBXLRqHG8hkJVQ2bhga0EOj6pSY30NXb2+vk5LRr167KSukdRa9e7e7utrCw0NHRaWi44clvgra2NiMpesFyqCSVp7lo3qlSYNhAV0ZGhpWVVXt7u3QOAAAAAAAAAJhZBnt7B7u7r3R0XGlrG2hu7m9o6K+r66uu7qusFJeViUtLe4uLRQUFory8nuzsnnPnurOyuk+f7kpL60xO7jx5siMhoePEifaYmPbIyLbw8NbQ0Nbg4JbAwBZ//2Yfn2ZPzyZ390ZX10YnpwYHhwZ7+wZb2/pDh+ptbLhkbV1vaVlnYVFnbs4lM7M6U9NaE5NaY2MuGRnVGhjU6OvX6Olx6eDBGl3dmgMHqnV0uLR/f7WWVrWmZtW+fZQuau0t1tpTqLmrQHNXrtaubM2d5/dtP7tPI1Nz+2lNjQzNban7tqZobj2luSVJc0v8PrW4fWon9m2O1twcqbn5+D6VME2VUE2VY5rKQZrKgZqb/LU2+e7b6KO50VNbyWO/kpuOkuuBTc66mw7rKtnrbbLV33RIf5ONobKlkYq5kbKpiYqxiYqRmaq+mYqehaqupaqOpaqWteo+a9W9Nqq7D6nutN283W7zNnu1LQ5q6o7qmw+rKTupKTmrb3BWU3RVX+eqvsZ9y2r3LauObFnhuWW555afvLf+6L31B5+t3/lu/dZv2yL/rV8FbPsicNvnRzU+DdJYcGz7R8e2fxiy/f2Q7e+EbZ8fvn1e+PY3I3bMjdwxO3rnS7E7n4vb+XTCrscTdz18ctcDybvvS919T8aeO0/v+VvmXrlT4UhISNM1jT/Q1Ws3R+y1iKVe29k9+//So/n7/qht7AZ9LPRCmSKD+4YmseuHkt7rZ5snJNA1entYGWEWWewt+UBXRzV3a0GtPwykWVK+3BLl3BBYGmLEQFd+cM/+PwtrfeVitEjvHmqzyPwpsd/i/mSTgQwb/rq0G+cVe35Jmf3RGvz0qIEudm/GXpuXJN0NclEoNtfon5FQlejgXTcU0P8311QEusZtcgNdXV1dZmZmsgGhvr4+Dw8PJSWl0tLhP6G6ujotLS0nJ6feXv4heKwSnWuxsSlRQO7Whfb29rW1NHo0ycvLY+V/KRrgdmdmjpZo7Hv2LA2Cey5c4EbD2dmi3FwaGYvy82mI3FtY2FtURMPl3pKS3osXxZcucQNoSpcv91VU0Hi6r6qKG1jX1NAIm0v19QONjQNNTVxqaRlobaUh+JX2dm4s3tl5pauLxuWDPT2DItGgWCwZ4eI8AAAAAAAAgLGjA0zuMLO7m446uSPQtjbugJQOSxsb6SiVCwjV1HBHr5WVdDDLh4XoIJcOdQsLuYNfOgTOyeGOiM+fpwNkOlLuysjoSklpPJVYGx9TFRt5OTq8LOLYxZCA4iCf/IAjOb6uF7wcz3nYn3E7lOFsleJgcsrOMOmQfry1bqzF/mjTfZHGu8MMth/T3xakqx6go+qrreyjufGI5gb3vevd9q5z3rPGcfdq+12r7HautNmx3HL7UvMdS023LzHW+NFAY7Heth90t32vs/VbbbVF+7Z+vWfr17s1vtm549vtO77dtvu7Lbu/U9/7/WbNH1Q0f9i0/0cl7cUbDixZf2DJGr2fFAyW/mywdJXRshVGy5aaLv/JfMWP5it+sFz5veXKb2x+/tp29Ve2q7+wV1hor/Cp45pPHNd87Lz2Q9d1H7iue9dD8W0PxfmeivO8N8z12fi6n9Jr/kqzAze9clT55SDlF0JUnwtRfSZ883/DNz8Zqf54pPqjMVsejtnynxNbH0jYdn/CtntPbv/Xye33pOy4K2XH39N33ZG+6y9ndv/5zG6587lISFMl0beXvsN/Pb2bvsz0lf5H2k76bt+dsvOe5B30Vf93ksZ9SRr0zZ8Vv+1BSnFbH4rd8kjsFuoXj0WpPxGlTt3kqeNq1F+o1zwXynUf6kQvBatQb6I+9b+jyq8GbKIuRukN341v+mx8y2vD20cU3zmi+J77+g/c1n/ksm6B09pPnNZ+7qCw0EHhS7vViw79/PWhn7+zWvWD1arFFiuXmK2gDr7cePlK4+WrDJet1l9K3X+d7hJF3SUbdH6kfwsqWotV9/2gtu+HLXu+p38a23d+u2P7N7u2f0P/TOhfipb6Iu3NX+ls/uqg8pd6yl8aKH1htGGhieLnZus+M1/3meWaT61Xf3Lo50/sVi6wX7ng8PKPnZZ+5Lrkw0lKzks/cv75c8e1Xx7e+LWD8nf2aotttyw5tGO59d6frTQVLPavtdBVNDXYaCoNURtZqRvabD1ov/3g4Z0HnHfruO3Rdt+r6aW1z2f/Xv8Du48e3BWsvz3UQCPciNKOcKOd4cY7w4x2hxvvDTfZG2asGWqsFWqiHWqsE2J8IMTkwDHjgyEm+iGm+sdMDYNNjY6ZGgebmgaZmlEKNrMIMrOidNTM5qjZoaNmtoFmdoFmDkfNHQLNHQPNnQO45BJg7uZv7u5n7uFv4UnJz8Lbz8KXkq+Fn69lgK9VoI/lUV+rYB+rYG/LkVLqiRueBUVYiGLsgS65oM5gU5HI/Mke7T9eyQ2gST5i5Pwuu3Pg6IYNdI1260Jp+GeUWxcSufaMeOvCnuZemxeH3rqwP/EAZYpd3r86wJ1In4xA1w0rOCAWu37EReZO6rPIHMOWKzuvpKtOZPl0z/4/X8kP5rOGNE9oT/8po16bl3p0/nolP4jLvzEKNZbPaKRVGymgNVI+jOS3CHQResFyWKBLQUGhpKSE5chhMSQqQyVZDquEMumtqVKAVFRU2NjY0JrS39ra2rCwMC8vL6H8L/VA6ha5HTYSEhISEhKSbPrL2d1/O7vrjqyd/8jacfeZHf88vf1fGRr3pm+blbHtwbQtD6WpP5Kq9ljK5seTVZ86pfLMKZXnTqo8n6T8YtKmVxKU/pew8dX4Da/HbXgzbv282HXzY9ciIU3d9FbMmvljTm9FK8im+SOnt6JWc+nG8izJlaTEF54uaV6UwpvRa+ZGr3kjZu3r0Wtfi1k3J3bdq7HrZ59Y978T6185sf7l+A0vJWx8MWHjCwlKzycoPZe46dmkTc8kKT99UvmpkypPnVR98pTqE8kqj59SfSxZ9dHkzY+kbH44Ve2hVLUHU9UfSNsyK33L/elb7+PStnsztv07Q+NfpzXonxj9K7vrzI47M7l/a//I3Pn3rJ13ZO2if3R/Obvrz1m75P4HIiEhISHdzon+b9+RufNuboC6bVaa+kMpmx89pfpUkvKziUovxm+gvQntX2iPMz9y9TsRP78XserD8BUfh61YELbi09Dln4cu+/LYT4uCl3wT9OO3Rxd/f/SHxYHf/xTw3TL/71b4fbvS75uffb5e4/PVOq8vFT2/3Oj5xaYjC5U9Pt/s/pm626db3T7RcFmww/njXc4f7XH8cJ/jB1qH39/v8N4B+3cP2r2jb/e2oe3bxjbzzWzmWVi9aWk119ryjUMWb9ibv37Y7DUnsznOpq+6msz2MH7F0/Blb8OXfA1e9Nd/MVDvhaCDzx87+Fyo7rPHDzwTofN01P7/xmg/dULrqQTNJ5L2PX5y32PJex9N2/1Ixu6Hz+x6KGvXf87uePDC9gdzNB7I2zarYNv9RVvvK1H/d6n6v8rU/nlZ7Z5K1btrVO9uVvr7iGnTPyi1KN/ZLE0tKndxSfVuPm2+5/qLzfe0qv2TUgv9Vf9XizS1bvk3l7beK5vatt1HqZX+atxPqZX+bp/FpR0P0GvK50tu+TdXCVUoLIUWTc2gJsk1EmkmJ43Z/Anca1iI4lcHugjLZ+GWwco00cG7Rfr/Hqw5y969bkhYZdhAF1+D7p2Dl5P5LCl2R0EueFMUznLG0h723CmRySOS1jL2LsMueBIZ3DtYl02TLPbD3bFQ75+yjZeLJMkZU6DLbYFsBIuPbFGdQatpilrF3bFwyMbn43Myga6BC1492n8UmT4qaefvRUfkmie0R2Tx3x7N3/cFr2GLlotCjeUzQqBrsiHQNSkF5JSXl+vr67M7GY7CdWQPpKnJDZKQkJCQkJCQkJCQkJCQkJCQbkn6q/QHRn/P3HFn5va7z2j88/S2f5/eel/GllkZ6g+mqz2UtvmRNNXHUlWeSFF+KmXTf5OVnkne+NypDS+cVHzp5PpXktbNTlw7J3HN6wkKc+NXz4v/eX7cqnfiVr57YsUHscs/ilm2IHrpp9E/fR615MvIHxdFLP7m+A/fHf/+h/Dvfgz/5qewr5eFLloR+tWqkC8Vjn2xNnjh+qDPNwR9pnT0U5XATzYHLFDz/3iL/0cafh/s8Ht/l+97e3ze3efzjrbX2zpe83U939I7Ms/gyJtGHm+YeLxu5va6hetrVq5zDrnMtnP5n4PzK45OLzs7veR2+EX3wy8ccXjey+E5H/tn/e2eDrT7b5DtU8dsnwyzeeK49eOR1o9FWz4ab/HQSfMH00xnnTG577zxv3IM/lmgf/dFvX+UH7yj+sBf6/f/uVn7Dz0yz19BQkKarqle7T7+3O41LETxqwNdg/W5IuOHejR/P5DpyE0PiMXe31CxXpuXBhsLpUWo0MDAaTuRwb0D6dZ8jtSwgS7uyi3/JXI1SDprep3eoUzhWisylvZIxJ29h+dxM7otkHQ3XiuTw10dte//CaEgFpTikubv++O1WDEy/kAXrSDXEhbrkkj6T+r3aP9R2NpCDX3BCvxzxQYH+lNMqQBlCoEuSXcDd4XWjW0jIwW6KIlMH5O0lfP5clGoMXxGI63aSAGtkfJhJAh0TUoBWSKRyMnJKTY2trm52cXFRUlJycDAYNg7N/JBreE8kK4uN6ZEQkJCQkJCQkJCQkJCQkIaS2JRmX9kbb8rU+OeM9v+dUY+JPN4qvKTqZv+m7zp6VNKsvGYVxPXvpaw5o14hTfjV78V9zMLxrwfu/zD2OvBmC8if/wqUiYYE/btkrBvhGDM6mNfrDm2UAjGKAd+ohrIB2O2+X243fcDIRij5f32fu/rwRhDj7nGHm8IwRgbl1dtXWYLwRhXxxfdHK8HY/zsngmwe5oFY0Jtngy3foILxlg9GmP1SJzFwwnmXEgm2eyBNNNZGSb3Z5rce9b43+eN/5Vt+M9cw3sK9O8u0rvrot4/Lh38+2XdOyoP/K3mwF/qdP7coPOnJu0/tiBag4SEhDRqqtzzOH9u9xoWoujR/L1I754bnsYkfXAUdxWRwb3s/n4ssHTDM7GsnuXCNpRpO1vSzT0ih6uwu6HX/nVucVSn/r+5qg7eRZP04sqleFaGGT7QJVuDdOk0I/fkLarB8unBpiK+0Jjbw4W+TB/jauOfSnUvX8b5PaGMEOii2mQbMwGBLloWbQf2pCvpdqDJvkh1PvRFxTIOsfaw5rFnjIn0/0U57O6C/fFawoz89ryWeg78ncs/8HeR2eOD5SevB7q0/8jHHaWGRqFu+hkh0DXZfotAl56eXnNzM8vpG9szumxtbUUiEcthlcg9H+s2LyArPT3dysqqsbHR2dnZ1dW1srIyKCjI0NBQ2CYCFtMaVoSjVrjtDiSkGZgirLcdt95GfyOttnLJckukhTpLUeZqUWaboymZqlKKoWSiEmOszCWjTZRiKRls5JL+hhP6G+Lo78H1cSzpruPSgbVxOmviKe1XQEJCmtIpSndNpO6a4wfXhB9cG6q39pje2iD9tUcN1gYYrPU3XOdrtN7beL2XyfojJus9TNe7ma53MVN0Nld0NFd0sFS0s1S0tVK0sd5gbb3B0majOaVDSEhTM9lyyYz7q2Rmt+l6slfmkoOyqb2yqQO9UDF1UDFh6bAqlxw3mzht5v9ySY3/66xu7Kxu4rLFWEiulLYauW4xct1qSMltm5HbNvrLJw+Na2k7SwbSv/peO6d6MvDcZeC108hzp7HnLuMjO83ctpu6bzd3327htt3SVcPKRcPaVcPGedshp62UbJ222lNy3Gp/eMthB3VHhy3O9urOdmoudmqutupudmrutmruhzYfObTZ00rF01rV20rF21LFx1LF10LZz1LF30I5wGxToJlSoIlSkMnGYyYbQ0yUQow2hBoqhhltCDdUPG6gGKG/PkJvXaT+ehrMxAvjGQxpJjnRduYGkHqKNLCkESYbcNIQNMpUNdJcjRugWm2lUavcaBYJCQkJCQlpeqcgex3+3O41LETBxTxGSteeC8UCSzckzd+LDGf1RW6RiFpZbYxE3Nl/ylBk8jAVoGIivX/2HV0pXFAlGCnQRW6oQbqU/tjd/DVP1/yC9nQ39kWqcyEuVsb0sYE0q6uDA/zb14JSIt07r1yK47Okxh/oErt/ciXvaK/Vc/yKmDw8kHFIiHIxVwqO3VAgzepKXiBtdnbHRdaGmyTpJWJCe8Te3wg3ISTDRqFG/4wQ6Jpskxvo6u3tdXJy2rVrV2Ulf6fL7u5uCwuLYQNCTFtbm5EUvWA5VJLK01w071QpIGhqajI0NMzLy2MFiouLKbO2tlZTU3Oka9qGxcJd/AQATDTWxQg/DQATDV0MYLKhlwFMKnQxgMmGXgYwqVgXI/w03CJ8tGPIXQ1hLK4Fuq4/Z+vXuUmwjcUp8RlNNZMb6CIxMTEKCgoRERGDg4M0WVBQoK6u7uzsLBbzIVB6UVFRIdwDcGBgwNfXV0lJKT09XSKVlpZGNQQHB7MapkQBhl6HhYX5+flReQS6AG5nrIsRfhoAJhq6GMBkQy8DmFToYgCTDb0MYFKxLkb4abhFEOgaDwS6YBSTHuhqamrS19dXkj6YysjISEVFRUNDo6iIv/XnwMBAQECAgoJCTMz17015eTmVoZJUnuaieXV1dWtra/m3p0gB0t3d7efnxzLFYjG7dSFNhoSEDHvrwlFgVwQwqVgXI/w0AEw0dDGAyYZeBjCp0MUAJht6GcCkYl2M8NNwiyDQNR4IdMEoJj3QRVpaWtzd3TU0NJSUlGxsbIqKiiTXbppJL+Li4tTV1c+cOcNymIqKCgcHBxUpFxeXqqoq/o1rpkQBObQdqBhtBAMDg5EeUTYS7IoAJhXrYoSfBoCJhi4GMNnQywAmFboYwGRDLwOYVKyLEX4abhEEusYDgS4YxW8R6ILxw64IYFKxLkb4aQCYaOhiAJMNvQxgUqGLAUw29DKAScW6GOGnAaagiQp0wbSEQNfUgF0RwKRiXYzw0wAw0dDFACYbehnApEIXA5hs6GUAk4p1McJPAwBMLwh0TQ3YFQFMKtbFCD8NABMNXQxgsqGXAUwqdDGAyYZeBjCpWBcj/DQAwPSCQBcAAAAAAAAAAAAAAABMSQh0AQAAAAAAAAAAAAAAwJSEQBcAAAAAAAAAAAAAAABMSQh0AQAAAAAAAAAAAAAAwJSEQNdvTSKRNDU1hYWFRURE8Fky6uvrXVxcVKR8fHxaWlr4N6Ro3tLSUhsbGyUlJQ0NjfDw8O7ubv49KSpw+fJlOzs7KkA1UFVVVVX8ewAzRl9fX05OjpOTU11dHZ91zcDAwKlTp3R1dRUUFAwMDLKysgYHB/n3pG5aoKSkhN6SQz2afxtgWqO9TGVlJdtP0Y6G9keFhYWUyb8tRfs4d3d3oUBRUdGEFwCYxujbTt2KDfbYWI46nWwXoNejD/ZuWqCrq8vMzIzfgV1DOZTPlwCY1sRicUJCAhvs7d69mw7KOjs7+fekaDSYkZEhW0DumIsRiUTp6enOzs5D+w4tIjY2lualGqiexMREGp3y7wFMd7QbGv9wkVDOSGdOqEN5eHhwey8ZWlpaQ4/+AKal8e/IJmpXCABwW0Gg67fDTr5bWlrSfoIMPTNeXl5O+w8a6hkYGBw8eJDKGBkZNTc3829fvXr+/HkaCxLK19bWpgKHDx+W3dmUlJRoaGiwAlQJVUW7pdraWv5tgGlNOBaiXkC9Y+ihDo3VAgMD6S3qaCYmJlSM+khcXJxwWHXTAoS6IRWgDmgq48SJE/zbANOa7G6I7WUIHQLxb0t/rkH7Hcqkd6kMlaR+VFRUxL89EQUApjHa3dBOh77/9LWn3RAbDdJrGuDxJcYw2LtpARpb6unpsUXwuzFTUzc3N5y/gJmAvud0ACWM5WjIR69tbGyEE3yDg4NRUVFsNEgF2DGXp6enWCxmBaifVldX+/j4UC+jt4YGiemgz8vLS24RERERcr+dApiuxj9cvOmZE5FIZGtryxbB7cOk7OzsGhsb+RIA09f4d2TjrwEA4PaEQNdvJz09nfYNNBozMTGhF3LDtYGBAW9vbxrtUTE6fCKJiYlULDo6ml5TAdoV0Y5HGAJS+aNHj1KBrKwsaQXXa6AcVkNaWhoVCA4OxmEVzATCT9QPHDigJSUX6CorK1NXV7e2tu7o6KDJ5uZmOjSio6ympqYxFiCpqam0CDp+46cBZgy53RDtZWh3QzsdW1tbkUjEcmifRR0kJiaGXlNOQUEB9SlnZ2d2UDT+AgDTG+1uaKdDWFyKegH1BeoRvr6+NMyjnJsO9sYyGqTKNTU1hToBZhTqGtQjhLN1tGujvRjlCEM71g319fUbGhpokoq5u7tTn8rPz2cFaHhJg0yaxdDQkPaJQwNdbDxJ1VLlNNne3m5hYbFnz57q6mpWAGAaG/9wkYx+5oR0dnbSW0KdADPK+Hdk468BAOD2hEDXbycvLy8nJ4f2EOzWZ3LDNfbrWhquCb+hYDl0XMSOkcrLy2n85+bmJtz4guXQzqm/v58m29rajKToBStA+yQdHR2hBoDpjb7niYmJjY2N1Ms8PDyGBrrY6cLU1FR++lrO6dOnZSdHKUCo59IIr7S0lJ8GmDEqKyt37drl5OTU29vLcth+SjjHR/n0LpWhkqwA9UraB9GeiB0jjb8AwPRGY0Xa6Rw9elQISrHBHu3U2PDvpoO9sYwG2UD0+PHjbBJg5qCexX4pSH2Nz7o22EtPT2eTQ7shjQNlu0xTU9OpU6fa29vZT6yGBrrYrxXpLz999SrNSzmy40mA6Wr8w0Uy+pkTwuLNwpkQgJlj/DuyCdkVAgDcnhDougWGHa6xsZrskRI7dhJO1rO5hDMdRG4WNik7pmQ14PwgzDTUR4YNdFGnkx29EfZrQaEz3rTAwMCAr68v+8mhhvTGhnZ2dhUVFexdgJmGncsQfk7LdjqyZ9hZZxRiw+MvADDTsBMNwtVXNx3sjWU0eF56D17quQYGBvRCV1c3IyNDOJEBMKMI5/uEn7GzsZ9smIodhQ09pc46F6EXfJYUG0/KnkBkdeL8IMxMv3S4KGukQBf7FYipqSm7veHu3btPnDhB9fBvA8wk49mRMeOvAQDgNoFA1y0w7HCNxnk02tOVuUkaux5fOFnPBog2NjbCD3LZnWeEgyt2aoPGiMIIjw0ih57uB5je2MHS0G8++4GtcDtQwu5DKHTGmxagmt3c3CiH3cya3auauq3ss08AZgg6ImLn8k6dOsVyhp7yY52RytCOb0IKAMwoQ28Uc9PB3lhGg2zXpiF9Rpfw9JR06a2zWQGAmYOGcNQ7qC+0t7ezHHZ2j/6yScKO3WS7FTN0n8WwnaPsbovVKXf0BzAT/IrhoizW+4b2neLiYspnz+gi9IIm8SQ8mJnGsyNjxl8DAMBtAoGuW2DY4Rp7pgLlh4SEiKWogJKSknBiolt6t2vKoTEiFe7s7PT09KTywhhxLKc2AGYCdrA09JvPHpmgq6tLLyQSSXl5ub6+vmxnvGkBymxra6MuTD2UJqkn0ltUAE/Cg5mG+gId+dAuyc7OTvj5xU3PXIy/AMDMQbuViIgI+vL7+fmxy7nITQd7YxkNikSi0tLSlpYWek19OT8/n/Z9smc3AGaIjo4Oa2tr2pedO3eOz0KgC2Di/LrhoizW+4b2HZqFjtSE/VpVVRXt5vAkPJiBxrkjI+OvAQDg9oFA1y0w0nCttrZWV1eX3mJorKahoWEkc1F/UVER5fBvS68pUVdXF+5OM5ZTGwAzATtYGvrNF04aMjSYO3jwIL0QLsm/aYGh2KWWss8+AZgJ2P5I7nLGm565GH8BgBlCODlobW3d0dHB505QoEsOe1wKLQs3CIUZRSwWs18Nyl0FMvaze0P3WQwCXQDMrxsuymK976Z9h7owu/EanoQHM8r4d2TjrwEA4LaCQNctMMpwjUZ7KSkptI9JTU2trq7W09OTfcoCaW5ujo+PpwLnz5+/ePGiurq68HxIdmpDuPk1YYNIPKMLZhp2sDTsST2JRFJaWholVVlZyZ65KvsQhZsWkMP6neyhGsC0V1xcvHv3bl1dXbmfzbKdDu25aFfFclhnFE6gj78AwExAe6KMjAwVFRVra+vW1lY+V+qmg71fMRpkvYx2dkPPMAJMV2Kx2MfHh772x48fF66YZNjZPRoB8tPXjt2GPpiEdS5CL/gsKRboEp50QlideEYXzCi/ergoa5QzJ3JYv5M9Lw8wvY1/RzYhu0IAgNsKAl23wBiHa1lZWVQsLi6On76RRCKJjo6m4WB2djbLYU/5kr0CrKGhQUdHB9eawEzDDpaGDXTJYrcDNTQ0FI6y5AwtUF5ebmpqSp1XGAjiii6YadjFxxoaGkVFRXzWNey6EOoR1C9YDvUL6h3CGfbxFwCYCYb9CTxz08HeTQvQXzc3t8OHD7NbFxJc0QUzzeC1K/g9PT3F0ptRy8rLy6O3hJ8SktOnT1PO0DDVSIEu9sxX2fsB0LyUg2tNYOYYz3BR1rBnTvr7+4ODg2kWoQbqrbiiC2aU8e/IJmpXCABwW0Gg6xa4aaBLIpFkZ2fv3r1bX1+/qamJz5UxMDCQnJysoqIie7dryvT19VW69jhxkpaWRgvC04NgphlLoEt4yl1sbCx1Fj5XxrAFmpubDQ0NqWZ28lEYHaKXwQxBfYp2TMOetmDYRZDUL1iPKCgoUFdXd3Z2Fg6fxl8AYHoTfgI/NMpFbjrYG0uBgIAAyqF8epdyWFwNz+iCGYI6QlRUFPWRYU/tERrs6enpCX2Qyri7u1P5/Px8VkAwUqCrvLyc9lzCfUepZ1lYWODpQTBzjH+4KBjpzElcXBzLZzWwuBp6GcwQ49+RTeCuEADgtoJA1y0wSqCLXS+ye/duKqClpTX0p7Xnzp0zMTGhUSMVoJL19fX8G1I0O72loqJiZGRkYGBA+6GRTpQATGOjBLrYDwBZ76BOFBQUJDewG72A5NpDU9g5QfYEL/QymCFEIpG9vT1959n3n/ZBAuHZxU1NTfr6+tRHqBPRnoj2R3KnOcZfAGAaYz+noF5GQ0G+d11DYzxW5qaDvZsWoNeUI9vL6DULjPElAKav7Oxs+sJTL6NRHN+7pNzc3NjPB6kjxMbGCt1QW1ubXg97KnCkQNfAwICfnx/NRfNSDezITjinDzC9TchwUTDSmZOOjg5ra2t6izqycHoEvQxmiPHvyCZwVwgAcFtBoOsWGCXQRW/R/obGanFxcXKHTEx6ejoNBC0tLenFsPuYiooKBwcHKkNcXFyqqqr4NwBmjFECXewtGq7RGK60tHToSb2bFqCcwsJCGxsb6qp0TOXr6yvc/QlgemNn9Gj/NRTtkvhCV69Sj3B3d6feQX2EekpRUZFcPxp/AYDpinZbtPPi+9WNaIjIFxrDYO+mBZqammj/hV4GMxDtsPhOdSPZeNXg4GBGRoYQdY6IiBBuoSFrpEAXofHkiRMn2JlBXV3dxMREyuHfA5jWJmq4yIxy5qSzs5P6JvVQKmBiYpKVlYUoF8wQ49+RTeCuEADgtoJAFwAAAAAAAAAAAAAAAExJCHQBAAAAAAAAAAAAAADAlIRAFwAAAAAAAAAAAAAAAExJCHQBAAAAAAAAAAAAAADAlIRAFwAAAAAAAAAAAAAAAExJCHQBAAAAAAAAAAAAAADAlIRAFwAAAAAAAAAAAAAAAExJCHQBAAAAAAAAAAAAAADAlIRAFwAAAAAAAAAAAAAAAExJCHQBAAAAAAAAAAAAAADAlIRAFwAAAAAAAAAAAAAAAExJCHQBAAAAAAAAAAAAAADAlIRAFwAAAAAAAAAAAAAAAExJCHQBAAAAAAAAAAAAAADAFHT16v8HS+KqTEqUWosAAAAASUVORK5CYII=)"
      ],
      "metadata": {
        "id": "u7CJ3s8YM5IA"
      },
      "id": "u7CJ3s8YM5IA"
    },
    {
      "cell_type": "markdown",
      "id": "8a0a89ec",
      "metadata": {
        "id": "8a0a89ec"
      },
      "source": [
        "## Заданиe 3"
      ]
    },
    {
      "cell_type": "markdown",
      "id": "b40c35e9",
      "metadata": {
        "id": "b40c35e9"
      },
      "source": [
        "Когда мы разбирали PMI мы использовали такую функцию:"
      ]
    },
    {
      "cell_type": "code",
      "execution_count": 11,
      "id": "221f1bc0",
      "metadata": {
        "id": "221f1bc0"
      },
      "outputs": [],
      "source": [
        "def scorer_simple(word_count_a, word_count_b, bigram_count, *args):\n",
        "    try:\n",
        "        score = bigram_count/((word_count_a+word_count_b))\n",
        "    except ZeroDivisionError:\n",
        "        return 0\n",
        "    return score"
      ]
    },
    {
      "cell_type": "markdown",
      "id": "53fd2def",
      "metadata": {
        "id": "53fd2def"
      },
      "source": [
        "Но если вы посмотрите на определение в википедии, то увидите, что формула немного другая ![](https://wikimedia.org/api/rest_v1/media/math/render/svg/094243d23c19d2d032f6bb26c4dc4f47d98d32f8)"
      ]
    },
    {
      "cell_type": "markdown",
      "id": "b1905862",
      "metadata": {
        "id": "b1905862"
      },
      "source": [
        "Перепишите функцию, чтобы она точно соответствовала этому определению. Расчитайте PMI для всех биграммов также как мы делали в семинаре с помощью функции score_bigrams используя изначальный scorer и обновленный. Посмотрите есть ли разница в топ-10 биграммов. Подумайте почему результаты совпадают/отличаются?\n",
        "\n",
        "*Подсказка: для вероятностей можно поделить на количество слов в корпусе"
      ]
    },
    {
      "cell_type": "code",
      "source": [
        "def scorer_pmi(word_count_a, word_count_b, bigram_count, total_word_count, scorer_type='simple'):\n",
        "    try:\n",
        "      if scorer_type == 'simple':\n",
        "          score = bigram_count / (word_count_a + word_count_b)\n",
        "      elif scorer_type == 'standard':\n",
        "          prob_b_given_a = bigram_count / word_count_a\n",
        "          prob_b = word_count_b / total_word_count\n",
        "          score = np.log2(prob_b_given_a / prob_b)\n",
        "      else:\n",
        "          raise ValueError('Unknown scorer_type')\n",
        "    except ZeroDivisionError:\n",
        "        return 0\n",
        "    return score"
      ],
      "metadata": {
        "id": "_QLfygstnxNc"
      },
      "id": "_QLfygstnxNc",
      "execution_count": 12,
      "outputs": []
    },
    {
      "cell_type": "code",
      "source": [
        "def collect_stats(corpus, stops):\n",
        "    unigrams = Counter()\n",
        "    bigrams = Counter()\n",
        "\n",
        "    for sent in corpus:\n",
        "        # теперь не будем учитывать стоп-слова, в отличие от 5-грамм\n",
        "        unigrams.update([token for token in sent if token not in stops])\n",
        "        bigrams.update(ngrammer(sent, 2, stops))\n",
        "\n",
        "    return unigrams, bigrams"
      ],
      "metadata": {
        "id": "OnT8LC2Vhk3o"
      },
      "id": "OnT8LC2Vhk3o",
      "execution_count": 13,
      "outputs": []
    },
    {
      "cell_type": "code",
      "source": [
        "def score_bigrams(unigrams, bigrams, scorer_type='simple', max_threshold=100000, min_threshold=-100000):\n",
        "    # посчитаем метрику для каждого нграмма\n",
        "    bigram2score = Counter()\n",
        "    additional_info = {}\n",
        "    corpus_len = sum(unigrams.values())\n",
        "\n",
        "    for bigram in bigrams:\n",
        "        word_a, word_b = bigram.split()\n",
        "        score = scorer_pmi(\n",
        "            unigrams[word_a], unigrams[word_b],\n",
        "            bigrams[bigram], corpus_len,\n",
        "            scorer_type=scorer_type\n",
        "        )\n",
        "\n",
        "        # если метрика выше порога, добавляем в словарик\n",
        "        if score > min_threshold and score < max_threshold:\n",
        "            bigram2score[bigram] = score\n",
        "            additional_info[bigram] = f'Unigrams A: {unigrams[word_a]}; Unigrams B: {unigrams[word_b]}; Bigrams: {bigrams[bigram]}'\n",
        "\n",
        "    return bigram2score, additional_info"
      ],
      "metadata": {
        "id": "Pd_v2rLIgMqC"
      },
      "id": "Pd_v2rLIgMqC",
      "execution_count": 14,
      "outputs": []
    },
    {
      "cell_type": "code",
      "source": [
        "unigrams, bigrams = collect_stats(tokenized_sentences, russian_stopwords)"
      ],
      "metadata": {
        "id": "X3BWP0nVhAdr"
      },
      "id": "X3BWP0nVhAdr",
      "execution_count": 15,
      "outputs": []
    },
    {
      "cell_type": "markdown",
      "source": [
        "Результаты идентичны для биграмм, каждое из слов в которых встречается только один раз:"
      ],
      "metadata": {
        "id": "I0f2nUzezqrB"
      },
      "id": "I0f2nUzezqrB"
    },
    {
      "cell_type": "code",
      "source": [
        "bigram2score, additional_info = score_bigrams(unigrams, bigrams, scorer_type='simple')\n",
        "for item in bigram2score.most_common(10):\n",
        "    print(item, additional_info[item[0]])"
      ],
      "metadata": {
        "colab": {
          "base_uri": "https://localhost:8080/"
        },
        "id": "KlFrIF_auQ0r",
        "outputId": "b27951d0-6a85-45f1-848c-b34ba5e29e87"
      },
      "id": "KlFrIF_auQ0r",
      "execution_count": 16,
      "outputs": [
        {
          "output_type": "stream",
          "name": "stdout",
          "text": [
            "('сопоцкина друскеник', 0.5) Unigrams A: 1; Unigrams B: 1; Bigrams: 1\n",
            "('неприятель приблизившись', 0.5) Unigrams A: 1; Unigrams B: 1; Bigrams: 1\n",
            "('саноку обстреливалась', 0.5) Unigrams A: 1; Unigrams B: 1; Bigrams: 1\n",
            "('м.ю лермонтова', 0.5) Unigrams A: 1; Unigrams B: 1; Bigrams: 1\n",
            "('австрийский аэроплан', 0.5) Unigrams A: 1; Unigrams B: 1; Bigrams: 1\n",
            "('показывался аэроплан-птица', 0.5) Unigrams A: 1; Unigrams B: 1; Bigrams: 1\n",
            "('das ist', 0.5) Unigrams A: 1; Unigrams B: 1; Bigrams: 1\n",
            "('ist nesteroff', 0.5) Unigrams A: 1; Unigrams B: 1; Bigrams: 1\n",
            "('песнь нестерове', 0.5) Unigrams A: 1; Unigrams B: 1; Bigrams: 1\n",
            "('могучий унесся', 0.5) Unigrams A: 1; Unigrams B: 1; Bigrams: 1\n"
          ]
        }
      ]
    },
    {
      "cell_type": "code",
      "source": [
        "bigram2score, additional_info = score_bigrams(unigrams, bigrams, scorer_type='standard')\n",
        "for item in bigram2score.most_common(10):\n",
        "    print(item, additional_info[item[0]])"
      ],
      "metadata": {
        "colab": {
          "base_uri": "https://localhost:8080/"
        },
        "id": "n8ksoh35xYL7",
        "outputId": "caca5632-b297-460a-9e55-75f42882cac5"
      },
      "id": "n8ksoh35xYL7",
      "execution_count": 17,
      "outputs": [
        {
          "output_type": "stream",
          "name": "stdout",
          "text": [
            "('сопоцкина друскеник', 20.104850820306964) Unigrams A: 1; Unigrams B: 1; Bigrams: 1\n",
            "('неприятель приблизившись', 20.104850820306964) Unigrams A: 1; Unigrams B: 1; Bigrams: 1\n",
            "('саноку обстреливалась', 20.104850820306964) Unigrams A: 1; Unigrams B: 1; Bigrams: 1\n",
            "('м.ю лермонтова', 20.104850820306964) Unigrams A: 1; Unigrams B: 1; Bigrams: 1\n",
            "('австрийский аэроплан', 20.104850820306964) Unigrams A: 1; Unigrams B: 1; Bigrams: 1\n",
            "('показывался аэроплан-птица', 20.104850820306964) Unigrams A: 1; Unigrams B: 1; Bigrams: 1\n",
            "('das ist', 20.104850820306964) Unigrams A: 1; Unigrams B: 1; Bigrams: 1\n",
            "('ist nesteroff', 20.104850820306964) Unigrams A: 1; Unigrams B: 1; Bigrams: 1\n",
            "('песнь нестерове', 20.104850820306964) Unigrams A: 1; Unigrams B: 1; Bigrams: 1\n",
            "('могучий унесся', 20.104850820306964) Unigrams A: 1; Unigrams B: 1; Bigrams: 1\n"
          ]
        }
      ]
    },
    {
      "cell_type": "markdown",
      "source": [
        "Поставим скор, который получается у таких биграмм, максимальным трешхолдом:"
      ],
      "metadata": {
        "id": "IlewP9tf4eNQ"
      },
      "id": "IlewP9tf4eNQ"
    },
    {
      "cell_type": "code",
      "source": [
        "bigram2score, additional_info = score_bigrams(unigrams, bigrams, scorer_type='simple', max_threshold=0.5)\n",
        "for item in bigram2score.most_common(10):\n",
        "    print(item, additional_info[item[0]])"
      ],
      "metadata": {
        "colab": {
          "base_uri": "https://localhost:8080/"
        },
        "id": "oxRVlpVbz4pq",
        "outputId": "fa7fcd74-91d2-4a43-9768-4f525f22e9ff"
      },
      "id": "oxRVlpVbz4pq",
      "execution_count": 18,
      "outputs": [
        {
          "output_type": "stream",
          "name": "stdout",
          "text": [
            "('риа новости', 0.49289032803040966) Unigrams A: 3517; Unigrams B: 3586; Bigrams: 3501\n",
            "('dow jones', 0.49122807017543857) Unigrams A: 28; Unigrams B: 29; Bigrams: 28\n",
            "('wall street', 0.49056603773584906) Unigrams A: 52; Unigrams B: 54; Bigrams: 52\n",
            "('exit polls', 0.49019607843137253) Unigrams A: 26; Unigrams B: 25; Bigrams: 25\n",
            "('норильский никель', 0.48) Unigrams A: 25; Unigrams B: 25; Bigrams: 24\n",
            "('пит сампрас', 0.4782608695652174) Unigrams A: 11; Unigrams B: 12; Bigrams: 11\n",
            "('мысе канаверал', 0.47619047619047616) Unigrams A: 10; Unigrams B: 11; Bigrams: 10\n",
            "('брюшным тифом', 0.47619047619047616) Unigrams A: 10; Unigrams B: 11; Bigrams: 10\n",
            "('саудовской аравии', 0.47560975609756095) Unigrams A: 41; Unigrams B: 41; Bigrams: 39\n",
            "('саудовская аравия', 0.47368421052631576) Unigrams A: 18; Unigrams B: 20; Bigrams: 18\n"
          ]
        }
      ]
    },
    {
      "cell_type": "code",
      "source": [
        "bigram2score, additional_info = score_bigrams(unigrams, bigrams, scorer_type='standard', max_threshold=20.104850820306964)\n",
        "for item in bigram2score.most_common(10):\n",
        "    print(item, additional_info[item[0]])"
      ],
      "metadata": {
        "colab": {
          "base_uri": "https://localhost:8080/"
        },
        "id": "qsAGHQDc0gr4",
        "outputId": "4eec3458-02c2-4868-923b-78bc219c6ccb"
      },
      "id": "qsAGHQDc0gr4",
      "execution_count": 19,
      "outputs": [
        {
          "output_type": "stream",
          "name": "stdout",
          "text": [
            "('отступлением германцев', 19.104850820306964) Unigrams A: 2; Unigrams B: 1; Bigrams: 1\n",
            "('перемышля саноку', 19.104850820306964) Unigrams A: 2; Unigrams B: 1; Bigrams: 1\n",
            "('батареей бежала', 19.104850820306964) Unigrams A: 1; Unigrams B: 2; Bigrams: 1\n",
            "('парки обоз', 19.104850820306964) Unigrams A: 2; Unigrams B: 1; Bigrams: 1\n",
            "('желтиева галиции', 19.104850820306964) Unigrams A: 1; Unigrams B: 2; Bigrams: 1\n",
            "('расположением австрийский', 19.104850820306964) Unigrams A: 2; Unigrams B: 1; Bigrams: 1\n",
            "('вольно паривший', 19.104850820306964) Unigrams A: 2; Unigrams B: 1; Bigrams: 1\n",
            "('нестерове безбрежности', 19.104850820306964) Unigrams A: 1; Unigrams B: 2; Bigrams: 1\n",
            "('доныне.так птице', 19.104850820306964) Unigrams A: 1; Unigrams B: 2; Bigrams: 1\n",
            "('легкокрылый темные', 19.104850820306964) Unigrams A: 1; Unigrams B: 2; Bigrams: 1\n"
          ]
        }
      ]
    },
    {
      "cell_type": "markdown",
      "source": [
        "Новый топ-10 получается другой: принципиальное различие двух метрик заключается в том, что в варианте ```simple``` количество вхождений биграммы делится на сумму вхождений каждого из слов, а в варианте ```standard``` - на их произведение. Посмотрим на топ-1 для ```simple``` - настолько большое количество вхождений каждого из слов обеспечивает большой знаменатель в метрике ```standard```:\n",
        "\n",
        "3501 / (3517 * 3586) = 0.0002775936.\n",
        "\n",
        "Идеальная ситуация (не считая той, когда оба слова уникальны и, следовательно, числитель и знаменатель равны) - когда знаменатель больше числителя на 1. Это возможно только в двух случаях:\n",
        "\n",
        "Unigrams A: 2; Unigrams B: 1; Bigrams: 1\n",
        "\n",
        "Unigrams A: 1; Unigrams B: 2; Bigrams: 1"
      ],
      "metadata": {
        "id": "f7FXDH3t47BK"
      },
      "id": "f7FXDH3t47BK"
    },
    {
      "cell_type": "markdown",
      "id": "0a6e1c99",
      "metadata": {
        "id": "0a6e1c99"
      },
      "source": [
        "## Задание 4*\n",
        "\n",
        "Обновите функцию получившуюся в предыдущем задании так, чтобы вместо произведения/деления вероятностей использовались сложение и вычитание логирифмов."
      ]
    },
    {
      "cell_type": "code",
      "execution_count": 20,
      "id": "3f55a362",
      "metadata": {
        "id": "3f55a362"
      },
      "outputs": [],
      "source": [
        "def scorer_pmi(word_count_a, word_count_b, bigram_count, total_word_count, scorer_type='simple'):\n",
        "    try:\n",
        "      if scorer_type == 'simple':\n",
        "          score = bigram_count / (word_count_a + word_count_b)\n",
        "      elif scorer_type == 'standard':\n",
        "          prob_b_given_a = bigram_count / word_count_a\n",
        "          prob_b = word_count_b / total_word_count\n",
        "          score = np.log2(prob_b_given_a) - np.log2(prob_b)\n",
        "      else:\n",
        "          raise ValueError('Unknown scorer_type')\n",
        "    except ZeroDivisionError:\n",
        "        return 0\n",
        "    return score"
      ]
    },
    {
      "cell_type": "code",
      "source": [
        "bigram2score, additional_info = score_bigrams(unigrams, bigrams, scorer_type='standard')\n",
        "for item in bigram2score.most_common(10):\n",
        "    print(item, additional_info[item[0]])"
      ],
      "metadata": {
        "colab": {
          "base_uri": "https://localhost:8080/"
        },
        "id": "DhLTbS-j86eJ",
        "outputId": "039611a4-be62-4521-ed07-d17722f53d7c"
      },
      "id": "DhLTbS-j86eJ",
      "execution_count": 21,
      "outputs": [
        {
          "output_type": "stream",
          "name": "stdout",
          "text": [
            "('сопоцкина друскеник', 20.104850820306964) Unigrams A: 1; Unigrams B: 1; Bigrams: 1\n",
            "('неприятель приблизившись', 20.104850820306964) Unigrams A: 1; Unigrams B: 1; Bigrams: 1\n",
            "('саноку обстреливалась', 20.104850820306964) Unigrams A: 1; Unigrams B: 1; Bigrams: 1\n",
            "('м.ю лермонтова', 20.104850820306964) Unigrams A: 1; Unigrams B: 1; Bigrams: 1\n",
            "('австрийский аэроплан', 20.104850820306964) Unigrams A: 1; Unigrams B: 1; Bigrams: 1\n",
            "('показывался аэроплан-птица', 20.104850820306964) Unigrams A: 1; Unigrams B: 1; Bigrams: 1\n",
            "('das ist', 20.104850820306964) Unigrams A: 1; Unigrams B: 1; Bigrams: 1\n",
            "('ist nesteroff', 20.104850820306964) Unigrams A: 1; Unigrams B: 1; Bigrams: 1\n",
            "('песнь нестерове', 20.104850820306964) Unigrams A: 1; Unigrams B: 1; Bigrams: 1\n",
            "('могучий унесся', 20.104850820306964) Unigrams A: 1; Unigrams B: 1; Bigrams: 1\n"
          ]
        }
      ]
    },
    {
      "cell_type": "code",
      "source": [
        "bigram2score, additional_info = score_bigrams(unigrams, bigrams, scorer_type='standard', max_threshold=20.104850820306964)\n",
        "for item in bigram2score.most_common(10):\n",
        "    print(item, additional_info[item[0]])"
      ],
      "metadata": {
        "colab": {
          "base_uri": "https://localhost:8080/"
        },
        "id": "ciBRpUKO1bap",
        "outputId": "678284dd-17d6-4f8a-f62d-81f0d2b62b2b"
      },
      "id": "ciBRpUKO1bap",
      "execution_count": 22,
      "outputs": [
        {
          "output_type": "stream",
          "name": "stdout",
          "text": [
            "('отступлением германцев', 19.104850820306964) Unigrams A: 2; Unigrams B: 1; Bigrams: 1\n",
            "('перемышля саноку', 19.104850820306964) Unigrams A: 2; Unigrams B: 1; Bigrams: 1\n",
            "('батареей бежала', 19.104850820306964) Unigrams A: 1; Unigrams B: 2; Bigrams: 1\n",
            "('парки обоз', 19.104850820306964) Unigrams A: 2; Unigrams B: 1; Bigrams: 1\n",
            "('желтиева галиции', 19.104850820306964) Unigrams A: 1; Unigrams B: 2; Bigrams: 1\n",
            "('расположением австрийский', 19.104850820306964) Unigrams A: 2; Unigrams B: 1; Bigrams: 1\n",
            "('вольно паривший', 19.104850820306964) Unigrams A: 2; Unigrams B: 1; Bigrams: 1\n",
            "('нестерове безбрежности', 19.104850820306964) Unigrams A: 1; Unigrams B: 2; Bigrams: 1\n",
            "('доныне.так птице', 19.104850820306964) Unigrams A: 1; Unigrams B: 2; Bigrams: 1\n",
            "('легкокрылый темные', 19.104850820306964) Unigrams A: 1; Unigrams B: 2; Bigrams: 1\n"
          ]
        }
      ]
    },
    {
      "cell_type": "markdown",
      "id": "b22785f4",
      "metadata": {
        "id": "b22785f4"
      },
      "source": [
        "## Задание 5"
      ]
    },
    {
      "cell_type": "markdown",
      "id": "a1121e53",
      "metadata": {
        "id": "a1121e53"
      },
      "source": [
        "Исследуйте gensim.models.Phrases. Проверьте сколько дефолтных scoring функций есть в этом классе. Попробуйте все доступные по умолчанию scoring функции и попробуйте настраивать для них значение threshold и min_count. Попробуйте сделать так, чтобы собиралось как можно больше нграммов. Попробуйте строить последовательность gensim.models.Phrases, чтобы строить более длинные нграммы"
      ]
    },
    {
      "cell_type": "markdown",
      "source": [
        "scoring функции:\n",
        "\n",
        "```npmi```, normalized pointwise mutual information, от -1 до 1\n",
        "\n",
        "\"threshold should be between -1 and 1 for npmi scoring\"\n",
        "\n",
        "```default```, метрика из статьи про word2vec, значение может быть отрицательным\n",
        "\n",
        "\"threshold should be positive for default scoring\""
      ],
      "metadata": {
        "id": "fOgdnrQZHH8k"
      },
      "id": "fOgdnrQZHH8k"
    },
    {
      "cell_type": "code",
      "source": [
        "min_counts = [1, 2, 5, 10, 20, 50]\n",
        "thresholds_normalized = [-0.5, -0.25, 0, 0.25, 0.5]\n",
        "thresholds_default = [10, 25, 50, 100, 250]"
      ],
      "metadata": {
        "id": "DOm0HmrfCaEL"
      },
      "id": "DOm0HmrfCaEL",
      "execution_count": 23,
      "outputs": []
    },
    {
      "cell_type": "code",
      "execution_count": 24,
      "id": "716fba84",
      "metadata": {
        "colab": {
          "base_uri": "https://localhost:8080/"
        },
        "id": "716fba84",
        "outputId": "cbb6a95a-2d5a-4045-d648-54421fa1872c"
      },
      "outputs": [
        {
          "output_type": "stream",
          "name": "stdout",
          "text": [
            "scoring: npmi; min_count: 1; threshold: -0.5\n",
            "['gazeta_ru', 'подробно_писала', 'о_том', 'что_финансирование', 'программы_мир', 'закрыто_но', 'конструкторы_не', 'спешат_топить', 'ее_в', 'тихом_океане', 'надеясь_на', 'изыскание_внебюджетных', 'средств.они_надеются', 'что_правительство', 'оплатит_финальную', 'экспедицию_на', 'мир_в', 'феврале_или', 'марте_2000', 'года']\n",
            "['однако_власти', 'пока_не', 'могут_официально', 'подтвердить_данные', 'которые_сообщил', 'о_себе', 'задержанный_так', 'как_никаких', 'записей_о', 'его_местожительстве', 'и_прошлой', 'работе_нет.сегодня', 'после_1', 'часа_ночи', 'дежурная_смена', 'цупа_послаласигнал', 'на_выключение', 'главного_бортового', 'компьютера_станции', 'мир_результате', 'этого_работа', 'всех_элементов', 'системы_управления', 'движением_орбитального', 'комплекса_была', 'остановлена']\n",
            "['по_данным', 'majestic_wine', 'закупки_обычных', 'вин_также', 'превзошли_все', 'ожидания_британцы', 'покупают_вина', 'больше_и', 'более_дорогих', 'сортов_нежели', 'перед_рождеством', 'прошлого_года']\n",
            "\n",
            "scoring: npmi; min_count: 1; threshold: -0.25\n",
            "['gazeta_ru', 'подробно_писала', 'о_том', 'что_финансирование', 'программы_мир', 'закрыто_но', 'конструкторы_не', 'спешат_топить', 'ее_в', 'тихом_океане', 'надеясь_на', 'изыскание_внебюджетных', 'средств.они_надеются', 'что_правительство', 'оплатит_финальную', 'экспедицию_на', 'мир_в', 'феврале_или', 'марте_2000', 'года']\n",
            "['однако_власти', 'пока_не', 'могут_официально', 'подтвердить_данные', 'которые_сообщил', 'о_себе', 'задержанный_так', 'как_никаких', 'записей_о', 'его_местожительстве', 'и_прошлой', 'работе_нет.сегодня', 'после_1', 'часа_ночи', 'дежурная_смена', 'цупа_послаласигнал', 'на_выключение', 'главного_бортового', 'компьютера_станции', 'мир_результате', 'этого_работа', 'всех_элементов', 'системы_управления', 'движением_орбитального', 'комплекса_была', 'остановлена']\n",
            "['по_данным', 'majestic_wine', 'закупки_обычных', 'вин_также', 'превзошли_все', 'ожидания_британцы', 'покупают_вина', 'больше_и', 'более_дорогих', 'сортов_нежели', 'перед_рождеством', 'прошлого_года']\n",
            "\n",
            "scoring: npmi; min_count: 1; threshold: 0\n",
            "['gazeta_ru', 'подробно_писала', 'о_том', 'что_финансирование', 'программы_мир', 'закрыто_но', 'конструкторы_не', 'спешат_топить', 'ее', 'в_тихом', 'океане_надеясь', 'на_изыскание', 'внебюджетных_средств.они', 'надеются_что', 'правительство_оплатит', 'финальную_экспедицию', 'на_мир', 'в_феврале', 'или_марте', '2000_года']\n",
            "['однако_власти', 'пока_не', 'могут_официально', 'подтвердить_данные', 'которые', 'сообщил_о', 'себе_задержанный', 'так_как', 'никаких_записей', 'о_его', 'местожительстве_и', 'прошлой_работе', 'нет.сегодня_после', '1_часа', 'ночи_дежурная', 'смена_цупа', 'послаласигнал_на', 'выключение_главного', 'бортового_компьютера', 'станции_мир', 'результате_этого', 'работа_всех', 'элементов_системы', 'управления_движением', 'орбитального_комплекса', 'была_остановлена']\n",
            "['по_данным', 'majestic_wine', 'закупки_обычных', 'вин_также', 'превзошли_все', 'ожидания_британцы', 'покупают_вина', 'больше', 'и_более', 'дорогих_сортов', 'нежели_перед', 'рождеством_прошлого', 'года']\n",
            "\n",
            "scoring: npmi; min_count: 1; threshold: 0.25\n",
            "['gazeta_ru', 'подробно_писала', 'о_том', 'что', 'финансирование_программы', 'мир_закрыто', 'но_конструкторы', 'не_спешат', 'топить_ее', 'в', 'тихом_океане', 'надеясь', 'на_изыскание', 'внебюджетных_средств.они', 'надеются_что', 'правительство_оплатит', 'финальную_экспедицию', 'на', 'мир', 'в_феврале', 'или', 'марте_2000', 'года']\n",
            "['однако', 'власти', 'пока_не', 'могут', 'официально_подтвердить', 'данные', 'которые', 'сообщил', 'о_себе', 'задержанный', 'так_как', 'никаких_записей', 'о', 'его_местожительстве', 'и', 'прошлой', 'работе_нет.сегодня', 'после', '1', 'часа_ночи', 'дежурная_смена', 'цупа_послаласигнал', 'на_выключение', 'главного_бортового', 'компьютера_станции', 'мир', 'результате', 'этого', 'работа_всех', 'элементов_системы', 'управления_движением', 'орбитального_комплекса', 'была_остановлена']\n",
            "['по_данным', 'majestic_wine', 'закупки_обычных', 'вин', 'также_превзошли', 'все_ожидания', 'британцы_покупают', 'вина_больше', 'и', 'более_дорогих', 'сортов_нежели', 'перед_рождеством', 'прошлого_года']\n",
            "\n",
            "scoring: npmi; min_count: 1; threshold: 0.5\n",
            "['gazeta_ru', 'подробно_писала', 'о_том', 'что', 'финансирование', 'программы', 'мир', 'закрыто', 'но', 'конструкторы', 'не', 'спешат_топить', 'ее', 'в', 'тихом_океане', 'надеясь', 'на', 'изыскание_внебюджетных', 'средств.они_надеются', 'что', 'правительство', 'оплатит_финальную', 'экспедицию', 'на', 'мир', 'в', 'феврале', 'или', 'марте', '2000_года']\n",
            "['однако', 'власти', 'пока', 'не', 'могут', 'официально', 'подтвердить', 'данные', 'которые', 'сообщил', 'о', 'себе', 'задержанный', 'так', 'как', 'никаких', 'записей', 'о', 'его', 'местожительстве', 'и', 'прошлой', 'работе_нет.сегодня', 'после', '1', 'часа_ночи', 'дежурная_смена', 'цупа_послаласигнал', 'на', 'выключение_главного', 'бортового_компьютера', 'станции_мир', 'результате', 'этого', 'работа', 'всех', 'элементов', 'системы', 'управления', 'движением_орбитального', 'комплекса', 'была_остановлена']\n",
            "['по_данным', 'majestic_wine', 'закупки_обычных', 'вин', 'также', 'превзошли', 'все', 'ожидания_британцы', 'покупают_вина', 'больше', 'и', 'более', 'дорогих_сортов', 'нежели', 'перед', 'рождеством_прошлого', 'года']\n",
            "\n",
            "scoring: npmi; min_count: 2; threshold: -0.5\n",
            "['gazeta_ru', 'подробно', 'писала_о', 'том_что', 'финансирование_программы', 'мир', 'закрыто', 'но', 'конструкторы', 'не_спешат', 'топить', 'ее_в', 'тихом_океане', 'надеясь_на', 'изыскание', 'внебюджетных', 'средств.они', 'надеются_что', 'правительство', 'оплатит', 'финальную', 'экспедицию_на', 'мир_в', 'феврале', 'или', 'марте_2000', 'года']\n",
            "['однако_власти', 'пока_не', 'могут', 'официально', 'подтвердить', 'данные_которые', 'сообщил_о', 'себе', 'задержанный', 'так_как', 'никаких', 'записей', 'о_его', 'местожительстве', 'и', 'прошлой', 'работе', 'нет.сегодня', 'после_1', 'часа_ночи', 'дежурная', 'смена', 'цупа', 'послаласигнал', 'на', 'выключение', 'главного', 'бортового', 'компьютера', 'станции_мир', 'результате_этого', 'работа_всех', 'элементов_системы', 'управления', 'движением', 'орбитального_комплекса', 'была_остановлена']\n",
            "['по_данным', 'majestic_wine', 'закупки', 'обычных', 'вин', 'также', 'превзошли', 'все_ожидания', 'британцы', 'покупают', 'вина', 'больше_и', 'более_дорогих', 'сортов', 'нежели', 'перед', 'рождеством', 'прошлого_года']\n",
            "\n",
            "scoring: npmi; min_count: 2; threshold: -0.25\n",
            "['gazeta_ru', 'подробно', 'писала_о', 'том_что', 'финансирование_программы', 'мир', 'закрыто', 'но', 'конструкторы', 'не_спешат', 'топить', 'ее_в', 'тихом_океане', 'надеясь_на', 'изыскание', 'внебюджетных', 'средств.они', 'надеются_что', 'правительство', 'оплатит', 'финальную', 'экспедицию_на', 'мир_в', 'феврале', 'или', 'марте_2000', 'года']\n",
            "['однако_власти', 'пока_не', 'могут', 'официально', 'подтвердить', 'данные_которые', 'сообщил_о', 'себе', 'задержанный', 'так_как', 'никаких', 'записей', 'о_его', 'местожительстве', 'и', 'прошлой', 'работе', 'нет.сегодня', 'после_1', 'часа_ночи', 'дежурная', 'смена', 'цупа', 'послаласигнал', 'на', 'выключение', 'главного', 'бортового', 'компьютера', 'станции_мир', 'результате_этого', 'работа_всех', 'элементов_системы', 'управления', 'движением', 'орбитального_комплекса', 'была_остановлена']\n",
            "['по_данным', 'majestic_wine', 'закупки', 'обычных', 'вин', 'также', 'превзошли', 'все_ожидания', 'британцы', 'покупают', 'вина', 'больше_и', 'более_дорогих', 'сортов', 'нежели', 'перед', 'рождеством', 'прошлого_года']\n",
            "\n",
            "scoring: npmi; min_count: 2; threshold: 0\n",
            "['gazeta_ru', 'подробно', 'писала_о', 'том_что', 'финансирование_программы', 'мир', 'закрыто', 'но', 'конструкторы', 'не_спешат', 'топить', 'ее', 'в_тихом', 'океане', 'надеясь_на', 'изыскание', 'внебюджетных', 'средств.они', 'надеются_что', 'правительство', 'оплатит', 'финальную', 'экспедицию_на', 'мир_в', 'феврале', 'или', 'марте_2000', 'года']\n",
            "['однако_власти', 'пока_не', 'могут', 'официально', 'подтвердить', 'данные_которые', 'сообщил_о', 'себе', 'задержанный', 'так_как', 'никаких', 'записей', 'о_его', 'местожительстве', 'и', 'прошлой', 'работе', 'нет.сегодня', 'после_1', 'часа_ночи', 'дежурная', 'смена', 'цупа', 'послаласигнал', 'на', 'выключение', 'главного', 'бортового', 'компьютера', 'станции_мир', 'результате_этого', 'работа_всех', 'элементов_системы', 'управления', 'движением', 'орбитального_комплекса', 'была_остановлена']\n",
            "['по_данным', 'majestic_wine', 'закупки', 'обычных', 'вин', 'также', 'превзошли', 'все_ожидания', 'британцы', 'покупают', 'вина', 'больше', 'и_более', 'дорогих', 'сортов', 'нежели', 'перед', 'рождеством', 'прошлого_года']\n",
            "\n",
            "scoring: npmi; min_count: 2; threshold: 0.25\n",
            "['gazeta_ru', 'подробно', 'писала_о', 'том_что', 'финансирование_программы', 'мир', 'закрыто', 'но', 'конструкторы', 'не_спешат', 'топить', 'ее', 'в', 'тихом_океане', 'надеясь', 'на', 'изыскание', 'внебюджетных', 'средств.они', 'надеются_что', 'правительство', 'оплатит', 'финальную', 'экспедицию_на', 'мир', 'в_феврале', 'или', 'марте_2000', 'года']\n",
            "['однако', 'власти', 'пока_не', 'могут', 'официально', 'подтвердить', 'данные', 'которые', 'сообщил', 'о_себе', 'задержанный', 'так_как', 'никаких', 'записей', 'о', 'его', 'местожительстве', 'и', 'прошлой', 'работе', 'нет.сегодня', 'после', '1', 'часа_ночи', 'дежурная', 'смена', 'цупа', 'послаласигнал', 'на', 'выключение', 'главного', 'бортового', 'компьютера', 'станции_мир', 'результате', 'этого', 'работа_всех', 'элементов_системы', 'управления', 'движением', 'орбитального_комплекса', 'была_остановлена']\n",
            "['по_данным', 'majestic_wine', 'закупки', 'обычных', 'вин', 'также', 'превзошли', 'все_ожидания', 'британцы', 'покупают', 'вина', 'больше', 'и', 'более_дорогих', 'сортов', 'нежели', 'перед', 'рождеством', 'прошлого_года']\n",
            "\n",
            "scoring: npmi; min_count: 2; threshold: 0.5\n",
            "['gazeta_ru', 'подробно', 'писала', 'о_том', 'что', 'финансирование', 'программы', 'мир', 'закрыто', 'но', 'конструкторы', 'не', 'спешат', 'топить', 'ее', 'в', 'тихом_океане', 'надеясь', 'на', 'изыскание', 'внебюджетных', 'средств.они', 'надеются', 'что', 'правительство', 'оплатит', 'финальную', 'экспедицию', 'на', 'мир', 'в', 'феврале', 'или', 'марте', '2000_года']\n",
            "['однако', 'власти', 'пока', 'не', 'могут', 'официально', 'подтвердить', 'данные', 'которые', 'сообщил', 'о', 'себе', 'задержанный', 'так', 'как', 'никаких', 'записей', 'о', 'его', 'местожительстве', 'и', 'прошлой', 'работе', 'нет.сегодня', 'после', '1', 'часа_ночи', 'дежурная', 'смена', 'цупа', 'послаласигнал', 'на', 'выключение', 'главного', 'бортового', 'компьютера', 'станции_мир', 'результате', 'этого', 'работа', 'всех', 'элементов', 'системы', 'управления', 'движением', 'орбитального_комплекса', 'была_остановлена']\n",
            "['по_данным', 'majestic_wine', 'закупки', 'обычных', 'вин', 'также', 'превзошли', 'все', 'ожидания', 'британцы', 'покупают', 'вина', 'больше', 'и', 'более', 'дорогих', 'сортов', 'нежели', 'перед', 'рождеством', 'прошлого_года']\n",
            "\n",
            "scoring: npmi; min_count: 5; threshold: -0.5\n",
            "['gazeta', 'ru', 'подробно', 'писала', 'о_том', 'что_финансирование', 'программы', 'мир', 'закрыто', 'но', 'конструкторы', 'не', 'спешат', 'топить', 'ее_в', 'тихом_океане', 'надеясь', 'на', 'изыскание', 'внебюджетных', 'средств.они', 'надеются_что', 'правительство', 'оплатит', 'финальную', 'экспедицию', 'на_мир', 'в_феврале', 'или', 'марте_2000', 'года']\n",
            "['однако_власти', 'пока_не', 'могут', 'официально', 'подтвердить', 'данные', 'которые', 'сообщил_о', 'себе', 'задержанный', 'так_как', 'никаких', 'записей', 'о_его', 'местожительстве', 'и', 'прошлой', 'работе', 'нет.сегодня', 'после_1', 'часа_ночи', 'дежурная', 'смена', 'цупа', 'послаласигнал', 'на', 'выключение', 'главного', 'бортового', 'компьютера', 'станции_мир', 'результате_этого', 'работа', 'всех', 'элементов', 'системы_управления', 'движением', 'орбитального_комплекса', 'была_остановлена']\n",
            "['по_данным', 'majestic', 'wine', 'закупки', 'обычных', 'вин', 'также', 'превзошли', 'все', 'ожидания', 'британцы', 'покупают', 'вина', 'больше_и', 'более', 'дорогих', 'сортов', 'нежели', 'перед', 'рождеством', 'прошлого_года']\n",
            "\n",
            "scoring: npmi; min_count: 5; threshold: -0.25\n",
            "['gazeta', 'ru', 'подробно', 'писала', 'о_том', 'что_финансирование', 'программы', 'мир', 'закрыто', 'но', 'конструкторы', 'не', 'спешат', 'топить', 'ее_в', 'тихом_океане', 'надеясь', 'на', 'изыскание', 'внебюджетных', 'средств.они', 'надеются_что', 'правительство', 'оплатит', 'финальную', 'экспедицию', 'на_мир', 'в_феврале', 'или', 'марте_2000', 'года']\n",
            "['однако_власти', 'пока_не', 'могут', 'официально', 'подтвердить', 'данные', 'которые', 'сообщил_о', 'себе', 'задержанный', 'так_как', 'никаких', 'записей', 'о_его', 'местожительстве', 'и', 'прошлой', 'работе', 'нет.сегодня', 'после_1', 'часа_ночи', 'дежурная', 'смена', 'цупа', 'послаласигнал', 'на', 'выключение', 'главного', 'бортового', 'компьютера', 'станции_мир', 'результате_этого', 'работа', 'всех', 'элементов', 'системы_управления', 'движением', 'орбитального_комплекса', 'была_остановлена']\n",
            "['по_данным', 'majestic', 'wine', 'закупки', 'обычных', 'вин', 'также', 'превзошли', 'все', 'ожидания', 'британцы', 'покупают', 'вина', 'больше_и', 'более', 'дорогих', 'сортов', 'нежели', 'перед', 'рождеством', 'прошлого_года']\n",
            "\n",
            "scoring: npmi; min_count: 5; threshold: 0\n",
            "['gazeta', 'ru', 'подробно', 'писала', 'о_том', 'что_финансирование', 'программы', 'мир', 'закрыто', 'но', 'конструкторы', 'не', 'спешат', 'топить', 'ее', 'в_тихом', 'океане', 'надеясь', 'на', 'изыскание', 'внебюджетных', 'средств.они', 'надеются_что', 'правительство', 'оплатит', 'финальную', 'экспедицию', 'на_мир', 'в_феврале', 'или', 'марте_2000', 'года']\n",
            "['однако_власти', 'пока_не', 'могут', 'официально', 'подтвердить', 'данные', 'которые', 'сообщил_о', 'себе', 'задержанный', 'так_как', 'никаких', 'записей', 'о_его', 'местожительстве', 'и', 'прошлой', 'работе', 'нет.сегодня', 'после_1', 'часа_ночи', 'дежурная', 'смена', 'цупа', 'послаласигнал', 'на', 'выключение', 'главного', 'бортового', 'компьютера', 'станции_мир', 'результате_этого', 'работа', 'всех', 'элементов', 'системы_управления', 'движением', 'орбитального_комплекса', 'была_остановлена']\n",
            "['по_данным', 'majestic', 'wine', 'закупки', 'обычных', 'вин', 'также', 'превзошли', 'все', 'ожидания', 'британцы', 'покупают', 'вина', 'больше', 'и_более', 'дорогих', 'сортов', 'нежели', 'перед', 'рождеством', 'прошлого_года']\n",
            "\n",
            "scoring: npmi; min_count: 5; threshold: 0.25\n",
            "['gazeta', 'ru', 'подробно', 'писала', 'о_том', 'что', 'финансирование', 'программы', 'мир', 'закрыто', 'но', 'конструкторы', 'не', 'спешат', 'топить', 'ее', 'в', 'тихом_океане', 'надеясь', 'на', 'изыскание', 'внебюджетных', 'средств.они', 'надеются_что', 'правительство', 'оплатит', 'финальную', 'экспедицию', 'на', 'мир', 'в_феврале', 'или', 'марте_2000', 'года']\n",
            "['однако', 'власти', 'пока_не', 'могут', 'официально', 'подтвердить', 'данные', 'которые', 'сообщил', 'о_себе', 'задержанный', 'так_как', 'никаких', 'записей', 'о', 'его', 'местожительстве', 'и', 'прошлой', 'работе', 'нет.сегодня', 'после', '1', 'часа_ночи', 'дежурная', 'смена', 'цупа', 'послаласигнал', 'на', 'выключение', 'главного', 'бортового', 'компьютера', 'станции_мир', 'результате', 'этого', 'работа', 'всех', 'элементов', 'системы_управления', 'движением', 'орбитального_комплекса', 'была_остановлена']\n",
            "['по_данным', 'majestic', 'wine', 'закупки', 'обычных', 'вин', 'также', 'превзошли', 'все', 'ожидания', 'британцы', 'покупают', 'вина', 'больше', 'и', 'более', 'дорогих', 'сортов', 'нежели', 'перед', 'рождеством', 'прошлого_года']\n",
            "\n",
            "scoring: npmi; min_count: 5; threshold: 0.5\n",
            "['gazeta', 'ru', 'подробно', 'писала', 'о_том', 'что', 'финансирование', 'программы', 'мир', 'закрыто', 'но', 'конструкторы', 'не', 'спешат', 'топить', 'ее', 'в', 'тихом_океане', 'надеясь', 'на', 'изыскание', 'внебюджетных', 'средств.они', 'надеются', 'что', 'правительство', 'оплатит', 'финальную', 'экспедицию', 'на', 'мир', 'в', 'феврале', 'или', 'марте', '2000_года']\n",
            "['однако', 'власти', 'пока', 'не', 'могут', 'официально', 'подтвердить', 'данные', 'которые', 'сообщил', 'о', 'себе', 'задержанный', 'так', 'как', 'никаких', 'записей', 'о', 'его', 'местожительстве', 'и', 'прошлой', 'работе', 'нет.сегодня', 'после', '1', 'часа_ночи', 'дежурная', 'смена', 'цупа', 'послаласигнал', 'на', 'выключение', 'главного', 'бортового', 'компьютера', 'станции_мир', 'результате', 'этого', 'работа', 'всех', 'элементов', 'системы', 'управления', 'движением', 'орбитального_комплекса', 'была_остановлена']\n",
            "['по_данным', 'majestic', 'wine', 'закупки', 'обычных', 'вин', 'также', 'превзошли', 'все', 'ожидания', 'британцы', 'покупают', 'вина', 'больше', 'и', 'более', 'дорогих', 'сортов', 'нежели', 'перед', 'рождеством', 'прошлого_года']\n",
            "\n",
            "scoring: npmi; min_count: 10; threshold: -0.5\n",
            "['gazeta', 'ru', 'подробно', 'писала', 'о_том', 'что', 'финансирование', 'программы', 'мир', 'закрыто', 'но', 'конструкторы', 'не', 'спешат', 'топить', 'ее_в', 'тихом_океане', 'надеясь', 'на', 'изыскание', 'внебюджетных', 'средств.они', 'надеются_что', 'правительство', 'оплатит', 'финальную', 'экспедицию', 'на_мир', 'в_феврале', 'или', 'марте_2000', 'года']\n",
            "['однако', 'власти', 'пока_не', 'могут', 'официально', 'подтвердить', 'данные', 'которые', 'сообщил_о', 'себе', 'задержанный', 'так_как', 'никаких', 'записей', 'о_его', 'местожительстве', 'и', 'прошлой', 'работе', 'нет.сегодня', 'после', '1', 'часа_ночи', 'дежурная', 'смена', 'цупа', 'послаласигнал', 'на', 'выключение', 'главного', 'бортового', 'компьютера', 'станции_мир', 'результате_этого', 'работа', 'всех', 'элементов', 'системы', 'управления', 'движением', 'орбитального', 'комплекса', 'была_остановлена']\n",
            "['по_данным', 'majestic', 'wine', 'закупки', 'обычных', 'вин', 'также', 'превзошли', 'все', 'ожидания', 'британцы', 'покупают', 'вина', 'больше', 'и_более', 'дорогих', 'сортов', 'нежели', 'перед', 'рождеством', 'прошлого_года']\n",
            "\n",
            "scoring: npmi; min_count: 10; threshold: -0.25\n",
            "['gazeta', 'ru', 'подробно', 'писала', 'о_том', 'что', 'финансирование', 'программы', 'мир', 'закрыто', 'но', 'конструкторы', 'не', 'спешат', 'топить', 'ее_в', 'тихом_океане', 'надеясь', 'на', 'изыскание', 'внебюджетных', 'средств.они', 'надеются_что', 'правительство', 'оплатит', 'финальную', 'экспедицию', 'на_мир', 'в_феврале', 'или', 'марте_2000', 'года']\n",
            "['однако', 'власти', 'пока_не', 'могут', 'официально', 'подтвердить', 'данные', 'которые', 'сообщил_о', 'себе', 'задержанный', 'так_как', 'никаких', 'записей', 'о_его', 'местожительстве', 'и', 'прошлой', 'работе', 'нет.сегодня', 'после', '1', 'часа_ночи', 'дежурная', 'смена', 'цупа', 'послаласигнал', 'на', 'выключение', 'главного', 'бортового', 'компьютера', 'станции_мир', 'результате_этого', 'работа', 'всех', 'элементов', 'системы', 'управления', 'движением', 'орбитального', 'комплекса', 'была_остановлена']\n",
            "['по_данным', 'majestic', 'wine', 'закупки', 'обычных', 'вин', 'также', 'превзошли', 'все', 'ожидания', 'британцы', 'покупают', 'вина', 'больше', 'и_более', 'дорогих', 'сортов', 'нежели', 'перед', 'рождеством', 'прошлого_года']\n",
            "\n",
            "scoring: npmi; min_count: 10; threshold: 0\n",
            "['gazeta', 'ru', 'подробно', 'писала', 'о_том', 'что', 'финансирование', 'программы', 'мир', 'закрыто', 'но', 'конструкторы', 'не', 'спешат', 'топить', 'ее', 'в_тихом', 'океане', 'надеясь', 'на', 'изыскание', 'внебюджетных', 'средств.они', 'надеются_что', 'правительство', 'оплатит', 'финальную', 'экспедицию', 'на_мир', 'в_феврале', 'или', 'марте_2000', 'года']\n",
            "['однако', 'власти', 'пока_не', 'могут', 'официально', 'подтвердить', 'данные', 'которые', 'сообщил_о', 'себе', 'задержанный', 'так_как', 'никаких', 'записей', 'о_его', 'местожительстве', 'и', 'прошлой', 'работе', 'нет.сегодня', 'после', '1', 'часа_ночи', 'дежурная', 'смена', 'цупа', 'послаласигнал', 'на', 'выключение', 'главного', 'бортового', 'компьютера', 'станции_мир', 'результате_этого', 'работа', 'всех', 'элементов', 'системы', 'управления', 'движением', 'орбитального', 'комплекса', 'была_остановлена']\n",
            "['по_данным', 'majestic', 'wine', 'закупки', 'обычных', 'вин', 'также', 'превзошли', 'все', 'ожидания', 'британцы', 'покупают', 'вина', 'больше', 'и_более', 'дорогих', 'сортов', 'нежели', 'перед', 'рождеством', 'прошлого_года']\n",
            "\n",
            "scoring: npmi; min_count: 10; threshold: 0.25\n",
            "['gazeta', 'ru', 'подробно', 'писала', 'о_том', 'что', 'финансирование', 'программы', 'мир', 'закрыто', 'но', 'конструкторы', 'не', 'спешат', 'топить', 'ее', 'в', 'тихом_океане', 'надеясь', 'на', 'изыскание', 'внебюджетных', 'средств.они', 'надеются_что', 'правительство', 'оплатит', 'финальную', 'экспедицию', 'на', 'мир', 'в_феврале', 'или', 'марте_2000', 'года']\n",
            "['однако', 'власти', 'пока_не', 'могут', 'официально', 'подтвердить', 'данные', 'которые', 'сообщил', 'о_себе', 'задержанный', 'так_как', 'никаких', 'записей', 'о', 'его', 'местожительстве', 'и', 'прошлой', 'работе', 'нет.сегодня', 'после', '1', 'часа_ночи', 'дежурная', 'смена', 'цупа', 'послаласигнал', 'на', 'выключение', 'главного', 'бортового', 'компьютера', 'станции_мир', 'результате', 'этого', 'работа', 'всех', 'элементов', 'системы', 'управления', 'движением', 'орбитального', 'комплекса', 'была_остановлена']\n",
            "['по_данным', 'majestic', 'wine', 'закупки', 'обычных', 'вин', 'также', 'превзошли', 'все', 'ожидания', 'британцы', 'покупают', 'вина', 'больше', 'и', 'более', 'дорогих', 'сортов', 'нежели', 'перед', 'рождеством', 'прошлого_года']\n",
            "\n",
            "scoring: npmi; min_count: 10; threshold: 0.5\n",
            "['gazeta', 'ru', 'подробно', 'писала', 'о_том', 'что', 'финансирование', 'программы', 'мир', 'закрыто', 'но', 'конструкторы', 'не', 'спешат', 'топить', 'ее', 'в', 'тихом_океане', 'надеясь', 'на', 'изыскание', 'внебюджетных', 'средств.они', 'надеются', 'что', 'правительство', 'оплатит', 'финальную', 'экспедицию', 'на', 'мир', 'в', 'феврале', 'или', 'марте', '2000_года']\n",
            "['однако', 'власти', 'пока', 'не', 'могут', 'официально', 'подтвердить', 'данные', 'которые', 'сообщил', 'о', 'себе', 'задержанный', 'так', 'как', 'никаких', 'записей', 'о', 'его', 'местожительстве', 'и', 'прошлой', 'работе', 'нет.сегодня', 'после', '1', 'часа_ночи', 'дежурная', 'смена', 'цупа', 'послаласигнал', 'на', 'выключение', 'главного', 'бортового', 'компьютера', 'станции_мир', 'результате', 'этого', 'работа', 'всех', 'элементов', 'системы', 'управления', 'движением', 'орбитального', 'комплекса', 'была_остановлена']\n",
            "['по_данным', 'majestic', 'wine', 'закупки', 'обычных', 'вин', 'также', 'превзошли', 'все', 'ожидания', 'британцы', 'покупают', 'вина', 'больше', 'и', 'более', 'дорогих', 'сортов', 'нежели', 'перед', 'рождеством', 'прошлого_года']\n",
            "\n",
            "scoring: npmi; min_count: 20; threshold: -0.5\n",
            "['gazeta', 'ru', 'подробно', 'писала', 'о_том', 'что', 'финансирование', 'программы', 'мир', 'закрыто', 'но', 'конструкторы', 'не', 'спешат', 'топить', 'ее_в', 'тихом', 'океане', 'надеясь', 'на', 'изыскание', 'внебюджетных', 'средств.они', 'надеются_что', 'правительство', 'оплатит', 'финальную', 'экспедицию', 'на', 'мир', 'в_феврале', 'или', 'марте', '2000_года']\n",
            "['однако', 'власти', 'пока_не', 'могут', 'официально', 'подтвердить', 'данные', 'которые', 'сообщил_о', 'себе', 'задержанный', 'так_как', 'никаких', 'записей', 'о_его', 'местожительстве', 'и', 'прошлой', 'работе', 'нет.сегодня', 'после', '1', 'часа_ночи', 'дежурная', 'смена', 'цупа', 'послаласигнал', 'на', 'выключение', 'главного', 'бортового', 'компьютера', 'станции_мир', 'результате', 'этого', 'работа', 'всех', 'элементов', 'системы', 'управления', 'движением', 'орбитального', 'комплекса', 'была', 'остановлена']\n",
            "['по_данным', 'majestic', 'wine', 'закупки', 'обычных', 'вин', 'также', 'превзошли', 'все', 'ожидания', 'британцы', 'покупают', 'вина', 'больше', 'и_более', 'дорогих', 'сортов', 'нежели', 'перед', 'рождеством', 'прошлого_года']\n",
            "\n",
            "scoring: npmi; min_count: 20; threshold: -0.25\n",
            "['gazeta', 'ru', 'подробно', 'писала', 'о_том', 'что', 'финансирование', 'программы', 'мир', 'закрыто', 'но', 'конструкторы', 'не', 'спешат', 'топить', 'ее_в', 'тихом', 'океане', 'надеясь', 'на', 'изыскание', 'внебюджетных', 'средств.они', 'надеются_что', 'правительство', 'оплатит', 'финальную', 'экспедицию', 'на', 'мир', 'в_феврале', 'или', 'марте', '2000_года']\n",
            "['однако', 'власти', 'пока_не', 'могут', 'официально', 'подтвердить', 'данные', 'которые', 'сообщил_о', 'себе', 'задержанный', 'так_как', 'никаких', 'записей', 'о_его', 'местожительстве', 'и', 'прошлой', 'работе', 'нет.сегодня', 'после', '1', 'часа_ночи', 'дежурная', 'смена', 'цупа', 'послаласигнал', 'на', 'выключение', 'главного', 'бортового', 'компьютера', 'станции_мир', 'результате', 'этого', 'работа', 'всех', 'элементов', 'системы', 'управления', 'движением', 'орбитального', 'комплекса', 'была', 'остановлена']\n",
            "['по_данным', 'majestic', 'wine', 'закупки', 'обычных', 'вин', 'также', 'превзошли', 'все', 'ожидания', 'британцы', 'покупают', 'вина', 'больше', 'и_более', 'дорогих', 'сортов', 'нежели', 'перед', 'рождеством', 'прошлого_года']\n",
            "\n",
            "scoring: npmi; min_count: 20; threshold: 0\n",
            "['gazeta', 'ru', 'подробно', 'писала', 'о_том', 'что', 'финансирование', 'программы', 'мир', 'закрыто', 'но', 'конструкторы', 'не', 'спешат', 'топить', 'ее', 'в', 'тихом', 'океане', 'надеясь', 'на', 'изыскание', 'внебюджетных', 'средств.они', 'надеются_что', 'правительство', 'оплатит', 'финальную', 'экспедицию', 'на', 'мир', 'в_феврале', 'или', 'марте', '2000_года']\n",
            "['однако', 'власти', 'пока_не', 'могут', 'официально', 'подтвердить', 'данные', 'которые', 'сообщил_о', 'себе', 'задержанный', 'так_как', 'никаких', 'записей', 'о_его', 'местожительстве', 'и', 'прошлой', 'работе', 'нет.сегодня', 'после', '1', 'часа_ночи', 'дежурная', 'смена', 'цупа', 'послаласигнал', 'на', 'выключение', 'главного', 'бортового', 'компьютера', 'станции_мир', 'результате', 'этого', 'работа', 'всех', 'элементов', 'системы', 'управления', 'движением', 'орбитального', 'комплекса', 'была', 'остановлена']\n",
            "['по_данным', 'majestic', 'wine', 'закупки', 'обычных', 'вин', 'также', 'превзошли', 'все', 'ожидания', 'британцы', 'покупают', 'вина', 'больше', 'и_более', 'дорогих', 'сортов', 'нежели', 'перед', 'рождеством', 'прошлого_года']\n",
            "\n",
            "scoring: npmi; min_count: 20; threshold: 0.25\n",
            "['gazeta', 'ru', 'подробно', 'писала', 'о_том', 'что', 'финансирование', 'программы', 'мир', 'закрыто', 'но', 'конструкторы', 'не', 'спешат', 'топить', 'ее', 'в', 'тихом', 'океане', 'надеясь', 'на', 'изыскание', 'внебюджетных', 'средств.они', 'надеются_что', 'правительство', 'оплатит', 'финальную', 'экспедицию', 'на', 'мир', 'в_феврале', 'или', 'марте', '2000_года']\n",
            "['однако', 'власти', 'пока_не', 'могут', 'официально', 'подтвердить', 'данные', 'которые', 'сообщил', 'о_себе', 'задержанный', 'так_как', 'никаких', 'записей', 'о', 'его', 'местожительстве', 'и', 'прошлой', 'работе', 'нет.сегодня', 'после', '1', 'часа_ночи', 'дежурная', 'смена', 'цупа', 'послаласигнал', 'на', 'выключение', 'главного', 'бортового', 'компьютера', 'станции_мир', 'результате', 'этого', 'работа', 'всех', 'элементов', 'системы', 'управления', 'движением', 'орбитального', 'комплекса', 'была', 'остановлена']\n",
            "['по_данным', 'majestic', 'wine', 'закупки', 'обычных', 'вин', 'также', 'превзошли', 'все', 'ожидания', 'британцы', 'покупают', 'вина', 'больше', 'и', 'более', 'дорогих', 'сортов', 'нежели', 'перед', 'рождеством', 'прошлого_года']\n",
            "\n",
            "scoring: npmi; min_count: 20; threshold: 0.5\n",
            "['gazeta', 'ru', 'подробно', 'писала', 'о_том', 'что', 'финансирование', 'программы', 'мир', 'закрыто', 'но', 'конструкторы', 'не', 'спешат', 'топить', 'ее', 'в', 'тихом', 'океане', 'надеясь', 'на', 'изыскание', 'внебюджетных', 'средств.они', 'надеются', 'что', 'правительство', 'оплатит', 'финальную', 'экспедицию', 'на', 'мир', 'в', 'феврале', 'или', 'марте', '2000_года']\n",
            "['однако', 'власти', 'пока', 'не', 'могут', 'официально', 'подтвердить', 'данные', 'которые', 'сообщил', 'о', 'себе', 'задержанный', 'так', 'как', 'никаких', 'записей', 'о', 'его', 'местожительстве', 'и', 'прошлой', 'работе', 'нет.сегодня', 'после', '1', 'часа_ночи', 'дежурная', 'смена', 'цупа', 'послаласигнал', 'на', 'выключение', 'главного', 'бортового', 'компьютера', 'станции_мир', 'результате', 'этого', 'работа', 'всех', 'элементов', 'системы', 'управления', 'движением', 'орбитального', 'комплекса', 'была', 'остановлена']\n",
            "['по_данным', 'majestic', 'wine', 'закупки', 'обычных', 'вин', 'также', 'превзошли', 'все', 'ожидания', 'британцы', 'покупают', 'вина', 'больше', 'и', 'более', 'дорогих', 'сортов', 'нежели', 'перед', 'рождеством', 'прошлого_года']\n",
            "\n",
            "scoring: npmi; min_count: 50; threshold: -0.5\n",
            "['gazeta', 'ru', 'подробно', 'писала', 'о_том', 'что', 'финансирование', 'программы', 'мир', 'закрыто', 'но', 'конструкторы', 'не', 'спешат', 'топить', 'ее', 'в', 'тихом', 'океане', 'надеясь', 'на', 'изыскание', 'внебюджетных', 'средств.они', 'надеются', 'что_правительство', 'оплатит', 'финальную', 'экспедицию', 'на', 'мир', 'в_феврале', 'или', 'марте', '2000_года']\n",
            "['однако', 'власти', 'пока_не', 'могут', 'официально', 'подтвердить', 'данные', 'которые', 'сообщил_о', 'себе', 'задержанный', 'так_как', 'никаких', 'записей', 'о_его', 'местожительстве', 'и', 'прошлой', 'работе', 'нет.сегодня', 'после', '1', 'часа', 'ночи', 'дежурная', 'смена', 'цупа', 'послаласигнал', 'на', 'выключение', 'главного', 'бортового', 'компьютера', 'станции_мир', 'результате', 'этого', 'работа', 'всех', 'элементов', 'системы', 'управления', 'движением', 'орбитального', 'комплекса', 'была', 'остановлена']\n",
            "['по_данным', 'majestic', 'wine', 'закупки', 'обычных', 'вин', 'также', 'превзошли', 'все', 'ожидания', 'британцы', 'покупают', 'вина', 'больше', 'и_более', 'дорогих', 'сортов', 'нежели', 'перед', 'рождеством', 'прошлого_года']\n",
            "\n",
            "scoring: npmi; min_count: 50; threshold: -0.25\n",
            "['gazeta', 'ru', 'подробно', 'писала', 'о_том', 'что', 'финансирование', 'программы', 'мир', 'закрыто', 'но', 'конструкторы', 'не', 'спешат', 'топить', 'ее', 'в', 'тихом', 'океане', 'надеясь', 'на', 'изыскание', 'внебюджетных', 'средств.они', 'надеются', 'что_правительство', 'оплатит', 'финальную', 'экспедицию', 'на', 'мир', 'в_феврале', 'или', 'марте', '2000_года']\n",
            "['однако', 'власти', 'пока_не', 'могут', 'официально', 'подтвердить', 'данные', 'которые', 'сообщил_о', 'себе', 'задержанный', 'так_как', 'никаких', 'записей', 'о_его', 'местожительстве', 'и', 'прошлой', 'работе', 'нет.сегодня', 'после', '1', 'часа', 'ночи', 'дежурная', 'смена', 'цупа', 'послаласигнал', 'на', 'выключение', 'главного', 'бортового', 'компьютера', 'станции_мир', 'результате', 'этого', 'работа', 'всех', 'элементов', 'системы', 'управления', 'движением', 'орбитального', 'комплекса', 'была', 'остановлена']\n",
            "['по_данным', 'majestic', 'wine', 'закупки', 'обычных', 'вин', 'также', 'превзошли', 'все', 'ожидания', 'британцы', 'покупают', 'вина', 'больше', 'и_более', 'дорогих', 'сортов', 'нежели', 'перед', 'рождеством', 'прошлого_года']\n",
            "\n",
            "scoring: npmi; min_count: 50; threshold: 0\n",
            "['gazeta', 'ru', 'подробно', 'писала', 'о_том', 'что', 'финансирование', 'программы', 'мир', 'закрыто', 'но', 'конструкторы', 'не', 'спешат', 'топить', 'ее', 'в', 'тихом', 'океане', 'надеясь', 'на', 'изыскание', 'внебюджетных', 'средств.они', 'надеются', 'что_правительство', 'оплатит', 'финальную', 'экспедицию', 'на', 'мир', 'в_феврале', 'или', 'марте', '2000_года']\n",
            "['однако', 'власти', 'пока_не', 'могут', 'официально', 'подтвердить', 'данные', 'которые', 'сообщил_о', 'себе', 'задержанный', 'так_как', 'никаких', 'записей', 'о_его', 'местожительстве', 'и', 'прошлой', 'работе', 'нет.сегодня', 'после', '1', 'часа', 'ночи', 'дежурная', 'смена', 'цупа', 'послаласигнал', 'на', 'выключение', 'главного', 'бортового', 'компьютера', 'станции_мир', 'результате', 'этого', 'работа', 'всех', 'элементов', 'системы', 'управления', 'движением', 'орбитального', 'комплекса', 'была', 'остановлена']\n",
            "['по_данным', 'majestic', 'wine', 'закупки', 'обычных', 'вин', 'также', 'превзошли', 'все', 'ожидания', 'британцы', 'покупают', 'вина', 'больше', 'и_более', 'дорогих', 'сортов', 'нежели', 'перед', 'рождеством', 'прошлого_года']\n",
            "\n",
            "scoring: npmi; min_count: 50; threshold: 0.25\n",
            "['gazeta', 'ru', 'подробно', 'писала', 'о_том', 'что', 'финансирование', 'программы', 'мир', 'закрыто', 'но', 'конструкторы', 'не', 'спешат', 'топить', 'ее', 'в', 'тихом', 'океане', 'надеясь', 'на', 'изыскание', 'внебюджетных', 'средств.они', 'надеются', 'что', 'правительство', 'оплатит', 'финальную', 'экспедицию', 'на', 'мир', 'в_феврале', 'или', 'марте', '2000_года']\n",
            "['однако', 'власти', 'пока_не', 'могут', 'официально', 'подтвердить', 'данные', 'которые', 'сообщил', 'о', 'себе', 'задержанный', 'так_как', 'никаких', 'записей', 'о', 'его', 'местожительстве', 'и', 'прошлой', 'работе', 'нет.сегодня', 'после', '1', 'часа', 'ночи', 'дежурная', 'смена', 'цупа', 'послаласигнал', 'на', 'выключение', 'главного', 'бортового', 'компьютера', 'станции_мир', 'результате', 'этого', 'работа', 'всех', 'элементов', 'системы', 'управления', 'движением', 'орбитального', 'комплекса', 'была', 'остановлена']\n",
            "['по_данным', 'majestic', 'wine', 'закупки', 'обычных', 'вин', 'также', 'превзошли', 'все', 'ожидания', 'британцы', 'покупают', 'вина', 'больше', 'и', 'более', 'дорогих', 'сортов', 'нежели', 'перед', 'рождеством', 'прошлого_года']\n",
            "\n",
            "scoring: npmi; min_count: 50; threshold: 0.5\n",
            "['gazeta', 'ru', 'подробно', 'писала', 'о_том', 'что', 'финансирование', 'программы', 'мир', 'закрыто', 'но', 'конструкторы', 'не', 'спешат', 'топить', 'ее', 'в', 'тихом', 'океане', 'надеясь', 'на', 'изыскание', 'внебюджетных', 'средств.они', 'надеются', 'что', 'правительство', 'оплатит', 'финальную', 'экспедицию', 'на', 'мир', 'в', 'феврале', 'или', 'марте', '2000_года']\n",
            "['однако', 'власти', 'пока', 'не', 'могут', 'официально', 'подтвердить', 'данные', 'которые', 'сообщил', 'о', 'себе', 'задержанный', 'так', 'как', 'никаких', 'записей', 'о', 'его', 'местожительстве', 'и', 'прошлой', 'работе', 'нет.сегодня', 'после', '1', 'часа', 'ночи', 'дежурная', 'смена', 'цупа', 'послаласигнал', 'на', 'выключение', 'главного', 'бортового', 'компьютера', 'станции_мир', 'результате', 'этого', 'работа', 'всех', 'элементов', 'системы', 'управления', 'движением', 'орбитального', 'комплекса', 'была', 'остановлена']\n",
            "['по_данным', 'majestic', 'wine', 'закупки', 'обычных', 'вин', 'также', 'превзошли', 'все', 'ожидания', 'британцы', 'покупают', 'вина', 'больше', 'и', 'более', 'дорогих', 'сортов', 'нежели', 'перед', 'рождеством', 'прошлого_года']\n",
            "\n"
          ]
        }
      ],
      "source": [
        "for min_count in min_counts:\n",
        "    for threshold in thresholds_normalized:\n",
        "        ph = gensim.models.Phrases(\n",
        "            tokenized_sentences,\n",
        "            min_count=min_count,\n",
        "            threshold=threshold,\n",
        "            scoring='npmi'\n",
        "        )\n",
        "        p = gensim.models.phrases.Phraser(ph)\n",
        "        print(f'scoring: npmi; min_count: {min_count}; threshold: {threshold}')\n",
        "        print(p[tokenized_sentences[39]])\n",
        "        print(p[tokenized_sentences[1258]])\n",
        "        print(p[tokenized_sentences[16743]])\n",
        "        print()"
      ]
    },
    {
      "cell_type": "code",
      "source": [
        "for min_count in min_counts:\n",
        "    for threshold in thresholds_default:\n",
        "        ph = gensim.models.Phrases(\n",
        "            tokenized_sentences,\n",
        "            min_count=min_count,\n",
        "            threshold=threshold,\n",
        "            scoring='default'\n",
        "        )\n",
        "        p = gensim.models.phrases.Phraser(ph)\n",
        "        print(f'scoring: default; min_count: {min_count}; threshold: {threshold}')\n",
        "        print(p[tokenized_sentences[39]])\n",
        "        print(p[tokenized_sentences[1258]])\n",
        "        print(p[tokenized_sentences[16743]])\n",
        "        print()"
      ],
      "metadata": {
        "colab": {
          "base_uri": "https://localhost:8080/"
        },
        "id": "vkoK2bg-Ale0",
        "outputId": "f3a0d110-80f2-45d8-eb51-4db8fa2d745b"
      },
      "id": "vkoK2bg-Ale0",
      "execution_count": 25,
      "outputs": [
        {
          "output_type": "stream",
          "name": "stdout",
          "text": [
            "scoring: default; min_count: 1; threshold: 10\n",
            "['gazeta_ru', 'подробно', 'писала_о', 'том_что', 'финансирование_программы', 'мир', 'закрыто', 'но', 'конструкторы', 'не_спешат', 'топить', 'ее', 'в', 'тихом_океане', 'надеясь', 'на', 'изыскание', 'внебюджетных', 'средств.они', 'надеются_что', 'правительство', 'оплатит', 'финальную', 'экспедицию_на', 'мир', 'в_феврале', 'или', 'марте_2000', 'года']\n",
            "['однако', 'власти', 'пока_не', 'могут', 'официально', 'подтвердить', 'данные', 'которые', 'сообщил', 'о_себе', 'задержанный', 'так_как', 'никаких', 'записей', 'о', 'его', 'местожительстве', 'и', 'прошлой', 'работе', 'нет.сегодня', 'после', '1', 'часа_ночи', 'дежурная', 'смена', 'цупа', 'послаласигнал', 'на', 'выключение', 'главного', 'бортового', 'компьютера', 'станции_мир', 'результате', 'этого', 'работа_всех', 'элементов_системы', 'управления', 'движением', 'орбитального_комплекса', 'была_остановлена']\n",
            "['по_данным', 'majestic_wine', 'закупки', 'обычных', 'вин', 'также', 'превзошли', 'все_ожидания', 'британцы', 'покупают', 'вина', 'больше', 'и', 'более_дорогих', 'сортов', 'нежели', 'перед', 'рождеством', 'прошлого_года']\n",
            "\n",
            "scoring: default; min_count: 1; threshold: 25\n",
            "['gazeta_ru', 'подробно', 'писала', 'о_том', 'что', 'финансирование_программы', 'мир', 'закрыто', 'но', 'конструкторы', 'не_спешат', 'топить', 'ее', 'в', 'тихом_океане', 'надеясь', 'на', 'изыскание', 'внебюджетных', 'средств.они', 'надеются_что', 'правительство', 'оплатит', 'финальную', 'экспедицию', 'на', 'мир', 'в', 'феврале', 'или', 'марте_2000', 'года']\n",
            "['однако', 'власти', 'пока_не', 'могут', 'официально', 'подтвердить', 'данные', 'которые', 'сообщил', 'о', 'себе', 'задержанный', 'так_как', 'никаких', 'записей', 'о', 'его', 'местожительстве', 'и', 'прошлой', 'работе', 'нет.сегодня', 'после', '1', 'часа_ночи', 'дежурная', 'смена', 'цупа', 'послаласигнал', 'на', 'выключение', 'главного', 'бортового', 'компьютера', 'станции_мир', 'результате', 'этого', 'работа', 'всех', 'элементов_системы', 'управления', 'движением', 'орбитального_комплекса', 'была_остановлена']\n",
            "['по_данным', 'majestic_wine', 'закупки', 'обычных', 'вин', 'также', 'превзошли', 'все_ожидания', 'британцы', 'покупают', 'вина', 'больше', 'и', 'более_дорогих', 'сортов', 'нежели', 'перед', 'рождеством', 'прошлого_года']\n",
            "\n",
            "scoring: default; min_count: 1; threshold: 50\n",
            "['gazeta_ru', 'подробно', 'писала', 'о_том', 'что', 'финансирование', 'программы', 'мир', 'закрыто', 'но', 'конструкторы', 'не', 'спешат', 'топить', 'ее', 'в', 'тихом_океане', 'надеясь', 'на', 'изыскание', 'внебюджетных', 'средств.они', 'надеются', 'что', 'правительство', 'оплатит', 'финальную', 'экспедицию', 'на', 'мир', 'в', 'феврале', 'или', 'марте_2000', 'года']\n",
            "['однако', 'власти', 'пока', 'не', 'могут', 'официально', 'подтвердить', 'данные', 'которые', 'сообщил', 'о', 'себе', 'задержанный', 'так', 'как', 'никаких', 'записей', 'о', 'его', 'местожительстве', 'и', 'прошлой', 'работе', 'нет.сегодня', 'после', '1', 'часа_ночи', 'дежурная', 'смена', 'цупа', 'послаласигнал', 'на', 'выключение', 'главного', 'бортового', 'компьютера', 'станции_мир', 'результате', 'этого', 'работа', 'всех', 'элементов_системы', 'управления', 'движением', 'орбитального_комплекса', 'была_остановлена']\n",
            "['по', 'данным', 'majestic_wine', 'закупки', 'обычных', 'вин', 'также', 'превзошли', 'все', 'ожидания', 'британцы', 'покупают', 'вина', 'больше', 'и', 'более_дорогих', 'сортов', 'нежели', 'перед', 'рождеством', 'прошлого_года']\n",
            "\n",
            "scoring: default; min_count: 1; threshold: 100\n",
            "['gazeta_ru', 'подробно', 'писала', 'о', 'том', 'что', 'финансирование', 'программы', 'мир', 'закрыто', 'но', 'конструкторы', 'не', 'спешат', 'топить', 'ее', 'в', 'тихом_океане', 'надеясь', 'на', 'изыскание', 'внебюджетных', 'средств.они', 'надеются', 'что', 'правительство', 'оплатит', 'финальную', 'экспедицию', 'на', 'мир', 'в', 'феврале', 'или', 'марте', '2000_года']\n",
            "['однако', 'власти', 'пока', 'не', 'могут', 'официально', 'подтвердить', 'данные', 'которые', 'сообщил', 'о', 'себе', 'задержанный', 'так', 'как', 'никаких', 'записей', 'о', 'его', 'местожительстве', 'и', 'прошлой', 'работе', 'нет.сегодня', 'после', '1', 'часа_ночи', 'дежурная', 'смена', 'цупа', 'послаласигнал', 'на', 'выключение', 'главного', 'бортового', 'компьютера', 'станции_мир', 'результате', 'этого', 'работа', 'всех', 'элементов', 'системы', 'управления', 'движением', 'орбитального_комплекса', 'была_остановлена']\n",
            "['по', 'данным', 'majestic_wine', 'закупки', 'обычных', 'вин', 'также', 'превзошли', 'все', 'ожидания', 'британцы', 'покупают', 'вина', 'больше', 'и', 'более', 'дорогих', 'сортов', 'нежели', 'перед', 'рождеством', 'прошлого_года']\n",
            "\n",
            "scoring: default; min_count: 1; threshold: 250\n",
            "['gazeta_ru', 'подробно', 'писала', 'о', 'том', 'что', 'финансирование', 'программы', 'мир', 'закрыто', 'но', 'конструкторы', 'не', 'спешат', 'топить', 'ее', 'в', 'тихом_океане', 'надеясь', 'на', 'изыскание', 'внебюджетных', 'средств.они', 'надеются', 'что', 'правительство', 'оплатит', 'финальную', 'экспедицию', 'на', 'мир', 'в', 'феврале', 'или', 'марте', '2000', 'года']\n",
            "['однако', 'власти', 'пока', 'не', 'могут', 'официально', 'подтвердить', 'данные', 'которые', 'сообщил', 'о', 'себе', 'задержанный', 'так', 'как', 'никаких', 'записей', 'о', 'его', 'местожительстве', 'и', 'прошлой', 'работе', 'нет.сегодня', 'после', '1', 'часа_ночи', 'дежурная', 'смена', 'цупа', 'послаласигнал', 'на', 'выключение', 'главного', 'бортового', 'компьютера', 'станции_мир', 'результате', 'этого', 'работа', 'всех', 'элементов', 'системы', 'управления', 'движением', 'орбитального_комплекса', 'была_остановлена']\n",
            "['по', 'данным', 'majestic_wine', 'закупки', 'обычных', 'вин', 'также', 'превзошли', 'все', 'ожидания', 'британцы', 'покупают', 'вина', 'больше', 'и', 'более', 'дорогих', 'сортов', 'нежели', 'перед', 'рождеством', 'прошлого', 'года']\n",
            "\n",
            "scoring: default; min_count: 2; threshold: 10\n",
            "['gazeta', 'ru', 'подробно', 'писала', 'о_том', 'что', 'финансирование_программы', 'мир', 'закрыто', 'но', 'конструкторы', 'не_спешат', 'топить', 'ее', 'в', 'тихом_океане', 'надеясь', 'на', 'изыскание', 'внебюджетных', 'средств.они', 'надеются_что', 'правительство', 'оплатит', 'финальную', 'экспедицию', 'на', 'мир', 'в_феврале', 'или', 'марте_2000', 'года']\n",
            "['однако', 'власти', 'пока_не', 'могут', 'официально', 'подтвердить', 'данные', 'которые', 'сообщил', 'о_себе', 'задержанный', 'так_как', 'никаких', 'записей', 'о', 'его', 'местожительстве', 'и', 'прошлой', 'работе', 'нет.сегодня', 'после', '1', 'часа_ночи', 'дежурная', 'смена', 'цупа', 'послаласигнал', 'на', 'выключение', 'главного', 'бортового', 'компьютера', 'станции_мир', 'результате', 'этого', 'работа', 'всех', 'элементов', 'системы_управления', 'движением', 'орбитального_комплекса', 'была_остановлена']\n",
            "['по_данным', 'majestic', 'wine', 'закупки', 'обычных', 'вин', 'также', 'превзошли', 'все_ожидания', 'британцы', 'покупают', 'вина', 'больше', 'и', 'более_дорогих', 'сортов', 'нежели', 'перед', 'рождеством', 'прошлого_года']\n",
            "\n",
            "scoring: default; min_count: 2; threshold: 25\n",
            "['gazeta', 'ru', 'подробно', 'писала', 'о_том', 'что', 'финансирование', 'программы', 'мир', 'закрыто', 'но', 'конструкторы', 'не', 'спешат', 'топить', 'ее', 'в', 'тихом_океане', 'надеясь', 'на', 'изыскание', 'внебюджетных', 'средств.они', 'надеются_что', 'правительство', 'оплатит', 'финальную', 'экспедицию', 'на', 'мир', 'в', 'феврале', 'или', 'марте_2000', 'года']\n",
            "['однако', 'власти', 'пока_не', 'могут', 'официально', 'подтвердить', 'данные', 'которые', 'сообщил', 'о', 'себе', 'задержанный', 'так_как', 'никаких', 'записей', 'о', 'его', 'местожительстве', 'и', 'прошлой', 'работе', 'нет.сегодня', 'после', '1', 'часа_ночи', 'дежурная', 'смена', 'цупа', 'послаласигнал', 'на', 'выключение', 'главного', 'бортового', 'компьютера', 'станции_мир', 'результате', 'этого', 'работа', 'всех', 'элементов', 'системы', 'управления', 'движением', 'орбитального_комплекса', 'была_остановлена']\n",
            "['по_данным', 'majestic', 'wine', 'закупки', 'обычных', 'вин', 'также', 'превзошли', 'все', 'ожидания', 'британцы', 'покупают', 'вина', 'больше', 'и', 'более_дорогих', 'сортов', 'нежели', 'перед', 'рождеством', 'прошлого_года']\n",
            "\n",
            "scoring: default; min_count: 2; threshold: 50\n",
            "['gazeta', 'ru', 'подробно', 'писала', 'о_том', 'что', 'финансирование', 'программы', 'мир', 'закрыто', 'но', 'конструкторы', 'не', 'спешат', 'топить', 'ее', 'в', 'тихом_океане', 'надеясь', 'на', 'изыскание', 'внебюджетных', 'средств.они', 'надеются', 'что', 'правительство', 'оплатит', 'финальную', 'экспедицию', 'на', 'мир', 'в', 'феврале', 'или', 'марте_2000', 'года']\n",
            "['однако', 'власти', 'пока', 'не', 'могут', 'официально', 'подтвердить', 'данные', 'которые', 'сообщил', 'о', 'себе', 'задержанный', 'так', 'как', 'никаких', 'записей', 'о', 'его', 'местожительстве', 'и', 'прошлой', 'работе', 'нет.сегодня', 'после', '1', 'часа_ночи', 'дежурная', 'смена', 'цупа', 'послаласигнал', 'на', 'выключение', 'главного', 'бортового', 'компьютера', 'станции_мир', 'результате', 'этого', 'работа', 'всех', 'элементов', 'системы', 'управления', 'движением', 'орбитального_комплекса', 'была_остановлена']\n",
            "['по', 'данным', 'majestic', 'wine', 'закупки', 'обычных', 'вин', 'также', 'превзошли', 'все', 'ожидания', 'британцы', 'покупают', 'вина', 'больше', 'и', 'более_дорогих', 'сортов', 'нежели', 'перед', 'рождеством', 'прошлого_года']\n",
            "\n",
            "scoring: default; min_count: 2; threshold: 100\n",
            "['gazeta', 'ru', 'подробно', 'писала', 'о', 'том', 'что', 'финансирование', 'программы', 'мир', 'закрыто', 'но', 'конструкторы', 'не', 'спешат', 'топить', 'ее', 'в', 'тихом_океане', 'надеясь', 'на', 'изыскание', 'внебюджетных', 'средств.они', 'надеются', 'что', 'правительство', 'оплатит', 'финальную', 'экспедицию', 'на', 'мир', 'в', 'феврале', 'или', 'марте', '2000_года']\n",
            "['однако', 'власти', 'пока', 'не', 'могут', 'официально', 'подтвердить', 'данные', 'которые', 'сообщил', 'о', 'себе', 'задержанный', 'так', 'как', 'никаких', 'записей', 'о', 'его', 'местожительстве', 'и', 'прошлой', 'работе', 'нет.сегодня', 'после', '1', 'часа_ночи', 'дежурная', 'смена', 'цупа', 'послаласигнал', 'на', 'выключение', 'главного', 'бортового', 'компьютера', 'станции_мир', 'результате', 'этого', 'работа', 'всех', 'элементов', 'системы', 'управления', 'движением', 'орбитального_комплекса', 'была_остановлена']\n",
            "['по', 'данным', 'majestic', 'wine', 'закупки', 'обычных', 'вин', 'также', 'превзошли', 'все', 'ожидания', 'британцы', 'покупают', 'вина', 'больше', 'и', 'более', 'дорогих', 'сортов', 'нежели', 'перед', 'рождеством', 'прошлого_года']\n",
            "\n",
            "scoring: default; min_count: 2; threshold: 250\n",
            "['gazeta', 'ru', 'подробно', 'писала', 'о', 'том', 'что', 'финансирование', 'программы', 'мир', 'закрыто', 'но', 'конструкторы', 'не', 'спешат', 'топить', 'ее', 'в', 'тихом_океане', 'надеясь', 'на', 'изыскание', 'внебюджетных', 'средств.они', 'надеются', 'что', 'правительство', 'оплатит', 'финальную', 'экспедицию', 'на', 'мир', 'в', 'феврале', 'или', 'марте', '2000', 'года']\n",
            "['однако', 'власти', 'пока', 'не', 'могут', 'официально', 'подтвердить', 'данные', 'которые', 'сообщил', 'о', 'себе', 'задержанный', 'так', 'как', 'никаких', 'записей', 'о', 'его', 'местожительстве', 'и', 'прошлой', 'работе', 'нет.сегодня', 'после', '1', 'часа_ночи', 'дежурная', 'смена', 'цупа', 'послаласигнал', 'на', 'выключение', 'главного', 'бортового', 'компьютера', 'станции_мир', 'результате', 'этого', 'работа', 'всех', 'элементов', 'системы', 'управления', 'движением', 'орбитального_комплекса', 'была_остановлена']\n",
            "['по', 'данным', 'majestic', 'wine', 'закупки', 'обычных', 'вин', 'также', 'превзошли', 'все', 'ожидания', 'британцы', 'покупают', 'вина', 'больше', 'и', 'более', 'дорогих', 'сортов', 'нежели', 'перед', 'рождеством', 'прошлого', 'года']\n",
            "\n",
            "scoring: default; min_count: 5; threshold: 10\n",
            "['gazeta', 'ru', 'подробно', 'писала', 'о_том', 'что', 'финансирование', 'программы', 'мир', 'закрыто', 'но', 'конструкторы', 'не', 'спешат', 'топить', 'ее', 'в', 'тихом_океане', 'надеясь', 'на', 'изыскание', 'внебюджетных', 'средств.они', 'надеются_что', 'правительство', 'оплатит', 'финальную', 'экспедицию', 'на', 'мир', 'в_феврале', 'или', 'марте_2000', 'года']\n",
            "['однако', 'власти', 'пока_не', 'могут', 'официально', 'подтвердить', 'данные', 'которые', 'сообщил', 'о_себе', 'задержанный', 'так_как', 'никаких', 'записей', 'о', 'его', 'местожительстве', 'и', 'прошлой', 'работе', 'нет.сегодня', 'после', '1', 'часа_ночи', 'дежурная', 'смена', 'цупа', 'послаласигнал', 'на', 'выключение', 'главного', 'бортового', 'компьютера', 'станции_мир', 'результате', 'этого', 'работа', 'всех', 'элементов', 'системы', 'управления', 'движением', 'орбитального_комплекса', 'была_остановлена']\n",
            "['по_данным', 'majestic', 'wine', 'закупки', 'обычных', 'вин', 'также', 'превзошли', 'все', 'ожидания', 'британцы', 'покупают', 'вина', 'больше', 'и', 'более', 'дорогих', 'сортов', 'нежели', 'перед', 'рождеством', 'прошлого_года']\n",
            "\n",
            "scoring: default; min_count: 5; threshold: 25\n",
            "['gazeta', 'ru', 'подробно', 'писала', 'о_том', 'что', 'финансирование', 'программы', 'мир', 'закрыто', 'но', 'конструкторы', 'не', 'спешат', 'топить', 'ее', 'в', 'тихом_океане', 'надеясь', 'на', 'изыскание', 'внебюджетных', 'средств.они', 'надеются', 'что', 'правительство', 'оплатит', 'финальную', 'экспедицию', 'на', 'мир', 'в', 'феврале', 'или', 'марте_2000', 'года']\n",
            "['однако', 'власти', 'пока_не', 'могут', 'официально', 'подтвердить', 'данные', 'которые', 'сообщил', 'о', 'себе', 'задержанный', 'так_как', 'никаких', 'записей', 'о', 'его', 'местожительстве', 'и', 'прошлой', 'работе', 'нет.сегодня', 'после', '1', 'часа_ночи', 'дежурная', 'смена', 'цупа', 'послаласигнал', 'на', 'выключение', 'главного', 'бортового', 'компьютера', 'станции_мир', 'результате', 'этого', 'работа', 'всех', 'элементов', 'системы', 'управления', 'движением', 'орбитального_комплекса', 'была_остановлена']\n",
            "['по_данным', 'majestic', 'wine', 'закупки', 'обычных', 'вин', 'также', 'превзошли', 'все', 'ожидания', 'британцы', 'покупают', 'вина', 'больше', 'и', 'более', 'дорогих', 'сортов', 'нежели', 'перед', 'рождеством', 'прошлого_года']\n",
            "\n",
            "scoring: default; min_count: 5; threshold: 50\n",
            "['gazeta', 'ru', 'подробно', 'писала', 'о_том', 'что', 'финансирование', 'программы', 'мир', 'закрыто', 'но', 'конструкторы', 'не', 'спешат', 'топить', 'ее', 'в', 'тихом_океане', 'надеясь', 'на', 'изыскание', 'внебюджетных', 'средств.они', 'надеются', 'что', 'правительство', 'оплатит', 'финальную', 'экспедицию', 'на', 'мир', 'в', 'феврале', 'или', 'марте', '2000_года']\n",
            "['однако', 'власти', 'пока', 'не', 'могут', 'официально', 'подтвердить', 'данные', 'которые', 'сообщил', 'о', 'себе', 'задержанный', 'так', 'как', 'никаких', 'записей', 'о', 'его', 'местожительстве', 'и', 'прошлой', 'работе', 'нет.сегодня', 'после', '1', 'часа_ночи', 'дежурная', 'смена', 'цупа', 'послаласигнал', 'на', 'выключение', 'главного', 'бортового', 'компьютера', 'станции_мир', 'результате', 'этого', 'работа', 'всех', 'элементов', 'системы', 'управления', 'движением', 'орбитального_комплекса', 'была_остановлена']\n",
            "['по', 'данным', 'majestic', 'wine', 'закупки', 'обычных', 'вин', 'также', 'превзошли', 'все', 'ожидания', 'британцы', 'покупают', 'вина', 'больше', 'и', 'более', 'дорогих', 'сортов', 'нежели', 'перед', 'рождеством', 'прошлого_года']\n",
            "\n",
            "scoring: default; min_count: 5; threshold: 100\n",
            "['gazeta', 'ru', 'подробно', 'писала', 'о', 'том', 'что', 'финансирование', 'программы', 'мир', 'закрыто', 'но', 'конструкторы', 'не', 'спешат', 'топить', 'ее', 'в', 'тихом_океане', 'надеясь', 'на', 'изыскание', 'внебюджетных', 'средств.они', 'надеются', 'что', 'правительство', 'оплатит', 'финальную', 'экспедицию', 'на', 'мир', 'в', 'феврале', 'или', 'марте', '2000_года']\n",
            "['однако', 'власти', 'пока', 'не', 'могут', 'официально', 'подтвердить', 'данные', 'которые', 'сообщил', 'о', 'себе', 'задержанный', 'так', 'как', 'никаких', 'записей', 'о', 'его', 'местожительстве', 'и', 'прошлой', 'работе', 'нет.сегодня', 'после', '1', 'часа_ночи', 'дежурная', 'смена', 'цупа', 'послаласигнал', 'на', 'выключение', 'главного', 'бортового', 'компьютера', 'станции_мир', 'результате', 'этого', 'работа', 'всех', 'элементов', 'системы', 'управления', 'движением', 'орбитального_комплекса', 'была_остановлена']\n",
            "['по', 'данным', 'majestic', 'wine', 'закупки', 'обычных', 'вин', 'также', 'превзошли', 'все', 'ожидания', 'британцы', 'покупают', 'вина', 'больше', 'и', 'более', 'дорогих', 'сортов', 'нежели', 'перед', 'рождеством', 'прошлого_года']\n",
            "\n",
            "scoring: default; min_count: 5; threshold: 250\n",
            "['gazeta', 'ru', 'подробно', 'писала', 'о', 'том', 'что', 'финансирование', 'программы', 'мир', 'закрыто', 'но', 'конструкторы', 'не', 'спешат', 'топить', 'ее', 'в', 'тихом_океане', 'надеясь', 'на', 'изыскание', 'внебюджетных', 'средств.они', 'надеются', 'что', 'правительство', 'оплатит', 'финальную', 'экспедицию', 'на', 'мир', 'в', 'феврале', 'или', 'марте', '2000', 'года']\n",
            "['однако', 'власти', 'пока', 'не', 'могут', 'официально', 'подтвердить', 'данные', 'которые', 'сообщил', 'о', 'себе', 'задержанный', 'так', 'как', 'никаких', 'записей', 'о', 'его', 'местожительстве', 'и', 'прошлой', 'работе', 'нет.сегодня', 'после', '1', 'часа_ночи', 'дежурная', 'смена', 'цупа', 'послаласигнал', 'на', 'выключение', 'главного', 'бортового', 'компьютера', 'станции_мир', 'результате', 'этого', 'работа', 'всех', 'элементов', 'системы', 'управления', 'движением', 'орбитального_комплекса', 'была_остановлена']\n",
            "['по', 'данным', 'majestic', 'wine', 'закупки', 'обычных', 'вин', 'также', 'превзошли', 'все', 'ожидания', 'британцы', 'покупают', 'вина', 'больше', 'и', 'более', 'дорогих', 'сортов', 'нежели', 'перед', 'рождеством', 'прошлого', 'года']\n",
            "\n",
            "scoring: default; min_count: 10; threshold: 10\n",
            "['gazeta', 'ru', 'подробно', 'писала', 'о_том', 'что', 'финансирование', 'программы', 'мир', 'закрыто', 'но', 'конструкторы', 'не', 'спешат', 'топить', 'ее', 'в', 'тихом_океане', 'надеясь', 'на', 'изыскание', 'внебюджетных', 'средств.они', 'надеются_что', 'правительство', 'оплатит', 'финальную', 'экспедицию', 'на', 'мир', 'в_феврале', 'или', 'марте', '2000_года']\n",
            "['однако', 'власти', 'пока_не', 'могут', 'официально', 'подтвердить', 'данные', 'которые', 'сообщил', 'о_себе', 'задержанный', 'так_как', 'никаких', 'записей', 'о', 'его', 'местожительстве', 'и', 'прошлой', 'работе', 'нет.сегодня', 'после', '1', 'часа_ночи', 'дежурная', 'смена', 'цупа', 'послаласигнал', 'на', 'выключение', 'главного', 'бортового', 'компьютера', 'станции_мир', 'результате', 'этого', 'работа', 'всех', 'элементов', 'системы', 'управления', 'движением', 'орбитального', 'комплекса', 'была_остановлена']\n",
            "['по_данным', 'majestic', 'wine', 'закупки', 'обычных', 'вин', 'также', 'превзошли', 'все', 'ожидания', 'британцы', 'покупают', 'вина', 'больше', 'и', 'более', 'дорогих', 'сортов', 'нежели', 'перед', 'рождеством', 'прошлого_года']\n",
            "\n",
            "scoring: default; min_count: 10; threshold: 25\n",
            "['gazeta', 'ru', 'подробно', 'писала', 'о_том', 'что', 'финансирование', 'программы', 'мир', 'закрыто', 'но', 'конструкторы', 'не', 'спешат', 'топить', 'ее', 'в', 'тихом_океане', 'надеясь', 'на', 'изыскание', 'внебюджетных', 'средств.они', 'надеются', 'что', 'правительство', 'оплатит', 'финальную', 'экспедицию', 'на', 'мир', 'в', 'феврале', 'или', 'марте', '2000_года']\n",
            "['однако', 'власти', 'пока_не', 'могут', 'официально', 'подтвердить', 'данные', 'которые', 'сообщил', 'о', 'себе', 'задержанный', 'так_как', 'никаких', 'записей', 'о', 'его', 'местожительстве', 'и', 'прошлой', 'работе', 'нет.сегодня', 'после', '1', 'часа_ночи', 'дежурная', 'смена', 'цупа', 'послаласигнал', 'на', 'выключение', 'главного', 'бортового', 'компьютера', 'станции_мир', 'результате', 'этого', 'работа', 'всех', 'элементов', 'системы', 'управления', 'движением', 'орбитального', 'комплекса', 'была_остановлена']\n",
            "['по_данным', 'majestic', 'wine', 'закупки', 'обычных', 'вин', 'также', 'превзошли', 'все', 'ожидания', 'британцы', 'покупают', 'вина', 'больше', 'и', 'более', 'дорогих', 'сортов', 'нежели', 'перед', 'рождеством', 'прошлого_года']\n",
            "\n",
            "scoring: default; min_count: 10; threshold: 50\n",
            "['gazeta', 'ru', 'подробно', 'писала', 'о_том', 'что', 'финансирование', 'программы', 'мир', 'закрыто', 'но', 'конструкторы', 'не', 'спешат', 'топить', 'ее', 'в', 'тихом_океане', 'надеясь', 'на', 'изыскание', 'внебюджетных', 'средств.они', 'надеются', 'что', 'правительство', 'оплатит', 'финальную', 'экспедицию', 'на', 'мир', 'в', 'феврале', 'или', 'марте', '2000_года']\n",
            "['однако', 'власти', 'пока', 'не', 'могут', 'официально', 'подтвердить', 'данные', 'которые', 'сообщил', 'о', 'себе', 'задержанный', 'так', 'как', 'никаких', 'записей', 'о', 'его', 'местожительстве', 'и', 'прошлой', 'работе', 'нет.сегодня', 'после', '1', 'часа_ночи', 'дежурная', 'смена', 'цупа', 'послаласигнал', 'на', 'выключение', 'главного', 'бортового', 'компьютера', 'станции_мир', 'результате', 'этого', 'работа', 'всех', 'элементов', 'системы', 'управления', 'движением', 'орбитального', 'комплекса', 'была_остановлена']\n",
            "['по', 'данным', 'majestic', 'wine', 'закупки', 'обычных', 'вин', 'также', 'превзошли', 'все', 'ожидания', 'британцы', 'покупают', 'вина', 'больше', 'и', 'более', 'дорогих', 'сортов', 'нежели', 'перед', 'рождеством', 'прошлого_года']\n",
            "\n",
            "scoring: default; min_count: 10; threshold: 100\n",
            "['gazeta', 'ru', 'подробно', 'писала', 'о', 'том', 'что', 'финансирование', 'программы', 'мир', 'закрыто', 'но', 'конструкторы', 'не', 'спешат', 'топить', 'ее', 'в', 'тихом_океане', 'надеясь', 'на', 'изыскание', 'внебюджетных', 'средств.они', 'надеются', 'что', 'правительство', 'оплатит', 'финальную', 'экспедицию', 'на', 'мир', 'в', 'феврале', 'или', 'марте', '2000_года']\n",
            "['однако', 'власти', 'пока', 'не', 'могут', 'официально', 'подтвердить', 'данные', 'которые', 'сообщил', 'о', 'себе', 'задержанный', 'так', 'как', 'никаких', 'записей', 'о', 'его', 'местожительстве', 'и', 'прошлой', 'работе', 'нет.сегодня', 'после', '1', 'часа_ночи', 'дежурная', 'смена', 'цупа', 'послаласигнал', 'на', 'выключение', 'главного', 'бортового', 'компьютера', 'станции_мир', 'результате', 'этого', 'работа', 'всех', 'элементов', 'системы', 'управления', 'движением', 'орбитального', 'комплекса', 'была_остановлена']\n",
            "['по', 'данным', 'majestic', 'wine', 'закупки', 'обычных', 'вин', 'также', 'превзошли', 'все', 'ожидания', 'британцы', 'покупают', 'вина', 'больше', 'и', 'более', 'дорогих', 'сортов', 'нежели', 'перед', 'рождеством', 'прошлого_года']\n",
            "\n",
            "scoring: default; min_count: 10; threshold: 250\n",
            "['gazeta', 'ru', 'подробно', 'писала', 'о', 'том', 'что', 'финансирование', 'программы', 'мир', 'закрыто', 'но', 'конструкторы', 'не', 'спешат', 'топить', 'ее', 'в', 'тихом_океане', 'надеясь', 'на', 'изыскание', 'внебюджетных', 'средств.они', 'надеются', 'что', 'правительство', 'оплатит', 'финальную', 'экспедицию', 'на', 'мир', 'в', 'феврале', 'или', 'марте', '2000', 'года']\n",
            "['однако', 'власти', 'пока', 'не', 'могут', 'официально', 'подтвердить', 'данные', 'которые', 'сообщил', 'о', 'себе', 'задержанный', 'так', 'как', 'никаких', 'записей', 'о', 'его', 'местожительстве', 'и', 'прошлой', 'работе', 'нет.сегодня', 'после', '1', 'часа_ночи', 'дежурная', 'смена', 'цупа', 'послаласигнал', 'на', 'выключение', 'главного', 'бортового', 'компьютера', 'станции_мир', 'результате', 'этого', 'работа', 'всех', 'элементов', 'системы', 'управления', 'движением', 'орбитального', 'комплекса', 'была', 'остановлена']\n",
            "['по', 'данным', 'majestic', 'wine', 'закупки', 'обычных', 'вин', 'также', 'превзошли', 'все', 'ожидания', 'британцы', 'покупают', 'вина', 'больше', 'и', 'более', 'дорогих', 'сортов', 'нежели', 'перед', 'рождеством', 'прошлого', 'года']\n",
            "\n",
            "scoring: default; min_count: 20; threshold: 10\n",
            "['gazeta', 'ru', 'подробно', 'писала', 'о_том', 'что', 'финансирование', 'программы', 'мир', 'закрыто', 'но', 'конструкторы', 'не', 'спешат', 'топить', 'ее', 'в', 'тихом', 'океане', 'надеясь', 'на', 'изыскание', 'внебюджетных', 'средств.они', 'надеются', 'что', 'правительство', 'оплатит', 'финальную', 'экспедицию', 'на', 'мир', 'в', 'феврале', 'или', 'марте', '2000_года']\n",
            "['однако', 'власти', 'пока_не', 'могут', 'официально', 'подтвердить', 'данные', 'которые', 'сообщил', 'о', 'себе', 'задержанный', 'так_как', 'никаких', 'записей', 'о', 'его', 'местожительстве', 'и', 'прошлой', 'работе', 'нет.сегодня', 'после', '1', 'часа_ночи', 'дежурная', 'смена', 'цупа', 'послаласигнал', 'на', 'выключение', 'главного', 'бортового', 'компьютера', 'станции_мир', 'результате', 'этого', 'работа', 'всех', 'элементов', 'системы', 'управления', 'движением', 'орбитального', 'комплекса', 'была', 'остановлена']\n",
            "['по_данным', 'majestic', 'wine', 'закупки', 'обычных', 'вин', 'также', 'превзошли', 'все', 'ожидания', 'британцы', 'покупают', 'вина', 'больше', 'и', 'более', 'дорогих', 'сортов', 'нежели', 'перед', 'рождеством', 'прошлого_года']\n",
            "\n",
            "scoring: default; min_count: 20; threshold: 25\n",
            "['gazeta', 'ru', 'подробно', 'писала', 'о_том', 'что', 'финансирование', 'программы', 'мир', 'закрыто', 'но', 'конструкторы', 'не', 'спешат', 'топить', 'ее', 'в', 'тихом', 'океане', 'надеясь', 'на', 'изыскание', 'внебюджетных', 'средств.они', 'надеются', 'что', 'правительство', 'оплатит', 'финальную', 'экспедицию', 'на', 'мир', 'в', 'феврале', 'или', 'марте', '2000_года']\n",
            "['однако', 'власти', 'пока_не', 'могут', 'официально', 'подтвердить', 'данные', 'которые', 'сообщил', 'о', 'себе', 'задержанный', 'так_как', 'никаких', 'записей', 'о', 'его', 'местожительстве', 'и', 'прошлой', 'работе', 'нет.сегодня', 'после', '1', 'часа_ночи', 'дежурная', 'смена', 'цупа', 'послаласигнал', 'на', 'выключение', 'главного', 'бортового', 'компьютера', 'станции_мир', 'результате', 'этого', 'работа', 'всех', 'элементов', 'системы', 'управления', 'движением', 'орбитального', 'комплекса', 'была', 'остановлена']\n",
            "['по_данным', 'majestic', 'wine', 'закупки', 'обычных', 'вин', 'также', 'превзошли', 'все', 'ожидания', 'британцы', 'покупают', 'вина', 'больше', 'и', 'более', 'дорогих', 'сортов', 'нежели', 'перед', 'рождеством', 'прошлого_года']\n",
            "\n",
            "scoring: default; min_count: 20; threshold: 50\n",
            "['gazeta', 'ru', 'подробно', 'писала', 'о_том', 'что', 'финансирование', 'программы', 'мир', 'закрыто', 'но', 'конструкторы', 'не', 'спешат', 'топить', 'ее', 'в', 'тихом', 'океане', 'надеясь', 'на', 'изыскание', 'внебюджетных', 'средств.они', 'надеются', 'что', 'правительство', 'оплатит', 'финальную', 'экспедицию', 'на', 'мир', 'в', 'феврале', 'или', 'марте', '2000_года']\n",
            "['однако', 'власти', 'пока', 'не', 'могут', 'официально', 'подтвердить', 'данные', 'которые', 'сообщил', 'о', 'себе', 'задержанный', 'так', 'как', 'никаких', 'записей', 'о', 'его', 'местожительстве', 'и', 'прошлой', 'работе', 'нет.сегодня', 'после', '1', 'часа_ночи', 'дежурная', 'смена', 'цупа', 'послаласигнал', 'на', 'выключение', 'главного', 'бортового', 'компьютера', 'станции_мир', 'результате', 'этого', 'работа', 'всех', 'элементов', 'системы', 'управления', 'движением', 'орбитального', 'комплекса', 'была', 'остановлена']\n",
            "['по', 'данным', 'majestic', 'wine', 'закупки', 'обычных', 'вин', 'также', 'превзошли', 'все', 'ожидания', 'британцы', 'покупают', 'вина', 'больше', 'и', 'более', 'дорогих', 'сортов', 'нежели', 'перед', 'рождеством', 'прошлого_года']\n",
            "\n",
            "scoring: default; min_count: 20; threshold: 100\n",
            "['gazeta', 'ru', 'подробно', 'писала', 'о', 'том', 'что', 'финансирование', 'программы', 'мир', 'закрыто', 'но', 'конструкторы', 'не', 'спешат', 'топить', 'ее', 'в', 'тихом', 'океане', 'надеясь', 'на', 'изыскание', 'внебюджетных', 'средств.они', 'надеются', 'что', 'правительство', 'оплатит', 'финальную', 'экспедицию', 'на', 'мир', 'в', 'феврале', 'или', 'марте', '2000_года']\n",
            "['однако', 'власти', 'пока', 'не', 'могут', 'официально', 'подтвердить', 'данные', 'которые', 'сообщил', 'о', 'себе', 'задержанный', 'так', 'как', 'никаких', 'записей', 'о', 'его', 'местожительстве', 'и', 'прошлой', 'работе', 'нет.сегодня', 'после', '1', 'часа', 'ночи', 'дежурная', 'смена', 'цупа', 'послаласигнал', 'на', 'выключение', 'главного', 'бортового', 'компьютера', 'станции_мир', 'результате', 'этого', 'работа', 'всех', 'элементов', 'системы', 'управления', 'движением', 'орбитального', 'комплекса', 'была', 'остановлена']\n",
            "['по', 'данным', 'majestic', 'wine', 'закупки', 'обычных', 'вин', 'также', 'превзошли', 'все', 'ожидания', 'британцы', 'покупают', 'вина', 'больше', 'и', 'более', 'дорогих', 'сортов', 'нежели', 'перед', 'рождеством', 'прошлого_года']\n",
            "\n",
            "scoring: default; min_count: 20; threshold: 250\n",
            "['gazeta', 'ru', 'подробно', 'писала', 'о', 'том', 'что', 'финансирование', 'программы', 'мир', 'закрыто', 'но', 'конструкторы', 'не', 'спешат', 'топить', 'ее', 'в', 'тихом', 'океане', 'надеясь', 'на', 'изыскание', 'внебюджетных', 'средств.они', 'надеются', 'что', 'правительство', 'оплатит', 'финальную', 'экспедицию', 'на', 'мир', 'в', 'феврале', 'или', 'марте', '2000', 'года']\n",
            "['однако', 'власти', 'пока', 'не', 'могут', 'официально', 'подтвердить', 'данные', 'которые', 'сообщил', 'о', 'себе', 'задержанный', 'так', 'как', 'никаких', 'записей', 'о', 'его', 'местожительстве', 'и', 'прошлой', 'работе', 'нет.сегодня', 'после', '1', 'часа', 'ночи', 'дежурная', 'смена', 'цупа', 'послаласигнал', 'на', 'выключение', 'главного', 'бортового', 'компьютера', 'станции_мир', 'результате', 'этого', 'работа', 'всех', 'элементов', 'системы', 'управления', 'движением', 'орбитального', 'комплекса', 'была', 'остановлена']\n",
            "['по', 'данным', 'majestic', 'wine', 'закупки', 'обычных', 'вин', 'также', 'превзошли', 'все', 'ожидания', 'британцы', 'покупают', 'вина', 'больше', 'и', 'более', 'дорогих', 'сортов', 'нежели', 'перед', 'рождеством', 'прошлого', 'года']\n",
            "\n",
            "scoring: default; min_count: 50; threshold: 10\n",
            "['gazeta', 'ru', 'подробно', 'писала', 'о_том', 'что', 'финансирование', 'программы', 'мир', 'закрыто', 'но', 'конструкторы', 'не', 'спешат', 'топить', 'ее', 'в', 'тихом', 'океане', 'надеясь', 'на', 'изыскание', 'внебюджетных', 'средств.они', 'надеются', 'что', 'правительство', 'оплатит', 'финальную', 'экспедицию', 'на', 'мир', 'в', 'феврале', 'или', 'марте', '2000_года']\n",
            "['однако', 'власти', 'пока_не', 'могут', 'официально', 'подтвердить', 'данные', 'которые', 'сообщил', 'о', 'себе', 'задержанный', 'так_как', 'никаких', 'записей', 'о', 'его', 'местожительстве', 'и', 'прошлой', 'работе', 'нет.сегодня', 'после', '1', 'часа', 'ночи', 'дежурная', 'смена', 'цупа', 'послаласигнал', 'на', 'выключение', 'главного', 'бортового', 'компьютера', 'станции', 'мир', 'результате', 'этого', 'работа', 'всех', 'элементов', 'системы', 'управления', 'движением', 'орбитального', 'комплекса', 'была', 'остановлена']\n",
            "['по_данным', 'majestic', 'wine', 'закупки', 'обычных', 'вин', 'также', 'превзошли', 'все', 'ожидания', 'британцы', 'покупают', 'вина', 'больше', 'и', 'более', 'дорогих', 'сортов', 'нежели', 'перед', 'рождеством', 'прошлого_года']\n",
            "\n",
            "scoring: default; min_count: 50; threshold: 25\n",
            "['gazeta', 'ru', 'подробно', 'писала', 'о_том', 'что', 'финансирование', 'программы', 'мир', 'закрыто', 'но', 'конструкторы', 'не', 'спешат', 'топить', 'ее', 'в', 'тихом', 'океане', 'надеясь', 'на', 'изыскание', 'внебюджетных', 'средств.они', 'надеются', 'что', 'правительство', 'оплатит', 'финальную', 'экспедицию', 'на', 'мир', 'в', 'феврале', 'или', 'марте', '2000_года']\n",
            "['однако', 'власти', 'пока', 'не', 'могут', 'официально', 'подтвердить', 'данные', 'которые', 'сообщил', 'о', 'себе', 'задержанный', 'так', 'как', 'никаких', 'записей', 'о', 'его', 'местожительстве', 'и', 'прошлой', 'работе', 'нет.сегодня', 'после', '1', 'часа', 'ночи', 'дежурная', 'смена', 'цупа', 'послаласигнал', 'на', 'выключение', 'главного', 'бортового', 'компьютера', 'станции', 'мир', 'результате', 'этого', 'работа', 'всех', 'элементов', 'системы', 'управления', 'движением', 'орбитального', 'комплекса', 'была', 'остановлена']\n",
            "['по_данным', 'majestic', 'wine', 'закупки', 'обычных', 'вин', 'также', 'превзошли', 'все', 'ожидания', 'британцы', 'покупают', 'вина', 'больше', 'и', 'более', 'дорогих', 'сортов', 'нежели', 'перед', 'рождеством', 'прошлого_года']\n",
            "\n",
            "scoring: default; min_count: 50; threshold: 50\n",
            "['gazeta', 'ru', 'подробно', 'писала', 'о', 'том', 'что', 'финансирование', 'программы', 'мир', 'закрыто', 'но', 'конструкторы', 'не', 'спешат', 'топить', 'ее', 'в', 'тихом', 'океане', 'надеясь', 'на', 'изыскание', 'внебюджетных', 'средств.они', 'надеются', 'что', 'правительство', 'оплатит', 'финальную', 'экспедицию', 'на', 'мир', 'в', 'феврале', 'или', 'марте', '2000_года']\n",
            "['однако', 'власти', 'пока', 'не', 'могут', 'официально', 'подтвердить', 'данные', 'которые', 'сообщил', 'о', 'себе', 'задержанный', 'так', 'как', 'никаких', 'записей', 'о', 'его', 'местожительстве', 'и', 'прошлой', 'работе', 'нет.сегодня', 'после', '1', 'часа', 'ночи', 'дежурная', 'смена', 'цупа', 'послаласигнал', 'на', 'выключение', 'главного', 'бортового', 'компьютера', 'станции', 'мир', 'результате', 'этого', 'работа', 'всех', 'элементов', 'системы', 'управления', 'движением', 'орбитального', 'комплекса', 'была', 'остановлена']\n",
            "['по', 'данным', 'majestic', 'wine', 'закупки', 'обычных', 'вин', 'также', 'превзошли', 'все', 'ожидания', 'британцы', 'покупают', 'вина', 'больше', 'и', 'более', 'дорогих', 'сортов', 'нежели', 'перед', 'рождеством', 'прошлого_года']\n",
            "\n",
            "scoring: default; min_count: 50; threshold: 100\n",
            "['gazeta', 'ru', 'подробно', 'писала', 'о', 'том', 'что', 'финансирование', 'программы', 'мир', 'закрыто', 'но', 'конструкторы', 'не', 'спешат', 'топить', 'ее', 'в', 'тихом', 'океане', 'надеясь', 'на', 'изыскание', 'внебюджетных', 'средств.они', 'надеются', 'что', 'правительство', 'оплатит', 'финальную', 'экспедицию', 'на', 'мир', 'в', 'феврале', 'или', 'марте', '2000_года']\n",
            "['однако', 'власти', 'пока', 'не', 'могут', 'официально', 'подтвердить', 'данные', 'которые', 'сообщил', 'о', 'себе', 'задержанный', 'так', 'как', 'никаких', 'записей', 'о', 'его', 'местожительстве', 'и', 'прошлой', 'работе', 'нет.сегодня', 'после', '1', 'часа', 'ночи', 'дежурная', 'смена', 'цупа', 'послаласигнал', 'на', 'выключение', 'главного', 'бортового', 'компьютера', 'станции', 'мир', 'результате', 'этого', 'работа', 'всех', 'элементов', 'системы', 'управления', 'движением', 'орбитального', 'комплекса', 'была', 'остановлена']\n",
            "['по', 'данным', 'majestic', 'wine', 'закупки', 'обычных', 'вин', 'также', 'превзошли', 'все', 'ожидания', 'британцы', 'покупают', 'вина', 'больше', 'и', 'более', 'дорогих', 'сортов', 'нежели', 'перед', 'рождеством', 'прошлого_года']\n",
            "\n",
            "scoring: default; min_count: 50; threshold: 250\n",
            "['gazeta', 'ru', 'подробно', 'писала', 'о', 'том', 'что', 'финансирование', 'программы', 'мир', 'закрыто', 'но', 'конструкторы', 'не', 'спешат', 'топить', 'ее', 'в', 'тихом', 'океане', 'надеясь', 'на', 'изыскание', 'внебюджетных', 'средств.они', 'надеются', 'что', 'правительство', 'оплатит', 'финальную', 'экспедицию', 'на', 'мир', 'в', 'феврале', 'или', 'марте', '2000', 'года']\n",
            "['однако', 'власти', 'пока', 'не', 'могут', 'официально', 'подтвердить', 'данные', 'которые', 'сообщил', 'о', 'себе', 'задержанный', 'так', 'как', 'никаких', 'записей', 'о', 'его', 'местожительстве', 'и', 'прошлой', 'работе', 'нет.сегодня', 'после', '1', 'часа', 'ночи', 'дежурная', 'смена', 'цупа', 'послаласигнал', 'на', 'выключение', 'главного', 'бортового', 'компьютера', 'станции', 'мир', 'результате', 'этого', 'работа', 'всех', 'элементов', 'системы', 'управления', 'движением', 'орбитального', 'комплекса', 'была', 'остановлена']\n",
            "['по', 'данным', 'majestic', 'wine', 'закупки', 'обычных', 'вин', 'также', 'превзошли', 'все', 'ожидания', 'британцы', 'покупают', 'вина', 'больше', 'и', 'более', 'дорогих', 'сортов', 'нежели', 'перед', 'рождеством', 'прошлого', 'года']\n",
            "\n"
          ]
        }
      ]
    },
    {
      "cell_type": "markdown",
      "source": [
        "Последовательность из трех gensim.models.Phrases (максимум 4-граммы):"
      ],
      "metadata": {
        "id": "a73oYhA6OwO6"
      },
      "id": "a73oYhA6OwO6"
    },
    {
      "cell_type": "code",
      "source": [
        "ph = gensim.models.Phrases(tokenized_sentences,  min_count=1, threshold=1.0, scoring='default')\n",
        "p = gensim.models.phrases.Phraser(ph)\n",
        "\n",
        "ph2 = gensim.models.Phrases(p[tokenized_sentences],  min_count=1, threshold=1.0, scoring='default')\n",
        "p2 = gensim.models.phrases.Phraser(ph2)\n",
        "\n",
        "ph3 = gensim.models.Phrases(p2[tokenized_sentences],  min_count=1, threshold=1.0, scoring='default')\n",
        "p3 = gensim.models.phrases.Phraser(ph3)"
      ],
      "metadata": {
        "id": "ocCieZFWJyes"
      },
      "id": "ocCieZFWJyes",
      "execution_count": 26,
      "outputs": []
    },
    {
      "cell_type": "code",
      "source": [
        "p3[p2[p[tokenized_sentences[38]]]]"
      ],
      "metadata": {
        "colab": {
          "base_uri": "https://localhost:8080/"
        },
        "id": "8N06LNvTKemv",
        "outputId": "25aab273-d340-4150-8120-47253ed6ccf7"
      },
      "id": "8N06LNvTKemv",
      "execution_count": 27,
      "outputs": [
        {
          "output_type": "execute_result",
          "data": {
            "text/plain": [
              "['журнал_нива',\n",
              " 'от_20',\n",
              " 'сентября_1914',\n",
              " 'годакак',\n",
              " 'стало_известно',\n",
              " 'агентству',\n",
              " 'ассошиэйтед',\n",
              " 'пресс',\n",
              " 'экипаж',\n",
              " 'последней',\n",
              " 'экспедиции_на_станцию_мир',\n",
              " 'считает_ее',\n",
              " 'способной',\n",
              " 'выйти_из-под',\n",
              " 'контроля.командир',\n",
              " 'виктор',\n",
              " 'афанасьев',\n",
              " 'сказал',\n",
              " 'мы_чувствуем',\n",
              " 'себя_хорошо',\n",
              " 'но',\n",
              " 'грустим',\n",
              " 'что',\n",
              " 'оставили',\n",
              " 'станцию',\n",
              " 'летать_в',\n",
              " 'беспилотном',\n",
              " 'режиме']"
            ]
          },
          "metadata": {},
          "execution_count": 27
        }
      ]
    },
    {
      "cell_type": "code",
      "source": [
        "p3[p2[p[tokenized_sentences[1238]]]]"
      ],
      "metadata": {
        "colab": {
          "base_uri": "https://localhost:8080/"
        },
        "id": "iR3DkJF_KhWh",
        "outputId": "02dfc7ce-caca-4315-db18-6fd1277e5b5f"
      },
      "id": "iR3DkJF_KhWh",
      "execution_count": 28,
      "outputs": [
        {
          "output_type": "execute_result",
          "data": {
            "text/plain": [
              "['российский',\n",
              " 'следователь',\n",
              " 'пояснил_что',\n",
              " 'по',\n",
              " 'швейцарским',\n",
              " 'законам',\n",
              " 'без',\n",
              " 'решения_суда',\n",
              " 'правоохранительные_органы',\n",
              " 'не_имеют_права',\n",
              " 'не_только',\n",
              " 'выдать',\n",
              " 'но_даже',\n",
              " 'показывать',\n",
              " 'следователям',\n",
              " 'изъятые_документы',\n",
              " 'если',\n",
              " 'против_этого',\n",
              " 'возражают',\n",
              " 'свидетели_и',\n",
              " 'адвокаты',\n",
              " 'тех_чьи',\n",
              " 'интересы',\n",
              " 'затрагиваются',\n",
              " 'в_ходе_расследования']"
            ]
          },
          "metadata": {},
          "execution_count": 28
        }
      ]
    },
    {
      "cell_type": "code",
      "source": [
        "p3[p2[p[tokenized_sentences[16343]]]]"
      ],
      "metadata": {
        "colab": {
          "base_uri": "https://localhost:8080/"
        },
        "id": "yA0D2xiqKk6w",
        "outputId": "d063dfa9-4d32-48d8-b3be-26cf8d4f4642"
      },
      "id": "yA0D2xiqKk6w",
      "execution_count": 29,
      "outputs": [
        {
          "output_type": "execute_result",
          "data": {
            "text/plain": [
              "['если_президент',\n",
              " 'все_же',\n",
              " 'подпишет',\n",
              " 'его',\n",
              " 'закон',\n",
              " 'вступит_в',\n",
              " 'силу_с_1_января',\n",
              " '2000',\n",
              " 'года.мосгоризбирком',\n",
              " 'утвердил',\n",
              " 'образец',\n",
              " 'избирательного_бюллетеня_по_выборам',\n",
              " 'мэра_и_вице-мэра_столицы']"
            ]
          },
          "metadata": {},
          "execution_count": 29
        }
      ]
    }
  ],
  "metadata": {
    "kernelspec": {
      "display_name": "Python 3 (ipykernel)",
      "language": "python",
      "name": "python3"
    },
    "language_info": {
      "codemirror_mode": {
        "name": "ipython",
        "version": 3
      },
      "file_extension": ".py",
      "mimetype": "text/x-python",
      "name": "python",
      "nbconvert_exporter": "python",
      "pygments_lexer": "ipython3",
      "version": "3.9.14"
    },
    "colab": {
      "provenance": []
    }
  },
  "nbformat": 4,
  "nbformat_minor": 5
}