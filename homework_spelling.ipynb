{
  "cells": [
    {
      "cell_type": "markdown",
      "id": "371970ff",
      "metadata": {
        "id": "371970ff"
      },
      "source": [
        "# Домашнее задание № 3. Исправление опечаток"
      ]
    },
    {
      "cell_type": "code",
      "source": [
        "%%capture\n",
        "!pip install textdistance"
      ],
      "metadata": {
        "id": "UPKoSAFjm7d1"
      },
      "id": "UPKoSAFjm7d1",
      "execution_count": 1,
      "outputs": []
    },
    {
      "cell_type": "code",
      "source": [
        "import re\n",
        "import textdistance\n",
        "\n",
        "from collections import Counter, defaultdict\n",
        "from itertools import combinations\n",
        "from sklearn.feature_extraction.text import CountVectorizer\n",
        "from sklearn.metrics.pairwise import cosine_distances\n",
        "from string import punctuation\n",
        "from tqdm.notebook import tqdm"
      ],
      "metadata": {
        "id": "BPwXUCTWn5y2"
      },
      "id": "BPwXUCTWn5y2",
      "execution_count": 2,
      "outputs": []
    },
    {
      "cell_type": "code",
      "source": [
        "punctuation += \"«»—…“”\""
      ],
      "metadata": {
        "id": "srs_tqlsPhlE"
      },
      "id": "srs_tqlsPhlE",
      "execution_count": 3,
      "outputs": []
    },
    {
      "cell_type": "code",
      "source": [
        "bad = open(\"data/sents_with_mistakes.txt\", encoding=\"utf8\").read().splitlines()\n",
        "true = open(\"data/correct_sents.txt\", encoding=\"utf8\").read().splitlines()"
      ],
      "metadata": {
        "id": "MOOaJMXZ6wpW"
      },
      "id": "MOOaJMXZ6wpW",
      "execution_count": 4,
      "outputs": []
    },
    {
      "cell_type": "code",
      "source": [
        "corpus = open(\"data/wiki_data.txt\", encoding=\"utf8\").read()\n",
        "vocab = Counter(re.findall(\"\\w+\", corpus.lower()))\n",
        "\n",
        "word2id = list(vocab.keys())\n",
        "id2word = {i:word for i, word in enumerate(vocab)}\n",
        "\n",
        "vec = CountVectorizer(\n",
        "    analyzer=\"char\",\n",
        "    max_features=10000,\n",
        "    ngram_range=(1, 3)\n",
        ")\n",
        "X = vec.fit_transform(vocab)"
      ],
      "metadata": {
        "id": "nuP_ZZjPoGmq"
      },
      "id": "nuP_ZZjPoGmq",
      "execution_count": 5,
      "outputs": []
    },
    {
      "cell_type": "code",
      "source": [
        "def align_words(sent_1, sent_2):\n",
        "    tokens_1 = sent_1.lower().split()\n",
        "    tokens_2 = sent_2.lower().split()\n",
        "\n",
        "    tokens_1 = [token.strip(punctuation) for token in tokens_1]\n",
        "    tokens_2 = [token.strip(punctuation) for token in tokens_2]\n",
        "\n",
        "    tokens_1 = [token for token in tokens_1 if token]\n",
        "    tokens_2 = [token for token in tokens_2 if token]\n",
        "\n",
        "    assert len(tokens_1) == len(tokens_2)\n",
        "\n",
        "    return list(zip(tokens_1, tokens_2))"
      ],
      "metadata": {
        "id": "DkZZhWAuPVnJ"
      },
      "id": "DkZZhWAuPVnJ",
      "execution_count": 6,
      "outputs": []
    },
    {
      "cell_type": "code",
      "source": [
        "def get_closest_match_vec(text, X, vec, topn=20):\n",
        "    v = vec.transform([text])\n",
        "    distances = cosine_distances(v, X)[0]\n",
        "    topn = distances.argsort()[:topn]\n",
        "\n",
        "    # top n with smallest distances\n",
        "    return [(id2word[top], distances[top]) for top in topn]"
      ],
      "metadata": {
        "id": "jpnDCX-H04Ns"
      },
      "id": "jpnDCX-H04Ns",
      "execution_count": 7,
      "outputs": []
    },
    {
      "cell_type": "markdown",
      "id": "b35cf8bd",
      "metadata": {
        "id": "b35cf8bd"
      },
      "source": [
        "## 1. Доп. ранжирование по вероятности (3 балла)"
      ]
    },
    {
      "cell_type": "markdown",
      "id": "0c6be25c",
      "metadata": {
        "id": "0c6be25c"
      },
      "source": [
        "Дополните get_closest_hybrid_match в семинаре так, чтобы из кандадатов с одинаковым расстоянием редактирования выбиралось наиболее вероятное."
      ]
    },
    {
      "cell_type": "code",
      "source": [
        "N = sum(vocab.values())\n",
        "\n",
        "def P(word, N=N):\n",
        "    return vocab[word] / N\n",
        "\n",
        "def predict_mistaken(word, vocab):\n",
        "    return 0 if word in vocab else 1"
      ],
      "metadata": {
        "id": "ab2M2pd_4ELz"
      },
      "id": "ab2M2pd_4ELz",
      "execution_count": 8,
      "outputs": []
    },
    {
      "cell_type": "code",
      "execution_count": 9,
      "id": "f8e8814a",
      "metadata": {
        "id": "f8e8814a"
      },
      "outputs": [],
      "source": [
        "def get_closest_hybrid_match(text, X, vec, topn=3, metric=textdistance.damerau_levenshtein):\n",
        "    candidates = get_closest_match_vec(text, X, vec, topn*4)\n",
        "    lookup = [cand[0] for cand in candidates]\n",
        "    similarities = Counter()\n",
        "    for word in lookup:\n",
        "        similarities[word] = (\n",
        "            metric.normalized_similarity(text, word),\n",
        "            P(word, N=N)\n",
        "        )\n",
        "    closest = similarities.most_common(topn)\n",
        "    return closest"
      ]
    },
    {
      "cell_type": "code",
      "execution_count": 10,
      "id": "e67f8d02",
      "metadata": {
        "colab": {
          "base_uri": "https://localhost:8080/"
        },
        "id": "e67f8d02",
        "outputId": "3959068b-bfc9-42ad-c8aa-658d14487bb7"
      },
      "outputs": [
        {
          "output_type": "execute_result",
          "data": {
            "text/plain": [
              "[('солнце', (0.8333333333333334, 2.4440966240624417e-05)),\n",
              " ('конце', (0.8, 0.00037068798798280367)),\n",
              " ('соне', (0.8, 1.745783302901744e-06)),\n",
              " ('монце', (0.8, 1.5518073803571057e-06)),\n",
              " ('донце', (0.8, 3.879518450892764e-07)),\n",
              " ('солнцем', (0.7142857142857143, 8.340964669419444e-06)),\n",
              " ('солнцев', (0.7142857142857143, 7.759036901785528e-07)),\n",
              " ('олонце', (0.6666666666666667, 3.879518450892764e-07)),\n",
              " ('ньонце', (0.6666666666666667, 1.939759225446382e-07)),\n",
              " ('донцем', (0.6666666666666667, 1.939759225446382e-07))]"
            ]
          },
          "metadata": {},
          "execution_count": 10
        }
      ],
      "source": [
        "get_closest_hybrid_match(\"сонце\", X, vec, topn=10)"
      ]
    },
    {
      "cell_type": "code",
      "source": [
        "def evaluate_spellcheck(true, bad, fn, fn_kwargs={}):\n",
        "    mistakes = []\n",
        "    total_mistaken = 0\n",
        "    mistaken_fixed = 0\n",
        "\n",
        "    total_correct = 0\n",
        "    correct_broken = 0\n",
        "\n",
        "    total = 0\n",
        "    correct = 0\n",
        "\n",
        "    cashed = {}\n",
        "    for i in tqdm(range(len(true))):\n",
        "        word_pairs = align_words(true[i], bad[i])\n",
        "        for pair in word_pairs:\n",
        "            if predict_mistaken(pair[1], vocab):\n",
        "                pred = cashed.get(pair[1], fn(pair[1], **fn_kwargs)[0][0])\n",
        "                cashed[pair[1]] = pred\n",
        "            else:\n",
        "                pred = pair[1]\n",
        "\n",
        "\n",
        "            if pred == pair[0]:\n",
        "                correct += 1\n",
        "            else:\n",
        "                mistakes.append((pair[0], pair[1], pred))\n",
        "            total += 1\n",
        "\n",
        "            if pair[0] == pair[1]:\n",
        "                total_correct += 1\n",
        "                if pair[0] != pred:\n",
        "                    correct_broken += 1\n",
        "            else:\n",
        "                total_mistaken += 1\n",
        "                if pair[0] == pred:\n",
        "                    mistaken_fixed += 1\n",
        "\n",
        "    print(\"correct/total:\", correct/total)\n",
        "    print(\"mistaken_fixed/total_mistaken:\", mistaken_fixed/total_mistaken)\n",
        "    print(\"correct_broken/total_correct:\", correct_broken/total_correct)"
      ],
      "metadata": {
        "id": "X9s57Xhq6A2s"
      },
      "id": "X9s57Xhq6A2s",
      "execution_count": 11,
      "outputs": []
    },
    {
      "cell_type": "code",
      "source": [
        "fn_kwargs = {\"X\": X, \"vec\": vec}\n",
        "evaluate_spellcheck(true, bad, get_closest_hybrid_match, fn_kwargs)"
      ],
      "metadata": {
        "id": "P8r-knvl6T45",
        "colab": {
          "base_uri": "https://localhost:8080/",
          "height": 101,
          "referenced_widgets": [
            "36f10739fa2f46d5b9c3eaaf00dcfd95",
            "b21a3191fc944f808524db4d99b46287",
            "152087a8e13945f8b9c708cbaa13caa1",
            "de3d663167254731ac0a82c39bcbd9a1",
            "0166df8297fa48579b1bbb1f0bd62836",
            "6a7c10116a134257a6e4061ab868efd2",
            "8d100c05d51f4fcb8da5a2c72cdf2f1f",
            "b81dfb611a3b4849b39a989fa9441cbd",
            "b23cf54a347547e4a8abb763fffa903d",
            "3476c0c8019548769ab03152ac46c3da",
            "1686fce2bc4f4bf08598773d5dd290a5"
          ]
        },
        "outputId": "ca1f0a61-0af7-4c8f-cf84-455adf573965"
      },
      "id": "P8r-knvl6T45",
      "execution_count": 12,
      "outputs": [
        {
          "output_type": "display_data",
          "data": {
            "text/plain": [
              "  0%|          | 0/915 [00:00<?, ?it/s]"
            ],
            "application/vnd.jupyter.widget-view+json": {
              "version_major": 2,
              "version_minor": 0,
              "model_id": "36f10739fa2f46d5b9c3eaaf00dcfd95"
            }
          },
          "metadata": {}
        },
        {
          "output_type": "stream",
          "name": "stdout",
          "text": [
            "correct/total: 0.856128064032016\n",
            "mistaken_fixed/total_mistaken: 0.4922360248447205\n",
            "correct_broken/total_correct: 0.09004249454461927\n"
          ]
        }
      ]
    },
    {
      "cell_type": "markdown",
      "id": "f9cf9985",
      "metadata": {
        "id": "f9cf9985"
      },
      "source": [
        "## 2.  Symspell (7 баллов)"
      ]
    },
    {
      "cell_type": "markdown",
      "id": "9392cc23",
      "metadata": {
        "id": "9392cc23"
      },
      "source": [
        "Реализуйте алгоритм Symspell. Он похож на алгоритм Норвига, но проще и быстрее. Он основан только на одной операции - удалении символа. Описание алгоритма по шагам:\n",
        "\n",
        "1) Составляется словарь правильных слов\n",
        "\n",
        "2) На основе словаря правильных слов составляется словарь удалений - для каждого правильного слова создаются все варианты удалений и создается словарь, где ключ - слово с удалением, а значение - правильное слово  (!)\n",
        "\n",
        "3) Для выбора исправления для слова с опечаткой генерируются все варианты удаления, из них выбираются те, что есть в словаре удалений, построенного на шаге 2. Слово с опечаткой заменяется на правильное слово, соответствующее варианту удаления\n",
        "\n",
        "4) Если в словаре удалений есть несколько вариантов, то выбирается удаление, которому соответствует наиболее вероятное правильное слово  \n",
        "\n",
        "\n",
        "Оцените качество полученного алгоритма теми же тремя метриками."
      ]
    },
    {
      "cell_type": "code",
      "source": [
        "class Symspell:\n",
        "    def __init__(self, vocab, max_deletions=1):\n",
        "        self.vocab = vocab\n",
        "        self.total_words = sum(vocab.values())\n",
        "        self.max_deletions = max_deletions\n",
        "        self.deletion_dict = self.get_deletion_dict(vocab)\n",
        "\n",
        "    def get_proba(self, word):\n",
        "        return self.vocab[word] / self.total_words\n",
        "\n",
        "    def get_deletions(self, word):\n",
        "        deletions = []\n",
        "        min_len = max(1, len(word) - self.max_deletions)\n",
        "        for i in range(min_len, len(word)):\n",
        "            deletions.extend(\n",
        "                [\"\".join(x) for x in combinations(word, i)]\n",
        "            )\n",
        "        return set(deletions)\n",
        "\n",
        "    def get_deletion_dict(self, vocab):\n",
        "        deletion_dict = defaultdict(lambda: [])\n",
        "        for word in vocab:\n",
        "            deletions = self.get_deletions(word)\n",
        "            for deletion in deletions:\n",
        "                deletion_dict[deletion].append(word)\n",
        "        return deletion_dict\n",
        "\n",
        "    def get_closest_match(self, word, topn=10):\n",
        "        candidate_probas = Counter()\n",
        "        deletions_for_word = self.get_deletions(word)\n",
        "        # add the misspelled word itself\n",
        "        deletions_for_word.add(word)\n",
        "        for deletion in deletions_for_word:\n",
        "            if deletion in self.deletion_dict:\n",
        "                correct_words = self.deletion_dict[deletion]\n",
        "                for correct_word in correct_words:\n",
        "                    candidate_probas[correct_word] = self.get_proba(correct_word)\n",
        "        closest = candidate_probas.most_common(topn)\n",
        "        return closest if len(closest) > 0 else word"
      ],
      "metadata": {
        "id": "fLrIXxpjZsxL"
      },
      "id": "fLrIXxpjZsxL",
      "execution_count": 13,
      "outputs": []
    },
    {
      "cell_type": "code",
      "source": [
        "symspell = Symspell(vocab, max_deletions=1)\n",
        "symspell.get_closest_match(\"сонце\", topn=10)"
      ],
      "metadata": {
        "colab": {
          "base_uri": "https://localhost:8080/"
        },
        "id": "PNP1vR_HXuGa",
        "outputId": "a4f9b973-3b9e-4701-bfc2-f7d57129ce25"
      },
      "id": "PNP1vR_HXuGa",
      "execution_count": 14,
      "outputs": [
        {
          "output_type": "execute_result",
          "data": {
            "text/plain": [
              "[('конце', 0.00037068798798280367),\n",
              " ('солнце', 2.4440966240624417e-05),\n",
              " ('сотне', 4.267470295982041e-06),\n",
              " ('монце', 1.5518073803571057e-06),\n",
              " ('соней', 1.1638555352678294e-06),\n",
              " ('сонет', 9.698796127231912e-07),\n",
              " ('сконе', 7.759036901785528e-07),\n",
              " ('сионе', 5.819277676339147e-07),\n",
              " ('сосне', 3.879518450892764e-07),\n",
              " ('согне', 3.879518450892764e-07)]"
            ]
          },
          "metadata": {},
          "execution_count": 14
        }
      ]
    },
    {
      "cell_type": "code",
      "source": [
        "evaluate_spellcheck(true, bad, symspell.get_closest_match)"
      ],
      "metadata": {
        "colab": {
          "base_uri": "https://localhost:8080/",
          "height": 101,
          "referenced_widgets": [
            "42c847a9a914441791117f23700311c2",
            "ef544f2da04946c2ae466331f00a6cef",
            "48d6c3b8d4fc4d909b5d57de11eb42ab",
            "aec4b38860e64f24a9ed0fc1e7fb1de0",
            "f461950bae144ec59926287eb7564740",
            "dede7053466243398e4080a92437b8ec",
            "d97793a6e71e46a6af193764a21e1409",
            "82cb581dcdf745a0b152ce2c10c53480",
            "588f39bf19e14818b0f020b103a2bc8f",
            "b3e1dbb7736a409b9ccd0fd4b9d7c64b",
            "e33d27df16714b3282fef321a619fc54"
          ]
        },
        "id": "u8SpmherpJQf",
        "outputId": "5336671e-f5e1-45c6-ddd7-590e128e3885"
      },
      "id": "u8SpmherpJQf",
      "execution_count": 15,
      "outputs": [
        {
          "output_type": "display_data",
          "data": {
            "text/plain": [
              "  0%|          | 0/915 [00:00<?, ?it/s]"
            ],
            "application/vnd.jupyter.widget-view+json": {
              "version_major": 2,
              "version_minor": 0,
              "model_id": "42c847a9a914441791117f23700311c2"
            }
          },
          "metadata": {}
        },
        {
          "output_type": "stream",
          "name": "stdout",
          "text": [
            "correct/total: 0.8326163081540771\n",
            "mistaken_fixed/total_mistaken: 0.30978260869565216\n",
            "correct_broken/total_correct: 0.09004249454461927\n"
          ]
        }
      ]
    }
  ],
  "metadata": {
    "kernelspec": {
      "display_name": "Python 3",
      "name": "python3"
    },
    "language_info": {
      "codemirror_mode": {
        "name": "ipython",
        "version": 3
      },
      "file_extension": ".py",
      "mimetype": "text/x-python",
      "name": "python",
      "nbconvert_exporter": "python",
      "pygments_lexer": "ipython3",
      "version": "3.9.16"
    },
    "colab": {
      "provenance": []
    },
    "widgets": {
      "application/vnd.jupyter.widget-state+json": {
        "36f10739fa2f46d5b9c3eaaf00dcfd95": {
          "model_module": "@jupyter-widgets/controls",
          "model_name": "HBoxModel",
          "model_module_version": "1.5.0",
          "state": {
            "_dom_classes": [],
            "_model_module": "@jupyter-widgets/controls",
            "_model_module_version": "1.5.0",
            "_model_name": "HBoxModel",
            "_view_count": null,
            "_view_module": "@jupyter-widgets/controls",
            "_view_module_version": "1.5.0",
            "_view_name": "HBoxView",
            "box_style": "",
            "children": [
              "IPY_MODEL_b21a3191fc944f808524db4d99b46287",
              "IPY_MODEL_152087a8e13945f8b9c708cbaa13caa1",
              "IPY_MODEL_de3d663167254731ac0a82c39bcbd9a1"
            ],
            "layout": "IPY_MODEL_0166df8297fa48579b1bbb1f0bd62836"
          }
        },
        "b21a3191fc944f808524db4d99b46287": {
          "model_module": "@jupyter-widgets/controls",
          "model_name": "HTMLModel",
          "model_module_version": "1.5.0",
          "state": {
            "_dom_classes": [],
            "_model_module": "@jupyter-widgets/controls",
            "_model_module_version": "1.5.0",
            "_model_name": "HTMLModel",
            "_view_count": null,
            "_view_module": "@jupyter-widgets/controls",
            "_view_module_version": "1.5.0",
            "_view_name": "HTMLView",
            "description": "",
            "description_tooltip": null,
            "layout": "IPY_MODEL_6a7c10116a134257a6e4061ab868efd2",
            "placeholder": "​",
            "style": "IPY_MODEL_8d100c05d51f4fcb8da5a2c72cdf2f1f",
            "value": "100%"
          }
        },
        "152087a8e13945f8b9c708cbaa13caa1": {
          "model_module": "@jupyter-widgets/controls",
          "model_name": "FloatProgressModel",
          "model_module_version": "1.5.0",
          "state": {
            "_dom_classes": [],
            "_model_module": "@jupyter-widgets/controls",
            "_model_module_version": "1.5.0",
            "_model_name": "FloatProgressModel",
            "_view_count": null,
            "_view_module": "@jupyter-widgets/controls",
            "_view_module_version": "1.5.0",
            "_view_name": "ProgressView",
            "bar_style": "success",
            "description": "",
            "description_tooltip": null,
            "layout": "IPY_MODEL_b81dfb611a3b4849b39a989fa9441cbd",
            "max": 915,
            "min": 0,
            "orientation": "horizontal",
            "style": "IPY_MODEL_b23cf54a347547e4a8abb763fffa903d",
            "value": 915
          }
        },
        "de3d663167254731ac0a82c39bcbd9a1": {
          "model_module": "@jupyter-widgets/controls",
          "model_name": "HTMLModel",
          "model_module_version": "1.5.0",
          "state": {
            "_dom_classes": [],
            "_model_module": "@jupyter-widgets/controls",
            "_model_module_version": "1.5.0",
            "_model_name": "HTMLModel",
            "_view_count": null,
            "_view_module": "@jupyter-widgets/controls",
            "_view_module_version": "1.5.0",
            "_view_name": "HTMLView",
            "description": "",
            "description_tooltip": null,
            "layout": "IPY_MODEL_3476c0c8019548769ab03152ac46c3da",
            "placeholder": "​",
            "style": "IPY_MODEL_1686fce2bc4f4bf08598773d5dd290a5",
            "value": " 915/915 [19:20&lt;00:00,  1.26s/it]"
          }
        },
        "0166df8297fa48579b1bbb1f0bd62836": {
          "model_module": "@jupyter-widgets/base",
          "model_name": "LayoutModel",
          "model_module_version": "1.2.0",
          "state": {
            "_model_module": "@jupyter-widgets/base",
            "_model_module_version": "1.2.0",
            "_model_name": "LayoutModel",
            "_view_count": null,
            "_view_module": "@jupyter-widgets/base",
            "_view_module_version": "1.2.0",
            "_view_name": "LayoutView",
            "align_content": null,
            "align_items": null,
            "align_self": null,
            "border": null,
            "bottom": null,
            "display": null,
            "flex": null,
            "flex_flow": null,
            "grid_area": null,
            "grid_auto_columns": null,
            "grid_auto_flow": null,
            "grid_auto_rows": null,
            "grid_column": null,
            "grid_gap": null,
            "grid_row": null,
            "grid_template_areas": null,
            "grid_template_columns": null,
            "grid_template_rows": null,
            "height": null,
            "justify_content": null,
            "justify_items": null,
            "left": null,
            "margin": null,
            "max_height": null,
            "max_width": null,
            "min_height": null,
            "min_width": null,
            "object_fit": null,
            "object_position": null,
            "order": null,
            "overflow": null,
            "overflow_x": null,
            "overflow_y": null,
            "padding": null,
            "right": null,
            "top": null,
            "visibility": null,
            "width": null
          }
        },
        "6a7c10116a134257a6e4061ab868efd2": {
          "model_module": "@jupyter-widgets/base",
          "model_name": "LayoutModel",
          "model_module_version": "1.2.0",
          "state": {
            "_model_module": "@jupyter-widgets/base",
            "_model_module_version": "1.2.0",
            "_model_name": "LayoutModel",
            "_view_count": null,
            "_view_module": "@jupyter-widgets/base",
            "_view_module_version": "1.2.0",
            "_view_name": "LayoutView",
            "align_content": null,
            "align_items": null,
            "align_self": null,
            "border": null,
            "bottom": null,
            "display": null,
            "flex": null,
            "flex_flow": null,
            "grid_area": null,
            "grid_auto_columns": null,
            "grid_auto_flow": null,
            "grid_auto_rows": null,
            "grid_column": null,
            "grid_gap": null,
            "grid_row": null,
            "grid_template_areas": null,
            "grid_template_columns": null,
            "grid_template_rows": null,
            "height": null,
            "justify_content": null,
            "justify_items": null,
            "left": null,
            "margin": null,
            "max_height": null,
            "max_width": null,
            "min_height": null,
            "min_width": null,
            "object_fit": null,
            "object_position": null,
            "order": null,
            "overflow": null,
            "overflow_x": null,
            "overflow_y": null,
            "padding": null,
            "right": null,
            "top": null,
            "visibility": null,
            "width": null
          }
        },
        "8d100c05d51f4fcb8da5a2c72cdf2f1f": {
          "model_module": "@jupyter-widgets/controls",
          "model_name": "DescriptionStyleModel",
          "model_module_version": "1.5.0",
          "state": {
            "_model_module": "@jupyter-widgets/controls",
            "_model_module_version": "1.5.0",
            "_model_name": "DescriptionStyleModel",
            "_view_count": null,
            "_view_module": "@jupyter-widgets/base",
            "_view_module_version": "1.2.0",
            "_view_name": "StyleView",
            "description_width": ""
          }
        },
        "b81dfb611a3b4849b39a989fa9441cbd": {
          "model_module": "@jupyter-widgets/base",
          "model_name": "LayoutModel",
          "model_module_version": "1.2.0",
          "state": {
            "_model_module": "@jupyter-widgets/base",
            "_model_module_version": "1.2.0",
            "_model_name": "LayoutModel",
            "_view_count": null,
            "_view_module": "@jupyter-widgets/base",
            "_view_module_version": "1.2.0",
            "_view_name": "LayoutView",
            "align_content": null,
            "align_items": null,
            "align_self": null,
            "border": null,
            "bottom": null,
            "display": null,
            "flex": null,
            "flex_flow": null,
            "grid_area": null,
            "grid_auto_columns": null,
            "grid_auto_flow": null,
            "grid_auto_rows": null,
            "grid_column": null,
            "grid_gap": null,
            "grid_row": null,
            "grid_template_areas": null,
            "grid_template_columns": null,
            "grid_template_rows": null,
            "height": null,
            "justify_content": null,
            "justify_items": null,
            "left": null,
            "margin": null,
            "max_height": null,
            "max_width": null,
            "min_height": null,
            "min_width": null,
            "object_fit": null,
            "object_position": null,
            "order": null,
            "overflow": null,
            "overflow_x": null,
            "overflow_y": null,
            "padding": null,
            "right": null,
            "top": null,
            "visibility": null,
            "width": null
          }
        },
        "b23cf54a347547e4a8abb763fffa903d": {
          "model_module": "@jupyter-widgets/controls",
          "model_name": "ProgressStyleModel",
          "model_module_version": "1.5.0",
          "state": {
            "_model_module": "@jupyter-widgets/controls",
            "_model_module_version": "1.5.0",
            "_model_name": "ProgressStyleModel",
            "_view_count": null,
            "_view_module": "@jupyter-widgets/base",
            "_view_module_version": "1.2.0",
            "_view_name": "StyleView",
            "bar_color": null,
            "description_width": ""
          }
        },
        "3476c0c8019548769ab03152ac46c3da": {
          "model_module": "@jupyter-widgets/base",
          "model_name": "LayoutModel",
          "model_module_version": "1.2.0",
          "state": {
            "_model_module": "@jupyter-widgets/base",
            "_model_module_version": "1.2.0",
            "_model_name": "LayoutModel",
            "_view_count": null,
            "_view_module": "@jupyter-widgets/base",
            "_view_module_version": "1.2.0",
            "_view_name": "LayoutView",
            "align_content": null,
            "align_items": null,
            "align_self": null,
            "border": null,
            "bottom": null,
            "display": null,
            "flex": null,
            "flex_flow": null,
            "grid_area": null,
            "grid_auto_columns": null,
            "grid_auto_flow": null,
            "grid_auto_rows": null,
            "grid_column": null,
            "grid_gap": null,
            "grid_row": null,
            "grid_template_areas": null,
            "grid_template_columns": null,
            "grid_template_rows": null,
            "height": null,
            "justify_content": null,
            "justify_items": null,
            "left": null,
            "margin": null,
            "max_height": null,
            "max_width": null,
            "min_height": null,
            "min_width": null,
            "object_fit": null,
            "object_position": null,
            "order": null,
            "overflow": null,
            "overflow_x": null,
            "overflow_y": null,
            "padding": null,
            "right": null,
            "top": null,
            "visibility": null,
            "width": null
          }
        },
        "1686fce2bc4f4bf08598773d5dd290a5": {
          "model_module": "@jupyter-widgets/controls",
          "model_name": "DescriptionStyleModel",
          "model_module_version": "1.5.0",
          "state": {
            "_model_module": "@jupyter-widgets/controls",
            "_model_module_version": "1.5.0",
            "_model_name": "DescriptionStyleModel",
            "_view_count": null,
            "_view_module": "@jupyter-widgets/base",
            "_view_module_version": "1.2.0",
            "_view_name": "StyleView",
            "description_width": ""
          }
        },
        "42c847a9a914441791117f23700311c2": {
          "model_module": "@jupyter-widgets/controls",
          "model_name": "HBoxModel",
          "model_module_version": "1.5.0",
          "state": {
            "_dom_classes": [],
            "_model_module": "@jupyter-widgets/controls",
            "_model_module_version": "1.5.0",
            "_model_name": "HBoxModel",
            "_view_count": null,
            "_view_module": "@jupyter-widgets/controls",
            "_view_module_version": "1.5.0",
            "_view_name": "HBoxView",
            "box_style": "",
            "children": [
              "IPY_MODEL_ef544f2da04946c2ae466331f00a6cef",
              "IPY_MODEL_48d6c3b8d4fc4d909b5d57de11eb42ab",
              "IPY_MODEL_aec4b38860e64f24a9ed0fc1e7fb1de0"
            ],
            "layout": "IPY_MODEL_f461950bae144ec59926287eb7564740"
          }
        },
        "ef544f2da04946c2ae466331f00a6cef": {
          "model_module": "@jupyter-widgets/controls",
          "model_name": "HTMLModel",
          "model_module_version": "1.5.0",
          "state": {
            "_dom_classes": [],
            "_model_module": "@jupyter-widgets/controls",
            "_model_module_version": "1.5.0",
            "_model_name": "HTMLModel",
            "_view_count": null,
            "_view_module": "@jupyter-widgets/controls",
            "_view_module_version": "1.5.0",
            "_view_name": "HTMLView",
            "description": "",
            "description_tooltip": null,
            "layout": "IPY_MODEL_dede7053466243398e4080a92437b8ec",
            "placeholder": "​",
            "style": "IPY_MODEL_d97793a6e71e46a6af193764a21e1409",
            "value": "100%"
          }
        },
        "48d6c3b8d4fc4d909b5d57de11eb42ab": {
          "model_module": "@jupyter-widgets/controls",
          "model_name": "FloatProgressModel",
          "model_module_version": "1.5.0",
          "state": {
            "_dom_classes": [],
            "_model_module": "@jupyter-widgets/controls",
            "_model_module_version": "1.5.0",
            "_model_name": "FloatProgressModel",
            "_view_count": null,
            "_view_module": "@jupyter-widgets/controls",
            "_view_module_version": "1.5.0",
            "_view_name": "ProgressView",
            "bar_style": "success",
            "description": "",
            "description_tooltip": null,
            "layout": "IPY_MODEL_82cb581dcdf745a0b152ce2c10c53480",
            "max": 915,
            "min": 0,
            "orientation": "horizontal",
            "style": "IPY_MODEL_588f39bf19e14818b0f020b103a2bc8f",
            "value": 915
          }
        },
        "aec4b38860e64f24a9ed0fc1e7fb1de0": {
          "model_module": "@jupyter-widgets/controls",
          "model_name": "HTMLModel",
          "model_module_version": "1.5.0",
          "state": {
            "_dom_classes": [],
            "_model_module": "@jupyter-widgets/controls",
            "_model_module_version": "1.5.0",
            "_model_name": "HTMLModel",
            "_view_count": null,
            "_view_module": "@jupyter-widgets/controls",
            "_view_module_version": "1.5.0",
            "_view_name": "HTMLView",
            "description": "",
            "description_tooltip": null,
            "layout": "IPY_MODEL_b3e1dbb7736a409b9ccd0fd4b9d7c64b",
            "placeholder": "​",
            "style": "IPY_MODEL_e33d27df16714b3282fef321a619fc54",
            "value": " 915/915 [00:00&lt;00:00, 9039.04it/s]"
          }
        },
        "f461950bae144ec59926287eb7564740": {
          "model_module": "@jupyter-widgets/base",
          "model_name": "LayoutModel",
          "model_module_version": "1.2.0",
          "state": {
            "_model_module": "@jupyter-widgets/base",
            "_model_module_version": "1.2.0",
            "_model_name": "LayoutModel",
            "_view_count": null,
            "_view_module": "@jupyter-widgets/base",
            "_view_module_version": "1.2.0",
            "_view_name": "LayoutView",
            "align_content": null,
            "align_items": null,
            "align_self": null,
            "border": null,
            "bottom": null,
            "display": null,
            "flex": null,
            "flex_flow": null,
            "grid_area": null,
            "grid_auto_columns": null,
            "grid_auto_flow": null,
            "grid_auto_rows": null,
            "grid_column": null,
            "grid_gap": null,
            "grid_row": null,
            "grid_template_areas": null,
            "grid_template_columns": null,
            "grid_template_rows": null,
            "height": null,
            "justify_content": null,
            "justify_items": null,
            "left": null,
            "margin": null,
            "max_height": null,
            "max_width": null,
            "min_height": null,
            "min_width": null,
            "object_fit": null,
            "object_position": null,
            "order": null,
            "overflow": null,
            "overflow_x": null,
            "overflow_y": null,
            "padding": null,
            "right": null,
            "top": null,
            "visibility": null,
            "width": null
          }
        },
        "dede7053466243398e4080a92437b8ec": {
          "model_module": "@jupyter-widgets/base",
          "model_name": "LayoutModel",
          "model_module_version": "1.2.0",
          "state": {
            "_model_module": "@jupyter-widgets/base",
            "_model_module_version": "1.2.0",
            "_model_name": "LayoutModel",
            "_view_count": null,
            "_view_module": "@jupyter-widgets/base",
            "_view_module_version": "1.2.0",
            "_view_name": "LayoutView",
            "align_content": null,
            "align_items": null,
            "align_self": null,
            "border": null,
            "bottom": null,
            "display": null,
            "flex": null,
            "flex_flow": null,
            "grid_area": null,
            "grid_auto_columns": null,
            "grid_auto_flow": null,
            "grid_auto_rows": null,
            "grid_column": null,
            "grid_gap": null,
            "grid_row": null,
            "grid_template_areas": null,
            "grid_template_columns": null,
            "grid_template_rows": null,
            "height": null,
            "justify_content": null,
            "justify_items": null,
            "left": null,
            "margin": null,
            "max_height": null,
            "max_width": null,
            "min_height": null,
            "min_width": null,
            "object_fit": null,
            "object_position": null,
            "order": null,
            "overflow": null,
            "overflow_x": null,
            "overflow_y": null,
            "padding": null,
            "right": null,
            "top": null,
            "visibility": null,
            "width": null
          }
        },
        "d97793a6e71e46a6af193764a21e1409": {
          "model_module": "@jupyter-widgets/controls",
          "model_name": "DescriptionStyleModel",
          "model_module_version": "1.5.0",
          "state": {
            "_model_module": "@jupyter-widgets/controls",
            "_model_module_version": "1.5.0",
            "_model_name": "DescriptionStyleModel",
            "_view_count": null,
            "_view_module": "@jupyter-widgets/base",
            "_view_module_version": "1.2.0",
            "_view_name": "StyleView",
            "description_width": ""
          }
        },
        "82cb581dcdf745a0b152ce2c10c53480": {
          "model_module": "@jupyter-widgets/base",
          "model_name": "LayoutModel",
          "model_module_version": "1.2.0",
          "state": {
            "_model_module": "@jupyter-widgets/base",
            "_model_module_version": "1.2.0",
            "_model_name": "LayoutModel",
            "_view_count": null,
            "_view_module": "@jupyter-widgets/base",
            "_view_module_version": "1.2.0",
            "_view_name": "LayoutView",
            "align_content": null,
            "align_items": null,
            "align_self": null,
            "border": null,
            "bottom": null,
            "display": null,
            "flex": null,
            "flex_flow": null,
            "grid_area": null,
            "grid_auto_columns": null,
            "grid_auto_flow": null,
            "grid_auto_rows": null,
            "grid_column": null,
            "grid_gap": null,
            "grid_row": null,
            "grid_template_areas": null,
            "grid_template_columns": null,
            "grid_template_rows": null,
            "height": null,
            "justify_content": null,
            "justify_items": null,
            "left": null,
            "margin": null,
            "max_height": null,
            "max_width": null,
            "min_height": null,
            "min_width": null,
            "object_fit": null,
            "object_position": null,
            "order": null,
            "overflow": null,
            "overflow_x": null,
            "overflow_y": null,
            "padding": null,
            "right": null,
            "top": null,
            "visibility": null,
            "width": null
          }
        },
        "588f39bf19e14818b0f020b103a2bc8f": {
          "model_module": "@jupyter-widgets/controls",
          "model_name": "ProgressStyleModel",
          "model_module_version": "1.5.0",
          "state": {
            "_model_module": "@jupyter-widgets/controls",
            "_model_module_version": "1.5.0",
            "_model_name": "ProgressStyleModel",
            "_view_count": null,
            "_view_module": "@jupyter-widgets/base",
            "_view_module_version": "1.2.0",
            "_view_name": "StyleView",
            "bar_color": null,
            "description_width": ""
          }
        },
        "b3e1dbb7736a409b9ccd0fd4b9d7c64b": {
          "model_module": "@jupyter-widgets/base",
          "model_name": "LayoutModel",
          "model_module_version": "1.2.0",
          "state": {
            "_model_module": "@jupyter-widgets/base",
            "_model_module_version": "1.2.0",
            "_model_name": "LayoutModel",
            "_view_count": null,
            "_view_module": "@jupyter-widgets/base",
            "_view_module_version": "1.2.0",
            "_view_name": "LayoutView",
            "align_content": null,
            "align_items": null,
            "align_self": null,
            "border": null,
            "bottom": null,
            "display": null,
            "flex": null,
            "flex_flow": null,
            "grid_area": null,
            "grid_auto_columns": null,
            "grid_auto_flow": null,
            "grid_auto_rows": null,
            "grid_column": null,
            "grid_gap": null,
            "grid_row": null,
            "grid_template_areas": null,
            "grid_template_columns": null,
            "grid_template_rows": null,
            "height": null,
            "justify_content": null,
            "justify_items": null,
            "left": null,
            "margin": null,
            "max_height": null,
            "max_width": null,
            "min_height": null,
            "min_width": null,
            "object_fit": null,
            "object_position": null,
            "order": null,
            "overflow": null,
            "overflow_x": null,
            "overflow_y": null,
            "padding": null,
            "right": null,
            "top": null,
            "visibility": null,
            "width": null
          }
        },
        "e33d27df16714b3282fef321a619fc54": {
          "model_module": "@jupyter-widgets/controls",
          "model_name": "DescriptionStyleModel",
          "model_module_version": "1.5.0",
          "state": {
            "_model_module": "@jupyter-widgets/controls",
            "_model_module_version": "1.5.0",
            "_model_name": "DescriptionStyleModel",
            "_view_count": null,
            "_view_module": "@jupyter-widgets/base",
            "_view_module_version": "1.2.0",
            "_view_name": "StyleView",
            "description_width": ""
          }
        }
      }
    }
  },
  "nbformat": 4,
  "nbformat_minor": 5
}