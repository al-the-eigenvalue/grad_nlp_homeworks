{
  "cells": [
    {
      "cell_type": "markdown",
      "id": "ca9018a8-98d3-43e9-aadb-e7a7bee17a85",
      "metadata": {
        "id": "ca9018a8-98d3-43e9-aadb-e7a7bee17a85"
      },
      "source": [
        "## Fastext своими руками\n",
        "\n",
        "Fastext использует те же самые алгоритмы, что и word2vec. Единственное (но очень значимое) отличие в том, что в fastext используются не только слова, но и символьные нграммы. Это частично помогает решить проблему с несловарными словами. Если в словаре word2vec модели нет нужного слова, то никакого вектора для него создать не получится. В fastext же, если слова нет в словаре целиком, то можно проверить по словарю символьные нграммы этого слова и составить итоговый вектор из них. Большинство несловарных слов сильно пересекаются со словарными (основами, аффиксами) и за счет этого найденный вектор получается достаточно хороший.\n",
        "Реализовать простую версию fastext немного сложнее, поэтому я вынес его в отдельный ноутбук."
      ]
    },
    {
      "cell_type": "code",
      "execution_count": 1,
      "id": "9be38530-a130-4f1f-baf6-d9d4f56396e3",
      "metadata": {
        "id": "9be38530-a130-4f1f-baf6-d9d4f56396e3"
      },
      "outputs": [],
      "source": [
        "import tensorflow as tf\n",
        "import numpy as np\n",
        "import pandas as pd\n",
        "import random\n",
        "from string import punctuation\n",
        "from sklearn.model_selection import train_test_split\n",
        "from collections import Counter\n",
        "import matplotlib.pyplot as plt\n",
        "from sklearn.decomposition import TruncatedSVD\n",
        "from sklearn.feature_extraction.text import CountVectorizer\n",
        "from sklearn.metrics.pairwise import cosine_distances\n",
        "\n",
        "from IPython.display import Image\n",
        "from IPython.core.display import HTML\n",
        "%matplotlib inline"
      ]
    },
    {
      "cell_type": "code",
      "execution_count": 2,
      "id": "b83e8611-49e4-4001-8046-cda52b85e965",
      "metadata": {
        "colab": {
          "base_uri": "https://localhost:8080/"
        },
        "id": "b83e8611-49e4-4001-8046-cda52b85e965",
        "outputId": "3555313e-8759-450b-b230-aa3743b9ce98"
      },
      "outputs": [
        {
          "output_type": "stream",
          "name": "stdout",
          "text": [
            "3.5.0\n"
          ]
        }
      ],
      "source": [
        "import os\n",
        "os.environ[\"KERAS_BACKEND\"] = \"torch\"\n",
        "# os.environ[\"PYTORCH_ENABLE_MPS_FALLBACK\"] = \"1\"\n",
        "\n",
        "import torch\n",
        "# torch.set_default_device('cpu')\n",
        "\n",
        "import keras\n",
        "print(keras.__version__)"
      ]
    },
    {
      "cell_type": "markdown",
      "id": "d9e201b4-924b-4b88-ab5f-facca2e9e511",
      "metadata": {
        "id": "d9e201b4-924b-4b88-ab5f-facca2e9e511"
      },
      "source": [
        "Возьмем тот же небольшой кусок википедии"
      ]
    },
    {
      "cell_type": "code",
      "execution_count": 3,
      "id": "73b1f1d1-53c4-424b-b34b-4e5e772e1c99",
      "metadata": {
        "id": "73b1f1d1-53c4-424b-b34b-4e5e772e1c99"
      },
      "outputs": [],
      "source": [
        "# в нашем корпусе 20к текстов\n",
        "wiki = open('wiki_data.txt').read().split('\\n')"
      ]
    },
    {
      "cell_type": "code",
      "execution_count": 4,
      "id": "f156ffec-37a8-4860-8489-53ea24f4761f",
      "metadata": {
        "colab": {
          "base_uri": "https://localhost:8080/",
          "height": 140
        },
        "id": "f156ffec-37a8-4860-8489-53ea24f4761f",
        "outputId": "36d1b4a2-06d9-4c9a-937a-f56d2df3af83"
      },
      "outputs": [
        {
          "output_type": "execute_result",
          "data": {
            "text/plain": [
              "'######Новостройка (Нижегородская область)############Новостро́йка — сельский посёлок в Дивеевском районе Нижегородской области. Входит в состав Сатисского сельсовета.############Посёлок расположен в 12,5 км к югу от села Дивеева и 1 км к западу от города Сарова, на правом берегу реки Вичкинза (правый приток реки Сатис). Окружён смешанными лесами. Соединён асфальтовой дорогой с посёлком Цыгановка (1,5 км) и грунтовыми просёлочными дорогами с посёлком Сатис (3,5 км). Название Новостройка является сугубо официальным, местное население использует исключительно альтернативное название — Хитрый. Употребляется языковой оборот «…на Хитром». Ранее используемые названия — Песчаный, Известковый.############Основан в 1920-х годах переселенцами из соседних сёл Аламасово и Нарышкино (расположенных соответственно в 8 и 14 км к западу в Вознесенском районе).############Традиционно в посёлке жили рабочие совхоза «Вперёд» (центр в посёлке Сатис). Возле посёлка расположен карьер где активно добывали доломитовую муку и бутовый камень (в настоящее время официально закрыт).############По данным 1978 года посёлок Новостройка характеризовался как неперспективный, здесь насчитывалось 24 хозяйства и 43 жителя. Водоснабжение осуществлялось из колодцев и родников, учреждения соцкультбыта отсутствовали. В 1992 году в посёлке насчитывалось 7 хозяйств и 16 жителей, из которых 7 трудоспособного возраста. На 1 января 1995 года в посёлке имелось 6 хозяйств и 12 жителей.############В настоящее время посёлок не только остаётся жилым, но и получил развитие благодаря своей близости к святым источникам. В полукилометре расположен Казанский родник, а в 1,2 км — источник святого Серафима Саровского.############В посёлке расположен скит Дивеевского монастыря.######В 2012 году был освящён домовой храм в честь Серафима Саровского.##############################'"
            ],
            "application/vnd.google.colaboratory.intrinsic+json": {
              "type": "string"
            }
          },
          "metadata": {},
          "execution_count": 4
        }
      ],
      "source": [
        "wiki[0]"
      ]
    },
    {
      "cell_type": "code",
      "execution_count": 5,
      "id": "3d2fac88-447a-4392-9614-b532a6a7016e",
      "metadata": {
        "colab": {
          "base_uri": "https://localhost:8080/"
        },
        "id": "3d2fac88-447a-4392-9614-b532a6a7016e",
        "outputId": "ba2bbfbf-39c4-4262-e592-8bd672ccc444"
      },
      "outputs": [
        {
          "output_type": "execute_result",
          "data": {
            "text/plain": [
              "20003"
            ]
          },
          "metadata": {},
          "execution_count": 5
        }
      ],
      "source": [
        "len(wiki)"
      ]
    },
    {
      "cell_type": "markdown",
      "id": "d088a22e-fa9e-4647-926b-15aead479c97",
      "metadata": {
        "id": "d088a22e-fa9e-4647-926b-15aead479c97"
      },
      "source": [
        "Базовая токенизация остается точно такой же"
      ]
    },
    {
      "cell_type": "code",
      "execution_count": 6,
      "id": "0ff1c5d7-08b0-4cc2-90f5-cfe01709f04f",
      "metadata": {
        "id": "0ff1c5d7-08b0-4cc2-90f5-cfe01709f04f"
      },
      "outputs": [],
      "source": [
        "import re\n",
        "from collections import Counter\n",
        "def tokenize(text):\n",
        "    tokens = re.sub('#+', ' ', text.lower()).split()\n",
        "    tokens = [token.strip(punctuation) for token in tokens]\n",
        "    tokens = [token for token in tokens if token]\n",
        "    return tokens\n"
      ]
    },
    {
      "cell_type": "markdown",
      "id": "b34852d5-d923-4d7b-8a51-73e3bda4d59a",
      "metadata": {
        "id": "b34852d5-d923-4d7b-8a51-73e3bda4d59a"
      },
      "source": [
        "Второй базовый элемент - это нграммер, чтобы разбивать токен на символьные нграммы\n",
        "Обратите внимание что к токену добавляются <> чтобы учесть в нграммах, что они стоят в начале или в конце"
      ]
    },
    {
      "cell_type": "code",
      "execution_count": 7,
      "id": "040c32c0-c661-4351-bf18-996db0c6dbd5",
      "metadata": {
        "id": "040c32c0-c661-4351-bf18-996db0c6dbd5"
      },
      "outputs": [],
      "source": [
        "def ngrammer(raw_string, n=2):\n",
        "    ngrams = []\n",
        "    raw_string = ''.join(['<', raw_string, '>'])\n",
        "    for i in range(0,len(raw_string)-n+1):\n",
        "        ngram = ''.join(raw_string[i:i+n])\n",
        "        if ngram == '<' or ngram == '>': # сами по себе <> как токены не нужны\n",
        "            continue\n",
        "        ngrams.append(ngram)\n",
        "    return ngrams"
      ]
    },
    {
      "cell_type": "markdown",
      "id": "4b514cd9-1860-4988-b3d0-554aad49164f",
      "metadata": {
        "id": "4b514cd9-1860-4988-b3d0-554aad49164f"
      },
      "source": [
        "Следующая функция проходится по токенам и разбивает каждый токен на подсимвольные нграммы в заданном интервале"
      ]
    },
    {
      "cell_type": "code",
      "execution_count": 8,
      "id": "540eb690-03a5-4153-b6c3-3fbd0a1d374b",
      "metadata": {
        "id": "540eb690-03a5-4153-b6c3-3fbd0a1d374b"
      },
      "outputs": [],
      "source": [
        "def split_tokens(tokens, min_ngram_size, max_ngram_size):\n",
        "    tokens_with_subwords = []\n",
        "    for token in tokens:\n",
        "        subtokens = []\n",
        "        for i in range(min_ngram_size, max_ngram_size+1):\n",
        "            if len(token) > i:\n",
        "                subtokens.extend(ngrammer(token, i))\n",
        "        tokens_with_subwords.append(subtokens)\n",
        "    return tokens_with_subwords\n"
      ]
    },
    {
      "cell_type": "code",
      "execution_count": 9,
      "id": "04670a7c-b998-4e9d-95df-f671496d2920",
      "metadata": {
        "scrolled": true,
        "colab": {
          "base_uri": "https://localhost:8080/"
        },
        "id": "04670a7c-b998-4e9d-95df-f671496d2920",
        "outputId": "bfb37e78-03e9-4f66-b8b0-11dd5d12877c"
      },
      "outputs": [
        {
          "output_type": "execute_result",
          "data": {
            "text/plain": [
              "[['<по',\n",
              "  'под',\n",
              "  'одс',\n",
              "  'дси',\n",
              "  'сим',\n",
              "  'имв',\n",
              "  'мво',\n",
              "  'вол',\n",
              "  'оль',\n",
              "  'льн',\n",
              "  'ьны',\n",
              "  'ные',\n",
              "  'ые>',\n",
              "  '<под',\n",
              "  'подс',\n",
              "  'одси',\n",
              "  'дсим',\n",
              "  'симв',\n",
              "  'имво',\n",
              "  'мвол',\n",
              "  'воль',\n",
              "  'ольн',\n",
              "  'льны',\n",
              "  'ьные',\n",
              "  'ные>'],\n",
              " ['<нг',\n",
              "  'нгр',\n",
              "  'гра',\n",
              "  'рам',\n",
              "  'амм',\n",
              "  'ммы',\n",
              "  'мы>',\n",
              "  '<нгр',\n",
              "  'нгра',\n",
              "  'грам',\n",
              "  'рамм',\n",
              "  'аммы',\n",
              "  'ммы>']]"
            ]
          },
          "metadata": {},
          "execution_count": 9
        }
      ],
      "source": [
        "split_tokens(['подсимвольные', 'нграммы'], 3, 4)"
      ]
    },
    {
      "cell_type": "markdown",
      "id": "270f33a1-5b42-40ec-814d-16df7917ea70",
      "metadata": {
        "id": "270f33a1-5b42-40ec-814d-16df7917ea70"
      },
      "source": [
        "Теперь нам нужно спаппить токены и подсимвольные нграммы в индексы и для этого нужно построить словарь. Это немного сложнее чем раньше потому что мы хотим иметь в словаре и полные слова и символьные нграммы, но нам нужно иметь отдельный список только полных слов, чтобы потом иметь возможность находить ближайшие слова.\n",
        "\n",
        "Чтобы было удобнее со всеми переменными напишем класс для токенизации"
      ]
    },
    {
      "cell_type": "code",
      "execution_count": 10,
      "id": "4b1c4056-c3da-43bb-816f-264b92e89fd5",
      "metadata": {
        "id": "4b1c4056-c3da-43bb-816f-264b92e89fd5"
      },
      "outputs": [],
      "source": [
        "class SubwordTokenizer:\n",
        "    def __init__(self, ngram_range=(1,1), min_count=5):\n",
        "        self.min_ngram_size, self.max_ngram_size = ngram_range\n",
        "        self.min_count = min_count\n",
        "        self.subword_vocab = None\n",
        "        self.fullword_vocab = None\n",
        "        self.fullword_vocab_tuple = None\n",
        "        self.vocab = None\n",
        "        self.id2word = None\n",
        "        self.word2id = None\n",
        "\n",
        "    def build_vocab(self, texts):\n",
        "        # чтобы построить словарь нужно пройти по всему корпусу и собрать частоты всех уникальных слов и нграммов\n",
        "        unfiltered_subword_vocab = Counter()\n",
        "        unfiltered_fullword_vocab = Counter()\n",
        "        for text in texts:\n",
        "            tokens = tokenize(text)\n",
        "            unfiltered_fullword_vocab.update(tokens)\n",
        "            subwords_per_token = split_tokens(tokens, self.min_ngram_size, self.max_ngram_size)\n",
        "            for subwords in subwords_per_token:\n",
        "                # в одном слове могут быть одинаковые нграммы поэтому возьмем только уникальные\n",
        "                unfiltered_subword_vocab.update(set(subwords))\n",
        "\n",
        "        self.fullword_vocab = set()\n",
        "        self.subword_vocab = set()\n",
        "\n",
        "        # теперь отфильтруем по частоте\n",
        "        for word, count in unfiltered_fullword_vocab.items():\n",
        "            if count >= self.min_count:\n",
        "                self.fullword_vocab.add(word)\n",
        "        # для нграммов сделаем порог побольше чтобы не создавать слишком много нграммов\n",
        "        # и учитывать только действительно частотные\n",
        "        for word, count in unfiltered_subword_vocab.items():\n",
        "            if count >= (self.min_count * 100):\n",
        "                self.subword_vocab.add(word)\n",
        "\n",
        "        # общий словарь\n",
        "        self.fullword_vocab_tuple = tuple(self.fullword_vocab)\n",
        "        self.vocab = self.fullword_vocab | self.subword_vocab\n",
        "        self.id2word = {i:word for i,word in enumerate(self.vocab)}\n",
        "        self.word2id = {word:i for i,word in self.id2word.items()}\n",
        "\n",
        "    def subword_tokenize(self, text):\n",
        "        if self.vocab is None:\n",
        "            raise AttributeError('Vocabulary is not built!')\n",
        "        # разбиваем на токены\n",
        "        tokens = tokenize(text)\n",
        "        # каждый токен разбиваем на символьные нграммы\n",
        "        tokens_with_subwords = split_tokens(tokens, self.min_ngram_size, self.max_ngram_size)\n",
        "        # оставляет только токены и нграммы которые есть в словаре\n",
        "        only_vocab_tokens_with_subwords = []\n",
        "        for full_token, sub_tokens in zip(tokens, tokens_with_subwords):\n",
        "            filtered = []\n",
        "            if full_token in self.vocab:\n",
        "                # само слово и нграммы хранятся в одном списке\n",
        "                # но слово будет всегда первым в списке\n",
        "                filtered.append(full_token)\n",
        "            filtered.extend([subtoken for subtoken in set(sub_tokens) if subtoken in self.vocab])\n",
        "            only_vocab_tokens_with_subwords.append(filtered)\n",
        "\n",
        "        return only_vocab_tokens_with_subwords\n",
        "\n",
        "    def encode(self, subword_tokenized_text):\n",
        "        # маппим токены и нграммы в их индексы в словаре\n",
        "        encoded_text = []\n",
        "        for token in subword_tokenized_text:\n",
        "            if not token:\n",
        "                continue\n",
        "            encoded_text.append([self.word2id[token[0]]] + [self.word2id[t] for t in set(token[1:]) if t in self.word2id and t != token[0]])\n",
        "        return encoded_text\n",
        "\n",
        "    def __call__(self, text):\n",
        "        return self.encode(self.subword_tokenize(text))\n"
      ]
    },
    {
      "cell_type": "code",
      "execution_count": 11,
      "id": "2964f47c-1ab8-4b3a-8af1-b845d6a4cd7a",
      "metadata": {
        "id": "2964f47c-1ab8-4b3a-8af1-b845d6a4cd7a"
      },
      "outputs": [],
      "source": [
        "tokenizer = SubwordTokenizer(ngram_range=(2,4), min_count=10)"
      ]
    },
    {
      "cell_type": "code",
      "execution_count": 12,
      "id": "8e2445c1-7e68-401a-bad8-2d19d822c15b",
      "metadata": {
        "id": "8e2445c1-7e68-401a-bad8-2d19d822c15b"
      },
      "outputs": [],
      "source": [
        "tokenizer.build_vocab(wiki)"
      ]
    },
    {
      "cell_type": "code",
      "execution_count": 13,
      "id": "318cf75d-086f-41f5-88d8-9c771201e2ea",
      "metadata": {
        "colab": {
          "base_uri": "https://localhost:8080/"
        },
        "id": "318cf75d-086f-41f5-88d8-9c771201e2ea",
        "outputId": "589d7091-adaa-4bf9-bc51-5279c0658a16"
      },
      "outputs": [
        {
          "output_type": "execute_result",
          "data": {
            "text/plain": [
              "[['текст',\n",
              "  'тек',\n",
              "  'екс',\n",
              "  '<тек',\n",
              "  '<те',\n",
              "  'кс',\n",
              "  'ек',\n",
              "  'екст',\n",
              "  'т>',\n",
              "  'кст',\n",
              "  'ст>',\n",
              "  '<т',\n",
              "  'текс',\n",
              "  'ст',\n",
              "  'те'],\n",
              " ['для', 'дл', 'ля', 'я>', '<д'],\n",
              " ['тестирования',\n",
              "  'ти',\n",
              "  'ва',\n",
              "  'я>',\n",
              "  'ест',\n",
              "  'тир',\n",
              "  'ир',\n",
              "  'ова',\n",
              "  'тиро',\n",
              "  'ров',\n",
              "  'сти',\n",
              "  'тест',\n",
              "  'ст',\n",
              "  'ро',\n",
              "  'рова',\n",
              "  'иров',\n",
              "  'вани',\n",
              "  '<те',\n",
              "  'те',\n",
              "  'ани',\n",
              "  'ни',\n",
              "  'ести',\n",
              "  'ия',\n",
              "  'ния',\n",
              "  'ия>',\n",
              "  'ов',\n",
              "  'ован',\n",
              "  'ес',\n",
              "  'иро',\n",
              "  'тес',\n",
              "  'ания',\n",
              "  'ния>',\n",
              "  '<т',\n",
              "  'ван',\n",
              "  'ан'],\n",
              " ['ок',\n",
              "  'из',\n",
              "  '<то',\n",
              "  'зац',\n",
              "  'ац',\n",
              "  'ени',\n",
              "  'аци',\n",
              "  'ии>',\n",
              "  'ци',\n",
              "  'оке',\n",
              "  'кен',\n",
              "  'ции>',\n",
              "  'ни',\n",
              "  'ке',\n",
              "  'и>',\n",
              "  'изац',\n",
              "  'заци',\n",
              "  'ток',\n",
              "  'то',\n",
              "  'ции',\n",
              "  'иза',\n",
              "  'низ',\n",
              "  'ен',\n",
              "  'ии',\n",
              "  'ации',\n",
              "  'за',\n",
              "  'токе',\n",
              "  '<т',\n",
              "  'низа']]"
            ]
          },
          "metadata": {},
          "execution_count": 13
        }
      ],
      "source": [
        "tokenizer.subword_tokenize('Текст для тестирования токенизации')"
      ]
    },
    {
      "cell_type": "code",
      "execution_count": 14,
      "id": "2f488c48-5fad-414d-9be8-d432e062bc9b",
      "metadata": {
        "colab": {
          "base_uri": "https://localhost:8080/"
        },
        "id": "2f488c48-5fad-414d-9be8-d432e062bc9b",
        "outputId": "5b9ab463-debf-49be-bbbe-dc9320cc3304"
      },
      "outputs": [
        {
          "output_type": "execute_result",
          "data": {
            "text/plain": [
              "54860"
            ]
          },
          "metadata": {},
          "execution_count": 14
        }
      ],
      "source": [
        "len(tokenizer.vocab)"
      ]
    },
    {
      "cell_type": "code",
      "execution_count": 15,
      "id": "e6f2a37a-c4f9-4a2b-a0b3-e8ca4dd9d104",
      "metadata": {
        "scrolled": true,
        "colab": {
          "base_uri": "https://localhost:8080/"
        },
        "id": "e6f2a37a-c4f9-4a2b-a0b3-e8ca4dd9d104",
        "outputId": "09fa59ab-9477-45c9-be47-53e9465a34d8"
      },
      "outputs": [
        {
          "output_type": "execute_result",
          "data": {
            "text/plain": [
              "[[16116,\n",
              "  46041,\n",
              "  53670,\n",
              "  51635,\n",
              "  246,\n",
              "  13924,\n",
              "  53126,\n",
              "  21979,\n",
              "  524,\n",
              "  50573,\n",
              "  30712,\n",
              "  41912,\n",
              "  26550,\n",
              "  44451,\n",
              "  46859],\n",
              " [23279, 36211, 10628, 43000, 12403],\n",
              " [890,\n",
              "  42503,\n",
              "  19380,\n",
              "  13519,\n",
              "  24741,\n",
              "  43000,\n",
              "  50409,\n",
              "  40688,\n",
              "  28115,\n",
              "  1437,\n",
              "  5155,\n",
              "  41613,\n",
              "  4247,\n",
              "  246,\n",
              "  2176,\n",
              "  53530,\n",
              "  5884,\n",
              "  18824,\n",
              "  13924,\n",
              "  29864,\n",
              "  20042,\n",
              "  6002,\n",
              "  52609,\n",
              "  44566,\n",
              "  2320,\n",
              "  52666,\n",
              "  11455,\n",
              "  6125,\n",
              "  37469,\n",
              "  43452,\n",
              "  36236,\n",
              "  43093,\n",
              "  44451,\n",
              "  30777,\n",
              "  21979],\n",
              " [41839,\n",
              "  35642,\n",
              "  3539,\n",
              "  33855,\n",
              "  52476,\n",
              "  23039,\n",
              "  4236,\n",
              "  2467,\n",
              "  53571,\n",
              "  28059,\n",
              "  26005,\n",
              "  17565,\n",
              "  20042,\n",
              "  47695,\n",
              "  25736,\n",
              "  23239,\n",
              "  41671,\n",
              "  38338,\n",
              "  38802,\n",
              "  6230,\n",
              "  7894,\n",
              "  51708,\n",
              "  34871,\n",
              "  46728,\n",
              "  9233,\n",
              "  44681,\n",
              "  18057,\n",
              "  44451,\n",
              "  40681]]"
            ]
          },
          "metadata": {},
          "execution_count": 15
        }
      ],
      "source": [
        "tokenizer('Текст для тестирования токенизации')"
      ]
    },
    {
      "cell_type": "markdown",
      "id": "a3bb6393-2351-436a-8aaa-58ec1c7353c0",
      "metadata": {
        "id": "a3bb6393-2351-436a-8aaa-58ec1c7353c0"
      },
      "source": [
        "Реализуем функцию которая будет генерировать батчи для обучения. Сделаем только скипграмм алгоритм. То есть нам нужны пары токен_1 - токен_2 встретившиеся в одном контексте, только для токена_1 мы еще будет учитывать его символьный нграммы, а токен_2 будет предсказывать только целиком без разбиение на поднграммы"
      ]
    },
    {
      "cell_type": "code",
      "execution_count": 16,
      "id": "f2308cbf-cca8-4044-8c6d-80d4815f914e",
      "metadata": {
        "id": "f2308cbf-cca8-4044-8c6d-80d4815f914e"
      },
      "outputs": [],
      "source": [
        "def gen_batches_ft(sentences, tokenizer, window = 5, batch_size=1000, maxlen=20):\n",
        "\n",
        "    left_context_length = (window/2).__ceil__()\n",
        "    right_context_length = window // 2\n",
        "\n",
        "    while True:\n",
        "        X_target = []\n",
        "        X_context = []\n",
        "        y = []\n",
        "\n",
        "        for sent in sentences:\n",
        "            sent = tokenizer(sent)\n",
        "            for i in range(len(sent)-1):\n",
        "                word_with_subtokens = sent[i]\n",
        "                context = sent[max(0, i-left_context_length):i] + sent[i+1:i+right_context_length]\n",
        "                for context_word_with_subtokens in context:\n",
        "                    # целевой токен всегда только целый\n",
        "                    # мы берем первый токен из списка который вернул токенайзер\n",
        "                    # там у нас будет лежать целое слово\n",
        "                    only_full_word_context_token = context_word_with_subtokens[0]\n",
        "\n",
        "                    X_target.append(word_with_subtokens)\n",
        "                    X_context.append(only_full_word_context_token)\n",
        "                    y.append(1)\n",
        "\n",
        "                    X_target.append(word_with_subtokens)\n",
        "                    X_context.append(tokenizer.word2id[random.choice(tokenizer.fullword_vocab_tuple)])\n",
        "                    y.append(0)\n",
        "\n",
        "                    if len(X_target) >= batch_size:\n",
        "                        # тут нам понадобится паддинг так как количество сивольных нграммов будет зависеть от длины токенов\n",
        "                        X_target = np.array(keras.preprocessing.sequence.pad_sequences(X_target, maxlen=maxlen))\n",
        "                        X_context = np.array(X_context)\n",
        "                        y = np.array(y)\n",
        "                        yield ((X_target, X_context), y)\n",
        "                        X_target = []\n",
        "                        X_context = []\n",
        "                        y = []"
      ]
    },
    {
      "cell_type": "code",
      "execution_count": 17,
      "id": "4fa2a8c6-f144-484e-b641-b89749bb710c",
      "metadata": {
        "id": "4fa2a8c6-f144-484e-b641-b89749bb710c"
      },
      "outputs": [],
      "source": [
        "gen = gen_batches_ft(wiki, tokenizer, batch_size=5)"
      ]
    },
    {
      "cell_type": "code",
      "execution_count": 18,
      "id": "11d3ef2c-3bb4-4e19-9fe3-8f8592d02381",
      "metadata": {
        "colab": {
          "base_uri": "https://localhost:8080/"
        },
        "id": "11d3ef2c-3bb4-4e19-9fe3-8f8592d02381",
        "outputId": "dfcbaca2-0885-40ca-8a02-6edc76853ea5"
      },
      "outputs": [
        {
          "output_type": "execute_result",
          "data": {
            "text/plain": [
              "((array([[53525, 22579,   246, 53530, 18298, 26006, 42219, 24455,  6291,\n",
              "          21227, 40554, 41251, 39142, 52666, 10218, 40897, 35271, 34313,\n",
              "          50027, 25609],\n",
              "         [53525, 22579,   246, 53530, 18298, 26006, 42219, 24455,  6291,\n",
              "          21227, 40554, 41251, 39142, 52666, 10218, 40897, 35271, 34313,\n",
              "          50027, 25609],\n",
              "         [17831,  9373, 53642,  8996, 20042, 21861, 34511, 16234, 54410,\n",
              "          47147, 54361, 39142, 11450, 36795, 19819,  3342, 19008, 34313,\n",
              "          21772, 54046],\n",
              "         [17831,  9373, 53642,  8996, 20042, 21861, 34511, 16234, 54410,\n",
              "          47147, 54361, 39142, 11450, 36795, 19819,  3342, 19008, 34313,\n",
              "          21772, 54046],\n",
              "         [17831,  9373, 53642,  8996, 20042, 21861, 34511, 16234, 54410,\n",
              "          47147, 54361, 39142, 11450, 36795, 19819,  3342, 19008, 34313,\n",
              "          21772, 54046],\n",
              "         [17831,  9373, 53642,  8996, 20042, 21861, 34511, 16234, 54410,\n",
              "          47147, 54361, 39142, 11450, 36795, 19819,  3342, 19008, 34313,\n",
              "          21772, 54046]], dtype=int32),\n",
              "  array([42197,  7266, 26266, 27045, 11149, 26567])),\n",
              " array([1, 0, 1, 0, 1, 0]))"
            ]
          },
          "metadata": {},
          "execution_count": 18
        }
      ],
      "source": [
        "next(gen)"
      ]
    },
    {
      "cell_type": "markdown",
      "id": "a16b8442-7830-4e92-bf2a-007eaed7354a",
      "metadata": {
        "id": "a16b8442-7830-4e92-bf2a-007eaed7354a"
      },
      "source": [
        "Код для обучения очень простой. Мы просто сопостовляет каждому токену и нграмму эмбединг и усредняем все эмбединги внутри слова, чтобы получить итоговый. По нему мы пытаемся предсказать целевое слово."
      ]
    },
    {
      "cell_type": "code",
      "source": [
        "inputs_target = keras.layers.Input(shape=(20,))\n",
        "inputs_context = keras.layers.Input(shape=(1,))\n",
        "\n",
        "embeddings_target = keras.layers.Embedding(input_dim=len(tokenizer.vocab), output_dim=300)(inputs_target, )\n",
        "embeddings_context = keras.layers.Embedding(input_dim=len(tokenizer.vocab), output_dim=300)(inputs_context, )\n",
        "\n",
        "target = keras.layers.Lambda(\n",
        "    lambda x: tf.reduce_sum(x, axis=1), output_shape=(300,))(embeddings_target)\n",
        "print(target)\n",
        "context = keras.layers.Flatten()(embeddings_context)\n",
        "print(context)\n",
        "\n",
        "dot = keras.layers.Dot(1)([target, context])\n",
        "outputs = keras.layers.Activation(activation='sigmoid')(dot)\n",
        "\n",
        "model = keras.Model(inputs=[inputs_target, inputs_context],\n",
        "                       outputs=outputs)\n",
        "optimizer = keras.optimizers.Adam(learning_rate=1e-4)\n",
        "model.compile(optimizer=optimizer,\n",
        "              loss='binary_crossentropy',\n",
        "              metrics=['accuracy'])"
      ],
      "metadata": {
        "colab": {
          "base_uri": "https://localhost:8080/"
        },
        "id": "YrZt-lIj2HTk",
        "outputId": "e954da52-6a05-45eb-9b19-c99418a6a1c5"
      },
      "id": "YrZt-lIj2HTk",
      "execution_count": 19,
      "outputs": [
        {
          "output_type": "stream",
          "name": "stdout",
          "text": [
            "<KerasTensor shape=(None, 300), dtype=float32, sparse=False, name=keras_tensor_4>\n",
            "<KerasTensor shape=(None, 300), dtype=float32, sparse=False, name=keras_tensor_5>\n"
          ]
        }
      ]
    },
    {
      "cell_type": "code",
      "execution_count": 20,
      "id": "78620544-d4e7-4d26-8351-bb99b910ec13",
      "metadata": {
        "id": "78620544-d4e7-4d26-8351-bb99b910ec13"
      },
      "outputs": [],
      "source": [
        "model.build([(None, 20), (None, 1)])"
      ]
    },
    {
      "cell_type": "code",
      "execution_count": 21,
      "id": "71ab62bb-a552-41eb-9df2-bb7d4e7b5c22",
      "metadata": {
        "colab": {
          "base_uri": "https://localhost:8080/",
          "height": 417
        },
        "id": "71ab62bb-a552-41eb-9df2-bb7d4e7b5c22",
        "outputId": "b6c0c517-767e-4b08-fb6b-2ef131312a8c"
      },
      "outputs": [
        {
          "output_type": "display_data",
          "data": {
            "text/plain": [
              "\u001b[1mModel: \"functional\"\u001b[0m\n"
            ],
            "text/html": [
              "<pre style=\"white-space:pre;overflow-x:auto;line-height:normal;font-family:Menlo,'DejaVu Sans Mono',consolas,'Courier New',monospace\"><span style=\"font-weight: bold\">Model: \"functional\"</span>\n",
              "</pre>\n"
            ]
          },
          "metadata": {}
        },
        {
          "output_type": "display_data",
          "data": {
            "text/plain": [
              "┏━━━━━━━━━━━━━━━━━━━━━━━━━━━┳━━━━━━━━━━━━━━━━━━━━━━━━┳━━━━━━━━━━━━━━━━┳━━━━━━━━━━━━━━━━━━━━━━━━┓\n",
              "┃\u001b[1m \u001b[0m\u001b[1mLayer (type)             \u001b[0m\u001b[1m \u001b[0m┃\u001b[1m \u001b[0m\u001b[1mOutput Shape          \u001b[0m\u001b[1m \u001b[0m┃\u001b[1m \u001b[0m\u001b[1m       Param #\u001b[0m\u001b[1m \u001b[0m┃\u001b[1m \u001b[0m\u001b[1mConnected to          \u001b[0m\u001b[1m \u001b[0m┃\n",
              "┡━━━━━━━━━━━━━━━━━━━━━━━━━━━╇━━━━━━━━━━━━━━━━━━━━━━━━╇━━━━━━━━━━━━━━━━╇━━━━━━━━━━━━━━━━━━━━━━━━┩\n",
              "│ input_layer (\u001b[38;5;33mInputLayer\u001b[0m)  │ (\u001b[38;5;45mNone\u001b[0m, \u001b[38;5;34m20\u001b[0m)             │              \u001b[38;5;34m0\u001b[0m │ -                      │\n",
              "├───────────────────────────┼────────────────────────┼────────────────┼────────────────────────┤\n",
              "│ input_layer_1             │ (\u001b[38;5;45mNone\u001b[0m, \u001b[38;5;34m1\u001b[0m)              │              \u001b[38;5;34m0\u001b[0m │ -                      │\n",
              "│ (\u001b[38;5;33mInputLayer\u001b[0m)              │                        │                │                        │\n",
              "├───────────────────────────┼────────────────────────┼────────────────┼────────────────────────┤\n",
              "│ embedding (\u001b[38;5;33mEmbedding\u001b[0m)     │ (\u001b[38;5;45mNone\u001b[0m, \u001b[38;5;34m20\u001b[0m, \u001b[38;5;34m300\u001b[0m)        │     \u001b[38;5;34m16,458,000\u001b[0m │ input_layer[\u001b[38;5;34m0\u001b[0m][\u001b[38;5;34m0\u001b[0m]      │\n",
              "├───────────────────────────┼────────────────────────┼────────────────┼────────────────────────┤\n",
              "│ embedding_1 (\u001b[38;5;33mEmbedding\u001b[0m)   │ (\u001b[38;5;45mNone\u001b[0m, \u001b[38;5;34m1\u001b[0m, \u001b[38;5;34m300\u001b[0m)         │     \u001b[38;5;34m16,458,000\u001b[0m │ input_layer_1[\u001b[38;5;34m0\u001b[0m][\u001b[38;5;34m0\u001b[0m]    │\n",
              "├───────────────────────────┼────────────────────────┼────────────────┼────────────────────────┤\n",
              "│ lambda (\u001b[38;5;33mLambda\u001b[0m)           │ (\u001b[38;5;45mNone\u001b[0m, \u001b[38;5;34m300\u001b[0m)            │              \u001b[38;5;34m0\u001b[0m │ embedding[\u001b[38;5;34m0\u001b[0m][\u001b[38;5;34m0\u001b[0m]        │\n",
              "├───────────────────────────┼────────────────────────┼────────────────┼────────────────────────┤\n",
              "│ flatten (\u001b[38;5;33mFlatten\u001b[0m)         │ (\u001b[38;5;45mNone\u001b[0m, \u001b[38;5;34m300\u001b[0m)            │              \u001b[38;5;34m0\u001b[0m │ embedding_1[\u001b[38;5;34m0\u001b[0m][\u001b[38;5;34m0\u001b[0m]      │\n",
              "├───────────────────────────┼────────────────────────┼────────────────┼────────────────────────┤\n",
              "│ dot (\u001b[38;5;33mDot\u001b[0m)                 │ (\u001b[38;5;45mNone\u001b[0m, \u001b[38;5;34m1\u001b[0m)              │              \u001b[38;5;34m0\u001b[0m │ lambda[\u001b[38;5;34m0\u001b[0m][\u001b[38;5;34m0\u001b[0m],          │\n",
              "│                           │                        │                │ flatten[\u001b[38;5;34m0\u001b[0m][\u001b[38;5;34m0\u001b[0m]          │\n",
              "├───────────────────────────┼────────────────────────┼────────────────┼────────────────────────┤\n",
              "│ activation (\u001b[38;5;33mActivation\u001b[0m)   │ (\u001b[38;5;45mNone\u001b[0m, \u001b[38;5;34m1\u001b[0m)              │              \u001b[38;5;34m0\u001b[0m │ dot[\u001b[38;5;34m0\u001b[0m][\u001b[38;5;34m0\u001b[0m]              │\n",
              "└───────────────────────────┴────────────────────────┴────────────────┴────────────────────────┘\n"
            ],
            "text/html": [
              "<pre style=\"white-space:pre;overflow-x:auto;line-height:normal;font-family:Menlo,'DejaVu Sans Mono',consolas,'Courier New',monospace\">┏━━━━━━━━━━━━━━━━━━━━━━━━━━━┳━━━━━━━━━━━━━━━━━━━━━━━━┳━━━━━━━━━━━━━━━━┳━━━━━━━━━━━━━━━━━━━━━━━━┓\n",
              "┃<span style=\"font-weight: bold\"> Layer (type)              </span>┃<span style=\"font-weight: bold\"> Output Shape           </span>┃<span style=\"font-weight: bold\">        Param # </span>┃<span style=\"font-weight: bold\"> Connected to           </span>┃\n",
              "┡━━━━━━━━━━━━━━━━━━━━━━━━━━━╇━━━━━━━━━━━━━━━━━━━━━━━━╇━━━━━━━━━━━━━━━━╇━━━━━━━━━━━━━━━━━━━━━━━━┩\n",
              "│ input_layer (<span style=\"color: #0087ff; text-decoration-color: #0087ff\">InputLayer</span>)  │ (<span style=\"color: #00d7ff; text-decoration-color: #00d7ff\">None</span>, <span style=\"color: #00af00; text-decoration-color: #00af00\">20</span>)             │              <span style=\"color: #00af00; text-decoration-color: #00af00\">0</span> │ -                      │\n",
              "├───────────────────────────┼────────────────────────┼────────────────┼────────────────────────┤\n",
              "│ input_layer_1             │ (<span style=\"color: #00d7ff; text-decoration-color: #00d7ff\">None</span>, <span style=\"color: #00af00; text-decoration-color: #00af00\">1</span>)              │              <span style=\"color: #00af00; text-decoration-color: #00af00\">0</span> │ -                      │\n",
              "│ (<span style=\"color: #0087ff; text-decoration-color: #0087ff\">InputLayer</span>)              │                        │                │                        │\n",
              "├───────────────────────────┼────────────────────────┼────────────────┼────────────────────────┤\n",
              "│ embedding (<span style=\"color: #0087ff; text-decoration-color: #0087ff\">Embedding</span>)     │ (<span style=\"color: #00d7ff; text-decoration-color: #00d7ff\">None</span>, <span style=\"color: #00af00; text-decoration-color: #00af00\">20</span>, <span style=\"color: #00af00; text-decoration-color: #00af00\">300</span>)        │     <span style=\"color: #00af00; text-decoration-color: #00af00\">16,458,000</span> │ input_layer[<span style=\"color: #00af00; text-decoration-color: #00af00\">0</span>][<span style=\"color: #00af00; text-decoration-color: #00af00\">0</span>]      │\n",
              "├───────────────────────────┼────────────────────────┼────────────────┼────────────────────────┤\n",
              "│ embedding_1 (<span style=\"color: #0087ff; text-decoration-color: #0087ff\">Embedding</span>)   │ (<span style=\"color: #00d7ff; text-decoration-color: #00d7ff\">None</span>, <span style=\"color: #00af00; text-decoration-color: #00af00\">1</span>, <span style=\"color: #00af00; text-decoration-color: #00af00\">300</span>)         │     <span style=\"color: #00af00; text-decoration-color: #00af00\">16,458,000</span> │ input_layer_1[<span style=\"color: #00af00; text-decoration-color: #00af00\">0</span>][<span style=\"color: #00af00; text-decoration-color: #00af00\">0</span>]    │\n",
              "├───────────────────────────┼────────────────────────┼────────────────┼────────────────────────┤\n",
              "│ lambda (<span style=\"color: #0087ff; text-decoration-color: #0087ff\">Lambda</span>)           │ (<span style=\"color: #00d7ff; text-decoration-color: #00d7ff\">None</span>, <span style=\"color: #00af00; text-decoration-color: #00af00\">300</span>)            │              <span style=\"color: #00af00; text-decoration-color: #00af00\">0</span> │ embedding[<span style=\"color: #00af00; text-decoration-color: #00af00\">0</span>][<span style=\"color: #00af00; text-decoration-color: #00af00\">0</span>]        │\n",
              "├───────────────────────────┼────────────────────────┼────────────────┼────────────────────────┤\n",
              "│ flatten (<span style=\"color: #0087ff; text-decoration-color: #0087ff\">Flatten</span>)         │ (<span style=\"color: #00d7ff; text-decoration-color: #00d7ff\">None</span>, <span style=\"color: #00af00; text-decoration-color: #00af00\">300</span>)            │              <span style=\"color: #00af00; text-decoration-color: #00af00\">0</span> │ embedding_1[<span style=\"color: #00af00; text-decoration-color: #00af00\">0</span>][<span style=\"color: #00af00; text-decoration-color: #00af00\">0</span>]      │\n",
              "├───────────────────────────┼────────────────────────┼────────────────┼────────────────────────┤\n",
              "│ dot (<span style=\"color: #0087ff; text-decoration-color: #0087ff\">Dot</span>)                 │ (<span style=\"color: #00d7ff; text-decoration-color: #00d7ff\">None</span>, <span style=\"color: #00af00; text-decoration-color: #00af00\">1</span>)              │              <span style=\"color: #00af00; text-decoration-color: #00af00\">0</span> │ lambda[<span style=\"color: #00af00; text-decoration-color: #00af00\">0</span>][<span style=\"color: #00af00; text-decoration-color: #00af00\">0</span>],          │\n",
              "│                           │                        │                │ flatten[<span style=\"color: #00af00; text-decoration-color: #00af00\">0</span>][<span style=\"color: #00af00; text-decoration-color: #00af00\">0</span>]          │\n",
              "├───────────────────────────┼────────────────────────┼────────────────┼────────────────────────┤\n",
              "│ activation (<span style=\"color: #0087ff; text-decoration-color: #0087ff\">Activation</span>)   │ (<span style=\"color: #00d7ff; text-decoration-color: #00d7ff\">None</span>, <span style=\"color: #00af00; text-decoration-color: #00af00\">1</span>)              │              <span style=\"color: #00af00; text-decoration-color: #00af00\">0</span> │ dot[<span style=\"color: #00af00; text-decoration-color: #00af00\">0</span>][<span style=\"color: #00af00; text-decoration-color: #00af00\">0</span>]              │\n",
              "└───────────────────────────┴────────────────────────┴────────────────┴────────────────────────┘\n",
              "</pre>\n"
            ]
          },
          "metadata": {}
        },
        {
          "output_type": "display_data",
          "data": {
            "text/plain": [
              "\u001b[1m Total params: \u001b[0m\u001b[38;5;34m32,916,000\u001b[0m (125.56 MB)\n"
            ],
            "text/html": [
              "<pre style=\"white-space:pre;overflow-x:auto;line-height:normal;font-family:Menlo,'DejaVu Sans Mono',consolas,'Courier New',monospace\"><span style=\"font-weight: bold\"> Total params: </span><span style=\"color: #00af00; text-decoration-color: #00af00\">32,916,000</span> (125.56 MB)\n",
              "</pre>\n"
            ]
          },
          "metadata": {}
        },
        {
          "output_type": "display_data",
          "data": {
            "text/plain": [
              "\u001b[1m Trainable params: \u001b[0m\u001b[38;5;34m32,916,000\u001b[0m (125.56 MB)\n"
            ],
            "text/html": [
              "<pre style=\"white-space:pre;overflow-x:auto;line-height:normal;font-family:Menlo,'DejaVu Sans Mono',consolas,'Courier New',monospace\"><span style=\"font-weight: bold\"> Trainable params: </span><span style=\"color: #00af00; text-decoration-color: #00af00\">32,916,000</span> (125.56 MB)\n",
              "</pre>\n"
            ]
          },
          "metadata": {}
        },
        {
          "output_type": "display_data",
          "data": {
            "text/plain": [
              "\u001b[1m Non-trainable params: \u001b[0m\u001b[38;5;34m0\u001b[0m (0.00 B)\n"
            ],
            "text/html": [
              "<pre style=\"white-space:pre;overflow-x:auto;line-height:normal;font-family:Menlo,'DejaVu Sans Mono',consolas,'Courier New',monospace\"><span style=\"font-weight: bold\"> Non-trainable params: </span><span style=\"color: #00af00; text-decoration-color: #00af00\">0</span> (0.00 B)\n",
              "</pre>\n"
            ]
          },
          "metadata": {}
        }
      ],
      "source": [
        "model.summary()"
      ]
    },
    {
      "cell_type": "code",
      "execution_count": 22,
      "id": "d4a88c49-025a-4f9b-99c1-632dd679c061",
      "metadata": {
        "colab": {
          "base_uri": "https://localhost:8080/"
        },
        "id": "d4a88c49-025a-4f9b-99c1-632dd679c061",
        "outputId": "d8f8e414-9ee0-4ebe-a644-cfa93e2d5de4"
      },
      "outputs": [
        {
          "output_type": "stream",
          "name": "stdout",
          "text": [
            "Epoch 1/5\n",
            "\u001b[1m10000/10000\u001b[0m \u001b[32m━━━━━━━━━━━━━━━━━━━━\u001b[0m\u001b[37m\u001b[0m \u001b[1m99s\u001b[0m 10ms/step - accuracy: 0.7352 - loss: 0.5180 - val_accuracy: 0.7742 - val_loss: 0.4941\n",
            "Epoch 2/5\n",
            "\u001b[1m10000/10000\u001b[0m \u001b[32m━━━━━━━━━━━━━━━━━━━━\u001b[0m\u001b[37m\u001b[0m \u001b[1m92s\u001b[0m 9ms/step - accuracy: 0.8153 - loss: 0.4178 - val_accuracy: 0.8033 - val_loss: 0.4525\n",
            "Epoch 3/5\n",
            "\u001b[1m10000/10000\u001b[0m \u001b[32m━━━━━━━━━━━━━━━━━━━━\u001b[0m\u001b[37m\u001b[0m \u001b[1m91s\u001b[0m 9ms/step - accuracy: 0.8283 - loss: 0.3926 - val_accuracy: 0.7812 - val_loss: 0.4705\n",
            "Epoch 4/5\n",
            "\u001b[1m10000/10000\u001b[0m \u001b[32m━━━━━━━━━━━━━━━━━━━━\u001b[0m\u001b[37m\u001b[0m \u001b[1m91s\u001b[0m 9ms/step - accuracy: 0.8232 - loss: 0.4027 - val_accuracy: 0.8046 - val_loss: 0.4414\n",
            "Epoch 5/5\n",
            "\u001b[1m10000/10000\u001b[0m \u001b[32m━━━━━━━━━━━━━━━━━━━━\u001b[0m\u001b[37m\u001b[0m \u001b[1m91s\u001b[0m 9ms/step - accuracy: 0.8289 - loss: 0.3921 - val_accuracy: 0.8132 - val_loss: 0.4266\n"
          ]
        },
        {
          "output_type": "execute_result",
          "data": {
            "text/plain": [
              "<keras.src.callbacks.history.History at 0x7c180ead3b10>"
            ]
          },
          "metadata": {},
          "execution_count": 22
        }
      ],
      "source": [
        "model.fit(gen_batches_ft(wiki[:19000],tokenizer, window=10, batch_size=100),\n",
        "          validation_data=gen_batches_ft(wiki[19000:], tokenizer, window=10, batch_size=100),\n",
        "          batch_size=2000,\n",
        "          steps_per_epoch=10000,\n",
        "          validation_steps=100,\n",
        "          epochs=5)"
      ]
    },
    {
      "cell_type": "code",
      "execution_count": 23,
      "id": "680c2887-b0b7-4432-98cf-b8a1d2ac89ad",
      "metadata": {
        "colab": {
          "base_uri": "https://localhost:8080/",
          "height": 489
        },
        "id": "680c2887-b0b7-4432-98cf-b8a1d2ac89ad",
        "outputId": "e2617627-0dac-4fcb-910c-70ed46319908"
      },
      "outputs": [
        {
          "output_type": "stream",
          "name": "stdout",
          "text": [
            "dict_keys(['accuracy', 'loss', 'val_accuracy', 'val_loss'])\n"
          ]
        },
        {
          "output_type": "display_data",
          "data": {
            "text/plain": [
              "<Figure size 640x480 with 1 Axes>"
            ],
            "image/png": "[encoded data removed]"
          },
          "metadata": {}
        }
      ],
      "source": [
        "print(model.history.history.keys())\n",
        "# summarize history for accuracy\n",
        "plt.plot(model.history.history['loss'])\n",
        "plt.plot(model.history.history['val_loss'])\n",
        "plt.title('model loss')\n",
        "plt.ylabel('loss')\n",
        "plt.xlabel('epoch')\n",
        "plt.legend(['train', 'val'], loc='upper left')\n",
        "plt.show()"
      ]
    },
    {
      "cell_type": "markdown",
      "id": "2859f8f3-36b8-41b4-9e85-5960ca067673",
      "metadata": {
        "id": "2859f8f3-36b8-41b4-9e85-5960ca067673"
      },
      "source": [
        "Искать похожие немного сложнее так как нам нужно для всех полных слов еще и учесть информацию об их поднграммах."
      ]
    },
    {
      "cell_type": "code",
      "execution_count": 24,
      "id": "8f87407d-1abd-4a8c-90df-92abaa9d7bf6",
      "metadata": {
        "id": "8f87407d-1abd-4a8c-90df-92abaa9d7bf6"
      },
      "outputs": [],
      "source": [
        "embeddings = model.layers[2].get_weights()[0] # матрица со всеми эмбедингами"
      ]
    },
    {
      "cell_type": "code",
      "execution_count": 25,
      "id": "f8606be6-2782-4a5c-882f-a7d05241898e",
      "metadata": {
        "id": "f8606be6-2782-4a5c-882f-a7d05241898e"
      },
      "outputs": [],
      "source": [
        "full_word_embeddings = np.zeros((len(tokenizer.fullword_vocab), 300)) # матрица с эмбедингами полных слов + нграммы\n",
        "id2word = list(tokenizer.fullword_vocab)\n",
        "\n",
        "for i, word in enumerate(tokenizer.fullword_vocab):\n",
        "    subwords = tokenizer(word)[0]\n",
        "    full_word_embeddings[i] = embeddings[[i for i in subwords]].mean(axis=0)"
      ]
    },
    {
      "cell_type": "code",
      "execution_count": 26,
      "id": "6b53ba6e-ee0d-4e05-ba2d-e1bb35b27f50",
      "metadata": {
        "id": "6b53ba6e-ee0d-4e05-ba2d-e1bb35b27f50"
      },
      "outputs": [],
      "source": [
        "def most_similar_ft(word, embeddings, tokenizer):\n",
        "    subwords = tokenizer(word)[0]\n",
        "    word_embedding = embeddings[[i for i in subwords]].sum(axis=0)\n",
        "    # idxs = [tokenizer.word2id[i] for i in tokenizer.fullword_vocab]\n",
        "    similar = [id2word[i] for i in\n",
        "               cosine_distances(word_embedding.reshape(1, -1), full_word_embeddings).argsort()[0][:20]]\n",
        "    return similar"
      ]
    },
    {
      "cell_type": "markdown",
      "id": "3d7d9755-1249-49de-806a-a42c0f4e596f",
      "metadata": {
        "id": "3d7d9755-1249-49de-806a-a42c0f4e596f"
      },
      "source": [
        "Из результатов поиска видно что fastext учитывает поднграмы и находит как ближайшие не только близкие по смыслу но и по форме"
      ]
    },
    {
      "cell_type": "code",
      "execution_count": 27,
      "id": "a44f1c1c-9125-4335-a562-3ff768b39fd3",
      "metadata": {
        "colab": {
          "base_uri": "https://localhost:8080/"
        },
        "id": "a44f1c1c-9125-4335-a562-3ff768b39fd3",
        "outputId": "09ff8ee7-0e3e-43e4-c105-0fd606bb97b6"
      },
      "outputs": [
        {
          "output_type": "execute_result",
          "data": {
            "text/plain": [
              "['семья',\n",
              " 'семь',\n",
              " 'семьям',\n",
              " 'семьёй',\n",
              " 'семьях',\n",
              " 'семьи',\n",
              " 'семью',\n",
              " 'семьей',\n",
              " 'семьи»',\n",
              " 'семье',\n",
              " 'семьями',\n",
              " '«семь',\n",
              " 'семинар',\n",
              " 'семинария',\n",
              " 'восемь',\n",
              " 'семян',\n",
              " 'семя',\n",
              " 'семёна',\n",
              " 'семинары',\n",
              " 'семинаре']"
            ]
          },
          "metadata": {},
          "execution_count": 27
        }
      ],
      "source": [
        "most_similar_ft('семья', embeddings, tokenizer)"
      ]
    },
    {
      "cell_type": "code",
      "execution_count": 28,
      "id": "f86b30a3-bda4-4644-af30-3550958a6ce2",
      "metadata": {
        "colab": {
          "base_uri": "https://localhost:8080/"
        },
        "id": "f86b30a3-bda4-4644-af30-3550958a6ce2",
        "outputId": "f68591db-cc9b-4ab5-8e93-ef65af548d0c"
      },
      "outputs": [
        {
          "output_type": "execute_result",
          "data": {
            "text/plain": [
              "['церковь',\n",
              " '«церковь',\n",
              " 'церковью',\n",
              " 'церковное',\n",
              " 'церковная',\n",
              " 'церковном',\n",
              " 'церковный',\n",
              " 'церковным',\n",
              " 'церковные',\n",
              " 'церковной',\n",
              " 'церковному',\n",
              " 'церковного',\n",
              " 'церковных',\n",
              " 'церковную',\n",
              " 'церквей',\n",
              " 'церквях',\n",
              " 'церковно-приходская',\n",
              " 'церкви',\n",
              " 'церкви»',\n",
              " 'сырково']"
            ]
          },
          "metadata": {},
          "execution_count": 28
        }
      ],
      "source": [
        "most_similar_ft(\"церковь\", embeddings, tokenizer)"
      ]
    },
    {
      "cell_type": "code",
      "execution_count": 29,
      "id": "c65ad6de-6869-4e3d-a5bb-689476f092dd",
      "metadata": {
        "colab": {
          "base_uri": "https://localhost:8080/"
        },
        "id": "c65ad6de-6869-4e3d-a5bb-689476f092dd",
        "outputId": "364f3751-5024-47e2-bc7c-dfc0accba439"
      },
      "outputs": [
        {
          "output_type": "execute_result",
          "data": {
            "text/plain": [
              "['делать',\n",
              " 'сделать',\n",
              " 'проделать',\n",
              " 'делить',\n",
              " 'переделать',\n",
              " 'посылать',\n",
              " 'ждать',\n",
              " 'дать',\n",
              " 'догнать',\n",
              " 'делам',\n",
              " 'делают',\n",
              " 'исчезать',\n",
              " 'давать',\n",
              " 'наказать',\n",
              " 'спрятать',\n",
              " 'искать',\n",
              " 'поехать',\n",
              " 'делает',\n",
              " 'послать',\n",
              " 'плакать']"
            ]
          },
          "metadata": {},
          "execution_count": 29
        }
      ],
      "source": [
        "most_similar_ft(\"делать\", embeddings, tokenizer)"
      ]
    }
  ],
  "metadata": {
    "kernelspec": {
      "display_name": "Python 3",
      "name": "python3"
    },
    "language_info": {
      "codemirror_mode": {
        "name": "ipython",
        "version": 3
      },
      "file_extension": ".py",
      "mimetype": "text/x-python",
      "name": "python",
      "nbconvert_exporter": "python",
      "pygments_lexer": "ipython3",
      "version": "3.10.12"
    },
    "colab": {
      "provenance": [],
      "gpuType": "T4"
    },
    "accelerator": "GPU"
  },
  "nbformat": 4,
  "nbformat_minor": 5
}