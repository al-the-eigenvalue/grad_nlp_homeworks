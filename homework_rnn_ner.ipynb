{
  "cells": [
    {
      "cell_type": "markdown",
      "id": "1bf6f873",
      "metadata": {
        "id": "1bf6f873"
      },
      "source": [
        "# Домашнее задание № 8"
      ]
    },
    {
      "cell_type": "code",
      "source": [
        "%%capture\n",
        "!pip install datasets"
      ],
      "metadata": {
        "id": "vJsofjb_iiZz"
      },
      "id": "vJsofjb_iiZz",
      "execution_count": 1,
      "outputs": []
    },
    {
      "cell_type": "code",
      "source": [
        "import os\n",
        "os.environ[\"KERAS_BACKEND\"] = \"torch\"\n",
        "\n",
        "import keras\n",
        "print(keras.__version__)"
      ],
      "metadata": {
        "colab": {
          "base_uri": "https://localhost:8080/"
        },
        "id": "2kZ58xRP6XvT",
        "outputId": "1f3d69c9-0406-49f4-a3f2-69f120acc1e3"
      },
      "id": "2kZ58xRP6XvT",
      "execution_count": 2,
      "outputs": [
        {
          "output_type": "stream",
          "name": "stdout",
          "text": [
            "3.8.0\n"
          ]
        }
      ]
    },
    {
      "cell_type": "code",
      "source": [
        "import re\n",
        "import pandas as pd\n",
        "import numpy as np\n",
        "from datasets import load_dataset\n",
        "from string import punctuation\n",
        "from sklearn.metrics import classification_report\n",
        "from sklearn.model_selection import train_test_split\n",
        "from collections import Counter\n",
        "import matplotlib.pyplot as plt\n",
        "%matplotlib inline"
      ],
      "metadata": {
        "id": "Slm0fIIf6Zn0"
      },
      "id": "Slm0fIIf6Zn0",
      "execution_count": 3,
      "outputs": []
    },
    {
      "cell_type": "markdown",
      "id": "3b4bd487",
      "metadata": {
        "id": "3b4bd487"
      },
      "source": [
        "## Задание 1 (4 балла)\n",
        "\n",
        "Обучите 2 модели похожую по архитектуре на модель из ULMFit для задачи классификации текста (датасет - lenta_40k )\n",
        "В моделях должно быть как минимум два рекуррентных слоя, а финальный вектор для классификации составляться из последнего состояния RNN (так делалось в семинаре), а также AveragePooling и MaxPooling из всех векторов последовательности (конкатенируйте последнее состояния и результаты пулинга). В первой модели используйте обычные слои, а во второй Bidirectional. Рассчитайте по классовую точность/полноту/f-меру для каждой из модели (результаты не должны быть совсем близкие к нулю после обучения на хотя бы нескольких эпохах)."
      ]
    },
    {
      "cell_type": "code",
      "source": [
        "data = pd.read_csv(\"lenta_40k.csv.zip\")"
      ],
      "metadata": {
        "id": "aQbICSKs6cIs"
      },
      "id": "aQbICSKs6cIs",
      "execution_count": 4,
      "outputs": []
    },
    {
      "cell_type": "code",
      "source": [
        "def preprocess(text):\n",
        "    tokens = text.lower().split()\n",
        "    tokens = [token.strip(punctuation) for token in tokens]\n",
        "    return tokens"
      ],
      "metadata": {
        "id": "SJ04-gTK7KeQ"
      },
      "id": "SJ04-gTK7KeQ",
      "execution_count": 5,
      "outputs": []
    },
    {
      "cell_type": "code",
      "source": [
        "vocab = Counter()\n",
        "\n",
        "for text in data.text:\n",
        "    vocab.update(preprocess(text))\n",
        "\n",
        "filtered_vocab = set()\n",
        "\n",
        "for word in vocab:\n",
        "    if vocab[word] > 30:\n",
        "        filtered_vocab.add(word)\n",
        "\n",
        "word2id = {\"PAD\": 0, \"UNK\": 1}\n",
        "\n",
        "for word in filtered_vocab:\n",
        "    word2id[word] = len(word2id)\n",
        "\n",
        "id2word = {i:word for word, i in word2id.items()}\n",
        "\n",
        "X = []\n",
        "\n",
        "for text in data.text:\n",
        "    tokens = preprocess(text)\n",
        "    ids = [word2id.get(token, 1) for token in tokens]\n",
        "    X.append(ids)\n",
        "\n",
        "MEAN_LEN = np.median([len(x) for x in X])\n",
        "\n",
        "MAX_LEN = int(MEAN_LEN + 30)\n",
        "\n",
        "X = keras.preprocessing.sequence.pad_sequences(X, maxlen=MAX_LEN)\n",
        "\n",
        "id2label = {i:label for i, label in enumerate(set(data.topic.values))}\n",
        "label2id = {l:i for i, l in id2label.items()}\n",
        "\n",
        "y = keras.utils.to_categorical([label2id[label] for label in data.topic.values])\n",
        "\n",
        "X_train, X_valid, y_train, y_valid = train_test_split(X, y, test_size=0.05, stratify=y)"
      ],
      "metadata": {
        "id": "ufnG5hch7LsR"
      },
      "id": "ufnG5hch7LsR",
      "execution_count": 6,
      "outputs": []
    },
    {
      "cell_type": "markdown",
      "source": [
        "### Модель 1"
      ],
      "metadata": {
        "id": "-pdHiBhQHwnV"
      },
      "id": "-pdHiBhQHwnV"
    },
    {
      "cell_type": "code",
      "source": [
        "inputs = keras.layers.Input(shape=(MAX_LEN,))\n",
        "embeddings = keras.layers.Embedding(input_dim=len(word2id), output_dim=30)(inputs, )\n",
        "\n",
        "lstm_1 = keras.layers.LSTM(128, return_sequences=True)(embeddings)\n",
        "lstm_2 = keras.layers.LSTM(128, return_sequences=True)(lstm_1)\n",
        "last_state = lstm_2[:, -1, :]\n",
        "\n",
        "avg_pool = keras.layers.GlobalAveragePooling1D()(lstm_2)\n",
        "max_pool = keras.layers.GlobalMaxPooling1D()(lstm_2)\n",
        "\n",
        "concatenated = keras.layers.concatenate([last_state, avg_pool, max_pool])\n",
        "\n",
        "outputs = keras.layers.Dense(len(label2id), activation=\"softmax\")(concatenated)\n",
        "\n",
        "model = keras.Model(inputs=inputs, outputs=outputs)\n",
        "optimizer = keras.optimizers.Adam(learning_rate=0.001)\n",
        "model.compile(optimizer=optimizer,\n",
        "              loss=\"categorical_crossentropy\",\n",
        "              metrics=[keras.metrics.RecallAtPrecision(0.8, name=\"rec@prec\")])"
      ],
      "metadata": {
        "id": "qbD62DPw_Yvv"
      },
      "id": "qbD62DPw_Yvv",
      "execution_count": 7,
      "outputs": []
    },
    {
      "cell_type": "code",
      "source": [
        "model.fit(X_train, y_train,\n",
        "          validation_data=(X_valid, y_valid),\n",
        "          batch_size=1000,\n",
        "          epochs=15)"
      ],
      "metadata": {
        "colab": {
          "base_uri": "https://localhost:8080/"
        },
        "id": "ett99UL9HHvz",
        "outputId": "41f88cc0-26ae-43f2-8838-035787d6377a"
      },
      "id": "ett99UL9HHvz",
      "execution_count": 8,
      "outputs": [
        {
          "output_type": "stream",
          "name": "stdout",
          "text": [
            "Epoch 1/15\n",
            "\u001b[1m43/43\u001b[0m \u001b[32m━━━━━━━━━━━━━━━━━━━━\u001b[0m\u001b[37m\u001b[0m \u001b[1m26s\u001b[0m 517ms/step - loss: 2.6108 - rec@prec: 0.0000e+00 - val_loss: 2.3079 - val_rec@prec: 0.0000e+00\n",
            "Epoch 2/15\n",
            "\u001b[1m43/43\u001b[0m \u001b[32m━━━━━━━━━━━━━━━━━━━━\u001b[0m\u001b[37m\u001b[0m \u001b[1m22s\u001b[0m 516ms/step - loss: 2.1961 - rec@prec: 2.8359e-05 - val_loss: 1.8314 - val_rec@prec: 0.0374\n",
            "Epoch 3/15\n",
            "\u001b[1m43/43\u001b[0m \u001b[32m━━━━━━━━━━━━━━━━━━━━\u001b[0m\u001b[37m\u001b[0m \u001b[1m23s\u001b[0m 535ms/step - loss: 1.7682 - rec@prec: 0.0192 - val_loss: 1.5727 - val_rec@prec: 0.1610\n",
            "Epoch 4/15\n",
            "\u001b[1m43/43\u001b[0m \u001b[32m━━━━━━━━━━━━━━━━━━━━\u001b[0m\u001b[37m\u001b[0m \u001b[1m23s\u001b[0m 545ms/step - loss: 1.4310 - rec@prec: 0.2043 - val_loss: 1.3969 - val_rec@prec: 0.2570\n",
            "Epoch 5/15\n",
            "\u001b[1m43/43\u001b[0m \u001b[32m━━━━━━━━━━━━━━━━━━━━\u001b[0m\u001b[37m\u001b[0m \u001b[1m24s\u001b[0m 559ms/step - loss: 1.1959 - rec@prec: 0.3714 - val_loss: 1.2785 - val_rec@prec: 0.3616\n",
            "Epoch 6/15\n",
            "\u001b[1m43/43\u001b[0m \u001b[32m━━━━━━━━━━━━━━━━━━━━\u001b[0m\u001b[37m\u001b[0m \u001b[1m24s\u001b[0m 552ms/step - loss: 0.9732 - rec@prec: 0.5723 - val_loss: 1.1505 - val_rec@prec: 0.4757\n",
            "Epoch 7/15\n",
            "\u001b[1m43/43\u001b[0m \u001b[32m━━━━━━━━━━━━━━━━━━━━\u001b[0m\u001b[37m\u001b[0m \u001b[1m22s\u001b[0m 519ms/step - loss: 0.8028 - rec@prec: 0.7210 - val_loss: 1.1202 - val_rec@prec: 0.5559\n",
            "Epoch 8/15\n",
            "\u001b[1m43/43\u001b[0m \u001b[32m━━━━━━━━━━━━━━━━━━━━\u001b[0m\u001b[37m\u001b[0m \u001b[1m22s\u001b[0m 516ms/step - loss: 0.6742 - rec@prec: 0.8070 - val_loss: 1.1476 - val_rec@prec: 0.5365\n",
            "Epoch 9/15\n",
            "\u001b[1m43/43\u001b[0m \u001b[32m━━━━━━━━━━━━━━━━━━━━\u001b[0m\u001b[37m\u001b[0m \u001b[1m24s\u001b[0m 563ms/step - loss: 0.6068 - rec@prec: 0.8391 - val_loss: 1.1861 - val_rec@prec: 0.5460\n",
            "Epoch 10/15\n",
            "\u001b[1m43/43\u001b[0m \u001b[32m━━━━━━━━━━━━━━━━━━━━\u001b[0m\u001b[37m\u001b[0m \u001b[1m23s\u001b[0m 536ms/step - loss: 0.5172 - rec@prec: 0.8841 - val_loss: 1.2322 - val_rec@prec: 0.5410\n",
            "Epoch 11/15\n",
            "\u001b[1m43/43\u001b[0m \u001b[32m━━━━━━━━━━━━━━━━━━━━\u001b[0m\u001b[37m\u001b[0m \u001b[1m23s\u001b[0m 528ms/step - loss: 0.4336 - rec@prec: 0.9159 - val_loss: 1.2563 - val_rec@prec: 0.5528\n",
            "Epoch 12/15\n",
            "\u001b[1m43/43\u001b[0m \u001b[32m━━━━━━━━━━━━━━━━━━━━\u001b[0m\u001b[37m\u001b[0m \u001b[1m23s\u001b[0m 527ms/step - loss: 0.3889 - rec@prec: 0.9302 - val_loss: 1.3278 - val_rec@prec: 0.5415\n",
            "Epoch 13/15\n",
            "\u001b[1m43/43\u001b[0m \u001b[32m━━━━━━━━━━━━━━━━━━━━\u001b[0m\u001b[37m\u001b[0m \u001b[1m22s\u001b[0m 508ms/step - loss: 0.3472 - rec@prec: 0.9446 - val_loss: 1.3111 - val_rec@prec: 0.5546\n",
            "Epoch 14/15\n",
            "\u001b[1m43/43\u001b[0m \u001b[32m━━━━━━━━━━━━━━━━━━━━\u001b[0m\u001b[37m\u001b[0m \u001b[1m23s\u001b[0m 533ms/step - loss: 0.3026 - rec@prec: 0.9580 - val_loss: 1.3952 - val_rec@prec: 0.5487\n",
            "Epoch 15/15\n",
            "\u001b[1m43/43\u001b[0m \u001b[32m━━━━━━━━━━━━━━━━━━━━\u001b[0m\u001b[37m\u001b[0m \u001b[1m23s\u001b[0m 530ms/step - loss: 0.2792 - rec@prec: 0.9634 - val_loss: 1.4732 - val_rec@prec: 0.5329\n"
          ]
        },
        {
          "output_type": "execute_result",
          "data": {
            "text/plain": [
              "<keras.src.callbacks.history.History at 0x7ac8d0a14fd0>"
            ]
          },
          "metadata": {},
          "execution_count": 8
        }
      ]
    },
    {
      "cell_type": "code",
      "source": [
        "plt.plot(model.history.history[\"rec@prec\"])\n",
        "plt.plot(model.history.history[\"val_rec@prec\"])\n",
        "plt.title(\"model metrics\")\n",
        "plt.ylabel(\"recall at precision\")\n",
        "plt.xlabel(\"epoch\")\n",
        "plt.legend([\"train\", \"val\"], loc=\"upper left\")\n",
        "plt.show()"
      ],
      "metadata": {
        "colab": {
          "base_uri": "https://localhost:8080/",
          "height": 472
        },
        "id": "El2U-niaHYfe",
        "outputId": "26357e14-b231-483c-8539-400bebfd275c"
      },
      "id": "El2U-niaHYfe",
      "execution_count": 9,
      "outputs": [
        {
          "output_type": "display_data",
          "data": {
            "text/plain": [
              "<Figure size 640x480 with 1 Axes>"
            ],
            "image/png": "[encoded data removed]"
          },
          "metadata": {}
        }
      ]
    },
    {
      "cell_type": "code",
      "source": [
        "pred = model.predict(X_valid).argmax(1)"
      ],
      "metadata": {
        "colab": {
          "base_uri": "https://localhost:8080/"
        },
        "id": "UA8UFCSOAEEF",
        "outputId": "49321968-6f5b-4076-91d8-c6729e2539c2"
      },
      "id": "UA8UFCSOAEEF",
      "execution_count": 10,
      "outputs": [
        {
          "output_type": "stream",
          "name": "stdout",
          "text": [
            "\u001b[1m70/70\u001b[0m \u001b[32m━━━━━━━━━━━━━━━━━━━━\u001b[0m\u001b[37m\u001b[0m \u001b[1m19s\u001b[0m 278ms/step\n"
          ]
        }
      ]
    },
    {
      "cell_type": "code",
      "source": [
        "print(classification_report(y_valid.argmax(1), pred, labels=list(id2label.keys()),\n",
        "                                                                     target_names=list(id2label.values()),\n",
        "                                                                     zero_division=0))"
      ],
      "metadata": {
        "colab": {
          "base_uri": "https://localhost:8080/"
        },
        "id": "2H9WGjE2AFxs",
        "outputId": "4cfdf278-9e63-475c-ddd6-bea82afa44ef"
      },
      "id": "2H9WGjE2AFxs",
      "execution_count": 11,
      "outputs": [
        {
          "output_type": "stream",
          "name": "stdout",
          "text": [
            "                   precision    recall  f1-score   support\n",
            "\n",
            "      Путешествия       0.00      0.00      0.00        21\n",
            "           Бизнес       0.12      0.09      0.10        22\n",
            "           Россия       0.62      0.72      0.66       481\n",
            "         Культура       0.73      0.75      0.74       159\n",
            "             Крым       0.00      0.00      0.00         2\n",
            "              Дом       0.64      0.70      0.67        66\n",
            "            Спорт       0.91      0.92      0.92       195\n",
            "    Культпросвет        0.00      0.00      0.00         1\n",
            "              Мир       0.78      0.64      0.70       410\n",
            "        Экономика       0.70      0.73      0.71       239\n",
            "      Бывший СССР       0.69      0.66      0.68       159\n",
            "         Из жизни       0.26      0.21      0.23        84\n",
            "         Ценности       0.64      0.30      0.41        23\n",
            "   69-я параллель       0.00      0.00      0.00         4\n",
            "       Библиотека       0.00      0.00      0.00         0\n",
            "Силовые структуры       0.19      0.13      0.16        60\n",
            "          Легпром       0.00      0.00      0.00         0\n",
            "   Интернет и СМИ       0.52      0.59      0.55       132\n",
            "  Наука и техника       0.67      0.73      0.70       160\n",
            "\n",
            "         accuracy                           0.66      2218\n",
            "        macro avg       0.39      0.38      0.38      2218\n",
            "     weighted avg       0.66      0.66      0.65      2218\n",
            "\n"
          ]
        }
      ]
    },
    {
      "cell_type": "markdown",
      "source": [
        "### Модель 2"
      ],
      "metadata": {
        "id": "V-uFoOA0Hyxu"
      },
      "id": "V-uFoOA0Hyxu"
    },
    {
      "cell_type": "code",
      "source": [
        "inputs = keras.layers.Input(shape=(MAX_LEN,))\n",
        "embeddings = keras.layers.Embedding(input_dim=len(word2id), output_dim=30)(inputs, )\n",
        "\n",
        "lstm_1 = keras.layers.Bidirectional(keras.layers.LSTM(128, return_sequences=True))(embeddings)\n",
        "lstm_2 = keras.layers.Bidirectional(keras.layers.LSTM(128, return_sequences=True))(lstm_1)\n",
        "last_state = lstm_2[:, -1, :]\n",
        "\n",
        "avg_pool = keras.layers.GlobalAveragePooling1D()(lstm_2)\n",
        "max_pool = keras.layers.GlobalMaxPooling1D()(lstm_2)\n",
        "\n",
        "concatenated = keras.layers.concatenate([last_state, avg_pool, max_pool])\n",
        "\n",
        "outputs = keras.layers.Dense(len(label2id), activation=\"softmax\")(concatenated)\n",
        "\n",
        "model = keras.Model(inputs=inputs, outputs=outputs)\n",
        "optimizer = keras.optimizers.Adam(learning_rate=0.001)\n",
        "model.compile(optimizer=optimizer,\n",
        "              loss=\"categorical_crossentropy\",\n",
        "              metrics=[keras.metrics.RecallAtPrecision(0.8, name=\"rec@prec\")])"
      ],
      "metadata": {
        "id": "3S8sVda5LFlH"
      },
      "id": "3S8sVda5LFlH",
      "execution_count": 12,
      "outputs": []
    },
    {
      "cell_type": "code",
      "source": [
        "model.fit(X_train, y_train,\n",
        "          validation_data=(X_valid, y_valid),\n",
        "          batch_size=1000,\n",
        "          epochs=15)"
      ],
      "metadata": {
        "colab": {
          "base_uri": "https://localhost:8080/"
        },
        "id": "ACl8aT4qLV_e",
        "outputId": "66258fb1-30d7-4d5d-e38b-66ba20a7690d"
      },
      "id": "ACl8aT4qLV_e",
      "execution_count": 13,
      "outputs": [
        {
          "output_type": "stream",
          "name": "stdout",
          "text": [
            "Epoch 1/15\n",
            "\u001b[1m43/43\u001b[0m \u001b[32m━━━━━━━━━━━━━━━━━━━━\u001b[0m\u001b[37m\u001b[0m \u001b[1m49s\u001b[0m 1s/step - loss: 2.5700 - rec@prec: 5.6242e-06 - val_loss: 1.9757 - val_rec@prec: 0.0000e+00\n",
            "Epoch 2/15\n",
            "\u001b[1m43/43\u001b[0m \u001b[32m━━━━━━━━━━━━━━━━━━━━\u001b[0m\u001b[37m\u001b[0m \u001b[1m47s\u001b[0m 1s/step - loss: 1.8725 - rec@prec: 0.0236 - val_loss: 1.6132 - val_rec@prec: 0.1821\n",
            "Epoch 3/15\n",
            "\u001b[1m43/43\u001b[0m \u001b[32m━━━━━━━━━━━━━━━━━━━━\u001b[0m\u001b[37m\u001b[0m \u001b[1m48s\u001b[0m 1s/step - loss: 1.4839 - rec@prec: 0.2011 - val_loss: 1.3052 - val_rec@prec: 0.2998\n",
            "Epoch 4/15\n",
            "\u001b[1m43/43\u001b[0m \u001b[32m━━━━━━━━━━━━━━━━━━━━\u001b[0m\u001b[37m\u001b[0m \u001b[1m48s\u001b[0m 1s/step - loss: 1.1348 - rec@prec: 0.4294 - val_loss: 1.1773 - val_rec@prec: 0.4225\n",
            "Epoch 5/15\n",
            "\u001b[1m43/43\u001b[0m \u001b[32m━━━━━━━━━━━━━━━━━━━━\u001b[0m\u001b[37m\u001b[0m \u001b[1m47s\u001b[0m 1s/step - loss: 0.9274 - rec@prec: 0.6369 - val_loss: 1.1633 - val_rec@prec: 0.4653\n",
            "Epoch 6/15\n",
            "\u001b[1m43/43\u001b[0m \u001b[32m━━━━━━━━━━━━━━━━━━━━\u001b[0m\u001b[37m\u001b[0m \u001b[1m47s\u001b[0m 1s/step - loss: 0.7850 - rec@prec: 0.7324 - val_loss: 1.2192 - val_rec@prec: 0.4549\n",
            "Epoch 7/15\n",
            "\u001b[1m43/43\u001b[0m \u001b[32m━━━━━━━━━━━━━━━━━━━━\u001b[0m\u001b[37m\u001b[0m \u001b[1m49s\u001b[0m 1s/step - loss: 0.7013 - rec@prec: 0.7845 - val_loss: 1.2715 - val_rec@prec: 0.4558\n",
            "Epoch 8/15\n",
            "\u001b[1m43/43\u001b[0m \u001b[32m━━━━━━━━━━━━━━━━━━━━\u001b[0m\u001b[37m\u001b[0m \u001b[1m47s\u001b[0m 1s/step - loss: 0.6007 - rec@prec: 0.8373 - val_loss: 1.3234 - val_rec@prec: 0.4441\n",
            "Epoch 9/15\n",
            "\u001b[1m43/43\u001b[0m \u001b[32m━━━━━━━━━━━━━━━━━━━━\u001b[0m\u001b[37m\u001b[0m \u001b[1m48s\u001b[0m 1s/step - loss: 0.5443 - rec@prec: 0.8640 - val_loss: 1.3244 - val_rec@prec: 0.4725\n",
            "Epoch 10/15\n",
            "\u001b[1m43/43\u001b[0m \u001b[32m━━━━━━━━━━━━━━━━━━━━\u001b[0m\u001b[37m\u001b[0m \u001b[1m47s\u001b[0m 1s/step - loss: 0.4604 - rec@prec: 0.9032 - val_loss: 1.3795 - val_rec@prec: 0.4639\n",
            "Epoch 11/15\n",
            "\u001b[1m43/43\u001b[0m \u001b[32m━━━━━━━━━━━━━━━━━━━━\u001b[0m\u001b[37m\u001b[0m \u001b[1m47s\u001b[0m 1s/step - loss: 0.3921 - rec@prec: 0.9310 - val_loss: 1.4275 - val_rec@prec: 0.4423\n",
            "Epoch 12/15\n",
            "\u001b[1m43/43\u001b[0m \u001b[32m━━━━━━━━━━━━━━━━━━━━\u001b[0m\u001b[37m\u001b[0m \u001b[1m47s\u001b[0m 1s/step - loss: 0.3516 - rec@prec: 0.9438 - val_loss: 1.5179 - val_rec@prec: 0.4603\n",
            "Epoch 13/15\n",
            "\u001b[1m43/43\u001b[0m \u001b[32m━━━━━━━━━━━━━━━━━━━━\u001b[0m\u001b[37m\u001b[0m \u001b[1m48s\u001b[0m 1s/step - loss: 0.3100 - rec@prec: 0.9564 - val_loss: 1.6189 - val_rec@prec: 0.4518\n",
            "Epoch 14/15\n",
            "\u001b[1m43/43\u001b[0m \u001b[32m━━━━━━━━━━━━━━━━━━━━\u001b[0m\u001b[37m\u001b[0m \u001b[1m48s\u001b[0m 1s/step - loss: 0.2667 - rec@prec: 0.9669 - val_loss: 1.6844 - val_rec@prec: 0.4536\n",
            "Epoch 15/15\n",
            "\u001b[1m43/43\u001b[0m \u001b[32m━━━━━━━━━━━━━━━━━━━━\u001b[0m\u001b[37m\u001b[0m \u001b[1m48s\u001b[0m 1s/step - loss: 0.2755 - rec@prec: 0.9636 - val_loss: 1.7201 - val_rec@prec: 0.4752\n"
          ]
        },
        {
          "output_type": "execute_result",
          "data": {
            "text/plain": [
              "<keras.src.callbacks.history.History at 0x7ac8ceaef6d0>"
            ]
          },
          "metadata": {},
          "execution_count": 13
        }
      ]
    },
    {
      "cell_type": "code",
      "source": [
        "plt.plot(model.history.history[\"rec@prec\"])\n",
        "plt.plot(model.history.history[\"val_rec@prec\"])\n",
        "plt.title(\"model metrics\")\n",
        "plt.ylabel(\"recall at precision\")\n",
        "plt.xlabel(\"epoch\")\n",
        "plt.legend([\"train\", \"val\"], loc=\"upper left\")\n",
        "plt.show()"
      ],
      "metadata": {
        "colab": {
          "base_uri": "https://localhost:8080/",
          "height": 472
        },
        "id": "1S3CyrShLXxi",
        "outputId": "a11c24bd-8dee-42db-bfe3-bf866d7db78f"
      },
      "id": "1S3CyrShLXxi",
      "execution_count": 14,
      "outputs": [
        {
          "output_type": "display_data",
          "data": {
            "text/plain": [
              "<Figure size 640x480 with 1 Axes>"
            ],
            "image/png": "[encoded data removed]"
          },
          "metadata": {}
        }
      ]
    },
    {
      "cell_type": "code",
      "source": [
        "pred = model.predict(X_valid).argmax(1)"
      ],
      "metadata": {
        "colab": {
          "base_uri": "https://localhost:8080/"
        },
        "id": "mRipksNuLayk",
        "outputId": "17d59809-3be5-4be5-b626-9b705cb93186"
      },
      "id": "mRipksNuLayk",
      "execution_count": 15,
      "outputs": [
        {
          "output_type": "stream",
          "name": "stdout",
          "text": [
            "\u001b[1m70/70\u001b[0m \u001b[32m━━━━━━━━━━━━━━━━━━━━\u001b[0m\u001b[37m\u001b[0m \u001b[1m40s\u001b[0m 566ms/step\n"
          ]
        }
      ]
    },
    {
      "cell_type": "code",
      "source": [
        "print(classification_report(y_valid.argmax(1), pred, labels=list(id2label.keys()),\n",
        "                                                                     target_names=list(id2label.values()),\n",
        "                                                                     zero_division=0))"
      ],
      "metadata": {
        "colab": {
          "base_uri": "https://localhost:8080/"
        },
        "id": "f4KbAKooLcs8",
        "outputId": "f9a695cb-3e80-421e-d76b-c4a012c41c67"
      },
      "id": "f4KbAKooLcs8",
      "execution_count": 16,
      "outputs": [
        {
          "output_type": "stream",
          "name": "stdout",
          "text": [
            "                   precision    recall  f1-score   support\n",
            "\n",
            "      Путешествия       0.31      0.24      0.27        21\n",
            "           Бизнес       0.12      0.05      0.07        22\n",
            "           Россия       0.64      0.69      0.66       481\n",
            "         Культура       0.69      0.71      0.70       159\n",
            "             Крым       0.00      0.00      0.00         2\n",
            "              Дом       0.60      0.61      0.60        66\n",
            "            Спорт       0.92      0.94      0.93       195\n",
            "    Культпросвет        0.00      0.00      0.00         1\n",
            "              Мир       0.69      0.71      0.70       410\n",
            "        Экономика       0.74      0.74      0.74       239\n",
            "      Бывший СССР       0.63      0.58      0.60       159\n",
            "         Из жизни       0.26      0.37      0.31        84\n",
            "         Ценности       0.48      0.57      0.52        23\n",
            "   69-я параллель       0.00      0.00      0.00         4\n",
            "       Библиотека       0.00      0.00      0.00         0\n",
            "Силовые структуры       0.21      0.12      0.15        60\n",
            "          Легпром       0.00      0.00      0.00         0\n",
            "   Интернет и СМИ       0.25      0.26      0.25       132\n",
            "  Наука и техника       0.74      0.56      0.64       160\n",
            "\n",
            "         accuracy                           0.64      2218\n",
            "        macro avg       0.38      0.38      0.38      2218\n",
            "     weighted avg       0.63      0.64      0.63      2218\n",
            "\n"
          ]
        }
      ]
    },
    {
      "cell_type": "markdown",
      "id": "ed5d6eea",
      "metadata": {
        "id": "ed5d6eea"
      },
      "source": [
        "## Задание 2 (6 баллов)\n"
      ]
    },
    {
      "cell_type": "markdown",
      "id": "5c2c07cf",
      "metadata": {
        "id": "5c2c07cf"
      },
      "source": [
        "На данных википедии (wikiann) обучите и сравните 3 модели:\n",
        "\n",
        "1) модель в которой как минимум два рекуррентных слоя, причем один из них GRU, а другой LSTM\n",
        "\n",
        "2) модель в которой как минимум 3 рекуррентных слоя идут друг за другом и при этом 2-ой и 3-й слои еще имеют residual connection к изначальным эмбедингам. Для того, чтобы сделать residual connection вам нужно будет использовать одинаковую размерность эмбедингов и количество unit'ов в RNN слоях, чтобы их можно было просуммировать\n",
        "\n",
        "3) модель в которой будут и рекуррентные и сверточные слои (как минимум 2 rnn и как минимум 2 cnn слоя). В cnn слоях будьте аккуратны с укорачиванием последовательности и используйте паддинг\n",
        "\n",
        "\n",
        "\n",
        "Сравните качество по метрикам (точность/полнота/f-мера). Также придумайте несколько сложных примеров и проверьте, какие сущности определяет каждая из моделей."
      ]
    },
    {
      "cell_type": "code",
      "execution_count": 17,
      "id": "24b4e4aa",
      "metadata": {
        "colab": {
          "base_uri": "https://localhost:8080/",
          "height": 467,
          "referenced_widgets": [
            "20483dafa9a248ad89672c82b0cc5bb2",
            "bc979459b545474b8a85de2d637f0abd",
            "3772c793ba2f446ab8edd163034c81cd",
            "fe903e327b7a4bd7a5a62e419f4390c3",
            "803303b03c9e48878cfaabeedd6e3527",
            "051147adcb98446e97a1d1358d9821bc",
            "753e55e88a4843ff88d62758e296d079",
            "85937485ba5d4b168bed65edd683dbf6",
            "9fcadef69e424ed79893fe1308ce6e89",
            "50c9ceaa3a3e4a82b2aead4dd5d0fbb4",
            "b687935f269f4ab29f93a393ba6e84be",
            "5f10065c73624db39bb50368281a1f39",
            "34eb8e2639894668a9b0c9ba520c214a",
            "bded0c6e5e204f4bbdc0ec09f07a9e5d",
            "b24e2d9c08564642bda0b5cbb31b80e4",
            "e0baa4c3adf543228c792eb8d95459e6",
            "f9ad64f2e1174d8b82184b38d4f0e9dd",
            "dd0b8522fccb41738b5bdacce6904e7e",
            "37d22e7540ae48f68b2be089bf4e5f44",
            "02af489367f140f3ac346f46bb5ffe07",
            "2da3e4812c924764a4acd77ef1502158",
            "4e6eb6575d274eaf9b87bda1c2714c3b",
            "f26f73be283449c5b817b329d3e8c639",
            "a23f59f2333d4a85bd265a689fa13308",
            "7eff8692b7b1487cab1de69d4d62a11d",
            "284e80a79b80405eb0995c8834241188",
            "7b40a87e01234e6da5b308ff65584c99",
            "932cce1b75f54dc4bfb8278dc4285bea",
            "f986e0304d7745aeabbef5e1591e4773",
            "9de2b37f23374289af1d3438d605b3dd",
            "2c8098ab484b4b959e06d190c91348a5",
            "af57dd4144e54eb8a37e45320c640484",
            "8233d7b8a1f04469a4e4f6f24af4e99d",
            "f26450e51f26402a8b0363887bb61db6",
            "8ab0dd5374ff490b9ca2673592c2efeb",
            "cd6f13fc0d6a428c97a11b3375197ee2",
            "3469eebe773b4cb59619200f4d0ef26f",
            "7093465dbd194803b02cca810c182d66",
            "903498fe42204a51873f63ab10563fca",
            "ce15cf9bd7a446f99208d9ab14f988c8",
            "18aa5f8257354b98981c52736f18b24f",
            "354380e294874fdca3b3f95a1b2d1012",
            "e5aef7a51b0f4e08a6131010850175de",
            "5a97a7487cef4eb9ab2abb6c01caea2b",
            "1cab216101d642fcadef006c6de29137",
            "b2d8d0b5d3a147d2a6d6ef3e7b2be73d",
            "5e1fe088c70e46ea81b241ca280910e0",
            "9271c08a0aab4715865f8d68dce95e03",
            "48bfe5c22b214968a8880678ec39e66f",
            "6d5cc05a641e41e389f68577eae69cde",
            "2154a729a7534197b580e62eabb351fc",
            "8f0e587727a0486486f131b7259f8cf0",
            "26b4d8788d0246b4aecc590e1ccf9a41",
            "e980749dceb54fb990405ffcb297eb30",
            "bab824c2ad68419694604f4854c9af76",
            "d4f12351fbda413a9c9e452be480ef94",
            "1503dba7dd6745499737e366ae6f018e",
            "a05089f44e2347839bc74555f4c0af5b",
            "d0cecb9cd2304834924abc6e3733ddb1",
            "2a0e79f17d2b4761b292735ebe4a428d",
            "36577fc42265470bbff741eb0acf03dd",
            "a98ae0b0510c42f185fc287d06d54eb8",
            "ccde8fc38acb4e5a91b73abdffac212c",
            "d57e4d7d16e54b6d8f8485bbee54cc48",
            "41a7be757d1747e0b5416182c11f67ab",
            "8074768a7f594a73bfe9be9c27d1d001",
            "155af8e7404b4fa98586d8ebf3f3b5df",
            "940aa7efcea443a1b1f9a8f20383cf13",
            "7456411ac6074b62a517103a161c14aa",
            "f973eccacb66487d9e0bc24141b3b790",
            "1ce1eb1095e041618b2b763119719e24",
            "307308f45567402faaf4c7edacd41708",
            "c105713f71bc47c9a72afd8e9a695d93",
            "79b5c83e3ca64105abcb148131cbf02b",
            "00ddd29d891e400d88038cdc60b2fc0c",
            "636b80b05fe84eb88354ad4b1dcc850d",
            "fb16e507c9ca48f6aa86d947cac7765b",
            "b765e83eeac54b7888f6bd15f330d398",
            "383ab0532746490883eddb09007f207b",
            "d563199b3fd747b385affbca22a1b54e",
            "4136d063ae3f4e24927b412c4570a89f",
            "a71815dc8f64465590ea8bed50cf83a1",
            "6089aca5444a41368e2130f3a914261e",
            "d10f9ba4e6dd4bb783d71ae242115f95",
            "48255e5298ec46578b19693313bcbfde",
            "b16252781bf84f35a70af63116736a92",
            "ecdc3bc9255f40839e9dcb400e58def5",
            "91358884bcc34d76b667a7d4deca3fda"
          ]
        },
        "id": "24b4e4aa",
        "outputId": "3ef3326b-b6b2-4040-b539-e9f4c6f096d3"
      },
      "outputs": [
        {
          "output_type": "stream",
          "name": "stderr",
          "text": [
            "/usr/local/lib/python3.11/dist-packages/huggingface_hub/utils/_auth.py:94: UserWarning: \n",
            "The secret `HF_TOKEN` does not exist in your Colab secrets.\n",
            "To authenticate with the Hugging Face Hub, create a token in your settings tab (https://huggingface.co/settings/tokens), set it as secret in your Google Colab and restart your session.\n",
            "You will be able to reuse this secret in all of your notebooks.\n",
            "Please note that authentication is recommended but still optional to access public models or datasets.\n",
            "  warnings.warn(\n"
          ]
        },
        {
          "output_type": "display_data",
          "data": {
            "text/plain": [
              "README.md:   0%|          | 0.00/12.7k [00:00<?, ?B/s]"
            ],
            "application/vnd.jupyter.widget-view+json": {
              "version_major": 2,
              "version_minor": 0,
              "model_id": "20483dafa9a248ad89672c82b0cc5bb2"
            }
          },
          "metadata": {}
        },
        {
          "output_type": "display_data",
          "data": {
            "text/plain": [
              "wikiann.py:   0%|          | 0.00/5.16k [00:00<?, ?B/s]"
            ],
            "application/vnd.jupyter.widget-view+json": {
              "version_major": 2,
              "version_minor": 0,
              "model_id": "5f10065c73624db39bb50368281a1f39"
            }
          },
          "metadata": {}
        },
        {
          "name": "stdout",
          "output_type": "stream",
          "text": [
            "The repository for tner/wikiann contains custom code which must be executed to correctly load the dataset. You can inspect the repository content at https://hf.co/datasets/tner/wikiann.\n",
            "You can avoid this prompt in future by passing the argument `trust_remote_code=True`.\n",
            "\n",
            "Do you wish to run the custom code? [y/N] y\n"
          ]
        },
        {
          "output_type": "display_data",
          "data": {
            "text/plain": [
              "test.jsonl:   0%|          | 0.00/2.64M [00:00<?, ?B/s]"
            ],
            "application/vnd.jupyter.widget-view+json": {
              "version_major": 2,
              "version_minor": 0,
              "model_id": "f26f73be283449c5b817b329d3e8c639"
            }
          },
          "metadata": {}
        },
        {
          "output_type": "display_data",
          "data": {
            "text/plain": [
              "train.jsonl:   0%|          | 0.00/5.26M [00:00<?, ?B/s]"
            ],
            "application/vnd.jupyter.widget-view+json": {
              "version_major": 2,
              "version_minor": 0,
              "model_id": "f26450e51f26402a8b0363887bb61db6"
            }
          },
          "metadata": {}
        },
        {
          "output_type": "display_data",
          "data": {
            "text/plain": [
              "dev.jsonl:   0%|          | 0.00/2.63M [00:00<?, ?B/s]"
            ],
            "application/vnd.jupyter.widget-view+json": {
              "version_major": 2,
              "version_minor": 0,
              "model_id": "1cab216101d642fcadef006c6de29137"
            }
          },
          "metadata": {}
        },
        {
          "output_type": "display_data",
          "data": {
            "text/plain": [
              "Generating train split: 0 examples [00:00, ? examples/s]"
            ],
            "application/vnd.jupyter.widget-view+json": {
              "version_major": 2,
              "version_minor": 0,
              "model_id": "d4f12351fbda413a9c9e452be480ef94"
            }
          },
          "metadata": {}
        },
        {
          "output_type": "display_data",
          "data": {
            "text/plain": [
              "Generating validation split: 0 examples [00:00, ? examples/s]"
            ],
            "application/vnd.jupyter.widget-view+json": {
              "version_major": 2,
              "version_minor": 0,
              "model_id": "155af8e7404b4fa98586d8ebf3f3b5df"
            }
          },
          "metadata": {}
        },
        {
          "output_type": "display_data",
          "data": {
            "text/plain": [
              "Generating test split: 0 examples [00:00, ? examples/s]"
            ],
            "application/vnd.jupyter.widget-view+json": {
              "version_major": 2,
              "version_minor": 0,
              "model_id": "b765e83eeac54b7888f6bd15f330d398"
            }
          },
          "metadata": {}
        }
      ],
      "source": [
        "dataset = load_dataset(\"tner/wikiann\", \"ru\")"
      ]
    },
    {
      "cell_type": "markdown",
      "source": [
        "### Препроцессинг"
      ],
      "metadata": {
        "id": "93oSUMLlkpKn"
      },
      "id": "93oSUMLlkpKn"
    },
    {
      "cell_type": "code",
      "execution_count": 18,
      "id": "8035db14",
      "metadata": {
        "id": "8035db14"
      },
      "outputs": [],
      "source": [
        "vocab = Counter()\n",
        "\n",
        "for sent in dataset[\"train\"][\"tokens\"]:\n",
        "    vocab.update([x.lower() for x in sent])\n",
        "\n",
        "word2id = {\"PAD\": 0, \"UNK\": 1}\n",
        "\n",
        "for word in vocab:\n",
        "    word2id[word] = len(word2id)\n",
        "\n",
        "id2word = {i:word for word, i in word2id.items()}\n",
        "\n",
        "X = []\n",
        "\n",
        "for sent in dataset[\"train\"][\"tokens\"]:\n",
        "    tokens = [w.lower() for w in sent]\n",
        "    ids = [word2id.get(token, 1) for token in tokens]\n",
        "    X.append(ids)\n",
        "\n",
        "X_test = []\n",
        "\n",
        "for sent in dataset[\"test\"][\"tokens\"]:\n",
        "    tokens = [w.lower() for w in sent]\n",
        "    ids = [word2id.get(token, 1) for token in tokens]\n",
        "    X_test.append(ids)\n",
        "\n",
        "MAX_LEN = max(len(x) for x in X)\n",
        "\n",
        "X = keras.preprocessing.sequence.pad_sequences(X, maxlen=MAX_LEN, padding=\"post\")\n",
        "X_test = keras.preprocessing.sequence.pad_sequences(X_test, maxlen=MAX_LEN, padding=\"post\")\n",
        "\n",
        "label2id = {\n",
        "    \"B-LOC\": 0,\n",
        "    \"B-ORG\": 1,\n",
        "    \"B-PER\": 2,\n",
        "    \"I-LOC\": 3,\n",
        "    \"I-ORG\": 4,\n",
        "    \"I-PER\": 5,\n",
        "    \"O\": 6,\n",
        "    \"PAD\": 7\n",
        "}\n",
        "id2labels = {v:k for k,v in label2id.items()}\n",
        "\n",
        "y = keras.preprocessing.sequence.pad_sequences(dataset[\"train\"][\"tags\"], value=7,\n",
        "                                                  maxlen=MAX_LEN, padding=\"post\")\n",
        "y_test = keras.preprocessing.sequence.pad_sequences(dataset[\"test\"][\"tags\"], value=7,\n",
        "                                                       maxlen=MAX_LEN, padding=\"post\")"
      ]
    },
    {
      "cell_type": "markdown",
      "source": [
        "### Инференс"
      ],
      "metadata": {
        "id": "AtatRo1nkrZT"
      },
      "id": "AtatRo1nkrZT"
    },
    {
      "cell_type": "code",
      "source": [
        "def tokenize(text, word2id):\n",
        "    # токенизирует и переводит в индексы\n",
        "    tokens = re.findall(\"\\w+|[^\\w\\s]+\", text)\n",
        "    ids = [word2id.get(token.lower(), 1) for token in tokens]\n",
        "    return tokens, ids\n",
        "\n",
        "def pred2tags(pred, id2label, length):\n",
        "    # декодирует индексы в части речи\n",
        "    # length нужно чтобы откидывать паддинги или некорректные предсказания\n",
        "    pred = pred.argmax(2)[0, :length]\n",
        "    labels = [id2label[l] for l in pred]\n",
        "    return labels\n",
        "\n",
        "def label_seq(text, word2id, id2label, max_len, model):\n",
        "    tokens, ids = tokenize(text, word2id)\n",
        "    pred = model.predict(keras.preprocessing.sequence.pad_sequences([ids],\n",
        "                                                                       maxlen=max_len,\n",
        "                                                                       padding=\"post\"))\n",
        "    labels = pred2tags(pred, id2label, len(ids))\n",
        "\n",
        "    return list(zip(tokens, labels))"
      ],
      "metadata": {
        "id": "JUywEglKj9fO"
      },
      "id": "JUywEglKj9fO",
      "execution_count": 19,
      "outputs": []
    },
    {
      "cell_type": "markdown",
      "source": [
        "### Модель 1"
      ],
      "metadata": {
        "id": "qCatgvVfktiw"
      },
      "id": "qCatgvVfktiw"
    },
    {
      "cell_type": "code",
      "source": [
        "inputs = keras.layers.Input(shape=(MAX_LEN,))\n",
        "embeddings = keras.layers.Embedding(input_dim=len(word2id), output_dim=100)(inputs)\n",
        "\n",
        "gru_layer = keras.layers.GRU(128, return_sequences=True)(embeddings)\n",
        "lstm_layer = keras.layers.LSTM(128, return_sequences=True)(gru_layer)\n",
        "\n",
        "outputs = keras.layers.Dense(len(label2id), activation=\"softmax\")(lstm_layer)\n",
        "\n",
        "model_1 = keras.Model(inputs=inputs, outputs=outputs)\n",
        "model_1.compile(optimizer=\"adam\",\n",
        "              loss=\"sparse_categorical_crossentropy\",\n",
        "              metrics=[\"accuracy\"])"
      ],
      "metadata": {
        "id": "1nxiQyfUjZrn"
      },
      "id": "1nxiQyfUjZrn",
      "execution_count": 20,
      "outputs": []
    },
    {
      "cell_type": "code",
      "source": [
        "model_1.fit(X, y,\n",
        "            validation_data=(X_test, y_test),\n",
        "            batch_size=128,\n",
        "            epochs=5)"
      ],
      "metadata": {
        "colab": {
          "base_uri": "https://localhost:8080/"
        },
        "id": "gWzA0xg7ja8V",
        "outputId": "0151b6eb-519d-40cf-afb8-71ef00082dfa"
      },
      "id": "gWzA0xg7ja8V",
      "execution_count": 21,
      "outputs": [
        {
          "output_type": "stream",
          "name": "stdout",
          "text": [
            "Epoch 1/5\n",
            "\u001b[1m157/157\u001b[0m \u001b[32m━━━━━━━━━━━━━━━━━━━━\u001b[0m\u001b[37m\u001b[0m \u001b[1m35s\u001b[0m 222ms/step - accuracy: 0.8547 - loss: 0.6007 - val_accuracy: 0.9417 - val_loss: 0.1913\n",
            "Epoch 2/5\n",
            "\u001b[1m157/157\u001b[0m \u001b[32m━━━━━━━━━━━━━━━━━━━━\u001b[0m\u001b[37m\u001b[0m \u001b[1m34s\u001b[0m 215ms/step - accuracy: 0.9464 - loss: 0.1635 - val_accuracy: 0.9662 - val_loss: 0.1016\n",
            "Epoch 3/5\n",
            "\u001b[1m157/157\u001b[0m \u001b[32m━━━━━━━━━━━━━━━━━━━━\u001b[0m\u001b[37m\u001b[0m \u001b[1m34s\u001b[0m 219ms/step - accuracy: 0.9754 - loss: 0.0740 - val_accuracy: 0.9725 - val_loss: 0.0826\n",
            "Epoch 4/5\n",
            "\u001b[1m157/157\u001b[0m \u001b[32m━━━━━━━━━━━━━━━━━━━━\u001b[0m\u001b[37m\u001b[0m \u001b[1m35s\u001b[0m 223ms/step - accuracy: 0.9856 - loss: 0.0421 - val_accuracy: 0.9705 - val_loss: 0.0916\n",
            "Epoch 5/5\n",
            "\u001b[1m157/157\u001b[0m \u001b[32m━━━━━━━━━━━━━━━━━━━━\u001b[0m\u001b[37m\u001b[0m \u001b[1m34s\u001b[0m 215ms/step - accuracy: 0.9936 - loss: 0.0233 - val_accuracy: 0.9719 - val_loss: 0.0912\n"
          ]
        },
        {
          "output_type": "execute_result",
          "data": {
            "text/plain": [
              "<keras.src.callbacks.history.History at 0x7ac8cdec6c50>"
            ]
          },
          "metadata": {},
          "execution_count": 21
        }
      ]
    },
    {
      "cell_type": "code",
      "source": [
        "print(model_1.history.history.keys())\n",
        "plt.plot(model_1.history.history[\"accuracy\"])\n",
        "plt.plot(model_1.history.history[\"val_accuracy\"])\n",
        "plt.title(\"model acc\")\n",
        "plt.ylabel(\"accuracy\")\n",
        "plt.xlabel(\"epoch\")\n",
        "plt.legend([\"train\", \"val\"], loc=\"upper left\")\n",
        "plt.show()"
      ],
      "metadata": {
        "colab": {
          "base_uri": "https://localhost:8080/",
          "height": 489
        },
        "id": "HHle6u5djcWQ",
        "outputId": "d866fae8-5058-4105-d710-983ccbbaed51"
      },
      "id": "HHle6u5djcWQ",
      "execution_count": 22,
      "outputs": [
        {
          "output_type": "stream",
          "name": "stdout",
          "text": [
            "dict_keys(['accuracy', 'loss', 'val_accuracy', 'val_loss'])\n"
          ]
        },
        {
          "output_type": "display_data",
          "data": {
            "text/plain": [
              "<Figure size 640x480 with 1 Axes>"
            ],
            "image/png": "[encoded data removed]"
          },
          "metadata": {}
        }
      ]
    },
    {
      "cell_type": "code",
      "source": [
        "pred = model_1.predict(X_test).argmax(2)"
      ],
      "metadata": {
        "colab": {
          "base_uri": "https://localhost:8080/"
        },
        "id": "NMihSzBW26XS",
        "outputId": "d37ac57f-d752-4738-b6ee-fc6abc0d7e7b"
      },
      "id": "NMihSzBW26XS",
      "execution_count": 23,
      "outputs": [
        {
          "output_type": "stream",
          "name": "stdout",
          "text": [
            "\u001b[1m313/313\u001b[0m \u001b[32m━━━━━━━━━━━━━━━━━━━━\u001b[0m\u001b[37m\u001b[0m \u001b[1m29s\u001b[0m 91ms/step\n"
          ]
        }
      ]
    },
    {
      "cell_type": "code",
      "source": [
        "print(classification_report(y_test.reshape(-1), pred.reshape(-1), labels=list(id2labels.keys()),\n",
        "                                                                     target_names=list(id2labels.values()),\n",
        "                                                                     zero_division=0))"
      ],
      "metadata": {
        "colab": {
          "base_uri": "https://localhost:8080/"
        },
        "id": "1IxK1Pjc3B6O",
        "outputId": "37e4b199-0216-4c6a-87df-b3d81434506a"
      },
      "id": "1IxK1Pjc3B6O",
      "execution_count": 24,
      "outputs": [
        {
          "output_type": "stream",
          "name": "stdout",
          "text": [
            "              precision    recall  f1-score   support\n",
            "\n",
            "       B-LOC       0.78      0.46      0.58      4560\n",
            "       B-ORG       0.35      0.73      0.47      4074\n",
            "       B-PER       0.61      0.30      0.40      3542\n",
            "       I-LOC       0.82      0.55      0.65      3060\n",
            "       I-ORG       0.72      0.75      0.74      8008\n",
            "       I-PER       0.92      0.60      0.73      7544\n",
            "           O       0.88      0.93      0.90     40480\n",
            "         PAD       1.00      1.00      1.00    468732\n",
            "\n",
            "    accuracy                           0.97    540000\n",
            "   macro avg       0.76      0.66      0.69    540000\n",
            "weighted avg       0.98      0.97      0.97    540000\n",
            "\n"
          ]
        }
      ]
    },
    {
      "cell_type": "code",
      "source": [
        "label_seq(\n",
        "    \"Между тем телекомпания НТВ взорвалась у здания госбанка Пакистана рядом с домом правительства на Краснопресненской\",\n",
        "    word2id, id2labels, MAX_LEN, model_1\n",
        ")"
      ],
      "metadata": {
        "colab": {
          "base_uri": "https://localhost:8080/"
        },
        "id": "ZVvyWsAP3hFY",
        "outputId": "de13a320-74e9-4a83-faf2-800833e5173c"
      },
      "id": "ZVvyWsAP3hFY",
      "execution_count": 25,
      "outputs": [
        {
          "output_type": "stream",
          "name": "stdout",
          "text": [
            "\u001b[1m1/1\u001b[0m \u001b[32m━━━━━━━━━━━━━━━━━━━━\u001b[0m\u001b[37m\u001b[0m \u001b[1m0s\u001b[0m 104ms/step\n"
          ]
        },
        {
          "output_type": "execute_result",
          "data": {
            "text/plain": [
              "[('Между', 'O'),\n",
              " ('тем', 'O'),\n",
              " ('телекомпания', 'O'),\n",
              " ('НТВ', 'O'),\n",
              " ('взорвалась', 'O'),\n",
              " ('у', 'O'),\n",
              " ('здания', 'O'),\n",
              " ('госбанка', 'B-ORG'),\n",
              " ('Пакистана', 'I-ORG'),\n",
              " ('рядом', 'O'),\n",
              " ('с', 'O'),\n",
              " ('домом', 'O'),\n",
              " ('правительства', 'O'),\n",
              " ('на', 'O'),\n",
              " ('Краснопресненской', 'B-ORG')]"
            ]
          },
          "metadata": {},
          "execution_count": 25
        }
      ]
    },
    {
      "cell_type": "code",
      "source": [
        "label_seq(\n",
        "    \"Акакий Акакиевич Башмачкин не обнаружил здания ИКО ГКУ ЦЗН ЦАО на улице Лесной\",\n",
        "    word2id, id2labels, MAX_LEN, model_1\n",
        ")"
      ],
      "metadata": {
        "colab": {
          "base_uri": "https://localhost:8080/"
        },
        "id": "lhAG8g7q5W3U",
        "outputId": "1c82c851-371a-42cb-e071-c01bb6a42f87"
      },
      "id": "lhAG8g7q5W3U",
      "execution_count": 26,
      "outputs": [
        {
          "output_type": "stream",
          "name": "stdout",
          "text": [
            "\u001b[1m1/1\u001b[0m \u001b[32m━━━━━━━━━━━━━━━━━━━━\u001b[0m\u001b[37m\u001b[0m \u001b[1m0s\u001b[0m 85ms/step\n"
          ]
        },
        {
          "output_type": "execute_result",
          "data": {
            "text/plain": [
              "[('Акакий', 'B-ORG'),\n",
              " ('Акакиевич', 'I-ORG'),\n",
              " ('Башмачкин', 'I-ORG'),\n",
              " ('не', 'O'),\n",
              " ('обнаружил', 'O'),\n",
              " ('здания', 'O'),\n",
              " ('ИКО', 'O'),\n",
              " ('ГКУ', 'O'),\n",
              " ('ЦЗН', 'O'),\n",
              " ('ЦАО', 'O'),\n",
              " ('на', 'O'),\n",
              " ('улице', 'B-ORG'),\n",
              " ('Лесной', 'I-ORG')]"
            ]
          },
          "metadata": {},
          "execution_count": 26
        }
      ]
    },
    {
      "cell_type": "code",
      "source": [
        "label_seq(\n",
        "    \"Веритас Рацио, называющий себя доктором Рацио, окончил Высшую академию истины и вступил в Гильдию эрудитов\",\n",
        "    word2id, id2labels, MAX_LEN, model_1\n",
        ")"
      ],
      "metadata": {
        "colab": {
          "base_uri": "https://localhost:8080/"
        },
        "id": "KZBZB6YV6zDZ",
        "outputId": "74bb8c06-e175-4aca-831a-f6b4df3d506e"
      },
      "id": "KZBZB6YV6zDZ",
      "execution_count": 27,
      "outputs": [
        {
          "output_type": "stream",
          "name": "stdout",
          "text": [
            "\u001b[1m1/1\u001b[0m \u001b[32m━━━━━━━━━━━━━━━━━━━━\u001b[0m\u001b[37m\u001b[0m \u001b[1m0s\u001b[0m 80ms/step\n"
          ]
        },
        {
          "output_type": "execute_result",
          "data": {
            "text/plain": [
              "[('Веритас', 'B-ORG'),\n",
              " ('Рацио', 'I-ORG'),\n",
              " (',', 'O'),\n",
              " ('называющий', 'O'),\n",
              " ('себя', 'O'),\n",
              " ('доктором', 'B-PER'),\n",
              " ('Рацио', 'I-PER'),\n",
              " (',', 'O'),\n",
              " ('окончил', 'O'),\n",
              " ('Высшую', 'B-ORG'),\n",
              " ('академию', 'I-ORG'),\n",
              " ('истины', 'I-ORG'),\n",
              " ('и', 'O'),\n",
              " ('вступил', 'O'),\n",
              " ('в', 'O'),\n",
              " ('Гильдию', 'O'),\n",
              " ('эрудитов', 'O')]"
            ]
          },
          "metadata": {},
          "execution_count": 27
        }
      ]
    },
    {
      "cell_type": "markdown",
      "source": [
        "### Модель 2"
      ],
      "metadata": {
        "id": "36fqAnVi22BP"
      },
      "id": "36fqAnVi22BP"
    },
    {
      "cell_type": "code",
      "source": [
        "inputs = keras.layers.Input(shape=(MAX_LEN,))\n",
        "embeddings = keras.layers.Embedding(input_dim=len(word2id), output_dim=100)(inputs)\n",
        "\n",
        "lstm_1 = keras.layers.LSTM(100, return_sequences=True)(embeddings)\n",
        "add_1 = keras.layers.add([embeddings, lstm_1])\n",
        "lstm_2 = keras.layers.LSTM(100, return_sequences=True)(add_1)\n",
        "add_2 = keras.layers.add([embeddings, lstm_2])\n",
        "lstm_3 = keras.layers.LSTM(100, return_sequences=True)(add_2)\n",
        "\n",
        "outputs = keras.layers.Dense(len(label2id), activation=\"softmax\")(lstm_3)\n",
        "\n",
        "model_2 = keras.Model(inputs=inputs, outputs=outputs)\n",
        "model_2.compile(optimizer=\"adam\",\n",
        "              loss=\"sparse_categorical_crossentropy\",\n",
        "              metrics=[\"accuracy\"])"
      ],
      "metadata": {
        "id": "xkUP76Gc4DQb"
      },
      "id": "xkUP76Gc4DQb",
      "execution_count": 28,
      "outputs": []
    },
    {
      "cell_type": "code",
      "source": [
        "model_2.fit(X, y,\n",
        "            validation_data=(X_test, y_test),\n",
        "            batch_size=128,\n",
        "            epochs=5)"
      ],
      "metadata": {
        "colab": {
          "base_uri": "https://localhost:8080/"
        },
        "id": "0dPtqjL64KLg",
        "outputId": "d181dfeb-1292-4f5a-8bf8-868d8b77e281"
      },
      "id": "0dPtqjL64KLg",
      "execution_count": 29,
      "outputs": [
        {
          "output_type": "stream",
          "name": "stdout",
          "text": [
            "Epoch 1/5\n",
            "\u001b[1m157/157\u001b[0m \u001b[32m━━━━━━━━━━━━━━━━━━━━\u001b[0m\u001b[37m\u001b[0m \u001b[1m43s\u001b[0m 277ms/step - accuracy: 0.8560 - loss: 0.5731 - val_accuracy: 0.9393 - val_loss: 0.2020\n",
            "Epoch 2/5\n",
            "\u001b[1m157/157\u001b[0m \u001b[32m━━━━━━━━━━━━━━━━━━━━\u001b[0m\u001b[37m\u001b[0m \u001b[1m44s\u001b[0m 282ms/step - accuracy: 0.9448 - loss: 0.1781 - val_accuracy: 0.9637 - val_loss: 0.1093\n",
            "Epoch 3/5\n",
            "\u001b[1m157/157\u001b[0m \u001b[32m━━━━━━━━━━━━━━━━━━━━\u001b[0m\u001b[37m\u001b[0m \u001b[1m44s\u001b[0m 279ms/step - accuracy: 0.9710 - loss: 0.0839 - val_accuracy: 0.9719 - val_loss: 0.0844\n",
            "Epoch 4/5\n",
            "\u001b[1m157/157\u001b[0m \u001b[32m━━━━━━━━━━━━━━━━━━━━\u001b[0m\u001b[37m\u001b[0m \u001b[1m44s\u001b[0m 280ms/step - accuracy: 0.9830 - loss: 0.0474 - val_accuracy: 0.9690 - val_loss: 0.0847\n",
            "Epoch 5/5\n",
            "\u001b[1m157/157\u001b[0m \u001b[32m━━━━━━━━━━━━━━━━━━━━\u001b[0m\u001b[37m\u001b[0m \u001b[1m46s\u001b[0m 291ms/step - accuracy: 0.9909 - loss: 0.0286 - val_accuracy: 0.9707 - val_loss: 0.0878\n"
          ]
        },
        {
          "output_type": "execute_result",
          "data": {
            "text/plain": [
              "<keras.src.callbacks.history.History at 0x7ac7861d8710>"
            ]
          },
          "metadata": {},
          "execution_count": 29
        }
      ]
    },
    {
      "cell_type": "code",
      "source": [
        "print(model_2.history.history.keys())\n",
        "plt.plot(model_2.history.history[\"accuracy\"])\n",
        "plt.plot(model_2.history.history[\"val_accuracy\"])\n",
        "plt.title(\"model acc\")\n",
        "plt.ylabel(\"accuracy\")\n",
        "plt.xlabel(\"epoch\")\n",
        "plt.legend([\"train\", \"val\"], loc=\"upper left\")\n",
        "plt.show()"
      ],
      "metadata": {
        "colab": {
          "base_uri": "https://localhost:8080/",
          "height": 489
        },
        "id": "c6kkn_vL4NPz",
        "outputId": "97cf65dd-dc0f-41bb-cd9f-963653ef0a2b"
      },
      "id": "c6kkn_vL4NPz",
      "execution_count": 30,
      "outputs": [
        {
          "output_type": "stream",
          "name": "stdout",
          "text": [
            "dict_keys(['accuracy', 'loss', 'val_accuracy', 'val_loss'])\n"
          ]
        },
        {
          "output_type": "display_data",
          "data": {
            "text/plain": [
              "<Figure size 640x480 with 1 Axes>"
            ],
            "image/png": "[encoded data removed]"
          },
          "metadata": {}
        }
      ]
    },
    {
      "cell_type": "code",
      "source": [
        "pred = model_2.predict(X_test).argmax(2)"
      ],
      "metadata": {
        "colab": {
          "base_uri": "https://localhost:8080/"
        },
        "id": "Ao-AU0jR4Q35",
        "outputId": "c7b15e6f-d4de-4b10-d7cc-6e94c24d901e"
      },
      "id": "Ao-AU0jR4Q35",
      "execution_count": 31,
      "outputs": [
        {
          "output_type": "stream",
          "name": "stdout",
          "text": [
            "\u001b[1m313/313\u001b[0m \u001b[32m━━━━━━━━━━━━━━━━━━━━\u001b[0m\u001b[37m\u001b[0m \u001b[1m39s\u001b[0m 124ms/step\n"
          ]
        }
      ]
    },
    {
      "cell_type": "code",
      "source": [
        "print(classification_report(y_test.reshape(-1), pred.reshape(-1), labels=list(id2labels.keys()),\n",
        "                                                                     target_names=list(id2labels.values()),\n",
        "                                                                     zero_division=0))"
      ],
      "metadata": {
        "colab": {
          "base_uri": "https://localhost:8080/"
        },
        "id": "eZIyUs0h4TRd",
        "outputId": "13c55dc7-3368-4302-e141-6cf9e1630d7a"
      },
      "id": "eZIyUs0h4TRd",
      "execution_count": 32,
      "outputs": [
        {
          "output_type": "stream",
          "name": "stdout",
          "text": [
            "              precision    recall  f1-score   support\n",
            "\n",
            "       B-LOC       0.49      0.65      0.56      4560\n",
            "       B-ORG       0.59      0.40      0.48      4074\n",
            "       B-PER       0.55      0.30      0.39      3542\n",
            "       I-LOC       0.79      0.61      0.68      3060\n",
            "       I-ORG       0.65      0.80      0.72      8008\n",
            "       I-PER       0.89      0.60      0.72      7544\n",
            "           O       0.86      0.91      0.89     40480\n",
            "         PAD       1.00      1.00      1.00    468732\n",
            "\n",
            "    accuracy                           0.97    540000\n",
            "   macro avg       0.73      0.66      0.68    540000\n",
            "weighted avg       0.97      0.97      0.97    540000\n",
            "\n"
          ]
        }
      ]
    },
    {
      "cell_type": "code",
      "source": [
        "label_seq(\n",
        "    \"Между тем телекомпания НТВ взорвалась у здания госбанка Пакистана рядом с домом правительства на Краснопресненской\",\n",
        "    word2id, id2labels, MAX_LEN, model_2\n",
        ")"
      ],
      "metadata": {
        "colab": {
          "base_uri": "https://localhost:8080/"
        },
        "id": "U5lLtu8Z4V_7",
        "outputId": "7fbe4062-9ce0-46a4-9824-102cc1c85f25"
      },
      "id": "U5lLtu8Z4V_7",
      "execution_count": 33,
      "outputs": [
        {
          "output_type": "stream",
          "name": "stdout",
          "text": [
            "\u001b[1m1/1\u001b[0m \u001b[32m━━━━━━━━━━━━━━━━━━━━\u001b[0m\u001b[37m\u001b[0m \u001b[1m0s\u001b[0m 118ms/step\n"
          ]
        },
        {
          "output_type": "execute_result",
          "data": {
            "text/plain": [
              "[('Между', 'O'),\n",
              " ('тем', 'O'),\n",
              " ('телекомпания', 'B-ORG'),\n",
              " ('НТВ', 'I-ORG'),\n",
              " ('взорвалась', 'I-ORG'),\n",
              " ('у', 'O'),\n",
              " ('здания', 'O'),\n",
              " ('госбанка', 'B-ORG'),\n",
              " ('Пакистана', 'I-ORG'),\n",
              " ('рядом', 'O'),\n",
              " ('с', 'O'),\n",
              " ('домом', 'O'),\n",
              " ('правительства', 'O'),\n",
              " ('на', 'O'),\n",
              " ('Краснопресненской', 'O')]"
            ]
          },
          "metadata": {},
          "execution_count": 33
        }
      ]
    },
    {
      "cell_type": "code",
      "source": [
        "label_seq(\n",
        "    \"Акакий Акакиевич Башмачкин не обнаружил здания ИКО ГКУ ЦЗН ЦАО на улице Лесной\",\n",
        "    word2id, id2labels, MAX_LEN, model_2\n",
        ")"
      ],
      "metadata": {
        "colab": {
          "base_uri": "https://localhost:8080/"
        },
        "id": "EZnTgnRP5U_0",
        "outputId": "65cfba01-97b6-4200-f494-61cfe8afb21f"
      },
      "id": "EZnTgnRP5U_0",
      "execution_count": 34,
      "outputs": [
        {
          "output_type": "stream",
          "name": "stdout",
          "text": [
            "\u001b[1m1/1\u001b[0m \u001b[32m━━━━━━━━━━━━━━━━━━━━\u001b[0m\u001b[37m\u001b[0m \u001b[1m0s\u001b[0m 117ms/step\n"
          ]
        },
        {
          "output_type": "execute_result",
          "data": {
            "text/plain": [
              "[('Акакий', 'O'),\n",
              " ('Акакиевич', 'I-ORG'),\n",
              " ('Башмачкин', 'I-ORG'),\n",
              " ('не', 'O'),\n",
              " ('обнаружил', 'O'),\n",
              " ('здания', 'O'),\n",
              " ('ИКО', 'O'),\n",
              " ('ГКУ', 'I-ORG'),\n",
              " ('ЦЗН', 'I-ORG'),\n",
              " ('ЦАО', 'I-ORG'),\n",
              " ('на', 'O'),\n",
              " ('улице', 'B-ORG'),\n",
              " ('Лесной', 'I-ORG')]"
            ]
          },
          "metadata": {},
          "execution_count": 34
        }
      ]
    },
    {
      "cell_type": "code",
      "source": [
        "label_seq(\n",
        "    \"Веритас Рацио, называющий себя доктором Рацио, окончил Высшую академию истины и вступил в Гильдию эрудитов\",\n",
        "    word2id, id2labels, MAX_LEN, model_2\n",
        ")"
      ],
      "metadata": {
        "colab": {
          "base_uri": "https://localhost:8080/"
        },
        "id": "WyctoKCw7v7p",
        "outputId": "864ac6e3-2c6d-48f6-833b-3fbcdc66c0b2"
      },
      "id": "WyctoKCw7v7p",
      "execution_count": 35,
      "outputs": [
        {
          "output_type": "stream",
          "name": "stdout",
          "text": [
            "\u001b[1m1/1\u001b[0m \u001b[32m━━━━━━━━━━━━━━━━━━━━\u001b[0m\u001b[37m\u001b[0m \u001b[1m0s\u001b[0m 124ms/step\n"
          ]
        },
        {
          "output_type": "execute_result",
          "data": {
            "text/plain": [
              "[('Веритас', 'O'),\n",
              " ('Рацио', 'I-ORG'),\n",
              " (',', 'O'),\n",
              " ('называющий', 'B-LOC'),\n",
              " ('себя', 'O'),\n",
              " ('доктором', 'B-PER'),\n",
              " ('Рацио', 'O'),\n",
              " (',', 'O'),\n",
              " ('окончил', 'O'),\n",
              " ('Высшую', 'B-ORG'),\n",
              " ('академию', 'I-ORG'),\n",
              " ('истины', 'I-ORG'),\n",
              " ('и', 'O'),\n",
              " ('вступил', 'O'),\n",
              " ('в', 'O'),\n",
              " ('Гильдию', 'O'),\n",
              " ('эрудитов', 'O')]"
            ]
          },
          "metadata": {},
          "execution_count": 35
        }
      ]
    },
    {
      "cell_type": "markdown",
      "source": [
        "### Модель 3"
      ],
      "metadata": {
        "id": "2_ME5VPP-V2h"
      },
      "id": "2_ME5VPP-V2h"
    },
    {
      "cell_type": "code",
      "source": [
        "inputs = keras.layers.Input(shape=(MAX_LEN,))\n",
        "embeddings = keras.layers.Embedding(input_dim=len(word2id), output_dim=100)(inputs)\n",
        "\n",
        "lstm_1 = keras.layers.Bidirectional(keras.layers.LSTM(128, return_sequences=True))(embeddings)\n",
        "conv_1 = keras.layers.Conv1D(kernel_size=5, filters=256, padding=\"same\", strides=1)(lstm_1)\n",
        "lstm_2 = keras.layers.Bidirectional(keras.layers.LSTM(128, return_sequences=True))(conv_1)\n",
        "conv_2 = keras.layers.Conv1D(kernel_size=5, filters=256, padding=\"same\", strides=1)(lstm_2)\n",
        "\n",
        "outputs = keras.layers.Dense(len(label2id), activation=\"softmax\")(conv_2)\n",
        "\n",
        "model_3 = keras.Model(inputs=inputs, outputs=outputs)\n",
        "model_3.compile(optimizer=\"adam\",\n",
        "              loss=\"sparse_categorical_crossentropy\",\n",
        "              metrics=[\"accuracy\"])"
      ],
      "metadata": {
        "id": "jUL5byM--XS5"
      },
      "id": "jUL5byM--XS5",
      "execution_count": 36,
      "outputs": []
    },
    {
      "cell_type": "code",
      "source": [
        "model_3.fit(X, y,\n",
        "            validation_data=(X_test, y_test),\n",
        "            batch_size=128,\n",
        "            epochs=5)"
      ],
      "metadata": {
        "colab": {
          "base_uri": "https://localhost:8080/"
        },
        "id": "6GWxfxvQ-k77",
        "outputId": "57e69380-a8ff-4ff7-ed71-7f95bfc1b6e5"
      },
      "id": "6GWxfxvQ-k77",
      "execution_count": 37,
      "outputs": [
        {
          "output_type": "stream",
          "name": "stdout",
          "text": [
            "Epoch 1/5\n",
            "\u001b[1m157/157\u001b[0m \u001b[32m━━━━━━━━━━━━━━━━━━━━\u001b[0m\u001b[37m\u001b[0m \u001b[1m61s\u001b[0m 384ms/step - accuracy: 0.8931 - loss: 0.3532 - val_accuracy: 0.9603 - val_loss: 0.1170\n",
            "Epoch 2/5\n",
            "\u001b[1m157/157\u001b[0m \u001b[32m━━━━━━━━━━━━━━━━━━━━\u001b[0m\u001b[37m\u001b[0m \u001b[1m60s\u001b[0m 383ms/step - accuracy: 0.9699 - loss: 0.0893 - val_accuracy: 0.9781 - val_loss: 0.0671\n",
            "Epoch 3/5\n",
            "\u001b[1m157/157\u001b[0m \u001b[32m━━━━━━━━━━━━━━━━━━━━\u001b[0m\u001b[37m\u001b[0m \u001b[1m60s\u001b[0m 379ms/step - accuracy: 0.9889 - loss: 0.0328 - val_accuracy: 0.9836 - val_loss: 0.0554\n",
            "Epoch 4/5\n",
            "\u001b[1m157/157\u001b[0m \u001b[32m━━━━━━━━━━━━━━━━━━━━\u001b[0m\u001b[37m\u001b[0m \u001b[1m60s\u001b[0m 382ms/step - accuracy: 0.9966 - loss: 0.0112 - val_accuracy: 0.9838 - val_loss: 0.0638\n",
            "Epoch 5/5\n",
            "\u001b[1m157/157\u001b[0m \u001b[32m━━━━━━━━━━━━━━━━━━━━\u001b[0m\u001b[37m\u001b[0m \u001b[1m62s\u001b[0m 393ms/step - accuracy: 0.9983 - loss: 0.0060 - val_accuracy: 0.9830 - val_loss: 0.0715\n"
          ]
        },
        {
          "output_type": "execute_result",
          "data": {
            "text/plain": [
              "<keras.src.callbacks.history.History at 0x7ac6cd308ed0>"
            ]
          },
          "metadata": {},
          "execution_count": 37
        }
      ]
    },
    {
      "cell_type": "code",
      "source": [
        "print(model_3.history.history.keys())\n",
        "plt.plot(model_3.history.history[\"accuracy\"])\n",
        "plt.plot(model_3.history.history[\"val_accuracy\"])\n",
        "plt.title(\"model acc\")\n",
        "plt.ylabel(\"accuracy\")\n",
        "plt.xlabel(\"epoch\")\n",
        "plt.legend([\"train\", \"val\"], loc=\"upper left\")\n",
        "plt.show()"
      ],
      "metadata": {
        "colab": {
          "base_uri": "https://localhost:8080/",
          "height": 489
        },
        "id": "4leC8LdJ-0lk",
        "outputId": "0a6d6fb4-1a98-4a2c-dd07-761742ba9d98"
      },
      "id": "4leC8LdJ-0lk",
      "execution_count": 38,
      "outputs": [
        {
          "output_type": "stream",
          "name": "stdout",
          "text": [
            "dict_keys(['accuracy', 'loss', 'val_accuracy', 'val_loss'])\n"
          ]
        },
        {
          "output_type": "display_data",
          "data": {
            "text/plain": [
              "<Figure size 640x480 with 1 Axes>"
            ],
            "image/png": "[encoded data removed]"
          },
          "metadata": {}
        }
      ]
    },
    {
      "cell_type": "code",
      "source": [
        "pred = model_3.predict(X_test).argmax(2)"
      ],
      "metadata": {
        "colab": {
          "base_uri": "https://localhost:8080/"
        },
        "id": "EHFcGDR7-3zC",
        "outputId": "6565310e-fb31-4bdd-baa1-9144a403caab"
      },
      "id": "EHFcGDR7-3zC",
      "execution_count": 39,
      "outputs": [
        {
          "output_type": "stream",
          "name": "stdout",
          "text": [
            "\u001b[1m313/313\u001b[0m \u001b[32m━━━━━━━━━━━━━━━━━━━━\u001b[0m\u001b[37m\u001b[0m \u001b[1m52s\u001b[0m 167ms/step\n"
          ]
        }
      ]
    },
    {
      "cell_type": "code",
      "source": [
        "print(classification_report(y_test.reshape(-1), pred.reshape(-1), labels=list(id2labels.keys()),\n",
        "                                                                     target_names=list(id2labels.values()),\n",
        "                                                                     zero_division=0))"
      ],
      "metadata": {
        "colab": {
          "base_uri": "https://localhost:8080/"
        },
        "id": "hDZce2L3-6YK",
        "outputId": "52a8ecd3-5afc-4d93-cbb3-35faee7e55cc"
      },
      "id": "hDZce2L3-6YK",
      "execution_count": 40,
      "outputs": [
        {
          "output_type": "stream",
          "name": "stdout",
          "text": [
            "              precision    recall  f1-score   support\n",
            "\n",
            "       B-LOC       0.76      0.77      0.77      4560\n",
            "       B-ORG       0.49      0.82      0.62      4074\n",
            "       B-PER       0.90      0.84      0.87      3542\n",
            "       I-LOC       0.80      0.77      0.79      3060\n",
            "       I-ORG       0.79      0.78      0.78      8008\n",
            "       I-PER       0.94      0.88      0.91      7544\n",
            "           O       0.96      0.91      0.94     40480\n",
            "         PAD       1.00      1.00      1.00    468732\n",
            "\n",
            "    accuracy                           0.98    540000\n",
            "   macro avg       0.83      0.85      0.83    540000\n",
            "weighted avg       0.99      0.98      0.98    540000\n",
            "\n"
          ]
        }
      ]
    },
    {
      "cell_type": "code",
      "source": [
        "label_seq(\n",
        "    \"Между тем телекомпания НТВ взорвалась у здания госбанка Пакистана рядом с домом правительства на Краснопресненской\",\n",
        "    word2id, id2labels, MAX_LEN, model_3\n",
        ")"
      ],
      "metadata": {
        "colab": {
          "base_uri": "https://localhost:8080/"
        },
        "id": "iWrAzc3O-8GF",
        "outputId": "f5b2f1f8-ea36-4aa4-d61a-3d3ff651a607"
      },
      "id": "iWrAzc3O-8GF",
      "execution_count": 41,
      "outputs": [
        {
          "output_type": "stream",
          "name": "stdout",
          "text": [
            "\u001b[1m1/1\u001b[0m \u001b[32m━━━━━━━━━━━━━━━━━━━━\u001b[0m\u001b[37m\u001b[0m \u001b[1m0s\u001b[0m 183ms/step\n"
          ]
        },
        {
          "output_type": "execute_result",
          "data": {
            "text/plain": [
              "[('Между', 'O'),\n",
              " ('тем', 'O'),\n",
              " ('телекомпания', 'O'),\n",
              " ('НТВ', 'O'),\n",
              " ('взорвалась', 'I-ORG'),\n",
              " ('у', 'O'),\n",
              " ('здания', 'O'),\n",
              " ('госбанка', 'B-ORG'),\n",
              " ('Пакистана', 'I-ORG'),\n",
              " ('рядом', 'O'),\n",
              " ('с', 'O'),\n",
              " ('домом', 'B-ORG'),\n",
              " ('правительства', 'O'),\n",
              " ('на', 'O'),\n",
              " ('Краснопресненской', 'B-ORG')]"
            ]
          },
          "metadata": {},
          "execution_count": 41
        }
      ]
    },
    {
      "cell_type": "code",
      "source": [
        "label_seq(\n",
        "    \"Акакий Акакиевич Башмачкин не обнаружил здания ИКО ГКУ ЦЗН ЦАО на улице Лесной\",\n",
        "    word2id, id2labels, MAX_LEN, model_3\n",
        ")"
      ],
      "metadata": {
        "colab": {
          "base_uri": "https://localhost:8080/"
        },
        "id": "ap6zDtgF--A4",
        "outputId": "9b76e452-513c-4965-e4b2-de9f8c4daf97"
      },
      "id": "ap6zDtgF--A4",
      "execution_count": 42,
      "outputs": [
        {
          "output_type": "stream",
          "name": "stdout",
          "text": [
            "\u001b[1m1/1\u001b[0m \u001b[32m━━━━━━━━━━━━━━━━━━━━\u001b[0m\u001b[37m\u001b[0m \u001b[1m0s\u001b[0m 157ms/step\n"
          ]
        },
        {
          "output_type": "execute_result",
          "data": {
            "text/plain": [
              "[('Акакий', 'O'),\n",
              " ('Акакиевич', 'O'),\n",
              " ('Башмачкин', 'O'),\n",
              " ('не', 'O'),\n",
              " ('обнаружил', 'O'),\n",
              " ('здания', 'O'),\n",
              " ('ИКО', 'O'),\n",
              " ('ГКУ', 'B-ORG'),\n",
              " ('ЦЗН', 'I-ORG'),\n",
              " ('ЦАО', 'I-ORG'),\n",
              " ('на', 'O'),\n",
              " ('улице', 'B-ORG'),\n",
              " ('Лесной', 'I-ORG')]"
            ]
          },
          "metadata": {},
          "execution_count": 42
        }
      ]
    },
    {
      "cell_type": "code",
      "source": [
        "label_seq(\n",
        "    \"Веритас Рацио, называющий себя доктором Рацио, окончил Высшую академию истины и вступил в Гильдию эрудитов\",\n",
        "    word2id, id2labels, MAX_LEN, model_3\n",
        ")"
      ],
      "metadata": {
        "colab": {
          "base_uri": "https://localhost:8080/"
        },
        "id": "aC0irQ2p_An5",
        "outputId": "015c1d07-8819-43c0-ad5b-5587a37d816a"
      },
      "id": "aC0irQ2p_An5",
      "execution_count": 43,
      "outputs": [
        {
          "output_type": "stream",
          "name": "stdout",
          "text": [
            "\u001b[1m1/1\u001b[0m \u001b[32m━━━━━━━━━━━━━━━━━━━━\u001b[0m\u001b[37m\u001b[0m \u001b[1m0s\u001b[0m 157ms/step\n"
          ]
        },
        {
          "output_type": "execute_result",
          "data": {
            "text/plain": [
              "[('Веритас', 'B-PER'),\n",
              " ('Рацио', 'I-PER'),\n",
              " (',', 'O'),\n",
              " ('называющий', 'O'),\n",
              " ('себя', 'O'),\n",
              " ('доктором', 'B-PER'),\n",
              " ('Рацио', 'O'),\n",
              " (',', 'O'),\n",
              " ('окончил', 'O'),\n",
              " ('Высшую', 'B-ORG'),\n",
              " ('академию', 'I-ORG'),\n",
              " ('истины', 'I-ORG'),\n",
              " ('и', 'O'),\n",
              " ('вступил', 'O'),\n",
              " ('в', 'O'),\n",
              " ('Гильдию', 'B-ORG'),\n",
              " ('эрудитов', 'I-ORG')]"
            ]
          },
          "metadata": {},
          "execution_count": 43
        }
      ]
    },
    {
      "cell_type": "markdown",
      "source": [
        "### Результат\n",
        "\n",
        "Третья модель оказалась лучше всего; тем не менее, все три модели ошибаются на сложных примерах.\n",
        "\n",
        "В табличках с метриками синим подчеркнуты лучшие показатели среди всех трех моделей.\n",
        "\n",
        "В результатах sequence labelling красным отмечены ошибки определения O как сущности или сущности как О; фиолетовым отмечены случаи, когда модель верно определила слово как сущность, но неверно определила ее тип (PER/ORG/LOC)."
      ],
      "metadata": {
        "id": "H537m9g1OBFt"
      },
      "id": "H537m9g1OBFt"
    },
    {
      "cell_type": "markdown",
      "source": [
        "![image.png](data:image/png;base64,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)"
      ],
      "metadata": {
        "id": "OI3KVXSfPso3"
      },
      "id": "OI3KVXSfPso3"
    }
  ],
  "metadata": {
    "kernelspec": {
      "display_name": "Python 3",
      "name": "python3"
    },
    "language_info": {
      "codemirror_mode": {
        "name": "ipython",
        "version": 3
      },
      "file_extension": ".py",
      "mimetype": "text/x-python",
      "name": "python",
      "nbconvert_exporter": "python",
      "pygments_lexer": "ipython3",
      "version": "3.9.14"
    },
    "colab": {
      "provenance": [],
      "gpuType": "T4"
    },
    "accelerator": "GPU",
    "widgets": {
      "application/vnd.jupyter.widget-state+json": {
        "20483dafa9a248ad89672c82b0cc5bb2": {
          "model_module": "@jupyter-widgets/controls",
          "model_name": "HBoxModel",
          "model_module_version": "1.5.0",
          "state": {
            "_dom_classes": [],
            "_model_module": "@jupyter-widgets/controls",
            "_model_module_version": "1.5.0",
            "_model_name": "HBoxModel",
            "_view_count": null,
            "_view_module": "@jupyter-widgets/controls",
            "_view_module_version": "1.5.0",
            "_view_name": "HBoxView",
            "box_style": "",
            "children": [
              "IPY_MODEL_bc979459b545474b8a85de2d637f0abd",
              "IPY_MODEL_3772c793ba2f446ab8edd163034c81cd",
              "IPY_MODEL_fe903e327b7a4bd7a5a62e419f4390c3"
            ],
            "layout": "IPY_MODEL_803303b03c9e48878cfaabeedd6e3527"
          }
        },
        "bc979459b545474b8a85de2d637f0abd": {
          "model_module": "@jupyter-widgets/controls",
          "model_name": "HTMLModel",
          "model_module_version": "1.5.0",
          "state": {
            "_dom_classes": [],
            "_model_module": "@jupyter-widgets/controls",
            "_model_module_version": "1.5.0",
            "_model_name": "HTMLModel",
            "_view_count": null,
            "_view_module": "@jupyter-widgets/controls",
            "_view_module_version": "1.5.0",
            "_view_name": "HTMLView",
            "description": "",
            "description_tooltip": null,
            "layout": "IPY_MODEL_051147adcb98446e97a1d1358d9821bc",
            "placeholder": "​",
            "style": "IPY_MODEL_753e55e88a4843ff88d62758e296d079",
            "value": "README.md: 100%"
          }
        },
        "3772c793ba2f446ab8edd163034c81cd": {
          "model_module": "@jupyter-widgets/controls",
          "model_name": "FloatProgressModel",
          "model_module_version": "1.5.0",
          "state": {
            "_dom_classes": [],
            "_model_module": "@jupyter-widgets/controls",
            "_model_module_version": "1.5.0",
            "_model_name": "FloatProgressModel",
            "_view_count": null,
            "_view_module": "@jupyter-widgets/controls",
            "_view_module_version": "1.5.0",
            "_view_name": "ProgressView",
            "bar_style": "success",
            "description": "",
            "description_tooltip": null,
            "layout": "IPY_MODEL_85937485ba5d4b168bed65edd683dbf6",
            "max": 12687,
            "min": 0,
            "orientation": "horizontal",
            "style": "IPY_MODEL_9fcadef69e424ed79893fe1308ce6e89",
            "value": 12687
          }
        },
        "fe903e327b7a4bd7a5a62e419f4390c3": {
          "model_module": "@jupyter-widgets/controls",
          "model_name": "HTMLModel",
          "model_module_version": "1.5.0",
          "state": {
            "_dom_classes": [],
            "_model_module": "@jupyter-widgets/controls",
            "_model_module_version": "1.5.0",
            "_model_name": "HTMLModel",
            "_view_count": null,
            "_view_module": "@jupyter-widgets/controls",
            "_view_module_version": "1.5.0",
            "_view_name": "HTMLView",
            "description": "",
            "description_tooltip": null,
            "layout": "IPY_MODEL_50c9ceaa3a3e4a82b2aead4dd5d0fbb4",
            "placeholder": "​",
            "style": "IPY_MODEL_b687935f269f4ab29f93a393ba6e84be",
            "value": " 12.7k/12.7k [00:00&lt;00:00, 871kB/s]"
          }
        },
        "803303b03c9e48878cfaabeedd6e3527": {
          "model_module": "@jupyter-widgets/base",
          "model_name": "LayoutModel",
          "model_module_version": "1.2.0",
          "state": {
            "_model_module": "@jupyter-widgets/base",
            "_model_module_version": "1.2.0",
            "_model_name": "LayoutModel",
            "_view_count": null,
            "_view_module": "@jupyter-widgets/base",
            "_view_module_version": "1.2.0",
            "_view_name": "LayoutView",
            "align_content": null,
            "align_items": null,
            "align_self": null,
            "border": null,
            "bottom": null,
            "display": null,
            "flex": null,
            "flex_flow": null,
            "grid_area": null,
            "grid_auto_columns": null,
            "grid_auto_flow": null,
            "grid_auto_rows": null,
            "grid_column": null,
            "grid_gap": null,
            "grid_row": null,
            "grid_template_areas": null,
            "grid_template_columns": null,
            "grid_template_rows": null,
            "height": null,
            "justify_content": null,
            "justify_items": null,
            "left": null,
            "margin": null,
            "max_height": null,
            "max_width": null,
            "min_height": null,
            "min_width": null,
            "object_fit": null,
            "object_position": null,
            "order": null,
            "overflow": null,
            "overflow_x": null,
            "overflow_y": null,
            "padding": null,
            "right": null,
            "top": null,
            "visibility": null,
            "width": null
          }
        },
        "051147adcb98446e97a1d1358d9821bc": {
          "model_module": "@jupyter-widgets/base",
          "model_name": "LayoutModel",
          "model_module_version": "1.2.0",
          "state": {
            "_model_module": "@jupyter-widgets/base",
            "_model_module_version": "1.2.0",
            "_model_name": "LayoutModel",
            "_view_count": null,
            "_view_module": "@jupyter-widgets/base",
            "_view_module_version": "1.2.0",
            "_view_name": "LayoutView",
            "align_content": null,
            "align_items": null,
            "align_self": null,
            "border": null,
            "bottom": null,
            "display": null,
            "flex": null,
            "flex_flow": null,
            "grid_area": null,
            "grid_auto_columns": null,
            "grid_auto_flow": null,
            "grid_auto_rows": null,
            "grid_column": null,
            "grid_gap": null,
            "grid_row": null,
            "grid_template_areas": null,
            "grid_template_columns": null,
            "grid_template_rows": null,
            "height": null,
            "justify_content": null,
            "justify_items": null,
            "left": null,
            "margin": null,
            "max_height": null,
            "max_width": null,
            "min_height": null,
            "min_width": null,
            "object_fit": null,
            "object_position": null,
            "order": null,
            "overflow": null,
            "overflow_x": null,
            "overflow_y": null,
            "padding": null,
            "right": null,
            "top": null,
            "visibility": null,
            "width": null
          }
        },
        "753e55e88a4843ff88d62758e296d079": {
          "model_module": "@jupyter-widgets/controls",
          "model_name": "DescriptionStyleModel",
          "model_module_version": "1.5.0",
          "state": {
            "_model_module": "@jupyter-widgets/controls",
            "_model_module_version": "1.5.0",
            "_model_name": "DescriptionStyleModel",
            "_view_count": null,
            "_view_module": "@jupyter-widgets/base",
            "_view_module_version": "1.2.0",
            "_view_name": "StyleView",
            "description_width": ""
          }
        },
        "85937485ba5d4b168bed65edd683dbf6": {
          "model_module": "@jupyter-widgets/base",
          "model_name": "LayoutModel",
          "model_module_version": "1.2.0",
          "state": {
            "_model_module": "@jupyter-widgets/base",
            "_model_module_version": "1.2.0",
            "_model_name": "LayoutModel",
            "_view_count": null,
            "_view_module": "@jupyter-widgets/base",
            "_view_module_version": "1.2.0",
            "_view_name": "LayoutView",
            "align_content": null,
            "align_items": null,
            "align_self": null,
            "border": null,
            "bottom": null,
            "display": null,
            "flex": null,
            "flex_flow": null,
            "grid_area": null,
            "grid_auto_columns": null,
            "grid_auto_flow": null,
            "grid_auto_rows": null,
            "grid_column": null,
            "grid_gap": null,
            "grid_row": null,
            "grid_template_areas": null,
            "grid_template_columns": null,
            "grid_template_rows": null,
            "height": null,
            "justify_content": null,
            "justify_items": null,
            "left": null,
            "margin": null,
            "max_height": null,
            "max_width": null,
            "min_height": null,
            "min_width": null,
            "object_fit": null,
            "object_position": null,
            "order": null,
            "overflow": null,
            "overflow_x": null,
            "overflow_y": null,
            "padding": null,
            "right": null,
            "top": null,
            "visibility": null,
            "width": null
          }
        },
        "9fcadef69e424ed79893fe1308ce6e89": {
          "model_module": "@jupyter-widgets/controls",
          "model_name": "ProgressStyleModel",
          "model_module_version": "1.5.0",
          "state": {
            "_model_module": "@jupyter-widgets/controls",
            "_model_module_version": "1.5.0",
            "_model_name": "ProgressStyleModel",
            "_view_count": null,
            "_view_module": "@jupyter-widgets/base",
            "_view_module_version": "1.2.0",
            "_view_name": "StyleView",
            "bar_color": null,
            "description_width": ""
          }
        },
        "50c9ceaa3a3e4a82b2aead4dd5d0fbb4": {
          "model_module": "@jupyter-widgets/base",
          "model_name": "LayoutModel",
          "model_module_version": "1.2.0",
          "state": {
            "_model_module": "@jupyter-widgets/base",
            "_model_module_version": "1.2.0",
            "_model_name": "LayoutModel",
            "_view_count": null,
            "_view_module": "@jupyter-widgets/base",
            "_view_module_version": "1.2.0",
            "_view_name": "LayoutView",
            "align_content": null,
            "align_items": null,
            "align_self": null,
            "border": null,
            "bottom": null,
            "display": null,
            "flex": null,
            "flex_flow": null,
            "grid_area": null,
            "grid_auto_columns": null,
            "grid_auto_flow": null,
            "grid_auto_rows": null,
            "grid_column": null,
            "grid_gap": null,
            "grid_row": null,
            "grid_template_areas": null,
            "grid_template_columns": null,
            "grid_template_rows": null,
            "height": null,
            "justify_content": null,
            "justify_items": null,
            "left": null,
            "margin": null,
            "max_height": null,
            "max_width": null,
            "min_height": null,
            "min_width": null,
            "object_fit": null,
            "object_position": null,
            "order": null,
            "overflow": null,
            "overflow_x": null,
            "overflow_y": null,
            "padding": null,
            "right": null,
            "top": null,
            "visibility": null,
            "width": null
          }
        },
        "b687935f269f4ab29f93a393ba6e84be": {
          "model_module": "@jupyter-widgets/controls",
          "model_name": "DescriptionStyleModel",
          "model_module_version": "1.5.0",
          "state": {
            "_model_module": "@jupyter-widgets/controls",
            "_model_module_version": "1.5.0",
            "_model_name": "DescriptionStyleModel",
            "_view_count": null,
            "_view_module": "@jupyter-widgets/base",
            "_view_module_version": "1.2.0",
            "_view_name": "StyleView",
            "description_width": ""
          }
        },
        "5f10065c73624db39bb50368281a1f39": {
          "model_module": "@jupyter-widgets/controls",
          "model_name": "HBoxModel",
          "model_module_version": "1.5.0",
          "state": {
            "_dom_classes": [],
            "_model_module": "@jupyter-widgets/controls",
            "_model_module_version": "1.5.0",
            "_model_name": "HBoxModel",
            "_view_count": null,
            "_view_module": "@jupyter-widgets/controls",
            "_view_module_version": "1.5.0",
            "_view_name": "HBoxView",
            "box_style": "",
            "children": [
              "IPY_MODEL_34eb8e2639894668a9b0c9ba520c214a",
              "IPY_MODEL_bded0c6e5e204f4bbdc0ec09f07a9e5d",
              "IPY_MODEL_b24e2d9c08564642bda0b5cbb31b80e4"
            ],
            "layout": "IPY_MODEL_e0baa4c3adf543228c792eb8d95459e6"
          }
        },
        "34eb8e2639894668a9b0c9ba520c214a": {
          "model_module": "@jupyter-widgets/controls",
          "model_name": "HTMLModel",
          "model_module_version": "1.5.0",
          "state": {
            "_dom_classes": [],
            "_model_module": "@jupyter-widgets/controls",
            "_model_module_version": "1.5.0",
            "_model_name": "HTMLModel",
            "_view_count": null,
            "_view_module": "@jupyter-widgets/controls",
            "_view_module_version": "1.5.0",
            "_view_name": "HTMLView",
            "description": "",
            "description_tooltip": null,
            "layout": "IPY_MODEL_f9ad64f2e1174d8b82184b38d4f0e9dd",
            "placeholder": "​",
            "style": "IPY_MODEL_dd0b8522fccb41738b5bdacce6904e7e",
            "value": "wikiann.py: 100%"
          }
        },
        "bded0c6e5e204f4bbdc0ec09f07a9e5d": {
          "model_module": "@jupyter-widgets/controls",
          "model_name": "FloatProgressModel",
          "model_module_version": "1.5.0",
          "state": {
            "_dom_classes": [],
            "_model_module": "@jupyter-widgets/controls",
            "_model_module_version": "1.5.0",
            "_model_name": "FloatProgressModel",
            "_view_count": null,
            "_view_module": "@jupyter-widgets/controls",
            "_view_module_version": "1.5.0",
            "_view_name": "ProgressView",
            "bar_style": "success",
            "description": "",
            "description_tooltip": null,
            "layout": "IPY_MODEL_37d22e7540ae48f68b2be089bf4e5f44",
            "max": 5164,
            "min": 0,
            "orientation": "horizontal",
            "style": "IPY_MODEL_02af489367f140f3ac346f46bb5ffe07",
            "value": 5164
          }
        },
        "b24e2d9c08564642bda0b5cbb31b80e4": {
          "model_module": "@jupyter-widgets/controls",
          "model_name": "HTMLModel",
          "model_module_version": "1.5.0",
          "state": {
            "_dom_classes": [],
            "_model_module": "@jupyter-widgets/controls",
            "_model_module_version": "1.5.0",
            "_model_name": "HTMLModel",
            "_view_count": null,
            "_view_module": "@jupyter-widgets/controls",
            "_view_module_version": "1.5.0",
            "_view_name": "HTMLView",
            "description": "",
            "description_tooltip": null,
            "layout": "IPY_MODEL_2da3e4812c924764a4acd77ef1502158",
            "placeholder": "​",
            "style": "IPY_MODEL_4e6eb6575d274eaf9b87bda1c2714c3b",
            "value": " 5.16k/5.16k [00:00&lt;00:00, 327kB/s]"
          }
        },
        "e0baa4c3adf543228c792eb8d95459e6": {
          "model_module": "@jupyter-widgets/base",
          "model_name": "LayoutModel",
          "model_module_version": "1.2.0",
          "state": {
            "_model_module": "@jupyter-widgets/base",
            "_model_module_version": "1.2.0",
            "_model_name": "LayoutModel",
            "_view_count": null,
            "_view_module": "@jupyter-widgets/base",
            "_view_module_version": "1.2.0",
            "_view_name": "LayoutView",
            "align_content": null,
            "align_items": null,
            "align_self": null,
            "border": null,
            "bottom": null,
            "display": null,
            "flex": null,
            "flex_flow": null,
            "grid_area": null,
            "grid_auto_columns": null,
            "grid_auto_flow": null,
            "grid_auto_rows": null,
            "grid_column": null,
            "grid_gap": null,
            "grid_row": null,
            "grid_template_areas": null,
            "grid_template_columns": null,
            "grid_template_rows": null,
            "height": null,
            "justify_content": null,
            "justify_items": null,
            "left": null,
            "margin": null,
            "max_height": null,
            "max_width": null,
            "min_height": null,
            "min_width": null,
            "object_fit": null,
            "object_position": null,
            "order": null,
            "overflow": null,
            "overflow_x": null,
            "overflow_y": null,
            "padding": null,
            "right": null,
            "top": null,
            "visibility": null,
            "width": null
          }
        },
        "f9ad64f2e1174d8b82184b38d4f0e9dd": {
          "model_module": "@jupyter-widgets/base",
          "model_name": "LayoutModel",
          "model_module_version": "1.2.0",
          "state": {
            "_model_module": "@jupyter-widgets/base",
            "_model_module_version": "1.2.0",
            "_model_name": "LayoutModel",
            "_view_count": null,
            "_view_module": "@jupyter-widgets/base",
            "_view_module_version": "1.2.0",
            "_view_name": "LayoutView",
            "align_content": null,
            "align_items": null,
            "align_self": null,
            "border": null,
            "bottom": null,
            "display": null,
            "flex": null,
            "flex_flow": null,
            "grid_area": null,
            "grid_auto_columns": null,
            "grid_auto_flow": null,
            "grid_auto_rows": null,
            "grid_column": null,
            "grid_gap": null,
            "grid_row": null,
            "grid_template_areas": null,
            "grid_template_columns": null,
            "grid_template_rows": null,
            "height": null,
            "justify_content": null,
            "justify_items": null,
            "left": null,
            "margin": null,
            "max_height": null,
            "max_width": null,
            "min_height": null,
            "min_width": null,
            "object_fit": null,
            "object_position": null,
            "order": null,
            "overflow": null,
            "overflow_x": null,
            "overflow_y": null,
            "padding": null,
            "right": null,
            "top": null,
            "visibility": null,
            "width": null
          }
        },
        "dd0b8522fccb41738b5bdacce6904e7e": {
          "model_module": "@jupyter-widgets/controls",
          "model_name": "DescriptionStyleModel",
          "model_module_version": "1.5.0",
          "state": {
            "_model_module": "@jupyter-widgets/controls",
            "_model_module_version": "1.5.0",
            "_model_name": "DescriptionStyleModel",
            "_view_count": null,
            "_view_module": "@jupyter-widgets/base",
            "_view_module_version": "1.2.0",
            "_view_name": "StyleView",
            "description_width": ""
          }
        },
        "37d22e7540ae48f68b2be089bf4e5f44": {
          "model_module": "@jupyter-widgets/base",
          "model_name": "LayoutModel",
          "model_module_version": "1.2.0",
          "state": {
            "_model_module": "@jupyter-widgets/base",
            "_model_module_version": "1.2.0",
            "_model_name": "LayoutModel",
            "_view_count": null,
            "_view_module": "@jupyter-widgets/base",
            "_view_module_version": "1.2.0",
            "_view_name": "LayoutView",
            "align_content": null,
            "align_items": null,
            "align_self": null,
            "border": null,
            "bottom": null,
            "display": null,
            "flex": null,
            "flex_flow": null,
            "grid_area": null,
            "grid_auto_columns": null,
            "grid_auto_flow": null,
            "grid_auto_rows": null,
            "grid_column": null,
            "grid_gap": null,
            "grid_row": null,
            "grid_template_areas": null,
            "grid_template_columns": null,
            "grid_template_rows": null,
            "height": null,
            "justify_content": null,
            "justify_items": null,
            "left": null,
            "margin": null,
            "max_height": null,
            "max_width": null,
            "min_height": null,
            "min_width": null,
            "object_fit": null,
            "object_position": null,
            "order": null,
            "overflow": null,
            "overflow_x": null,
            "overflow_y": null,
            "padding": null,
            "right": null,
            "top": null,
            "visibility": null,
            "width": null
          }
        },
        "02af489367f140f3ac346f46bb5ffe07": {
          "model_module": "@jupyter-widgets/controls",
          "model_name": "ProgressStyleModel",
          "model_module_version": "1.5.0",
          "state": {
            "_model_module": "@jupyter-widgets/controls",
            "_model_module_version": "1.5.0",
            "_model_name": "ProgressStyleModel",
            "_view_count": null,
            "_view_module": "@jupyter-widgets/base",
            "_view_module_version": "1.2.0",
            "_view_name": "StyleView",
            "bar_color": null,
            "description_width": ""
          }
        },
        "2da3e4812c924764a4acd77ef1502158": {
          "model_module": "@jupyter-widgets/base",
          "model_name": "LayoutModel",
          "model_module_version": "1.2.0",
          "state": {
            "_model_module": "@jupyter-widgets/base",
            "_model_module_version": "1.2.0",
            "_model_name": "LayoutModel",
            "_view_count": null,
            "_view_module": "@jupyter-widgets/base",
            "_view_module_version": "1.2.0",
            "_view_name": "LayoutView",
            "align_content": null,
            "align_items": null,
            "align_self": null,
            "border": null,
            "bottom": null,
            "display": null,
            "flex": null,
            "flex_flow": null,
            "grid_area": null,
            "grid_auto_columns": null,
            "grid_auto_flow": null,
            "grid_auto_rows": null,
            "grid_column": null,
            "grid_gap": null,
            "grid_row": null,
            "grid_template_areas": null,
            "grid_template_columns": null,
            "grid_template_rows": null,
            "height": null,
            "justify_content": null,
            "justify_items": null,
            "left": null,
            "margin": null,
            "max_height": null,
            "max_width": null,
            "min_height": null,
            "min_width": null,
            "object_fit": null,
            "object_position": null,
            "order": null,
            "overflow": null,
            "overflow_x": null,
            "overflow_y": null,
            "padding": null,
            "right": null,
            "top": null,
            "visibility": null,
            "width": null
          }
        },
        "4e6eb6575d274eaf9b87bda1c2714c3b": {
          "model_module": "@jupyter-widgets/controls",
          "model_name": "DescriptionStyleModel",
          "model_module_version": "1.5.0",
          "state": {
            "_model_module": "@jupyter-widgets/controls",
            "_model_module_version": "1.5.0",
            "_model_name": "DescriptionStyleModel",
            "_view_count": null,
            "_view_module": "@jupyter-widgets/base",
            "_view_module_version": "1.2.0",
            "_view_name": "StyleView",
            "description_width": ""
          }
        },
        "f26f73be283449c5b817b329d3e8c639": {
          "model_module": "@jupyter-widgets/controls",
          "model_name": "HBoxModel",
          "model_module_version": "1.5.0",
          "state": {
            "_dom_classes": [],
            "_model_module": "@jupyter-widgets/controls",
            "_model_module_version": "1.5.0",
            "_model_name": "HBoxModel",
            "_view_count": null,
            "_view_module": "@jupyter-widgets/controls",
            "_view_module_version": "1.5.0",
            "_view_name": "HBoxView",
            "box_style": "",
            "children": [
              "IPY_MODEL_a23f59f2333d4a85bd265a689fa13308",
              "IPY_MODEL_7eff8692b7b1487cab1de69d4d62a11d",
              "IPY_MODEL_284e80a79b80405eb0995c8834241188"
            ],
            "layout": "IPY_MODEL_7b40a87e01234e6da5b308ff65584c99"
          }
        },
        "a23f59f2333d4a85bd265a689fa13308": {
          "model_module": "@jupyter-widgets/controls",
          "model_name": "HTMLModel",
          "model_module_version": "1.5.0",
          "state": {
            "_dom_classes": [],
            "_model_module": "@jupyter-widgets/controls",
            "_model_module_version": "1.5.0",
            "_model_name": "HTMLModel",
            "_view_count": null,
            "_view_module": "@jupyter-widgets/controls",
            "_view_module_version": "1.5.0",
            "_view_name": "HTMLView",
            "description": "",
            "description_tooltip": null,
            "layout": "IPY_MODEL_932cce1b75f54dc4bfb8278dc4285bea",
            "placeholder": "​",
            "style": "IPY_MODEL_f986e0304d7745aeabbef5e1591e4773",
            "value": "test.jsonl: 100%"
          }
        },
        "7eff8692b7b1487cab1de69d4d62a11d": {
          "model_module": "@jupyter-widgets/controls",
          "model_name": "FloatProgressModel",
          "model_module_version": "1.5.0",
          "state": {
            "_dom_classes": [],
            "_model_module": "@jupyter-widgets/controls",
            "_model_module_version": "1.5.0",
            "_model_name": "FloatProgressModel",
            "_view_count": null,
            "_view_module": "@jupyter-widgets/controls",
            "_view_module_version": "1.5.0",
            "_view_name": "ProgressView",
            "bar_style": "success",
            "description": "",
            "description_tooltip": null,
            "layout": "IPY_MODEL_9de2b37f23374289af1d3438d605b3dd",
            "max": 2641079,
            "min": 0,
            "orientation": "horizontal",
            "style": "IPY_MODEL_2c8098ab484b4b959e06d190c91348a5",
            "value": 2641079
          }
        },
        "284e80a79b80405eb0995c8834241188": {
          "model_module": "@jupyter-widgets/controls",
          "model_name": "HTMLModel",
          "model_module_version": "1.5.0",
          "state": {
            "_dom_classes": [],
            "_model_module": "@jupyter-widgets/controls",
            "_model_module_version": "1.5.0",
            "_model_name": "HTMLModel",
            "_view_count": null,
            "_view_module": "@jupyter-widgets/controls",
            "_view_module_version": "1.5.0",
            "_view_name": "HTMLView",
            "description": "",
            "description_tooltip": null,
            "layout": "IPY_MODEL_af57dd4144e54eb8a37e45320c640484",
            "placeholder": "​",
            "style": "IPY_MODEL_8233d7b8a1f04469a4e4f6f24af4e99d",
            "value": " 2.64M/2.64M [00:00&lt;00:00, 13.5MB/s]"
          }
        },
        "7b40a87e01234e6da5b308ff65584c99": {
          "model_module": "@jupyter-widgets/base",
          "model_name": "LayoutModel",
          "model_module_version": "1.2.0",
          "state": {
            "_model_module": "@jupyter-widgets/base",
            "_model_module_version": "1.2.0",
            "_model_name": "LayoutModel",
            "_view_count": null,
            "_view_module": "@jupyter-widgets/base",
            "_view_module_version": "1.2.0",
            "_view_name": "LayoutView",
            "align_content": null,
            "align_items": null,
            "align_self": null,
            "border": null,
            "bottom": null,
            "display": null,
            "flex": null,
            "flex_flow": null,
            "grid_area": null,
            "grid_auto_columns": null,
            "grid_auto_flow": null,
            "grid_auto_rows": null,
            "grid_column": null,
            "grid_gap": null,
            "grid_row": null,
            "grid_template_areas": null,
            "grid_template_columns": null,
            "grid_template_rows": null,
            "height": null,
            "justify_content": null,
            "justify_items": null,
            "left": null,
            "margin": null,
            "max_height": null,
            "max_width": null,
            "min_height": null,
            "min_width": null,
            "object_fit": null,
            "object_position": null,
            "order": null,
            "overflow": null,
            "overflow_x": null,
            "overflow_y": null,
            "padding": null,
            "right": null,
            "top": null,
            "visibility": null,
            "width": null
          }
        },
        "932cce1b75f54dc4bfb8278dc4285bea": {
          "model_module": "@jupyter-widgets/base",
          "model_name": "LayoutModel",
          "model_module_version": "1.2.0",
          "state": {
            "_model_module": "@jupyter-widgets/base",
            "_model_module_version": "1.2.0",
            "_model_name": "LayoutModel",
            "_view_count": null,
            "_view_module": "@jupyter-widgets/base",
            "_view_module_version": "1.2.0",
            "_view_name": "LayoutView",
            "align_content": null,
            "align_items": null,
            "align_self": null,
            "border": null,
            "bottom": null,
            "display": null,
            "flex": null,
            "flex_flow": null,
            "grid_area": null,
            "grid_auto_columns": null,
            "grid_auto_flow": null,
            "grid_auto_rows": null,
            "grid_column": null,
            "grid_gap": null,
            "grid_row": null,
            "grid_template_areas": null,
            "grid_template_columns": null,
            "grid_template_rows": null,
            "height": null,
            "justify_content": null,
            "justify_items": null,
            "left": null,
            "margin": null,
            "max_height": null,
            "max_width": null,
            "min_height": null,
            "min_width": null,
            "object_fit": null,
            "object_position": null,
            "order": null,
            "overflow": null,
            "overflow_x": null,
            "overflow_y": null,
            "padding": null,
            "right": null,
            "top": null,
            "visibility": null,
            "width": null
          }
        },
        "f986e0304d7745aeabbef5e1591e4773": {
          "model_module": "@jupyter-widgets/controls",
          "model_name": "DescriptionStyleModel",
          "model_module_version": "1.5.0",
          "state": {
            "_model_module": "@jupyter-widgets/controls",
            "_model_module_version": "1.5.0",
            "_model_name": "DescriptionStyleModel",
            "_view_count": null,
            "_view_module": "@jupyter-widgets/base",
            "_view_module_version": "1.2.0",
            "_view_name": "StyleView",
            "description_width": ""
          }
        },
        "9de2b37f23374289af1d3438d605b3dd": {
          "model_module": "@jupyter-widgets/base",
          "model_name": "LayoutModel",
          "model_module_version": "1.2.0",
          "state": {
            "_model_module": "@jupyter-widgets/base",
            "_model_module_version": "1.2.0",
            "_model_name": "LayoutModel",
            "_view_count": null,
            "_view_module": "@jupyter-widgets/base",
            "_view_module_version": "1.2.0",
            "_view_name": "LayoutView",
            "align_content": null,
            "align_items": null,
            "align_self": null,
            "border": null,
            "bottom": null,
            "display": null,
            "flex": null,
            "flex_flow": null,
            "grid_area": null,
            "grid_auto_columns": null,
            "grid_auto_flow": null,
            "grid_auto_rows": null,
            "grid_column": null,
            "grid_gap": null,
            "grid_row": null,
            "grid_template_areas": null,
            "grid_template_columns": null,
            "grid_template_rows": null,
            "height": null,
            "justify_content": null,
            "justify_items": null,
            "left": null,
            "margin": null,
            "max_height": null,
            "max_width": null,
            "min_height": null,
            "min_width": null,
            "object_fit": null,
            "object_position": null,
            "order": null,
            "overflow": null,
            "overflow_x": null,
            "overflow_y": null,
            "padding": null,
            "right": null,
            "top": null,
            "visibility": null,
            "width": null
          }
        },
        "2c8098ab484b4b959e06d190c91348a5": {
          "model_module": "@jupyter-widgets/controls",
          "model_name": "ProgressStyleModel",
          "model_module_version": "1.5.0",
          "state": {
            "_model_module": "@jupyter-widgets/controls",
            "_model_module_version": "1.5.0",
            "_model_name": "ProgressStyleModel",
            "_view_count": null,
            "_view_module": "@jupyter-widgets/base",
            "_view_module_version": "1.2.0",
            "_view_name": "StyleView",
            "bar_color": null,
            "description_width": ""
          }
        },
        "af57dd4144e54eb8a37e45320c640484": {
          "model_module": "@jupyter-widgets/base",
          "model_name": "LayoutModel",
          "model_module_version": "1.2.0",
          "state": {
            "_model_module": "@jupyter-widgets/base",
            "_model_module_version": "1.2.0",
            "_model_name": "LayoutModel",
            "_view_count": null,
            "_view_module": "@jupyter-widgets/base",
            "_view_module_version": "1.2.0",
            "_view_name": "LayoutView",
            "align_content": null,
            "align_items": null,
            "align_self": null,
            "border": null,
            "bottom": null,
            "display": null,
            "flex": null,
            "flex_flow": null,
            "grid_area": null,
            "grid_auto_columns": null,
            "grid_auto_flow": null,
            "grid_auto_rows": null,
            "grid_column": null,
            "grid_gap": null,
            "grid_row": null,
            "grid_template_areas": null,
            "grid_template_columns": null,
            "grid_template_rows": null,
            "height": null,
            "justify_content": null,
            "justify_items": null,
            "left": null,
            "margin": null,
            "max_height": null,
            "max_width": null,
            "min_height": null,
            "min_width": null,
            "object_fit": null,
            "object_position": null,
            "order": null,
            "overflow": null,
            "overflow_x": null,
            "overflow_y": null,
            "padding": null,
            "right": null,
            "top": null,
            "visibility": null,
            "width": null
          }
        },
        "8233d7b8a1f04469a4e4f6f24af4e99d": {
          "model_module": "@jupyter-widgets/controls",
          "model_name": "DescriptionStyleModel",
          "model_module_version": "1.5.0",
          "state": {
            "_model_module": "@jupyter-widgets/controls",
            "_model_module_version": "1.5.0",
            "_model_name": "DescriptionStyleModel",
            "_view_count": null,
            "_view_module": "@jupyter-widgets/base",
            "_view_module_version": "1.2.0",
            "_view_name": "StyleView",
            "description_width": ""
          }
        },
        "f26450e51f26402a8b0363887bb61db6": {
          "model_module": "@jupyter-widgets/controls",
          "model_name": "HBoxModel",
          "model_module_version": "1.5.0",
          "state": {
            "_dom_classes": [],
            "_model_module": "@jupyter-widgets/controls",
            "_model_module_version": "1.5.0",
            "_model_name": "HBoxModel",
            "_view_count": null,
            "_view_module": "@jupyter-widgets/controls",
            "_view_module_version": "1.5.0",
            "_view_name": "HBoxView",
            "box_style": "",
            "children": [
              "IPY_MODEL_8ab0dd5374ff490b9ca2673592c2efeb",
              "IPY_MODEL_cd6f13fc0d6a428c97a11b3375197ee2",
              "IPY_MODEL_3469eebe773b4cb59619200f4d0ef26f"
            ],
            "layout": "IPY_MODEL_7093465dbd194803b02cca810c182d66"
          }
        },
        "8ab0dd5374ff490b9ca2673592c2efeb": {
          "model_module": "@jupyter-widgets/controls",
          "model_name": "HTMLModel",
          "model_module_version": "1.5.0",
          "state": {
            "_dom_classes": [],
            "_model_module": "@jupyter-widgets/controls",
            "_model_module_version": "1.5.0",
            "_model_name": "HTMLModel",
            "_view_count": null,
            "_view_module": "@jupyter-widgets/controls",
            "_view_module_version": "1.5.0",
            "_view_name": "HTMLView",
            "description": "",
            "description_tooltip": null,
            "layout": "IPY_MODEL_903498fe42204a51873f63ab10563fca",
            "placeholder": "​",
            "style": "IPY_MODEL_ce15cf9bd7a446f99208d9ab14f988c8",
            "value": "train.jsonl: 100%"
          }
        },
        "cd6f13fc0d6a428c97a11b3375197ee2": {
          "model_module": "@jupyter-widgets/controls",
          "model_name": "FloatProgressModel",
          "model_module_version": "1.5.0",
          "state": {
            "_dom_classes": [],
            "_model_module": "@jupyter-widgets/controls",
            "_model_module_version": "1.5.0",
            "_model_name": "FloatProgressModel",
            "_view_count": null,
            "_view_module": "@jupyter-widgets/controls",
            "_view_module_version": "1.5.0",
            "_view_name": "ProgressView",
            "bar_style": "success",
            "description": "",
            "description_tooltip": null,
            "layout": "IPY_MODEL_18aa5f8257354b98981c52736f18b24f",
            "max": 5257598,
            "min": 0,
            "orientation": "horizontal",
            "style": "IPY_MODEL_354380e294874fdca3b3f95a1b2d1012",
            "value": 5257598
          }
        },
        "3469eebe773b4cb59619200f4d0ef26f": {
          "model_module": "@jupyter-widgets/controls",
          "model_name": "HTMLModel",
          "model_module_version": "1.5.0",
          "state": {
            "_dom_classes": [],
            "_model_module": "@jupyter-widgets/controls",
            "_model_module_version": "1.5.0",
            "_model_name": "HTMLModel",
            "_view_count": null,
            "_view_module": "@jupyter-widgets/controls",
            "_view_module_version": "1.5.0",
            "_view_name": "HTMLView",
            "description": "",
            "description_tooltip": null,
            "layout": "IPY_MODEL_e5aef7a51b0f4e08a6131010850175de",
            "placeholder": "​",
            "style": "IPY_MODEL_5a97a7487cef4eb9ab2abb6c01caea2b",
            "value": " 5.26M/5.26M [00:00&lt;00:00, 49.2MB/s]"
          }
        },
        "7093465dbd194803b02cca810c182d66": {
          "model_module": "@jupyter-widgets/base",
          "model_name": "LayoutModel",
          "model_module_version": "1.2.0",
          "state": {
            "_model_module": "@jupyter-widgets/base",
            "_model_module_version": "1.2.0",
            "_model_name": "LayoutModel",
            "_view_count": null,
            "_view_module": "@jupyter-widgets/base",
            "_view_module_version": "1.2.0",
            "_view_name": "LayoutView",
            "align_content": null,
            "align_items": null,
            "align_self": null,
            "border": null,
            "bottom": null,
            "display": null,
            "flex": null,
            "flex_flow": null,
            "grid_area": null,
            "grid_auto_columns": null,
            "grid_auto_flow": null,
            "grid_auto_rows": null,
            "grid_column": null,
            "grid_gap": null,
            "grid_row": null,
            "grid_template_areas": null,
            "grid_template_columns": null,
            "grid_template_rows": null,
            "height": null,
            "justify_content": null,
            "justify_items": null,
            "left": null,
            "margin": null,
            "max_height": null,
            "max_width": null,
            "min_height": null,
            "min_width": null,
            "object_fit": null,
            "object_position": null,
            "order": null,
            "overflow": null,
            "overflow_x": null,
            "overflow_y": null,
            "padding": null,
            "right": null,
            "top": null,
            "visibility": null,
            "width": null
          }
        },
        "903498fe42204a51873f63ab10563fca": {
          "model_module": "@jupyter-widgets/base",
          "model_name": "LayoutModel",
          "model_module_version": "1.2.0",
          "state": {
            "_model_module": "@jupyter-widgets/base",
            "_model_module_version": "1.2.0",
            "_model_name": "LayoutModel",
            "_view_count": null,
            "_view_module": "@jupyter-widgets/base",
            "_view_module_version": "1.2.0",
            "_view_name": "LayoutView",
            "align_content": null,
            "align_items": null,
            "align_self": null,
            "border": null,
            "bottom": null,
            "display": null,
            "flex": null,
            "flex_flow": null,
            "grid_area": null,
            "grid_auto_columns": null,
            "grid_auto_flow": null,
            "grid_auto_rows": null,
            "grid_column": null,
            "grid_gap": null,
            "grid_row": null,
            "grid_template_areas": null,
            "grid_template_columns": null,
            "grid_template_rows": null,
            "height": null,
            "justify_content": null,
            "justify_items": null,
            "left": null,
            "margin": null,
            "max_height": null,
            "max_width": null,
            "min_height": null,
            "min_width": null,
            "object_fit": null,
            "object_position": null,
            "order": null,
            "overflow": null,
            "overflow_x": null,
            "overflow_y": null,
            "padding": null,
            "right": null,
            "top": null,
            "visibility": null,
            "width": null
          }
        },
        "ce15cf9bd7a446f99208d9ab14f988c8": {
          "model_module": "@jupyter-widgets/controls",
          "model_name": "DescriptionStyleModel",
          "model_module_version": "1.5.0",
          "state": {
            "_model_module": "@jupyter-widgets/controls",
            "_model_module_version": "1.5.0",
            "_model_name": "DescriptionStyleModel",
            "_view_count": null,
            "_view_module": "@jupyter-widgets/base",
            "_view_module_version": "1.2.0",
            "_view_name": "StyleView",
            "description_width": ""
          }
        },
        "18aa5f8257354b98981c52736f18b24f": {
          "model_module": "@jupyter-widgets/base",
          "model_name": "LayoutModel",
          "model_module_version": "1.2.0",
          "state": {
            "_model_module": "@jupyter-widgets/base",
            "_model_module_version": "1.2.0",
            "_model_name": "LayoutModel",
            "_view_count": null,
            "_view_module": "@jupyter-widgets/base",
            "_view_module_version": "1.2.0",
            "_view_name": "LayoutView",
            "align_content": null,
            "align_items": null,
            "align_self": null,
            "border": null,
            "bottom": null,
            "display": null,
            "flex": null,
            "flex_flow": null,
            "grid_area": null,
            "grid_auto_columns": null,
            "grid_auto_flow": null,
            "grid_auto_rows": null,
            "grid_column": null,
            "grid_gap": null,
            "grid_row": null,
            "grid_template_areas": null,
            "grid_template_columns": null,
            "grid_template_rows": null,
            "height": null,
            "justify_content": null,
            "justify_items": null,
            "left": null,
            "margin": null,
            "max_height": null,
            "max_width": null,
            "min_height": null,
            "min_width": null,
            "object_fit": null,
            "object_position": null,
            "order": null,
            "overflow": null,
            "overflow_x": null,
            "overflow_y": null,
            "padding": null,
            "right": null,
            "top": null,
            "visibility": null,
            "width": null
          }
        },
        "354380e294874fdca3b3f95a1b2d1012": {
          "model_module": "@jupyter-widgets/controls",
          "model_name": "ProgressStyleModel",
          "model_module_version": "1.5.0",
          "state": {
            "_model_module": "@jupyter-widgets/controls",
            "_model_module_version": "1.5.0",
            "_model_name": "ProgressStyleModel",
            "_view_count": null,
            "_view_module": "@jupyter-widgets/base",
            "_view_module_version": "1.2.0",
            "_view_name": "StyleView",
            "bar_color": null,
            "description_width": ""
          }
        },
        "e5aef7a51b0f4e08a6131010850175de": {
          "model_module": "@jupyter-widgets/base",
          "model_name": "LayoutModel",
          "model_module_version": "1.2.0",
          "state": {
            "_model_module": "@jupyter-widgets/base",
            "_model_module_version": "1.2.0",
            "_model_name": "LayoutModel",
            "_view_count": null,
            "_view_module": "@jupyter-widgets/base",
            "_view_module_version": "1.2.0",
            "_view_name": "LayoutView",
            "align_content": null,
            "align_items": null,
            "align_self": null,
            "border": null,
            "bottom": null,
            "display": null,
            "flex": null,
            "flex_flow": null,
            "grid_area": null,
            "grid_auto_columns": null,
            "grid_auto_flow": null,
            "grid_auto_rows": null,
            "grid_column": null,
            "grid_gap": null,
            "grid_row": null,
            "grid_template_areas": null,
            "grid_template_columns": null,
            "grid_template_rows": null,
            "height": null,
            "justify_content": null,
            "justify_items": null,
            "left": null,
            "margin": null,
            "max_height": null,
            "max_width": null,
            "min_height": null,
            "min_width": null,
            "object_fit": null,
            "object_position": null,
            "order": null,
            "overflow": null,
            "overflow_x": null,
            "overflow_y": null,
            "padding": null,
            "right": null,
            "top": null,
            "visibility": null,
            "width": null
          }
        },
        "5a97a7487cef4eb9ab2abb6c01caea2b": {
          "model_module": "@jupyter-widgets/controls",
          "model_name": "DescriptionStyleModel",
          "model_module_version": "1.5.0",
          "state": {
            "_model_module": "@jupyter-widgets/controls",
            "_model_module_version": "1.5.0",
            "_model_name": "DescriptionStyleModel",
            "_view_count": null,
            "_view_module": "@jupyter-widgets/base",
            "_view_module_version": "1.2.0",
            "_view_name": "StyleView",
            "description_width": ""
          }
        },
        "1cab216101d642fcadef006c6de29137": {
          "model_module": "@jupyter-widgets/controls",
          "model_name": "HBoxModel",
          "model_module_version": "1.5.0",
          "state": {
            "_dom_classes": [],
            "_model_module": "@jupyter-widgets/controls",
            "_model_module_version": "1.5.0",
            "_model_name": "HBoxModel",
            "_view_count": null,
            "_view_module": "@jupyter-widgets/controls",
            "_view_module_version": "1.5.0",
            "_view_name": "HBoxView",
            "box_style": "",
            "children": [
              "IPY_MODEL_b2d8d0b5d3a147d2a6d6ef3e7b2be73d",
              "IPY_MODEL_5e1fe088c70e46ea81b241ca280910e0",
              "IPY_MODEL_9271c08a0aab4715865f8d68dce95e03"
            ],
            "layout": "IPY_MODEL_48bfe5c22b214968a8880678ec39e66f"
          }
        },
        "b2d8d0b5d3a147d2a6d6ef3e7b2be73d": {
          "model_module": "@jupyter-widgets/controls",
          "model_name": "HTMLModel",
          "model_module_version": "1.5.0",
          "state": {
            "_dom_classes": [],
            "_model_module": "@jupyter-widgets/controls",
            "_model_module_version": "1.5.0",
            "_model_name": "HTMLModel",
            "_view_count": null,
            "_view_module": "@jupyter-widgets/controls",
            "_view_module_version": "1.5.0",
            "_view_name": "HTMLView",
            "description": "",
            "description_tooltip": null,
            "layout": "IPY_MODEL_6d5cc05a641e41e389f68577eae69cde",
            "placeholder": "​",
            "style": "IPY_MODEL_2154a729a7534197b580e62eabb351fc",
            "value": "dev.jsonl: 100%"
          }
        },
        "5e1fe088c70e46ea81b241ca280910e0": {
          "model_module": "@jupyter-widgets/controls",
          "model_name": "FloatProgressModel",
          "model_module_version": "1.5.0",
          "state": {
            "_dom_classes": [],
            "_model_module": "@jupyter-widgets/controls",
            "_model_module_version": "1.5.0",
            "_model_name": "FloatProgressModel",
            "_view_count": null,
            "_view_module": "@jupyter-widgets/controls",
            "_view_module_version": "1.5.0",
            "_view_name": "ProgressView",
            "bar_style": "success",
            "description": "",
            "description_tooltip": null,
            "layout": "IPY_MODEL_8f0e587727a0486486f131b7259f8cf0",
            "max": 2629667,
            "min": 0,
            "orientation": "horizontal",
            "style": "IPY_MODEL_26b4d8788d0246b4aecc590e1ccf9a41",
            "value": 2629667
          }
        },
        "9271c08a0aab4715865f8d68dce95e03": {
          "model_module": "@jupyter-widgets/controls",
          "model_name": "HTMLModel",
          "model_module_version": "1.5.0",
          "state": {
            "_dom_classes": [],
            "_model_module": "@jupyter-widgets/controls",
            "_model_module_version": "1.5.0",
            "_model_name": "HTMLModel",
            "_view_count": null,
            "_view_module": "@jupyter-widgets/controls",
            "_view_module_version": "1.5.0",
            "_view_name": "HTMLView",
            "description": "",
            "description_tooltip": null,
            "layout": "IPY_MODEL_e980749dceb54fb990405ffcb297eb30",
            "placeholder": "​",
            "style": "IPY_MODEL_bab824c2ad68419694604f4854c9af76",
            "value": " 2.63M/2.63M [00:00&lt;00:00, 74.1MB/s]"
          }
        },
        "48bfe5c22b214968a8880678ec39e66f": {
          "model_module": "@jupyter-widgets/base",
          "model_name": "LayoutModel",
          "model_module_version": "1.2.0",
          "state": {
            "_model_module": "@jupyter-widgets/base",
            "_model_module_version": "1.2.0",
            "_model_name": "LayoutModel",
            "_view_count": null,
            "_view_module": "@jupyter-widgets/base",
            "_view_module_version": "1.2.0",
            "_view_name": "LayoutView",
            "align_content": null,
            "align_items": null,
            "align_self": null,
            "border": null,
            "bottom": null,
            "display": null,
            "flex": null,
            "flex_flow": null,
            "grid_area": null,
            "grid_auto_columns": null,
            "grid_auto_flow": null,
            "grid_auto_rows": null,
            "grid_column": null,
            "grid_gap": null,
            "grid_row": null,
            "grid_template_areas": null,
            "grid_template_columns": null,
            "grid_template_rows": null,
            "height": null,
            "justify_content": null,
            "justify_items": null,
            "left": null,
            "margin": null,
            "max_height": null,
            "max_width": null,
            "min_height": null,
            "min_width": null,
            "object_fit": null,
            "object_position": null,
            "order": null,
            "overflow": null,
            "overflow_x": null,
            "overflow_y": null,
            "padding": null,
            "right": null,
            "top": null,
            "visibility": null,
            "width": null
          }
        },
        "6d5cc05a641e41e389f68577eae69cde": {
          "model_module": "@jupyter-widgets/base",
          "model_name": "LayoutModel",
          "model_module_version": "1.2.0",
          "state": {
            "_model_module": "@jupyter-widgets/base",
            "_model_module_version": "1.2.0",
            "_model_name": "LayoutModel",
            "_view_count": null,
            "_view_module": "@jupyter-widgets/base",
            "_view_module_version": "1.2.0",
            "_view_name": "LayoutView",
            "align_content": null,
            "align_items": null,
            "align_self": null,
            "border": null,
            "bottom": null,
            "display": null,
            "flex": null,
            "flex_flow": null,
            "grid_area": null,
            "grid_auto_columns": null,
            "grid_auto_flow": null,
            "grid_auto_rows": null,
            "grid_column": null,
            "grid_gap": null,
            "grid_row": null,
            "grid_template_areas": null,
            "grid_template_columns": null,
            "grid_template_rows": null,
            "height": null,
            "justify_content": null,
            "justify_items": null,
            "left": null,
            "margin": null,
            "max_height": null,
            "max_width": null,
            "min_height": null,
            "min_width": null,
            "object_fit": null,
            "object_position": null,
            "order": null,
            "overflow": null,
            "overflow_x": null,
            "overflow_y": null,
            "padding": null,
            "right": null,
            "top": null,
            "visibility": null,
            "width": null
          }
        },
        "2154a729a7534197b580e62eabb351fc": {
          "model_module": "@jupyter-widgets/controls",
          "model_name": "DescriptionStyleModel",
          "model_module_version": "1.5.0",
          "state": {
            "_model_module": "@jupyter-widgets/controls",
            "_model_module_version": "1.5.0",
            "_model_name": "DescriptionStyleModel",
            "_view_count": null,
            "_view_module": "@jupyter-widgets/base",
            "_view_module_version": "1.2.0",
            "_view_name": "StyleView",
            "description_width": ""
          }
        },
        "8f0e587727a0486486f131b7259f8cf0": {
          "model_module": "@jupyter-widgets/base",
          "model_name": "LayoutModel",
          "model_module_version": "1.2.0",
          "state": {
            "_model_module": "@jupyter-widgets/base",
            "_model_module_version": "1.2.0",
            "_model_name": "LayoutModel",
            "_view_count": null,
            "_view_module": "@jupyter-widgets/base",
            "_view_module_version": "1.2.0",
            "_view_name": "LayoutView",
            "align_content": null,
            "align_items": null,
            "align_self": null,
            "border": null,
            "bottom": null,
            "display": null,
            "flex": null,
            "flex_flow": null,
            "grid_area": null,
            "grid_auto_columns": null,
            "grid_auto_flow": null,
            "grid_auto_rows": null,
            "grid_column": null,
            "grid_gap": null,
            "grid_row": null,
            "grid_template_areas": null,
            "grid_template_columns": null,
            "grid_template_rows": null,
            "height": null,
            "justify_content": null,
            "justify_items": null,
            "left": null,
            "margin": null,
            "max_height": null,
            "max_width": null,
            "min_height": null,
            "min_width": null,
            "object_fit": null,
            "object_position": null,
            "order": null,
            "overflow": null,
            "overflow_x": null,
            "overflow_y": null,
            "padding": null,
            "right": null,
            "top": null,
            "visibility": null,
            "width": null
          }
        },
        "26b4d8788d0246b4aecc590e1ccf9a41": {
          "model_module": "@jupyter-widgets/controls",
          "model_name": "ProgressStyleModel",
          "model_module_version": "1.5.0",
          "state": {
            "_model_module": "@jupyter-widgets/controls",
            "_model_module_version": "1.5.0",
            "_model_name": "ProgressStyleModel",
            "_view_count": null,
            "_view_module": "@jupyter-widgets/base",
            "_view_module_version": "1.2.0",
            "_view_name": "StyleView",
            "bar_color": null,
            "description_width": ""
          }
        },
        "e980749dceb54fb990405ffcb297eb30": {
          "model_module": "@jupyter-widgets/base",
          "model_name": "LayoutModel",
          "model_module_version": "1.2.0",
          "state": {
            "_model_module": "@jupyter-widgets/base",
            "_model_module_version": "1.2.0",
            "_model_name": "LayoutModel",
            "_view_count": null,
            "_view_module": "@jupyter-widgets/base",
            "_view_module_version": "1.2.0",
            "_view_name": "LayoutView",
            "align_content": null,
            "align_items": null,
            "align_self": null,
            "border": null,
            "bottom": null,
            "display": null,
            "flex": null,
            "flex_flow": null,
            "grid_area": null,
            "grid_auto_columns": null,
            "grid_auto_flow": null,
            "grid_auto_rows": null,
            "grid_column": null,
            "grid_gap": null,
            "grid_row": null,
            "grid_template_areas": null,
            "grid_template_columns": null,
            "grid_template_rows": null,
            "height": null,
            "justify_content": null,
            "justify_items": null,
            "left": null,
            "margin": null,
            "max_height": null,
            "max_width": null,
            "min_height": null,
            "min_width": null,
            "object_fit": null,
            "object_position": null,
            "order": null,
            "overflow": null,
            "overflow_x": null,
            "overflow_y": null,
            "padding": null,
            "right": null,
            "top": null,
            "visibility": null,
            "width": null
          }
        },
        "bab824c2ad68419694604f4854c9af76": {
          "model_module": "@jupyter-widgets/controls",
          "model_name": "DescriptionStyleModel",
          "model_module_version": "1.5.0",
          "state": {
            "_model_module": "@jupyter-widgets/controls",
            "_model_module_version": "1.5.0",
            "_model_name": "DescriptionStyleModel",
            "_view_count": null,
            "_view_module": "@jupyter-widgets/base",
            "_view_module_version": "1.2.0",
            "_view_name": "StyleView",
            "description_width": ""
          }
        },
        "d4f12351fbda413a9c9e452be480ef94": {
          "model_module": "@jupyter-widgets/controls",
          "model_name": "HBoxModel",
          "model_module_version": "1.5.0",
          "state": {
            "_dom_classes": [],
            "_model_module": "@jupyter-widgets/controls",
            "_model_module_version": "1.5.0",
            "_model_name": "HBoxModel",
            "_view_count": null,
            "_view_module": "@jupyter-widgets/controls",
            "_view_module_version": "1.5.0",
            "_view_name": "HBoxView",
            "box_style": "",
            "children": [
              "IPY_MODEL_1503dba7dd6745499737e366ae6f018e",
              "IPY_MODEL_a05089f44e2347839bc74555f4c0af5b",
              "IPY_MODEL_d0cecb9cd2304834924abc6e3733ddb1"
            ],
            "layout": "IPY_MODEL_2a0e79f17d2b4761b292735ebe4a428d"
          }
        },
        "1503dba7dd6745499737e366ae6f018e": {
          "model_module": "@jupyter-widgets/controls",
          "model_name": "HTMLModel",
          "model_module_version": "1.5.0",
          "state": {
            "_dom_classes": [],
            "_model_module": "@jupyter-widgets/controls",
            "_model_module_version": "1.5.0",
            "_model_name": "HTMLModel",
            "_view_count": null,
            "_view_module": "@jupyter-widgets/controls",
            "_view_module_version": "1.5.0",
            "_view_name": "HTMLView",
            "description": "",
            "description_tooltip": null,
            "layout": "IPY_MODEL_36577fc42265470bbff741eb0acf03dd",
            "placeholder": "​",
            "style": "IPY_MODEL_a98ae0b0510c42f185fc287d06d54eb8",
            "value": "Generating train split: "
          }
        },
        "a05089f44e2347839bc74555f4c0af5b": {
          "model_module": "@jupyter-widgets/controls",
          "model_name": "FloatProgressModel",
          "model_module_version": "1.5.0",
          "state": {
            "_dom_classes": [],
            "_model_module": "@jupyter-widgets/controls",
            "_model_module_version": "1.5.0",
            "_model_name": "FloatProgressModel",
            "_view_count": null,
            "_view_module": "@jupyter-widgets/controls",
            "_view_module_version": "1.5.0",
            "_view_name": "ProgressView",
            "bar_style": "success",
            "description": "",
            "description_tooltip": null,
            "layout": "IPY_MODEL_ccde8fc38acb4e5a91b73abdffac212c",
            "max": 1,
            "min": 0,
            "orientation": "horizontal",
            "style": "IPY_MODEL_d57e4d7d16e54b6d8f8485bbee54cc48",
            "value": 1
          }
        },
        "d0cecb9cd2304834924abc6e3733ddb1": {
          "model_module": "@jupyter-widgets/controls",
          "model_name": "HTMLModel",
          "model_module_version": "1.5.0",
          "state": {
            "_dom_classes": [],
            "_model_module": "@jupyter-widgets/controls",
            "_model_module_version": "1.5.0",
            "_model_name": "HTMLModel",
            "_view_count": null,
            "_view_module": "@jupyter-widgets/controls",
            "_view_module_version": "1.5.0",
            "_view_name": "HTMLView",
            "description": "",
            "description_tooltip": null,
            "layout": "IPY_MODEL_41a7be757d1747e0b5416182c11f67ab",
            "placeholder": "​",
            "style": "IPY_MODEL_8074768a7f594a73bfe9be9c27d1d001",
            "value": " 20000/0 [00:01&lt;00:00, 20377.43 examples/s]"
          }
        },
        "2a0e79f17d2b4761b292735ebe4a428d": {
          "model_module": "@jupyter-widgets/base",
          "model_name": "LayoutModel",
          "model_module_version": "1.2.0",
          "state": {
            "_model_module": "@jupyter-widgets/base",
            "_model_module_version": "1.2.0",
            "_model_name": "LayoutModel",
            "_view_count": null,
            "_view_module": "@jupyter-widgets/base",
            "_view_module_version": "1.2.0",
            "_view_name": "LayoutView",
            "align_content": null,
            "align_items": null,
            "align_self": null,
            "border": null,
            "bottom": null,
            "display": null,
            "flex": null,
            "flex_flow": null,
            "grid_area": null,
            "grid_auto_columns": null,
            "grid_auto_flow": null,
            "grid_auto_rows": null,
            "grid_column": null,
            "grid_gap": null,
            "grid_row": null,
            "grid_template_areas": null,
            "grid_template_columns": null,
            "grid_template_rows": null,
            "height": null,
            "justify_content": null,
            "justify_items": null,
            "left": null,
            "margin": null,
            "max_height": null,
            "max_width": null,
            "min_height": null,
            "min_width": null,
            "object_fit": null,
            "object_position": null,
            "order": null,
            "overflow": null,
            "overflow_x": null,
            "overflow_y": null,
            "padding": null,
            "right": null,
            "top": null,
            "visibility": null,
            "width": null
          }
        },
        "36577fc42265470bbff741eb0acf03dd": {
          "model_module": "@jupyter-widgets/base",
          "model_name": "LayoutModel",
          "model_module_version": "1.2.0",
          "state": {
            "_model_module": "@jupyter-widgets/base",
            "_model_module_version": "1.2.0",
            "_model_name": "LayoutModel",
            "_view_count": null,
            "_view_module": "@jupyter-widgets/base",
            "_view_module_version": "1.2.0",
            "_view_name": "LayoutView",
            "align_content": null,
            "align_items": null,
            "align_self": null,
            "border": null,
            "bottom": null,
            "display": null,
            "flex": null,
            "flex_flow": null,
            "grid_area": null,
            "grid_auto_columns": null,
            "grid_auto_flow": null,
            "grid_auto_rows": null,
            "grid_column": null,
            "grid_gap": null,
            "grid_row": null,
            "grid_template_areas": null,
            "grid_template_columns": null,
            "grid_template_rows": null,
            "height": null,
            "justify_content": null,
            "justify_items": null,
            "left": null,
            "margin": null,
            "max_height": null,
            "max_width": null,
            "min_height": null,
            "min_width": null,
            "object_fit": null,
            "object_position": null,
            "order": null,
            "overflow": null,
            "overflow_x": null,
            "overflow_y": null,
            "padding": null,
            "right": null,
            "top": null,
            "visibility": null,
            "width": null
          }
        },
        "a98ae0b0510c42f185fc287d06d54eb8": {
          "model_module": "@jupyter-widgets/controls",
          "model_name": "DescriptionStyleModel",
          "model_module_version": "1.5.0",
          "state": {
            "_model_module": "@jupyter-widgets/controls",
            "_model_module_version": "1.5.0",
            "_model_name": "DescriptionStyleModel",
            "_view_count": null,
            "_view_module": "@jupyter-widgets/base",
            "_view_module_version": "1.2.0",
            "_view_name": "StyleView",
            "description_width": ""
          }
        },
        "ccde8fc38acb4e5a91b73abdffac212c": {
          "model_module": "@jupyter-widgets/base",
          "model_name": "LayoutModel",
          "model_module_version": "1.2.0",
          "state": {
            "_model_module": "@jupyter-widgets/base",
            "_model_module_version": "1.2.0",
            "_model_name": "LayoutModel",
            "_view_count": null,
            "_view_module": "@jupyter-widgets/base",
            "_view_module_version": "1.2.0",
            "_view_name": "LayoutView",
            "align_content": null,
            "align_items": null,
            "align_self": null,
            "border": null,
            "bottom": null,
            "display": null,
            "flex": null,
            "flex_flow": null,
            "grid_area": null,
            "grid_auto_columns": null,
            "grid_auto_flow": null,
            "grid_auto_rows": null,
            "grid_column": null,
            "grid_gap": null,
            "grid_row": null,
            "grid_template_areas": null,
            "grid_template_columns": null,
            "grid_template_rows": null,
            "height": null,
            "justify_content": null,
            "justify_items": null,
            "left": null,
            "margin": null,
            "max_height": null,
            "max_width": null,
            "min_height": null,
            "min_width": null,
            "object_fit": null,
            "object_position": null,
            "order": null,
            "overflow": null,
            "overflow_x": null,
            "overflow_y": null,
            "padding": null,
            "right": null,
            "top": null,
            "visibility": null,
            "width": "20px"
          }
        },
        "d57e4d7d16e54b6d8f8485bbee54cc48": {
          "model_module": "@jupyter-widgets/controls",
          "model_name": "ProgressStyleModel",
          "model_module_version": "1.5.0",
          "state": {
            "_model_module": "@jupyter-widgets/controls",
            "_model_module_version": "1.5.0",
            "_model_name": "ProgressStyleModel",
            "_view_count": null,
            "_view_module": "@jupyter-widgets/base",
            "_view_module_version": "1.2.0",
            "_view_name": "StyleView",
            "bar_color": null,
            "description_width": ""
          }
        },
        "41a7be757d1747e0b5416182c11f67ab": {
          "model_module": "@jupyter-widgets/base",
          "model_name": "LayoutModel",
          "model_module_version": "1.2.0",
          "state": {
            "_model_module": "@jupyter-widgets/base",
            "_model_module_version": "1.2.0",
            "_model_name": "LayoutModel",
            "_view_count": null,
            "_view_module": "@jupyter-widgets/base",
            "_view_module_version": "1.2.0",
            "_view_name": "LayoutView",
            "align_content": null,
            "align_items": null,
            "align_self": null,
            "border": null,
            "bottom": null,
            "display": null,
            "flex": null,
            "flex_flow": null,
            "grid_area": null,
            "grid_auto_columns": null,
            "grid_auto_flow": null,
            "grid_auto_rows": null,
            "grid_column": null,
            "grid_gap": null,
            "grid_row": null,
            "grid_template_areas": null,
            "grid_template_columns": null,
            "grid_template_rows": null,
            "height": null,
            "justify_content": null,
            "justify_items": null,
            "left": null,
            "margin": null,
            "max_height": null,
            "max_width": null,
            "min_height": null,
            "min_width": null,
            "object_fit": null,
            "object_position": null,
            "order": null,
            "overflow": null,
            "overflow_x": null,
            "overflow_y": null,
            "padding": null,
            "right": null,
            "top": null,
            "visibility": null,
            "width": null
          }
        },
        "8074768a7f594a73bfe9be9c27d1d001": {
          "model_module": "@jupyter-widgets/controls",
          "model_name": "DescriptionStyleModel",
          "model_module_version": "1.5.0",
          "state": {
            "_model_module": "@jupyter-widgets/controls",
            "_model_module_version": "1.5.0",
            "_model_name": "DescriptionStyleModel",
            "_view_count": null,
            "_view_module": "@jupyter-widgets/base",
            "_view_module_version": "1.2.0",
            "_view_name": "StyleView",
            "description_width": ""
          }
        },
        "155af8e7404b4fa98586d8ebf3f3b5df": {
          "model_module": "@jupyter-widgets/controls",
          "model_name": "HBoxModel",
          "model_module_version": "1.5.0",
          "state": {
            "_dom_classes": [],
            "_model_module": "@jupyter-widgets/controls",
            "_model_module_version": "1.5.0",
            "_model_name": "HBoxModel",
            "_view_count": null,
            "_view_module": "@jupyter-widgets/controls",
            "_view_module_version": "1.5.0",
            "_view_name": "HBoxView",
            "box_style": "",
            "children": [
              "IPY_MODEL_940aa7efcea443a1b1f9a8f20383cf13",
              "IPY_MODEL_7456411ac6074b62a517103a161c14aa",
              "IPY_MODEL_f973eccacb66487d9e0bc24141b3b790"
            ],
            "layout": "IPY_MODEL_1ce1eb1095e041618b2b763119719e24"
          }
        },
        "940aa7efcea443a1b1f9a8f20383cf13": {
          "model_module": "@jupyter-widgets/controls",
          "model_name": "HTMLModel",
          "model_module_version": "1.5.0",
          "state": {
            "_dom_classes": [],
            "_model_module": "@jupyter-widgets/controls",
            "_model_module_version": "1.5.0",
            "_model_name": "HTMLModel",
            "_view_count": null,
            "_view_module": "@jupyter-widgets/controls",
            "_view_module_version": "1.5.0",
            "_view_name": "HTMLView",
            "description": "",
            "description_tooltip": null,
            "layout": "IPY_MODEL_307308f45567402faaf4c7edacd41708",
            "placeholder": "​",
            "style": "IPY_MODEL_c105713f71bc47c9a72afd8e9a695d93",
            "value": "Generating validation split: "
          }
        },
        "7456411ac6074b62a517103a161c14aa": {
          "model_module": "@jupyter-widgets/controls",
          "model_name": "FloatProgressModel",
          "model_module_version": "1.5.0",
          "state": {
            "_dom_classes": [],
            "_model_module": "@jupyter-widgets/controls",
            "_model_module_version": "1.5.0",
            "_model_name": "FloatProgressModel",
            "_view_count": null,
            "_view_module": "@jupyter-widgets/controls",
            "_view_module_version": "1.5.0",
            "_view_name": "ProgressView",
            "bar_style": "success",
            "description": "",
            "description_tooltip": null,
            "layout": "IPY_MODEL_79b5c83e3ca64105abcb148131cbf02b",
            "max": 1,
            "min": 0,
            "orientation": "horizontal",
            "style": "IPY_MODEL_00ddd29d891e400d88038cdc60b2fc0c",
            "value": 1
          }
        },
        "f973eccacb66487d9e0bc24141b3b790": {
          "model_module": "@jupyter-widgets/controls",
          "model_name": "HTMLModel",
          "model_module_version": "1.5.0",
          "state": {
            "_dom_classes": [],
            "_model_module": "@jupyter-widgets/controls",
            "_model_module_version": "1.5.0",
            "_model_name": "HTMLModel",
            "_view_count": null,
            "_view_module": "@jupyter-widgets/controls",
            "_view_module_version": "1.5.0",
            "_view_name": "HTMLView",
            "description": "",
            "description_tooltip": null,
            "layout": "IPY_MODEL_636b80b05fe84eb88354ad4b1dcc850d",
            "placeholder": "​",
            "style": "IPY_MODEL_fb16e507c9ca48f6aa86d947cac7765b",
            "value": " 10000/0 [00:00&lt;00:00, 21901.17 examples/s]"
          }
        },
        "1ce1eb1095e041618b2b763119719e24": {
          "model_module": "@jupyter-widgets/base",
          "model_name": "LayoutModel",
          "model_module_version": "1.2.0",
          "state": {
            "_model_module": "@jupyter-widgets/base",
            "_model_module_version": "1.2.0",
            "_model_name": "LayoutModel",
            "_view_count": null,
            "_view_module": "@jupyter-widgets/base",
            "_view_module_version": "1.2.0",
            "_view_name": "LayoutView",
            "align_content": null,
            "align_items": null,
            "align_self": null,
            "border": null,
            "bottom": null,
            "display": null,
            "flex": null,
            "flex_flow": null,
            "grid_area": null,
            "grid_auto_columns": null,
            "grid_auto_flow": null,
            "grid_auto_rows": null,
            "grid_column": null,
            "grid_gap": null,
            "grid_row": null,
            "grid_template_areas": null,
            "grid_template_columns": null,
            "grid_template_rows": null,
            "height": null,
            "justify_content": null,
            "justify_items": null,
            "left": null,
            "margin": null,
            "max_height": null,
            "max_width": null,
            "min_height": null,
            "min_width": null,
            "object_fit": null,
            "object_position": null,
            "order": null,
            "overflow": null,
            "overflow_x": null,
            "overflow_y": null,
            "padding": null,
            "right": null,
            "top": null,
            "visibility": null,
            "width": null
          }
        },
        "307308f45567402faaf4c7edacd41708": {
          "model_module": "@jupyter-widgets/base",
          "model_name": "LayoutModel",
          "model_module_version": "1.2.0",
          "state": {
            "_model_module": "@jupyter-widgets/base",
            "_model_module_version": "1.2.0",
            "_model_name": "LayoutModel",
            "_view_count": null,
            "_view_module": "@jupyter-widgets/base",
            "_view_module_version": "1.2.0",
            "_view_name": "LayoutView",
            "align_content": null,
            "align_items": null,
            "align_self": null,
            "border": null,
            "bottom": null,
            "display": null,
            "flex": null,
            "flex_flow": null,
            "grid_area": null,
            "grid_auto_columns": null,
            "grid_auto_flow": null,
            "grid_auto_rows": null,
            "grid_column": null,
            "grid_gap": null,
            "grid_row": null,
            "grid_template_areas": null,
            "grid_template_columns": null,
            "grid_template_rows": null,
            "height": null,
            "justify_content": null,
            "justify_items": null,
            "left": null,
            "margin": null,
            "max_height": null,
            "max_width": null,
            "min_height": null,
            "min_width": null,
            "object_fit": null,
            "object_position": null,
            "order": null,
            "overflow": null,
            "overflow_x": null,
            "overflow_y": null,
            "padding": null,
            "right": null,
            "top": null,
            "visibility": null,
            "width": null
          }
        },
        "c105713f71bc47c9a72afd8e9a695d93": {
          "model_module": "@jupyter-widgets/controls",
          "model_name": "DescriptionStyleModel",
          "model_module_version": "1.5.0",
          "state": {
            "_model_module": "@jupyter-widgets/controls",
            "_model_module_version": "1.5.0",
            "_model_name": "DescriptionStyleModel",
            "_view_count": null,
            "_view_module": "@jupyter-widgets/base",
            "_view_module_version": "1.2.0",
            "_view_name": "StyleView",
            "description_width": ""
          }
        },
        "79b5c83e3ca64105abcb148131cbf02b": {
          "model_module": "@jupyter-widgets/base",
          "model_name": "LayoutModel",
          "model_module_version": "1.2.0",
          "state": {
            "_model_module": "@jupyter-widgets/base",
            "_model_module_version": "1.2.0",
            "_model_name": "LayoutModel",
            "_view_count": null,
            "_view_module": "@jupyter-widgets/base",
            "_view_module_version": "1.2.0",
            "_view_name": "LayoutView",
            "align_content": null,
            "align_items": null,
            "align_self": null,
            "border": null,
            "bottom": null,
            "display": null,
            "flex": null,
            "flex_flow": null,
            "grid_area": null,
            "grid_auto_columns": null,
            "grid_auto_flow": null,
            "grid_auto_rows": null,
            "grid_column": null,
            "grid_gap": null,
            "grid_row": null,
            "grid_template_areas": null,
            "grid_template_columns": null,
            "grid_template_rows": null,
            "height": null,
            "justify_content": null,
            "justify_items": null,
            "left": null,
            "margin": null,
            "max_height": null,
            "max_width": null,
            "min_height": null,
            "min_width": null,
            "object_fit": null,
            "object_position": null,
            "order": null,
            "overflow": null,
            "overflow_x": null,
            "overflow_y": null,
            "padding": null,
            "right": null,
            "top": null,
            "visibility": null,
            "width": "20px"
          }
        },
        "00ddd29d891e400d88038cdc60b2fc0c": {
          "model_module": "@jupyter-widgets/controls",
          "model_name": "ProgressStyleModel",
          "model_module_version": "1.5.0",
          "state": {
            "_model_module": "@jupyter-widgets/controls",
            "_model_module_version": "1.5.0",
            "_model_name": "ProgressStyleModel",
            "_view_count": null,
            "_view_module": "@jupyter-widgets/base",
            "_view_module_version": "1.2.0",
            "_view_name": "StyleView",
            "bar_color": null,
            "description_width": ""
          }
        },
        "636b80b05fe84eb88354ad4b1dcc850d": {
          "model_module": "@jupyter-widgets/base",
          "model_name": "LayoutModel",
          "model_module_version": "1.2.0",
          "state": {
            "_model_module": "@jupyter-widgets/base",
            "_model_module_version": "1.2.0",
            "_model_name": "LayoutModel",
            "_view_count": null,
            "_view_module": "@jupyter-widgets/base",
            "_view_module_version": "1.2.0",
            "_view_name": "LayoutView",
            "align_content": null,
            "align_items": null,
            "align_self": null,
            "border": null,
            "bottom": null,
            "display": null,
            "flex": null,
            "flex_flow": null,
            "grid_area": null,
            "grid_auto_columns": null,
            "grid_auto_flow": null,
            "grid_auto_rows": null,
            "grid_column": null,
            "grid_gap": null,
            "grid_row": null,
            "grid_template_areas": null,
            "grid_template_columns": null,
            "grid_template_rows": null,
            "height": null,
            "justify_content": null,
            "justify_items": null,
            "left": null,
            "margin": null,
            "max_height": null,
            "max_width": null,
            "min_height": null,
            "min_width": null,
            "object_fit": null,
            "object_position": null,
            "order": null,
            "overflow": null,
            "overflow_x": null,
            "overflow_y": null,
            "padding": null,
            "right": null,
            "top": null,
            "visibility": null,
            "width": null
          }
        },
        "fb16e507c9ca48f6aa86d947cac7765b": {
          "model_module": "@jupyter-widgets/controls",
          "model_name": "DescriptionStyleModel",
          "model_module_version": "1.5.0",
          "state": {
            "_model_module": "@jupyter-widgets/controls",
            "_model_module_version": "1.5.0",
            "_model_name": "DescriptionStyleModel",
            "_view_count": null,
            "_view_module": "@jupyter-widgets/base",
            "_view_module_version": "1.2.0",
            "_view_name": "StyleView",
            "description_width": ""
          }
        },
        "b765e83eeac54b7888f6bd15f330d398": {
          "model_module": "@jupyter-widgets/controls",
          "model_name": "HBoxModel",
          "model_module_version": "1.5.0",
          "state": {
            "_dom_classes": [],
            "_model_module": "@jupyter-widgets/controls",
            "_model_module_version": "1.5.0",
            "_model_name": "HBoxModel",
            "_view_count": null,
            "_view_module": "@jupyter-widgets/controls",
            "_view_module_version": "1.5.0",
            "_view_name": "HBoxView",
            "box_style": "",
            "children": [
              "IPY_MODEL_383ab0532746490883eddb09007f207b",
              "IPY_MODEL_d563199b3fd747b385affbca22a1b54e",
              "IPY_MODEL_4136d063ae3f4e24927b412c4570a89f"
            ],
            "layout": "IPY_MODEL_a71815dc8f64465590ea8bed50cf83a1"
          }
        },
        "383ab0532746490883eddb09007f207b": {
          "model_module": "@jupyter-widgets/controls",
          "model_name": "HTMLModel",
          "model_module_version": "1.5.0",
          "state": {
            "_dom_classes": [],
            "_model_module": "@jupyter-widgets/controls",
            "_model_module_version": "1.5.0",
            "_model_name": "HTMLModel",
            "_view_count": null,
            "_view_module": "@jupyter-widgets/controls",
            "_view_module_version": "1.5.0",
            "_view_name": "HTMLView",
            "description": "",
            "description_tooltip": null,
            "layout": "IPY_MODEL_6089aca5444a41368e2130f3a914261e",
            "placeholder": "​",
            "style": "IPY_MODEL_d10f9ba4e6dd4bb783d71ae242115f95",
            "value": "Generating test split: "
          }
        },
        "d563199b3fd747b385affbca22a1b54e": {
          "model_module": "@jupyter-widgets/controls",
          "model_name": "FloatProgressModel",
          "model_module_version": "1.5.0",
          "state": {
            "_dom_classes": [],
            "_model_module": "@jupyter-widgets/controls",
            "_model_module_version": "1.5.0",
            "_model_name": "FloatProgressModel",
            "_view_count": null,
            "_view_module": "@jupyter-widgets/controls",
            "_view_module_version": "1.5.0",
            "_view_name": "ProgressView",
            "bar_style": "success",
            "description": "",
            "description_tooltip": null,
            "layout": "IPY_MODEL_48255e5298ec46578b19693313bcbfde",
            "max": 1,
            "min": 0,
            "orientation": "horizontal",
            "style": "IPY_MODEL_b16252781bf84f35a70af63116736a92",
            "value": 1
          }
        },
        "4136d063ae3f4e24927b412c4570a89f": {
          "model_module": "@jupyter-widgets/controls",
          "model_name": "HTMLModel",
          "model_module_version": "1.5.0",
          "state": {
            "_dom_classes": [],
            "_model_module": "@jupyter-widgets/controls",
            "_model_module_version": "1.5.0",
            "_model_name": "HTMLModel",
            "_view_count": null,
            "_view_module": "@jupyter-widgets/controls",
            "_view_module_version": "1.5.0",
            "_view_name": "HTMLView",
            "description": "",
            "description_tooltip": null,
            "layout": "IPY_MODEL_ecdc3bc9255f40839e9dcb400e58def5",
            "placeholder": "​",
            "style": "IPY_MODEL_91358884bcc34d76b667a7d4deca3fda",
            "value": " 10000/0 [00:00&lt;00:00, 19689.36 examples/s]"
          }
        },
        "a71815dc8f64465590ea8bed50cf83a1": {
          "model_module": "@jupyter-widgets/base",
          "model_name": "LayoutModel",
          "model_module_version": "1.2.0",
          "state": {
            "_model_module": "@jupyter-widgets/base",
            "_model_module_version": "1.2.0",
            "_model_name": "LayoutModel",
            "_view_count": null,
            "_view_module": "@jupyter-widgets/base",
            "_view_module_version": "1.2.0",
            "_view_name": "LayoutView",
            "align_content": null,
            "align_items": null,
            "align_self": null,
            "border": null,
            "bottom": null,
            "display": null,
            "flex": null,
            "flex_flow": null,
            "grid_area": null,
            "grid_auto_columns": null,
            "grid_auto_flow": null,
            "grid_auto_rows": null,
            "grid_column": null,
            "grid_gap": null,
            "grid_row": null,
            "grid_template_areas": null,
            "grid_template_columns": null,
            "grid_template_rows": null,
            "height": null,
            "justify_content": null,
            "justify_items": null,
            "left": null,
            "margin": null,
            "max_height": null,
            "max_width": null,
            "min_height": null,
            "min_width": null,
            "object_fit": null,
            "object_position": null,
            "order": null,
            "overflow": null,
            "overflow_x": null,
            "overflow_y": null,
            "padding": null,
            "right": null,
            "top": null,
            "visibility": null,
            "width": null
          }
        },
        "6089aca5444a41368e2130f3a914261e": {
          "model_module": "@jupyter-widgets/base",
          "model_name": "LayoutModel",
          "model_module_version": "1.2.0",
          "state": {
            "_model_module": "@jupyter-widgets/base",
            "_model_module_version": "1.2.0",
            "_model_name": "LayoutModel",
            "_view_count": null,
            "_view_module": "@jupyter-widgets/base",
            "_view_module_version": "1.2.0",
            "_view_name": "LayoutView",
            "align_content": null,
            "align_items": null,
            "align_self": null,
            "border": null,
            "bottom": null,
            "display": null,
            "flex": null,
            "flex_flow": null,
            "grid_area": null,
            "grid_auto_columns": null,
            "grid_auto_flow": null,
            "grid_auto_rows": null,
            "grid_column": null,
            "grid_gap": null,
            "grid_row": null,
            "grid_template_areas": null,
            "grid_template_columns": null,
            "grid_template_rows": null,
            "height": null,
            "justify_content": null,
            "justify_items": null,
            "left": null,
            "margin": null,
            "max_height": null,
            "max_width": null,
            "min_height": null,
            "min_width": null,
            "object_fit": null,
            "object_position": null,
            "order": null,
            "overflow": null,
            "overflow_x": null,
            "overflow_y": null,
            "padding": null,
            "right": null,
            "top": null,
            "visibility": null,
            "width": null
          }
        },
        "d10f9ba4e6dd4bb783d71ae242115f95": {
          "model_module": "@jupyter-widgets/controls",
          "model_name": "DescriptionStyleModel",
          "model_module_version": "1.5.0",
          "state": {
            "_model_module": "@jupyter-widgets/controls",
            "_model_module_version": "1.5.0",
            "_model_name": "DescriptionStyleModel",
            "_view_count": null,
            "_view_module": "@jupyter-widgets/base",
            "_view_module_version": "1.2.0",
            "_view_name": "StyleView",
            "description_width": ""
          }
        },
        "48255e5298ec46578b19693313bcbfde": {
          "model_module": "@jupyter-widgets/base",
          "model_name": "LayoutModel",
          "model_module_version": "1.2.0",
          "state": {
            "_model_module": "@jupyter-widgets/base",
            "_model_module_version": "1.2.0",
            "_model_name": "LayoutModel",
            "_view_count": null,
            "_view_module": "@jupyter-widgets/base",
            "_view_module_version": "1.2.0",
            "_view_name": "LayoutView",
            "align_content": null,
            "align_items": null,
            "align_self": null,
            "border": null,
            "bottom": null,
            "display": null,
            "flex": null,
            "flex_flow": null,
            "grid_area": null,
            "grid_auto_columns": null,
            "grid_auto_flow": null,
            "grid_auto_rows": null,
            "grid_column": null,
            "grid_gap": null,
            "grid_row": null,
            "grid_template_areas": null,
            "grid_template_columns": null,
            "grid_template_rows": null,
            "height": null,
            "justify_content": null,
            "justify_items": null,
            "left": null,
            "margin": null,
            "max_height": null,
            "max_width": null,
            "min_height": null,
            "min_width": null,
            "object_fit": null,
            "object_position": null,
            "order": null,
            "overflow": null,
            "overflow_x": null,
            "overflow_y": null,
            "padding": null,
            "right": null,
            "top": null,
            "visibility": null,
            "width": "20px"
          }
        },
        "b16252781bf84f35a70af63116736a92": {
          "model_module": "@jupyter-widgets/controls",
          "model_name": "ProgressStyleModel",
          "model_module_version": "1.5.0",
          "state": {
            "_model_module": "@jupyter-widgets/controls",
            "_model_module_version": "1.5.0",
            "_model_name": "ProgressStyleModel",
            "_view_count": null,
            "_view_module": "@jupyter-widgets/base",
            "_view_module_version": "1.2.0",
            "_view_name": "StyleView",
            "bar_color": null,
            "description_width": ""
          }
        },
        "ecdc3bc9255f40839e9dcb400e58def5": {
          "model_module": "@jupyter-widgets/base",
          "model_name": "LayoutModel",
          "model_module_version": "1.2.0",
          "state": {
            "_model_module": "@jupyter-widgets/base",
            "_model_module_version": "1.2.0",
            "_model_name": "LayoutModel",
            "_view_count": null,
            "_view_module": "@jupyter-widgets/base",
            "_view_module_version": "1.2.0",
            "_view_name": "LayoutView",
            "align_content": null,
            "align_items": null,
            "align_self": null,
            "border": null,
            "bottom": null,
            "display": null,
            "flex": null,
            "flex_flow": null,
            "grid_area": null,
            "grid_auto_columns": null,
            "grid_auto_flow": null,
            "grid_auto_rows": null,
            "grid_column": null,
            "grid_gap": null,
            "grid_row": null,
            "grid_template_areas": null,
            "grid_template_columns": null,
            "grid_template_rows": null,
            "height": null,
            "justify_content": null,
            "justify_items": null,
            "left": null,
            "margin": null,
            "max_height": null,
            "max_width": null,
            "min_height": null,
            "min_width": null,
            "object_fit": null,
            "object_position": null,
            "order": null,
            "overflow": null,
            "overflow_x": null,
            "overflow_y": null,
            "padding": null,
            "right": null,
            "top": null,
            "visibility": null,
            "width": null
          }
        },
        "91358884bcc34d76b667a7d4deca3fda": {
          "model_module": "@jupyter-widgets/controls",
          "model_name": "DescriptionStyleModel",
          "model_module_version": "1.5.0",
          "state": {
            "_model_module": "@jupyter-widgets/controls",
            "_model_module_version": "1.5.0",
            "_model_name": "DescriptionStyleModel",
            "_view_count": null,
            "_view_module": "@jupyter-widgets/base",
            "_view_module_version": "1.2.0",
            "_view_name": "StyleView",
            "description_width": ""
          }
        }
      }
    }
  },
  "nbformat": 4,
  "nbformat_minor": 5
}