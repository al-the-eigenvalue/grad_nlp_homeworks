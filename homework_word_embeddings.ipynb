{
  "cells": [
    {
      "cell_type": "markdown",
      "id": "a98604cb",
      "metadata": {
        "id": "a98604cb"
      },
      "source": [
        "Домашку будет легче делать в колабе (убедитесь, что у вас runtype с gpu)."
      ]
    },
    {
      "cell_type": "code",
      "source": [
        "%%capture\n",
        "!pip install gensim\n",
        "!python -m spacy download ru_core_news_sm"
      ],
      "metadata": {
        "id": "iyIUfreaiPS4"
      },
      "id": "iyIUfreaiPS4",
      "execution_count": 1,
      "outputs": []
    },
    {
      "cell_type": "code",
      "source": [
        "import gensim\n",
        "import keras\n",
        "import matplotlib.pyplot as plt\n",
        "import numpy as np\n",
        "import os\n",
        "import pandas as pd\n",
        "import re\n",
        "import spacy\n",
        "import tensorflow as tf\n",
        "import torch\n",
        "\n",
        "from collections import Counter\n",
        "from sklearn.linear_model import LogisticRegression\n",
        "from sklearn.metrics import classification_report\n",
        "from sklearn.metrics.pairwise import cosine_distances\n",
        "from sklearn.model_selection import train_test_split\n",
        "from string import punctuation\n",
        "from tqdm.notebook import tqdm"
      ],
      "metadata": {
        "id": "9JnkB_uHdbf6"
      },
      "id": "9JnkB_uHdbf6",
      "execution_count": 2,
      "outputs": []
    },
    {
      "cell_type": "code",
      "source": [
        "os.environ[\"KERAS_BACKEND\"] = \"torch\"\n",
        "print(keras.__version__)"
      ],
      "metadata": {
        "colab": {
          "base_uri": "https://localhost:8080/"
        },
        "id": "QKWjsudh4OwC",
        "outputId": "fe221b99-4459-4583-eabc-6c590c2e248b"
      },
      "id": "QKWjsudh4OwC",
      "execution_count": 3,
      "outputs": [
        {
          "output_type": "stream",
          "name": "stdout",
          "text": [
            "3.5.0\n"
          ]
        }
      ]
    },
    {
      "cell_type": "markdown",
      "id": "9c422aa0",
      "metadata": {
        "id": "9c422aa0"
      },
      "source": [
        "# Задание 1 (3 балла)"
      ]
    },
    {
      "cell_type": "markdown",
      "id": "e4a72790",
      "metadata": {
        "id": "e4a72790"
      },
      "source": [
        "Обучите word2vec модели с негативным семплированием (cbow и skip-gram) аналогично тому, как это было сделано в семинаре. Вам нужно изменить следующие пункты:\n",
        "\n",
        "1) добавьте лемматизацию в предобработку (любым способом)  \n",
        "\n",
        "2) измените размер окна в большую или меньшую сторону\n",
        "\n",
        "3) измените размерность итоговых векторов\n",
        "\n",
        "Выберете несколько не похожих по смыслу слов (не таких как в семинаре), и протестируйте полученные эмбединги (найдите ближайшие слова и оцените качество, как в семинаре).\n",
        "Постарайтесь обучать модели как можно дольше и на как можно большем количестве данных. (Но если у вас мало времени или ресурсов, то допустимо взять поменьше данных и поставить меньше эпох)"
      ]
    },
    {
      "cell_type": "code",
      "source": [
        "class WordIDMapper:\n",
        "    def __init__(self, corpus):\n",
        "        self.nlp = spacy.load(\"ru_core_news_sm\", disable=[\"tagger\", \"ner\"])\n",
        "        self.nlp.tokenizer = self.tokenize\n",
        "        vocab, self.lemmatized_sents = self.create_vocab(corpus)\n",
        "        self.word2id, self.id2word, self.sentences = self.create_indices(\n",
        "            vocab, self.lemmatized_sents\n",
        "        )\n",
        "\n",
        "    def tokenize(self, text):\n",
        "        tokens = re.sub(\"#+\", \" \", text.lower()).split()\n",
        "        tokens = [token.strip(punctuation) for token in tokens]\n",
        "        tokens = [token for token in tokens if token]\n",
        "        return spacy.tokens.Doc(self.nlp.vocab, tokens)\n",
        "\n",
        "    def lemmatize(self, text):\n",
        "        doc = self.nlp(text)\n",
        "        lemmata = []\n",
        "        for sent in doc.sents:\n",
        "            for token in sent:\n",
        "                lemmata.append(token.lemma_.lower())\n",
        "        return lemmata\n",
        "\n",
        "    def create_vocab(self, corpus):\n",
        "        unfiltered_vocab = Counter()\n",
        "        lemmatized_sents = []\n",
        "        for text in tqdm(corpus, desc=\"Creating vocab\"):\n",
        "            lemmata = self.lemmatize(text)\n",
        "            unfiltered_vocab.update(lemmata)\n",
        "            lemmatized_sents.append(lemmata)\n",
        "        vocab = set()\n",
        "        for word in unfiltered_vocab:\n",
        "            if unfiltered_vocab[word] > 30:\n",
        "                vocab.add(word)\n",
        "        return vocab, lemmatized_sents\n",
        "\n",
        "    def create_indices(self, vocab, sents):\n",
        "        word2id = {\"PAD\": 0}\n",
        "        for word in vocab:\n",
        "            word2id[word] = len(word2id)\n",
        "        id2word = {i:word for word, i in word2id.items()}\n",
        "\n",
        "        sentences = []\n",
        "        for lemmata in sents:\n",
        "            if not lemmata:\n",
        "                continue\n",
        "            ids = [word2id[lemma] for lemma in lemmata if lemma in word2id]\n",
        "            sentences.append(ids)\n",
        "\n",
        "        return word2id, id2word, sentences"
      ],
      "metadata": {
        "id": "U7VI2Dt2n8Wq"
      },
      "id": "U7VI2Dt2n8Wq",
      "execution_count": 4,
      "outputs": []
    },
    {
      "cell_type": "code",
      "source": [
        "wiki = open(\"wiki_data.txt\").read().split(\"\\n\")"
      ],
      "metadata": {
        "id": "14TEmFbbwbNV"
      },
      "id": "14TEmFbbwbNV",
      "execution_count": 5,
      "outputs": []
    },
    {
      "cell_type": "code",
      "source": [
        "mapper = WordIDMapper(corpus=wiki)"
      ],
      "metadata": {
        "colab": {
          "base_uri": "https://localhost:8080/",
          "height": 49,
          "referenced_widgets": [
            "756b7bb1c6814bd9b33524b53671d870",
            "fa2ed6988eb542fa896ade9514ae6e1d",
            "3f4c381935554156bb01a8182662f964",
            "c398cf6d04ef45fcafba8967dc0fc719",
            "68ed9a02b4a043d2bc16c1043856506c",
            "e8ab145ee8a343b497d35d47c642358e",
            "a0d2f90007ce40fa8b84b848fd812fa0",
            "c2481722437f41298917f2f31cf133e3",
            "5d1dbb5737f040be995d6cd114368bf2",
            "9ecd075ca0044810b63630c02a747113",
            "ecb2b4219d4d4439b1bb53a192dc7359"
          ]
        },
        "id": "Xh_WULI2tsbc",
        "outputId": "e0ffd785-2a2e-424d-c8b6-032c4018873e"
      },
      "id": "Xh_WULI2tsbc",
      "execution_count": 6,
      "outputs": [
        {
          "output_type": "display_data",
          "data": {
            "text/plain": [
              "Creating vocab:   0%|          | 0/20003 [00:00<?, ?it/s]"
            ],
            "application/vnd.jupyter.widget-view+json": {
              "version_major": 2,
              "version_minor": 0,
              "model_id": "756b7bb1c6814bd9b33524b53671d870"
            }
          },
          "metadata": {}
        }
      ]
    },
    {
      "cell_type": "code",
      "source": [
        "vocab_size = len(mapper.id2word)"
      ],
      "metadata": {
        "id": "Pj6NCweL2yYr"
      },
      "id": "Pj6NCweL2yYr",
      "execution_count": 7,
      "outputs": []
    },
    {
      "cell_type": "code",
      "source": [
        "def most_similar(word, mapper, embeddings):\n",
        "    similar = [\n",
        "        mapper.id2word[i] for i in\n",
        "        cosine_distances(\n",
        "            embeddings[mapper.word2id[word]].reshape(1, -1),\n",
        "            embeddings\n",
        "        ).argsort()[0][:10]\n",
        "    ]\n",
        "    return similar"
      ],
      "metadata": {
        "id": "4fN-7pwYNaqR"
      },
      "id": "4fN-7pwYNaqR",
      "execution_count": 8,
      "outputs": []
    },
    {
      "cell_type": "markdown",
      "source": [
        "## Skip-Gram"
      ],
      "metadata": {
        "id": "wy6DPe9wKftL"
      },
      "id": "wy6DPe9wKftL"
    },
    {
      "cell_type": "code",
      "source": [
        "# skip gram\n",
        "def gen_batches_sg(sentences, window=5, batch_size=1000):\n",
        "\n",
        "    # параметр window задает его целиком\n",
        "    # нам нужно поделить его пополам на левую и правую часть\n",
        "    # когда делится неровно, то левая часть больше на 1\n",
        "    left_context_length = (window/2).__ceil__() # округлить в большую сторону\n",
        "    right_context_length = window // 2 # округлить в меньшую сторону\n",
        "\n",
        "    while True:\n",
        "        X_target = []\n",
        "        X_context = []\n",
        "        y = []\n",
        "\n",
        "        for sent in sentences:\n",
        "            for i in range(len(sent)-1):\n",
        "                word = sent[i]\n",
        "                context = (sent[max(0, i-left_context_length):i] +\n",
        "                           sent[i+1:i+right_context_length])\n",
        "                for context_word in context:\n",
        "                    X_target.append(word)\n",
        "                    X_context.append(context_word)\n",
        "                    y.append(1)\n",
        "\n",
        "                    X_target.append(word)\n",
        "                    X_context.append(np.random.randint(vocab_size))\n",
        "                    y.append(0)\n",
        "\n",
        "                    if len(X_target) >= batch_size:\n",
        "                        X_target = np.array(X_target)\n",
        "                        X_context = np.array(X_context)\n",
        "                        y = np.array(y)\n",
        "                        yield ((X_target, X_context), y)\n",
        "                        X_target = []\n",
        "                        X_context = []\n",
        "                        y = []"
      ],
      "metadata": {
        "id": "mKL_QZ4TIiDo"
      },
      "id": "mKL_QZ4TIiDo",
      "execution_count": 9,
      "outputs": []
    },
    {
      "cell_type": "code",
      "source": [
        "inputs_target = keras.layers.Input(shape=(1,))\n",
        "inputs_context = keras.layers.Input(shape=(1,))\n",
        "\n",
        "embeddings_target = keras.layers.Embedding(input_dim=len(mapper.word2id),\n",
        "                                           output_dim=400)(inputs_target, )\n",
        "embeddings_context = keras.layers.Embedding(input_dim=len(mapper.word2id),\n",
        "                                            output_dim=400)(inputs_context, )\n",
        "\n",
        "target = keras.layers.Flatten()(embeddings_target)\n",
        "context = keras.layers.Flatten()(embeddings_context)\n",
        "\n",
        "dot = keras.layers.Dot(1)([target, context])\n",
        "outputs = keras.layers.Activation(activation=\"sigmoid\")(dot)\n",
        "\n",
        "model = keras.Model(inputs=[inputs_target, inputs_context],\n",
        "                       outputs=outputs)\n",
        "optimizer = keras.optimizers.Adam(learning_rate=0.001)\n",
        "model.compile(optimizer=optimizer,\n",
        "              loss=\"binary_crossentropy\",\n",
        "              metrics=[\"accuracy\"])"
      ],
      "metadata": {
        "id": "c0d0YftbIofz"
      },
      "id": "c0d0YftbIofz",
      "execution_count": 10,
      "outputs": []
    },
    {
      "cell_type": "code",
      "source": [
        "model.fit(gen_batches_sg(mapper.sentences[:19000], window=7),\n",
        "          validation_data=gen_batches_sg(mapper.sentences[19000:], window=7),\n",
        "          batch_size=1000,\n",
        "          steps_per_epoch=10000,\n",
        "          validation_steps=30,\n",
        "          epochs=20)"
      ],
      "metadata": {
        "id": "0i-1X1cmI-Rf",
        "colab": {
          "base_uri": "https://localhost:8080/"
        },
        "outputId": "8d29b0ba-583e-4a4b-fbe3-c371e773365c"
      },
      "id": "0i-1X1cmI-Rf",
      "execution_count": 11,
      "outputs": [
        {
          "output_type": "stream",
          "name": "stdout",
          "text": [
            "Epoch 1/20\n",
            "\u001b[1m10000/10000\u001b[0m \u001b[32m━━━━━━━━━━━━━━━━━━━━\u001b[0m\u001b[37m\u001b[0m \u001b[1m45s\u001b[0m 4ms/step - accuracy: 0.7832 - loss: 0.4644 - val_accuracy: 0.7926 - val_loss: 0.5122\n",
            "Epoch 2/20\n",
            "\u001b[1m10000/10000\u001b[0m \u001b[32m━━━━━━━━━━━━━━━━━━━━\u001b[0m\u001b[37m\u001b[0m \u001b[1m45s\u001b[0m 5ms/step - accuracy: 0.8235 - loss: 0.4115 - val_accuracy: 0.8276 - val_loss: 0.3916\n",
            "Epoch 3/20\n",
            "\u001b[1m10000/10000\u001b[0m \u001b[32m━━━━━━━━━━━━━━━━━━━━\u001b[0m\u001b[37m\u001b[0m \u001b[1m45s\u001b[0m 4ms/step - accuracy: 0.8287 - loss: 0.3992 - val_accuracy: 0.8235 - val_loss: 0.4052\n",
            "Epoch 4/20\n",
            "\u001b[1m10000/10000\u001b[0m \u001b[32m━━━━━━━━━━━━━━━━━━━━\u001b[0m\u001b[37m\u001b[0m \u001b[1m44s\u001b[0m 4ms/step - accuracy: 0.8335 - loss: 0.3888 - val_accuracy: 0.8301 - val_loss: 0.3885\n",
            "Epoch 5/20\n",
            "\u001b[1m10000/10000\u001b[0m \u001b[32m━━━━━━━━━━━━━━━━━━━━\u001b[0m\u001b[37m\u001b[0m \u001b[1m43s\u001b[0m 4ms/step - accuracy: 0.8359 - loss: 0.3827 - val_accuracy: 0.8310 - val_loss: 0.3946\n",
            "Epoch 6/20\n",
            "\u001b[1m10000/10000\u001b[0m \u001b[32m━━━━━━━━━━━━━━━━━━━━\u001b[0m\u001b[37m\u001b[0m \u001b[1m43s\u001b[0m 4ms/step - accuracy: 0.8406 - loss: 0.3711 - val_accuracy: 0.8447 - val_loss: 0.3803\n",
            "Epoch 7/20\n",
            "\u001b[1m10000/10000\u001b[0m \u001b[32m━━━━━━━━━━━━━━━━━━━━\u001b[0m\u001b[37m\u001b[0m \u001b[1m46s\u001b[0m 5ms/step - accuracy: 0.8426 - loss: 0.3646 - val_accuracy: 0.8409 - val_loss: 0.3676\n",
            "Epoch 8/20\n",
            "\u001b[1m10000/10000\u001b[0m \u001b[32m━━━━━━━━━━━━━━━━━━━━\u001b[0m\u001b[37m\u001b[0m \u001b[1m43s\u001b[0m 4ms/step - accuracy: 0.8394 - loss: 0.3713 - val_accuracy: 0.8365 - val_loss: 0.3819\n",
            "Epoch 9/20\n",
            "\u001b[1m10000/10000\u001b[0m \u001b[32m━━━━━━━━━━━━━━━━━━━━\u001b[0m\u001b[37m\u001b[0m \u001b[1m44s\u001b[0m 4ms/step - accuracy: 0.8442 - loss: 0.3608 - val_accuracy: 0.8254 - val_loss: 0.4037\n",
            "Epoch 10/20\n",
            "\u001b[1m10000/10000\u001b[0m \u001b[32m━━━━━━━━━━━━━━━━━━━━\u001b[0m\u001b[37m\u001b[0m \u001b[1m43s\u001b[0m 4ms/step - accuracy: 0.8452 - loss: 0.3582 - val_accuracy: 0.8256 - val_loss: 0.4019\n",
            "Epoch 11/20\n",
            "\u001b[1m10000/10000\u001b[0m \u001b[32m━━━━━━━━━━━━━━━━━━━━\u001b[0m\u001b[37m\u001b[0m \u001b[1m43s\u001b[0m 4ms/step - accuracy: 0.8496 - loss: 0.3483 - val_accuracy: 0.8448 - val_loss: 0.3779\n",
            "Epoch 12/20\n",
            "\u001b[1m10000/10000\u001b[0m \u001b[32m━━━━━━━━━━━━━━━━━━━━\u001b[0m\u001b[37m\u001b[0m \u001b[1m42s\u001b[0m 4ms/step - accuracy: 0.8463 - loss: 0.3533 - val_accuracy: 0.8451 - val_loss: 0.3756\n",
            "Epoch 13/20\n",
            "\u001b[1m10000/10000\u001b[0m \u001b[32m━━━━━━━━━━━━━━━━━━━━\u001b[0m\u001b[37m\u001b[0m \u001b[1m42s\u001b[0m 4ms/step - accuracy: 0.8448 - loss: 0.3570 - val_accuracy: 0.8249 - val_loss: 0.4181\n",
            "Epoch 14/20\n",
            "\u001b[1m10000/10000\u001b[0m \u001b[32m━━━━━━━━━━━━━━━━━━━━\u001b[0m\u001b[37m\u001b[0m \u001b[1m43s\u001b[0m 4ms/step - accuracy: 0.8476 - loss: 0.3515 - val_accuracy: 0.8342 - val_loss: 0.4124\n",
            "Epoch 15/20\n",
            "\u001b[1m10000/10000\u001b[0m \u001b[32m━━━━━━━━━━━━━━━━━━━━\u001b[0m\u001b[37m\u001b[0m \u001b[1m42s\u001b[0m 4ms/step - accuracy: 0.8479 - loss: 0.3499 - val_accuracy: 0.8196 - val_loss: 0.4342\n",
            "Epoch 16/20\n",
            "\u001b[1m10000/10000\u001b[0m \u001b[32m━━━━━━━━━━━━━━━━━━━━\u001b[0m\u001b[37m\u001b[0m \u001b[1m42s\u001b[0m 4ms/step - accuracy: 0.8476 - loss: 0.3514 - val_accuracy: 0.8358 - val_loss: 0.4034\n",
            "Epoch 17/20\n",
            "\u001b[1m10000/10000\u001b[0m \u001b[32m━━━━━━━━━━━━━━━━━━━━\u001b[0m\u001b[37m\u001b[0m \u001b[1m43s\u001b[0m 4ms/step - accuracy: 0.8527 - loss: 0.3374 - val_accuracy: 0.8253 - val_loss: 0.4269\n",
            "Epoch 18/20\n",
            "\u001b[1m10000/10000\u001b[0m \u001b[32m━━━━━━━━━━━━━━━━━━━━\u001b[0m\u001b[37m\u001b[0m \u001b[1m45s\u001b[0m 4ms/step - accuracy: 0.8494 - loss: 0.3467 - val_accuracy: 0.8327 - val_loss: 0.4066\n",
            "Epoch 19/20\n",
            "\u001b[1m10000/10000\u001b[0m \u001b[32m━━━━━━━━━━━━━━━━━━━━\u001b[0m\u001b[37m\u001b[0m \u001b[1m43s\u001b[0m 4ms/step - accuracy: 0.8500 - loss: 0.3452 - val_accuracy: 0.8087 - val_loss: 0.4463\n",
            "Epoch 20/20\n",
            "\u001b[1m10000/10000\u001b[0m \u001b[32m━━━━━━━━━━━━━━━━━━━━\u001b[0m\u001b[37m\u001b[0m \u001b[1m44s\u001b[0m 4ms/step - accuracy: 0.8508 - loss: 0.3430 - val_accuracy: 0.8383 - val_loss: 0.3985\n"
          ]
        },
        {
          "output_type": "execute_result",
          "data": {
            "text/plain": [
              "<keras.src.callbacks.history.History at 0x7a1d1d082890>"
            ]
          },
          "metadata": {},
          "execution_count": 11
        }
      ]
    },
    {
      "cell_type": "code",
      "source": [
        "plt.plot(model.history.history[\"loss\"])\n",
        "plt.plot(model.history.history[\"val_loss\"])\n",
        "plt.title(\"model loss\")\n",
        "plt.ylabel(\"loss\")\n",
        "plt.xlabel(\"epoch\")\n",
        "plt.legend([\"train\", \"val\"], loc=\"upper left\")\n",
        "plt.show()"
      ],
      "metadata": {
        "id": "Ot2xAFHjMz6M",
        "colab": {
          "base_uri": "https://localhost:8080/",
          "height": 472
        },
        "outputId": "109fe0b1-15eb-4baf-dc31-df403addacd1"
      },
      "id": "Ot2xAFHjMz6M",
      "execution_count": 12,
      "outputs": [
        {
          "output_type": "display_data",
          "data": {
            "text/plain": [
              "<Figure size 640x480 with 1 Axes>"
            ],
            "image/png": "[encoded data removed]"
          },
          "metadata": {}
        }
      ]
    },
    {
      "cell_type": "code",
      "source": [
        "embeddings = model.layers[2].get_weights()[0]\n",
        "most_similar(\"красный\", mapper, embeddings)"
      ],
      "metadata": {
        "id": "tUGkKcNtMuVR",
        "colab": {
          "base_uri": "https://localhost:8080/"
        },
        "outputId": "e5535010-fe35-48f8-e1eb-8d2cf63106df"
      },
      "id": "tUGkKcNtMuVR",
      "execution_count": 13,
      "outputs": [
        {
          "output_type": "execute_result",
          "data": {
            "text/plain": [
              "['красный',\n",
              " 'жёлтый',\n",
              " 'чёрный',\n",
              " 'ель',\n",
              " 'коричневый',\n",
              " 'знамя',\n",
              " 'синий',\n",
              " 'цвет',\n",
              " 'розовый',\n",
              " 'лавровый']"
            ]
          },
          "metadata": {},
          "execution_count": 13
        }
      ]
    },
    {
      "cell_type": "code",
      "source": [
        "most_similar(\"улица\", mapper, embeddings)"
      ],
      "metadata": {
        "id": "bYXeH3Q5PZX8",
        "colab": {
          "base_uri": "https://localhost:8080/"
        },
        "outputId": "06ffa85d-6bd8-4a67-f015-b7d0cac21c34"
      },
      "id": "bYXeH3Q5PZX8",
      "execution_count": 14,
      "outputs": [
        {
          "output_type": "execute_result",
          "data": {
            "text/plain": [
              "['улица',\n",
              " 'переулок',\n",
              " 'у́лица',\n",
              " 'проспект',\n",
              " 'бульвар',\n",
              " 'ул',\n",
              " 'сквер',\n",
              " 'нечётный',\n",
              " 'набережная',\n",
              " 'микрорайон']"
            ]
          },
          "metadata": {},
          "execution_count": 14
        }
      ]
    },
    {
      "cell_type": "code",
      "source": [
        "most_similar(\"должность\", mapper, embeddings)"
      ],
      "metadata": {
        "id": "WaWxJfZwPnGO",
        "colab": {
          "base_uri": "https://localhost:8080/"
        },
        "outputId": "5b1c3cf0-04ee-4baa-c367-b8725cd575a4"
      },
      "id": "WaWxJfZwPnGO",
      "execution_count": 15,
      "outputs": [
        {
          "output_type": "execute_result",
          "data": {
            "text/plain": [
              "['должность',\n",
              " 'пост',\n",
              " 'заместитель',\n",
              " 'назначить',\n",
              " 'помощник',\n",
              " 'судьёй',\n",
              " 'заведующего',\n",
              " 'инструктор',\n",
              " 'отставка',\n",
              " 'занимать']"
            ]
          },
          "metadata": {},
          "execution_count": 15
        }
      ]
    },
    {
      "cell_type": "markdown",
      "source": [
        "## CBOW"
      ],
      "metadata": {
        "id": "gcw71nOoP1q_"
      },
      "id": "gcw71nOoP1q_"
    },
    {
      "cell_type": "code",
      "source": [
        "def gen_batches_cbow(sentences, window=5, batch_size=1000):\n",
        "\n",
        "    # параметр window задает его целиком\n",
        "    # нам нужно поделить его пополам на левую и правую часть\n",
        "    # когда делится неровно, то левая часть больше на 1\n",
        "    left_context_length = (window/2).__ceil__() # округлить в большую сторону\n",
        "    right_context_length = window // 2 # округлить в меньшую сторону\n",
        "\n",
        "    while True:\n",
        "        X_target = []\n",
        "        X_context = []\n",
        "        y = []\n",
        "\n",
        "        for sent in sentences:\n",
        "            for i in range(len(sent)-1):\n",
        "                word = sent[i]\n",
        "                context = (sent[max(0, i-left_context_length):i] +\n",
        "                           sent[i+1:i+right_context_length])\n",
        "\n",
        "                X_target.append(word)\n",
        "                X_context.append(context)\n",
        "                y.append(1)\n",
        "\n",
        "                X_target.append(np.random.randint(vocab_size))\n",
        "                X_context.append(context)\n",
        "                y.append(0)\n",
        "\n",
        "                if len(X_target) == batch_size:\n",
        "                    X_target = np.array(X_target)\n",
        "                    X_context = keras.preprocessing.sequence.pad_sequences(\n",
        "                        X_context,\n",
        "                        maxlen=window\n",
        "                    )\n",
        "                    y = np.array(y)\n",
        "                    yield ((X_target, X_context), y)\n",
        "                    X_target = []\n",
        "                    X_context = []\n",
        "                    y = []"
      ],
      "metadata": {
        "id": "AGMvsZnNP1Pt"
      },
      "id": "AGMvsZnNP1Pt",
      "execution_count": 16,
      "outputs": []
    },
    {
      "cell_type": "code",
      "source": [
        "#cbow negative sampling\n",
        "inputs_target = keras.layers.Input(shape=(1,))\n",
        "inputs_context = keras.layers.Input(shape=(7,))\n",
        "\n",
        "\n",
        "embeddings_target = keras.layers.Embedding(input_dim=len(mapper.word2id),\n",
        "                                           output_dim=400)(inputs_target, )\n",
        "embeddings_context = keras.layers.Embedding(input_dim=len(mapper.word2id),\n",
        "                                            output_dim=400)(inputs_context, )\n",
        "\n",
        "target = keras.layers.Flatten()(embeddings_target)\n",
        "context = keras.layers.Lambda(\n",
        "    lambda x: tf.reduce_sum(x, axis=1), output_shape=(400,))(embeddings_context)\n",
        "dot = keras.layers.Dot(1)([target, context])\n",
        "\n",
        "# полученную близость нужно преобразовать в вероятность\n",
        "# когда она одна используется не софтмакс и сигмоида\n",
        "outputs = keras.layers.Activation(activation=\"sigmoid\")(dot)\n",
        "\n",
        "model = keras.Model(inputs=[inputs_target, inputs_context],\n",
        "                       outputs=outputs)\n",
        "\n",
        "\n",
        "optimizer = keras.optimizers.Adam(learning_rate=0.001)\n",
        "model.compile(optimizer=optimizer,\n",
        "              loss=\"binary_crossentropy\",\n",
        "              metrics=[\"accuracy\"])"
      ],
      "metadata": {
        "id": "Lm5vqjxyQVhg"
      },
      "id": "Lm5vqjxyQVhg",
      "execution_count": 17,
      "outputs": []
    },
    {
      "cell_type": "code",
      "source": [
        "model.build([(None, 1), (None, 7)])"
      ],
      "metadata": {
        "id": "dQN9L_k-QW43"
      },
      "id": "dQN9L_k-QW43",
      "execution_count": 18,
      "outputs": []
    },
    {
      "cell_type": "markdown",
      "source": [
        "Больше 5 эпох начинает переобучаться"
      ],
      "metadata": {
        "id": "WqCMqzFO5ckl"
      },
      "id": "WqCMqzFO5ckl"
    },
    {
      "cell_type": "code",
      "source": [
        "model.fit(gen_batches_cbow(mapper.sentences[:19000], window=7),\n",
        "          validation_data=gen_batches_cbow(mapper.sentences[19000:], window=7),\n",
        "          batch_size=1000,\n",
        "          steps_per_epoch=5000,\n",
        "          validation_steps=30,\n",
        "          epochs=5)"
      ],
      "metadata": {
        "id": "jBukn11iQXyx",
        "colab": {
          "base_uri": "https://localhost:8080/"
        },
        "outputId": "23dacccb-2e86-4037-c30d-89458e28f362"
      },
      "id": "jBukn11iQXyx",
      "execution_count": 19,
      "outputs": [
        {
          "output_type": "stream",
          "name": "stdout",
          "text": [
            "Epoch 1/5\n",
            "\u001b[1m5000/5000\u001b[0m \u001b[32m━━━━━━━━━━━━━━━━━━━━\u001b[0m\u001b[37m\u001b[0m \u001b[1m42s\u001b[0m 8ms/step - accuracy: 0.8189 - loss: 0.4059 - val_accuracy: 0.8789 - val_loss: 0.2951\n",
            "Epoch 2/5\n",
            "\u001b[1m5000/5000\u001b[0m \u001b[32m━━━━━━━━━━━━━━━━━━━━\u001b[0m\u001b[37m\u001b[0m \u001b[1m42s\u001b[0m 8ms/step - accuracy: 0.8851 - loss: 0.2806 - val_accuracy: 0.8971 - val_loss: 0.2521\n",
            "Epoch 3/5\n",
            "\u001b[1m5000/5000\u001b[0m \u001b[32m━━━━━━━━━━━━━━━━━━━━\u001b[0m\u001b[37m\u001b[0m \u001b[1m40s\u001b[0m 8ms/step - accuracy: 0.9120 - loss: 0.2171 - val_accuracy: 0.8955 - val_loss: 0.2637\n",
            "Epoch 4/5\n",
            "\u001b[1m5000/5000\u001b[0m \u001b[32m━━━━━━━━━━━━━━━━━━━━\u001b[0m\u001b[37m\u001b[0m \u001b[1m38s\u001b[0m 8ms/step - accuracy: 0.9235 - loss: 0.1918 - val_accuracy: 0.9059 - val_loss: 0.2431\n",
            "Epoch 5/5\n",
            "\u001b[1m5000/5000\u001b[0m \u001b[32m━━━━━━━━━━━━━━━━━━━━\u001b[0m\u001b[37m\u001b[0m \u001b[1m39s\u001b[0m 8ms/step - accuracy: 0.9344 - loss: 0.1687 - val_accuracy: 0.8841 - val_loss: 0.3125\n"
          ]
        },
        {
          "output_type": "execute_result",
          "data": {
            "text/plain": [
              "<keras.src.callbacks.history.History at 0x7a1d143a34c0>"
            ]
          },
          "metadata": {},
          "execution_count": 19
        }
      ]
    },
    {
      "cell_type": "code",
      "source": [
        "plt.plot(model.history.history[\"loss\"])\n",
        "plt.plot(model.history.history[\"val_loss\"])\n",
        "plt.title(\"model loss\")\n",
        "plt.ylabel(\"loss\")\n",
        "plt.xlabel(\"epoch\")\n",
        "plt.legend([\"train\", \"val\"], loc=\"upper left\")\n",
        "plt.show()"
      ],
      "metadata": {
        "id": "6kq7Q5SE252U",
        "colab": {
          "base_uri": "https://localhost:8080/",
          "height": 472
        },
        "outputId": "634da7b6-493a-4c96-8c8a-3eac42b22a85"
      },
      "id": "6kq7Q5SE252U",
      "execution_count": 20,
      "outputs": [
        {
          "output_type": "display_data",
          "data": {
            "text/plain": [
              "<Figure size 640x480 with 1 Axes>"
            ],
            "image/png": "[encoded data removed]"
          },
          "metadata": {}
        }
      ]
    },
    {
      "cell_type": "code",
      "source": [
        "embeddings = model.layers[2].get_weights()[0]\n",
        "most_similar(\"красный\", mapper, embeddings)"
      ],
      "metadata": {
        "id": "7rdBvmRLQhPY",
        "colab": {
          "base_uri": "https://localhost:8080/"
        },
        "outputId": "ccae5c2a-35ce-4677-9193-fb6b284cb2f9"
      },
      "id": "7rdBvmRLQhPY",
      "execution_count": 21,
      "outputs": [
        {
          "output_type": "execute_result",
          "data": {
            "text/plain": [
              "['красный',\n",
              " 'жёлтый',\n",
              " 'белый',\n",
              " 'чёрный',\n",
              " 'голубой',\n",
              " 'зелёный',\n",
              " 'посередине',\n",
              " 'синий',\n",
              " 'серый',\n",
              " 'розовый']"
            ]
          },
          "metadata": {},
          "execution_count": 21
        }
      ]
    },
    {
      "cell_type": "code",
      "source": [
        "most_similar(\"улица\", mapper, embeddings)"
      ],
      "metadata": {
        "id": "qeXBpJxdRqyW",
        "colab": {
          "base_uri": "https://localhost:8080/"
        },
        "outputId": "40876d43-e50e-424d-957e-922450e17e16"
      },
      "id": "qeXBpJxdRqyW",
      "execution_count": 22,
      "outputs": [
        {
          "output_type": "execute_result",
          "data": {
            "text/plain": [
              "['улица',\n",
              " 'проспект',\n",
              " 'набережная',\n",
              " 'переулок',\n",
              " 'бульвар',\n",
              " 'площадь',\n",
              " 'ул',\n",
              " 'сквер',\n",
              " 'шоссе',\n",
              " 'мост']"
            ]
          },
          "metadata": {},
          "execution_count": 22
        }
      ]
    },
    {
      "cell_type": "code",
      "source": [
        "most_similar(\"должность\", mapper, embeddings)"
      ],
      "metadata": {
        "id": "fAx6Az1IRw8K",
        "colab": {
          "base_uri": "https://localhost:8080/"
        },
        "outputId": "82bb31dd-a297-4a78-e1d4-171587594e37"
      },
      "id": "fAx6Az1IRw8K",
      "execution_count": 23,
      "outputs": [
        {
          "output_type": "execute_result",
          "data": {
            "text/plain": [
              "['должность',\n",
              " 'пост',\n",
              " 'заместитель',\n",
              " 'назначить',\n",
              " 'помощник',\n",
              " 'советник',\n",
              " 'назначаться',\n",
              " 'полномочие',\n",
              " 'назначение',\n",
              " 'секретарь']"
            ]
          },
          "metadata": {},
          "execution_count": 23
        }
      ]
    },
    {
      "cell_type": "markdown",
      "id": "c3b61b7c",
      "metadata": {
        "id": "c3b61b7c"
      },
      "source": [
        "# Задание 2 (2 балла)"
      ]
    },
    {
      "cell_type": "markdown",
      "id": "66eff080",
      "metadata": {
        "id": "66eff080"
      },
      "source": [
        "Обучите 1 word2vec и 1 fastext модель в gensim. В каждой из модели нужно задать все параметры, которые мы разбирали на семинаре. Заданные значения должны отличаться от дефолтных и от тех, что мы использовали на семинаре."
      ]
    },
    {
      "cell_type": "code",
      "execution_count": 24,
      "id": "e5035bdc",
      "metadata": {
        "id": "e5035bdc",
        "colab": {
          "base_uri": "https://localhost:8080/"
        },
        "outputId": "13479968-1dec-4f7c-a125-06017a03c106"
      },
      "outputs": [
        {
          "output_type": "stream",
          "name": "stdout",
          "text": [
            "CPU times: user 1min 52s, sys: 699 ms, total: 1min 53s\n",
            "Wall time: 1min 12s\n"
          ]
        }
      ],
      "source": [
        "%%time\n",
        "w2v_model = gensim.models.Word2Vec(\n",
        "    mapper.lemmatized_sents,\n",
        "    vector_size=400,\n",
        "    min_count=35,\n",
        "    max_vocab_size=12000,\n",
        "    window=7,\n",
        "    epochs=10,\n",
        "    sg=0,\n",
        "    hs=0,\n",
        "    negative=7,\n",
        "    sample=1e-4,\n",
        "    ns_exponent=0.5,\n",
        "    cbow_mean=0\n",
        ")"
      ]
    },
    {
      "cell_type": "code",
      "source": [
        "w2v_model.wv.most_similar(\"красный\")"
      ],
      "metadata": {
        "id": "honZvy7Oihw7",
        "colab": {
          "base_uri": "https://localhost:8080/"
        },
        "outputId": "01023cae-b56e-486a-c185-cd8b5c47852a"
      },
      "id": "honZvy7Oihw7",
      "execution_count": 25,
      "outputs": [
        {
          "output_type": "execute_result",
          "data": {
            "text/plain": [
              "[('жёлтый', 0.9062595367431641),\n",
              " ('зелёный', 0.8890085816383362),\n",
              " ('цвет', 0.8883638381958008),\n",
              " ('белый', 0.8865311145782471),\n",
              " ('знамя', 0.8806585073471069),\n",
              " ('площадь', 0.8776779770851135),\n",
              " ('листоед', 0.8754782676696777),\n",
              " ('житомирский', 0.8751746416091919),\n",
              " ('в', 0.8749208450317383),\n",
              " ('район', 0.8746379613876343)]"
            ]
          },
          "metadata": {},
          "execution_count": 25
        }
      ]
    },
    {
      "cell_type": "code",
      "source": [
        "w2v_model.wv.most_similar(\"улица\")"
      ],
      "metadata": {
        "id": "bkMbf5p441mO",
        "colab": {
          "base_uri": "https://localhost:8080/"
        },
        "outputId": "9d7dfdf2-ee03-4527-8417-e26c98467ba6"
      },
      "id": "bkMbf5p441mO",
      "execution_count": 26,
      "outputs": [
        {
          "output_type": "execute_result",
          "data": {
            "text/plain": [
              "[('переулок', 0.9301033616065979),\n",
              " ('проспект', 0.9201071262359619),\n",
              " ('ул', 0.900672972202301),\n",
              " ('олимпийский', 0.8993903398513794),\n",
              " ('проезд', 0.8986828327178955),\n",
              " ('район', 0.8965555429458618),\n",
              " ('игра', 0.8959282636642456),\n",
              " ('житомирский', 0.8947595357894897),\n",
              " ('хутор', 0.8945783376693726),\n",
              " ('танковый', 0.8939675092697144)]"
            ]
          },
          "metadata": {},
          "execution_count": 26
        }
      ]
    },
    {
      "cell_type": "code",
      "source": [
        "w2v_model.wv.most_similar(\"должность\")"
      ],
      "metadata": {
        "id": "lFuWG-5442TV",
        "colab": {
          "base_uri": "https://localhost:8080/"
        },
        "outputId": "71058028-88c7-44c8-af76-f9d9b36b5da6"
      },
      "id": "lFuWG-5442TV",
      "execution_count": 27,
      "outputs": [
        {
          "output_type": "execute_result",
          "data": {
            "text/plain": [
              "[('пост', 0.9037705659866333),\n",
              " ('заместитель', 0.8789244294166565),\n",
              " ('назначить', 0.8781725764274597),\n",
              " ('помощник', 0.8705217242240906),\n",
              " ('код', 0.8666819334030151),\n",
              " ('кафедра', 0.8665093183517456),\n",
              " ('км²', 0.8655017614364624),\n",
              " ('индекс', 0.8621687293052673),\n",
              " ('телефонный', 0.8610738515853882),\n",
              " ('—', 0.8608745336532593)]"
            ]
          },
          "metadata": {},
          "execution_count": 27
        }
      ]
    },
    {
      "cell_type": "code",
      "source": [
        "%%time\n",
        "ft_model = gensim.models.FastText(\n",
        "    mapper.lemmatized_sents,\n",
        "    vector_size=400,\n",
        "    min_count=35,\n",
        "    max_vocab_size=12000,\n",
        "    window=7,\n",
        "    epochs=10,\n",
        "    sg=0,\n",
        "    hs=0,\n",
        "    negative=7,\n",
        "    sample=1e-4,\n",
        "    ns_exponent=0.5,\n",
        "    cbow_mean=0,\n",
        "    min_n=4,\n",
        "    max_n=7\n",
        ")"
      ],
      "metadata": {
        "id": "_GtUsqZ2ixyY",
        "colab": {
          "base_uri": "https://localhost:8080/"
        },
        "outputId": "34a699e5-8c52-4cd4-be75-882c2dded680"
      },
      "id": "_GtUsqZ2ixyY",
      "execution_count": 28,
      "outputs": [
        {
          "output_type": "stream",
          "name": "stdout",
          "text": [
            "CPU times: user 13min 32s, sys: 2.65 s, total: 13min 34s\n",
            "Wall time: 8min 23s\n"
          ]
        }
      ]
    },
    {
      "cell_type": "code",
      "source": [
        "ft_model.wv.most_similar(\"красный\")"
      ],
      "metadata": {
        "id": "pmIoi31W7P5k",
        "colab": {
          "base_uri": "https://localhost:8080/"
        },
        "outputId": "e4f51e9d-4138-4e86-942a-e8c131c2f3c0"
      },
      "id": "pmIoi31W7P5k",
      "execution_count": 29,
      "outputs": [
        {
          "output_type": "execute_result",
          "data": {
            "text/plain": [
              "[('зелёный', 0.8911484479904175),\n",
              " ('чёрный', 0.8910999894142151),\n",
              " ('нить', 0.8882411122322083),\n",
              " ('опасный', 0.8869094252586365),\n",
              " ('тёмный', 0.8840346932411194),\n",
              " ('полезный', 0.8833872079849243),\n",
              " ('романовский', 0.882720410823822),\n",
              " ('старинный', 0.8824141025543213),\n",
              " ('мать', 0.8817525506019592),\n",
              " ('житомирский', 0.8815016746520996)]"
            ]
          },
          "metadata": {},
          "execution_count": 29
        }
      ]
    },
    {
      "cell_type": "code",
      "source": [
        "ft_model.wv.most_similar(\"улица\")"
      ],
      "metadata": {
        "id": "G2pUf3AD7Rs-",
        "colab": {
          "base_uri": "https://localhost:8080/"
        },
        "outputId": "b4797ef1-ba9c-4a4c-ec64-1c8207f0ce43"
      },
      "id": "G2pUf3AD7Rs-",
      "execution_count": 30,
      "outputs": [
        {
          "output_type": "execute_result",
          "data": {
            "text/plain": [
              "[('проезд', 0.9168583750724792),\n",
              " ('переулок', 0.9101479053497314),\n",
              " ('проспект', 0.9098579287528992),\n",
              " ('2001', 0.890173077583313),\n",
              " ('игра', 0.8882927298545837),\n",
              " ('село', 0.8877872824668884),\n",
              " ('дочь', 0.8874737024307251),\n",
              " ('овручский', 0.8864575028419495),\n",
              " ('2000', 0.8862717151641846),\n",
              " ('район', 0.8856457471847534)]"
            ]
          },
          "metadata": {},
          "execution_count": 30
        }
      ]
    },
    {
      "cell_type": "code",
      "source": [
        "ft_model.wv.most_similar(\"должность\")"
      ],
      "metadata": {
        "id": "yt2RsqbW7R-e",
        "colab": {
          "base_uri": "https://localhost:8080/"
        },
        "outputId": "41e8d245-db16-4586-fb72-a01a0b0ca396"
      },
      "id": "yt2RsqbW7R-e",
      "execution_count": 31,
      "outputs": [
        {
          "output_type": "execute_result",
          "data": {
            "text/plain": [
              "[('николаевский', 0.8726380467414856),\n",
              " ('назначить', 0.8713619709014893),\n",
              " ('александровский', 0.8707780838012695),\n",
              " ('брать', 0.8703912496566772),\n",
              " ('стать', 0.8688452243804932),\n",
              " ('пермский', 0.867543637752533),\n",
              " ('олимпийский', 0.8670338988304138),\n",
              " ('должный', 0.8669309616088867),\n",
              " ('коростенский', 0.8648614883422852),\n",
              " ('свердловский', 0.8627920746803284)]"
            ]
          },
          "metadata": {},
          "execution_count": 31
        }
      ]
    },
    {
      "cell_type": "markdown",
      "id": "e4bb928c",
      "metadata": {
        "id": "e4bb928c"
      },
      "source": [
        "# Задание 3 (3 балла)"
      ]
    },
    {
      "cell_type": "markdown",
      "id": "3019b0d1",
      "metadata": {
        "id": "3019b0d1"
      },
      "source": [
        "Используя датасет для классификации (labeled.csv), обучите классификатор на базе эмбеддингов. Оцените качество на отложенной выборке.   \n",
        "В качестве эмбеддинг модели вы можете использовать одну из моделей обученных в предыдущем задании или использовать одну из предобученных моделей с rusvectores (удостоверьтесь что правильно воспроизводите предобработку в этом случае!)  \n",
        "Для того, чтобы построить эмбединг целого текста, усредните вектора отдельных слов в один общий вектор.\n",
        "В качестве алгоритма классификации используйте LogisicticRegression (можете попробовать SGDClassifier, чтобы было побыстрее)  \n",
        "F1 мера должна быть выше 20%."
      ]
    },
    {
      "cell_type": "code",
      "execution_count": 32,
      "id": "ed908832",
      "metadata": {
        "id": "ed908832",
        "colab": {
          "base_uri": "https://localhost:8080/",
          "height": 104,
          "referenced_widgets": [
            "b7e09446f24d4ef3a59cd07eb7a804bc",
            "a0bc90fbc53b4e29a21bda9cb518bdcc",
            "518360ad72e8497a9f1250029ba13c2c",
            "b25d300c0f974a3a87702eaa1f6fd113",
            "18bce61a77fa47a5965163e89572c64d",
            "b46ca4f6da514ae6b01c1eb17bc63908",
            "e899a088b1a549c09da583f0a0a93591",
            "0d51787b88444913aa4120d33e6e462f",
            "ef1b63a69cc5445b9aac870043a212d6",
            "67324a0cc9c342478b539a85006f289c",
            "550080f293b0448ab170134be3e0b571"
          ]
        },
        "outputId": "0214b413-709f-4bb1-aa54-9160b3b732d7"
      },
      "outputs": [
        {
          "output_type": "stream",
          "name": "stderr",
          "text": [
            "/usr/local/lib/python3.10/dist-packages/spacy/util.py:1740: UserWarning: [W111] Jupyter notebook detected: if using `prefer_gpu()` or `require_gpu()`, include it in the same cell right before `spacy.load()` to ensure that the model is loaded on the correct device. More information: http://spacy.io/usage/v3#jupyter-notebook-gpu\n",
            "  warnings.warn(Warnings.W111)\n"
          ]
        },
        {
          "output_type": "display_data",
          "data": {
            "text/plain": [
              "Creating vocab:   0%|          | 0/14412 [00:00<?, ?it/s]"
            ],
            "application/vnd.jupyter.widget-view+json": {
              "version_major": 2,
              "version_minor": 0,
              "model_id": "b7e09446f24d4ef3a59cd07eb7a804bc"
            }
          },
          "metadata": {}
        }
      ],
      "source": [
        "data = pd.read_csv(\"labeled.csv\")\n",
        "mapper_for_labeled = WordIDMapper(corpus=data[\"comment\"])"
      ]
    },
    {
      "cell_type": "code",
      "source": [
        "labels = np.array(data[\"toxic\"])\n",
        "texts = mapper_for_labeled.lemmatized_sents\n",
        "\n",
        "embeddings = np.zeros((len(texts), w2v_model.vector_size))\n",
        "for i, text in enumerate(texts):\n",
        "    word_embeddings = [\n",
        "        w2v_model.wv[word] for word in text if word in w2v_model.wv\n",
        "    ]\n",
        "    if word_embeddings:\n",
        "        embeddings[i] = np.mean(word_embeddings, axis=0)\n",
        "\n",
        "X_train, X_test, y_train, y_test = train_test_split(\n",
        "    embeddings, labels, test_size=0.2, random_state=42\n",
        ")"
      ],
      "metadata": {
        "id": "isXyMQlK8LZE"
      },
      "id": "isXyMQlK8LZE",
      "execution_count": 33,
      "outputs": []
    },
    {
      "cell_type": "code",
      "source": [
        "classifier = LogisticRegression(random_state=42)\n",
        "classifier.fit(X_train, y_train)\n",
        "preds = classifier.predict(X_test)\n",
        "print(classification_report(y_test, preds, zero_division=0, digits=4))"
      ],
      "metadata": {
        "id": "qkI67-aP-jPf",
        "colab": {
          "base_uri": "https://localhost:8080/"
        },
        "outputId": "30c26fc2-8ff7-49aa-dbec-78d9bae7c71a"
      },
      "id": "qkI67-aP-jPf",
      "execution_count": 34,
      "outputs": [
        {
          "output_type": "stream",
          "name": "stdout",
          "text": [
            "              precision    recall  f1-score   support\n",
            "\n",
            "         0.0     0.7597    0.9321    0.8371      1944\n",
            "         1.0     0.7349    0.3898    0.5094       939\n",
            "\n",
            "    accuracy                         0.7555      2883\n",
            "   macro avg     0.7473    0.6609    0.6733      2883\n",
            "weighted avg     0.7517    0.7555    0.7304      2883\n",
            "\n"
          ]
        }
      ]
    },
    {
      "cell_type": "markdown",
      "id": "60c18c5a",
      "metadata": {
        "id": "60c18c5a"
      },
      "source": [
        "# Задание 4 (2 доп балла)\n",
        "\n",
        "В тетрадку с фастекстом добавьте код для обучения с negative sampling (задача сводится к бинарной классификации) и обучите модель. Проверьте полученную модель на нескольких словах. Похожие слова должны быть похожими по смыслу и по форме."
      ]
    }
  ],
  "metadata": {
    "kernelspec": {
      "display_name": "Python 3",
      "name": "python3"
    },
    "language_info": {
      "codemirror_mode": {
        "name": "ipython",
        "version": 3
      },
      "file_extension": ".py",
      "mimetype": "text/x-python",
      "name": "python",
      "nbconvert_exporter": "python",
      "pygments_lexer": "ipython3",
      "version": "3.11.7"
    },
    "colab": {
      "provenance": [],
      "gpuType": "T4"
    },
    "accelerator": "GPU",
    "widgets": {
      "application/vnd.jupyter.widget-state+json": {
        "756b7bb1c6814bd9b33524b53671d870": {
          "model_module": "@jupyter-widgets/controls",
          "model_name": "HBoxModel",
          "model_module_version": "1.5.0",
          "state": {
            "_dom_classes": [],
            "_model_module": "@jupyter-widgets/controls",
            "_model_module_version": "1.5.0",
            "_model_name": "HBoxModel",
            "_view_count": null,
            "_view_module": "@jupyter-widgets/controls",
            "_view_module_version": "1.5.0",
            "_view_name": "HBoxView",
            "box_style": "",
            "children": [
              "IPY_MODEL_fa2ed6988eb542fa896ade9514ae6e1d",
              "IPY_MODEL_3f4c381935554156bb01a8182662f964",
              "IPY_MODEL_c398cf6d04ef45fcafba8967dc0fc719"
            ],
            "layout": "IPY_MODEL_68ed9a02b4a043d2bc16c1043856506c"
          }
        },
        "fa2ed6988eb542fa896ade9514ae6e1d": {
          "model_module": "@jupyter-widgets/controls",
          "model_name": "HTMLModel",
          "model_module_version": "1.5.0",
          "state": {
            "_dom_classes": [],
            "_model_module": "@jupyter-widgets/controls",
            "_model_module_version": "1.5.0",
            "_model_name": "HTMLModel",
            "_view_count": null,
            "_view_module": "@jupyter-widgets/controls",
            "_view_module_version": "1.5.0",
            "_view_name": "HTMLView",
            "description": "",
            "description_tooltip": null,
            "layout": "IPY_MODEL_e8ab145ee8a343b497d35d47c642358e",
            "placeholder": "​",
            "style": "IPY_MODEL_a0d2f90007ce40fa8b84b848fd812fa0",
            "value": "Creating vocab: 100%"
          }
        },
        "3f4c381935554156bb01a8182662f964": {
          "model_module": "@jupyter-widgets/controls",
          "model_name": "FloatProgressModel",
          "model_module_version": "1.5.0",
          "state": {
            "_dom_classes": [],
            "_model_module": "@jupyter-widgets/controls",
            "_model_module_version": "1.5.0",
            "_model_name": "FloatProgressModel",
            "_view_count": null,
            "_view_module": "@jupyter-widgets/controls",
            "_view_module_version": "1.5.0",
            "_view_name": "ProgressView",
            "bar_style": "success",
            "description": "",
            "description_tooltip": null,
            "layout": "IPY_MODEL_c2481722437f41298917f2f31cf133e3",
            "max": 20003,
            "min": 0,
            "orientation": "horizontal",
            "style": "IPY_MODEL_5d1dbb5737f040be995d6cd114368bf2",
            "value": 20003
          }
        },
        "c398cf6d04ef45fcafba8967dc0fc719": {
          "model_module": "@jupyter-widgets/controls",
          "model_name": "HTMLModel",
          "model_module_version": "1.5.0",
          "state": {
            "_dom_classes": [],
            "_model_module": "@jupyter-widgets/controls",
            "_model_module_version": "1.5.0",
            "_model_name": "HTMLModel",
            "_view_count": null,
            "_view_module": "@jupyter-widgets/controls",
            "_view_module_version": "1.5.0",
            "_view_name": "HTMLView",
            "description": "",
            "description_tooltip": null,
            "layout": "IPY_MODEL_9ecd075ca0044810b63630c02a747113",
            "placeholder": "​",
            "style": "IPY_MODEL_ecb2b4219d4d4439b1bb53a192dc7359",
            "value": " 20003/20003 [42:30&lt;00:00,  1.83it/s]"
          }
        },
        "68ed9a02b4a043d2bc16c1043856506c": {
          "model_module": "@jupyter-widgets/base",
          "model_name": "LayoutModel",
          "model_module_version": "1.2.0",
          "state": {
            "_model_module": "@jupyter-widgets/base",
            "_model_module_version": "1.2.0",
            "_model_name": "LayoutModel",
            "_view_count": null,
            "_view_module": "@jupyter-widgets/base",
            "_view_module_version": "1.2.0",
            "_view_name": "LayoutView",
            "align_content": null,
            "align_items": null,
            "align_self": null,
            "border": null,
            "bottom": null,
            "display": null,
            "flex": null,
            "flex_flow": null,
            "grid_area": null,
            "grid_auto_columns": null,
            "grid_auto_flow": null,
            "grid_auto_rows": null,
            "grid_column": null,
            "grid_gap": null,
            "grid_row": null,
            "grid_template_areas": null,
            "grid_template_columns": null,
            "grid_template_rows": null,
            "height": null,
            "justify_content": null,
            "justify_items": null,
            "left": null,
            "margin": null,
            "max_height": null,
            "max_width": null,
            "min_height": null,
            "min_width": null,
            "object_fit": null,
            "object_position": null,
            "order": null,
            "overflow": null,
            "overflow_x": null,
            "overflow_y": null,
            "padding": null,
            "right": null,
            "top": null,
            "visibility": null,
            "width": null
          }
        },
        "e8ab145ee8a343b497d35d47c642358e": {
          "model_module": "@jupyter-widgets/base",
          "model_name": "LayoutModel",
          "model_module_version": "1.2.0",
          "state": {
            "_model_module": "@jupyter-widgets/base",
            "_model_module_version": "1.2.0",
            "_model_name": "LayoutModel",
            "_view_count": null,
            "_view_module": "@jupyter-widgets/base",
            "_view_module_version": "1.2.0",
            "_view_name": "LayoutView",
            "align_content": null,
            "align_items": null,
            "align_self": null,
            "border": null,
            "bottom": null,
            "display": null,
            "flex": null,
            "flex_flow": null,
            "grid_area": null,
            "grid_auto_columns": null,
            "grid_auto_flow": null,
            "grid_auto_rows": null,
            "grid_column": null,
            "grid_gap": null,
            "grid_row": null,
            "grid_template_areas": null,
            "grid_template_columns": null,
            "grid_template_rows": null,
            "height": null,
            "justify_content": null,
            "justify_items": null,
            "left": null,
            "margin": null,
            "max_height": null,
            "max_width": null,
            "min_height": null,
            "min_width": null,
            "object_fit": null,
            "object_position": null,
            "order": null,
            "overflow": null,
            "overflow_x": null,
            "overflow_y": null,
            "padding": null,
            "right": null,
            "top": null,
            "visibility": null,
            "width": null
          }
        },
        "a0d2f90007ce40fa8b84b848fd812fa0": {
          "model_module": "@jupyter-widgets/controls",
          "model_name": "DescriptionStyleModel",
          "model_module_version": "1.5.0",
          "state": {
            "_model_module": "@jupyter-widgets/controls",
            "_model_module_version": "1.5.0",
            "_model_name": "DescriptionStyleModel",
            "_view_count": null,
            "_view_module": "@jupyter-widgets/base",
            "_view_module_version": "1.2.0",
            "_view_name": "StyleView",
            "description_width": ""
          }
        },
        "c2481722437f41298917f2f31cf133e3": {
          "model_module": "@jupyter-widgets/base",
          "model_name": "LayoutModel",
          "model_module_version": "1.2.0",
          "state": {
            "_model_module": "@jupyter-widgets/base",
            "_model_module_version": "1.2.0",
            "_model_name": "LayoutModel",
            "_view_count": null,
            "_view_module": "@jupyter-widgets/base",
            "_view_module_version": "1.2.0",
            "_view_name": "LayoutView",
            "align_content": null,
            "align_items": null,
            "align_self": null,
            "border": null,
            "bottom": null,
            "display": null,
            "flex": null,
            "flex_flow": null,
            "grid_area": null,
            "grid_auto_columns": null,
            "grid_auto_flow": null,
            "grid_auto_rows": null,
            "grid_column": null,
            "grid_gap": null,
            "grid_row": null,
            "grid_template_areas": null,
            "grid_template_columns": null,
            "grid_template_rows": null,
            "height": null,
            "justify_content": null,
            "justify_items": null,
            "left": null,
            "margin": null,
            "max_height": null,
            "max_width": null,
            "min_height": null,
            "min_width": null,
            "object_fit": null,
            "object_position": null,
            "order": null,
            "overflow": null,
            "overflow_x": null,
            "overflow_y": null,
            "padding": null,
            "right": null,
            "top": null,
            "visibility": null,
            "width": null
          }
        },
        "5d1dbb5737f040be995d6cd114368bf2": {
          "model_module": "@jupyter-widgets/controls",
          "model_name": "ProgressStyleModel",
          "model_module_version": "1.5.0",
          "state": {
            "_model_module": "@jupyter-widgets/controls",
            "_model_module_version": "1.5.0",
            "_model_name": "ProgressStyleModel",
            "_view_count": null,
            "_view_module": "@jupyter-widgets/base",
            "_view_module_version": "1.2.0",
            "_view_name": "StyleView",
            "bar_color": null,
            "description_width": ""
          }
        },
        "9ecd075ca0044810b63630c02a747113": {
          "model_module": "@jupyter-widgets/base",
          "model_name": "LayoutModel",
          "model_module_version": "1.2.0",
          "state": {
            "_model_module": "@jupyter-widgets/base",
            "_model_module_version": "1.2.0",
            "_model_name": "LayoutModel",
            "_view_count": null,
            "_view_module": "@jupyter-widgets/base",
            "_view_module_version": "1.2.0",
            "_view_name": "LayoutView",
            "align_content": null,
            "align_items": null,
            "align_self": null,
            "border": null,
            "bottom": null,
            "display": null,
            "flex": null,
            "flex_flow": null,
            "grid_area": null,
            "grid_auto_columns": null,
            "grid_auto_flow": null,
            "grid_auto_rows": null,
            "grid_column": null,
            "grid_gap": null,
            "grid_row": null,
            "grid_template_areas": null,
            "grid_template_columns": null,
            "grid_template_rows": null,
            "height": null,
            "justify_content": null,
            "justify_items": null,
            "left": null,
            "margin": null,
            "max_height": null,
            "max_width": null,
            "min_height": null,
            "min_width": null,
            "object_fit": null,
            "object_position": null,
            "order": null,
            "overflow": null,
            "overflow_x": null,
            "overflow_y": null,
            "padding": null,
            "right": null,
            "top": null,
            "visibility": null,
            "width": null
          }
        },
        "ecb2b4219d4d4439b1bb53a192dc7359": {
          "model_module": "@jupyter-widgets/controls",
          "model_name": "DescriptionStyleModel",
          "model_module_version": "1.5.0",
          "state": {
            "_model_module": "@jupyter-widgets/controls",
            "_model_module_version": "1.5.0",
            "_model_name": "DescriptionStyleModel",
            "_view_count": null,
            "_view_module": "@jupyter-widgets/base",
            "_view_module_version": "1.2.0",
            "_view_name": "StyleView",
            "description_width": ""
          }
        },
        "b7e09446f24d4ef3a59cd07eb7a804bc": {
          "model_module": "@jupyter-widgets/controls",
          "model_name": "HBoxModel",
          "model_module_version": "1.5.0",
          "state": {
            "_dom_classes": [],
            "_model_module": "@jupyter-widgets/controls",
            "_model_module_version": "1.5.0",
            "_model_name": "HBoxModel",
            "_view_count": null,
            "_view_module": "@jupyter-widgets/controls",
            "_view_module_version": "1.5.0",
            "_view_name": "HBoxView",
            "box_style": "",
            "children": [
              "IPY_MODEL_a0bc90fbc53b4e29a21bda9cb518bdcc",
              "IPY_MODEL_518360ad72e8497a9f1250029ba13c2c",
              "IPY_MODEL_b25d300c0f974a3a87702eaa1f6fd113"
            ],
            "layout": "IPY_MODEL_18bce61a77fa47a5965163e89572c64d"
          }
        },
        "a0bc90fbc53b4e29a21bda9cb518bdcc": {
          "model_module": "@jupyter-widgets/controls",
          "model_name": "HTMLModel",
          "model_module_version": "1.5.0",
          "state": {
            "_dom_classes": [],
            "_model_module": "@jupyter-widgets/controls",
            "_model_module_version": "1.5.0",
            "_model_name": "HTMLModel",
            "_view_count": null,
            "_view_module": "@jupyter-widgets/controls",
            "_view_module_version": "1.5.0",
            "_view_name": "HTMLView",
            "description": "",
            "description_tooltip": null,
            "layout": "IPY_MODEL_b46ca4f6da514ae6b01c1eb17bc63908",
            "placeholder": "​",
            "style": "IPY_MODEL_e899a088b1a549c09da583f0a0a93591",
            "value": "Creating vocab: 100%"
          }
        },
        "518360ad72e8497a9f1250029ba13c2c": {
          "model_module": "@jupyter-widgets/controls",
          "model_name": "FloatProgressModel",
          "model_module_version": "1.5.0",
          "state": {
            "_dom_classes": [],
            "_model_module": "@jupyter-widgets/controls",
            "_model_module_version": "1.5.0",
            "_model_name": "FloatProgressModel",
            "_view_count": null,
            "_view_module": "@jupyter-widgets/controls",
            "_view_module_version": "1.5.0",
            "_view_name": "ProgressView",
            "bar_style": "success",
            "description": "",
            "description_tooltip": null,
            "layout": "IPY_MODEL_0d51787b88444913aa4120d33e6e462f",
            "max": 14412,
            "min": 0,
            "orientation": "horizontal",
            "style": "IPY_MODEL_ef1b63a69cc5445b9aac870043a212d6",
            "value": 14412
          }
        },
        "b25d300c0f974a3a87702eaa1f6fd113": {
          "model_module": "@jupyter-widgets/controls",
          "model_name": "HTMLModel",
          "model_module_version": "1.5.0",
          "state": {
            "_dom_classes": [],
            "_model_module": "@jupyter-widgets/controls",
            "_model_module_version": "1.5.0",
            "_model_name": "HTMLModel",
            "_view_count": null,
            "_view_module": "@jupyter-widgets/controls",
            "_view_module_version": "1.5.0",
            "_view_name": "HTMLView",
            "description": "",
            "description_tooltip": null,
            "layout": "IPY_MODEL_67324a0cc9c342478b539a85006f289c",
            "placeholder": "​",
            "style": "IPY_MODEL_550080f293b0448ab170134be3e0b571",
            "value": " 14412/14412 [03:55&lt;00:00, 63.50it/s]"
          }
        },
        "18bce61a77fa47a5965163e89572c64d": {
          "model_module": "@jupyter-widgets/base",
          "model_name": "LayoutModel",
          "model_module_version": "1.2.0",
          "state": {
            "_model_module": "@jupyter-widgets/base",
            "_model_module_version": "1.2.0",
            "_model_name": "LayoutModel",
            "_view_count": null,
            "_view_module": "@jupyter-widgets/base",
            "_view_module_version": "1.2.0",
            "_view_name": "LayoutView",
            "align_content": null,
            "align_items": null,
            "align_self": null,
            "border": null,
            "bottom": null,
            "display": null,
            "flex": null,
            "flex_flow": null,
            "grid_area": null,
            "grid_auto_columns": null,
            "grid_auto_flow": null,
            "grid_auto_rows": null,
            "grid_column": null,
            "grid_gap": null,
            "grid_row": null,
            "grid_template_areas": null,
            "grid_template_columns": null,
            "grid_template_rows": null,
            "height": null,
            "justify_content": null,
            "justify_items": null,
            "left": null,
            "margin": null,
            "max_height": null,
            "max_width": null,
            "min_height": null,
            "min_width": null,
            "object_fit": null,
            "object_position": null,
            "order": null,
            "overflow": null,
            "overflow_x": null,
            "overflow_y": null,
            "padding": null,
            "right": null,
            "top": null,
            "visibility": null,
            "width": null
          }
        },
        "b46ca4f6da514ae6b01c1eb17bc63908": {
          "model_module": "@jupyter-widgets/base",
          "model_name": "LayoutModel",
          "model_module_version": "1.2.0",
          "state": {
            "_model_module": "@jupyter-widgets/base",
            "_model_module_version": "1.2.0",
            "_model_name": "LayoutModel",
            "_view_count": null,
            "_view_module": "@jupyter-widgets/base",
            "_view_module_version": "1.2.0",
            "_view_name": "LayoutView",
            "align_content": null,
            "align_items": null,
            "align_self": null,
            "border": null,
            "bottom": null,
            "display": null,
            "flex": null,
            "flex_flow": null,
            "grid_area": null,
            "grid_auto_columns": null,
            "grid_auto_flow": null,
            "grid_auto_rows": null,
            "grid_column": null,
            "grid_gap": null,
            "grid_row": null,
            "grid_template_areas": null,
            "grid_template_columns": null,
            "grid_template_rows": null,
            "height": null,
            "justify_content": null,
            "justify_items": null,
            "left": null,
            "margin": null,
            "max_height": null,
            "max_width": null,
            "min_height": null,
            "min_width": null,
            "object_fit": null,
            "object_position": null,
            "order": null,
            "overflow": null,
            "overflow_x": null,
            "overflow_y": null,
            "padding": null,
            "right": null,
            "top": null,
            "visibility": null,
            "width": null
          }
        },
        "e899a088b1a549c09da583f0a0a93591": {
          "model_module": "@jupyter-widgets/controls",
          "model_name": "DescriptionStyleModel",
          "model_module_version": "1.5.0",
          "state": {
            "_model_module": "@jupyter-widgets/controls",
            "_model_module_version": "1.5.0",
            "_model_name": "DescriptionStyleModel",
            "_view_count": null,
            "_view_module": "@jupyter-widgets/base",
            "_view_module_version": "1.2.0",
            "_view_name": "StyleView",
            "description_width": ""
          }
        },
        "0d51787b88444913aa4120d33e6e462f": {
          "model_module": "@jupyter-widgets/base",
          "model_name": "LayoutModel",
          "model_module_version": "1.2.0",
          "state": {
            "_model_module": "@jupyter-widgets/base",
            "_model_module_version": "1.2.0",
            "_model_name": "LayoutModel",
            "_view_count": null,
            "_view_module": "@jupyter-widgets/base",
            "_view_module_version": "1.2.0",
            "_view_name": "LayoutView",
            "align_content": null,
            "align_items": null,
            "align_self": null,
            "border": null,
            "bottom": null,
            "display": null,
            "flex": null,
            "flex_flow": null,
            "grid_area": null,
            "grid_auto_columns": null,
            "grid_auto_flow": null,
            "grid_auto_rows": null,
            "grid_column": null,
            "grid_gap": null,
            "grid_row": null,
            "grid_template_areas": null,
            "grid_template_columns": null,
            "grid_template_rows": null,
            "height": null,
            "justify_content": null,
            "justify_items": null,
            "left": null,
            "margin": null,
            "max_height": null,
            "max_width": null,
            "min_height": null,
            "min_width": null,
            "object_fit": null,
            "object_position": null,
            "order": null,
            "overflow": null,
            "overflow_x": null,
            "overflow_y": null,
            "padding": null,
            "right": null,
            "top": null,
            "visibility": null,
            "width": null
          }
        },
        "ef1b63a69cc5445b9aac870043a212d6": {
          "model_module": "@jupyter-widgets/controls",
          "model_name": "ProgressStyleModel",
          "model_module_version": "1.5.0",
          "state": {
            "_model_module": "@jupyter-widgets/controls",
            "_model_module_version": "1.5.0",
            "_model_name": "ProgressStyleModel",
            "_view_count": null,
            "_view_module": "@jupyter-widgets/base",
            "_view_module_version": "1.2.0",
            "_view_name": "StyleView",
            "bar_color": null,
            "description_width": ""
          }
        },
        "67324a0cc9c342478b539a85006f289c": {
          "model_module": "@jupyter-widgets/base",
          "model_name": "LayoutModel",
          "model_module_version": "1.2.0",
          "state": {
            "_model_module": "@jupyter-widgets/base",
            "_model_module_version": "1.2.0",
            "_model_name": "LayoutModel",
            "_view_count": null,
            "_view_module": "@jupyter-widgets/base",
            "_view_module_version": "1.2.0",
            "_view_name": "LayoutView",
            "align_content": null,
            "align_items": null,
            "align_self": null,
            "border": null,
            "bottom": null,
            "display": null,
            "flex": null,
            "flex_flow": null,
            "grid_area": null,
            "grid_auto_columns": null,
            "grid_auto_flow": null,
            "grid_auto_rows": null,
            "grid_column": null,
            "grid_gap": null,
            "grid_row": null,
            "grid_template_areas": null,
            "grid_template_columns": null,
            "grid_template_rows": null,
            "height": null,
            "justify_content": null,
            "justify_items": null,
            "left": null,
            "margin": null,
            "max_height": null,
            "max_width": null,
            "min_height": null,
            "min_width": null,
            "object_fit": null,
            "object_position": null,
            "order": null,
            "overflow": null,
            "overflow_x": null,
            "overflow_y": null,
            "padding": null,
            "right": null,
            "top": null,
            "visibility": null,
            "width": null
          }
        },
        "550080f293b0448ab170134be3e0b571": {
          "model_module": "@jupyter-widgets/controls",
          "model_name": "DescriptionStyleModel",
          "model_module_version": "1.5.0",
          "state": {
            "_model_module": "@jupyter-widgets/controls",
            "_model_module_version": "1.5.0",
            "_model_name": "DescriptionStyleModel",
            "_view_count": null,
            "_view_module": "@jupyter-widgets/base",
            "_view_module_version": "1.2.0",
            "_view_name": "StyleView",
            "description_width": ""
          }
        }
      }
    }
  },
  "nbformat": 4,
  "nbformat_minor": 5
}