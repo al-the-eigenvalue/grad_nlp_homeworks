{
  "cells": [
    {
      "cell_type": "markdown",
      "id": "a98604cb",
      "metadata": {
        "id": "a98604cb"
      },
      "source": [
        "Домашку будет легче делать в колабе (убедитесь, что у вас runtype с gpu)."
      ]
    },
    {
      "cell_type": "code",
      "source": [
        "%%capture\n",
        "!pip install gensim\n",
        "!python -m spacy download ru_core_news_sm"
      ],
      "metadata": {
        "id": "iyIUfreaiPS4"
      },
      "id": "iyIUfreaiPS4",
      "execution_count": 1,
      "outputs": []
    },
    {
      "cell_type": "code",
      "source": [
        "import gensim\n",
        "import keras\n",
        "import matplotlib.pyplot as plt\n",
        "import numpy as np\n",
        "import os\n",
        "import pandas as pd\n",
        "import re\n",
        "import spacy\n",
        "import tensorflow as tf\n",
        "import torch\n",
        "\n",
        "from collections import Counter\n",
        "from sklearn.linear_model import LogisticRegression\n",
        "from sklearn.metrics import classification_report\n",
        "from sklearn.metrics.pairwise import cosine_distances\n",
        "from sklearn.model_selection import train_test_split\n",
        "from string import punctuation\n",
        "from tqdm.notebook import tqdm"
      ],
      "metadata": {
        "id": "9JnkB_uHdbf6"
      },
      "id": "9JnkB_uHdbf6",
      "execution_count": 2,
      "outputs": []
    },
    {
      "cell_type": "code",
      "source": [
        "os.environ[\"KERAS_BACKEND\"] = \"torch\"\n",
        "print(keras.__version__)"
      ],
      "metadata": {
        "colab": {
          "base_uri": "https://localhost:8080/"
        },
        "id": "QKWjsudh4OwC",
        "outputId": "35418413-a270-44f4-e2c4-f4ce4f332bcb"
      },
      "id": "QKWjsudh4OwC",
      "execution_count": 3,
      "outputs": [
        {
          "output_type": "stream",
          "name": "stdout",
          "text": [
            "3.5.0\n"
          ]
        }
      ]
    },
    {
      "cell_type": "markdown",
      "id": "9c422aa0",
      "metadata": {
        "id": "9c422aa0"
      },
      "source": [
        "# Задание 1 (3 балла)"
      ]
    },
    {
      "cell_type": "markdown",
      "id": "e4a72790",
      "metadata": {
        "id": "e4a72790"
      },
      "source": [
        "Обучите word2vec модели с негативным семплированием (cbow и skip-gram) аналогично тому, как это было сделано в семинаре. Вам нужно изменить следующие пункты:\n",
        "\n",
        "1) добавьте лемматизацию в предобработку (любым способом)  \n",
        "\n",
        "2) измените размер окна в большую или меньшую сторону\n",
        "\n",
        "3) измените размерность итоговых векторов\n",
        "\n",
        "Выберете несколько не похожих по смыслу слов (не таких как в семинаре), и протестируйте полученные эмбединги (найдите ближайшие слова и оцените качество, как в семинаре).\n",
        "Постарайтесь обучать модели как можно дольше и на как можно большем количестве данных. (Но если у вас мало времени или ресурсов, то допустимо взять поменьше данных и поставить меньше эпох)"
      ]
    },
    {
      "cell_type": "code",
      "source": [
        "class WordIDMapper:\n",
        "    def __init__(self, corpus, window):\n",
        "        self.nlp = spacy.load(\"ru_core_news_sm\")\n",
        "        self.nlp.tokenizer = self.tokenize\n",
        "        vocab, self.lemmatized_sents = self.create_vocab(corpus)\n",
        "        self.word2id, self.id2word, self.sentences = self.create_indices(\n",
        "            vocab, self.lemmatized_sents\n",
        "        )\n",
        "\n",
        "    def tokenize(self, text):\n",
        "        tokens = re.sub(\"#+\", \" \", text.lower()).split()\n",
        "        tokens = [token.strip(punctuation) for token in tokens]\n",
        "        tokens = [token for token in tokens if token]\n",
        "        return spacy.tokens.Doc(self.nlp.vocab, tokens)\n",
        "\n",
        "    def lemmatize(self, text):\n",
        "        doc = self.nlp(text)\n",
        "        lemmata = []\n",
        "        for sent in doc.sents:\n",
        "            for token in sent:\n",
        "                lemmata.append(token.lemma_.lower())\n",
        "        return lemmata\n",
        "\n",
        "    def create_vocab(self, corpus):\n",
        "        unfiltered_vocab = Counter()\n",
        "        lemmatized_sents = []\n",
        "        for text in tqdm(corpus, desc=\"Creating vocab\"):\n",
        "            lemmata = self.lemmatize(text)\n",
        "            unfiltered_vocab.update(lemmata)\n",
        "            lemmatized_sents.append(lemmata)\n",
        "        vocab = set()\n",
        "        for word in unfiltered_vocab:\n",
        "            if unfiltered_vocab[word] > 30:\n",
        "                vocab.add(word)\n",
        "        return vocab, lemmatized_sents\n",
        "\n",
        "    def create_indices(self, vocab, sents):\n",
        "        word2id = {\"PAD\": 0}\n",
        "        for word in vocab:\n",
        "            word2id[word] = len(word2id)\n",
        "        id2word = {i:word for word, i in word2id.items()}\n",
        "\n",
        "        sentences = []\n",
        "        for lemmata in sents:\n",
        "            if not lemmata:\n",
        "                continue\n",
        "            ids = [word2id[lemma] for lemma in lemmata if lemma in word2id]\n",
        "            sentences.append(ids)\n",
        "\n",
        "        return word2id, id2word, sentences"
      ],
      "metadata": {
        "id": "U7VI2Dt2n8Wq"
      },
      "id": "U7VI2Dt2n8Wq",
      "execution_count": 4,
      "outputs": []
    },
    {
      "cell_type": "code",
      "source": [
        "wiki = open(\"wiki_data.txt\").read().split(\"\\n\")"
      ],
      "metadata": {
        "id": "14TEmFbbwbNV"
      },
      "id": "14TEmFbbwbNV",
      "execution_count": 5,
      "outputs": []
    },
    {
      "cell_type": "code",
      "source": [
        "mapper = WordIDMapper(corpus=wiki, window=7)"
      ],
      "metadata": {
        "colab": {
          "base_uri": "https://localhost:8080/",
          "height": 49,
          "referenced_widgets": [
            "a5b66d53c49d4691bc10c6350dd61510",
            "b61cb554994c4a9287e02e82ac576714",
            "37f0058fabf8499dac2a505e2a692410",
            "30e3f1b8550842db8ff604247ea6ab38",
            "ab2c64c2f86b47daa57efbae8596408d",
            "4b40839d00994c67a97d26e37827cbff",
            "a66079ee67354f35ae8fb54d155cd475",
            "08b93770d3b44f00b2019e2ff13d6262",
            "6ed474b5285f43a98b4b5ba8af4c5109",
            "1fb9baebfb4b4b30a3b031af927ab2f9",
            "1f99305fea6a49188210258968ff7bf0"
          ]
        },
        "id": "Xh_WULI2tsbc",
        "outputId": "58cc3021-c303-49ca-c3f4-1b6900439ab0"
      },
      "id": "Xh_WULI2tsbc",
      "execution_count": 6,
      "outputs": [
        {
          "output_type": "display_data",
          "data": {
            "text/plain": [
              "Creating vocab:   0%|          | 0/20003 [00:00<?, ?it/s]"
            ],
            "application/vnd.jupyter.widget-view+json": {
              "version_major": 2,
              "version_minor": 0,
              "model_id": "a5b66d53c49d4691bc10c6350dd61510"
            }
          },
          "metadata": {}
        }
      ]
    },
    {
      "cell_type": "code",
      "source": [
        "vocab_size = len(mapper.id2word)"
      ],
      "metadata": {
        "id": "Pj6NCweL2yYr"
      },
      "id": "Pj6NCweL2yYr",
      "execution_count": 7,
      "outputs": []
    },
    {
      "cell_type": "code",
      "source": [
        "def most_similar(word, mapper, embeddings):\n",
        "    similar = [\n",
        "        mapper.id2word[i] for i in\n",
        "        cosine_distances(\n",
        "            embeddings[mapper.word2id[word]].reshape(1, -1),\n",
        "            embeddings\n",
        "        ).argsort()[0][:10]\n",
        "    ]\n",
        "    return similar"
      ],
      "metadata": {
        "id": "4fN-7pwYNaqR"
      },
      "id": "4fN-7pwYNaqR",
      "execution_count": 8,
      "outputs": []
    },
    {
      "cell_type": "markdown",
      "source": [
        "## Skip-Gram"
      ],
      "metadata": {
        "id": "wy6DPe9wKftL"
      },
      "id": "wy6DPe9wKftL"
    },
    {
      "cell_type": "code",
      "source": [
        "# skip gram\n",
        "def gen_batches_sg(sentences, window=5, batch_size=1000):\n",
        "\n",
        "    # параметр window задает его целиком\n",
        "    # нам нужно поделить его пополам на левую и правую часть\n",
        "    # когда делится неровно, то левая часть больше на 1\n",
        "    left_context_length = (window/2).__ceil__() # округлить в большую сторону\n",
        "    right_context_length = window // 2 # округлить в меньшую сторону\n",
        "\n",
        "    while True:\n",
        "        X_target = []\n",
        "        X_context = []\n",
        "        y = []\n",
        "\n",
        "        for sent in sentences:\n",
        "            for i in range(len(sent)-1):\n",
        "                word = sent[i]\n",
        "                context = (sent[max(0, i-left_context_length):i] +\n",
        "                           sent[i+1:i+right_context_length])\n",
        "                for context_word in context:\n",
        "                    X_target.append(word)\n",
        "                    X_context.append(context_word)\n",
        "                    y.append(1)\n",
        "\n",
        "                    X_target.append(word)\n",
        "                    X_context.append(np.random.randint(vocab_size))\n",
        "                    y.append(0)\n",
        "\n",
        "                    if len(X_target) >= batch_size:\n",
        "                        X_target = np.array(X_target)\n",
        "                        X_context = np.array(X_context)\n",
        "                        y = np.array(y)\n",
        "                        yield ((X_target, X_context), y)\n",
        "                        X_target = []\n",
        "                        X_context = []\n",
        "                        y = []"
      ],
      "metadata": {
        "id": "mKL_QZ4TIiDo"
      },
      "id": "mKL_QZ4TIiDo",
      "execution_count": 9,
      "outputs": []
    },
    {
      "cell_type": "code",
      "source": [
        "inputs_target = keras.layers.Input(shape=(1,))\n",
        "inputs_context = keras.layers.Input(shape=(1,))\n",
        "\n",
        "embeddings_target = keras.layers.Embedding(input_dim=len(mapper.word2id),\n",
        "                                           output_dim=400)(inputs_target, )\n",
        "embeddings_context = keras.layers.Embedding(input_dim=len(mapper.word2id),\n",
        "                                            output_dim=400)(inputs_context, )\n",
        "\n",
        "target = keras.layers.Flatten()(embeddings_target)\n",
        "context = keras.layers.Flatten()(embeddings_context)\n",
        "\n",
        "dot = keras.layers.Dot(1)([target, context])\n",
        "outputs = keras.layers.Activation(activation=\"sigmoid\")(dot)\n",
        "\n",
        "model = keras.Model(inputs=[inputs_target, inputs_context],\n",
        "                       outputs=outputs)\n",
        "optimizer = keras.optimizers.Adam(learning_rate=0.001)\n",
        "model.compile(optimizer=optimizer,\n",
        "              loss=\"binary_crossentropy\",\n",
        "              metrics=[\"accuracy\"])"
      ],
      "metadata": {
        "id": "c0d0YftbIofz"
      },
      "id": "c0d0YftbIofz",
      "execution_count": 10,
      "outputs": []
    },
    {
      "cell_type": "code",
      "source": [
        "model.fit(gen_batches_sg(mapper.sentences[:19000], window=7),\n",
        "          validation_data=gen_batches_sg(mapper.sentences[19000:], window=7),\n",
        "          batch_size=1000,\n",
        "          steps_per_epoch=10000,\n",
        "          validation_steps=30,\n",
        "          epochs=20)"
      ],
      "metadata": {
        "id": "0i-1X1cmI-Rf",
        "colab": {
          "base_uri": "https://localhost:8080/"
        },
        "outputId": "81a25118-5a1b-4918-e8df-8346f9b2d7c4"
      },
      "id": "0i-1X1cmI-Rf",
      "execution_count": 11,
      "outputs": [
        {
          "output_type": "stream",
          "name": "stdout",
          "text": [
            "Epoch 1/20\n",
            "\u001b[1m10000/10000\u001b[0m \u001b[32m━━━━━━━━━━━━━━━━━━━━\u001b[0m\u001b[37m\u001b[0m \u001b[1m43s\u001b[0m 4ms/step - accuracy: 0.7835 - loss: 0.4641 - val_accuracy: 0.7947 - val_loss: 0.4870\n",
            "Epoch 2/20\n",
            "\u001b[1m10000/10000\u001b[0m \u001b[32m━━━━━━━━━━━━━━━━━━━━\u001b[0m\u001b[37m\u001b[0m \u001b[1m43s\u001b[0m 4ms/step - accuracy: 0.8239 - loss: 0.4111 - val_accuracy: 0.8272 - val_loss: 0.3955\n",
            "Epoch 3/20\n",
            "\u001b[1m10000/10000\u001b[0m \u001b[32m━━━━━━━━━━━━━━━━━━━━\u001b[0m\u001b[37m\u001b[0m \u001b[1m41s\u001b[0m 4ms/step - accuracy: 0.8289 - loss: 0.3986 - val_accuracy: 0.8241 - val_loss: 0.4065\n",
            "Epoch 4/20\n",
            "\u001b[1m10000/10000\u001b[0m \u001b[32m━━━━━━━━━━━━━━━━━━━━\u001b[0m\u001b[37m\u001b[0m \u001b[1m41s\u001b[0m 4ms/step - accuracy: 0.8334 - loss: 0.3887 - val_accuracy: 0.8370 - val_loss: 0.3859\n",
            "Epoch 5/20\n",
            "\u001b[1m10000/10000\u001b[0m \u001b[32m━━━━━━━━━━━━━━━━━━━━\u001b[0m\u001b[37m\u001b[0m \u001b[1m43s\u001b[0m 4ms/step - accuracy: 0.8358 - loss: 0.3822 - val_accuracy: 0.8350 - val_loss: 0.3910\n",
            "Epoch 6/20\n",
            "\u001b[1m10000/10000\u001b[0m \u001b[32m━━━━━━━━━━━━━━━━━━━━\u001b[0m\u001b[37m\u001b[0m \u001b[1m41s\u001b[0m 4ms/step - accuracy: 0.8405 - loss: 0.3715 - val_accuracy: 0.8491 - val_loss: 0.3755\n",
            "Epoch 7/20\n",
            "\u001b[1m10000/10000\u001b[0m \u001b[32m━━━━━━━━━━━━━━━━━━━━\u001b[0m\u001b[37m\u001b[0m \u001b[1m41s\u001b[0m 4ms/step - accuracy: 0.8430 - loss: 0.3638 - val_accuracy: 0.8369 - val_loss: 0.3707\n",
            "Epoch 8/20\n",
            "\u001b[1m10000/10000\u001b[0m \u001b[32m━━━━━━━━━━━━━━━━━━━━\u001b[0m\u001b[37m\u001b[0m \u001b[1m44s\u001b[0m 4ms/step - accuracy: 0.8397 - loss: 0.3710 - val_accuracy: 0.8389 - val_loss: 0.3792\n",
            "Epoch 9/20\n",
            "\u001b[1m10000/10000\u001b[0m \u001b[32m━━━━━━━━━━━━━━━━━━━━\u001b[0m\u001b[37m\u001b[0m \u001b[1m41s\u001b[0m 4ms/step - accuracy: 0.8448 - loss: 0.3599 - val_accuracy: 0.8253 - val_loss: 0.4041\n",
            "Epoch 10/20\n",
            "\u001b[1m10000/10000\u001b[0m \u001b[32m━━━━━━━━━━━━━━━━━━━━\u001b[0m\u001b[37m\u001b[0m \u001b[1m41s\u001b[0m 4ms/step - accuracy: 0.8452 - loss: 0.3579 - val_accuracy: 0.8272 - val_loss: 0.4013\n",
            "Epoch 11/20\n",
            "\u001b[1m10000/10000\u001b[0m \u001b[32m━━━━━━━━━━━━━━━━━━━━\u001b[0m\u001b[37m\u001b[0m \u001b[1m42s\u001b[0m 4ms/step - accuracy: 0.8495 - loss: 0.3487 - val_accuracy: 0.8421 - val_loss: 0.3788\n",
            "Epoch 12/20\n",
            "\u001b[1m10000/10000\u001b[0m \u001b[32m━━━━━━━━━━━━━━━━━━━━\u001b[0m\u001b[37m\u001b[0m \u001b[1m41s\u001b[0m 4ms/step - accuracy: 0.8459 - loss: 0.3537 - val_accuracy: 0.8471 - val_loss: 0.3662\n",
            "Epoch 13/20\n",
            "\u001b[1m10000/10000\u001b[0m \u001b[32m━━━━━━━━━━━━━━━━━━━━\u001b[0m\u001b[37m\u001b[0m \u001b[1m41s\u001b[0m 4ms/step - accuracy: 0.8450 - loss: 0.3570 - val_accuracy: 0.8231 - val_loss: 0.4223\n",
            "Epoch 14/20\n",
            "\u001b[1m10000/10000\u001b[0m \u001b[32m━━━━━━━━━━━━━━━━━━━━\u001b[0m\u001b[37m\u001b[0m \u001b[1m43s\u001b[0m 4ms/step - accuracy: 0.8476 - loss: 0.3515 - val_accuracy: 0.8317 - val_loss: 0.4147\n",
            "Epoch 15/20\n",
            "\u001b[1m10000/10000\u001b[0m \u001b[32m━━━━━━━━━━━━━━━━━━━━\u001b[0m\u001b[37m\u001b[0m \u001b[1m42s\u001b[0m 4ms/step - accuracy: 0.8480 - loss: 0.3497 - val_accuracy: 0.8191 - val_loss: 0.4312\n",
            "Epoch 16/20\n",
            "\u001b[1m10000/10000\u001b[0m \u001b[32m━━━━━━━━━━━━━━━━━━━━\u001b[0m\u001b[37m\u001b[0m \u001b[1m42s\u001b[0m 4ms/step - accuracy: 0.8477 - loss: 0.3510 - val_accuracy: 0.8341 - val_loss: 0.4075\n",
            "Epoch 17/20\n",
            "\u001b[1m10000/10000\u001b[0m \u001b[32m━━━━━━━━━━━━━━━━━━━━\u001b[0m\u001b[37m\u001b[0m \u001b[1m41s\u001b[0m 4ms/step - accuracy: 0.8528 - loss: 0.3376 - val_accuracy: 0.8248 - val_loss: 0.4217\n",
            "Epoch 18/20\n",
            "\u001b[1m10000/10000\u001b[0m \u001b[32m━━━━━━━━━━━━━━━━━━━━\u001b[0m\u001b[37m\u001b[0m \u001b[1m43s\u001b[0m 4ms/step - accuracy: 0.8495 - loss: 0.3462 - val_accuracy: 0.8322 - val_loss: 0.4088\n",
            "Epoch 19/20\n",
            "\u001b[1m10000/10000\u001b[0m \u001b[32m━━━━━━━━━━━━━━━━━━━━\u001b[0m\u001b[37m\u001b[0m \u001b[1m42s\u001b[0m 4ms/step - accuracy: 0.8499 - loss: 0.3451 - val_accuracy: 0.8118 - val_loss: 0.4425\n",
            "Epoch 20/20\n",
            "\u001b[1m10000/10000\u001b[0m \u001b[32m━━━━━━━━━━━━━━━━━━━━\u001b[0m\u001b[37m\u001b[0m \u001b[1m41s\u001b[0m 4ms/step - accuracy: 0.8503 - loss: 0.3438 - val_accuracy: 0.8417 - val_loss: 0.3883\n"
          ]
        },
        {
          "output_type": "execute_result",
          "data": {
            "text/plain": [
              "<keras.src.callbacks.history.History at 0x7a0235377610>"
            ]
          },
          "metadata": {},
          "execution_count": 11
        }
      ]
    },
    {
      "cell_type": "code",
      "source": [
        "plt.plot(model.history.history[\"loss\"])\n",
        "plt.plot(model.history.history[\"val_loss\"])\n",
        "plt.title(\"model loss\")\n",
        "plt.ylabel(\"loss\")\n",
        "plt.xlabel(\"epoch\")\n",
        "plt.legend([\"train\", \"val\"], loc=\"upper left\")\n",
        "plt.show()"
      ],
      "metadata": {
        "colab": {
          "base_uri": "https://localhost:8080/",
          "height": 472
        },
        "id": "Ot2xAFHjMz6M",
        "outputId": "0fa4c633-f99a-405a-8c75-e8c62b19231a"
      },
      "id": "Ot2xAFHjMz6M",
      "execution_count": 12,
      "outputs": [
        {
          "output_type": "display_data",
          "data": {
            "text/plain": [
              "<Figure size 640x480 with 1 Axes>"
            ],
            "image/png": "[encoded data removed]"
          },
          "metadata": {}
        }
      ]
    },
    {
      "cell_type": "code",
      "source": [
        "embeddings = model.layers[2].get_weights()[0]\n",
        "most_similar(\"красный\", mapper, embeddings)"
      ],
      "metadata": {
        "colab": {
          "base_uri": "https://localhost:8080/"
        },
        "id": "tUGkKcNtMuVR",
        "outputId": "cf91f843-4fad-4593-cb11-7b41261ff88d"
      },
      "id": "tUGkKcNtMuVR",
      "execution_count": 13,
      "outputs": [
        {
          "output_type": "execute_result",
          "data": {
            "text/plain": [
              "['красный',\n",
              " 'белый',\n",
              " 'голубой',\n",
              " 'лазоревый',\n",
              " 'розовый',\n",
              " 'знамя',\n",
              " 'полотнище',\n",
              " 'лавровый',\n",
              " 'коричневый',\n",
              " 'жёлтый']"
            ]
          },
          "metadata": {},
          "execution_count": 13
        }
      ]
    },
    {
      "cell_type": "code",
      "source": [
        "most_similar(\"улица\", mapper, embeddings)"
      ],
      "metadata": {
        "colab": {
          "base_uri": "https://localhost:8080/"
        },
        "id": "bYXeH3Q5PZX8",
        "outputId": "197e2260-51f9-4f05-cca1-3b8fd9daaaba"
      },
      "id": "bYXeH3Q5PZX8",
      "execution_count": 14,
      "outputs": [
        {
          "output_type": "execute_result",
          "data": {
            "text/plain": [
              "['улица',\n",
              " 'у́лица',\n",
              " 'переулок',\n",
              " 'набережная',\n",
              " 'бульвар',\n",
              " 'проспект',\n",
              " 'ул',\n",
              " 'микрорайон',\n",
              " 'проезд',\n",
              " 'тупик']"
            ]
          },
          "metadata": {},
          "execution_count": 14
        }
      ]
    },
    {
      "cell_type": "code",
      "source": [
        "most_similar(\"должность\", mapper, embeddings)"
      ],
      "metadata": {
        "colab": {
          "base_uri": "https://localhost:8080/"
        },
        "id": "WaWxJfZwPnGO",
        "outputId": "826aa5ad-1dbe-45a7-9c24-290085dff4a7"
      },
      "id": "WaWxJfZwPnGO",
      "execution_count": 15,
      "outputs": [
        {
          "output_type": "execute_result",
          "data": {
            "text/plain": [
              "['должность',\n",
              " 'пост',\n",
              " 'заместитель',\n",
              " 'помощник',\n",
              " 'начальник',\n",
              " 'назначить',\n",
              " 'занимать',\n",
              " 'киммел',\n",
              " 'судьёй',\n",
              " 'генерал-губернатор']"
            ]
          },
          "metadata": {},
          "execution_count": 15
        }
      ]
    },
    {
      "cell_type": "markdown",
      "source": [
        "## CBOW"
      ],
      "metadata": {
        "id": "gcw71nOoP1q_"
      },
      "id": "gcw71nOoP1q_"
    },
    {
      "cell_type": "code",
      "source": [
        "def gen_batches_cbow(sentences, window=5, batch_size=1000):\n",
        "\n",
        "    # параметр window задает его целиком\n",
        "    # нам нужно поделить его пополам на левую и правую часть\n",
        "    # когда делится неровно, то левая часть больше на 1\n",
        "    left_context_length = (window/2).__ceil__() # округлить в большую сторону\n",
        "    right_context_length = window // 2 # округлить в меньшую сторону\n",
        "\n",
        "    while True:\n",
        "        X_target = []\n",
        "        X_context = []\n",
        "        y = []\n",
        "\n",
        "        for sent in sentences:\n",
        "            for i in range(len(sent)-1):\n",
        "                word = sent[i]\n",
        "                context = (sent[max(0, i-left_context_length):i] +\n",
        "                           sent[i+1:i+right_context_length])\n",
        "\n",
        "                X_target.append(word)\n",
        "                X_context.append(context)\n",
        "                y.append(1)\n",
        "\n",
        "                X_target.append(np.random.randint(vocab_size))\n",
        "                X_context.append(context)\n",
        "                y.append(0)\n",
        "\n",
        "                if len(X_target) == batch_size:\n",
        "                    X_target = np.array(X_target)\n",
        "                    X_context = keras.preprocessing.sequence.pad_sequences(\n",
        "                        X_context,\n",
        "                        maxlen=window\n",
        "                    )\n",
        "                    y = np.array(y)\n",
        "                    yield ((X_target, X_context), y)\n",
        "                    X_target = []\n",
        "                    X_context = []\n",
        "                    y = []"
      ],
      "metadata": {
        "id": "AGMvsZnNP1Pt"
      },
      "id": "AGMvsZnNP1Pt",
      "execution_count": 16,
      "outputs": []
    },
    {
      "cell_type": "code",
      "source": [
        "#cbow negative sampling\n",
        "inputs_target = keras.layers.Input(shape=(1,))\n",
        "inputs_context = keras.layers.Input(shape=(7,))\n",
        "\n",
        "\n",
        "embeddings_target = keras.layers.Embedding(input_dim=len(mapper.word2id),\n",
        "                                           output_dim=400)(inputs_target, )\n",
        "embeddings_context = keras.layers.Embedding(input_dim=len(mapper.word2id),\n",
        "                                            output_dim=400)(inputs_context, )\n",
        "\n",
        "target = keras.layers.Flatten()(embeddings_target)\n",
        "context = keras.layers.Lambda(\n",
        "    lambda x: tf.reduce_sum(x, axis=1), output_shape=(400,))(embeddings_context)\n",
        "dot = keras.layers.Dot(1)([target, context])\n",
        "\n",
        "# полученную близость нужно преобразовать в вероятность\n",
        "# когда она одна используется не софтмакс и сигмоида\n",
        "outputs = keras.layers.Activation(activation=\"sigmoid\")(dot)\n",
        "\n",
        "model = keras.Model(inputs=[inputs_target, inputs_context],\n",
        "                       outputs=outputs)\n",
        "\n",
        "\n",
        "optimizer = keras.optimizers.Adam(learning_rate=0.001)\n",
        "model.compile(optimizer=optimizer,\n",
        "              loss=\"binary_crossentropy\",\n",
        "              metrics=[\"accuracy\"])"
      ],
      "metadata": {
        "id": "Lm5vqjxyQVhg"
      },
      "id": "Lm5vqjxyQVhg",
      "execution_count": 17,
      "outputs": []
    },
    {
      "cell_type": "code",
      "source": [
        "model.build([(None, 1), (None, 7)])"
      ],
      "metadata": {
        "id": "dQN9L_k-QW43"
      },
      "id": "dQN9L_k-QW43",
      "execution_count": 18,
      "outputs": []
    },
    {
      "cell_type": "markdown",
      "source": [
        "Больше 5 эпох начинает переобучаться"
      ],
      "metadata": {
        "id": "WqCMqzFO5ckl"
      },
      "id": "WqCMqzFO5ckl"
    },
    {
      "cell_type": "code",
      "source": [
        "model.fit(gen_batches_cbow(mapper.sentences[:19000], window=7),\n",
        "          validation_data=gen_batches_cbow(mapper.sentences[19000:], window=7),\n",
        "          batch_size=1000,\n",
        "          steps_per_epoch=5000,\n",
        "          validation_steps=30,\n",
        "          epochs=5)"
      ],
      "metadata": {
        "id": "jBukn11iQXyx",
        "colab": {
          "base_uri": "https://localhost:8080/"
        },
        "outputId": "903b5861-b785-4987-cdca-203351a4a48d"
      },
      "id": "jBukn11iQXyx",
      "execution_count": 19,
      "outputs": [
        {
          "output_type": "stream",
          "name": "stdout",
          "text": [
            "Epoch 1/5\n",
            "\u001b[1m5000/5000\u001b[0m \u001b[32m━━━━━━━━━━━━━━━━━━━━\u001b[0m\u001b[37m\u001b[0m \u001b[1m41s\u001b[0m 8ms/step - accuracy: 0.8189 - loss: 0.4059 - val_accuracy: 0.8829 - val_loss: 0.2876\n",
            "Epoch 2/5\n",
            "\u001b[1m5000/5000\u001b[0m \u001b[32m━━━━━━━━━━━━━━━━━━━━\u001b[0m\u001b[37m\u001b[0m \u001b[1m38s\u001b[0m 8ms/step - accuracy: 0.8847 - loss: 0.2809 - val_accuracy: 0.8967 - val_loss: 0.2540\n",
            "Epoch 3/5\n",
            "\u001b[1m5000/5000\u001b[0m \u001b[32m━━━━━━━━━━━━━━━━━━━━\u001b[0m\u001b[37m\u001b[0m \u001b[1m38s\u001b[0m 8ms/step - accuracy: 0.9122 - loss: 0.2170 - val_accuracy: 0.8952 - val_loss: 0.2622\n",
            "Epoch 4/5\n",
            "\u001b[1m5000/5000\u001b[0m \u001b[32m━━━━━━━━━━━━━━━━━━━━\u001b[0m\u001b[37m\u001b[0m \u001b[1m38s\u001b[0m 8ms/step - accuracy: 0.9236 - loss: 0.1921 - val_accuracy: 0.9028 - val_loss: 0.2485\n",
            "Epoch 5/5\n",
            "\u001b[1m5000/5000\u001b[0m \u001b[32m━━━━━━━━━━━━━━━━━━━━\u001b[0m\u001b[37m\u001b[0m \u001b[1m36s\u001b[0m 7ms/step - accuracy: 0.9347 - loss: 0.1681 - val_accuracy: 0.8875 - val_loss: 0.3104\n"
          ]
        },
        {
          "output_type": "execute_result",
          "data": {
            "text/plain": [
              "<keras.src.callbacks.history.History at 0x7a022c6c7af0>"
            ]
          },
          "metadata": {},
          "execution_count": 19
        }
      ]
    },
    {
      "cell_type": "code",
      "source": [
        "plt.plot(model.history.history[\"loss\"])\n",
        "plt.plot(model.history.history[\"val_loss\"])\n",
        "plt.title(\"model loss\")\n",
        "plt.ylabel(\"loss\")\n",
        "plt.xlabel(\"epoch\")\n",
        "plt.legend([\"train\", \"val\"], loc=\"upper left\")\n",
        "plt.show()"
      ],
      "metadata": {
        "colab": {
          "base_uri": "https://localhost:8080/",
          "height": 472
        },
        "id": "6kq7Q5SE252U",
        "outputId": "565d3a0f-9644-4afd-fb36-f13d1c85e85e"
      },
      "id": "6kq7Q5SE252U",
      "execution_count": 20,
      "outputs": [
        {
          "output_type": "display_data",
          "data": {
            "text/plain": [
              "<Figure size 640x480 with 1 Axes>"
            ],
            "image/png": "[encoded data removed]"
          },
          "metadata": {}
        }
      ]
    },
    {
      "cell_type": "code",
      "source": [
        "embeddings = model.layers[2].get_weights()[0]\n",
        "most_similar(\"красный\", mapper, embeddings)"
      ],
      "metadata": {
        "id": "7rdBvmRLQhPY",
        "colab": {
          "base_uri": "https://localhost:8080/"
        },
        "outputId": "c99b4743-1c3e-4ce1-e35f-e4cc225299cf"
      },
      "id": "7rdBvmRLQhPY",
      "execution_count": 21,
      "outputs": [
        {
          "output_type": "execute_result",
          "data": {
            "text/plain": [
              "['красный',\n",
              " 'жёлтый',\n",
              " 'белый',\n",
              " 'голубой',\n",
              " 'зелёный',\n",
              " 'серый',\n",
              " 'синий',\n",
              " 'чёрный',\n",
              " 'золотистый',\n",
              " 'розовый']"
            ]
          },
          "metadata": {},
          "execution_count": 21
        }
      ]
    },
    {
      "cell_type": "code",
      "source": [
        "most_similar(\"улица\", mapper, embeddings)"
      ],
      "metadata": {
        "id": "qeXBpJxdRqyW",
        "colab": {
          "base_uri": "https://localhost:8080/"
        },
        "outputId": "7911aa5b-9a26-41ae-9df5-b2a473057ac9"
      },
      "id": "qeXBpJxdRqyW",
      "execution_count": 22,
      "outputs": [
        {
          "output_type": "execute_result",
          "data": {
            "text/plain": [
              "['улица',\n",
              " 'проспект',\n",
              " 'переулок',\n",
              " 'набережная',\n",
              " 'бульвар',\n",
              " 'шоссе',\n",
              " 'ул',\n",
              " 'посёлок',\n",
              " 'проезд',\n",
              " 'усадьба']"
            ]
          },
          "metadata": {},
          "execution_count": 22
        }
      ]
    },
    {
      "cell_type": "code",
      "source": [
        "most_similar(\"должность\", mapper, embeddings)"
      ],
      "metadata": {
        "id": "fAx6Az1IRw8K",
        "colab": {
          "base_uri": "https://localhost:8080/"
        },
        "outputId": "fe56091c-4e13-4212-9be2-cca1a31e37c4"
      },
      "id": "fAx6Az1IRw8K",
      "execution_count": 23,
      "outputs": [
        {
          "output_type": "execute_result",
          "data": {
            "text/plain": [
              "['должность',\n",
              " 'пост',\n",
              " 'заместитель',\n",
              " 'кандидат',\n",
              " 'помощник',\n",
              " 'полномочие',\n",
              " 'декан',\n",
              " 'мид',\n",
              " 'назначаться',\n",
              " 'советник']"
            ]
          },
          "metadata": {},
          "execution_count": 23
        }
      ]
    },
    {
      "cell_type": "markdown",
      "id": "c3b61b7c",
      "metadata": {
        "id": "c3b61b7c"
      },
      "source": [
        "# Задание 2 (2 балла)"
      ]
    },
    {
      "cell_type": "markdown",
      "id": "66eff080",
      "metadata": {
        "id": "66eff080"
      },
      "source": [
        "Обучите 1 word2vec и 1 fastext модель в gensim. В каждой из модели нужно задать все параметры, которые мы разбирали на семинаре. Заданные значения должны отличаться от дефолтных и от тех, что мы использовали на семинаре."
      ]
    },
    {
      "cell_type": "code",
      "execution_count": 24,
      "id": "e5035bdc",
      "metadata": {
        "id": "e5035bdc",
        "colab": {
          "base_uri": "https://localhost:8080/"
        },
        "outputId": "25549280-04e0-4456-8880-9e1c7dffde58"
      },
      "outputs": [
        {
          "output_type": "stream",
          "name": "stdout",
          "text": [
            "CPU times: user 1min 49s, sys: 744 ms, total: 1min 49s\n",
            "Wall time: 1min 8s\n"
          ]
        }
      ],
      "source": [
        "%%time\n",
        "w2v_model = gensim.models.Word2Vec(\n",
        "    mapper.lemmatized_sents,\n",
        "    vector_size=400,\n",
        "    min_count=35,\n",
        "    max_vocab_size=12000,\n",
        "    window=7,\n",
        "    epochs=10,\n",
        "    sg=0,\n",
        "    hs=0,\n",
        "    negative=7,\n",
        "    sample=1e-4,\n",
        "    ns_exponent=0.5,\n",
        "    cbow_mean=0\n",
        ")"
      ]
    },
    {
      "cell_type": "code",
      "source": [
        "w2v_model.wv.most_similar(\"красный\")"
      ],
      "metadata": {
        "colab": {
          "base_uri": "https://localhost:8080/"
        },
        "id": "honZvy7Oihw7",
        "outputId": "c4234038-858b-4e29-8840-4646160c4a96"
      },
      "id": "honZvy7Oihw7",
      "execution_count": 25,
      "outputs": [
        {
          "output_type": "execute_result",
          "data": {
            "text/plain": [
              "[('жёлтый', 0.9027318954467773),\n",
              " ('знамя', 0.9025858640670776),\n",
              " ('зелёный', 0.89304518699646),\n",
              " ('листоед', 0.8873950839042664),\n",
              " ('цвет', 0.8851983547210693),\n",
              " ('пятно', 0.8849399089813232),\n",
              " ('белый', 0.8844570517539978),\n",
              " ('олимпийский', 0.8828780055046082),\n",
              " ('летний', 0.8778494596481323),\n",
              " ('житомирский', 0.8771712183952332)]"
            ]
          },
          "metadata": {},
          "execution_count": 25
        }
      ]
    },
    {
      "cell_type": "code",
      "source": [
        "w2v_model.wv.most_similar(\"улица\")"
      ],
      "metadata": {
        "colab": {
          "base_uri": "https://localhost:8080/"
        },
        "id": "bkMbf5p441mO",
        "outputId": "303c654b-a230-4d47-a8f8-dc8be6bfcf10"
      },
      "id": "bkMbf5p441mO",
      "execution_count": 26,
      "outputs": [
        {
          "output_type": "execute_result",
          "data": {
            "text/plain": [
              "[('переулок', 0.9313896894454956),\n",
              " ('проспект', 0.9300321936607361),\n",
              " ('ул', 0.9016808271408081),\n",
              " ('площадь', 0.9003891944885254),\n",
              " ('олимпийский', 0.8978049159049988),\n",
              " ('перепись', 0.8975342512130737),\n",
              " ('район', 0.8963459730148315),\n",
              " ('угол', 0.8942767381668091),\n",
              " ('проезд', 0.8932122588157654),\n",
              " ('житомирский', 0.8893752694129944)]"
            ]
          },
          "metadata": {},
          "execution_count": 26
        }
      ]
    },
    {
      "cell_type": "code",
      "source": [
        "w2v_model.wv.most_similar(\"должность\")"
      ],
      "metadata": {
        "colab": {
          "base_uri": "https://localhost:8080/"
        },
        "id": "lFuWG-5442TV",
        "outputId": "c4e3e93a-9d51-4f2a-8905-8a1a429b9290"
      },
      "id": "lFuWG-5442TV",
      "execution_count": 27,
      "outputs": [
        {
          "output_type": "execute_result",
          "data": {
            "text/plain": [
              "[('пост', 0.912059485912323),\n",
              " ('назначить', 0.8804394006729126),\n",
              " ('заместитель', 0.8792182207107544),\n",
              " ('код', 0.8728412985801697),\n",
              " ('км²', 0.872608482837677),\n",
              " ('телефонный', 0.8702865839004517),\n",
              " ('кафедра', 0.8686482906341553),\n",
              " ('житомирский', 0.8681756258010864),\n",
              " ('площадь', 0.868036150932312),\n",
              " ('27', 0.8674050569534302)]"
            ]
          },
          "metadata": {},
          "execution_count": 27
        }
      ]
    },
    {
      "cell_type": "code",
      "source": [
        "%%time\n",
        "ft_model = gensim.models.FastText(\n",
        "    mapper.lemmatized_sents,\n",
        "    vector_size=400,\n",
        "    min_count=35,\n",
        "    max_vocab_size=12000,\n",
        "    window=7,\n",
        "    epochs=10,\n",
        "    sg=0,\n",
        "    hs=0,\n",
        "    negative=7,\n",
        "    sample=1e-4,\n",
        "    ns_exponent=0.5,\n",
        "    cbow_mean=0,\n",
        "    min_n=4,\n",
        "    max_n=7\n",
        ")"
      ],
      "metadata": {
        "colab": {
          "base_uri": "https://localhost:8080/"
        },
        "id": "_GtUsqZ2ixyY",
        "outputId": "bff05613-21a6-4f81-9480-926b772f0e69"
      },
      "id": "_GtUsqZ2ixyY",
      "execution_count": 28,
      "outputs": [
        {
          "output_type": "stream",
          "name": "stdout",
          "text": [
            "CPU times: user 13min 14s, sys: 2.92 s, total: 13min 17s\n",
            "Wall time: 8min 14s\n"
          ]
        }
      ]
    },
    {
      "cell_type": "code",
      "source": [
        "ft_model.wv.most_similar(\"красный\")"
      ],
      "metadata": {
        "colab": {
          "base_uri": "https://localhost:8080/"
        },
        "id": "pmIoi31W7P5k",
        "outputId": "cee6a935-a2b4-4075-fcdd-9d24586f0928"
      },
      "id": "pmIoi31W7P5k",
      "execution_count": 29,
      "outputs": [
        {
          "output_type": "execute_result",
          "data": {
            "text/plain": [
              "[('опасный', 0.8994669318199158),\n",
              " ('романовский', 0.8950476050376892),\n",
              " ('черняховский', 0.8930620551109314),\n",
              " ('олимпийский', 0.8918232321739197),\n",
              " ('одесский', 0.8895543217658997),\n",
              " ('завьяловский', 0.8888218402862549),\n",
              " ('чёрный', 0.8879300355911255),\n",
              " ('зелёный', 0.8875018954277039),\n",
              " ('коростенский', 0.8864629864692688),\n",
              " ('харьковский', 0.8859188556671143)]"
            ]
          },
          "metadata": {},
          "execution_count": 29
        }
      ]
    },
    {
      "cell_type": "code",
      "source": [
        "ft_model.wv.most_similar(\"улица\")"
      ],
      "metadata": {
        "colab": {
          "base_uri": "https://localhost:8080/"
        },
        "id": "G2pUf3AD7Rs-",
        "outputId": "a7fd86a3-c9af-41c9-d0d1-3a9172330c21"
      },
      "id": "G2pUf3AD7Rs-",
      "execution_count": 30,
      "outputs": [
        {
          "output_type": "execute_result",
          "data": {
            "text/plain": [
              "[('проезд', 0.9205723404884338),\n",
              " ('проспект', 0.9125372767448425),\n",
              " ('переулок', 0.910415530204773),\n",
              " ('село', 0.9048760533332825),\n",
              " ('2001', 0.8998736143112183),\n",
              " ('200', 0.8977962732315063),\n",
              " ('2000', 0.8973424434661865),\n",
              " ('2006', 0.8958120942115784),\n",
              " ('2010', 0.8948951959609985),\n",
              " ('сын', 0.8947665691375732)]"
            ]
          },
          "metadata": {},
          "execution_count": 30
        }
      ]
    },
    {
      "cell_type": "code",
      "source": [
        "ft_model.wv.most_similar(\"должность\")"
      ],
      "metadata": {
        "colab": {
          "base_uri": "https://localhost:8080/"
        },
        "id": "yt2RsqbW7R-e",
        "outputId": "23836fec-decd-4c65-e1db-534adebb311c"
      },
      "id": "yt2RsqbW7R-e",
      "execution_count": 31,
      "outputs": [
        {
          "output_type": "execute_result",
          "data": {
            "text/plain": [
              "[('должный', 0.8775922060012817),\n",
              " ('стать', 0.8772475719451904),\n",
              " ('брать', 0.8760978579521179),\n",
              " ('александровский', 0.8760895729064941),\n",
              " ('избрать', 0.8757808208465576),\n",
              " ('назначить', 0.8729488253593445),\n",
              " ('свердловский', 0.8707107901573181),\n",
              " ('расположенный', 0.8705935478210449),\n",
              " ('николаевский', 0.8693963289260864),\n",
              " ('нить', 0.8693431615829468)]"
            ]
          },
          "metadata": {},
          "execution_count": 31
        }
      ]
    },
    {
      "cell_type": "markdown",
      "id": "e4bb928c",
      "metadata": {
        "id": "e4bb928c"
      },
      "source": [
        "# Задание 3 (3 балла)"
      ]
    },
    {
      "cell_type": "markdown",
      "id": "3019b0d1",
      "metadata": {
        "id": "3019b0d1"
      },
      "source": [
        "Используя датасет для классификации (labeled.csv), обучите классификатор на базе эмбеддингов. Оцените качество на отложенной выборке.   \n",
        "В качестве эмбеддинг модели вы можете использовать одну из моделей обученных в предыдущем задании или использовать одну из предобученных моделей с rusvectores (удостоверьтесь что правильно воспроизводите предобработку в этом случае!)  \n",
        "Для того, чтобы построить эмбединг целого текста, усредните вектора отдельных слов в один общий вектор.\n",
        "В качестве алгоритма классификации используйте LogisicticRegression (можете попробовать SGDClassifier, чтобы было побыстрее)  \n",
        "F1 мера должна быть выше 20%."
      ]
    },
    {
      "cell_type": "code",
      "execution_count": 32,
      "id": "ed908832",
      "metadata": {
        "id": "ed908832",
        "colab": {
          "base_uri": "https://localhost:8080/",
          "height": 104,
          "referenced_widgets": [
            "408d2f0946d64ba6be3d8393d9dd0578",
            "8b43402b2798465fae2bfce76b7d57df",
            "a45987e74dfe462e9a72e680456ea82e",
            "a83ba448f1d2493b9ef6c6d8fa8af65c",
            "087473c9583c41449748c7f89900aaaf",
            "d3d6856e4c794170befafba0667dbef9",
            "511d74c7fd194e24abeac3290848b4e1",
            "625773574d3e4a83982a586322794663",
            "bdc3ce11d30045ef9656cd5c00a6fed1",
            "4fcd70cd33914d28921333b58a2cbaf9",
            "6ed44f773c7d4580891c370e0c5b9dd2"
          ]
        },
        "outputId": "53f22e1c-b2aa-45e6-90ec-d3ee4292bca8"
      },
      "outputs": [
        {
          "output_type": "stream",
          "name": "stderr",
          "text": [
            "/usr/local/lib/python3.10/dist-packages/spacy/util.py:1740: UserWarning: [W111] Jupyter notebook detected: if using `prefer_gpu()` or `require_gpu()`, include it in the same cell right before `spacy.load()` to ensure that the model is loaded on the correct device. More information: http://spacy.io/usage/v3#jupyter-notebook-gpu\n",
            "  warnings.warn(Warnings.W111)\n"
          ]
        },
        {
          "output_type": "display_data",
          "data": {
            "text/plain": [
              "Creating vocab:   0%|          | 0/14412 [00:00<?, ?it/s]"
            ],
            "application/vnd.jupyter.widget-view+json": {
              "version_major": 2,
              "version_minor": 0,
              "model_id": "408d2f0946d64ba6be3d8393d9dd0578"
            }
          },
          "metadata": {}
        }
      ],
      "source": [
        "data = pd.read_csv(\"labeled.csv\")\n",
        "mapper_for_labeled = WordIDMapper(corpus=data[\"comment\"], window=7)"
      ]
    },
    {
      "cell_type": "code",
      "source": [
        "labels = np.array(data[\"toxic\"])\n",
        "texts = mapper_for_labeled.lemmatized_sents\n",
        "\n",
        "embeddings = np.zeros((len(texts), w2v_model.vector_size))\n",
        "for i, text in enumerate(texts):\n",
        "    word_embeddings = [\n",
        "        w2v_model.wv[word] for word in text if word in w2v_model.wv\n",
        "    ]\n",
        "    if word_embeddings:\n",
        "        embeddings[i] = np.mean(word_embeddings, axis=0)\n",
        "\n",
        "X_train, X_test, y_train, y_test = train_test_split(\n",
        "    embeddings, labels, test_size=0.2, random_state=42\n",
        ")"
      ],
      "metadata": {
        "id": "isXyMQlK8LZE"
      },
      "id": "isXyMQlK8LZE",
      "execution_count": 33,
      "outputs": []
    },
    {
      "cell_type": "code",
      "source": [
        "classifier = LogisticRegression(random_state=42)\n",
        "classifier.fit(X_train, y_train)\n",
        "preds = classifier.predict(X_test)\n",
        "print(classification_report(y_test, preds, zero_division=0, digits=4))"
      ],
      "metadata": {
        "colab": {
          "base_uri": "https://localhost:8080/"
        },
        "id": "qkI67-aP-jPf",
        "outputId": "2fd0bb93-1840-4eb3-ecee-adbe01032c5d"
      },
      "id": "qkI67-aP-jPf",
      "execution_count": 34,
      "outputs": [
        {
          "output_type": "stream",
          "name": "stdout",
          "text": [
            "              precision    recall  f1-score   support\n",
            "\n",
            "         0.0     0.7599    0.9264    0.8350      1944\n",
            "         1.0     0.7212    0.3940    0.5096       939\n",
            "\n",
            "    accuracy                         0.7530      2883\n",
            "   macro avg     0.7406    0.6602    0.6723      2883\n",
            "weighted avg     0.7473    0.7530    0.7290      2883\n",
            "\n"
          ]
        }
      ]
    },
    {
      "cell_type": "markdown",
      "id": "60c18c5a",
      "metadata": {
        "id": "60c18c5a"
      },
      "source": [
        "# Задание 4 (2 доп балла)\n",
        "\n",
        "В тетрадку с фастекстом добавьте код для обучения с negative sampling (задача сводится к бинарной классификации) и обучите модель. Проверьте полученную модель на нескольких словах. Похожие слова должны быть похожими по смыслу и по форме."
      ]
    },
    {
      "cell_type": "code",
      "execution_count": null,
      "id": "d437a8c0",
      "metadata": {
        "id": "d437a8c0"
      },
      "outputs": [],
      "source": []
    }
  ],
  "metadata": {
    "kernelspec": {
      "display_name": "Python 3",
      "name": "python3"
    },
    "language_info": {
      "codemirror_mode": {
        "name": "ipython",
        "version": 3
      },
      "file_extension": ".py",
      "mimetype": "text/x-python",
      "name": "python",
      "nbconvert_exporter": "python",
      "pygments_lexer": "ipython3",
      "version": "3.11.7"
    },
    "colab": {
      "provenance": [],
      "gpuType": "T4"
    },
    "accelerator": "GPU",
    "widgets": {
      "application/vnd.jupyter.widget-state+json": {
        "a5b66d53c49d4691bc10c6350dd61510": {
          "model_module": "@jupyter-widgets/controls",
          "model_name": "HBoxModel",
          "model_module_version": "1.5.0",
          "state": {
            "_dom_classes": [],
            "_model_module": "@jupyter-widgets/controls",
            "_model_module_version": "1.5.0",
            "_model_name": "HBoxModel",
            "_view_count": null,
            "_view_module": "@jupyter-widgets/controls",
            "_view_module_version": "1.5.0",
            "_view_name": "HBoxView",
            "box_style": "",
            "children": [
              "IPY_MODEL_b61cb554994c4a9287e02e82ac576714",
              "IPY_MODEL_37f0058fabf8499dac2a505e2a692410",
              "IPY_MODEL_30e3f1b8550842db8ff604247ea6ab38"
            ],
            "layout": "IPY_MODEL_ab2c64c2f86b47daa57efbae8596408d"
          }
        },
        "b61cb554994c4a9287e02e82ac576714": {
          "model_module": "@jupyter-widgets/controls",
          "model_name": "HTMLModel",
          "model_module_version": "1.5.0",
          "state": {
            "_dom_classes": [],
            "_model_module": "@jupyter-widgets/controls",
            "_model_module_version": "1.5.0",
            "_model_name": "HTMLModel",
            "_view_count": null,
            "_view_module": "@jupyter-widgets/controls",
            "_view_module_version": "1.5.0",
            "_view_name": "HTMLView",
            "description": "",
            "description_tooltip": null,
            "layout": "IPY_MODEL_4b40839d00994c67a97d26e37827cbff",
            "placeholder": "​",
            "style": "IPY_MODEL_a66079ee67354f35ae8fb54d155cd475",
            "value": "Creating vocab: 100%"
          }
        },
        "37f0058fabf8499dac2a505e2a692410": {
          "model_module": "@jupyter-widgets/controls",
          "model_name": "FloatProgressModel",
          "model_module_version": "1.5.0",
          "state": {
            "_dom_classes": [],
            "_model_module": "@jupyter-widgets/controls",
            "_model_module_version": "1.5.0",
            "_model_name": "FloatProgressModel",
            "_view_count": null,
            "_view_module": "@jupyter-widgets/controls",
            "_view_module_version": "1.5.0",
            "_view_name": "ProgressView",
            "bar_style": "success",
            "description": "",
            "description_tooltip": null,
            "layout": "IPY_MODEL_08b93770d3b44f00b2019e2ff13d6262",
            "max": 20003,
            "min": 0,
            "orientation": "horizontal",
            "style": "IPY_MODEL_6ed474b5285f43a98b4b5ba8af4c5109",
            "value": 20003
          }
        },
        "30e3f1b8550842db8ff604247ea6ab38": {
          "model_module": "@jupyter-widgets/controls",
          "model_name": "HTMLModel",
          "model_module_version": "1.5.0",
          "state": {
            "_dom_classes": [],
            "_model_module": "@jupyter-widgets/controls",
            "_model_module_version": "1.5.0",
            "_model_name": "HTMLModel",
            "_view_count": null,
            "_view_module": "@jupyter-widgets/controls",
            "_view_module_version": "1.5.0",
            "_view_name": "HTMLView",
            "description": "",
            "description_tooltip": null,
            "layout": "IPY_MODEL_1fb9baebfb4b4b30a3b031af927ab2f9",
            "placeholder": "​",
            "style": "IPY_MODEL_1f99305fea6a49188210258968ff7bf0",
            "value": " 20003/20003 [45:05&lt;00:00,  1.76it/s]"
          }
        },
        "ab2c64c2f86b47daa57efbae8596408d": {
          "model_module": "@jupyter-widgets/base",
          "model_name": "LayoutModel",
          "model_module_version": "1.2.0",
          "state": {
            "_model_module": "@jupyter-widgets/base",
            "_model_module_version": "1.2.0",
            "_model_name": "LayoutModel",
            "_view_count": null,
            "_view_module": "@jupyter-widgets/base",
            "_view_module_version": "1.2.0",
            "_view_name": "LayoutView",
            "align_content": null,
            "align_items": null,
            "align_self": null,
            "border": null,
            "bottom": null,
            "display": null,
            "flex": null,
            "flex_flow": null,
            "grid_area": null,
            "grid_auto_columns": null,
            "grid_auto_flow": null,
            "grid_auto_rows": null,
            "grid_column": null,
            "grid_gap": null,
            "grid_row": null,
            "grid_template_areas": null,
            "grid_template_columns": null,
            "grid_template_rows": null,
            "height": null,
            "justify_content": null,
            "justify_items": null,
            "left": null,
            "margin": null,
            "max_height": null,
            "max_width": null,
            "min_height": null,
            "min_width": null,
            "object_fit": null,
            "object_position": null,
            "order": null,
            "overflow": null,
            "overflow_x": null,
            "overflow_y": null,
            "padding": null,
            "right": null,
            "top": null,
            "visibility": null,
            "width": null
          }
        },
        "4b40839d00994c67a97d26e37827cbff": {
          "model_module": "@jupyter-widgets/base",
          "model_name": "LayoutModel",
          "model_module_version": "1.2.0",
          "state": {
            "_model_module": "@jupyter-widgets/base",
            "_model_module_version": "1.2.0",
            "_model_name": "LayoutModel",
            "_view_count": null,
            "_view_module": "@jupyter-widgets/base",
            "_view_module_version": "1.2.0",
            "_view_name": "LayoutView",
            "align_content": null,
            "align_items": null,
            "align_self": null,
            "border": null,
            "bottom": null,
            "display": null,
            "flex": null,
            "flex_flow": null,
            "grid_area": null,
            "grid_auto_columns": null,
            "grid_auto_flow": null,
            "grid_auto_rows": null,
            "grid_column": null,
            "grid_gap": null,
            "grid_row": null,
            "grid_template_areas": null,
            "grid_template_columns": null,
            "grid_template_rows": null,
            "height": null,
            "justify_content": null,
            "justify_items": null,
            "left": null,
            "margin": null,
            "max_height": null,
            "max_width": null,
            "min_height": null,
            "min_width": null,
            "object_fit": null,
            "object_position": null,
            "order": null,
            "overflow": null,
            "overflow_x": null,
            "overflow_y": null,
            "padding": null,
            "right": null,
            "top": null,
            "visibility": null,
            "width": null
          }
        },
        "a66079ee67354f35ae8fb54d155cd475": {
          "model_module": "@jupyter-widgets/controls",
          "model_name": "DescriptionStyleModel",
          "model_module_version": "1.5.0",
          "state": {
            "_model_module": "@jupyter-widgets/controls",
            "_model_module_version": "1.5.0",
            "_model_name": "DescriptionStyleModel",
            "_view_count": null,
            "_view_module": "@jupyter-widgets/base",
            "_view_module_version": "1.2.0",
            "_view_name": "StyleView",
            "description_width": ""
          }
        },
        "08b93770d3b44f00b2019e2ff13d6262": {
          "model_module": "@jupyter-widgets/base",
          "model_name": "LayoutModel",
          "model_module_version": "1.2.0",
          "state": {
            "_model_module": "@jupyter-widgets/base",
            "_model_module_version": "1.2.0",
            "_model_name": "LayoutModel",
            "_view_count": null,
            "_view_module": "@jupyter-widgets/base",
            "_view_module_version": "1.2.0",
            "_view_name": "LayoutView",
            "align_content": null,
            "align_items": null,
            "align_self": null,
            "border": null,
            "bottom": null,
            "display": null,
            "flex": null,
            "flex_flow": null,
            "grid_area": null,
            "grid_auto_columns": null,
            "grid_auto_flow": null,
            "grid_auto_rows": null,
            "grid_column": null,
            "grid_gap": null,
            "grid_row": null,
            "grid_template_areas": null,
            "grid_template_columns": null,
            "grid_template_rows": null,
            "height": null,
            "justify_content": null,
            "justify_items": null,
            "left": null,
            "margin": null,
            "max_height": null,
            "max_width": null,
            "min_height": null,
            "min_width": null,
            "object_fit": null,
            "object_position": null,
            "order": null,
            "overflow": null,
            "overflow_x": null,
            "overflow_y": null,
            "padding": null,
            "right": null,
            "top": null,
            "visibility": null,
            "width": null
          }
        },
        "6ed474b5285f43a98b4b5ba8af4c5109": {
          "model_module": "@jupyter-widgets/controls",
          "model_name": "ProgressStyleModel",
          "model_module_version": "1.5.0",
          "state": {
            "_model_module": "@jupyter-widgets/controls",
            "_model_module_version": "1.5.0",
            "_model_name": "ProgressStyleModel",
            "_view_count": null,
            "_view_module": "@jupyter-widgets/base",
            "_view_module_version": "1.2.0",
            "_view_name": "StyleView",
            "bar_color": null,
            "description_width": ""
          }
        },
        "1fb9baebfb4b4b30a3b031af927ab2f9": {
          "model_module": "@jupyter-widgets/base",
          "model_name": "LayoutModel",
          "model_module_version": "1.2.0",
          "state": {
            "_model_module": "@jupyter-widgets/base",
            "_model_module_version": "1.2.0",
            "_model_name": "LayoutModel",
            "_view_count": null,
            "_view_module": "@jupyter-widgets/base",
            "_view_module_version": "1.2.0",
            "_view_name": "LayoutView",
            "align_content": null,
            "align_items": null,
            "align_self": null,
            "border": null,
            "bottom": null,
            "display": null,
            "flex": null,
            "flex_flow": null,
            "grid_area": null,
            "grid_auto_columns": null,
            "grid_auto_flow": null,
            "grid_auto_rows": null,
            "grid_column": null,
            "grid_gap": null,
            "grid_row": null,
            "grid_template_areas": null,
            "grid_template_columns": null,
            "grid_template_rows": null,
            "height": null,
            "justify_content": null,
            "justify_items": null,
            "left": null,
            "margin": null,
            "max_height": null,
            "max_width": null,
            "min_height": null,
            "min_width": null,
            "object_fit": null,
            "object_position": null,
            "order": null,
            "overflow": null,
            "overflow_x": null,
            "overflow_y": null,
            "padding": null,
            "right": null,
            "top": null,
            "visibility": null,
            "width": null
          }
        },
        "1f99305fea6a49188210258968ff7bf0": {
          "model_module": "@jupyter-widgets/controls",
          "model_name": "DescriptionStyleModel",
          "model_module_version": "1.5.0",
          "state": {
            "_model_module": "@jupyter-widgets/controls",
            "_model_module_version": "1.5.0",
            "_model_name": "DescriptionStyleModel",
            "_view_count": null,
            "_view_module": "@jupyter-widgets/base",
            "_view_module_version": "1.2.0",
            "_view_name": "StyleView",
            "description_width": ""
          }
        },
        "408d2f0946d64ba6be3d8393d9dd0578": {
          "model_module": "@jupyter-widgets/controls",
          "model_name": "HBoxModel",
          "model_module_version": "1.5.0",
          "state": {
            "_dom_classes": [],
            "_model_module": "@jupyter-widgets/controls",
            "_model_module_version": "1.5.0",
            "_model_name": "HBoxModel",
            "_view_count": null,
            "_view_module": "@jupyter-widgets/controls",
            "_view_module_version": "1.5.0",
            "_view_name": "HBoxView",
            "box_style": "",
            "children": [
              "IPY_MODEL_8b43402b2798465fae2bfce76b7d57df",
              "IPY_MODEL_a45987e74dfe462e9a72e680456ea82e",
              "IPY_MODEL_a83ba448f1d2493b9ef6c6d8fa8af65c"
            ],
            "layout": "IPY_MODEL_087473c9583c41449748c7f89900aaaf"
          }
        },
        "8b43402b2798465fae2bfce76b7d57df": {
          "model_module": "@jupyter-widgets/controls",
          "model_name": "HTMLModel",
          "model_module_version": "1.5.0",
          "state": {
            "_dom_classes": [],
            "_model_module": "@jupyter-widgets/controls",
            "_model_module_version": "1.5.0",
            "_model_name": "HTMLModel",
            "_view_count": null,
            "_view_module": "@jupyter-widgets/controls",
            "_view_module_version": "1.5.0",
            "_view_name": "HTMLView",
            "description": "",
            "description_tooltip": null,
            "layout": "IPY_MODEL_d3d6856e4c794170befafba0667dbef9",
            "placeholder": "​",
            "style": "IPY_MODEL_511d74c7fd194e24abeac3290848b4e1",
            "value": "Creating vocab: 100%"
          }
        },
        "a45987e74dfe462e9a72e680456ea82e": {
          "model_module": "@jupyter-widgets/controls",
          "model_name": "FloatProgressModel",
          "model_module_version": "1.5.0",
          "state": {
            "_dom_classes": [],
            "_model_module": "@jupyter-widgets/controls",
            "_model_module_version": "1.5.0",
            "_model_name": "FloatProgressModel",
            "_view_count": null,
            "_view_module": "@jupyter-widgets/controls",
            "_view_module_version": "1.5.0",
            "_view_name": "ProgressView",
            "bar_style": "success",
            "description": "",
            "description_tooltip": null,
            "layout": "IPY_MODEL_625773574d3e4a83982a586322794663",
            "max": 14412,
            "min": 0,
            "orientation": "horizontal",
            "style": "IPY_MODEL_bdc3ce11d30045ef9656cd5c00a6fed1",
            "value": 14412
          }
        },
        "a83ba448f1d2493b9ef6c6d8fa8af65c": {
          "model_module": "@jupyter-widgets/controls",
          "model_name": "HTMLModel",
          "model_module_version": "1.5.0",
          "state": {
            "_dom_classes": [],
            "_model_module": "@jupyter-widgets/controls",
            "_model_module_version": "1.5.0",
            "_model_name": "HTMLModel",
            "_view_count": null,
            "_view_module": "@jupyter-widgets/controls",
            "_view_module_version": "1.5.0",
            "_view_name": "HTMLView",
            "description": "",
            "description_tooltip": null,
            "layout": "IPY_MODEL_4fcd70cd33914d28921333b58a2cbaf9",
            "placeholder": "​",
            "style": "IPY_MODEL_6ed44f773c7d4580891c370e0c5b9dd2",
            "value": " 14412/14412 [04:39&lt;00:00, 49.77it/s]"
          }
        },
        "087473c9583c41449748c7f89900aaaf": {
          "model_module": "@jupyter-widgets/base",
          "model_name": "LayoutModel",
          "model_module_version": "1.2.0",
          "state": {
            "_model_module": "@jupyter-widgets/base",
            "_model_module_version": "1.2.0",
            "_model_name": "LayoutModel",
            "_view_count": null,
            "_view_module": "@jupyter-widgets/base",
            "_view_module_version": "1.2.0",
            "_view_name": "LayoutView",
            "align_content": null,
            "align_items": null,
            "align_self": null,
            "border": null,
            "bottom": null,
            "display": null,
            "flex": null,
            "flex_flow": null,
            "grid_area": null,
            "grid_auto_columns": null,
            "grid_auto_flow": null,
            "grid_auto_rows": null,
            "grid_column": null,
            "grid_gap": null,
            "grid_row": null,
            "grid_template_areas": null,
            "grid_template_columns": null,
            "grid_template_rows": null,
            "height": null,
            "justify_content": null,
            "justify_items": null,
            "left": null,
            "margin": null,
            "max_height": null,
            "max_width": null,
            "min_height": null,
            "min_width": null,
            "object_fit": null,
            "object_position": null,
            "order": null,
            "overflow": null,
            "overflow_x": null,
            "overflow_y": null,
            "padding": null,
            "right": null,
            "top": null,
            "visibility": null,
            "width": null
          }
        },
        "d3d6856e4c794170befafba0667dbef9": {
          "model_module": "@jupyter-widgets/base",
          "model_name": "LayoutModel",
          "model_module_version": "1.2.0",
          "state": {
            "_model_module": "@jupyter-widgets/base",
            "_model_module_version": "1.2.0",
            "_model_name": "LayoutModel",
            "_view_count": null,
            "_view_module": "@jupyter-widgets/base",
            "_view_module_version": "1.2.0",
            "_view_name": "LayoutView",
            "align_content": null,
            "align_items": null,
            "align_self": null,
            "border": null,
            "bottom": null,
            "display": null,
            "flex": null,
            "flex_flow": null,
            "grid_area": null,
            "grid_auto_columns": null,
            "grid_auto_flow": null,
            "grid_auto_rows": null,
            "grid_column": null,
            "grid_gap": null,
            "grid_row": null,
            "grid_template_areas": null,
            "grid_template_columns": null,
            "grid_template_rows": null,
            "height": null,
            "justify_content": null,
            "justify_items": null,
            "left": null,
            "margin": null,
            "max_height": null,
            "max_width": null,
            "min_height": null,
            "min_width": null,
            "object_fit": null,
            "object_position": null,
            "order": null,
            "overflow": null,
            "overflow_x": null,
            "overflow_y": null,
            "padding": null,
            "right": null,
            "top": null,
            "visibility": null,
            "width": null
          }
        },
        "511d74c7fd194e24abeac3290848b4e1": {
          "model_module": "@jupyter-widgets/controls",
          "model_name": "DescriptionStyleModel",
          "model_module_version": "1.5.0",
          "state": {
            "_model_module": "@jupyter-widgets/controls",
            "_model_module_version": "1.5.0",
            "_model_name": "DescriptionStyleModel",
            "_view_count": null,
            "_view_module": "@jupyter-widgets/base",
            "_view_module_version": "1.2.0",
            "_view_name": "StyleView",
            "description_width": ""
          }
        },
        "625773574d3e4a83982a586322794663": {
          "model_module": "@jupyter-widgets/base",
          "model_name": "LayoutModel",
          "model_module_version": "1.2.0",
          "state": {
            "_model_module": "@jupyter-widgets/base",
            "_model_module_version": "1.2.0",
            "_model_name": "LayoutModel",
            "_view_count": null,
            "_view_module": "@jupyter-widgets/base",
            "_view_module_version": "1.2.0",
            "_view_name": "LayoutView",
            "align_content": null,
            "align_items": null,
            "align_self": null,
            "border": null,
            "bottom": null,
            "display": null,
            "flex": null,
            "flex_flow": null,
            "grid_area": null,
            "grid_auto_columns": null,
            "grid_auto_flow": null,
            "grid_auto_rows": null,
            "grid_column": null,
            "grid_gap": null,
            "grid_row": null,
            "grid_template_areas": null,
            "grid_template_columns": null,
            "grid_template_rows": null,
            "height": null,
            "justify_content": null,
            "justify_items": null,
            "left": null,
            "margin": null,
            "max_height": null,
            "max_width": null,
            "min_height": null,
            "min_width": null,
            "object_fit": null,
            "object_position": null,
            "order": null,
            "overflow": null,
            "overflow_x": null,
            "overflow_y": null,
            "padding": null,
            "right": null,
            "top": null,
            "visibility": null,
            "width": null
          }
        },
        "bdc3ce11d30045ef9656cd5c00a6fed1": {
          "model_module": "@jupyter-widgets/controls",
          "model_name": "ProgressStyleModel",
          "model_module_version": "1.5.0",
          "state": {
            "_model_module": "@jupyter-widgets/controls",
            "_model_module_version": "1.5.0",
            "_model_name": "ProgressStyleModel",
            "_view_count": null,
            "_view_module": "@jupyter-widgets/base",
            "_view_module_version": "1.2.0",
            "_view_name": "StyleView",
            "bar_color": null,
            "description_width": ""
          }
        },
        "4fcd70cd33914d28921333b58a2cbaf9": {
          "model_module": "@jupyter-widgets/base",
          "model_name": "LayoutModel",
          "model_module_version": "1.2.0",
          "state": {
            "_model_module": "@jupyter-widgets/base",
            "_model_module_version": "1.2.0",
            "_model_name": "LayoutModel",
            "_view_count": null,
            "_view_module": "@jupyter-widgets/base",
            "_view_module_version": "1.2.0",
            "_view_name": "LayoutView",
            "align_content": null,
            "align_items": null,
            "align_self": null,
            "border": null,
            "bottom": null,
            "display": null,
            "flex": null,
            "flex_flow": null,
            "grid_area": null,
            "grid_auto_columns": null,
            "grid_auto_flow": null,
            "grid_auto_rows": null,
            "grid_column": null,
            "grid_gap": null,
            "grid_row": null,
            "grid_template_areas": null,
            "grid_template_columns": null,
            "grid_template_rows": null,
            "height": null,
            "justify_content": null,
            "justify_items": null,
            "left": null,
            "margin": null,
            "max_height": null,
            "max_width": null,
            "min_height": null,
            "min_width": null,
            "object_fit": null,
            "object_position": null,
            "order": null,
            "overflow": null,
            "overflow_x": null,
            "overflow_y": null,
            "padding": null,
            "right": null,
            "top": null,
            "visibility": null,
            "width": null
          }
        },
        "6ed44f773c7d4580891c370e0c5b9dd2": {
          "model_module": "@jupyter-widgets/controls",
          "model_name": "DescriptionStyleModel",
          "model_module_version": "1.5.0",
          "state": {
            "_model_module": "@jupyter-widgets/controls",
            "_model_module_version": "1.5.0",
            "_model_name": "DescriptionStyleModel",
            "_view_count": null,
            "_view_module": "@jupyter-widgets/base",
            "_view_module_version": "1.2.0",
            "_view_name": "StyleView",
            "description_width": ""
          }
        }
      }
    }
  },
  "nbformat": 4,
  "nbformat_minor": 5
}